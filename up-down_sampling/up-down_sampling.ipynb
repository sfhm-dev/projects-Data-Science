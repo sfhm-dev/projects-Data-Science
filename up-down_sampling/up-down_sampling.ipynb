{
 "cells": [
  {
   "cell_type": "markdown",
   "metadata": {},
   "source": [
    "# Прогнозирование оттока клиентов"
   ]
  },
  {
   "cell_type": "markdown",
   "metadata": {},
   "source": [
    "Нужно спрогнозировать, уйдёт клиент из банка в ближайшее время или нет. Предоставлены исторические данные о поведении клиентов и расторжении договоров с банком. \n",
    "\n",
    "Необходимо построить модель с предельно большим значением *F1*-меры.\n",
    "\n",
    "Источник данных: [https://www.kaggle.com/barelydedicated/bank-customer-churn-modeling](https://www.kaggle.com/barelydedicated/bank-customer-churn-modeling)"
   ]
  },
  {
   "cell_type": "markdown",
   "metadata": {},
   "source": [
    "### Описание данных\n",
    "Признаки:<ul>\n",
    "    <li>RowNumber — индекс строки в данных</li>\n",
    "    <li>CustomerId — уникальный идентификатор клиента</li>\n",
    "    <li>Surname — фамилия</li>\n",
    "    <li>CreditScore — кредитный рейтинг</li>\n",
    "    <li>Geography — страна проживания</li>\n",
    "    <li>Gender — пол</li>\n",
    "    <li>Age — возраст</li>\n",
    "    <li>Tenure — количество недвижимости у клиента</li>\n",
    "    <li>Balance — баланс на счёте</li>\n",
    "    <li>NumOfProducts — количество продуктов банка, используемых клиентом</li>\n",
    "    <li>HasCrCard — наличие кредитной карты</li>\n",
    "    <li>IsActiveMember — активность клиента</li>\n",
    "    <li>EstimatedSalary — предполагаемая зарплата</li></ul>"
   ]
  },
  {
   "cell_type": "markdown",
   "metadata": {},
   "source": [
    "### План работы:\n",
    "<a href='#step_1'>Шаг 1. Получение общей информации и подготвка данных.</a><br>\n",
    "На первом этапе импортируем необходимые библиотеки и читаем файл, знакомимся с общей информацией, выставляем необходимые типы данных, заполняем пропуски.<br>\n",
    "<a href='#step_2'>Шаг 2. Разбиение данных и обучение моделей без учета дисбаланса.</a><br>\n",
    "На втором шаге разбиваем данные на выборки, обучаем модели без учета дисбаланса.<br>\n",
    "<a href='#step_3'>Шаг 3. Обучение и проверка моделей с учетом дисбаланса.</a><br>\n",
    "Исправляем дисбаланс классов разными методами.<br>\n",
    "<a href='#step_4'>Шаг 4. Проверка моделей на тестовой выборке.</a><br>\n",
    "Проверяем модели на тестовых данных.<br>"
   ]
  },
  {
   "cell_type": "markdown",
   "metadata": {},
   "source": [
    "# 1. Подготовка данных"
   ]
  },
  {
   "cell_type": "markdown",
   "metadata": {},
   "source": [
    "<a id = \"step_1\"></a>"
   ]
  },
  {
   "cell_type": "code",
   "execution_count": 1,
   "metadata": {
    "scrolled": false
   },
   "outputs": [],
   "source": [
    "import pandas as pd \n",
    "import matplotlib.pyplot as plt\n",
    "from sklearn.tree import DecisionTreeClassifier\n",
    "from sklearn.ensemble import RandomForestClassifier\n",
    "from sklearn.linear_model import LogisticRegression\n",
    "from sklearn.model_selection import train_test_split\n",
    "from sklearn.metrics import roc_auc_score\n",
    "from tqdm import tqdm\n",
    "from sklearn.metrics import roc_curve\n",
    "from sklearn.metrics import f1_score\n",
    "from sklearn.utils import shuffle\n",
    "from sklearn.metrics import roc_auc_score\n",
    "from sklearn.preprocessing import StandardScaler\n",
    "import warnings\n",
    "warnings.filterwarnings(\"ignore\")"
   ]
  },
  {
   "cell_type": "code",
   "execution_count": 2,
   "metadata": {},
   "outputs": [
    {
     "name": "stdout",
     "output_type": "stream",
     "text": [
      "<class 'pandas.core.frame.DataFrame'>\n",
      "Int64Index: 10000 entries, 1 to 10000\n",
      "Data columns (total 13 columns):\n",
      "CustomerId         10000 non-null int64\n",
      "Surname            10000 non-null object\n",
      "CreditScore        10000 non-null int64\n",
      "Geography          10000 non-null object\n",
      "Gender             10000 non-null object\n",
      "Age                10000 non-null int64\n",
      "Tenure             9091 non-null float64\n",
      "Balance            10000 non-null float64\n",
      "NumOfProducts      10000 non-null int64\n",
      "HasCrCard          10000 non-null int64\n",
      "IsActiveMember     10000 non-null int64\n",
      "EstimatedSalary    10000 non-null float64\n",
      "Exited             10000 non-null int64\n",
      "dtypes: float64(3), int64(7), object(3)\n",
      "memory usage: 1.1+ MB\n"
     ]
    },
    {
     "data": {
      "text/html": [
       "<div>\n",
       "<style scoped>\n",
       "    .dataframe tbody tr th:only-of-type {\n",
       "        vertical-align: middle;\n",
       "    }\n",
       "\n",
       "    .dataframe tbody tr th {\n",
       "        vertical-align: top;\n",
       "    }\n",
       "\n",
       "    .dataframe thead th {\n",
       "        text-align: right;\n",
       "    }\n",
       "</style>\n",
       "<table border=\"1\" class=\"dataframe\">\n",
       "  <thead>\n",
       "    <tr style=\"text-align: right;\">\n",
       "      <th></th>\n",
       "      <th>CustomerId</th>\n",
       "      <th>CreditScore</th>\n",
       "      <th>Age</th>\n",
       "      <th>Tenure</th>\n",
       "      <th>Balance</th>\n",
       "      <th>NumOfProducts</th>\n",
       "      <th>HasCrCard</th>\n",
       "      <th>IsActiveMember</th>\n",
       "      <th>EstimatedSalary</th>\n",
       "      <th>Exited</th>\n",
       "    </tr>\n",
       "  </thead>\n",
       "  <tbody>\n",
       "    <tr>\n",
       "      <td>count</td>\n",
       "      <td>1.000000e+04</td>\n",
       "      <td>10000.000000</td>\n",
       "      <td>10000.000000</td>\n",
       "      <td>9091.000000</td>\n",
       "      <td>10000.000000</td>\n",
       "      <td>10000.000000</td>\n",
       "      <td>10000.00000</td>\n",
       "      <td>10000.000000</td>\n",
       "      <td>10000.000000</td>\n",
       "      <td>10000.000000</td>\n",
       "    </tr>\n",
       "    <tr>\n",
       "      <td>mean</td>\n",
       "      <td>1.569094e+07</td>\n",
       "      <td>650.528800</td>\n",
       "      <td>38.921800</td>\n",
       "      <td>4.997690</td>\n",
       "      <td>76485.889288</td>\n",
       "      <td>1.530200</td>\n",
       "      <td>0.70550</td>\n",
       "      <td>0.515100</td>\n",
       "      <td>100090.239881</td>\n",
       "      <td>0.203700</td>\n",
       "    </tr>\n",
       "    <tr>\n",
       "      <td>std</td>\n",
       "      <td>7.193619e+04</td>\n",
       "      <td>96.653299</td>\n",
       "      <td>10.487806</td>\n",
       "      <td>2.894723</td>\n",
       "      <td>62397.405202</td>\n",
       "      <td>0.581654</td>\n",
       "      <td>0.45584</td>\n",
       "      <td>0.499797</td>\n",
       "      <td>57510.492818</td>\n",
       "      <td>0.402769</td>\n",
       "    </tr>\n",
       "    <tr>\n",
       "      <td>min</td>\n",
       "      <td>1.556570e+07</td>\n",
       "      <td>350.000000</td>\n",
       "      <td>18.000000</td>\n",
       "      <td>0.000000</td>\n",
       "      <td>0.000000</td>\n",
       "      <td>1.000000</td>\n",
       "      <td>0.00000</td>\n",
       "      <td>0.000000</td>\n",
       "      <td>11.580000</td>\n",
       "      <td>0.000000</td>\n",
       "    </tr>\n",
       "    <tr>\n",
       "      <td>25%</td>\n",
       "      <td>1.562853e+07</td>\n",
       "      <td>584.000000</td>\n",
       "      <td>32.000000</td>\n",
       "      <td>2.000000</td>\n",
       "      <td>0.000000</td>\n",
       "      <td>1.000000</td>\n",
       "      <td>0.00000</td>\n",
       "      <td>0.000000</td>\n",
       "      <td>51002.110000</td>\n",
       "      <td>0.000000</td>\n",
       "    </tr>\n",
       "    <tr>\n",
       "      <td>50%</td>\n",
       "      <td>1.569074e+07</td>\n",
       "      <td>652.000000</td>\n",
       "      <td>37.000000</td>\n",
       "      <td>5.000000</td>\n",
       "      <td>97198.540000</td>\n",
       "      <td>1.000000</td>\n",
       "      <td>1.00000</td>\n",
       "      <td>1.000000</td>\n",
       "      <td>100193.915000</td>\n",
       "      <td>0.000000</td>\n",
       "    </tr>\n",
       "    <tr>\n",
       "      <td>75%</td>\n",
       "      <td>1.575323e+07</td>\n",
       "      <td>718.000000</td>\n",
       "      <td>44.000000</td>\n",
       "      <td>7.000000</td>\n",
       "      <td>127644.240000</td>\n",
       "      <td>2.000000</td>\n",
       "      <td>1.00000</td>\n",
       "      <td>1.000000</td>\n",
       "      <td>149388.247500</td>\n",
       "      <td>0.000000</td>\n",
       "    </tr>\n",
       "    <tr>\n",
       "      <td>max</td>\n",
       "      <td>1.581569e+07</td>\n",
       "      <td>850.000000</td>\n",
       "      <td>92.000000</td>\n",
       "      <td>10.000000</td>\n",
       "      <td>250898.090000</td>\n",
       "      <td>4.000000</td>\n",
       "      <td>1.00000</td>\n",
       "      <td>1.000000</td>\n",
       "      <td>199992.480000</td>\n",
       "      <td>1.000000</td>\n",
       "    </tr>\n",
       "  </tbody>\n",
       "</table>\n",
       "</div>"
      ],
      "text/plain": [
       "         CustomerId   CreditScore           Age       Tenure        Balance  \\\n",
       "count  1.000000e+04  10000.000000  10000.000000  9091.000000   10000.000000   \n",
       "mean   1.569094e+07    650.528800     38.921800     4.997690   76485.889288   \n",
       "std    7.193619e+04     96.653299     10.487806     2.894723   62397.405202   \n",
       "min    1.556570e+07    350.000000     18.000000     0.000000       0.000000   \n",
       "25%    1.562853e+07    584.000000     32.000000     2.000000       0.000000   \n",
       "50%    1.569074e+07    652.000000     37.000000     5.000000   97198.540000   \n",
       "75%    1.575323e+07    718.000000     44.000000     7.000000  127644.240000   \n",
       "max    1.581569e+07    850.000000     92.000000    10.000000  250898.090000   \n",
       "\n",
       "       NumOfProducts    HasCrCard  IsActiveMember  EstimatedSalary  \\\n",
       "count   10000.000000  10000.00000    10000.000000     10000.000000   \n",
       "mean        1.530200      0.70550        0.515100    100090.239881   \n",
       "std         0.581654      0.45584        0.499797     57510.492818   \n",
       "min         1.000000      0.00000        0.000000        11.580000   \n",
       "25%         1.000000      0.00000        0.000000     51002.110000   \n",
       "50%         1.000000      1.00000        1.000000    100193.915000   \n",
       "75%         2.000000      1.00000        1.000000    149388.247500   \n",
       "max         4.000000      1.00000        1.000000    199992.480000   \n",
       "\n",
       "             Exited  \n",
       "count  10000.000000  \n",
       "mean       0.203700  \n",
       "std        0.402769  \n",
       "min        0.000000  \n",
       "25%        0.000000  \n",
       "50%        0.000000  \n",
       "75%        0.000000  \n",
       "max        1.000000  "
      ]
     },
     "metadata": {},
     "output_type": "display_data"
    },
    {
     "data": {
      "text/html": [
       "<div>\n",
       "<style scoped>\n",
       "    .dataframe tbody tr th:only-of-type {\n",
       "        vertical-align: middle;\n",
       "    }\n",
       "\n",
       "    .dataframe tbody tr th {\n",
       "        vertical-align: top;\n",
       "    }\n",
       "\n",
       "    .dataframe thead th {\n",
       "        text-align: right;\n",
       "    }\n",
       "</style>\n",
       "<table border=\"1\" class=\"dataframe\">\n",
       "  <thead>\n",
       "    <tr style=\"text-align: right;\">\n",
       "      <th></th>\n",
       "      <th>CustomerId</th>\n",
       "      <th>Surname</th>\n",
       "      <th>CreditScore</th>\n",
       "      <th>Geography</th>\n",
       "      <th>Gender</th>\n",
       "      <th>Age</th>\n",
       "      <th>Tenure</th>\n",
       "      <th>Balance</th>\n",
       "      <th>NumOfProducts</th>\n",
       "      <th>HasCrCard</th>\n",
       "      <th>IsActiveMember</th>\n",
       "      <th>EstimatedSalary</th>\n",
       "      <th>Exited</th>\n",
       "    </tr>\n",
       "    <tr>\n",
       "      <th>RowNumber</th>\n",
       "      <th></th>\n",
       "      <th></th>\n",
       "      <th></th>\n",
       "      <th></th>\n",
       "      <th></th>\n",
       "      <th></th>\n",
       "      <th></th>\n",
       "      <th></th>\n",
       "      <th></th>\n",
       "      <th></th>\n",
       "      <th></th>\n",
       "      <th></th>\n",
       "      <th></th>\n",
       "    </tr>\n",
       "  </thead>\n",
       "  <tbody>\n",
       "    <tr>\n",
       "      <td>1</td>\n",
       "      <td>15634602</td>\n",
       "      <td>Hargrave</td>\n",
       "      <td>619</td>\n",
       "      <td>France</td>\n",
       "      <td>Female</td>\n",
       "      <td>42</td>\n",
       "      <td>2.0</td>\n",
       "      <td>0.00</td>\n",
       "      <td>1</td>\n",
       "      <td>1</td>\n",
       "      <td>1</td>\n",
       "      <td>101348.88</td>\n",
       "      <td>1</td>\n",
       "    </tr>\n",
       "    <tr>\n",
       "      <td>2</td>\n",
       "      <td>15647311</td>\n",
       "      <td>Hill</td>\n",
       "      <td>608</td>\n",
       "      <td>Spain</td>\n",
       "      <td>Female</td>\n",
       "      <td>41</td>\n",
       "      <td>1.0</td>\n",
       "      <td>83807.86</td>\n",
       "      <td>1</td>\n",
       "      <td>0</td>\n",
       "      <td>1</td>\n",
       "      <td>112542.58</td>\n",
       "      <td>0</td>\n",
       "    </tr>\n",
       "    <tr>\n",
       "      <td>3</td>\n",
       "      <td>15619304</td>\n",
       "      <td>Onio</td>\n",
       "      <td>502</td>\n",
       "      <td>France</td>\n",
       "      <td>Female</td>\n",
       "      <td>42</td>\n",
       "      <td>8.0</td>\n",
       "      <td>159660.80</td>\n",
       "      <td>3</td>\n",
       "      <td>1</td>\n",
       "      <td>0</td>\n",
       "      <td>113931.57</td>\n",
       "      <td>1</td>\n",
       "    </tr>\n",
       "    <tr>\n",
       "      <td>4</td>\n",
       "      <td>15701354</td>\n",
       "      <td>Boni</td>\n",
       "      <td>699</td>\n",
       "      <td>France</td>\n",
       "      <td>Female</td>\n",
       "      <td>39</td>\n",
       "      <td>1.0</td>\n",
       "      <td>0.00</td>\n",
       "      <td>2</td>\n",
       "      <td>0</td>\n",
       "      <td>0</td>\n",
       "      <td>93826.63</td>\n",
       "      <td>0</td>\n",
       "    </tr>\n",
       "    <tr>\n",
       "      <td>5</td>\n",
       "      <td>15737888</td>\n",
       "      <td>Mitchell</td>\n",
       "      <td>850</td>\n",
       "      <td>Spain</td>\n",
       "      <td>Female</td>\n",
       "      <td>43</td>\n",
       "      <td>2.0</td>\n",
       "      <td>125510.82</td>\n",
       "      <td>1</td>\n",
       "      <td>1</td>\n",
       "      <td>1</td>\n",
       "      <td>79084.10</td>\n",
       "      <td>0</td>\n",
       "    </tr>\n",
       "  </tbody>\n",
       "</table>\n",
       "</div>"
      ],
      "text/plain": [
       "           CustomerId   Surname  CreditScore Geography  Gender  Age  Tenure  \\\n",
       "RowNumber                                                                     \n",
       "1            15634602  Hargrave          619    France  Female   42     2.0   \n",
       "2            15647311      Hill          608     Spain  Female   41     1.0   \n",
       "3            15619304      Onio          502    France  Female   42     8.0   \n",
       "4            15701354      Boni          699    France  Female   39     1.0   \n",
       "5            15737888  Mitchell          850     Spain  Female   43     2.0   \n",
       "\n",
       "             Balance  NumOfProducts  HasCrCard  IsActiveMember  \\\n",
       "RowNumber                                                        \n",
       "1               0.00              1          1               1   \n",
       "2           83807.86              1          0               1   \n",
       "3          159660.80              3          1               0   \n",
       "4               0.00              2          0               0   \n",
       "5          125510.82              1          1               1   \n",
       "\n",
       "           EstimatedSalary  Exited  \n",
       "RowNumber                           \n",
       "1                101348.88       1  \n",
       "2                112542.58       0  \n",
       "3                113931.57       1  \n",
       "4                 93826.63       0  \n",
       "5                 79084.10       0  "
      ]
     },
     "execution_count": 2,
     "metadata": {},
     "output_type": "execute_result"
    }
   ],
   "source": [
    "data = pd.read_csv('/datasets/Churn.csv', index_col = 0)\n",
    "data.info()\n",
    "display(data.describe())\n",
    "data.head()"
   ]
  },
  {
   "cell_type": "markdown",
   "metadata": {},
   "source": [
    "Количество недвижимости нужно перевести в int, баланс с зарплатой тоже.<br>\n",
    "Столбец с полом перекодировать с помощью OHE, также geography.<br>\n",
    "Перевести столбцы в нижний регистр.<br>\n",
    "Исследовать пропуски в Tenure."
   ]
  },
  {
   "cell_type": "code",
   "execution_count": 3,
   "metadata": {},
   "outputs": [],
   "source": [
    "data.columns = data.columns.str.lower()"
   ]
  },
  {
   "cell_type": "code",
   "execution_count": 4,
   "metadata": {},
   "outputs": [],
   "source": [
    "data[['tenure', 'balance', 'estimatedsalary']] = data[['tenure', 'balance', 'estimatedsalary']].round().astype('Int64')"
   ]
  },
  {
   "cell_type": "code",
   "execution_count": 5,
   "metadata": {},
   "outputs": [],
   "source": [
    "data = pd.get_dummies(data, drop_first = True)"
   ]
  },
  {
   "cell_type": "markdown",
   "metadata": {},
   "source": [
    "gender: 0- female, 1 - male"
   ]
  },
  {
   "cell_type": "code",
   "execution_count": 6,
   "metadata": {
    "scrolled": false
   },
   "outputs": [
    {
     "data": {
      "text/html": [
       "<div>\n",
       "<style scoped>\n",
       "    .dataframe tbody tr th:only-of-type {\n",
       "        vertical-align: middle;\n",
       "    }\n",
       "\n",
       "    .dataframe tbody tr th {\n",
       "        vertical-align: top;\n",
       "    }\n",
       "\n",
       "    .dataframe thead th {\n",
       "        text-align: right;\n",
       "    }\n",
       "</style>\n",
       "<table border=\"1\" class=\"dataframe\">\n",
       "  <thead>\n",
       "    <tr style=\"text-align: right;\">\n",
       "      <th></th>\n",
       "      <th>customerid</th>\n",
       "      <th>creditscore</th>\n",
       "      <th>age</th>\n",
       "      <th>tenure</th>\n",
       "      <th>balance</th>\n",
       "      <th>numofproducts</th>\n",
       "      <th>hascrcard</th>\n",
       "      <th>isactivemember</th>\n",
       "      <th>estimatedsalary</th>\n",
       "      <th>exited</th>\n",
       "      <th>...</th>\n",
       "      <th>surname_Zotova</th>\n",
       "      <th>surname_Zox</th>\n",
       "      <th>surname_Zubarev</th>\n",
       "      <th>surname_Zubareva</th>\n",
       "      <th>surname_Zuev</th>\n",
       "      <th>surname_Zuyev</th>\n",
       "      <th>surname_Zuyeva</th>\n",
       "      <th>geography_Germany</th>\n",
       "      <th>geography_Spain</th>\n",
       "      <th>gender_Male</th>\n",
       "    </tr>\n",
       "    <tr>\n",
       "      <th>RowNumber</th>\n",
       "      <th></th>\n",
       "      <th></th>\n",
       "      <th></th>\n",
       "      <th></th>\n",
       "      <th></th>\n",
       "      <th></th>\n",
       "      <th></th>\n",
       "      <th></th>\n",
       "      <th></th>\n",
       "      <th></th>\n",
       "      <th></th>\n",
       "      <th></th>\n",
       "      <th></th>\n",
       "      <th></th>\n",
       "      <th></th>\n",
       "      <th></th>\n",
       "      <th></th>\n",
       "      <th></th>\n",
       "      <th></th>\n",
       "      <th></th>\n",
       "      <th></th>\n",
       "    </tr>\n",
       "  </thead>\n",
       "  <tbody>\n",
       "    <tr>\n",
       "      <td>1</td>\n",
       "      <td>15634602</td>\n",
       "      <td>619</td>\n",
       "      <td>42</td>\n",
       "      <td>2</td>\n",
       "      <td>0</td>\n",
       "      <td>1</td>\n",
       "      <td>1</td>\n",
       "      <td>1</td>\n",
       "      <td>101349</td>\n",
       "      <td>1</td>\n",
       "      <td>...</td>\n",
       "      <td>0</td>\n",
       "      <td>0</td>\n",
       "      <td>0</td>\n",
       "      <td>0</td>\n",
       "      <td>0</td>\n",
       "      <td>0</td>\n",
       "      <td>0</td>\n",
       "      <td>0</td>\n",
       "      <td>0</td>\n",
       "      <td>0</td>\n",
       "    </tr>\n",
       "    <tr>\n",
       "      <td>2</td>\n",
       "      <td>15647311</td>\n",
       "      <td>608</td>\n",
       "      <td>41</td>\n",
       "      <td>1</td>\n",
       "      <td>83808</td>\n",
       "      <td>1</td>\n",
       "      <td>0</td>\n",
       "      <td>1</td>\n",
       "      <td>112543</td>\n",
       "      <td>0</td>\n",
       "      <td>...</td>\n",
       "      <td>0</td>\n",
       "      <td>0</td>\n",
       "      <td>0</td>\n",
       "      <td>0</td>\n",
       "      <td>0</td>\n",
       "      <td>0</td>\n",
       "      <td>0</td>\n",
       "      <td>0</td>\n",
       "      <td>1</td>\n",
       "      <td>0</td>\n",
       "    </tr>\n",
       "    <tr>\n",
       "      <td>3</td>\n",
       "      <td>15619304</td>\n",
       "      <td>502</td>\n",
       "      <td>42</td>\n",
       "      <td>8</td>\n",
       "      <td>159661</td>\n",
       "      <td>3</td>\n",
       "      <td>1</td>\n",
       "      <td>0</td>\n",
       "      <td>113932</td>\n",
       "      <td>1</td>\n",
       "      <td>...</td>\n",
       "      <td>0</td>\n",
       "      <td>0</td>\n",
       "      <td>0</td>\n",
       "      <td>0</td>\n",
       "      <td>0</td>\n",
       "      <td>0</td>\n",
       "      <td>0</td>\n",
       "      <td>0</td>\n",
       "      <td>0</td>\n",
       "      <td>0</td>\n",
       "    </tr>\n",
       "    <tr>\n",
       "      <td>4</td>\n",
       "      <td>15701354</td>\n",
       "      <td>699</td>\n",
       "      <td>39</td>\n",
       "      <td>1</td>\n",
       "      <td>0</td>\n",
       "      <td>2</td>\n",
       "      <td>0</td>\n",
       "      <td>0</td>\n",
       "      <td>93827</td>\n",
       "      <td>0</td>\n",
       "      <td>...</td>\n",
       "      <td>0</td>\n",
       "      <td>0</td>\n",
       "      <td>0</td>\n",
       "      <td>0</td>\n",
       "      <td>0</td>\n",
       "      <td>0</td>\n",
       "      <td>0</td>\n",
       "      <td>0</td>\n",
       "      <td>0</td>\n",
       "      <td>0</td>\n",
       "    </tr>\n",
       "    <tr>\n",
       "      <td>5</td>\n",
       "      <td>15737888</td>\n",
       "      <td>850</td>\n",
       "      <td>43</td>\n",
       "      <td>2</td>\n",
       "      <td>125511</td>\n",
       "      <td>1</td>\n",
       "      <td>1</td>\n",
       "      <td>1</td>\n",
       "      <td>79084</td>\n",
       "      <td>0</td>\n",
       "      <td>...</td>\n",
       "      <td>0</td>\n",
       "      <td>0</td>\n",
       "      <td>0</td>\n",
       "      <td>0</td>\n",
       "      <td>0</td>\n",
       "      <td>0</td>\n",
       "      <td>0</td>\n",
       "      <td>0</td>\n",
       "      <td>1</td>\n",
       "      <td>0</td>\n",
       "    </tr>\n",
       "    <tr>\n",
       "      <td>...</td>\n",
       "      <td>...</td>\n",
       "      <td>...</td>\n",
       "      <td>...</td>\n",
       "      <td>...</td>\n",
       "      <td>...</td>\n",
       "      <td>...</td>\n",
       "      <td>...</td>\n",
       "      <td>...</td>\n",
       "      <td>...</td>\n",
       "      <td>...</td>\n",
       "      <td>...</td>\n",
       "      <td>...</td>\n",
       "      <td>...</td>\n",
       "      <td>...</td>\n",
       "      <td>...</td>\n",
       "      <td>...</td>\n",
       "      <td>...</td>\n",
       "      <td>...</td>\n",
       "      <td>...</td>\n",
       "      <td>...</td>\n",
       "      <td>...</td>\n",
       "    </tr>\n",
       "    <tr>\n",
       "      <td>9996</td>\n",
       "      <td>15606229</td>\n",
       "      <td>771</td>\n",
       "      <td>39</td>\n",
       "      <td>5</td>\n",
       "      <td>0</td>\n",
       "      <td>2</td>\n",
       "      <td>1</td>\n",
       "      <td>0</td>\n",
       "      <td>96271</td>\n",
       "      <td>0</td>\n",
       "      <td>...</td>\n",
       "      <td>0</td>\n",
       "      <td>0</td>\n",
       "      <td>0</td>\n",
       "      <td>0</td>\n",
       "      <td>0</td>\n",
       "      <td>0</td>\n",
       "      <td>0</td>\n",
       "      <td>0</td>\n",
       "      <td>0</td>\n",
       "      <td>1</td>\n",
       "    </tr>\n",
       "    <tr>\n",
       "      <td>9997</td>\n",
       "      <td>15569892</td>\n",
       "      <td>516</td>\n",
       "      <td>35</td>\n",
       "      <td>10</td>\n",
       "      <td>57370</td>\n",
       "      <td>1</td>\n",
       "      <td>1</td>\n",
       "      <td>1</td>\n",
       "      <td>101700</td>\n",
       "      <td>0</td>\n",
       "      <td>...</td>\n",
       "      <td>0</td>\n",
       "      <td>0</td>\n",
       "      <td>0</td>\n",
       "      <td>0</td>\n",
       "      <td>0</td>\n",
       "      <td>0</td>\n",
       "      <td>0</td>\n",
       "      <td>0</td>\n",
       "      <td>0</td>\n",
       "      <td>1</td>\n",
       "    </tr>\n",
       "    <tr>\n",
       "      <td>9998</td>\n",
       "      <td>15584532</td>\n",
       "      <td>709</td>\n",
       "      <td>36</td>\n",
       "      <td>7</td>\n",
       "      <td>0</td>\n",
       "      <td>1</td>\n",
       "      <td>0</td>\n",
       "      <td>1</td>\n",
       "      <td>42086</td>\n",
       "      <td>1</td>\n",
       "      <td>...</td>\n",
       "      <td>0</td>\n",
       "      <td>0</td>\n",
       "      <td>0</td>\n",
       "      <td>0</td>\n",
       "      <td>0</td>\n",
       "      <td>0</td>\n",
       "      <td>0</td>\n",
       "      <td>0</td>\n",
       "      <td>0</td>\n",
       "      <td>0</td>\n",
       "    </tr>\n",
       "    <tr>\n",
       "      <td>9999</td>\n",
       "      <td>15682355</td>\n",
       "      <td>772</td>\n",
       "      <td>42</td>\n",
       "      <td>3</td>\n",
       "      <td>75075</td>\n",
       "      <td>2</td>\n",
       "      <td>1</td>\n",
       "      <td>0</td>\n",
       "      <td>92889</td>\n",
       "      <td>1</td>\n",
       "      <td>...</td>\n",
       "      <td>0</td>\n",
       "      <td>0</td>\n",
       "      <td>0</td>\n",
       "      <td>0</td>\n",
       "      <td>0</td>\n",
       "      <td>0</td>\n",
       "      <td>0</td>\n",
       "      <td>1</td>\n",
       "      <td>0</td>\n",
       "      <td>1</td>\n",
       "    </tr>\n",
       "    <tr>\n",
       "      <td>10000</td>\n",
       "      <td>15628319</td>\n",
       "      <td>792</td>\n",
       "      <td>28</td>\n",
       "      <td>NaN</td>\n",
       "      <td>130143</td>\n",
       "      <td>1</td>\n",
       "      <td>1</td>\n",
       "      <td>0</td>\n",
       "      <td>38191</td>\n",
       "      <td>0</td>\n",
       "      <td>...</td>\n",
       "      <td>0</td>\n",
       "      <td>0</td>\n",
       "      <td>0</td>\n",
       "      <td>0</td>\n",
       "      <td>0</td>\n",
       "      <td>0</td>\n",
       "      <td>0</td>\n",
       "      <td>0</td>\n",
       "      <td>0</td>\n",
       "      <td>0</td>\n",
       "    </tr>\n",
       "  </tbody>\n",
       "</table>\n",
       "<p>10000 rows × 2944 columns</p>\n",
       "</div>"
      ],
      "text/plain": [
       "           customerid  creditscore  age  tenure  balance  numofproducts  \\\n",
       "RowNumber                                                                 \n",
       "1            15634602          619   42       2        0              1   \n",
       "2            15647311          608   41       1    83808              1   \n",
       "3            15619304          502   42       8   159661              3   \n",
       "4            15701354          699   39       1        0              2   \n",
       "5            15737888          850   43       2   125511              1   \n",
       "...               ...          ...  ...     ...      ...            ...   \n",
       "9996         15606229          771   39       5        0              2   \n",
       "9997         15569892          516   35      10    57370              1   \n",
       "9998         15584532          709   36       7        0              1   \n",
       "9999         15682355          772   42       3    75075              2   \n",
       "10000        15628319          792   28     NaN   130143              1   \n",
       "\n",
       "           hascrcard  isactivemember  estimatedsalary  exited  ...  \\\n",
       "RowNumber                                                      ...   \n",
       "1                  1               1           101349       1  ...   \n",
       "2                  0               1           112543       0  ...   \n",
       "3                  1               0           113932       1  ...   \n",
       "4                  0               0            93827       0  ...   \n",
       "5                  1               1            79084       0  ...   \n",
       "...              ...             ...              ...     ...  ...   \n",
       "9996               1               0            96271       0  ...   \n",
       "9997               1               1           101700       0  ...   \n",
       "9998               0               1            42086       1  ...   \n",
       "9999               1               0            92889       1  ...   \n",
       "10000              1               0            38191       0  ...   \n",
       "\n",
       "           surname_Zotova  surname_Zox  surname_Zubarev  surname_Zubareva  \\\n",
       "RowNumber                                                                   \n",
       "1                       0            0                0                 0   \n",
       "2                       0            0                0                 0   \n",
       "3                       0            0                0                 0   \n",
       "4                       0            0                0                 0   \n",
       "5                       0            0                0                 0   \n",
       "...                   ...          ...              ...               ...   \n",
       "9996                    0            0                0                 0   \n",
       "9997                    0            0                0                 0   \n",
       "9998                    0            0                0                 0   \n",
       "9999                    0            0                0                 0   \n",
       "10000                   0            0                0                 0   \n",
       "\n",
       "           surname_Zuev  surname_Zuyev  surname_Zuyeva  geography_Germany  \\\n",
       "RowNumber                                                                   \n",
       "1                     0              0               0                  0   \n",
       "2                     0              0               0                  0   \n",
       "3                     0              0               0                  0   \n",
       "4                     0              0               0                  0   \n",
       "5                     0              0               0                  0   \n",
       "...                 ...            ...             ...                ...   \n",
       "9996                  0              0               0                  0   \n",
       "9997                  0              0               0                  0   \n",
       "9998                  0              0               0                  0   \n",
       "9999                  0              0               0                  1   \n",
       "10000                 0              0               0                  0   \n",
       "\n",
       "           geography_Spain  gender_Male  \n",
       "RowNumber                                \n",
       "1                        0            0  \n",
       "2                        1            0  \n",
       "3                        0            0  \n",
       "4                        0            0  \n",
       "5                        1            0  \n",
       "...                    ...          ...  \n",
       "9996                     0            1  \n",
       "9997                     0            1  \n",
       "9998                     0            0  \n",
       "9999                     0            1  \n",
       "10000                    0            0  \n",
       "\n",
       "[10000 rows x 2944 columns]"
      ]
     },
     "execution_count": 6,
     "metadata": {},
     "output_type": "execute_result"
    }
   ],
   "source": [
    "data"
   ]
  },
  {
   "cell_type": "code",
   "execution_count": 7,
   "metadata": {},
   "outputs": [
    {
     "data": {
      "text/plain": [
       "0"
      ]
     },
     "execution_count": 7,
     "metadata": {},
     "output_type": "execute_result"
    }
   ],
   "source": [
    "data.drop(['customerid'], axis = 1).duplicated().sum()"
   ]
  },
  {
   "cell_type": "markdown",
   "metadata": {},
   "source": [
    "Повторов клиентов нет."
   ]
  },
  {
   "cell_type": "markdown",
   "metadata": {},
   "source": [
    "Предположим, что пропуски в кол-ве недвижимости это отсутствие недвижимости у клиентов. Сравним распределения по скору и заработку, чтобы убедиться, что группы со значениями 0 и NaN в 'tenure' похожи."
   ]
  },
  {
   "cell_type": "code",
   "execution_count": 8,
   "metadata": {},
   "outputs": [
    {
     "data": {
      "text/plain": [
       "array([[<matplotlib.axes._subplots.AxesSubplot object at 0x7fb172518fd0>,\n",
       "        <matplotlib.axes._subplots.AxesSubplot object at 0x7fb16abd4650>]],\n",
       "      dtype=object)"
      ]
     },
     "execution_count": 8,
     "metadata": {},
     "output_type": "execute_result"
    },
    {
     "data": {
      "image/png": "[encoded data removed]",
      "text/plain": [
       "<Figure size 1440x432 with 2 Axes>"
      ]
     },
     "metadata": {
      "needs_background": "light"
     },
     "output_type": "display_data"
    }
   ],
   "source": [
    "data[data['tenure'] == 0][['creditscore', 'estimatedsalary']].hist(figsize = (20,6))"
   ]
  },
  {
   "cell_type": "code",
   "execution_count": 9,
   "metadata": {},
   "outputs": [
    {
     "data": {
      "text/plain": [
       "array([[<matplotlib.axes._subplots.AxesSubplot object at 0x7fb16aacddd0>,\n",
       "        <matplotlib.axes._subplots.AxesSubplot object at 0x7fb16af5a650>]],\n",
       "      dtype=object)"
      ]
     },
     "execution_count": 9,
     "metadata": {},
     "output_type": "execute_result"
    },
    {
     "data": {
      "image/png": "[encoded data removed]",
      "text/plain": [
       "<Figure size 1440x432 with 2 Axes>"
      ]
     },
     "metadata": {
      "needs_background": "light"
     },
     "output_type": "display_data"
    }
   ],
   "source": [
    "data[data['tenure'].isna()][['creditscore', 'estimatedsalary']].hist(figsize = (20,6))"
   ]
  },
  {
   "cell_type": "code",
   "execution_count": 10,
   "metadata": {},
   "outputs": [
    {
     "name": "stdout",
     "output_type": "stream",
     "text": [
      "382 909\n"
     ]
    }
   ],
   "source": [
    "print(len(data[data['tenure'] == 0]), len(data[data['tenure'].isna()]))"
   ]
  },
  {
   "cell_type": "markdown",
   "metadata": {},
   "source": [
    "Распределения похожи, если учесть разный объем выборок.<br>\n",
    "заполним пропуски нулями."
   ]
  },
  {
   "cell_type": "code",
   "execution_count": 11,
   "metadata": {},
   "outputs": [],
   "source": [
    "data['tenure'] = data['tenure'].fillna(0)"
   ]
  },
  {
   "cell_type": "code",
   "execution_count": 12,
   "metadata": {},
   "outputs": [
    {
     "data": {
      "text/plain": [
       "customerid           0\n",
       "creditscore          0\n",
       "age                  0\n",
       "tenure               0\n",
       "balance              0\n",
       "                    ..\n",
       "surname_Zuyev        0\n",
       "surname_Zuyeva       0\n",
       "geography_Germany    0\n",
       "geography_Spain      0\n",
       "gender_Male          0\n",
       "Length: 2944, dtype: int64"
      ]
     },
     "execution_count": 12,
     "metadata": {},
     "output_type": "execute_result"
    }
   ],
   "source": [
    "data.isna().sum()"
   ]
  },
  {
   "cell_type": "markdown",
   "metadata": {},
   "source": [
    "# 2. Исследование задачи"
   ]
  },
  {
   "cell_type": "markdown",
   "metadata": {},
   "source": [
    "<a href='#step_1'>Шаг 1. Получение общей информации и подготвка данных.</a><br>\n",
    "<a href='#step_2'>Шаг 2. Разбиение данных и обучение моделей без учета дисбаланса.</a><br>\n",
    "<a href='#step_3'>Шаг 3. Обучение и проверка моделей с учетом дисбаланса.</a><br>\n",
    "<a href='#step_4'>Шаг 4. Проверка моделей на тестовой выборке.</a><br>"
   ]
  },
  {
   "cell_type": "markdown",
   "metadata": {},
   "source": [
    "<a id = \"step_2\"></a>"
   ]
  },
  {
   "cell_type": "code",
   "execution_count": 13,
   "metadata": {},
   "outputs": [
    {
     "data": {
      "text/plain": [
       "<matplotlib.axes._subplots.AxesSubplot at 0x7fb16a894750>"
      ]
     },
     "execution_count": 13,
     "metadata": {},
     "output_type": "execute_result"
    },
    {
     "data": {
      "image/png": "[encoded data removed]",
      "text/plain": [
       "<Figure size 432x288 with 1 Axes>"
      ]
     },
     "metadata": {
      "needs_background": "light"
     },
     "output_type": "display_data"
    }
   ],
   "source": [
    "data['exited'].value_counts(normalize = 'balanced').plot(kind = 'bar')"
   ]
  },
  {
   "cell_type": "markdown",
   "metadata": {},
   "source": [
    "Наблюдается сильный дисбаланс классов."
   ]
  },
  {
   "cell_type": "markdown",
   "metadata": {},
   "source": [
    "Для обучения неважна фамилия клиента - уберем её из таблицы и произведем масштабирование числовых данных."
   ]
  },
  {
   "cell_type": "code",
   "execution_count": 14,
   "metadata": {},
   "outputs": [],
   "source": [
    "features = data.drop(['exited'], axis = 1)\n",
    "target = data['exited']\n",
    "\n",
    "features_train, features_other, target_train, target_other = train_test_split(\n",
    "    features, target, test_size = 0.4, stratify = target, random_state = 42)\n",
    "\n",
    "features_valid, features_test, target_valid, target_test = train_test_split(\n",
    "    features_other, target_other, test_size = 0.5, stratify = target_other, random_state = 42)"
   ]
  },
  {
   "cell_type": "markdown",
   "metadata": {},
   "source": [
    "для несбалансированных данных используется stratify в train_test_split"
   ]
  },
  {
   "cell_type": "code",
   "execution_count": 15,
   "metadata": {},
   "outputs": [
    {
     "name": "stdout",
     "output_type": "stream",
     "text": [
      "shape features_train = (6000, 2943) shape target_train =  (6000,)\n",
      "shape features_valid = (2000, 2943) shape target_valid =  (2000,)\n",
      "shape features_test = (2000, 2943) shape target_test =  (2000,)\n"
     ]
    }
   ],
   "source": [
    "print('shape features_train =',features_train.shape, 'shape target_train = ', target_train.shape)\n",
    "print('shape features_valid =',features_valid.shape, 'shape target_valid = ', target_valid.shape)\n",
    "print('shape features_test =', features_test.shape , 'shape target_test = ', target_test.shape)"
   ]
  },
  {
   "cell_type": "code",
   "execution_count": 16,
   "metadata": {},
   "outputs": [
    {
     "data": {
      "text/plain": [
       "StandardScaler(copy=True, with_mean=True, with_std=True)"
      ]
     },
     "execution_count": 16,
     "metadata": {},
     "output_type": "execute_result"
    }
   ],
   "source": [
    "scaler = StandardScaler()\n",
    "numeric = [\\\n",
    "'creditscore', 'age', 'tenure', \\\n",
    "'balance', 'numofproducts', 'estimatedsalary', 'hascrcard']\n",
    "scaler.fit(features_train[numeric])"
   ]
  },
  {
   "cell_type": "code",
   "execution_count": 17,
   "metadata": {},
   "outputs": [],
   "source": [
    "features_train[numeric] = scaler.transform(features_train[numeric])\n",
    "features_valid[numeric] = scaler.transform(features_valid[numeric])"
   ]
  },
  {
   "cell_type": "code",
   "execution_count": 18,
   "metadata": {},
   "outputs": [
    {
     "name": "stderr",
     "output_type": "stream",
     "text": [
      "100%|██████████| 10/10 [05:53<00:00, 35.31s/it]\n"
     ]
    }
   ],
   "source": [
    "best_score_tree = 0\n",
    "best_score_forest = 0\n",
    "best_estimators = 0\n",
    "\n",
    "for depth in tqdm(range(10,20)):\n",
    "    \n",
    "    model_tree = DecisionTreeClassifier(max_depth = depth, random_state = 42)\n",
    "    model_tree.fit(features_train, target_train)\n",
    "    result_tree = model_tree.predict(features_valid)    \n",
    "    score_tree = f1_score(target_valid, result_tree)\n",
    "    if score_tree > best_score_tree:\n",
    "        best_score_tree = score_tree\n",
    "        best_model_tree = model_tree\n",
    "        best_depth_tree = depth\n",
    "\n",
    "    for estimators in range(1,201,10):\n",
    "        model_forest = RandomForestClassifier(n_estimators = estimators, max_depth = depth, random_state = 42)\n",
    "        model_forest.fit(features_train, target_train)\n",
    "        result_forest = model_forest.predict(features_valid)\n",
    "        score_forest = f1_score(target_valid, result_forest)\n",
    "        if score_forest > best_score_forest:\n",
    "            best_score_forest = score_forest\n",
    "            best_model_forest = model_forest\n",
    "            best_depth_forest = depth\n",
    "            best_estimators = estimators\n",
    "        \n",
    "        \n",
    "        \n",
    "model_linear = LogisticRegression(random_state =12345)\n",
    "model_linear.fit(features_train, target_train)\n",
    "result_linear = model_linear.predict(features_valid)\n",
    "score_linear = f1_score(target_valid, result_linear)"
   ]
  },
  {
   "cell_type": "code",
   "execution_count": 19,
   "metadata": {},
   "outputs": [
    {
     "name": "stdout",
     "output_type": "stream",
     "text": [
      "depth tree = 11 f1 score = 0.5868102288021534 auc_score = 0.7188516109961571\n",
      "depth forest = 18 estimators = 1 f1 score = 0.31539888682745826 auc_score = 0.5110294117647058\n",
      "f1 score = 0.0 auc_score = 0.5\n"
     ]
    }
   ],
   "source": [
    "print('depth tree =',best_depth_tree,'f1 score =', best_score_tree , 'auc_score =', roc_auc_score(target_valid, result_tree))\n",
    "print('depth forest =',best_depth_forest, 'estimators =', best_estimators, 'f1 score =',best_score_forest, 'auc_score =', roc_auc_score(target_valid, result_forest))\n",
    "print('f1 score =',score_linear, 'auc_score =', roc_auc_score(target_valid, result_linear))"
   ]
  },
  {
   "cell_type": "code",
   "execution_count": 20,
   "metadata": {},
   "outputs": [],
   "source": [
    "model_tree_disbalanced = best_model_tree\n",
    "model_forest_disbalanced = best_model_forest\n",
    "model_linear_disbalanced = model_linear"
   ]
  },
  {
   "cell_type": "code",
   "execution_count": 21,
   "metadata": {},
   "outputs": [],
   "source": [
    "models_scores = {'tree_disbalanced' : (best_score_tree, roc_auc_score(target_valid, result_tree)),\n",
    "                 'forest_disbalanced' : (best_score_forest, roc_auc_score(target_valid, result_forest)),\n",
    "                 'logistic_disbalanced' : (score_linear, roc_auc_score(target_valid, result_linear))}"
   ]
  },
  {
   "cell_type": "markdown",
   "metadata": {},
   "source": [
    "Получили f1 score и roc_auc_score. Ни одна модель не показывает необходимый уровень f1 метрики, у логистической регрессии score = 0..."
   ]
  },
  {
   "cell_type": "markdown",
   "metadata": {},
   "source": [
    "# 3. Борьба с дисбалансом"
   ]
  },
  {
   "cell_type": "markdown",
   "metadata": {},
   "source": [
    "<a href='#step_1'>Шаг 1. Получение общей информации и подготвка данных.</a><br>\n",
    "<a href='#step_2'>Шаг 2. Разбиение данных и обучение моделей без учета дисбаланса.</a><br>\n",
    "<a href='#step_3'>Шаг 3. Обучение и проверка моделей с учетом дисбаланса.</a><br>\n",
    "<a href='#step_4'>Шаг 4. Проверка моделей на тестовой выборке.</a><br>"
   ]
  },
  {
   "cell_type": "markdown",
   "metadata": {},
   "source": [
    "<a id = \"step_3\"></a>"
   ]
  },
  {
   "cell_type": "markdown",
   "metadata": {},
   "source": [
    "Добавим параметр class_weight в модели"
   ]
  },
  {
   "cell_type": "code",
   "execution_count": 22,
   "metadata": {},
   "outputs": [
    {
     "name": "stderr",
     "output_type": "stream",
     "text": [
      "100%|██████████| 10/10 [06:15<00:00, 37.50s/it]\n"
     ]
    }
   ],
   "source": [
    "best_score_tree = 0\n",
    "best_score_forest = 0\n",
    "best_estimators = 0\n",
    "for depth in tqdm(range(10,20)):\n",
    "    model_tree = DecisionTreeClassifier(max_depth = depth, random_state = 42, class_weight = 'balanced')\n",
    "    model_tree.fit(features_train, target_train)\n",
    "    result_tree = model_tree.predict(features_valid)\n",
    "    score_tree = f1_score(target_valid, result_tree)\n",
    "    if score_tree > best_score_tree:\n",
    "        best_score_tree = score_tree\n",
    "        best_model_tree = model_tree\n",
    "        best_depth_tree = depth\n",
    "    \n",
    "    for estimators in range(1,201, 10):\n",
    "        model_forest = RandomForestClassifier(n_estimators = estimators,\n",
    "                                              max_depth = depth,\n",
    "                                              random_state = 42,\n",
    "                                              class_weight = 'balanced')\n",
    "        model_forest.fit(features_train, target_train)\n",
    "        result_forest = model_forest.predict(features_valid)\n",
    "        score_forest = f1_score(target_valid, result_forest)\n",
    "        if score_forest > best_score_forest:\n",
    "            best_score_forest = score_forest\n",
    "            best_model_forest = model_forest\n",
    "            best_depth_forest = depth\n",
    "            best_estimators = estimators\n",
    "        \n",
    "model_linear = LogisticRegression(random_state =12345, class_weight = 'balanced')\n",
    "model_linear.fit(features_train, target_train)\n",
    "result_linear = model_linear.predict(features_valid)\n",
    "score_linear = f1_score(target_valid, result_linear)"
   ]
  },
  {
   "cell_type": "code",
   "execution_count": 23,
   "metadata": {
    "scrolled": true
   },
   "outputs": [
    {
     "name": "stdout",
     "output_type": "stream",
     "text": [
      "depth tree = 19 f1 score = 0.5835240274599542 auc_score = 0.7462311557788944\n",
      "depth forest = 14 estimators = 31 f1 score = 0.5957446808510637 auc_score = 0.7678281111439551\n",
      "f1 score = 0.0 auc_score = 0.5\n"
     ]
    }
   ],
   "source": [
    "print('depth tree =',best_depth_tree,'f1 score =', best_score_tree , 'auc_score =', roc_auc_score(target_valid, result_tree))\n",
    "print('depth forest =',best_depth_forest, 'estimators =', best_estimators, 'f1 score =',best_score_forest, 'auc_score =', roc_auc_score(target_valid, result_forest))\n",
    "print('f1 score =',score_linear, 'auc_score =', roc_auc_score(target_valid, result_linear))"
   ]
  },
  {
   "cell_type": "code",
   "execution_count": 24,
   "metadata": {},
   "outputs": [],
   "source": [
    "model_tree_balanced = best_model_tree\n",
    "model_forest_balanced = best_model_forest\n",
    "model_linear_balanced = model_linear"
   ]
  },
  {
   "cell_type": "code",
   "execution_count": 25,
   "metadata": {},
   "outputs": [],
   "source": [
    "models_scores.update({'tree_balanced' : (best_score_tree, roc_auc_score(target_valid, result_tree)),\n",
    "                      'forest_balanced' : (best_score_forest, roc_auc_score(target_valid, result_forest)),\n",
    "                      'logistic_balanced' : (score_linear, roc_auc_score(target_valid, result_linear))})"
   ]
  },
  {
   "cell_type": "markdown",
   "metadata": {},
   "source": [
    "С учетом дисбаланса значения метрики улучшились, кроме решающего дерева.<br>\n",
    "Уровень всё еще неприемлимый. Попробуем downsampling и upsampling."
   ]
  },
  {
   "cell_type": "markdown",
   "metadata": {},
   "source": [
    "Учет дисбаланса улучшил лес, но ухудшил дерево.<br>\n",
    "Логистическая регрессия совсем мертвая."
   ]
  },
  {
   "cell_type": "code",
   "execution_count": 26,
   "metadata": {},
   "outputs": [],
   "source": [
    "features_zeros = features_train[target_train == 0]\n",
    "target_zeros = target_train[target_train == 0]\n",
    "\n",
    "features_ones = features_train[target_train == 1]\n",
    "target_ones = target_train[target_train == 1]\n",
    "\n",
    "features_upsampled = pd.concat([features_zeros] + [features_ones]*4)\n",
    "target_upsampled = pd.concat([target_zeros] + [target_ones]*4)\n",
    "\n",
    "features_upsampled, target_upsampled = shuffle(features_upsampled, target_upsampled, random_state =42)"
   ]
  },
  {
   "cell_type": "code",
   "execution_count": 27,
   "metadata": {},
   "outputs": [
    {
     "name": "stderr",
     "output_type": "stream",
     "text": [
      "100%|██████████| 10/10 [06:10<00:00, 37.08s/it]\n"
     ]
    }
   ],
   "source": [
    "best_score_tree = 0\n",
    "best_score_forest = 0\n",
    "best_estimators = 0\n",
    "for depth in tqdm(range(10,20)):\n",
    "    model_tree = DecisionTreeClassifier(max_depth = depth, random_state = 42)\n",
    "    model_tree.fit(features_upsampled, target_upsampled)\n",
    "    result_tree = model_tree.predict(features_valid)\n",
    "    score_tree = f1_score(target_valid, result_tree)\n",
    "    if score_tree > best_score_tree:\n",
    "        best_score_tree = score_tree\n",
    "        best_model_tree = model_tree\n",
    "        best_depth_tree = depth\n",
    "\n",
    "    \n",
    "    for estimators in range(1,201, 10):\n",
    "        model_forest = RandomForestClassifier(n_estimators = estimators, max_depth = depth, random_state = 42)\n",
    "        model_forest.fit(features_train, target_train)\n",
    "        result_forest = model_forest.predict(features_valid)\n",
    "        score_forest = f1_score(target_valid, result_forest)\n",
    "        if score_forest > best_score_forest:\n",
    "            best_score_forest = score_forest\n",
    "            best_model_forest = model_forest\n",
    "            best_depth_forest = depth\n",
    "            best_estimators = estimators\n",
    "        \n",
    "        \n",
    "        \n",
    "model_linear = LogisticRegression(random_state =12345)\n",
    "model_linear.fit(features_upsampled, target_upsampled)\n",
    "result_linear = model_linear.predict(features_valid)\n",
    "score_linear = f1_score(target_valid, result_linear)"
   ]
  },
  {
   "cell_type": "code",
   "execution_count": 28,
   "metadata": {
    "scrolled": true
   },
   "outputs": [
    {
     "name": "stdout",
     "output_type": "stream",
     "text": [
      "depth tree = 19 f1 score = 0.5841694537346712 auc_score = 0.7497844615233027\n",
      "depth forest = 18 estimators = 1 f1 score = 0.31539888682745826 auc_score = 0.5110294117647058\n",
      "f1 score = 0.3388704318936877 auc_score = 0.5\n"
     ]
    }
   ],
   "source": [
    "print('depth tree =',best_depth_tree,'f1 score =', best_score_tree , 'auc_score =', roc_auc_score(target_valid, result_tree))\n",
    "print('depth forest =',best_depth_forest, 'estimators =', best_estimators, 'f1 score =',best_score_forest, 'auc_score =', roc_auc_score(target_valid, result_forest))\n",
    "print('f1 score =',score_linear, 'auc_score =', roc_auc_score(target_valid, result_linear))"
   ]
  },
  {
   "cell_type": "markdown",
   "metadata": {},
   "source": [
    "Upsampling помог только логистической регрессии."
   ]
  },
  {
   "cell_type": "code",
   "execution_count": 29,
   "metadata": {},
   "outputs": [],
   "source": [
    "model_tree_upsampled = best_model_tree\n",
    "model_forest_upsampled = best_model_forest\n",
    "model_linear_upsampled = model_linear"
   ]
  },
  {
   "cell_type": "code",
   "execution_count": 30,
   "metadata": {},
   "outputs": [],
   "source": [
    "models_scores.update({'tree_upsampled' : (best_score_tree, roc_auc_score(target_valid, result_tree)),\n",
    "                      'forest_upsampled' : (best_score_forest, roc_auc_score(target_valid, result_forest)),\n",
    "                      'logistic_upsampled' : (score_linear, roc_auc_score(target_valid, result_linear))})"
   ]
  },
  {
   "cell_type": "markdown",
   "metadata": {},
   "source": [
    "Результаты upsampling'а - f1 упал, roc_auc немного вырос.<br>"
   ]
  },
  {
   "cell_type": "code",
   "execution_count": 31,
   "metadata": {},
   "outputs": [],
   "source": [
    "features_downsampled = pd.concat([features_zeros.sample(frac = 0.4, random_state = 42)] + [features_ones])\n",
    "target_downsampled = pd.concat([target_zeros.sample(frac = 0.4, random_state = 42)] + [target_ones])\n",
    "\n",
    "features_downsampled, target_downsampled = shuffle(features_downsampled, target_downsampled, random_state =42)"
   ]
  },
  {
   "cell_type": "code",
   "execution_count": 32,
   "metadata": {},
   "outputs": [
    {
     "name": "stderr",
     "output_type": "stream",
     "text": [
      "100%|██████████| 19/19 [05:11<00:00, 16.39s/it]\n"
     ]
    }
   ],
   "source": [
    "best_score_tree = 0\n",
    "best_score_forest = 0\n",
    "best_estimators = 0\n",
    "for depth in tqdm(range(1,20)):\n",
    "    model_tree = DecisionTreeClassifier(max_depth = depth, random_state = 42)\n",
    "    model_tree.fit(features_downsampled, target_downsampled)\n",
    "    result_tree = model_tree.predict(features_valid)\n",
    "    score_tree = f1_score(target_valid, result_tree)\n",
    "    if score_tree > best_score_tree:\n",
    "        best_score_tree = score_tree\n",
    "        best_model_tree = model_tree\n",
    "        best_depth_tree = depth\n",
    "\n",
    "    for estimators in range(1,201, 10):\n",
    "        model_forest = RandomForestClassifier(n_estimators = estimators, max_depth = depth, random_state = 42)\n",
    "        model_forest.fit(features_downsampled, target_downsampled)\n",
    "        result_forest = model_forest.predict(features_valid)\n",
    "        score_forest = f1_score(target_valid, result_forest)\n",
    "        if score_forest > best_score_forest:\n",
    "            best_score_forest = score_forest\n",
    "            best_model_forest = model_forest\n",
    "            best_depth_forest = depth\n",
    "            best_estimators = estimators\n",
    "        \n",
    "        \n",
    "        \n",
    "model_linear = LogisticRegression(random_state =12345)\n",
    "model_linear.fit(features_downsampled, target_downsampled)\n",
    "result_linear = model_linear.predict(features_valid)\n",
    "score_linear = f1_score(target_valid, result_linear)"
   ]
  },
  {
   "cell_type": "code",
   "execution_count": 33,
   "metadata": {},
   "outputs": [
    {
     "name": "stdout",
     "output_type": "stream",
     "text": [
      "depth tree = 6 f1 score = 0.6135105204872646 auc_score = 0.7427640654251652\n",
      "depth forest = 18 estimators = 1 f1 score = 0.5143678160919539 auc_score = 0.633332101684895\n",
      "f1 score = 0.0 auc_score = 0.5\n"
     ]
    }
   ],
   "source": [
    "print('depth tree =',best_depth_tree,'f1 score =', best_score_tree , 'auc_score =', roc_auc_score(target_valid, result_tree))\n",
    "print('depth forest =',best_depth_forest, 'estimators =', best_estimators, 'f1 score =',best_score_forest, 'auc_score =', roc_auc_score(target_valid, result_forest))\n",
    "print('f1 score =',score_linear, 'auc_score =', roc_auc_score(target_valid, result_linear))"
   ]
  },
  {
   "cell_type": "markdown",
   "metadata": {},
   "source": [
    "При downsampled улучшилось только дерево."
   ]
  },
  {
   "cell_type": "code",
   "execution_count": 34,
   "metadata": {},
   "outputs": [],
   "source": [
    "model_tree_downsampled = best_model_tree\n",
    "model_forest_downsampled = best_model_forest\n",
    "model_linear_downsampled = model_linear"
   ]
  },
  {
   "cell_type": "code",
   "execution_count": 35,
   "metadata": {},
   "outputs": [],
   "source": [
    "models_scores.update({'tree_downsampled' : (best_score_tree, roc_auc_score(target_valid, result_tree)),\n",
    "                      'forest_downsampled' : (best_score_forest, roc_auc_score(target_valid, result_forest)),\n",
    "                      'logistic_downsampled' : (score_linear, roc_auc_score(target_valid, result_linear))})"
   ]
  },
  {
   "cell_type": "markdown",
   "metadata": {},
   "source": [
    "Результаты downsampling.<br>\n",
    "Показатели метрики ухудшились, отбросим эту затею."
   ]
  },
  {
   "cell_type": "code",
   "execution_count": 36,
   "metadata": {},
   "outputs": [
    {
     "data": {
      "text/html": [
       "<div>\n",
       "<style scoped>\n",
       "    .dataframe tbody tr th:only-of-type {\n",
       "        vertical-align: middle;\n",
       "    }\n",
       "\n",
       "    .dataframe tbody tr th {\n",
       "        vertical-align: top;\n",
       "    }\n",
       "\n",
       "    .dataframe thead th {\n",
       "        text-align: right;\n",
       "    }\n",
       "</style>\n",
       "<table border=\"1\" class=\"dataframe\">\n",
       "  <thead>\n",
       "    <tr style=\"text-align: right;\">\n",
       "      <th></th>\n",
       "      <th>f1_score</th>\n",
       "      <th>roc_auc_score</th>\n",
       "    </tr>\n",
       "  </thead>\n",
       "  <tbody>\n",
       "    <tr>\n",
       "      <td>tree_downsampled</td>\n",
       "      <td>0.613511</td>\n",
       "      <td>0.742764</td>\n",
       "    </tr>\n",
       "    <tr>\n",
       "      <td>forest_balanced</td>\n",
       "      <td>0.595745</td>\n",
       "      <td>0.767828</td>\n",
       "    </tr>\n",
       "    <tr>\n",
       "      <td>tree_disbalanced</td>\n",
       "      <td>0.586810</td>\n",
       "      <td>0.718852</td>\n",
       "    </tr>\n",
       "    <tr>\n",
       "      <td>tree_upsampled</td>\n",
       "      <td>0.584169</td>\n",
       "      <td>0.749784</td>\n",
       "    </tr>\n",
       "    <tr>\n",
       "      <td>tree_balanced</td>\n",
       "      <td>0.583524</td>\n",
       "      <td>0.746231</td>\n",
       "    </tr>\n",
       "    <tr>\n",
       "      <td>forest_downsampled</td>\n",
       "      <td>0.514368</td>\n",
       "      <td>0.633332</td>\n",
       "    </tr>\n",
       "    <tr>\n",
       "      <td>logistic_upsampled</td>\n",
       "      <td>0.338870</td>\n",
       "      <td>0.500000</td>\n",
       "    </tr>\n",
       "    <tr>\n",
       "      <td>forest_disbalanced</td>\n",
       "      <td>0.315399</td>\n",
       "      <td>0.511029</td>\n",
       "    </tr>\n",
       "    <tr>\n",
       "      <td>forest_upsampled</td>\n",
       "      <td>0.315399</td>\n",
       "      <td>0.511029</td>\n",
       "    </tr>\n",
       "    <tr>\n",
       "      <td>logistic_disbalanced</td>\n",
       "      <td>0.000000</td>\n",
       "      <td>0.500000</td>\n",
       "    </tr>\n",
       "    <tr>\n",
       "      <td>logistic_balanced</td>\n",
       "      <td>0.000000</td>\n",
       "      <td>0.500000</td>\n",
       "    </tr>\n",
       "    <tr>\n",
       "      <td>logistic_downsampled</td>\n",
       "      <td>0.000000</td>\n",
       "      <td>0.500000</td>\n",
       "    </tr>\n",
       "  </tbody>\n",
       "</table>\n",
       "</div>"
      ],
      "text/plain": [
       "                      f1_score  roc_auc_score\n",
       "tree_downsampled      0.613511       0.742764\n",
       "forest_balanced       0.595745       0.767828\n",
       "tree_disbalanced      0.586810       0.718852\n",
       "tree_upsampled        0.584169       0.749784\n",
       "tree_balanced         0.583524       0.746231\n",
       "forest_downsampled    0.514368       0.633332\n",
       "logistic_upsampled    0.338870       0.500000\n",
       "forest_disbalanced    0.315399       0.511029\n",
       "forest_upsampled      0.315399       0.511029\n",
       "logistic_disbalanced  0.000000       0.500000\n",
       "logistic_balanced     0.000000       0.500000\n",
       "logistic_downsampled  0.000000       0.500000"
      ]
     },
     "execution_count": 36,
     "metadata": {},
     "output_type": "execute_result"
    }
   ],
   "source": [
    "pd.DataFrame(index = models_scores.keys(), data = models_scores.values(), columns = ['f1_score', 'roc_auc_score']).sort_values('f1_score', ascending = False)"
   ]
  },
  {
   "cell_type": "markdown",
   "metadata": {},
   "source": [
    "Таблица со скорами всех моделей.<br>Самой лучшей оказалась модель случайного леса с балансом классов."
   ]
  },
  {
   "cell_type": "markdown",
   "metadata": {},
   "source": [
    "# 4. Тестирование модели"
   ]
  },
  {
   "cell_type": "markdown",
   "metadata": {},
   "source": [
    "<a id = \"step_4\"></a>"
   ]
  },
  {
   "cell_type": "markdown",
   "metadata": {},
   "source": [
    "масштабируем тестовые данные."
   ]
  },
  {
   "cell_type": "code",
   "execution_count": 37,
   "metadata": {},
   "outputs": [
    {
     "data": {
      "text/plain": [
       "(2000, 2943)"
      ]
     },
     "execution_count": 37,
     "metadata": {},
     "output_type": "execute_result"
    }
   ],
   "source": [
    "features_test[numeric] = scaler.transform(features_test[numeric])\n",
    "features_test.shape"
   ]
  },
  {
   "cell_type": "code",
   "execution_count": 39,
   "metadata": {},
   "outputs": [
    {
     "name": "stdout",
     "output_type": "stream",
     "text": [
      "f1 downsampled = 0.550228310502283 roc_auc downsampled= 0.724505707556555\n",
      "f1 balanced = 0.5634743875278396 roc_auc balanced = 0.7361089903462784\n"
     ]
    }
   ],
   "source": [
    "result_forest_downsampled_test = model_tree_downsampled.predict(features_test)\n",
    "result_forest_balanced_test = model_forest_balanced.predict(features_test)\n",
    "\n",
    "print('f1 downsampled =', f1_score(target_test, result_forest_downsampled_test),\n",
    "      'roc_auc downsampled=', roc_auc_score(target_test, result_forest_downsampled_test))\n",
    "\n",
    "print('f1 balanced =', f1_score(target_test, result_forest_balanced_test),\n",
    "      'roc_auc balanced =', roc_auc_score(target_test, result_forest_balanced_test))"
   ]
  },
  {
   "cell_type": "markdown",
   "metadata": {},
   "source": [
    "Удалось добиться f1 метрики равной 0.5634743875278396 с помощью сбалансированного леса и немного ниже значение показало дерево решений с техникой downsampled."
   ]
  },
  {
   "cell_type": "markdown",
   "metadata": {},
   "source": [
    "Метрика roc_auc всегда была лучше f1 из-за большей устойчивости к дисбалансу классов, но при этом показывает не совсем удовлетворяющий нас результат, потому что roc_auc измеряет долю False Positive относительно True Negative и в задачах, где нам не так важен второй (больший) класс, может давать не совсем адекватную картину."
   ]
  }
 ],
 "metadata": {
  "kernelspec": {
   "display_name": "Python 3",
   "language": "python",
   "name": "python3"
  },
  "language_info": {
   "codemirror_mode": {
    "name": "ipython",
    "version": 3
   },
   "file_extension": ".py",
   "mimetype": "text/x-python",
   "name": "python",
   "nbconvert_exporter": "python",
   "pygments_lexer": "ipython3",
   "version": "3.7.8"
  },
  "toc": {
   "base_numbering": 1,
   "nav_menu": {},
   "number_sections": true,
   "sideBar": true,
   "skip_h1_title": true,
   "title_cell": "Table of Contents",
   "title_sidebar": "Contents",
   "toc_cell": false,
   "toc_position": {},
   "toc_section_display": true,
   "toc_window_display": false
  }
 },
 "nbformat": 4,
 "nbformat_minor": 2
}
