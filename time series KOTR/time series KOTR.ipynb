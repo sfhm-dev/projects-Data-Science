{
 "cells": [
  {
   "cell_type": "markdown",
   "metadata": {},
   "source": [
    "# Описание проекта\n",
    "\n",
    "Собраны исторические данные о коэф. отработанного времени сотрудников (KOTR). Необходимо построить модель для предсказания KOTR на следующий месяц для сотрудников каждого разряда в каждом подразделении на каждой территории.\n",
    "\n",
    "\n",
    "## Описание данных\n",
    "\n",
    "<b>Территория</b> - условный номер территории на которой работает сотрудник\n",
    "\n",
    "<b>Федеральный округ</b> - федеральный округ территории. Одна территория может относится к двум ФО - в поле эти ФО записаны через '+'\n",
    "\n",
    "<b>year, month</b>  - год и месяц наблюдения\n",
    "\n",
    "<b>Подразделение</b> -  условный номер подразделения сотрудника\n",
    "\n",
    "<b>Разряд</b> - условный уровень должности сотрудника\n",
    "\n",
    "<b>pers_id</b> - идентификатор сотрудника\n",
    "\n",
    "<b>KOTR</b>  - коэффициент отработанного времени. Рассчитывается как отношние фактического рабочего времени к плановому рабочему времени. Является целевой переменной"
   ]
  },
  {
   "cell_type": "markdown",
   "metadata": {},
   "source": [
    "## План работы:\n",
    "<a href='#step_1'>Шаг 1. Получение общей информации и подготвка данных.</a><br>\n",
    "На первом этапе импортируем необходимые библиотеки и читаем файл, знакомимся с общей информацией, выставляем необходимые типы данных, проверяем пропуски, аномальные значения.<br>\n",
    "<a href='#step_2'>Шаг 2. Написание функций для работы с временными рядами по определенным разрядам.</a><br>\n",
    "Определение и кодирование необходимых фукнций для выделения и преобразования данных по определенному разряду.<br>\n",
    "<a href='#step_3'>Шаг 3. Написание функций для обучения моделей машинного обучения.</a><br>\n",
    "Кодирование фукнций обучения моделей и предсказания.<br>\n",
    "<a href='#step_4'>Шаг 4. Тестирование моделей. </a><br>\n",
    "Сравнение результатов работы моделей. Проведение различных экспериментов с параметрами обучения.<br>\n",
    "<a href='#step_5'>Шаг 5. Общий вывод.</a><br>"
   ]
  },
  {
   "cell_type": "markdown",
   "metadata": {},
   "source": [
    "# Получение общей информации и подготвка данных"
   ]
  },
  {
   "cell_type": "markdown",
   "metadata": {},
   "source": [
    "### План работы:\n",
    "<a href='#step_1'>Шаг 1. Получение общей информации и подготвка данных.</a><br>\n",
    "<a href='#step_2'>Шаг 2. Написание функций для работы с временными рядами по определенным разрядам.</a><br>\n",
    "<a href='#step_3'>Шаг 3. Написание функций для обучения моделей машинного обучения.</a><br>\n",
    "<a href='#step_4'>Шаг 4. Тестирование моделей. </a><br>\n",
    "<a href='#step_5'>Шаг 5. Общий вывод.</a><br>"
   ]
  },
  {
   "cell_type": "markdown",
   "metadata": {},
   "source": [
    "<a id ='step_1'></a>"
   ]
  },
  {
   "cell_type": "code",
   "execution_count": 1,
   "metadata": {},
   "outputs": [],
   "source": [
    "import pandas as pd\n",
    "import numpy as np\n",
    "import matplotlib.pyplot as plt\n",
    "from tqdm import tqdm\n",
    "from catboost import CatBoostRegressor, Pool\n",
    "from datetime import datetime\n",
    "from sklearn.model_selection import train_test_split\n",
    "from sklearn.model_selection import TimeSeriesSplit\n",
    "from sklearn.ensemble import RandomForestRegressor\n",
    "from sklearn.model_selection import GridSearchCV\n",
    "from lightgbm import LGBMRegressor\n",
    "import xgboost as xgb\n",
    "from sklearn.metrics import mean_absolute_error\n",
    "import xgboost as xgb\n",
    "from sklearn.utils import shuffle\n",
    "from sklearn.preprocessing import scale\n",
    "import warnings\n",
    "warnings.filterwarnings(\"ignore\")"
   ]
  },
  {
   "cell_type": "code",
   "execution_count": 2,
   "metadata": {},
   "outputs": [
    {
     "data": {
      "text/html": [
       "<div>\n",
       "<style scoped>\n",
       "    .dataframe tbody tr th:only-of-type {\n",
       "        vertical-align: middle;\n",
       "    }\n",
       "\n",
       "    .dataframe tbody tr th {\n",
       "        vertical-align: top;\n",
       "    }\n",
       "\n",
       "    .dataframe thead th {\n",
       "        text-align: right;\n",
       "    }\n",
       "</style>\n",
       "<table border=\"1\" class=\"dataframe\">\n",
       "  <thead>\n",
       "    <tr style=\"text-align: right;\">\n",
       "      <th></th>\n",
       "      <th>Территория</th>\n",
       "      <th>Федеральный округ</th>\n",
       "      <th>Подразделение</th>\n",
       "      <th>Разряд</th>\n",
       "      <th>pers_id</th>\n",
       "      <th>repdate</th>\n",
       "      <th>KOTR</th>\n",
       "    </tr>\n",
       "  </thead>\n",
       "  <tbody>\n",
       "    <tr>\n",
       "      <th>0</th>\n",
       "      <td>5</td>\n",
       "      <td>Южный + Северо-Кавказский</td>\n",
       "      <td>28</td>\n",
       "      <td>7</td>\n",
       "      <td>48623</td>\n",
       "      <td>2020-12-31</td>\n",
       "      <td>0.244094</td>\n",
       "    </tr>\n",
       "    <tr>\n",
       "      <th>1</th>\n",
       "      <td>1</td>\n",
       "      <td>г.Москва</td>\n",
       "      <td>46</td>\n",
       "      <td>12</td>\n",
       "      <td>19891</td>\n",
       "      <td>2020-12-31</td>\n",
       "      <td>1.000000</td>\n",
       "    </tr>\n",
       "    <tr>\n",
       "      <th>2</th>\n",
       "      <td>1</td>\n",
       "      <td>г.Москва</td>\n",
       "      <td>46</td>\n",
       "      <td>12</td>\n",
       "      <td>19892</td>\n",
       "      <td>2020-12-31</td>\n",
       "      <td>0.830601</td>\n",
       "    </tr>\n",
       "    <tr>\n",
       "      <th>3</th>\n",
       "      <td>1</td>\n",
       "      <td>г.Москва</td>\n",
       "      <td>46</td>\n",
       "      <td>12</td>\n",
       "      <td>19893</td>\n",
       "      <td>2020-12-31</td>\n",
       "      <td>1.000000</td>\n",
       "    </tr>\n",
       "    <tr>\n",
       "      <th>4</th>\n",
       "      <td>1</td>\n",
       "      <td>г.Москва</td>\n",
       "      <td>46</td>\n",
       "      <td>12</td>\n",
       "      <td>19894</td>\n",
       "      <td>2020-12-31</td>\n",
       "      <td>1.000000</td>\n",
       "    </tr>\n",
       "  </tbody>\n",
       "</table>\n",
       "</div>"
      ],
      "text/plain": [
       "   Территория          Федеральный округ  Подразделение  Разряд  pers_id  \\\n",
       "0           5  Южный + Северо-Кавказский             28       7    48623   \n",
       "1           1                   г.Москва             46      12    19891   \n",
       "2           1                   г.Москва             46      12    19892   \n",
       "3           1                   г.Москва             46      12    19893   \n",
       "4           1                   г.Москва             46      12    19894   \n",
       "\n",
       "     repdate      KOTR  \n",
       "0 2020-12-31  0.244094  \n",
       "1 2020-12-31  1.000000  \n",
       "2 2020-12-31  0.830601  \n",
       "3 2020-12-31  1.000000  \n",
       "4 2020-12-31  1.000000  "
      ]
     },
     "execution_count": 2,
     "metadata": {},
     "output_type": "execute_result"
    }
   ],
   "source": [
    "raw_df=pd.read_excel('kotr_df.xlsx')\n",
    "raw_df.drop(columns='Unnamed: 0', axis=1, inplace=True)\n",
    "raw_df.head()"
   ]
  },
  {
   "cell_type": "code",
   "execution_count": 3,
   "metadata": {},
   "outputs": [
    {
     "data": {
      "text/plain": [
       "1"
      ]
     },
     "execution_count": 3,
     "metadata": {},
     "output_type": "execute_result"
    }
   ],
   "source": [
    "raw_df.duplicated().sum()"
   ]
  },
  {
   "cell_type": "code",
   "execution_count": 4,
   "metadata": {},
   "outputs": [],
   "source": [
    "raw_df.drop_duplicates(inplace = True)"
   ]
  },
  {
   "cell_type": "code",
   "execution_count": 5,
   "metadata": {},
   "outputs": [],
   "source": [
    "raw_df.set_index('repdate', inplace = True)\n",
    "raw_df = raw_df.sort_index()"
   ]
  },
  {
   "cell_type": "code",
   "execution_count": 6,
   "metadata": {},
   "outputs": [
    {
     "name": "stdout",
     "output_type": "stream",
     "text": [
      "<class 'pandas.core.frame.DataFrame'>\n",
      "DatetimeIndex: 909716 entries, 2017-01-31 to 2020-12-31\n",
      "Data columns (total 6 columns):\n",
      " #   Column             Non-Null Count   Dtype  \n",
      "---  ------             --------------   -----  \n",
      " 0   Территория         909716 non-null  int64  \n",
      " 1   Федеральный округ  909716 non-null  object \n",
      " 2   Подразделение      909716 non-null  int64  \n",
      " 3   Разряд             909716 non-null  int64  \n",
      " 4   pers_id            909716 non-null  int64  \n",
      " 5   KOTR               909716 non-null  float64\n",
      "dtypes: float64(1), int64(4), object(1)\n",
      "memory usage: 48.6+ MB\n"
     ]
    }
   ],
   "source": [
    "raw_df.info()"
   ]
  },
  {
   "cell_type": "markdown",
   "metadata": {},
   "source": [
    "Данные с января 2017 - декабрь 2020"
   ]
  },
  {
   "cell_type": "code",
   "execution_count": 7,
   "metadata": {},
   "outputs": [
    {
     "data": {
      "text/html": [
       "<div>\n",
       "<style scoped>\n",
       "    .dataframe tbody tr th:only-of-type {\n",
       "        vertical-align: middle;\n",
       "    }\n",
       "\n",
       "    .dataframe tbody tr th {\n",
       "        vertical-align: top;\n",
       "    }\n",
       "\n",
       "    .dataframe thead th {\n",
       "        text-align: right;\n",
       "    }\n",
       "</style>\n",
       "<table border=\"1\" class=\"dataframe\">\n",
       "  <thead>\n",
       "    <tr style=\"text-align: right;\">\n",
       "      <th></th>\n",
       "      <th>Территория</th>\n",
       "      <th>Подразделение</th>\n",
       "      <th>Разряд</th>\n",
       "      <th>pers_id</th>\n",
       "      <th>KOTR</th>\n",
       "    </tr>\n",
       "  </thead>\n",
       "  <tbody>\n",
       "    <tr>\n",
       "      <th>count</th>\n",
       "      <td>909716.000000</td>\n",
       "      <td>909716.000000</td>\n",
       "      <td>909716.000000</td>\n",
       "      <td>909716.000000</td>\n",
       "      <td>909716.000000</td>\n",
       "    </tr>\n",
       "    <tr>\n",
       "      <th>mean</th>\n",
       "      <td>6.681867</td>\n",
       "      <td>24.973194</td>\n",
       "      <td>16.450931</td>\n",
       "      <td>41409.365207</td>\n",
       "      <td>0.842129</td>\n",
       "    </tr>\n",
       "    <tr>\n",
       "      <th>std</th>\n",
       "      <td>3.523747</td>\n",
       "      <td>6.576856</td>\n",
       "      <td>23.505430</td>\n",
       "      <td>24070.378495</td>\n",
       "      <td>0.222941</td>\n",
       "    </tr>\n",
       "    <tr>\n",
       "      <th>min</th>\n",
       "      <td>1.000000</td>\n",
       "      <td>0.000000</td>\n",
       "      <td>7.000000</td>\n",
       "      <td>0.000000</td>\n",
       "      <td>0.100251</td>\n",
       "    </tr>\n",
       "    <tr>\n",
       "      <th>25%</th>\n",
       "      <td>3.000000</td>\n",
       "      <td>22.000000</td>\n",
       "      <td>9.000000</td>\n",
       "      <td>19831.750000</td>\n",
       "      <td>0.714286</td>\n",
       "    </tr>\n",
       "    <tr>\n",
       "      <th>50%</th>\n",
       "      <td>7.000000</td>\n",
       "      <td>23.000000</td>\n",
       "      <td>9.000000</td>\n",
       "      <td>40485.000000</td>\n",
       "      <td>1.000000</td>\n",
       "    </tr>\n",
       "    <tr>\n",
       "      <th>75%</th>\n",
       "      <td>9.000000</td>\n",
       "      <td>30.000000</td>\n",
       "      <td>12.000000</td>\n",
       "      <td>62560.000000</td>\n",
       "      <td>1.000000</td>\n",
       "    </tr>\n",
       "    <tr>\n",
       "      <th>max</th>\n",
       "      <td>13.000000</td>\n",
       "      <td>46.000000</td>\n",
       "      <td>99.000000</td>\n",
       "      <td>84141.000000</td>\n",
       "      <td>3.000000</td>\n",
       "    </tr>\n",
       "  </tbody>\n",
       "</table>\n",
       "</div>"
      ],
      "text/plain": [
       "          Территория  Подразделение         Разряд        pers_id  \\\n",
       "count  909716.000000  909716.000000  909716.000000  909716.000000   \n",
       "mean        6.681867      24.973194      16.450931   41409.365207   \n",
       "std         3.523747       6.576856      23.505430   24070.378495   \n",
       "min         1.000000       0.000000       7.000000       0.000000   \n",
       "25%         3.000000      22.000000       9.000000   19831.750000   \n",
       "50%         7.000000      23.000000       9.000000   40485.000000   \n",
       "75%         9.000000      30.000000      12.000000   62560.000000   \n",
       "max        13.000000      46.000000      99.000000   84141.000000   \n",
       "\n",
       "                KOTR  \n",
       "count  909716.000000  \n",
       "mean        0.842129  \n",
       "std         0.222941  \n",
       "min         0.100251  \n",
       "25%         0.714286  \n",
       "50%         1.000000  \n",
       "75%         1.000000  \n",
       "max         3.000000  "
      ]
     },
     "execution_count": 7,
     "metadata": {},
     "output_type": "execute_result"
    }
   ],
   "source": [
    "raw_df.describe()"
   ]
  },
  {
   "cell_type": "markdown",
   "metadata": {},
   "source": [
    "Странные максимумы у разряда и KOTR"
   ]
  },
  {
   "cell_type": "markdown",
   "metadata": {},
   "source": [
    "удалим выдающиеся значения, KOTR > 1 быть не может"
   ]
  },
  {
   "cell_type": "code",
   "execution_count": 8,
   "metadata": {},
   "outputs": [
    {
     "data": {
      "text/html": [
       "<div>\n",
       "<style scoped>\n",
       "    .dataframe tbody tr th:only-of-type {\n",
       "        vertical-align: middle;\n",
       "    }\n",
       "\n",
       "    .dataframe tbody tr th {\n",
       "        vertical-align: top;\n",
       "    }\n",
       "\n",
       "    .dataframe thead th {\n",
       "        text-align: right;\n",
       "    }\n",
       "</style>\n",
       "<table border=\"1\" class=\"dataframe\">\n",
       "  <thead>\n",
       "    <tr style=\"text-align: right;\">\n",
       "      <th></th>\n",
       "      <th>Территория</th>\n",
       "      <th>Федеральный округ</th>\n",
       "      <th>Подразделение</th>\n",
       "      <th>Разряд</th>\n",
       "      <th>pers_id</th>\n",
       "      <th>KOTR</th>\n",
       "    </tr>\n",
       "    <tr>\n",
       "      <th>repdate</th>\n",
       "      <th></th>\n",
       "      <th></th>\n",
       "      <th></th>\n",
       "      <th></th>\n",
       "      <th></th>\n",
       "      <th></th>\n",
       "    </tr>\n",
       "  </thead>\n",
       "  <tbody>\n",
       "    <tr>\n",
       "      <th>2017-01-31</th>\n",
       "      <td>5</td>\n",
       "      <td>Южный + Северо-Кавказский</td>\n",
       "      <td>23</td>\n",
       "      <td>12</td>\n",
       "      <td>46882</td>\n",
       "      <td>1.058824</td>\n",
       "    </tr>\n",
       "    <tr>\n",
       "      <th>2017-01-31</th>\n",
       "      <td>6</td>\n",
       "      <td>Приволжский</td>\n",
       "      <td>22</td>\n",
       "      <td>9</td>\n",
       "      <td>54669</td>\n",
       "      <td>1.044118</td>\n",
       "    </tr>\n",
       "    <tr>\n",
       "      <th>2017-01-31</th>\n",
       "      <td>6</td>\n",
       "      <td>Приволжский</td>\n",
       "      <td>22</td>\n",
       "      <td>9</td>\n",
       "      <td>54745</td>\n",
       "      <td>1.058824</td>\n",
       "    </tr>\n",
       "    <tr>\n",
       "      <th>2017-01-31</th>\n",
       "      <td>6</td>\n",
       "      <td>Приволжский</td>\n",
       "      <td>22</td>\n",
       "      <td>9</td>\n",
       "      <td>54737</td>\n",
       "      <td>1.058824</td>\n",
       "    </tr>\n",
       "    <tr>\n",
       "      <th>2017-01-31</th>\n",
       "      <td>6</td>\n",
       "      <td>Приволжский</td>\n",
       "      <td>22</td>\n",
       "      <td>9</td>\n",
       "      <td>54727</td>\n",
       "      <td>1.044118</td>\n",
       "    </tr>\n",
       "  </tbody>\n",
       "</table>\n",
       "</div>"
      ],
      "text/plain": [
       "            Территория          Федеральный округ  Подразделение  Разряд  \\\n",
       "repdate                                                                    \n",
       "2017-01-31           5  Южный + Северо-Кавказский             23      12   \n",
       "2017-01-31           6                Приволжский             22       9   \n",
       "2017-01-31           6                Приволжский             22       9   \n",
       "2017-01-31           6                Приволжский             22       9   \n",
       "2017-01-31           6                Приволжский             22       9   \n",
       "\n",
       "            pers_id      KOTR  \n",
       "repdate                        \n",
       "2017-01-31    46882  1.058824  \n",
       "2017-01-31    54669  1.044118  \n",
       "2017-01-31    54745  1.058824  \n",
       "2017-01-31    54737  1.058824  \n",
       "2017-01-31    54727  1.044118  "
      ]
     },
     "execution_count": 8,
     "metadata": {},
     "output_type": "execute_result"
    }
   ],
   "source": [
    "raw_df[raw_df['KOTR'] > 1].head()"
   ]
  },
  {
   "cell_type": "code",
   "execution_count": 9,
   "metadata": {},
   "outputs": [
    {
     "data": {
      "text/plain": [
       "0.011461818853356433"
      ]
     },
     "execution_count": 9,
     "metadata": {},
     "output_type": "execute_result"
    }
   ],
   "source": [
    "10427  / len(raw_df)"
   ]
  },
  {
   "cell_type": "markdown",
   "metadata": {},
   "source": [
    "Почти 1% данных с некорректной фичой, можно удалить без потери качества."
   ]
  },
  {
   "cell_type": "code",
   "execution_count": 10,
   "metadata": {},
   "outputs": [],
   "source": [
    "raw_df = raw_df[raw_df['KOTR'] <= 1]"
   ]
  },
  {
   "cell_type": "code",
   "execution_count": 11,
   "metadata": {},
   "outputs": [
    {
     "data": {
      "text/plain": [
       "909716"
      ]
     },
     "execution_count": 11,
     "metadata": {},
     "output_type": "execute_result"
    }
   ],
   "source": [
    "len(raw_df) + 10427"
   ]
  },
  {
   "cell_type": "markdown",
   "metadata": {},
   "source": [
    "Проверка разряда на корректность"
   ]
  },
  {
   "cell_type": "code",
   "execution_count": 12,
   "metadata": {},
   "outputs": [
    {
     "data": {
      "text/plain": [
       "array([12,  9, 14, 20,  7, 99])"
      ]
     },
     "execution_count": 12,
     "metadata": {},
     "output_type": "execute_result"
    }
   ],
   "source": [
    "raw_df['Разряд'].unique()"
   ]
  },
  {
   "cell_type": "code",
   "execution_count": 13,
   "metadata": {},
   "outputs": [
    {
     "name": "stdout",
     "output_type": "stream",
     "text": [
      "12 - 0.8547499793229838\n",
      "9 - 0.8260061086100564\n",
      "14 - 0.8844966421953505\n",
      "20 - 0.8983852301781633\n",
      "7 - 0.8089101620630703\n",
      "99 - 0.9014855466997973\n"
     ]
    }
   ],
   "source": [
    "def mean_kotr_by_rank(rank):\n",
    "    print(rank,'-', raw_df[raw_df['Разряд'] == rank]['KOTR'].mean())\n",
    "\n",
    "for i in raw_df['Разряд'].unique():\n",
    "    mean_kotr_by_rank(i)"
   ]
  },
  {
   "cell_type": "markdown",
   "metadata": {},
   "source": [
    "работники 99 разряда в среднем находятся на рабочем месте больше, чем остальные, 9 - меньше."
   ]
  },
  {
   "cell_type": "markdown",
   "metadata": {},
   "source": [
    "кол-во разрядов 6, эти данные в порядке."
   ]
  },
  {
   "cell_type": "markdown",
   "metadata": {},
   "source": [
    "<p style = 'background-color: red'>&#4448;"
   ]
  },
  {
   "cell_type": "markdown",
   "metadata": {},
   "source": [
    "ОДИНАКОВЫЙ ID У РАЗНЫХ ПОДРАЗДЕЛЕНИЙ"
   ]
  },
  {
   "cell_type": "markdown",
   "metadata": {},
   "source": [
    "Откуда могут возникнуть такие артефакты?"
   ]
  },
  {
   "cell_type": "markdown",
   "metadata": {},
   "source": [
    "данных очень мало, не критично их пропустить, но лучше узнать откуда они могут взяться"
   ]
  },
  {
   "attachments": {
    "image.png": {
     "image/png": "[encoded data removed]"
    }
   },
   "cell_type": "markdown",
   "metadata": {},
   "source": [
    "У одного Id 2 подразделения, 2 зп<br>\n",
    "![image.png](attachment:image.png)"
   ]
  },
  {
   "cell_type": "markdown",
   "metadata": {},
   "source": [
    "<p style = 'background-color: red'>&#4448;"
   ]
  },
  {
   "cell_type": "markdown",
   "metadata": {},
   "source": [
    "Поменяем разные цифры одинаковых территорий"
   ]
  },
  {
   "cell_type": "code",
   "execution_count": 14,
   "metadata": {},
   "outputs": [
    {
     "data": {
      "text/plain": [
       "12"
      ]
     },
     "execution_count": 14,
     "metadata": {},
     "output_type": "execute_result"
    }
   ],
   "source": [
    "len(raw_df['Территория'].unique())"
   ]
  },
  {
   "cell_type": "code",
   "execution_count": 15,
   "metadata": {
    "scrolled": true
   },
   "outputs": [
    {
     "data": {
      "text/plain": [
       "8"
      ]
     },
     "execution_count": 15,
     "metadata": {},
     "output_type": "execute_result"
    }
   ],
   "source": [
    "len(raw_df['Федеральный округ'].unique())"
   ]
  },
  {
   "cell_type": "markdown",
   "metadata": {},
   "source": [
    "Одинаковые округа обозначены разными цифрами"
   ]
  },
  {
   "cell_type": "code",
   "execution_count": 16,
   "metadata": {},
   "outputs": [
    {
     "name": "stdout",
     "output_type": "stream",
     "text": [
      "территория =  6\n",
      "['Приволжский']\n",
      "\n",
      "территория =  1\n",
      "['г.Москва']\n",
      "\n",
      "территория =  9\n",
      "['Сибирский']\n",
      "\n",
      "территория =  5\n",
      "['Южный + Северо-Кавказский']\n",
      "\n",
      "территория =  11\n",
      "['Дальневосточный']\n",
      "\n",
      "территория =  3\n",
      "['Северо-Западный']\n",
      "\n",
      "территория =  2\n",
      "['Центральный']\n",
      "\n",
      "территория =  8\n",
      "['Уральский']\n",
      "\n",
      "территория =  10\n",
      "['Дальневосточный']\n",
      "\n",
      "территория =  13\n",
      "['Центральный']\n",
      "\n",
      "территория =  7\n",
      "['Приволжский']\n",
      "\n",
      "территория =  12\n",
      "['г.Москва']\n",
      "\n"
     ]
    }
   ],
   "source": [
    "for i in raw_df['Территория'].unique():\n",
    "    print('территория = ', i)\n",
    "    print(raw_df[raw_df['Территория'] == i]['Федеральный округ'].unique())\n",
    "    print()"
   ]
  },
  {
   "cell_type": "markdown",
   "metadata": {},
   "source": [
    "Москва = 1/12, Приволжский - 6/7, Центральный - 2/13, Дальневосточный - 10/11 "
   ]
  },
  {
   "cell_type": "code",
   "execution_count": 17,
   "metadata": {},
   "outputs": [],
   "source": [
    "raw_df['Территория'].replace([12,7,13,11], [1,6,2,10], inplace = True)"
   ]
  },
  {
   "cell_type": "code",
   "execution_count": 18,
   "metadata": {},
   "outputs": [
    {
     "data": {
      "text/plain": [
       "8"
      ]
     },
     "execution_count": 18,
     "metadata": {},
     "output_type": "execute_result"
    }
   ],
   "source": [
    "len(raw_df['Территория'].unique())"
   ]
  },
  {
   "cell_type": "markdown",
   "metadata": {},
   "source": [
    "Удалим столбец с фед. округами, так как есть фича номер териитории"
   ]
  },
  {
   "cell_type": "code",
   "execution_count": 19,
   "metadata": {},
   "outputs": [],
   "source": [
    "raw_df.drop('Федеральный округ', axis = 1, inplace = True)"
   ]
  },
  {
   "cell_type": "code",
   "execution_count": 20,
   "metadata": {},
   "outputs": [
    {
     "data": {
      "text/html": [
       "<div>\n",
       "<style scoped>\n",
       "    .dataframe tbody tr th:only-of-type {\n",
       "        vertical-align: middle;\n",
       "    }\n",
       "\n",
       "    .dataframe tbody tr th {\n",
       "        vertical-align: top;\n",
       "    }\n",
       "\n",
       "    .dataframe thead th {\n",
       "        text-align: right;\n",
       "    }\n",
       "</style>\n",
       "<table border=\"1\" class=\"dataframe\">\n",
       "  <thead>\n",
       "    <tr style=\"text-align: right;\">\n",
       "      <th></th>\n",
       "      <th>repdate</th>\n",
       "      <th>Территория</th>\n",
       "      <th>Подразделение</th>\n",
       "      <th>Разряд</th>\n",
       "      <th>pers_id</th>\n",
       "      <th>KOTR</th>\n",
       "    </tr>\n",
       "  </thead>\n",
       "  <tbody>\n",
       "    <tr>\n",
       "      <th>0</th>\n",
       "      <td>2017-01-31</td>\n",
       "      <td>6</td>\n",
       "      <td>23</td>\n",
       "      <td>12</td>\n",
       "      <td>55067</td>\n",
       "      <td>1.000000</td>\n",
       "    </tr>\n",
       "    <tr>\n",
       "      <th>1</th>\n",
       "      <td>2017-01-31</td>\n",
       "      <td>1</td>\n",
       "      <td>33</td>\n",
       "      <td>9</td>\n",
       "      <td>15668</td>\n",
       "      <td>0.764706</td>\n",
       "    </tr>\n",
       "    <tr>\n",
       "      <th>2</th>\n",
       "      <td>2017-01-31</td>\n",
       "      <td>1</td>\n",
       "      <td>33</td>\n",
       "      <td>9</td>\n",
       "      <td>15669</td>\n",
       "      <td>0.500000</td>\n",
       "    </tr>\n",
       "    <tr>\n",
       "      <th>3</th>\n",
       "      <td>2017-01-31</td>\n",
       "      <td>1</td>\n",
       "      <td>33</td>\n",
       "      <td>9</td>\n",
       "      <td>15670</td>\n",
       "      <td>1.000000</td>\n",
       "    </tr>\n",
       "    <tr>\n",
       "      <th>4</th>\n",
       "      <td>2017-01-31</td>\n",
       "      <td>1</td>\n",
       "      <td>33</td>\n",
       "      <td>9</td>\n",
       "      <td>15671</td>\n",
       "      <td>1.000000</td>\n",
       "    </tr>\n",
       "    <tr>\n",
       "      <th>...</th>\n",
       "      <td>...</td>\n",
       "      <td>...</td>\n",
       "      <td>...</td>\n",
       "      <td>...</td>\n",
       "      <td>...</td>\n",
       "      <td>...</td>\n",
       "    </tr>\n",
       "    <tr>\n",
       "      <th>899284</th>\n",
       "      <td>2020-12-31</td>\n",
       "      <td>8</td>\n",
       "      <td>33</td>\n",
       "      <td>12</td>\n",
       "      <td>10800</td>\n",
       "      <td>1.000000</td>\n",
       "    </tr>\n",
       "    <tr>\n",
       "      <th>899285</th>\n",
       "      <td>2020-12-31</td>\n",
       "      <td>8</td>\n",
       "      <td>33</td>\n",
       "      <td>12</td>\n",
       "      <td>6477</td>\n",
       "      <td>0.830601</td>\n",
       "    </tr>\n",
       "    <tr>\n",
       "      <th>899286</th>\n",
       "      <td>2020-12-31</td>\n",
       "      <td>8</td>\n",
       "      <td>33</td>\n",
       "      <td>12</td>\n",
       "      <td>6047</td>\n",
       "      <td>1.000000</td>\n",
       "    </tr>\n",
       "    <tr>\n",
       "      <th>899287</th>\n",
       "      <td>2020-12-31</td>\n",
       "      <td>8</td>\n",
       "      <td>33</td>\n",
       "      <td>12</td>\n",
       "      <td>8324</td>\n",
       "      <td>0.612022</td>\n",
       "    </tr>\n",
       "    <tr>\n",
       "      <th>899288</th>\n",
       "      <td>2020-12-31</td>\n",
       "      <td>10</td>\n",
       "      <td>8</td>\n",
       "      <td>9</td>\n",
       "      <td>74606</td>\n",
       "      <td>1.000000</td>\n",
       "    </tr>\n",
       "  </tbody>\n",
       "</table>\n",
       "<p>899289 rows × 6 columns</p>\n",
       "</div>"
      ],
      "text/plain": [
       "          repdate  Территория  Подразделение  Разряд  pers_id      KOTR\n",
       "0      2017-01-31           6             23      12    55067  1.000000\n",
       "1      2017-01-31           1             33       9    15668  0.764706\n",
       "2      2017-01-31           1             33       9    15669  0.500000\n",
       "3      2017-01-31           1             33       9    15670  1.000000\n",
       "4      2017-01-31           1             33       9    15671  1.000000\n",
       "...           ...         ...            ...     ...      ...       ...\n",
       "899284 2020-12-31           8             33      12    10800  1.000000\n",
       "899285 2020-12-31           8             33      12     6477  0.830601\n",
       "899286 2020-12-31           8             33      12     6047  1.000000\n",
       "899287 2020-12-31           8             33      12     8324  0.612022\n",
       "899288 2020-12-31          10              8       9    74606  1.000000\n",
       "\n",
       "[899289 rows x 6 columns]"
      ]
     },
     "execution_count": 20,
     "metadata": {},
     "output_type": "execute_result"
    }
   ],
   "source": [
    "raw_df.reset_index(inplace = True)\n",
    "raw_df"
   ]
  },
  {
   "cell_type": "markdown",
   "metadata": {},
   "source": [
    "# Написание функций для работы с временными рядами по определенным разрядам"
   ]
  },
  {
   "cell_type": "markdown",
   "metadata": {},
   "source": [
    "### План работы:\n",
    "<a href='#step_1'>Шаг 1. Получение общей информации и подготвка данных.</a><br>\n",
    "<a href='#step_2'>Шаг 2. Написание функций для работы с временными рядами по определенным разрядам.</a><br>\n",
    "<a href='#step_3'>Шаг 3. Написание функций для обучения моделей машинного обучения.</a><br>\n",
    "<a href='#step_4'>Шаг 4. Тестирование моделей. </a><br>\n",
    "<a href='#step_5'>Шаг 5. Общий вывод.</a><br>"
   ]
  },
  {
   "cell_type": "markdown",
   "metadata": {},
   "source": [
    "<a id ='step_2'></a>"
   ]
  },
  {
   "cell_type": "markdown",
   "metadata": {},
   "source": [
    "ГРУППИРОВКА ПО ТЕРРИТОРИИ, ПОДРАЗДЕЛЕНИЮ, РАЗРЯДУ, ДАТЕ с добавлением количества сотрудников в разряде в месяце (вряд ли кол-во сотрудников в подразделении/территории может сильно влиять на разряд, создавать несколько фичей нет смысла - они линейно зависимы)"
   ]
  },
  {
   "cell_type": "code",
   "execution_count": 21,
   "metadata": {},
   "outputs": [],
   "source": [
    "group_by_ranks = pd.pivot_table(raw_df,\n",
    "                                index = ['Территория','Подразделение', 'Разряд','repdate'],\n",
    "                                values = 'KOTR',\n",
    "                                aggfunc= 'mean')\n",
    "group_by_ranks['count_pers_in_month'] = raw_df.groupby(['Территория', 'Подразделение',\n",
    "                                           'Разряд', 'repdate'])['pers_id'].count().reset_index()['pers_id'].values"
   ]
  },
  {
   "cell_type": "code",
   "execution_count": 22,
   "metadata": {},
   "outputs": [
    {
     "data": {
      "text/html": [
       "<div>\n",
       "<style scoped>\n",
       "    .dataframe tbody tr th:only-of-type {\n",
       "        vertical-align: middle;\n",
       "    }\n",
       "\n",
       "    .dataframe tbody tr th {\n",
       "        vertical-align: top;\n",
       "    }\n",
       "\n",
       "    .dataframe thead th {\n",
       "        text-align: right;\n",
       "    }\n",
       "</style>\n",
       "<table border=\"1\" class=\"dataframe\">\n",
       "  <thead>\n",
       "    <tr style=\"text-align: right;\">\n",
       "      <th></th>\n",
       "      <th>Территория</th>\n",
       "      <th>Подразделение</th>\n",
       "      <th>Разряд</th>\n",
       "      <th>repdate</th>\n",
       "      <th>KOTR</th>\n",
       "      <th>count_pers_in_month</th>\n",
       "    </tr>\n",
       "  </thead>\n",
       "  <tbody>\n",
       "    <tr>\n",
       "      <th>0</th>\n",
       "      <td>1</td>\n",
       "      <td>0</td>\n",
       "      <td>99</td>\n",
       "      <td>2019-01-31</td>\n",
       "      <td>0.921250</td>\n",
       "      <td>223</td>\n",
       "    </tr>\n",
       "    <tr>\n",
       "      <th>1</th>\n",
       "      <td>1</td>\n",
       "      <td>0</td>\n",
       "      <td>99</td>\n",
       "      <td>2019-02-28</td>\n",
       "      <td>0.932864</td>\n",
       "      <td>258</td>\n",
       "    </tr>\n",
       "    <tr>\n",
       "      <th>2</th>\n",
       "      <td>1</td>\n",
       "      <td>0</td>\n",
       "      <td>99</td>\n",
       "      <td>2019-03-31</td>\n",
       "      <td>0.900464</td>\n",
       "      <td>259</td>\n",
       "    </tr>\n",
       "    <tr>\n",
       "      <th>3</th>\n",
       "      <td>1</td>\n",
       "      <td>0</td>\n",
       "      <td>99</td>\n",
       "      <td>2019-04-30</td>\n",
       "      <td>0.915691</td>\n",
       "      <td>270</td>\n",
       "    </tr>\n",
       "    <tr>\n",
       "      <th>4</th>\n",
       "      <td>1</td>\n",
       "      <td>0</td>\n",
       "      <td>99</td>\n",
       "      <td>2019-05-31</td>\n",
       "      <td>0.919472</td>\n",
       "      <td>318</td>\n",
       "    </tr>\n",
       "    <tr>\n",
       "      <th>...</th>\n",
       "      <td>...</td>\n",
       "      <td>...</td>\n",
       "      <td>...</td>\n",
       "      <td>...</td>\n",
       "      <td>...</td>\n",
       "      <td>...</td>\n",
       "    </tr>\n",
       "    <tr>\n",
       "      <th>15068</th>\n",
       "      <td>10</td>\n",
       "      <td>37</td>\n",
       "      <td>12</td>\n",
       "      <td>2020-08-31</td>\n",
       "      <td>0.831169</td>\n",
       "      <td>11</td>\n",
       "    </tr>\n",
       "    <tr>\n",
       "      <th>15069</th>\n",
       "      <td>10</td>\n",
       "      <td>37</td>\n",
       "      <td>12</td>\n",
       "      <td>2020-09-30</td>\n",
       "      <td>0.789256</td>\n",
       "      <td>11</td>\n",
       "    </tr>\n",
       "    <tr>\n",
       "      <th>15070</th>\n",
       "      <td>10</td>\n",
       "      <td>37</td>\n",
       "      <td>12</td>\n",
       "      <td>2020-10-31</td>\n",
       "      <td>0.904959</td>\n",
       "      <td>11</td>\n",
       "    </tr>\n",
       "    <tr>\n",
       "      <th>15071</th>\n",
       "      <td>10</td>\n",
       "      <td>37</td>\n",
       "      <td>12</td>\n",
       "      <td>2020-11-30</td>\n",
       "      <td>0.859748</td>\n",
       "      <td>10</td>\n",
       "    </tr>\n",
       "    <tr>\n",
       "      <th>15072</th>\n",
       "      <td>10</td>\n",
       "      <td>37</td>\n",
       "      <td>12</td>\n",
       "      <td>2020-12-31</td>\n",
       "      <td>0.964232</td>\n",
       "      <td>11</td>\n",
       "    </tr>\n",
       "  </tbody>\n",
       "</table>\n",
       "<p>15073 rows × 6 columns</p>\n",
       "</div>"
      ],
      "text/plain": [
       "       Территория  Подразделение  Разряд    repdate      KOTR  \\\n",
       "0               1              0      99 2019-01-31  0.921250   \n",
       "1               1              0      99 2019-02-28  0.932864   \n",
       "2               1              0      99 2019-03-31  0.900464   \n",
       "3               1              0      99 2019-04-30  0.915691   \n",
       "4               1              0      99 2019-05-31  0.919472   \n",
       "...           ...            ...     ...        ...       ...   \n",
       "15068          10             37      12 2020-08-31  0.831169   \n",
       "15069          10             37      12 2020-09-30  0.789256   \n",
       "15070          10             37      12 2020-10-31  0.904959   \n",
       "15071          10             37      12 2020-11-30  0.859748   \n",
       "15072          10             37      12 2020-12-31  0.964232   \n",
       "\n",
       "       count_pers_in_month  \n",
       "0                      223  \n",
       "1                      258  \n",
       "2                      259  \n",
       "3                      270  \n",
       "4                      318  \n",
       "...                    ...  \n",
       "15068                   11  \n",
       "15069                   11  \n",
       "15070                   11  \n",
       "15071                   10  \n",
       "15072                   11  \n",
       "\n",
       "[15073 rows x 6 columns]"
      ]
     },
     "execution_count": 22,
     "metadata": {},
     "output_type": "execute_result"
    }
   ],
   "source": [
    "group_by_ranks.reset_index(inplace = True)\n",
    "group_by_ranks"
   ]
  },
  {
   "cell_type": "markdown",
   "metadata": {},
   "source": [
    "Таблица ВРЕМЕННОГО РЯДА ДЛЯ x РАЗРЯДА В y ПОДРАЗДЕЛЕНИИ НА z ТЕРРИТОРИИ"
   ]
  },
  {
   "cell_type": "code",
   "execution_count": 23,
   "metadata": {},
   "outputs": [],
   "source": [
    "def plot_ter_sub_rank_KOTR(ter,sub,rank):\n",
    "    a,b,c = ter,sub,rank\n",
    "    grouped_df = group_by_ranks.query('Территория == @a and \\\n",
    "                          Подразделение == @b and \\\n",
    "                          Разряд == @c').copy()\n",
    "    grouped_df = grouped_df[['repdate', 'KOTR', 'count_pers_in_month']].set_index('repdate')\n",
    "    return grouped_df"
   ]
  },
  {
   "cell_type": "code",
   "execution_count": 24,
   "metadata": {
    "scrolled": true
   },
   "outputs": [],
   "source": [
    "test_df = plot_ter_sub_rank_KOTR(3,27,14)"
   ]
  },
  {
   "cell_type": "code",
   "execution_count": 25,
   "metadata": {
    "scrolled": true
   },
   "outputs": [
    {
     "data": {
      "text/html": [
       "<div>\n",
       "<style scoped>\n",
       "    .dataframe tbody tr th:only-of-type {\n",
       "        vertical-align: middle;\n",
       "    }\n",
       "\n",
       "    .dataframe tbody tr th {\n",
       "        vertical-align: top;\n",
       "    }\n",
       "\n",
       "    .dataframe thead th {\n",
       "        text-align: right;\n",
       "    }\n",
       "</style>\n",
       "<table border=\"1\" class=\"dataframe\">\n",
       "  <thead>\n",
       "    <tr style=\"text-align: right;\">\n",
       "      <th></th>\n",
       "      <th>KOTR</th>\n",
       "      <th>count_pers_in_month</th>\n",
       "    </tr>\n",
       "    <tr>\n",
       "      <th>repdate</th>\n",
       "      <th></th>\n",
       "      <th></th>\n",
       "    </tr>\n",
       "  </thead>\n",
       "  <tbody>\n",
       "    <tr>\n",
       "      <th>2017-01-31</th>\n",
       "      <td>1.000000</td>\n",
       "      <td>2</td>\n",
       "    </tr>\n",
       "    <tr>\n",
       "      <th>2017-02-28</th>\n",
       "      <td>0.863636</td>\n",
       "      <td>2</td>\n",
       "    </tr>\n",
       "    <tr>\n",
       "      <th>2017-03-31</th>\n",
       "      <td>1.000000</td>\n",
       "      <td>2</td>\n",
       "    </tr>\n",
       "    <tr>\n",
       "      <th>2017-04-30</th>\n",
       "      <td>1.000000</td>\n",
       "      <td>2</td>\n",
       "    </tr>\n",
       "    <tr>\n",
       "      <th>2017-05-31</th>\n",
       "      <td>0.900000</td>\n",
       "      <td>2</td>\n",
       "    </tr>\n",
       "    <tr>\n",
       "      <th>2017-06-30</th>\n",
       "      <td>0.952381</td>\n",
       "      <td>2</td>\n",
       "    </tr>\n",
       "    <tr>\n",
       "      <th>2017-07-31</th>\n",
       "      <td>0.809524</td>\n",
       "      <td>2</td>\n",
       "    </tr>\n",
       "    <tr>\n",
       "      <th>2017-08-31</th>\n",
       "      <td>1.000000</td>\n",
       "      <td>2</td>\n",
       "    </tr>\n",
       "    <tr>\n",
       "      <th>2017-09-30</th>\n",
       "      <td>0.642857</td>\n",
       "      <td>2</td>\n",
       "    </tr>\n",
       "    <tr>\n",
       "      <th>2017-10-31</th>\n",
       "      <td>0.954545</td>\n",
       "      <td>2</td>\n",
       "    </tr>\n",
       "    <tr>\n",
       "      <th>2017-11-30</th>\n",
       "      <td>1.000000</td>\n",
       "      <td>2</td>\n",
       "    </tr>\n",
       "    <tr>\n",
       "      <th>2017-12-31</th>\n",
       "      <td>1.000000</td>\n",
       "      <td>2</td>\n",
       "    </tr>\n",
       "    <tr>\n",
       "      <th>2018-01-31</th>\n",
       "      <td>1.000000</td>\n",
       "      <td>2</td>\n",
       "    </tr>\n",
       "    <tr>\n",
       "      <th>2018-02-28</th>\n",
       "      <td>1.000000</td>\n",
       "      <td>1</td>\n",
       "    </tr>\n",
       "    <tr>\n",
       "      <th>2018-03-31</th>\n",
       "      <td>0.955975</td>\n",
       "      <td>1</td>\n",
       "    </tr>\n",
       "    <tr>\n",
       "      <th>2018-04-30</th>\n",
       "      <td>1.000000</td>\n",
       "      <td>1</td>\n",
       "    </tr>\n",
       "    <tr>\n",
       "      <th>2018-05-31</th>\n",
       "      <td>0.899371</td>\n",
       "      <td>1</td>\n",
       "    </tr>\n",
       "    <tr>\n",
       "      <th>2018-06-30</th>\n",
       "      <td>0.748428</td>\n",
       "      <td>1</td>\n",
       "    </tr>\n",
       "    <tr>\n",
       "      <th>2018-07-31</th>\n",
       "      <td>0.590909</td>\n",
       "      <td>1</td>\n",
       "    </tr>\n",
       "    <tr>\n",
       "      <th>2018-08-31</th>\n",
       "      <td>0.434783</td>\n",
       "      <td>1</td>\n",
       "    </tr>\n",
       "    <tr>\n",
       "      <th>2019-04-30</th>\n",
       "      <td>1.000000</td>\n",
       "      <td>1</td>\n",
       "    </tr>\n",
       "    <tr>\n",
       "      <th>2019-05-31</th>\n",
       "      <td>1.000000</td>\n",
       "      <td>2</td>\n",
       "    </tr>\n",
       "    <tr>\n",
       "      <th>2019-06-30</th>\n",
       "      <td>0.602649</td>\n",
       "      <td>2</td>\n",
       "    </tr>\n",
       "    <tr>\n",
       "      <th>2019-07-31</th>\n",
       "      <td>0.826087</td>\n",
       "      <td>2</td>\n",
       "    </tr>\n",
       "    <tr>\n",
       "      <th>2019-08-31</th>\n",
       "      <td>1.000000</td>\n",
       "      <td>2</td>\n",
       "    </tr>\n",
       "    <tr>\n",
       "      <th>2019-09-30</th>\n",
       "      <td>0.761905</td>\n",
       "      <td>2</td>\n",
       "    </tr>\n",
       "    <tr>\n",
       "      <th>2019-10-31</th>\n",
       "      <td>0.956522</td>\n",
       "      <td>2</td>\n",
       "    </tr>\n",
       "    <tr>\n",
       "      <th>2019-11-30</th>\n",
       "      <td>1.000000</td>\n",
       "      <td>1</td>\n",
       "    </tr>\n",
       "    <tr>\n",
       "      <th>2019-12-31</th>\n",
       "      <td>1.000000</td>\n",
       "      <td>1</td>\n",
       "    </tr>\n",
       "    <tr>\n",
       "      <th>2020-01-31</th>\n",
       "      <td>1.000000</td>\n",
       "      <td>2</td>\n",
       "    </tr>\n",
       "    <tr>\n",
       "      <th>2020-02-29</th>\n",
       "      <td>0.921053</td>\n",
       "      <td>2</td>\n",
       "    </tr>\n",
       "    <tr>\n",
       "      <th>2020-03-31</th>\n",
       "      <td>1.000000</td>\n",
       "      <td>2</td>\n",
       "    </tr>\n",
       "    <tr>\n",
       "      <th>2020-04-30</th>\n",
       "      <td>1.000000</td>\n",
       "      <td>2</td>\n",
       "    </tr>\n",
       "    <tr>\n",
       "      <th>2020-05-31</th>\n",
       "      <td>0.648148</td>\n",
       "      <td>2</td>\n",
       "    </tr>\n",
       "    <tr>\n",
       "      <th>2020-06-30</th>\n",
       "      <td>0.952096</td>\n",
       "      <td>2</td>\n",
       "    </tr>\n",
       "    <tr>\n",
       "      <th>2020-07-31</th>\n",
       "      <td>0.847826</td>\n",
       "      <td>2</td>\n",
       "    </tr>\n",
       "    <tr>\n",
       "      <th>2020-08-31</th>\n",
       "      <td>0.857143</td>\n",
       "      <td>2</td>\n",
       "    </tr>\n",
       "    <tr>\n",
       "      <th>2020-09-30</th>\n",
       "      <td>0.727273</td>\n",
       "      <td>2</td>\n",
       "    </tr>\n",
       "    <tr>\n",
       "      <th>2020-10-31</th>\n",
       "      <td>0.954545</td>\n",
       "      <td>2</td>\n",
       "    </tr>\n",
       "    <tr>\n",
       "      <th>2020-11-30</th>\n",
       "      <td>1.000000</td>\n",
       "      <td>2</td>\n",
       "    </tr>\n",
       "    <tr>\n",
       "      <th>2020-12-31</th>\n",
       "      <td>1.000000</td>\n",
       "      <td>2</td>\n",
       "    </tr>\n",
       "  </tbody>\n",
       "</table>\n",
       "</div>"
      ],
      "text/plain": [
       "                KOTR  count_pers_in_month\n",
       "repdate                                  \n",
       "2017-01-31  1.000000                    2\n",
       "2017-02-28  0.863636                    2\n",
       "2017-03-31  1.000000                    2\n",
       "2017-04-30  1.000000                    2\n",
       "2017-05-31  0.900000                    2\n",
       "2017-06-30  0.952381                    2\n",
       "2017-07-31  0.809524                    2\n",
       "2017-08-31  1.000000                    2\n",
       "2017-09-30  0.642857                    2\n",
       "2017-10-31  0.954545                    2\n",
       "2017-11-30  1.000000                    2\n",
       "2017-12-31  1.000000                    2\n",
       "2018-01-31  1.000000                    2\n",
       "2018-02-28  1.000000                    1\n",
       "2018-03-31  0.955975                    1\n",
       "2018-04-30  1.000000                    1\n",
       "2018-05-31  0.899371                    1\n",
       "2018-06-30  0.748428                    1\n",
       "2018-07-31  0.590909                    1\n",
       "2018-08-31  0.434783                    1\n",
       "2019-04-30  1.000000                    1\n",
       "2019-05-31  1.000000                    2\n",
       "2019-06-30  0.602649                    2\n",
       "2019-07-31  0.826087                    2\n",
       "2019-08-31  1.000000                    2\n",
       "2019-09-30  0.761905                    2\n",
       "2019-10-31  0.956522                    2\n",
       "2019-11-30  1.000000                    1\n",
       "2019-12-31  1.000000                    1\n",
       "2020-01-31  1.000000                    2\n",
       "2020-02-29  0.921053                    2\n",
       "2020-03-31  1.000000                    2\n",
       "2020-04-30  1.000000                    2\n",
       "2020-05-31  0.648148                    2\n",
       "2020-06-30  0.952096                    2\n",
       "2020-07-31  0.847826                    2\n",
       "2020-08-31  0.857143                    2\n",
       "2020-09-30  0.727273                    2\n",
       "2020-10-31  0.954545                    2\n",
       "2020-11-30  1.000000                    2\n",
       "2020-12-31  1.000000                    2"
      ]
     },
     "execution_count": 25,
     "metadata": {},
     "output_type": "execute_result"
    }
   ],
   "source": [
    "test_df"
   ]
  },
  {
   "cell_type": "markdown",
   "metadata": {},
   "source": [
    "Функция создания lag'ов и скользящего среднего по данным, на которых модель будет обучаться"
   ]
  },
  {
   "cell_type": "code",
   "execution_count": 26,
   "metadata": {},
   "outputs": [],
   "source": [
    "def create_shift(dataframe, lag, num_roll):\n",
    "    new_dataframe = dataframe.copy()\n",
    "    new_dataframe['year'] = new_dataframe.index.year\n",
    "    new_dataframe['month'] = new_dataframe.index.month\n",
    "    for i in range(1, lag + 1):\n",
    "        new_dataframe['lag_{}'.format(i)] = new_dataframe['KOTR'].shift(i)\n",
    "    new_dataframe['rolling_mean'] = new_dataframe['KOTR'].shift().rolling(num_roll).mean()\n",
    "    new_dataframe = new_dataframe.dropna()\n",
    "    return new_dataframe"
   ]
  },
  {
   "cell_type": "markdown",
   "metadata": {},
   "source": [
    "В проекте длина lag'а взята равной сезонности - 12."
   ]
  },
  {
   "cell_type": "code",
   "execution_count": 27,
   "metadata": {},
   "outputs": [],
   "source": [
    "new_raw_df = create_shift(test_df, 12, 2)"
   ]
  },
  {
   "cell_type": "code",
   "execution_count": 28,
   "metadata": {
    "scrolled": true
   },
   "outputs": [
    {
     "data": {
      "text/html": [
       "<div>\n",
       "<style scoped>\n",
       "    .dataframe tbody tr th:only-of-type {\n",
       "        vertical-align: middle;\n",
       "    }\n",
       "\n",
       "    .dataframe tbody tr th {\n",
       "        vertical-align: top;\n",
       "    }\n",
       "\n",
       "    .dataframe thead th {\n",
       "        text-align: right;\n",
       "    }\n",
       "</style>\n",
       "<table border=\"1\" class=\"dataframe\">\n",
       "  <thead>\n",
       "    <tr style=\"text-align: right;\">\n",
       "      <th></th>\n",
       "      <th>KOTR</th>\n",
       "      <th>count_pers_in_month</th>\n",
       "      <th>year</th>\n",
       "      <th>month</th>\n",
       "      <th>lag_1</th>\n",
       "      <th>lag_2</th>\n",
       "      <th>lag_3</th>\n",
       "      <th>lag_4</th>\n",
       "      <th>lag_5</th>\n",
       "      <th>lag_6</th>\n",
       "      <th>lag_7</th>\n",
       "      <th>lag_8</th>\n",
       "      <th>lag_9</th>\n",
       "      <th>lag_10</th>\n",
       "      <th>lag_11</th>\n",
       "      <th>lag_12</th>\n",
       "      <th>rolling_mean</th>\n",
       "    </tr>\n",
       "    <tr>\n",
       "      <th>repdate</th>\n",
       "      <th></th>\n",
       "      <th></th>\n",
       "      <th></th>\n",
       "      <th></th>\n",
       "      <th></th>\n",
       "      <th></th>\n",
       "      <th></th>\n",
       "      <th></th>\n",
       "      <th></th>\n",
       "      <th></th>\n",
       "      <th></th>\n",
       "      <th></th>\n",
       "      <th></th>\n",
       "      <th></th>\n",
       "      <th></th>\n",
       "      <th></th>\n",
       "      <th></th>\n",
       "    </tr>\n",
       "  </thead>\n",
       "  <tbody>\n",
       "    <tr>\n",
       "      <th>2018-01-31</th>\n",
       "      <td>1.000000</td>\n",
       "      <td>2</td>\n",
       "      <td>2018</td>\n",
       "      <td>1</td>\n",
       "      <td>1.000000</td>\n",
       "      <td>1.000000</td>\n",
       "      <td>0.954545</td>\n",
       "      <td>0.642857</td>\n",
       "      <td>1.000000</td>\n",
       "      <td>0.809524</td>\n",
       "      <td>0.952381</td>\n",
       "      <td>0.900000</td>\n",
       "      <td>1.000000</td>\n",
       "      <td>1.000000</td>\n",
       "      <td>0.863636</td>\n",
       "      <td>1.000000</td>\n",
       "      <td>1.000000</td>\n",
       "    </tr>\n",
       "    <tr>\n",
       "      <th>2018-02-28</th>\n",
       "      <td>1.000000</td>\n",
       "      <td>1</td>\n",
       "      <td>2018</td>\n",
       "      <td>2</td>\n",
       "      <td>1.000000</td>\n",
       "      <td>1.000000</td>\n",
       "      <td>1.000000</td>\n",
       "      <td>0.954545</td>\n",
       "      <td>0.642857</td>\n",
       "      <td>1.000000</td>\n",
       "      <td>0.809524</td>\n",
       "      <td>0.952381</td>\n",
       "      <td>0.900000</td>\n",
       "      <td>1.000000</td>\n",
       "      <td>1.000000</td>\n",
       "      <td>0.863636</td>\n",
       "      <td>1.000000</td>\n",
       "    </tr>\n",
       "    <tr>\n",
       "      <th>2018-03-31</th>\n",
       "      <td>0.955975</td>\n",
       "      <td>1</td>\n",
       "      <td>2018</td>\n",
       "      <td>3</td>\n",
       "      <td>1.000000</td>\n",
       "      <td>1.000000</td>\n",
       "      <td>1.000000</td>\n",
       "      <td>1.000000</td>\n",
       "      <td>0.954545</td>\n",
       "      <td>0.642857</td>\n",
       "      <td>1.000000</td>\n",
       "      <td>0.809524</td>\n",
       "      <td>0.952381</td>\n",
       "      <td>0.900000</td>\n",
       "      <td>1.000000</td>\n",
       "      <td>1.000000</td>\n",
       "      <td>1.000000</td>\n",
       "    </tr>\n",
       "    <tr>\n",
       "      <th>2018-04-30</th>\n",
       "      <td>1.000000</td>\n",
       "      <td>1</td>\n",
       "      <td>2018</td>\n",
       "      <td>4</td>\n",
       "      <td>0.955975</td>\n",
       "      <td>1.000000</td>\n",
       "      <td>1.000000</td>\n",
       "      <td>1.000000</td>\n",
       "      <td>1.000000</td>\n",
       "      <td>0.954545</td>\n",
       "      <td>0.642857</td>\n",
       "      <td>1.000000</td>\n",
       "      <td>0.809524</td>\n",
       "      <td>0.952381</td>\n",
       "      <td>0.900000</td>\n",
       "      <td>1.000000</td>\n",
       "      <td>0.977987</td>\n",
       "    </tr>\n",
       "    <tr>\n",
       "      <th>2018-05-31</th>\n",
       "      <td>0.899371</td>\n",
       "      <td>1</td>\n",
       "      <td>2018</td>\n",
       "      <td>5</td>\n",
       "      <td>1.000000</td>\n",
       "      <td>0.955975</td>\n",
       "      <td>1.000000</td>\n",
       "      <td>1.000000</td>\n",
       "      <td>1.000000</td>\n",
       "      <td>1.000000</td>\n",
       "      <td>0.954545</td>\n",
       "      <td>0.642857</td>\n",
       "      <td>1.000000</td>\n",
       "      <td>0.809524</td>\n",
       "      <td>0.952381</td>\n",
       "      <td>0.900000</td>\n",
       "      <td>0.977987</td>\n",
       "    </tr>\n",
       "    <tr>\n",
       "      <th>2018-06-30</th>\n",
       "      <td>0.748428</td>\n",
       "      <td>1</td>\n",
       "      <td>2018</td>\n",
       "      <td>6</td>\n",
       "      <td>0.899371</td>\n",
       "      <td>1.000000</td>\n",
       "      <td>0.955975</td>\n",
       "      <td>1.000000</td>\n",
       "      <td>1.000000</td>\n",
       "      <td>1.000000</td>\n",
       "      <td>1.000000</td>\n",
       "      <td>0.954545</td>\n",
       "      <td>0.642857</td>\n",
       "      <td>1.000000</td>\n",
       "      <td>0.809524</td>\n",
       "      <td>0.952381</td>\n",
       "      <td>0.949686</td>\n",
       "    </tr>\n",
       "    <tr>\n",
       "      <th>2018-07-31</th>\n",
       "      <td>0.590909</td>\n",
       "      <td>1</td>\n",
       "      <td>2018</td>\n",
       "      <td>7</td>\n",
       "      <td>0.748428</td>\n",
       "      <td>0.899371</td>\n",
       "      <td>1.000000</td>\n",
       "      <td>0.955975</td>\n",
       "      <td>1.000000</td>\n",
       "      <td>1.000000</td>\n",
       "      <td>1.000000</td>\n",
       "      <td>1.000000</td>\n",
       "      <td>0.954545</td>\n",
       "      <td>0.642857</td>\n",
       "      <td>1.000000</td>\n",
       "      <td>0.809524</td>\n",
       "      <td>0.823899</td>\n",
       "    </tr>\n",
       "    <tr>\n",
       "      <th>2018-08-31</th>\n",
       "      <td>0.434783</td>\n",
       "      <td>1</td>\n",
       "      <td>2018</td>\n",
       "      <td>8</td>\n",
       "      <td>0.590909</td>\n",
       "      <td>0.748428</td>\n",
       "      <td>0.899371</td>\n",
       "      <td>1.000000</td>\n",
       "      <td>0.955975</td>\n",
       "      <td>1.000000</td>\n",
       "      <td>1.000000</td>\n",
       "      <td>1.000000</td>\n",
       "      <td>1.000000</td>\n",
       "      <td>0.954545</td>\n",
       "      <td>0.642857</td>\n",
       "      <td>1.000000</td>\n",
       "      <td>0.669668</td>\n",
       "    </tr>\n",
       "    <tr>\n",
       "      <th>2019-04-30</th>\n",
       "      <td>1.000000</td>\n",
       "      <td>1</td>\n",
       "      <td>2019</td>\n",
       "      <td>4</td>\n",
       "      <td>0.434783</td>\n",
       "      <td>0.590909</td>\n",
       "      <td>0.748428</td>\n",
       "      <td>0.899371</td>\n",
       "      <td>1.000000</td>\n",
       "      <td>0.955975</td>\n",
       "      <td>1.000000</td>\n",
       "      <td>1.000000</td>\n",
       "      <td>1.000000</td>\n",
       "      <td>1.000000</td>\n",
       "      <td>0.954545</td>\n",
       "      <td>0.642857</td>\n",
       "      <td>0.512846</td>\n",
       "    </tr>\n",
       "    <tr>\n",
       "      <th>2019-05-31</th>\n",
       "      <td>1.000000</td>\n",
       "      <td>2</td>\n",
       "      <td>2019</td>\n",
       "      <td>5</td>\n",
       "      <td>1.000000</td>\n",
       "      <td>0.434783</td>\n",
       "      <td>0.590909</td>\n",
       "      <td>0.748428</td>\n",
       "      <td>0.899371</td>\n",
       "      <td>1.000000</td>\n",
       "      <td>0.955975</td>\n",
       "      <td>1.000000</td>\n",
       "      <td>1.000000</td>\n",
       "      <td>1.000000</td>\n",
       "      <td>1.000000</td>\n",
       "      <td>0.954545</td>\n",
       "      <td>0.717391</td>\n",
       "    </tr>\n",
       "    <tr>\n",
       "      <th>2019-06-30</th>\n",
       "      <td>0.602649</td>\n",
       "      <td>2</td>\n",
       "      <td>2019</td>\n",
       "      <td>6</td>\n",
       "      <td>1.000000</td>\n",
       "      <td>1.000000</td>\n",
       "      <td>0.434783</td>\n",
       "      <td>0.590909</td>\n",
       "      <td>0.748428</td>\n",
       "      <td>0.899371</td>\n",
       "      <td>1.000000</td>\n",
       "      <td>0.955975</td>\n",
       "      <td>1.000000</td>\n",
       "      <td>1.000000</td>\n",
       "      <td>1.000000</td>\n",
       "      <td>1.000000</td>\n",
       "      <td>1.000000</td>\n",
       "    </tr>\n",
       "    <tr>\n",
       "      <th>2019-07-31</th>\n",
       "      <td>0.826087</td>\n",
       "      <td>2</td>\n",
       "      <td>2019</td>\n",
       "      <td>7</td>\n",
       "      <td>0.602649</td>\n",
       "      <td>1.000000</td>\n",
       "      <td>1.000000</td>\n",
       "      <td>0.434783</td>\n",
       "      <td>0.590909</td>\n",
       "      <td>0.748428</td>\n",
       "      <td>0.899371</td>\n",
       "      <td>1.000000</td>\n",
       "      <td>0.955975</td>\n",
       "      <td>1.000000</td>\n",
       "      <td>1.000000</td>\n",
       "      <td>1.000000</td>\n",
       "      <td>0.801325</td>\n",
       "    </tr>\n",
       "    <tr>\n",
       "      <th>2019-08-31</th>\n",
       "      <td>1.000000</td>\n",
       "      <td>2</td>\n",
       "      <td>2019</td>\n",
       "      <td>8</td>\n",
       "      <td>0.826087</td>\n",
       "      <td>0.602649</td>\n",
       "      <td>1.000000</td>\n",
       "      <td>1.000000</td>\n",
       "      <td>0.434783</td>\n",
       "      <td>0.590909</td>\n",
       "      <td>0.748428</td>\n",
       "      <td>0.899371</td>\n",
       "      <td>1.000000</td>\n",
       "      <td>0.955975</td>\n",
       "      <td>1.000000</td>\n",
       "      <td>1.000000</td>\n",
       "      <td>0.714368</td>\n",
       "    </tr>\n",
       "    <tr>\n",
       "      <th>2019-09-30</th>\n",
       "      <td>0.761905</td>\n",
       "      <td>2</td>\n",
       "      <td>2019</td>\n",
       "      <td>9</td>\n",
       "      <td>1.000000</td>\n",
       "      <td>0.826087</td>\n",
       "      <td>0.602649</td>\n",
       "      <td>1.000000</td>\n",
       "      <td>1.000000</td>\n",
       "      <td>0.434783</td>\n",
       "      <td>0.590909</td>\n",
       "      <td>0.748428</td>\n",
       "      <td>0.899371</td>\n",
       "      <td>1.000000</td>\n",
       "      <td>0.955975</td>\n",
       "      <td>1.000000</td>\n",
       "      <td>0.913043</td>\n",
       "    </tr>\n",
       "    <tr>\n",
       "      <th>2019-10-31</th>\n",
       "      <td>0.956522</td>\n",
       "      <td>2</td>\n",
       "      <td>2019</td>\n",
       "      <td>10</td>\n",
       "      <td>0.761905</td>\n",
       "      <td>1.000000</td>\n",
       "      <td>0.826087</td>\n",
       "      <td>0.602649</td>\n",
       "      <td>1.000000</td>\n",
       "      <td>1.000000</td>\n",
       "      <td>0.434783</td>\n",
       "      <td>0.590909</td>\n",
       "      <td>0.748428</td>\n",
       "      <td>0.899371</td>\n",
       "      <td>1.000000</td>\n",
       "      <td>0.955975</td>\n",
       "      <td>0.880952</td>\n",
       "    </tr>\n",
       "    <tr>\n",
       "      <th>2019-11-30</th>\n",
       "      <td>1.000000</td>\n",
       "      <td>1</td>\n",
       "      <td>2019</td>\n",
       "      <td>11</td>\n",
       "      <td>0.956522</td>\n",
       "      <td>0.761905</td>\n",
       "      <td>1.000000</td>\n",
       "      <td>0.826087</td>\n",
       "      <td>0.602649</td>\n",
       "      <td>1.000000</td>\n",
       "      <td>1.000000</td>\n",
       "      <td>0.434783</td>\n",
       "      <td>0.590909</td>\n",
       "      <td>0.748428</td>\n",
       "      <td>0.899371</td>\n",
       "      <td>1.000000</td>\n",
       "      <td>0.859213</td>\n",
       "    </tr>\n",
       "    <tr>\n",
       "      <th>2019-12-31</th>\n",
       "      <td>1.000000</td>\n",
       "      <td>1</td>\n",
       "      <td>2019</td>\n",
       "      <td>12</td>\n",
       "      <td>1.000000</td>\n",
       "      <td>0.956522</td>\n",
       "      <td>0.761905</td>\n",
       "      <td>1.000000</td>\n",
       "      <td>0.826087</td>\n",
       "      <td>0.602649</td>\n",
       "      <td>1.000000</td>\n",
       "      <td>1.000000</td>\n",
       "      <td>0.434783</td>\n",
       "      <td>0.590909</td>\n",
       "      <td>0.748428</td>\n",
       "      <td>0.899371</td>\n",
       "      <td>0.978261</td>\n",
       "    </tr>\n",
       "    <tr>\n",
       "      <th>2020-01-31</th>\n",
       "      <td>1.000000</td>\n",
       "      <td>2</td>\n",
       "      <td>2020</td>\n",
       "      <td>1</td>\n",
       "      <td>1.000000</td>\n",
       "      <td>1.000000</td>\n",
       "      <td>0.956522</td>\n",
       "      <td>0.761905</td>\n",
       "      <td>1.000000</td>\n",
       "      <td>0.826087</td>\n",
       "      <td>0.602649</td>\n",
       "      <td>1.000000</td>\n",
       "      <td>1.000000</td>\n",
       "      <td>0.434783</td>\n",
       "      <td>0.590909</td>\n",
       "      <td>0.748428</td>\n",
       "      <td>1.000000</td>\n",
       "    </tr>\n",
       "    <tr>\n",
       "      <th>2020-02-29</th>\n",
       "      <td>0.921053</td>\n",
       "      <td>2</td>\n",
       "      <td>2020</td>\n",
       "      <td>2</td>\n",
       "      <td>1.000000</td>\n",
       "      <td>1.000000</td>\n",
       "      <td>1.000000</td>\n",
       "      <td>0.956522</td>\n",
       "      <td>0.761905</td>\n",
       "      <td>1.000000</td>\n",
       "      <td>0.826087</td>\n",
       "      <td>0.602649</td>\n",
       "      <td>1.000000</td>\n",
       "      <td>1.000000</td>\n",
       "      <td>0.434783</td>\n",
       "      <td>0.590909</td>\n",
       "      <td>1.000000</td>\n",
       "    </tr>\n",
       "    <tr>\n",
       "      <th>2020-03-31</th>\n",
       "      <td>1.000000</td>\n",
       "      <td>2</td>\n",
       "      <td>2020</td>\n",
       "      <td>3</td>\n",
       "      <td>0.921053</td>\n",
       "      <td>1.000000</td>\n",
       "      <td>1.000000</td>\n",
       "      <td>1.000000</td>\n",
       "      <td>0.956522</td>\n",
       "      <td>0.761905</td>\n",
       "      <td>1.000000</td>\n",
       "      <td>0.826087</td>\n",
       "      <td>0.602649</td>\n",
       "      <td>1.000000</td>\n",
       "      <td>1.000000</td>\n",
       "      <td>0.434783</td>\n",
       "      <td>0.960526</td>\n",
       "    </tr>\n",
       "    <tr>\n",
       "      <th>2020-04-30</th>\n",
       "      <td>1.000000</td>\n",
       "      <td>2</td>\n",
       "      <td>2020</td>\n",
       "      <td>4</td>\n",
       "      <td>1.000000</td>\n",
       "      <td>0.921053</td>\n",
       "      <td>1.000000</td>\n",
       "      <td>1.000000</td>\n",
       "      <td>1.000000</td>\n",
       "      <td>0.956522</td>\n",
       "      <td>0.761905</td>\n",
       "      <td>1.000000</td>\n",
       "      <td>0.826087</td>\n",
       "      <td>0.602649</td>\n",
       "      <td>1.000000</td>\n",
       "      <td>1.000000</td>\n",
       "      <td>0.960526</td>\n",
       "    </tr>\n",
       "    <tr>\n",
       "      <th>2020-05-31</th>\n",
       "      <td>0.648148</td>\n",
       "      <td>2</td>\n",
       "      <td>2020</td>\n",
       "      <td>5</td>\n",
       "      <td>1.000000</td>\n",
       "      <td>1.000000</td>\n",
       "      <td>0.921053</td>\n",
       "      <td>1.000000</td>\n",
       "      <td>1.000000</td>\n",
       "      <td>1.000000</td>\n",
       "      <td>0.956522</td>\n",
       "      <td>0.761905</td>\n",
       "      <td>1.000000</td>\n",
       "      <td>0.826087</td>\n",
       "      <td>0.602649</td>\n",
       "      <td>1.000000</td>\n",
       "      <td>1.000000</td>\n",
       "    </tr>\n",
       "    <tr>\n",
       "      <th>2020-06-30</th>\n",
       "      <td>0.952096</td>\n",
       "      <td>2</td>\n",
       "      <td>2020</td>\n",
       "      <td>6</td>\n",
       "      <td>0.648148</td>\n",
       "      <td>1.000000</td>\n",
       "      <td>1.000000</td>\n",
       "      <td>0.921053</td>\n",
       "      <td>1.000000</td>\n",
       "      <td>1.000000</td>\n",
       "      <td>1.000000</td>\n",
       "      <td>0.956522</td>\n",
       "      <td>0.761905</td>\n",
       "      <td>1.000000</td>\n",
       "      <td>0.826087</td>\n",
       "      <td>0.602649</td>\n",
       "      <td>0.824074</td>\n",
       "    </tr>\n",
       "    <tr>\n",
       "      <th>2020-07-31</th>\n",
       "      <td>0.847826</td>\n",
       "      <td>2</td>\n",
       "      <td>2020</td>\n",
       "      <td>7</td>\n",
       "      <td>0.952096</td>\n",
       "      <td>0.648148</td>\n",
       "      <td>1.000000</td>\n",
       "      <td>1.000000</td>\n",
       "      <td>0.921053</td>\n",
       "      <td>1.000000</td>\n",
       "      <td>1.000000</td>\n",
       "      <td>1.000000</td>\n",
       "      <td>0.956522</td>\n",
       "      <td>0.761905</td>\n",
       "      <td>1.000000</td>\n",
       "      <td>0.826087</td>\n",
       "      <td>0.800122</td>\n",
       "    </tr>\n",
       "    <tr>\n",
       "      <th>2020-08-31</th>\n",
       "      <td>0.857143</td>\n",
       "      <td>2</td>\n",
       "      <td>2020</td>\n",
       "      <td>8</td>\n",
       "      <td>0.847826</td>\n",
       "      <td>0.952096</td>\n",
       "      <td>0.648148</td>\n",
       "      <td>1.000000</td>\n",
       "      <td>1.000000</td>\n",
       "      <td>0.921053</td>\n",
       "      <td>1.000000</td>\n",
       "      <td>1.000000</td>\n",
       "      <td>1.000000</td>\n",
       "      <td>0.956522</td>\n",
       "      <td>0.761905</td>\n",
       "      <td>1.000000</td>\n",
       "      <td>0.899961</td>\n",
       "    </tr>\n",
       "    <tr>\n",
       "      <th>2020-09-30</th>\n",
       "      <td>0.727273</td>\n",
       "      <td>2</td>\n",
       "      <td>2020</td>\n",
       "      <td>9</td>\n",
       "      <td>0.857143</td>\n",
       "      <td>0.847826</td>\n",
       "      <td>0.952096</td>\n",
       "      <td>0.648148</td>\n",
       "      <td>1.000000</td>\n",
       "      <td>1.000000</td>\n",
       "      <td>0.921053</td>\n",
       "      <td>1.000000</td>\n",
       "      <td>1.000000</td>\n",
       "      <td>1.000000</td>\n",
       "      <td>0.956522</td>\n",
       "      <td>0.761905</td>\n",
       "      <td>0.852484</td>\n",
       "    </tr>\n",
       "    <tr>\n",
       "      <th>2020-10-31</th>\n",
       "      <td>0.954545</td>\n",
       "      <td>2</td>\n",
       "      <td>2020</td>\n",
       "      <td>10</td>\n",
       "      <td>0.727273</td>\n",
       "      <td>0.857143</td>\n",
       "      <td>0.847826</td>\n",
       "      <td>0.952096</td>\n",
       "      <td>0.648148</td>\n",
       "      <td>1.000000</td>\n",
       "      <td>1.000000</td>\n",
       "      <td>0.921053</td>\n",
       "      <td>1.000000</td>\n",
       "      <td>1.000000</td>\n",
       "      <td>1.000000</td>\n",
       "      <td>0.956522</td>\n",
       "      <td>0.792208</td>\n",
       "    </tr>\n",
       "    <tr>\n",
       "      <th>2020-11-30</th>\n",
       "      <td>1.000000</td>\n",
       "      <td>2</td>\n",
       "      <td>2020</td>\n",
       "      <td>11</td>\n",
       "      <td>0.954545</td>\n",
       "      <td>0.727273</td>\n",
       "      <td>0.857143</td>\n",
       "      <td>0.847826</td>\n",
       "      <td>0.952096</td>\n",
       "      <td>0.648148</td>\n",
       "      <td>1.000000</td>\n",
       "      <td>1.000000</td>\n",
       "      <td>0.921053</td>\n",
       "      <td>1.000000</td>\n",
       "      <td>1.000000</td>\n",
       "      <td>1.000000</td>\n",
       "      <td>0.840909</td>\n",
       "    </tr>\n",
       "    <tr>\n",
       "      <th>2020-12-31</th>\n",
       "      <td>1.000000</td>\n",
       "      <td>2</td>\n",
       "      <td>2020</td>\n",
       "      <td>12</td>\n",
       "      <td>1.000000</td>\n",
       "      <td>0.954545</td>\n",
       "      <td>0.727273</td>\n",
       "      <td>0.857143</td>\n",
       "      <td>0.847826</td>\n",
       "      <td>0.952096</td>\n",
       "      <td>0.648148</td>\n",
       "      <td>1.000000</td>\n",
       "      <td>1.000000</td>\n",
       "      <td>0.921053</td>\n",
       "      <td>1.000000</td>\n",
       "      <td>1.000000</td>\n",
       "      <td>0.977273</td>\n",
       "    </tr>\n",
       "  </tbody>\n",
       "</table>\n",
       "</div>"
      ],
      "text/plain": [
       "                KOTR  count_pers_in_month  year  month     lag_1     lag_2  \\\n",
       "repdate                                                                      \n",
       "2018-01-31  1.000000                    2  2018      1  1.000000  1.000000   \n",
       "2018-02-28  1.000000                    1  2018      2  1.000000  1.000000   \n",
       "2018-03-31  0.955975                    1  2018      3  1.000000  1.000000   \n",
       "2018-04-30  1.000000                    1  2018      4  0.955975  1.000000   \n",
       "2018-05-31  0.899371                    1  2018      5  1.000000  0.955975   \n",
       "2018-06-30  0.748428                    1  2018      6  0.899371  1.000000   \n",
       "2018-07-31  0.590909                    1  2018      7  0.748428  0.899371   \n",
       "2018-08-31  0.434783                    1  2018      8  0.590909  0.748428   \n",
       "2019-04-30  1.000000                    1  2019      4  0.434783  0.590909   \n",
       "2019-05-31  1.000000                    2  2019      5  1.000000  0.434783   \n",
       "2019-06-30  0.602649                    2  2019      6  1.000000  1.000000   \n",
       "2019-07-31  0.826087                    2  2019      7  0.602649  1.000000   \n",
       "2019-08-31  1.000000                    2  2019      8  0.826087  0.602649   \n",
       "2019-09-30  0.761905                    2  2019      9  1.000000  0.826087   \n",
       "2019-10-31  0.956522                    2  2019     10  0.761905  1.000000   \n",
       "2019-11-30  1.000000                    1  2019     11  0.956522  0.761905   \n",
       "2019-12-31  1.000000                    1  2019     12  1.000000  0.956522   \n",
       "2020-01-31  1.000000                    2  2020      1  1.000000  1.000000   \n",
       "2020-02-29  0.921053                    2  2020      2  1.000000  1.000000   \n",
       "2020-03-31  1.000000                    2  2020      3  0.921053  1.000000   \n",
       "2020-04-30  1.000000                    2  2020      4  1.000000  0.921053   \n",
       "2020-05-31  0.648148                    2  2020      5  1.000000  1.000000   \n",
       "2020-06-30  0.952096                    2  2020      6  0.648148  1.000000   \n",
       "2020-07-31  0.847826                    2  2020      7  0.952096  0.648148   \n",
       "2020-08-31  0.857143                    2  2020      8  0.847826  0.952096   \n",
       "2020-09-30  0.727273                    2  2020      9  0.857143  0.847826   \n",
       "2020-10-31  0.954545                    2  2020     10  0.727273  0.857143   \n",
       "2020-11-30  1.000000                    2  2020     11  0.954545  0.727273   \n",
       "2020-12-31  1.000000                    2  2020     12  1.000000  0.954545   \n",
       "\n",
       "               lag_3     lag_4     lag_5     lag_6     lag_7     lag_8  \\\n",
       "repdate                                                                  \n",
       "2018-01-31  0.954545  0.642857  1.000000  0.809524  0.952381  0.900000   \n",
       "2018-02-28  1.000000  0.954545  0.642857  1.000000  0.809524  0.952381   \n",
       "2018-03-31  1.000000  1.000000  0.954545  0.642857  1.000000  0.809524   \n",
       "2018-04-30  1.000000  1.000000  1.000000  0.954545  0.642857  1.000000   \n",
       "2018-05-31  1.000000  1.000000  1.000000  1.000000  0.954545  0.642857   \n",
       "2018-06-30  0.955975  1.000000  1.000000  1.000000  1.000000  0.954545   \n",
       "2018-07-31  1.000000  0.955975  1.000000  1.000000  1.000000  1.000000   \n",
       "2018-08-31  0.899371  1.000000  0.955975  1.000000  1.000000  1.000000   \n",
       "2019-04-30  0.748428  0.899371  1.000000  0.955975  1.000000  1.000000   \n",
       "2019-05-31  0.590909  0.748428  0.899371  1.000000  0.955975  1.000000   \n",
       "2019-06-30  0.434783  0.590909  0.748428  0.899371  1.000000  0.955975   \n",
       "2019-07-31  1.000000  0.434783  0.590909  0.748428  0.899371  1.000000   \n",
       "2019-08-31  1.000000  1.000000  0.434783  0.590909  0.748428  0.899371   \n",
       "2019-09-30  0.602649  1.000000  1.000000  0.434783  0.590909  0.748428   \n",
       "2019-10-31  0.826087  0.602649  1.000000  1.000000  0.434783  0.590909   \n",
       "2019-11-30  1.000000  0.826087  0.602649  1.000000  1.000000  0.434783   \n",
       "2019-12-31  0.761905  1.000000  0.826087  0.602649  1.000000  1.000000   \n",
       "2020-01-31  0.956522  0.761905  1.000000  0.826087  0.602649  1.000000   \n",
       "2020-02-29  1.000000  0.956522  0.761905  1.000000  0.826087  0.602649   \n",
       "2020-03-31  1.000000  1.000000  0.956522  0.761905  1.000000  0.826087   \n",
       "2020-04-30  1.000000  1.000000  1.000000  0.956522  0.761905  1.000000   \n",
       "2020-05-31  0.921053  1.000000  1.000000  1.000000  0.956522  0.761905   \n",
       "2020-06-30  1.000000  0.921053  1.000000  1.000000  1.000000  0.956522   \n",
       "2020-07-31  1.000000  1.000000  0.921053  1.000000  1.000000  1.000000   \n",
       "2020-08-31  0.648148  1.000000  1.000000  0.921053  1.000000  1.000000   \n",
       "2020-09-30  0.952096  0.648148  1.000000  1.000000  0.921053  1.000000   \n",
       "2020-10-31  0.847826  0.952096  0.648148  1.000000  1.000000  0.921053   \n",
       "2020-11-30  0.857143  0.847826  0.952096  0.648148  1.000000  1.000000   \n",
       "2020-12-31  0.727273  0.857143  0.847826  0.952096  0.648148  1.000000   \n",
       "\n",
       "               lag_9    lag_10    lag_11    lag_12  rolling_mean  \n",
       "repdate                                                           \n",
       "2018-01-31  1.000000  1.000000  0.863636  1.000000      1.000000  \n",
       "2018-02-28  0.900000  1.000000  1.000000  0.863636      1.000000  \n",
       "2018-03-31  0.952381  0.900000  1.000000  1.000000      1.000000  \n",
       "2018-04-30  0.809524  0.952381  0.900000  1.000000      0.977987  \n",
       "2018-05-31  1.000000  0.809524  0.952381  0.900000      0.977987  \n",
       "2018-06-30  0.642857  1.000000  0.809524  0.952381      0.949686  \n",
       "2018-07-31  0.954545  0.642857  1.000000  0.809524      0.823899  \n",
       "2018-08-31  1.000000  0.954545  0.642857  1.000000      0.669668  \n",
       "2019-04-30  1.000000  1.000000  0.954545  0.642857      0.512846  \n",
       "2019-05-31  1.000000  1.000000  1.000000  0.954545      0.717391  \n",
       "2019-06-30  1.000000  1.000000  1.000000  1.000000      1.000000  \n",
       "2019-07-31  0.955975  1.000000  1.000000  1.000000      0.801325  \n",
       "2019-08-31  1.000000  0.955975  1.000000  1.000000      0.714368  \n",
       "2019-09-30  0.899371  1.000000  0.955975  1.000000      0.913043  \n",
       "2019-10-31  0.748428  0.899371  1.000000  0.955975      0.880952  \n",
       "2019-11-30  0.590909  0.748428  0.899371  1.000000      0.859213  \n",
       "2019-12-31  0.434783  0.590909  0.748428  0.899371      0.978261  \n",
       "2020-01-31  1.000000  0.434783  0.590909  0.748428      1.000000  \n",
       "2020-02-29  1.000000  1.000000  0.434783  0.590909      1.000000  \n",
       "2020-03-31  0.602649  1.000000  1.000000  0.434783      0.960526  \n",
       "2020-04-30  0.826087  0.602649  1.000000  1.000000      0.960526  \n",
       "2020-05-31  1.000000  0.826087  0.602649  1.000000      1.000000  \n",
       "2020-06-30  0.761905  1.000000  0.826087  0.602649      0.824074  \n",
       "2020-07-31  0.956522  0.761905  1.000000  0.826087      0.800122  \n",
       "2020-08-31  1.000000  0.956522  0.761905  1.000000      0.899961  \n",
       "2020-09-30  1.000000  1.000000  0.956522  0.761905      0.852484  \n",
       "2020-10-31  1.000000  1.000000  1.000000  0.956522      0.792208  \n",
       "2020-11-30  0.921053  1.000000  1.000000  1.000000      0.840909  \n",
       "2020-12-31  1.000000  0.921053  1.000000  1.000000      0.977273  "
      ]
     },
     "execution_count": 28,
     "metadata": {},
     "output_type": "execute_result"
    }
   ],
   "source": [
    "new_raw_df"
   ]
  },
  {
   "cell_type": "markdown",
   "metadata": {},
   "source": [
    "# Функции обучения моделей и предсказания"
   ]
  },
  {
   "cell_type": "markdown",
   "metadata": {},
   "source": [
    "### План работы:\n",
    "<a href='#step_1'>Шаг 1. Получение общей информации и подготвка данных.</a><br>\n",
    "<a href='#step_2'>Шаг 2. Написание функций для работы с временными рядами по определенным разрядам.</a><br>\n",
    "<a href='#step_3'>Шаг 3. Написание функций для обучения моделей машинного обучения.</a><br>\n",
    "<a href='#step_4'>Шаг 4. Тестирование моделей. </a><br>\n",
    "<a href='#step_5'>Шаг 5. Общий вывод.</a><br>"
   ]
  },
  {
   "cell_type": "markdown",
   "metadata": {},
   "source": [
    "<a id = step_3></a>"
   ]
  },
  {
   "cell_type": "markdown",
   "metadata": {},
   "source": [
    "Функции для различных моделей градиентного бустинга. Шаги функции:<br><ul>\n",
    "    <li>1) разделение данных</li>\n",
    "    <li>2) создание и обучение модели</li>\n",
    "    <li>3) проход цикла по предсказанию первых 10 месяцев с пошаговым добавлением данных из тестового для будущих предсказаний (не 12, т.к. модели требует минимум 2 сэмла для предсказания). После добавления модель обучается заново.</li>\n",
    "    <li>4) проход цикла по последним 2 месяцам по той же технике</li>\n",
    "</ul>"
   ]
  },
  {
   "cell_type": "code",
   "execution_count": 29,
   "metadata": {},
   "outputs": [],
   "source": [
    "def spliting_training_prediction_catboost(df):\n",
    "    # список с предсказаниями модели\n",
    "    preds=[]\n",
    "\n",
    "    new_df = df.copy()\n",
    "    train, test = new_df[:'2019-12'], new_df['2020-01':]\n",
    "    target_train, target_test = train['KOTR'], test['KOTR']\n",
    "    features_train, features_test = train.drop('KOTR', axis= 1), test.drop('KOTR', axis= 1)\n",
    "    cat_features = features_train[['year', 'month']]\n",
    "    model_catboost = CatBoostRegressor(iterations = 40,\n",
    "                                       verbose= 300,\n",
    "                                       depth = 3,\n",
    "                                       learning_rate = 0.1)\n",
    "    model_catboost.fit(features_train, target_train, cat_features=cat_features)\n",
    "\n",
    "    # из-за специфики метода predict необходимо подавать минимум 2 сэмпла для предсказания,\n",
    "    # поэтому для последних 2 сэмплов отдельный цикл\n",
    "    # предсказания для первых 10 месяцев\n",
    "    for i in range(1, len(features_test)-1):\n",
    "        data_pred = features_test.iloc[i-1:i+1].copy()\n",
    "        pred = model_catboost.predict(data_pred)\n",
    "        preds.append(pred[0])\n",
    "        new_row_kotr = features_test.iloc[i-1]\n",
    "        features_train.loc[features_train.index.max() + np.timedelta64(1, 'M')] = new_row_kotr\n",
    "        features_train = features_train.astype({'year' : 'int', 'month' :'int'})\n",
    "        new_row_kotr_target = target_test.iloc[i-1]\n",
    "        target_train.loc[target_train.index.max() + np.timedelta64(1, 'M')] = new_row_kotr_target\n",
    "        model_catboost.fit(features_train, target_train, cat_features=cat_features)\n",
    "    \n",
    "    \n",
    "    # предсказания для последних 2 месяцев\n",
    "    for j in range(-2,0):\n",
    "        data_pred = features_test.iloc[j:].copy()\n",
    "        pred = model_catboost.predict(data_pred)\n",
    "        preds.append(pred[0])\n",
    "        new_row_kotr = features_test.iloc[j]\n",
    "        features_train.loc[features_train.index.max() + np.timedelta64(1, 'M')] = new_row_kotr\n",
    "        features_train = features_train.astype({'year' : 'int', 'month' :'int'})        \n",
    "        new_row_kotr_target = target_test.iloc[j]\n",
    "        target_train.loc[target_train.index.max() + np.timedelta64(1, 'M')] = new_row_kotr_target\n",
    "        model_catboost.fit(features_train, target_train, cat_features=cat_features)\n",
    "    return preds"
   ]
  },
  {
   "cell_type": "code",
   "execution_count": 30,
   "metadata": {},
   "outputs": [],
   "source": [
    "def spliting_training_prediction_lgbm(df):\n",
    "    # список с предсказаниями модели\n",
    "    preds=[]\n",
    "    \n",
    "    new_df = df.copy()\n",
    "    new_df = new_df.astype({'year' : 'category', 'month' :'category'})\n",
    "    train, test = new_df[:'2019-12'], new_df['2020-01':]\n",
    "    target_train, target_test = train['KOTR'], test['KOTR']\n",
    "    features_train, features_test = train.drop('KOTR', axis= 1), test.drop('KOTR', axis= 1)\n",
    "    model_lgbm = LGBMRegressor(iterations = 40,\n",
    "                               max_depth = 3,\n",
    "                               learning_rate = 0.1,\n",
    "                               eval_metric = 'mae')\n",
    "\n",
    "    model_lgbm.fit(features_train, target_train)\n",
    "    \n",
    "    # из-за специфики метода predict необходимо подавать минимум 2 сэмпла для предсказания,\n",
    "    # поэтому для последних 2 сэмплов отдельный цикл\n",
    "    # предсказания для первых 10 месяцев\n",
    "    for i in range(1, len(features_test)-1):\n",
    "        data_pred = features_test.iloc[i-1:i+1].copy()    \n",
    "        pred = model_lgbm.predict(data_pred)\n",
    "        preds.append(pred[0])\n",
    "        new_row_kotr = features_test.iloc[i-1]\n",
    "        features_train.loc[features_train.index.max() + np.timedelta64(1, 'M')] = new_row_kotr\n",
    "        features_train = features_train.astype({'year' : 'category', 'month' :'category'})\n",
    "        new_row_kotr_target = target_test.iloc[i-1]\n",
    "        target_train.loc[target_train.index.max() + np.timedelta64(1, 'M')] = new_row_kotr_target\n",
    "        model_lgbm.fit(features_train, target_train)\n",
    "    \n",
    "    # предсказания для последних 2 месяцев\n",
    "    for j in range(-2,0):\n",
    "        data_pred = features_test.iloc[j:].copy()\n",
    "        pred = model_lgbm.predict(data_pred)\n",
    "        preds.append(pred[0])\n",
    "        new_row_kotr = features_test.iloc[j]\n",
    "        features_train.loc[features_train.index.max() + np.timedelta64(1, 'M')] = new_row_kotr\n",
    "        features_train = features_train.astype({'year' : 'category', 'month' :'category'})\n",
    "        new_row_kotr_target = target_test.iloc[j]\n",
    "        target_train.loc[target_train.index.max() + np.timedelta64(1, 'M')] = new_row_kotr_target\n",
    "        model_lgbm.fit(features_train, target_train)        \n",
    "    return preds"
   ]
  },
  {
   "cell_type": "code",
   "execution_count": 31,
   "metadata": {},
   "outputs": [],
   "source": [
    "def spliting_training_prediction_xgb(df):\n",
    "    # список с предсказаниями модели\n",
    "    preds=[]\n",
    "    \n",
    "    new_df = df.copy()\n",
    "    new_df = new_df.astype({'year' : 'int', 'month' :'int'})\n",
    "    train, test = new_df['2019-01':'2019-12'], new_df['2020-01':]\n",
    "    target_train, target_test = train['KOTR'], test['KOTR']\n",
    "    features_train, features_test = train.drop('KOTR', axis= 1), test.drop('KOTR', axis= 1)\n",
    "    \n",
    "    model_xgb = xgb.XGBRegressor(n_estimators = 40,\n",
    "                                       max_depth = 3,\n",
    "                                       learning_rate = 0.1,\n",
    "                                objective ='reg:squarederror',\n",
    "                                eval_metric = 'mae')\n",
    "    model_xgb.fit(features_train, target_train)\n",
    "    \n",
    "    # из-за специфики метода predict необходимо подавать минимум 2 сэмпла для предсказания,\n",
    "    # поэтому для последних 2 сэмплов отдельный цикл\n",
    "    # предсказания для первых 10 месяцев\n",
    "    for i in range(1, len(features_test)-1):\n",
    "        data_pred = features_test.iloc[i-1:i+1].copy()   \n",
    "        pred = model_xgb.predict(data_pred)\n",
    "        preds.append(pred[0])\n",
    "        new_row_kotr = features_test.iloc[i-1]\n",
    "        features_train.loc[features_train.index.max() + np.timedelta64(1, 'M')] = new_row_kotr\n",
    "        features_train = features_train.astype({'year' : 'int', 'month' :'int'})\n",
    "        new_row_kotr_target = target_test.iloc[i-1]\n",
    "        target_train.loc[target_train.index.max() + np.timedelta64(1, 'M')] = new_row_kotr_target\n",
    "        model_xgb.fit(features_train, target_train)\n",
    "    \n",
    "    # предсказания для последних 2 месяцев\n",
    "    for j in range(-2,0):\n",
    "        data_pred = features_test.iloc[j:].copy()\n",
    "        pred = model_xgb.predict(data_pred)\n",
    "        preds.append(pred[0])\n",
    "        new_row_kotr = features_test.iloc[j]\n",
    "        features_train.loc[features_train.index.max() + np.timedelta64(1, 'M')] = new_row_kotr\n",
    "        features_train = features_train.astype({'year' : 'int', 'month' :'int'})\n",
    "        new_row_kotr_target = target_test.iloc[j]\n",
    "        target_train.loc[target_train.index.max() + np.timedelta64(1, 'M')] = new_row_kotr_target\n",
    "        model_xgb.fit(features_train, target_train)        \n",
    "    return preds"
   ]
  },
  {
   "cell_type": "markdown",
   "metadata": {},
   "source": [
    "Переменная с всеми разрядами во всех подразделениях на всех территориях, необходима для удобного заполнения MAE по каждому разряду."
   ]
  },
  {
   "cell_type": "code",
   "execution_count": 32,
   "metadata": {},
   "outputs": [],
   "source": [
    "all_categories = pd.pivot_table(raw_df,\n",
    "                                index = ['Территория','Подразделение', 'Разряд'],\n",
    "                                ).reset_index().drop(['KOTR', 'pers_id'], axis = 1)"
   ]
  },
  {
   "cell_type": "markdown",
   "metadata": {},
   "source": [
    "# Тестирование моделей"
   ]
  },
  {
   "cell_type": "markdown",
   "metadata": {},
   "source": [
    "### План работы:\n",
    "<a href='#step_1'>Шаг 1. Получение общей информации и подготвка данных.</a><br>\n",
    "<a href='#step_2'>Шаг 2. Написание функций для работы с временными рядами по определенным разрядам.</a><br>\n",
    "<a href='#step_3'>Шаг 3. Написание функций для обучения моделей машинного обучения.</a><br>\n",
    "<a href='#step_4'>Шаг 4. Тестирование моделей. </a><br>\n",
    "<a href='#step_5'>Шаг 5. Общий вывод.</a><br>"
   ]
  },
  {
   "cell_type": "markdown",
   "metadata": {},
   "source": [
    "<a id ='step_4'></a>"
   ]
  },
  {
   "cell_type": "markdown",
   "metadata": {},
   "source": [
    "Создаются 2 списка: первый для записи предсказаний MAE, второй для записи предсказаний значений модели по каждому месяцу (возможно необходимо для будущих работ, пока не используется)"
   ]
  },
  {
   "cell_type": "markdown",
   "metadata": {},
   "source": [
    "Максимальная длина фрейма 357, вывод показывает  сколько строк с разрядами смогла обработать модель и средний MAE по ним."
   ]
  },
  {
   "cell_type": "markdown",
   "metadata": {},
   "source": [
    "Забегая вперед - будет выбрана модель градиентного бустинга CatBoost по причине лучших предсказаний"
   ]
  },
  {
   "cell_type": "code",
   "execution_count": 33,
   "metadata": {},
   "outputs": [
    {
     "name": "stderr",
     "output_type": "stream",
     "text": [
      "357it [5:02:33, 50.85s/it] "
     ]
    },
    {
     "name": "stdout",
     "output_type": "stream",
     "text": [
      "длина фрейма = 346 сред. mae = 0.07908905092477586\n"
     ]
    },
    {
     "name": "stderr",
     "output_type": "stream",
     "text": [
      "\n"
     ]
    }
   ],
   "source": [
    "mae_predictions_lgbm = []\n",
    "lgbm_predicts = []\n",
    "\n",
    "for x,y,z in tqdm(zip(all_categories['Территория'], all_categories['Подразделение'], all_categories['Разряд'])):\n",
    "    test_df = plot_ter_sub_rank_KOTR(x,y,z)\n",
    "    new_test_df = create_shift(test_df, 12, 3)\n",
    "    try:\n",
    "        lgbm_predict = spliting_training_prediction_lgbm(new_test_df)\n",
    "        lgbm_predicts.append(lgbm_predict)\n",
    "        test = new_test_df['2020-01':]\n",
    "        target_test = test['KOTR']\n",
    "        mae_predictions_lgbm.append(mean_absolute_error(target_test, lgbm_predict))\n",
    "    except:\n",
    "        lgbm_predicts.append(0)\n",
    "        mae_predictions_lgbm.append('error')\n",
    "mae_lgbm = all_categories.copy()\n",
    "mae_lgbm['MAE'] = mae_predictions_lgbm\n",
    "\n",
    "print('длина фрейма =',len(mae_lgbm[mae_lgbm['MAE'] != 'error']),\n",
    "      'сред. mae =', mae_lgbm[mae_lgbm['MAE'] != 'error']['MAE'].mean())"
   ]
  },
  {
   "cell_type": "code",
   "execution_count": 34,
   "metadata": {},
   "outputs": [
    {
     "name": "stderr",
     "output_type": "stream",
     "text": [
      "357it [00:49,  7.15it/s]"
     ]
    },
    {
     "name": "stdout",
     "output_type": "stream",
     "text": [
      "длина фрейма = 304 сред. mae = 0.08237040471845618\n"
     ]
    },
    {
     "name": "stderr",
     "output_type": "stream",
     "text": [
      "\n"
     ]
    }
   ],
   "source": [
    "mae_predictions_xgb = []\n",
    "xgb_predicts = []\n",
    "for x,y,z in tqdm(zip(all_categories['Территория'], all_categories['Подразделение'], all_categories['Разряд'])):\n",
    "    test_df = plot_ter_sub_rank_KOTR(x,y,z)\n",
    "    new_test_df = create_shift(test_df, 12, 3)\n",
    "    try:\n",
    "        xgb_predict = spliting_training_prediction_xgb(new_test_df)\n",
    "        xgb_predicts.append(xgb_predict)\n",
    "        test = new_test_df['2020-01':]\n",
    "        target_test = test['KOTR']\n",
    "        mae_predictions_xgb.append(mean_absolute_error(target_test, xgb_predict))\n",
    "    except:\n",
    "        xgb_predicts.append(0)\n",
    "        mae_predictions_xgb.append('error')\n",
    "mae_xgb = all_categories.copy()\n",
    "mae_xgb['MAE'] = mae_predictions_xgb\n",
    "\n",
    "print('длина фрейма =',len(mae_xgb[mae_xgb['MAE'] != 'error']),\n",
    "      'сред. mae =', mae_xgb[mae_xgb['MAE'] != 'error']['MAE'].mean())"
   ]
  },
  {
   "cell_type": "code",
   "execution_count": 35,
   "metadata": {
    "scrolled": true
   },
   "outputs": [
    {
     "name": "stderr",
     "output_type": "stream",
     "text": [
      "13it [00:00, 60.42it/s]"
     ]
    },
    {
     "name": "stdout",
     "output_type": "stream",
     "text": [
      "0:\tlearn: 0.0405413\ttotal: 46.7ms\tremaining: 1.82s\n",
      "39:\tlearn: 0.0165881\ttotal: 117ms\tremaining: 0us\n",
      "0:\tlearn: 0.0393311\ttotal: 485us\tremaining: 18.9ms\n",
      "39:\tlearn: 0.0186203\ttotal: 18.6ms\tremaining: 0us\n",
      "0:\tlearn: 0.0389770\ttotal: 492us\tremaining: 19.2ms\n",
      "39:\tlearn: 0.0185867\ttotal: 21ms\tremaining: 0us\n",
      "0:\tlearn: 0.0388357\ttotal: 535us\tremaining: 20.9ms\n",
      "39:\tlearn: 0.0168027\ttotal: 11.8ms\tremaining: 0us\n",
      "0:\tlearn: 0.0401169\ttotal: 559us\tremaining: 21.8ms\n",
      "39:\tlearn: 0.0171184\ttotal: 14.8ms\tremaining: 0us\n",
      "0:\tlearn: 0.0402580\ttotal: 557us\tremaining: 21.7ms\n",
      "39:\tlearn: 0.0197324\ttotal: 19.5ms\tremaining: 0us\n",
      "0:\tlearn: 0.0419025\ttotal: 547us\tremaining: 21.3ms\n",
      "39:\tlearn: 0.0226819\ttotal: 9.95ms\tremaining: 0us\n",
      "0:\tlearn: 0.0447194\ttotal: 533us\tremaining: 20.8ms\n",
      "39:\tlearn: 0.0251433\ttotal: 29.5ms\tremaining: 0us\n",
      "0:\tlearn: 0.0450283\ttotal: 555us\tremaining: 21.7ms\n",
      "39:\tlearn: 0.0265380\ttotal: 10.7ms\tremaining: 0us\n",
      "0:\tlearn: 0.0439480\ttotal: 506us\tremaining: 19.7ms\n",
      "39:\tlearn: 0.0265389\ttotal: 14.8ms\tremaining: 0us\n",
      "0:\tlearn: 0.0443033\ttotal: 604us\tremaining: 23.6ms\n",
      "39:\tlearn: 0.0280253\ttotal: 14.4ms\tremaining: 0us\n",
      "0:\tlearn: 0.0450535\ttotal: 633us\tremaining: 24.7ms\n",
      "39:\tlearn: 0.0269744\ttotal: 17.4ms\tremaining: 0us\n",
      "0:\tlearn: 0.0452692\ttotal: 594us\tremaining: 23.2ms\n",
      "39:\tlearn: 0.0266696\ttotal: 10.1ms\tremaining: 0us\n"
     ]
    },
    {
     "name": "stderr",
     "output_type": "stream",
     "text": [
      "17it [00:10,  1.26it/s]"
     ]
    },
    {
     "name": "stdout",
     "output_type": "stream",
     "text": [
      "0:\tlearn: 0.0735962\ttotal: 450us\tremaining: 17.6ms\n",
      "39:\tlearn: 0.0340028\ttotal: 14.1ms\tremaining: 0us\n",
      "0:\tlearn: 0.0717041\ttotal: 485us\tremaining: 18.9ms\n",
      "39:\tlearn: 0.0405062\ttotal: 14.2ms\tremaining: 0us\n",
      "0:\tlearn: 0.0705728\ttotal: 458us\tremaining: 17.9ms\n",
      "39:\tlearn: 0.0369272\ttotal: 15.6ms\tremaining: 0us\n",
      "0:\tlearn: 0.0713488\ttotal: 552us\tremaining: 21.6ms\n",
      "39:\tlearn: 0.0413814\ttotal: 9.43ms\tremaining: 0us\n",
      "0:\tlearn: 0.0708349\ttotal: 521us\tremaining: 20.3ms\n",
      "39:\tlearn: 0.0419654\ttotal: 14.4ms\tremaining: 0us\n",
      "0:\tlearn: 0.0712093\ttotal: 517us\tremaining: 20.2ms\n",
      "39:\tlearn: 0.0338606\ttotal: 15.2ms\tremaining: 0us\n",
      "0:\tlearn: 0.0697263\ttotal: 767us\tremaining: 29.9ms\n",
      "39:\tlearn: 0.0344224\ttotal: 14.7ms\tremaining: 0us\n",
      "0:\tlearn: 0.0711389\ttotal: 473us\tremaining: 18.5ms\n",
      "39:\tlearn: 0.0356536\ttotal: 36.5ms\tremaining: 0us\n",
      "0:\tlearn: 0.0698951\ttotal: 496us\tremaining: 19.4ms\n",
      "39:\tlearn: 0.0377343\ttotal: 118ms\tremaining: 0us\n",
      "0:\tlearn: 0.0681507\ttotal: 463us\tremaining: 18.1ms\n",
      "39:\tlearn: 0.0361997\ttotal: 23.7ms\tremaining: 0us\n",
      "0:\tlearn: 0.0678316\ttotal: 514us\tremaining: 20.1ms\n",
      "39:\tlearn: 0.0355127\ttotal: 44.9ms\tremaining: 0us\n",
      "0:\tlearn: 0.0684487\ttotal: 508us\tremaining: 19.8ms\n",
      "39:\tlearn: 0.0336087\ttotal: 22.8ms\tremaining: 0us\n",
      "0:\tlearn: 0.0686704\ttotal: 1.43ms\tremaining: 55.9ms\n",
      "39:\tlearn: 0.0379215\ttotal: 25.3ms\tremaining: 0us\n"
     ]
    },
    {
     "name": "stderr",
     "output_type": "stream",
     "text": [
      "18it [00:21,  3.93s/it]"
     ]
    },
    {
     "name": "stdout",
     "output_type": "stream",
     "text": [
      "0:\tlearn: 0.0254114\ttotal: 1.67ms\tremaining: 65.1ms\n",
      "39:\tlearn: 0.0091770\ttotal: 80.1ms\tremaining: 0us\n",
      "0:\tlearn: 0.0252241\ttotal: 467us\tremaining: 18.3ms\n",
      "39:\tlearn: 0.0098439\ttotal: 26.1ms\tremaining: 0us\n",
      "0:\tlearn: 0.0249657\ttotal: 457us\tremaining: 17.9ms\n",
      "39:\tlearn: 0.0103373\ttotal: 14.2ms\tremaining: 0us\n",
      "0:\tlearn: 0.0248268\ttotal: 484us\tremaining: 18.9ms\n",
      "39:\tlearn: 0.0093114\ttotal: 144ms\tremaining: 0us\n",
      "0:\tlearn: 0.0253499\ttotal: 1.43ms\tremaining: 55.8ms\n",
      "39:\tlearn: 0.0097678\ttotal: 25.2ms\tremaining: 0us\n",
      "0:\tlearn: 0.0272777\ttotal: 739us\tremaining: 28.9ms\n",
      "39:\tlearn: 0.0110827\ttotal: 28.3ms\tremaining: 0us\n",
      "0:\tlearn: 0.0285575\ttotal: 1.35ms\tremaining: 52.6ms\n",
      "39:\tlearn: 0.0111271\ttotal: 160ms\tremaining: 0us\n",
      "0:\tlearn: 0.0316936\ttotal: 521us\tremaining: 20.4ms\n",
      "39:\tlearn: 0.0122045\ttotal: 26.7ms\tremaining: 0us\n",
      "0:\tlearn: 0.0325907\ttotal: 489us\tremaining: 19.1ms\n",
      "39:\tlearn: 0.0115803\ttotal: 9.15ms\tremaining: 0us\n",
      "0:\tlearn: 0.0339832\ttotal: 536us\tremaining: 20.9ms\n",
      "39:\tlearn: 0.0120843\ttotal: 9.07ms\tremaining: 0us\n",
      "0:\tlearn: 0.0349463\ttotal: 608us\tremaining: 23.7ms\n",
      "39:\tlearn: 0.0125322\ttotal: 49ms\tremaining: 0us\n",
      "0:\tlearn: 0.0342486\ttotal: 573us\tremaining: 22.4ms\n",
      "39:\tlearn: 0.0122687\ttotal: 9.02ms\tremaining: 0us\n",
      "0:\tlearn: 0.0340758\ttotal: 540us\tremaining: 21.1ms\n",
      "39:\tlearn: 0.0130427\ttotal: 9.53ms\tremaining: 0us\n"
     ]
    },
    {
     "name": "stderr",
     "output_type": "stream",
     "text": [
      "19it [00:32,  6.02s/it]"
     ]
    },
    {
     "name": "stdout",
     "output_type": "stream",
     "text": [
      "0:\tlearn: 0.0246810\ttotal: 439us\tremaining: 17.1ms\n",
      "39:\tlearn: 0.0088007\ttotal: 8.42ms\tremaining: 0us\n",
      "0:\tlearn: 0.0243354\ttotal: 525us\tremaining: 20.5ms\n",
      "39:\tlearn: 0.0093025\ttotal: 8.97ms\tremaining: 0us\n",
      "0:\tlearn: 0.0238157\ttotal: 454us\tremaining: 17.7ms\n",
      "39:\tlearn: 0.0086665\ttotal: 27.5ms\tremaining: 0us\n",
      "0:\tlearn: 0.0235000\ttotal: 455us\tremaining: 17.8ms\n",
      "39:\tlearn: 0.0086312\ttotal: 14ms\tremaining: 0us\n",
      "0:\tlearn: 0.0229598\ttotal: 787us\tremaining: 30.7ms\n",
      "39:\tlearn: 0.0089522\ttotal: 11.5ms\tremaining: 0us\n",
      "0:\tlearn: 0.0238902\ttotal: 494us\tremaining: 19.3ms\n",
      "39:\tlearn: 0.0097201\ttotal: 8.66ms\tremaining: 0us\n",
      "0:\tlearn: 0.0245070\ttotal: 545us\tremaining: 21.3ms\n",
      "39:\tlearn: 0.0089649\ttotal: 15.1ms\tremaining: 0us\n",
      "0:\tlearn: 0.0273539\ttotal: 497us\tremaining: 19.4ms\n",
      "39:\tlearn: 0.0095073\ttotal: 29.3ms\tremaining: 0us\n",
      "0:\tlearn: 0.0280728\ttotal: 539us\tremaining: 21ms\n",
      "39:\tlearn: 0.0101363\ttotal: 30.6ms\tremaining: 0us\n",
      "0:\tlearn: 0.0282176\ttotal: 1.01ms\tremaining: 39.4ms\n",
      "39:\tlearn: 0.0099658\ttotal: 122ms\tremaining: 0us\n",
      "0:\tlearn: 0.0275133\ttotal: 957us\tremaining: 37.3ms\n",
      "39:\tlearn: 0.0095462\ttotal: 39ms\tremaining: 0us\n",
      "0:\tlearn: 0.0276393\ttotal: 475us\tremaining: 18.5ms\n",
      "39:\tlearn: 0.0099980\ttotal: 14.5ms\tremaining: 0us\n",
      "0:\tlearn: 0.0269847\ttotal: 555us\tremaining: 21.7ms\n",
      "39:\tlearn: 0.0098942\ttotal: 8.84ms\tremaining: 0us\n"
     ]
    },
    {
     "name": "stderr",
     "output_type": "stream",
     "text": [
      "20it [00:44,  7.57s/it]"
     ]
    },
    {
     "name": "stdout",
     "output_type": "stream",
     "text": [
      "0:\tlearn: 0.0268617\ttotal: 453us\tremaining: 17.7ms\n",
      "39:\tlearn: 0.0098690\ttotal: 25.3ms\tremaining: 0us\n",
      "0:\tlearn: 0.0267494\ttotal: 462us\tremaining: 18ms\n",
      "39:\tlearn: 0.0095105\ttotal: 10.1ms\tremaining: 0us\n",
      "0:\tlearn: 0.0268664\ttotal: 481us\tremaining: 18.8ms\n",
      "39:\tlearn: 0.0105530\ttotal: 9.38ms\tremaining: 0us\n",
      "0:\tlearn: 0.0263074\ttotal: 460us\tremaining: 18ms\n",
      "39:\tlearn: 0.0101161\ttotal: 30.6ms\tremaining: 0us\n",
      "0:\tlearn: 0.0261728\ttotal: 483us\tremaining: 18.8ms\n",
      "39:\tlearn: 0.0115462\ttotal: 8.71ms\tremaining: 0us\n",
      "0:\tlearn: 0.0276958\ttotal: 508us\tremaining: 19.8ms\n",
      "39:\tlearn: 0.0122692\ttotal: 9.44ms\tremaining: 0us\n",
      "0:\tlearn: 0.0283555\ttotal: 587us\tremaining: 22.9ms\n",
      "39:\tlearn: 0.0125192\ttotal: 14.7ms\tremaining: 0us\n",
      "0:\tlearn: 0.0336668\ttotal: 491us\tremaining: 19.2ms\n",
      "39:\tlearn: 0.0178832\ttotal: 17.9ms\tremaining: 0us\n",
      "0:\tlearn: 0.0359375\ttotal: 460us\tremaining: 17.9ms\n",
      "39:\tlearn: 0.0148896\ttotal: 9.16ms\tremaining: 0us\n",
      "0:\tlearn: 0.0354290\ttotal: 532us\tremaining: 20.8ms\n",
      "39:\tlearn: 0.0146827\ttotal: 22.3ms\tremaining: 0us\n",
      "0:\tlearn: 0.0352104\ttotal: 1ms\tremaining: 39.1ms\n",
      "39:\tlearn: 0.0160710\ttotal: 66.4ms\tremaining: 0us\n",
      "0:\tlearn: 0.0349346\ttotal: 480us\tremaining: 18.7ms\n",
      "39:\tlearn: 0.0144012\ttotal: 47ms\tremaining: 0us\n",
      "0:\tlearn: 0.0339493\ttotal: 527us\tremaining: 20.6ms\n",
      "39:\tlearn: 0.0155453\ttotal: 22ms\tremaining: 0us\n"
     ]
    },
    {
     "name": "stderr",
     "output_type": "stream",
     "text": [
      "21it [00:54,  8.44s/it]"
     ]
    },
    {
     "name": "stdout",
     "output_type": "stream",
     "text": [
      "0:\tlearn: 0.0630395\ttotal: 437us\tremaining: 17ms\n",
      "39:\tlearn: 0.0300213\ttotal: 24.4ms\tremaining: 0us\n",
      "0:\tlearn: 0.0743661\ttotal: 495us\tremaining: 19.3ms\n",
      "39:\tlearn: 0.0410531\ttotal: 27.9ms\tremaining: 0us\n",
      "0:\tlearn: 0.0750875\ttotal: 450us\tremaining: 17.6ms\n",
      "39:\tlearn: 0.0345416\ttotal: 28ms\tremaining: 0us\n",
      "0:\tlearn: 0.0738168\ttotal: 458us\tremaining: 17.9ms\n",
      "39:\tlearn: 0.0424348\ttotal: 14.3ms\tremaining: 0us\n",
      "0:\tlearn: 0.0737923\ttotal: 472us\tremaining: 18.4ms\n",
      "39:\tlearn: 0.0411898\ttotal: 37ms\tremaining: 0us\n",
      "0:\tlearn: 0.0733191\ttotal: 467us\tremaining: 18.2ms\n",
      "39:\tlearn: 0.0425328\ttotal: 9.43ms\tremaining: 0us\n",
      "0:\tlearn: 0.0726212\ttotal: 511us\tremaining: 19.9ms\n",
      "39:\tlearn: 0.0400190\ttotal: 22.8ms\tremaining: 0us\n",
      "0:\tlearn: 0.0736999\ttotal: 552us\tremaining: 21.6ms\n",
      "39:\tlearn: 0.0413739\ttotal: 10.4ms\tremaining: 0us\n",
      "0:\tlearn: 0.0762036\ttotal: 525us\tremaining: 20.5ms\n",
      "39:\tlearn: 0.0428594\ttotal: 8.79ms\tremaining: 0us\n",
      "0:\tlearn: 0.0753058\ttotal: 814us\tremaining: 31.8ms\n",
      "39:\tlearn: 0.0443923\ttotal: 16.4ms\tremaining: 0us\n",
      "0:\tlearn: 0.0747455\ttotal: 649us\tremaining: 25.3ms\n",
      "39:\tlearn: 0.0426658\ttotal: 38.2ms\tremaining: 0us\n",
      "0:\tlearn: 0.0736092\ttotal: 615us\tremaining: 24ms\n",
      "39:\tlearn: 0.0429638\ttotal: 11.1ms\tremaining: 0us\n",
      "0:\tlearn: 0.0727690\ttotal: 617us\tremaining: 24.1ms\n",
      "39:\tlearn: 0.0431139\ttotal: 10.6ms\tremaining: 0us\n"
     ]
    },
    {
     "name": "stderr",
     "output_type": "stream",
     "text": [
      "22it [01:04,  9.00s/it]"
     ]
    },
    {
     "name": "stdout",
     "output_type": "stream",
     "text": [
      "0:\tlearn: 0.1363590\ttotal: 761us\tremaining: 29.7ms\n",
      "39:\tlearn: 0.0422374\ttotal: 45.1ms\tremaining: 0us\n",
      "0:\tlearn: 0.1393852\ttotal: 514us\tremaining: 20.1ms\n",
      "39:\tlearn: 0.0483144\ttotal: 96.9ms\tremaining: 0us\n",
      "0:\tlearn: 0.1379791\ttotal: 539us\tremaining: 21ms\n",
      "39:\tlearn: 0.0459898\ttotal: 14.3ms\tremaining: 0us\n",
      "0:\tlearn: 0.1355555\ttotal: 723us\tremaining: 28.2ms\n",
      "39:\tlearn: 0.0449976\ttotal: 25ms\tremaining: 0us\n",
      "0:\tlearn: 0.1354674\ttotal: 567us\tremaining: 22.1ms\n",
      "39:\tlearn: 0.0575435\ttotal: 9.92ms\tremaining: 0us\n",
      "0:\tlearn: 0.1339946\ttotal: 512us\tremaining: 20ms\n",
      "39:\tlearn: 0.0455700\ttotal: 8.63ms\tremaining: 0us\n",
      "0:\tlearn: 0.1305728\ttotal: 451us\tremaining: 17.6ms\n",
      "39:\tlearn: 0.0531566\ttotal: 8.14ms\tremaining: 0us\n",
      "0:\tlearn: 0.1301344\ttotal: 460us\tremaining: 18ms\n",
      "39:\tlearn: 0.0492479\ttotal: 8.81ms\tremaining: 0us\n",
      "0:\tlearn: 0.1278843\ttotal: 464us\tremaining: 18.1ms\n",
      "39:\tlearn: 0.0500721\ttotal: 22.5ms\tremaining: 0us\n",
      "0:\tlearn: 0.1258354\ttotal: 589us\tremaining: 23ms\n",
      "39:\tlearn: 0.0507687\ttotal: 9.87ms\tremaining: 0us\n",
      "0:\tlearn: 0.1241855\ttotal: 530us\tremaining: 20.7ms\n",
      "39:\tlearn: 0.0544561\ttotal: 9.35ms\tremaining: 0us\n",
      "0:\tlearn: 0.1255585\ttotal: 535us\tremaining: 20.9ms\n",
      "39:\tlearn: 0.0615739\ttotal: 17.8ms\tremaining: 0us\n",
      "0:\tlearn: 0.1226528\ttotal: 487us\tremaining: 19ms\n",
      "39:\tlearn: 0.0673317\ttotal: 9.24ms\tremaining: 0us\n"
     ]
    },
    {
     "name": "stderr",
     "output_type": "stream",
     "text": [
      "23it [01:17, 10.21s/it]"
     ]
    },
    {
     "name": "stdout",
     "output_type": "stream",
     "text": [
      "0:\tlearn: 0.0501043\ttotal: 925us\tremaining: 36.1ms\n",
      "39:\tlearn: 0.0234074\ttotal: 64.8ms\tremaining: 0us\n",
      "0:\tlearn: 0.0512250\ttotal: 573us\tremaining: 22.4ms\n",
      "39:\tlearn: 0.0226577\ttotal: 184ms\tremaining: 0us\n",
      "0:\tlearn: 0.0516518\ttotal: 510us\tremaining: 19.9ms\n",
      "39:\tlearn: 0.0253866\ttotal: 33.1ms\tremaining: 0us\n",
      "0:\tlearn: 0.0497517\ttotal: 475us\tremaining: 18.5ms\n",
      "39:\tlearn: 0.0256394\ttotal: 9.35ms\tremaining: 0us\n",
      "0:\tlearn: 0.0493796\ttotal: 502us\tremaining: 19.6ms\n",
      "39:\tlearn: 0.0214161\ttotal: 14.2ms\tremaining: 0us\n",
      "0:\tlearn: 0.0484435\ttotal: 1.44ms\tremaining: 56.2ms\n",
      "39:\tlearn: 0.0232369\ttotal: 136ms\tremaining: 0us\n",
      "0:\tlearn: 0.0488589\ttotal: 469us\tremaining: 18.3ms\n",
      "39:\tlearn: 0.0236748\ttotal: 24.5ms\tremaining: 0us\n",
      "0:\tlearn: 0.0515971\ttotal: 1.25ms\tremaining: 48.7ms\n",
      "39:\tlearn: 0.0252399\ttotal: 87.6ms\tremaining: 0us\n",
      "0:\tlearn: 0.0515107\ttotal: 495us\tremaining: 19.3ms\n",
      "39:\tlearn: 0.0275829\ttotal: 18.1ms\tremaining: 0us\n",
      "0:\tlearn: 0.0509839\ttotal: 496us\tremaining: 19.4ms\n",
      "39:\tlearn: 0.0250030\ttotal: 14.7ms\tremaining: 0us\n",
      "0:\tlearn: 0.0504136\ttotal: 570us\tremaining: 22.3ms\n",
      "39:\tlearn: 0.0275015\ttotal: 19.2ms\tremaining: 0us\n",
      "0:\tlearn: 0.0508287\ttotal: 579us\tremaining: 22.6ms\n",
      "39:\tlearn: 0.0237750\ttotal: 8.99ms\tremaining: 0us\n",
      "0:\tlearn: 0.0499657\ttotal: 542us\tremaining: 21.2ms\n",
      "39:\tlearn: 0.0251801\ttotal: 11.5ms\tremaining: 0us\n"
     ]
    },
    {
     "name": "stderr",
     "output_type": "stream",
     "text": [
      "24it [01:29, 10.51s/it]"
     ]
    },
    {
     "name": "stdout",
     "output_type": "stream",
     "text": [
      "0:\tlearn: 0.0391955\ttotal: 470us\tremaining: 18.4ms\n",
      "39:\tlearn: 0.0180505\ttotal: 7.92ms\tremaining: 0us\n",
      "0:\tlearn: 0.0391283\ttotal: 479us\tremaining: 18.7ms\n",
      "39:\tlearn: 0.0214978\ttotal: 14.3ms\tremaining: 0us\n",
      "0:\tlearn: 0.0383339\ttotal: 468us\tremaining: 18.3ms\n",
      "39:\tlearn: 0.0241949\ttotal: 14.8ms\tremaining: 0us\n",
      "0:\tlearn: 0.0393853\ttotal: 489us\tremaining: 19.1ms\n",
      "39:\tlearn: 0.0226589\ttotal: 9.02ms\tremaining: 0us\n",
      "0:\tlearn: 0.0440762\ttotal: 436us\tremaining: 17ms\n",
      "39:\tlearn: 0.0235205\ttotal: 22.6ms\tremaining: 0us\n",
      "0:\tlearn: 0.0445335\ttotal: 613us\tremaining: 23.9ms\n",
      "39:\tlearn: 0.0240592\ttotal: 9.23ms\tremaining: 0us\n",
      "0:\tlearn: 0.0451180\ttotal: 554us\tremaining: 21.6ms\n",
      "39:\tlearn: 0.0242737\ttotal: 30.1ms\tremaining: 0us\n",
      "0:\tlearn: 0.0446923\ttotal: 546us\tremaining: 21.3ms\n",
      "39:\tlearn: 0.0239751\ttotal: 10.1ms\tremaining: 0us\n",
      "0:\tlearn: 0.0440064\ttotal: 952us\tremaining: 37.1ms\n",
      "39:\tlearn: 0.0232528\ttotal: 14.9ms\tremaining: 0us\n",
      "0:\tlearn: 0.0431339\ttotal: 970us\tremaining: 37.8ms\n",
      "39:\tlearn: 0.0234395\ttotal: 31.4ms\tremaining: 0us\n",
      "0:\tlearn: 0.0440604\ttotal: 553us\tremaining: 21.6ms\n",
      "39:\tlearn: 0.0226531\ttotal: 23.4ms\tremaining: 0us\n",
      "0:\tlearn: 0.0449655\ttotal: 564us\tremaining: 22ms\n",
      "39:\tlearn: 0.0235992\ttotal: 9.29ms\tremaining: 0us\n",
      "0:\tlearn: 0.0447988\ttotal: 1.25ms\tremaining: 48.8ms\n",
      "39:\tlearn: 0.0257567\ttotal: 60.9ms\tremaining: 0us\n"
     ]
    },
    {
     "name": "stderr",
     "output_type": "stream",
     "text": [
      "28it [01:40,  8.24s/it]"
     ]
    },
    {
     "name": "stdout",
     "output_type": "stream",
     "text": [
      "0:\tlearn: 0.0468132\ttotal: 687us\tremaining: 26.8ms\n",
      "39:\tlearn: 0.0224828\ttotal: 21.5ms\tremaining: 0us\n",
      "0:\tlearn: 0.0510572\ttotal: 494us\tremaining: 19.3ms\n",
      "39:\tlearn: 0.0307213\ttotal: 17.1ms\tremaining: 0us\n",
      "0:\tlearn: 0.0539925\ttotal: 486us\tremaining: 19ms\n",
      "39:\tlearn: 0.0305664\ttotal: 48.5ms\tremaining: 0us\n",
      "0:\tlearn: 0.0589370\ttotal: 585us\tremaining: 22.9ms\n",
      "39:\tlearn: 0.0284056\ttotal: 10.7ms\tremaining: 0us\n",
      "0:\tlearn: 0.0644991\ttotal: 1.4ms\tremaining: 54.4ms\n",
      "39:\tlearn: 0.0279452\ttotal: 61.9ms\tremaining: 0us\n",
      "0:\tlearn: 0.0700873\ttotal: 529us\tremaining: 20.6ms\n",
      "39:\tlearn: 0.0284538\ttotal: 65.3ms\tremaining: 0us\n",
      "0:\tlearn: 0.0699928\ttotal: 558us\tremaining: 21.8ms\n",
      "39:\tlearn: 0.0310211\ttotal: 8.75ms\tremaining: 0us\n",
      "0:\tlearn: 0.0685747\ttotal: 458us\tremaining: 17.9ms\n",
      "39:\tlearn: 0.0297137\ttotal: 53.3ms\tremaining: 0us\n",
      "0:\tlearn: 0.0690478\ttotal: 469us\tremaining: 18.3ms\n",
      "39:\tlearn: 0.0313961\ttotal: 10.2ms\tremaining: 0us\n",
      "0:\tlearn: 0.0685313\ttotal: 560us\tremaining: 21.9ms\n",
      "39:\tlearn: 0.0318129\ttotal: 42.5ms\tremaining: 0us\n",
      "0:\tlearn: 0.0698152\ttotal: 535us\tremaining: 20.9ms\n",
      "39:\tlearn: 0.0295125\ttotal: 9.08ms\tremaining: 0us\n",
      "0:\tlearn: 0.0707572\ttotal: 610us\tremaining: 23.8ms\n",
      "39:\tlearn: 0.0317731\ttotal: 44.1ms\tremaining: 0us\n",
      "0:\tlearn: 0.0726383\ttotal: 668us\tremaining: 26.1ms\n",
      "39:\tlearn: 0.0295231\ttotal: 10.7ms\tremaining: 0us\n"
     ]
    },
    {
     "name": "stderr",
     "output_type": "stream",
     "text": [
      "29it [01:52,  9.28s/it]"
     ]
    },
    {
     "name": "stdout",
     "output_type": "stream",
     "text": [
      "0:\tlearn: 0.1256118\ttotal: 639us\tremaining: 24.9ms\n",
      "39:\tlearn: 0.0477177\ttotal: 13ms\tremaining: 0us\n",
      "0:\tlearn: 0.1432137\ttotal: 566us\tremaining: 22.1ms\n",
      "39:\tlearn: 0.0740782\ttotal: 13.6ms\tremaining: 0us\n",
      "0:\tlearn: 0.1434463\ttotal: 525us\tremaining: 20.5ms\n",
      "39:\tlearn: 0.0756164\ttotal: 46.1ms\tremaining: 0us\n",
      "0:\tlearn: 0.1402254\ttotal: 587us\tremaining: 22.9ms\n",
      "39:\tlearn: 0.0728114\ttotal: 13.7ms\tremaining: 0us\n",
      "0:\tlearn: 0.1384919\ttotal: 588us\tremaining: 23ms\n",
      "39:\tlearn: 0.0660553\ttotal: 8.7ms\tremaining: 0us\n",
      "0:\tlearn: 0.1371796\ttotal: 565us\tremaining: 22.1ms\n",
      "39:\tlearn: 0.0708033\ttotal: 10.9ms\tremaining: 0us\n",
      "0:\tlearn: 0.1355019\ttotal: 547us\tremaining: 21.3ms\n",
      "39:\tlearn: 0.0826261\ttotal: 24.8ms\tremaining: 0us\n",
      "0:\tlearn: 0.1356008\ttotal: 468us\tremaining: 18.3ms\n",
      "39:\tlearn: 0.0732649\ttotal: 8.47ms\tremaining: 0us\n"
     ]
    },
    {
     "name": "stderr",
     "output_type": "stream",
     "text": [
      "30it [01:59,  8.62s/it]"
     ]
    },
    {
     "name": "stdout",
     "output_type": "stream",
     "text": [
      "0:\tlearn: 0.0476697\ttotal: 525us\tremaining: 20.5ms\n",
      "39:\tlearn: 0.0218098\ttotal: 13.1ms\tremaining: 0us\n",
      "0:\tlearn: 0.0472108\ttotal: 510us\tremaining: 19.9ms\n",
      "39:\tlearn: 0.0225524\ttotal: 10.2ms\tremaining: 0us\n",
      "0:\tlearn: 0.0469723\ttotal: 580us\tremaining: 22.7ms\n",
      "39:\tlearn: 0.0206028\ttotal: 29.8ms\tremaining: 0us\n",
      "0:\tlearn: 0.0458674\ttotal: 544us\tremaining: 21.2ms\n",
      "39:\tlearn: 0.0228182\ttotal: 11.9ms\tremaining: 0us\n",
      "0:\tlearn: 0.0459873\ttotal: 492us\tremaining: 19.2ms\n",
      "39:\tlearn: 0.0233783\ttotal: 10.3ms\tremaining: 0us\n",
      "0:\tlearn: 0.0532371\ttotal: 519us\tremaining: 20.3ms\n",
      "39:\tlearn: 0.0288542\ttotal: 10.5ms\tremaining: 0us\n",
      "0:\tlearn: 0.0601958\ttotal: 691us\tremaining: 27ms\n",
      "39:\tlearn: 0.0287928\ttotal: 73.1ms\tremaining: 0us\n",
      "0:\tlearn: 0.0627294\ttotal: 687us\tremaining: 26.8ms\n",
      "39:\tlearn: 0.0282078\ttotal: 13.5ms\tremaining: 0us\n",
      "0:\tlearn: 0.0625986\ttotal: 487us\tremaining: 19ms\n",
      "39:\tlearn: 0.0262329\ttotal: 25.4ms\tremaining: 0us\n",
      "0:\tlearn: 0.0601695\ttotal: 599us\tremaining: 23.4ms\n",
      "39:\tlearn: 0.0301038\ttotal: 11.4ms\tremaining: 0us\n",
      "0:\tlearn: 0.0605494\ttotal: 584us\tremaining: 22.8ms\n",
      "39:\tlearn: 0.0293172\ttotal: 44.6ms\tremaining: 0us\n",
      "0:\tlearn: 0.0601248\ttotal: 564us\tremaining: 22ms\n",
      "39:\tlearn: 0.0273990\ttotal: 8.91ms\tremaining: 0us\n",
      "0:\tlearn: 0.0599260\ttotal: 544us\tremaining: 21.2ms\n",
      "39:\tlearn: 0.0295120\ttotal: 31.8ms\tremaining: 0us\n"
     ]
    },
    {
     "name": "stderr",
     "output_type": "stream",
     "text": [
      "31it [02:09,  9.12s/it]"
     ]
    },
    {
     "name": "stdout",
     "output_type": "stream",
     "text": [
      "0:\tlearn: 0.0369599\ttotal: 497us\tremaining: 19.4ms\n",
      "39:\tlearn: 0.0160074\ttotal: 14.2ms\tremaining: 0us\n",
      "0:\tlearn: 0.0361824\ttotal: 496us\tremaining: 19.4ms\n",
      "39:\tlearn: 0.0160292\ttotal: 52.7ms\tremaining: 0us\n",
      "0:\tlearn: 0.0356188\ttotal: 509us\tremaining: 19.9ms\n",
      "39:\tlearn: 0.0161705\ttotal: 14.8ms\tremaining: 0us\n",
      "0:\tlearn: 0.0358587\ttotal: 524us\tremaining: 20.4ms\n",
      "39:\tlearn: 0.0170645\ttotal: 8.7ms\tremaining: 0us\n",
      "0:\tlearn: 0.0349386\ttotal: 535us\tremaining: 20.9ms\n",
      "39:\tlearn: 0.0176260\ttotal: 8.77ms\tremaining: 0us\n",
      "0:\tlearn: 0.0355998\ttotal: 508us\tremaining: 19.8ms\n",
      "39:\tlearn: 0.0171081\ttotal: 15.3ms\tremaining: 0us\n",
      "0:\tlearn: 0.0390502\ttotal: 480us\tremaining: 18.7ms\n",
      "39:\tlearn: 0.0178206\ttotal: 9.04ms\tremaining: 0us\n",
      "0:\tlearn: 0.0471084\ttotal: 516us\tremaining: 20.2ms\n",
      "39:\tlearn: 0.0235786\ttotal: 14.4ms\tremaining: 0us\n",
      "0:\tlearn: 0.0476214\ttotal: 560us\tremaining: 21.9ms\n",
      "39:\tlearn: 0.0240373\ttotal: 9.08ms\tremaining: 0us\n",
      "0:\tlearn: 0.0471718\ttotal: 589us\tremaining: 23ms\n",
      "39:\tlearn: 0.0222129\ttotal: 28.8ms\tremaining: 0us\n",
      "0:\tlearn: 0.0469929\ttotal: 524us\tremaining: 20.5ms\n",
      "39:\tlearn: 0.0221138\ttotal: 157ms\tremaining: 0us\n",
      "0:\tlearn: 0.0464038\ttotal: 485us\tremaining: 18.9ms\n",
      "39:\tlearn: 0.0222638\ttotal: 24.3ms\tremaining: 0us\n",
      "0:\tlearn: 0.0454476\ttotal: 587us\tremaining: 22.9ms\n",
      "39:\tlearn: 0.0219696\ttotal: 9.03ms\tremaining: 0us\n"
     ]
    },
    {
     "name": "stderr",
     "output_type": "stream",
     "text": [
      "32it [02:20,  9.72s/it]"
     ]
    },
    {
     "name": "stdout",
     "output_type": "stream",
     "text": [
      "0:\tlearn: 0.0859107\ttotal: 484us\tremaining: 18.9ms\n",
      "39:\tlearn: 0.0389661\ttotal: 12.5ms\tremaining: 0us\n",
      "0:\tlearn: 0.0900507\ttotal: 494us\tremaining: 19.3ms\n",
      "39:\tlearn: 0.0420575\ttotal: 62ms\tremaining: 0us\n",
      "0:\tlearn: 0.0937641\ttotal: 497us\tremaining: 19.4ms\n",
      "39:\tlearn: 0.0458167\ttotal: 28.3ms\tremaining: 0us\n",
      "0:\tlearn: 0.0918524\ttotal: 988us\tremaining: 38.5ms\n",
      "39:\tlearn: 0.0450974\ttotal: 9.39ms\tremaining: 0us\n",
      "0:\tlearn: 0.0910399\ttotal: 446us\tremaining: 17.4ms\n",
      "39:\tlearn: 0.0486261\ttotal: 16ms\tremaining: 0us\n",
      "0:\tlearn: 0.0915500\ttotal: 520us\tremaining: 20.3ms\n",
      "39:\tlearn: 0.0493045\ttotal: 9.55ms\tremaining: 0us\n",
      "0:\tlearn: 0.0920787\ttotal: 1.28ms\tremaining: 49.9ms\n",
      "39:\tlearn: 0.0530360\ttotal: 10.2ms\tremaining: 0us\n",
      "0:\tlearn: 0.0916755\ttotal: 544us\tremaining: 21.2ms\n",
      "39:\tlearn: 0.0469507\ttotal: 18.5ms\tremaining: 0us\n",
      "0:\tlearn: 0.1052003\ttotal: 582us\tremaining: 22.7ms\n",
      "39:\tlearn: 0.0615590\ttotal: 14.3ms\tremaining: 0us\n",
      "0:\tlearn: 0.1049177\ttotal: 536us\tremaining: 20.9ms\n",
      "39:\tlearn: 0.0587757\ttotal: 8.9ms\tremaining: 0us\n",
      "0:\tlearn: 0.1034448\ttotal: 479us\tremaining: 18.7ms\n",
      "39:\tlearn: 0.0557381\ttotal: 18.1ms\tremaining: 0us\n",
      "0:\tlearn: 0.1037381\ttotal: 595us\tremaining: 23.2ms\n",
      "39:\tlearn: 0.0586767\ttotal: 24.3ms\tremaining: 0us\n",
      "0:\tlearn: 0.1022604\ttotal: 589us\tremaining: 23ms\n",
      "39:\tlearn: 0.0593129\ttotal: 9.14ms\tremaining: 0us\n"
     ]
    },
    {
     "name": "stderr",
     "output_type": "stream",
     "text": [
      "33it [02:31, 10.05s/it]"
     ]
    },
    {
     "name": "stdout",
     "output_type": "stream",
     "text": [
      "0:\tlearn: 0.1414495\ttotal: 988us\tremaining: 38.6ms\n",
      "39:\tlearn: 0.0887429\ttotal: 14.9ms\tremaining: 0us\n",
      "0:\tlearn: 0.1399494\ttotal: 530us\tremaining: 20.7ms\n",
      "39:\tlearn: 0.0911769\ttotal: 30.2ms\tremaining: 0us\n",
      "0:\tlearn: 0.1389826\ttotal: 506us\tremaining: 19.8ms\n",
      "39:\tlearn: 0.0806343\ttotal: 9.25ms\tremaining: 0us\n",
      "0:\tlearn: 0.1383358\ttotal: 444us\tremaining: 17.3ms\n",
      "39:\tlearn: 0.0903521\ttotal: 8.51ms\tremaining: 0us\n",
      "0:\tlearn: 0.1364242\ttotal: 488us\tremaining: 19.1ms\n",
      "39:\tlearn: 0.0878255\ttotal: 8.84ms\tremaining: 0us\n",
      "0:\tlearn: 0.1343799\ttotal: 483us\tremaining: 18.9ms\n",
      "39:\tlearn: 0.0863307\ttotal: 36ms\tremaining: 0us\n",
      "0:\tlearn: 0.1328375\ttotal: 478us\tremaining: 18.7ms\n",
      "39:\tlearn: 0.0836528\ttotal: 8.84ms\tremaining: 0us\n",
      "0:\tlearn: 0.1300786\ttotal: 925us\tremaining: 36.1ms\n",
      "39:\tlearn: 0.0836434\ttotal: 77.5ms\tremaining: 0us\n",
      "0:\tlearn: 0.1307959\ttotal: 960us\tremaining: 37.5ms\n",
      "39:\tlearn: 0.0857132\ttotal: 111ms\tremaining: 0us\n",
      "0:\tlearn: 0.1315760\ttotal: 1.76ms\tremaining: 68.9ms\n",
      "39:\tlearn: 0.0904797\ttotal: 51.3ms\tremaining: 0us\n",
      "0:\tlearn: 0.1297689\ttotal: 1.49ms\tremaining: 58.2ms\n",
      "39:\tlearn: 0.0861078\ttotal: 161ms\tremaining: 0us\n",
      "0:\tlearn: 0.1290607\ttotal: 494us\tremaining: 19.3ms\n",
      "39:\tlearn: 0.0886539\ttotal: 14ms\tremaining: 0us\n",
      "0:\tlearn: 0.1274195\ttotal: 1.13ms\tremaining: 44ms\n",
      "39:\tlearn: 0.0908770\ttotal: 121ms\tremaining: 0us\n"
     ]
    },
    {
     "name": "stderr",
     "output_type": "stream",
     "text": [
      "34it [02:47, 11.65s/it]"
     ]
    },
    {
     "name": "stdout",
     "output_type": "stream",
     "text": [
      "0:\tlearn: 0.2575199\ttotal: 396us\tremaining: 15.5ms\n",
      "39:\tlearn: 0.0833800\ttotal: 7.42ms\tremaining: 0us\n",
      "0:\tlearn: 0.2452988\ttotal: 436us\tremaining: 17ms\n",
      "39:\tlearn: 0.0777636\ttotal: 44.9ms\tremaining: 0us\n",
      "0:\tlearn: 0.2366093\ttotal: 863us\tremaining: 33.7ms\n",
      "39:\tlearn: 0.0750336\ttotal: 38.4ms\tremaining: 0us\n",
      "0:\tlearn: 0.2263499\ttotal: 724us\tremaining: 28.3ms\n",
      "39:\tlearn: 0.0749001\ttotal: 10.6ms\tremaining: 0us\n",
      "0:\tlearn: 0.2208512\ttotal: 433us\tremaining: 16.9ms\n",
      "39:\tlearn: 0.0710504\ttotal: 8.2ms\tremaining: 0us\n",
      "0:\tlearn: 0.2137838\ttotal: 470us\tremaining: 18.3ms\n",
      "39:\tlearn: 0.0710155\ttotal: 13.4ms\tremaining: 0us\n",
      "0:\tlearn: 0.2112608\ttotal: 477us\tremaining: 18.6ms\n",
      "39:\tlearn: 0.0699626\ttotal: 8.38ms\tremaining: 0us\n",
      "0:\tlearn: 0.2143836\ttotal: 423us\tremaining: 16.5ms\n",
      "39:\tlearn: 0.0825884\ttotal: 13ms\tremaining: 0us\n",
      "0:\tlearn: 0.2106861\ttotal: 434us\tremaining: 16.9ms\n",
      "39:\tlearn: 0.0820226\ttotal: 7.68ms\tremaining: 0us\n",
      "0:\tlearn: 0.2069958\ttotal: 457us\tremaining: 17.8ms\n",
      "39:\tlearn: 0.0804914\ttotal: 10.3ms\tremaining: 0us\n",
      "0:\tlearn: 0.2003936\ttotal: 463us\tremaining: 18.1ms\n",
      "39:\tlearn: 0.0841246\ttotal: 28.1ms\tremaining: 0us\n",
      "0:\tlearn: 0.1972442\ttotal: 1.27ms\tremaining: 49.4ms\n",
      "39:\tlearn: 0.0832343\ttotal: 12.2ms\tremaining: 0us\n",
      "0:\tlearn: 0.1936569\ttotal: 462us\tremaining: 18ms\n",
      "39:\tlearn: 0.0825651\ttotal: 19.9ms\tremaining: 0us\n"
     ]
    },
    {
     "name": "stderr",
     "output_type": "stream",
     "text": [
      "35it [03:00, 12.27s/it]"
     ]
    },
    {
     "name": "stdout",
     "output_type": "stream",
     "text": [
      "0:\tlearn: 0.0415189\ttotal: 447us\tremaining: 17.4ms\n",
      "39:\tlearn: 0.0168893\ttotal: 10.1ms\tremaining: 0us\n",
      "0:\tlearn: 0.0409405\ttotal: 524us\tremaining: 20.5ms\n",
      "39:\tlearn: 0.0172931\ttotal: 10.3ms\tremaining: 0us\n",
      "0:\tlearn: 0.0407295\ttotal: 547us\tremaining: 21.3ms\n",
      "39:\tlearn: 0.0190057\ttotal: 12.5ms\tremaining: 0us\n",
      "0:\tlearn: 0.0408817\ttotal: 566us\tremaining: 22.1ms\n",
      "39:\tlearn: 0.0179557\ttotal: 11.2ms\tremaining: 0us\n",
      "0:\tlearn: 0.0414028\ttotal: 1.31ms\tremaining: 51.1ms\n",
      "39:\tlearn: 0.0184189\ttotal: 25.2ms\tremaining: 0us\n",
      "0:\tlearn: 0.0409622\ttotal: 558us\tremaining: 21.8ms\n",
      "39:\tlearn: 0.0202911\ttotal: 11ms\tremaining: 0us\n",
      "0:\tlearn: 0.0417298\ttotal: 532us\tremaining: 20.8ms\n",
      "39:\tlearn: 0.0221064\ttotal: 15.2ms\tremaining: 0us\n",
      "0:\tlearn: 0.0420047\ttotal: 564us\tremaining: 22ms\n",
      "39:\tlearn: 0.0230782\ttotal: 15.6ms\tremaining: 0us\n",
      "0:\tlearn: 0.0419550\ttotal: 499us\tremaining: 19.5ms\n",
      "39:\tlearn: 0.0206795\ttotal: 9.88ms\tremaining: 0us\n",
      "0:\tlearn: 0.0510503\ttotal: 606us\tremaining: 23.7ms\n",
      "39:\tlearn: 0.0274796\ttotal: 9.17ms\tremaining: 0us\n",
      "0:\tlearn: 0.0504017\ttotal: 498us\tremaining: 19.4ms\n",
      "39:\tlearn: 0.0270283\ttotal: 12.2ms\tremaining: 0us\n",
      "0:\tlearn: 0.0503228\ttotal: 562us\tremaining: 21.9ms\n",
      "39:\tlearn: 0.0278539\ttotal: 14ms\tremaining: 357us\n",
      "0:\tlearn: 0.0493499\ttotal: 543us\tremaining: 21.2ms\n",
      "39:\tlearn: 0.0268917\ttotal: 35.1ms\tremaining: 0us\n"
     ]
    },
    {
     "name": "stderr",
     "output_type": "stream",
     "text": [
      "36it [03:14, 12.80s/it]"
     ]
    },
    {
     "name": "stdout",
     "output_type": "stream",
     "text": [
      "0:\tlearn: 0.0411593\ttotal: 435us\tremaining: 17ms\n",
      "39:\tlearn: 0.0169048\ttotal: 8.2ms\tremaining: 0us\n",
      "0:\tlearn: 0.0417742\ttotal: 519us\tremaining: 20.2ms\n",
      "39:\tlearn: 0.0187890\ttotal: 8.84ms\tremaining: 0us\n",
      "0:\tlearn: 0.0431423\ttotal: 467us\tremaining: 18.2ms\n",
      "39:\tlearn: 0.0182970\ttotal: 11.4ms\tremaining: 0us\n",
      "0:\tlearn: 0.0418370\ttotal: 528us\tremaining: 20.6ms\n",
      "39:\tlearn: 0.0178923\ttotal: 13.8ms\tremaining: 0us\n",
      "0:\tlearn: 0.0415462\ttotal: 461us\tremaining: 18ms\n",
      "39:\tlearn: 0.0222646\ttotal: 8.45ms\tremaining: 0us\n",
      "0:\tlearn: 0.0414152\ttotal: 497us\tremaining: 19.4ms\n",
      "39:\tlearn: 0.0208944\ttotal: 9.25ms\tremaining: 0us\n",
      "0:\tlearn: 0.0424032\ttotal: 533us\tremaining: 20.8ms\n",
      "39:\tlearn: 0.0226057\ttotal: 14.4ms\tremaining: 0us\n",
      "0:\tlearn: 0.0477126\ttotal: 548us\tremaining: 21.4ms\n",
      "39:\tlearn: 0.0247558\ttotal: 24.3ms\tremaining: 0us\n",
      "0:\tlearn: 0.0483181\ttotal: 547us\tremaining: 21.4ms\n",
      "39:\tlearn: 0.0236196\ttotal: 9.05ms\tremaining: 0us\n",
      "0:\tlearn: 0.0478821\ttotal: 544us\tremaining: 21.2ms\n",
      "39:\tlearn: 0.0234712\ttotal: 9.88ms\tremaining: 0us\n",
      "0:\tlearn: 0.0477294\ttotal: 557us\tremaining: 21.7ms\n",
      "39:\tlearn: 0.0245214\ttotal: 14.4ms\tremaining: 0us\n",
      "0:\tlearn: 0.0471355\ttotal: 550us\tremaining: 21.5ms\n",
      "39:\tlearn: 0.0236252\ttotal: 14.8ms\tremaining: 0us\n",
      "0:\tlearn: 0.0481829\ttotal: 486us\tremaining: 19ms\n",
      "39:\tlearn: 0.0254387\ttotal: 21.9ms\tremaining: 0us\n"
     ]
    },
    {
     "name": "stderr",
     "output_type": "stream",
     "text": [
      "37it [03:37, 15.78s/it]"
     ]
    },
    {
     "name": "stdout",
     "output_type": "stream",
     "text": [
      "0:\tlearn: 0.1140512\ttotal: 508us\tremaining: 19.8ms\n",
      "39:\tlearn: 0.0564552\ttotal: 14ms\tremaining: 0us\n",
      "0:\tlearn: 0.1130598\ttotal: 579us\tremaining: 22.6ms\n",
      "39:\tlearn: 0.0668367\ttotal: 36.7ms\tremaining: 0us\n",
      "0:\tlearn: 0.1125491\ttotal: 489us\tremaining: 19.1ms\n",
      "39:\tlearn: 0.0668799\ttotal: 8.26ms\tremaining: 0us\n",
      "0:\tlearn: 0.1103784\ttotal: 415us\tremaining: 16.2ms\n",
      "39:\tlearn: 0.0695531\ttotal: 26.4ms\tremaining: 0us\n",
      "0:\tlearn: 0.1098634\ttotal: 445us\tremaining: 17.4ms\n",
      "39:\tlearn: 0.0691420\ttotal: 10.7ms\tremaining: 0us\n",
      "0:\tlearn: 0.1096165\ttotal: 458us\tremaining: 17.9ms\n",
      "39:\tlearn: 0.0778576\ttotal: 8.19ms\tremaining: 0us\n",
      "0:\tlearn: 0.1071112\ttotal: 461us\tremaining: 18ms\n",
      "39:\tlearn: 0.0719250\ttotal: 54.8ms\tremaining: 0us\n",
      "0:\tlearn: 0.1248688\ttotal: 545us\tremaining: 21.3ms\n",
      "39:\tlearn: 0.0727246\ttotal: 17.3ms\tremaining: 0us\n",
      "0:\tlearn: 0.1247429\ttotal: 514us\tremaining: 20.1ms\n",
      "39:\tlearn: 0.0731974\ttotal: 43.8ms\tremaining: 0us\n",
      "0:\tlearn: 0.1235223\ttotal: 470us\tremaining: 18.3ms\n",
      "39:\tlearn: 0.0803035\ttotal: 76.4ms\tremaining: 0us\n",
      "0:\tlearn: 0.1237403\ttotal: 1.01ms\tremaining: 39.6ms\n",
      "39:\tlearn: 0.0685998\ttotal: 27ms\tremaining: 0us\n",
      "0:\tlearn: 0.1217689\ttotal: 456us\tremaining: 17.8ms\n",
      "39:\tlearn: 0.0715548\ttotal: 10.3ms\tremaining: 0us\n",
      "0:\tlearn: 0.1216240\ttotal: 452us\tremaining: 17.7ms\n",
      "39:\tlearn: 0.0830970\ttotal: 8.51ms\tremaining: 0us\n"
     ]
    },
    {
     "name": "stderr",
     "output_type": "stream",
     "text": [
      "38it [03:57, 16.97s/it]"
     ]
    },
    {
     "name": "stdout",
     "output_type": "stream",
     "text": [
      "0:\tlearn: 0.0931119\ttotal: 444us\tremaining: 17.3ms\n",
      "39:\tlearn: 0.0315483\ttotal: 8.12ms\tremaining: 0us\n",
      "0:\tlearn: 0.0911115\ttotal: 465us\tremaining: 18.2ms\n",
      "39:\tlearn: 0.0345681\ttotal: 16.4ms\tremaining: 0us\n",
      "0:\tlearn: 0.0931607\ttotal: 506us\tremaining: 19.8ms\n",
      "39:\tlearn: 0.0385073\ttotal: 40.4ms\tremaining: 0us\n",
      "0:\tlearn: 0.0922550\ttotal: 1.02ms\tremaining: 39.7ms\n",
      "39:\tlearn: 0.0357561\ttotal: 17.2ms\tremaining: 0us\n",
      "0:\tlearn: 0.0913651\ttotal: 556us\tremaining: 21.7ms\n",
      "39:\tlearn: 0.0380291\ttotal: 32ms\tremaining: 0us\n",
      "0:\tlearn: 0.0905013\ttotal: 609us\tremaining: 23.8ms\n",
      "39:\tlearn: 0.0387190\ttotal: 13.6ms\tremaining: 0us\n",
      "0:\tlearn: 0.0914175\ttotal: 454us\tremaining: 17.7ms\n",
      "39:\tlearn: 0.0424134\ttotal: 87.3ms\tremaining: 0us\n",
      "0:\tlearn: 0.1025211\ttotal: 534us\tremaining: 20.9ms\n",
      "39:\tlearn: 0.0511448\ttotal: 12.1ms\tremaining: 0us\n",
      "0:\tlearn: 0.1007137\ttotal: 697us\tremaining: 27.2ms\n",
      "39:\tlearn: 0.0539016\ttotal: 49.9ms\tremaining: 0us\n",
      "0:\tlearn: 0.1007252\ttotal: 568us\tremaining: 22.2ms\n",
      "39:\tlearn: 0.0547297\ttotal: 9.95ms\tremaining: 0us\n",
      "0:\tlearn: 0.1019651\ttotal: 1.07ms\tremaining: 41.9ms\n",
      "39:\tlearn: 0.0494995\ttotal: 10.3ms\tremaining: 0us\n",
      "0:\tlearn: 0.1008048\ttotal: 627us\tremaining: 24.5ms\n",
      "39:\tlearn: 0.0475141\ttotal: 10.6ms\tremaining: 0us\n",
      "0:\tlearn: 0.1001418\ttotal: 841us\tremaining: 32.8ms\n",
      "39:\tlearn: 0.0502036\ttotal: 73.2ms\tremaining: 0us\n"
     ]
    },
    {
     "name": "stderr",
     "output_type": "stream",
     "text": [
      "39it [04:14, 17.08s/it]"
     ]
    },
    {
     "name": "stdout",
     "output_type": "stream",
     "text": [
      "0:\tlearn: 0.0363073\ttotal: 504us\tremaining: 19.7ms\n",
      "39:\tlearn: 0.0153078\ttotal: 8.1ms\tremaining: 0us\n",
      "0:\tlearn: 0.0356001\ttotal: 519us\tremaining: 20.3ms\n",
      "39:\tlearn: 0.0153923\ttotal: 19.9ms\tremaining: 0us\n",
      "0:\tlearn: 0.0362642\ttotal: 497us\tremaining: 19.4ms\n",
      "39:\tlearn: 0.0177172\ttotal: 8.85ms\tremaining: 0us\n",
      "0:\tlearn: 0.0355320\ttotal: 486us\tremaining: 19ms\n",
      "39:\tlearn: 0.0170347\ttotal: 58.3ms\tremaining: 0us\n",
      "0:\tlearn: 0.0357935\ttotal: 535us\tremaining: 20.9ms\n",
      "39:\tlearn: 0.0192720\ttotal: 28.4ms\tremaining: 0us\n",
      "0:\tlearn: 0.0348952\ttotal: 463us\tremaining: 18.1ms\n",
      "39:\tlearn: 0.0171026\ttotal: 19.7ms\tremaining: 0us\n",
      "0:\tlearn: 0.0354384\ttotal: 486us\tremaining: 19ms\n",
      "39:\tlearn: 0.0185987\ttotal: 30ms\tremaining: 0us\n",
      "0:\tlearn: 0.0417412\ttotal: 552us\tremaining: 21.6ms\n",
      "39:\tlearn: 0.0247826\ttotal: 14.5ms\tremaining: 0us\n",
      "0:\tlearn: 0.0425720\ttotal: 499us\tremaining: 19.5ms\n",
      "39:\tlearn: 0.0228691\ttotal: 10.1ms\tremaining: 0us\n",
      "0:\tlearn: 0.0421695\ttotal: 543us\tremaining: 21.2ms\n",
      "39:\tlearn: 0.0221229\ttotal: 8.79ms\tremaining: 0us\n",
      "0:\tlearn: 0.0424228\ttotal: 560us\tremaining: 21.8ms\n",
      "39:\tlearn: 0.0222045\ttotal: 11.3ms\tremaining: 0us\n",
      "0:\tlearn: 0.0424603\ttotal: 516us\tremaining: 20.1ms\n",
      "39:\tlearn: 0.0221998\ttotal: 8.99ms\tremaining: 0us\n",
      "0:\tlearn: 0.0432808\ttotal: 610us\tremaining: 23.8ms\n",
      "39:\tlearn: 0.0224024\ttotal: 27.4ms\tremaining: 0us\n"
     ]
    },
    {
     "name": "stderr",
     "output_type": "stream",
     "text": [
      "40it [04:34, 17.78s/it]"
     ]
    },
    {
     "name": "stdout",
     "output_type": "stream",
     "text": [
      "0:\tlearn: 0.0636168\ttotal: 453us\tremaining: 17.7ms\n",
      "39:\tlearn: 0.0274829\ttotal: 16.2ms\tremaining: 0us\n",
      "0:\tlearn: 0.0629608\ttotal: 462us\tremaining: 18.1ms\n",
      "39:\tlearn: 0.0313217\ttotal: 9.01ms\tremaining: 0us\n",
      "0:\tlearn: 0.0618107\ttotal: 506us\tremaining: 19.7ms\n",
      "39:\tlearn: 0.0335641\ttotal: 9.04ms\tremaining: 0us\n",
      "0:\tlearn: 0.0620960\ttotal: 511us\tremaining: 20ms\n",
      "39:\tlearn: 0.0315444\ttotal: 9.66ms\tremaining: 0us\n",
      "0:\tlearn: 0.0606180\ttotal: 510us\tremaining: 19.9ms\n",
      "39:\tlearn: 0.0319963\ttotal: 8.84ms\tremaining: 226us\n",
      "0:\tlearn: 0.0614522\ttotal: 529us\tremaining: 20.6ms\n",
      "39:\tlearn: 0.0326638\ttotal: 10.1ms\tremaining: 0us\n",
      "0:\tlearn: 0.0604256\ttotal: 582us\tremaining: 22.7ms\n",
      "39:\tlearn: 0.0357991\ttotal: 33.6ms\tremaining: 0us\n",
      "0:\tlearn: 0.0604458\ttotal: 474us\tremaining: 18.5ms\n",
      "39:\tlearn: 0.0335310\ttotal: 8.72ms\tremaining: 0us\n",
      "0:\tlearn: 0.0616506\ttotal: 614us\tremaining: 24ms\n",
      "39:\tlearn: 0.0346910\ttotal: 14.7ms\tremaining: 0us\n",
      "0:\tlearn: 0.0593345\ttotal: 560us\tremaining: 21.9ms\n",
      "39:\tlearn: 0.0354061\ttotal: 26.6ms\tremaining: 0us\n",
      "0:\tlearn: 0.0601958\ttotal: 616us\tremaining: 24.1ms\n",
      "39:\tlearn: 0.0335910\ttotal: 24.2ms\tremaining: 0us\n",
      "0:\tlearn: 0.0601138\ttotal: 548us\tremaining: 21.4ms\n",
      "39:\tlearn: 0.0354674\ttotal: 9.29ms\tremaining: 0us\n",
      "0:\tlearn: 0.0599720\ttotal: 559us\tremaining: 21.8ms\n",
      "39:\tlearn: 0.0358849\ttotal: 56.8ms\tremaining: 0us\n"
     ]
    },
    {
     "name": "stderr",
     "output_type": "stream",
     "text": [
      "41it [04:48, 16.69s/it]"
     ]
    },
    {
     "name": "stdout",
     "output_type": "stream",
     "text": [
      "0:\tlearn: 0.1106717\ttotal: 433us\tremaining: 16.9ms\n",
      "39:\tlearn: 0.0435819\ttotal: 24.6ms\tremaining: 0us\n",
      "0:\tlearn: 0.1085910\ttotal: 461us\tremaining: 18ms\n",
      "39:\tlearn: 0.0483383\ttotal: 8.55ms\tremaining: 0us\n",
      "0:\tlearn: 0.1094448\ttotal: 491us\tremaining: 19.2ms\n",
      "39:\tlearn: 0.0540298\ttotal: 8.92ms\tremaining: 0us\n",
      "0:\tlearn: 0.1084669\ttotal: 445us\tremaining: 17.4ms\n",
      "39:\tlearn: 0.0478551\ttotal: 31.4ms\tremaining: 0us\n",
      "0:\tlearn: 0.1072773\ttotal: 1.04ms\tremaining: 40.8ms\n",
      "39:\tlearn: 0.0558955\ttotal: 9.79ms\tremaining: 0us\n",
      "0:\tlearn: 0.1042732\ttotal: 460us\tremaining: 17.9ms\n",
      "39:\tlearn: 0.0468288\ttotal: 8.19ms\tremaining: 0us\n",
      "0:\tlearn: 0.1017955\ttotal: 505us\tremaining: 19.7ms\n",
      "39:\tlearn: 0.0457542\ttotal: 16.1ms\tremaining: 0us\n",
      "0:\tlearn: 0.1025422\ttotal: 513us\tremaining: 20ms\n",
      "39:\tlearn: 0.0472786\ttotal: 17.5ms\tremaining: 0us\n",
      "0:\tlearn: 0.1027826\ttotal: 519us\tremaining: 20.3ms\n",
      "39:\tlearn: 0.0540866\ttotal: 66.2ms\tremaining: 0us\n",
      "0:\tlearn: 0.1010818\ttotal: 555us\tremaining: 21.7ms\n",
      "39:\tlearn: 0.0508383\ttotal: 9.3ms\tremaining: 0us\n",
      "0:\tlearn: 0.1042621\ttotal: 625us\tremaining: 24.4ms\n",
      "39:\tlearn: 0.0566838\ttotal: 9.95ms\tremaining: 0us\n",
      "0:\tlearn: 0.1190754\ttotal: 610us\tremaining: 23.8ms\n",
      "39:\tlearn: 0.0738908\ttotal: 15.5ms\tremaining: 0us\n",
      "0:\tlearn: 0.1176508\ttotal: 481us\tremaining: 18.8ms\n",
      "39:\tlearn: 0.0722882\ttotal: 8.89ms\tremaining: 0us\n"
     ]
    },
    {
     "name": "stderr",
     "output_type": "stream",
     "text": [
      "42it [05:06, 17.01s/it]"
     ]
    },
    {
     "name": "stdout",
     "output_type": "stream",
     "text": [
      "0:\tlearn: 0.0892740\ttotal: 455us\tremaining: 17.8ms\n",
      "39:\tlearn: 0.0356275\ttotal: 23.1ms\tremaining: 0us\n",
      "0:\tlearn: 0.0873489\ttotal: 491us\tremaining: 19.2ms\n",
      "39:\tlearn: 0.0387261\ttotal: 8.84ms\tremaining: 0us\n",
      "0:\tlearn: 0.0870045\ttotal: 499us\tremaining: 19.5ms\n",
      "39:\tlearn: 0.0402241\ttotal: 9.16ms\tremaining: 0us\n",
      "0:\tlearn: 0.0854896\ttotal: 487us\tremaining: 19ms\n",
      "39:\tlearn: 0.0413090\ttotal: 21.4ms\tremaining: 0us\n",
      "0:\tlearn: 0.0853103\ttotal: 469us\tremaining: 18.3ms\n",
      "39:\tlearn: 0.0458825\ttotal: 30.2ms\tremaining: 0us\n",
      "0:\tlearn: 0.0835047\ttotal: 471us\tremaining: 18.4ms\n",
      "39:\tlearn: 0.0459493\ttotal: 14.5ms\tremaining: 0us\n",
      "0:\tlearn: 0.0842095\ttotal: 571us\tremaining: 22.3ms\n",
      "39:\tlearn: 0.0440377\ttotal: 60.2ms\tremaining: 0us\n",
      "0:\tlearn: 0.0833148\ttotal: 722us\tremaining: 28.2ms\n",
      "39:\tlearn: 0.0487473\ttotal: 9.06ms\tremaining: 0us\n",
      "0:\tlearn: 0.0825235\ttotal: 469us\tremaining: 18.3ms\n",
      "39:\tlearn: 0.0474377\ttotal: 17ms\tremaining: 0us\n",
      "0:\tlearn: 0.0820360\ttotal: 547us\tremaining: 21.4ms\n",
      "39:\tlearn: 0.0438197\ttotal: 47.1ms\tremaining: 0us\n",
      "0:\tlearn: 0.0803991\ttotal: 1.06ms\tremaining: 41.2ms\n",
      "39:\tlearn: 0.0430957\ttotal: 120ms\tremaining: 0us\n",
      "0:\tlearn: 0.0803087\ttotal: 554us\tremaining: 21.6ms\n",
      "39:\tlearn: 0.0434082\ttotal: 20.8ms\tremaining: 0us\n",
      "0:\tlearn: 0.0807497\ttotal: 621us\tremaining: 24.2ms\n",
      "39:\tlearn: 0.0448545\ttotal: 9.16ms\tremaining: 0us\n"
     ]
    },
    {
     "name": "stderr",
     "output_type": "stream",
     "text": [
      "43it [05:24, 17.56s/it]"
     ]
    },
    {
     "name": "stdout",
     "output_type": "stream",
     "text": [
      "0:\tlearn: 0.0249945\ttotal: 452us\tremaining: 17.7ms\n",
      "39:\tlearn: 0.0100785\ttotal: 62ms\tremaining: 0us\n",
      "0:\tlearn: 0.0244435\ttotal: 513us\tremaining: 20ms\n",
      "39:\tlearn: 0.0107269\ttotal: 9.07ms\tremaining: 0us\n",
      "0:\tlearn: 0.0240710\ttotal: 505us\tremaining: 19.7ms\n",
      "39:\tlearn: 0.0091458\ttotal: 16.3ms\tremaining: 0us\n",
      "0:\tlearn: 0.0237805\ttotal: 465us\tremaining: 18.2ms\n",
      "39:\tlearn: 0.0106154\ttotal: 20.4ms\tremaining: 0us\n",
      "0:\tlearn: 0.0235614\ttotal: 448us\tremaining: 17.5ms\n",
      "39:\tlearn: 0.0105031\ttotal: 8.62ms\tremaining: 0us\n",
      "0:\tlearn: 0.0233443\ttotal: 487us\tremaining: 19ms\n",
      "39:\tlearn: 0.0113868\ttotal: 18.3ms\tremaining: 0us\n",
      "0:\tlearn: 0.0236784\ttotal: 496us\tremaining: 19.4ms\n",
      "39:\tlearn: 0.0111839\ttotal: 9.62ms\tremaining: 0us\n",
      "0:\tlearn: 0.0281250\ttotal: 441us\tremaining: 17.2ms\n",
      "39:\tlearn: 0.0135193\ttotal: 25.1ms\tremaining: 0us\n",
      "0:\tlearn: 0.0305532\ttotal: 539us\tremaining: 21ms\n",
      "39:\tlearn: 0.0122985\ttotal: 17.7ms\tremaining: 0us\n",
      "0:\tlearn: 0.0311567\ttotal: 541us\tremaining: 21.1ms\n",
      "39:\tlearn: 0.0117098\ttotal: 14.2ms\tremaining: 0us\n",
      "0:\tlearn: 0.0306953\ttotal: 551us\tremaining: 21.5ms\n",
      "39:\tlearn: 0.0124038\ttotal: 16.1ms\tremaining: 0us\n",
      "0:\tlearn: 0.0309313\ttotal: 626us\tremaining: 24.4ms\n",
      "39:\tlearn: 0.0121280\ttotal: 8.93ms\tremaining: 0us\n",
      "0:\tlearn: 0.0303773\ttotal: 568us\tremaining: 22.2ms\n",
      "39:\tlearn: 0.0123243\ttotal: 8.96ms\tremaining: 0us\n"
     ]
    },
    {
     "name": "stderr",
     "output_type": "stream",
     "text": [
      "44it [05:38, 16.43s/it]"
     ]
    },
    {
     "name": "stdout",
     "output_type": "stream",
     "text": [
      "0:\tlearn: 0.0682918\ttotal: 419us\tremaining: 16.4ms\n",
      "39:\tlearn: 0.0289313\ttotal: 8.77ms\tremaining: 0us\n",
      "0:\tlearn: 0.0680850\ttotal: 468us\tremaining: 18.3ms\n",
      "39:\tlearn: 0.0292894\ttotal: 9.02ms\tremaining: 0us\n",
      "0:\tlearn: 0.0682626\ttotal: 488us\tremaining: 19ms\n",
      "39:\tlearn: 0.0325683\ttotal: 9.28ms\tremaining: 0us\n",
      "0:\tlearn: 0.0676566\ttotal: 470us\tremaining: 18.4ms\n",
      "39:\tlearn: 0.0312023\ttotal: 18.5ms\tremaining: 0us\n",
      "0:\tlearn: 0.0673085\ttotal: 468us\tremaining: 18.3ms\n",
      "39:\tlearn: 0.0292594\ttotal: 29.7ms\tremaining: 0us\n",
      "0:\tlearn: 0.0663825\ttotal: 534us\tremaining: 20.8ms\n",
      "39:\tlearn: 0.0346581\ttotal: 8.49ms\tremaining: 0us\n",
      "0:\tlearn: 0.0656341\ttotal: 477us\tremaining: 18.6ms\n",
      "39:\tlearn: 0.0328421\ttotal: 33.3ms\tremaining: 0us\n",
      "0:\tlearn: 0.0675181\ttotal: 475us\tremaining: 18.5ms\n",
      "39:\tlearn: 0.0335180\ttotal: 10.1ms\tremaining: 0us\n",
      "0:\tlearn: 0.0719804\ttotal: 516us\tremaining: 20.1ms\n",
      "39:\tlearn: 0.0339064\ttotal: 8.8ms\tremaining: 0us\n",
      "0:\tlearn: 0.0707150\ttotal: 535us\tremaining: 20.9ms\n",
      "39:\tlearn: 0.0290968\ttotal: 8.85ms\tremaining: 0us\n",
      "0:\tlearn: 0.0699881\ttotal: 608us\tremaining: 23.7ms\n",
      "39:\tlearn: 0.0355502\ttotal: 9.62ms\tremaining: 0us\n",
      "0:\tlearn: 0.0689960\ttotal: 572us\tremaining: 22.3ms\n",
      "39:\tlearn: 0.0314898\ttotal: 14.4ms\tremaining: 0us\n",
      "0:\tlearn: 0.0687921\ttotal: 614us\tremaining: 24ms\n",
      "39:\tlearn: 0.0346597\ttotal: 9.11ms\tremaining: 0us\n"
     ]
    },
    {
     "name": "stderr",
     "output_type": "stream",
     "text": [
      "45it [05:54, 16.26s/it]"
     ]
    },
    {
     "name": "stdout",
     "output_type": "stream",
     "text": [
      "0:\tlearn: 0.0777197\ttotal: 492us\tremaining: 19.2ms\n",
      "39:\tlearn: 0.0304468\ttotal: 19.2ms\tremaining: 0us\n",
      "0:\tlearn: 0.0778047\ttotal: 500us\tremaining: 19.5ms\n",
      "39:\tlearn: 0.0299945\ttotal: 8.96ms\tremaining: 0us\n",
      "0:\tlearn: 0.0786544\ttotal: 476us\tremaining: 18.6ms\n",
      "39:\tlearn: 0.0310114\ttotal: 8.62ms\tremaining: 0us\n",
      "0:\tlearn: 0.0783079\ttotal: 533us\tremaining: 20.8ms\n",
      "39:\tlearn: 0.0311899\ttotal: 15ms\tremaining: 0us\n",
      "0:\tlearn: 0.0773801\ttotal: 472us\tremaining: 18.4ms\n",
      "39:\tlearn: 0.0287805\ttotal: 14.4ms\tremaining: 0us\n",
      "0:\tlearn: 0.0760908\ttotal: 492us\tremaining: 19.2ms\n",
      "39:\tlearn: 0.0309890\ttotal: 8.72ms\tremaining: 0us\n",
      "0:\tlearn: 0.0767423\ttotal: 773us\tremaining: 30.2ms\n",
      "39:\tlearn: 0.0310751\ttotal: 17.1ms\tremaining: 0us\n",
      "0:\tlearn: 0.0808130\ttotal: 624us\tremaining: 24.3ms\n",
      "39:\tlearn: 0.0308018\ttotal: 22.8ms\tremaining: 0us\n",
      "0:\tlearn: 0.0805689\ttotal: 477us\tremaining: 18.6ms\n",
      "39:\tlearn: 0.0298833\ttotal: 8.86ms\tremaining: 0us\n",
      "0:\tlearn: 0.0795457\ttotal: 608us\tremaining: 23.7ms\n",
      "39:\tlearn: 0.0328179\ttotal: 10.2ms\tremaining: 0us\n",
      "0:\tlearn: 0.0777816\ttotal: 576us\tremaining: 22.5ms\n",
      "39:\tlearn: 0.0326794\ttotal: 9.71ms\tremaining: 249us\n",
      "0:\tlearn: 0.0792458\ttotal: 566us\tremaining: 22.1ms\n",
      "39:\tlearn: 0.0340743\ttotal: 46ms\tremaining: 0us\n",
      "0:\tlearn: 0.0783016\ttotal: 600us\tremaining: 23.4ms\n",
      "39:\tlearn: 0.0319945\ttotal: 28.4ms\tremaining: 0us\n"
     ]
    },
    {
     "name": "stderr",
     "output_type": "stream",
     "text": [
      "46it [06:09, 15.95s/it]"
     ]
    },
    {
     "name": "stdout",
     "output_type": "stream",
     "text": [
      "0:\tlearn: 0.1015807\ttotal: 926us\tremaining: 36.1ms\n",
      "39:\tlearn: 0.0321012\ttotal: 58ms\tremaining: 0us\n",
      "0:\tlearn: 0.0998669\ttotal: 420us\tremaining: 16.4ms\n",
      "39:\tlearn: 0.0360193\ttotal: 7.26ms\tremaining: 0us\n",
      "0:\tlearn: 0.0971562\ttotal: 1.08ms\tremaining: 42.1ms\n",
      "39:\tlearn: 0.0340035\ttotal: 45.1ms\tremaining: 0us\n",
      "0:\tlearn: 0.0932146\ttotal: 444us\tremaining: 17.3ms\n",
      "39:\tlearn: 0.0354444\ttotal: 36.7ms\tremaining: 0us\n",
      "0:\tlearn: 0.0913761\ttotal: 430us\tremaining: 16.8ms\n",
      "39:\tlearn: 0.0344660\ttotal: 18ms\tremaining: 0us\n",
      "0:\tlearn: 0.0921251\ttotal: 423us\tremaining: 16.5ms\n",
      "39:\tlearn: 0.0366230\ttotal: 12.9ms\tremaining: 0us\n",
      "0:\tlearn: 0.0873759\ttotal: 422us\tremaining: 16.5ms\n",
      "39:\tlearn: 0.0358487\ttotal: 8.35ms\tremaining: 0us\n",
      "0:\tlearn: 0.1286803\ttotal: 464us\tremaining: 18.1ms\n",
      "39:\tlearn: 0.0504271\ttotal: 7.72ms\tremaining: 0us\n",
      "0:\tlearn: 0.1256990\ttotal: 476us\tremaining: 18.6ms\n",
      "39:\tlearn: 0.0511032\ttotal: 18.3ms\tremaining: 0us\n",
      "0:\tlearn: 0.1231180\ttotal: 454us\tremaining: 17.7ms\n",
      "39:\tlearn: 0.0483220\ttotal: 7.43ms\tremaining: 0us\n",
      "0:\tlearn: 0.1201677\ttotal: 459us\tremaining: 17.9ms\n",
      "39:\tlearn: 0.0634629\ttotal: 13.3ms\tremaining: 0us\n",
      "0:\tlearn: 0.1195393\ttotal: 448us\tremaining: 17.5ms\n",
      "39:\tlearn: 0.0540778\ttotal: 7.48ms\tremaining: 0us\n",
      "0:\tlearn: 0.1162929\ttotal: 426us\tremaining: 16.7ms\n",
      "39:\tlearn: 0.0562157\ttotal: 32.5ms\tremaining: 0us\n"
     ]
    },
    {
     "name": "stderr",
     "output_type": "stream",
     "text": [
      "47it [06:22, 15.06s/it]"
     ]
    },
    {
     "name": "stdout",
     "output_type": "stream",
     "text": [
      "0:\tlearn: 0.0607284\ttotal: 434us\tremaining: 16.9ms\n",
      "39:\tlearn: 0.0213088\ttotal: 14.5ms\tremaining: 0us\n",
      "0:\tlearn: 0.0599816\ttotal: 725us\tremaining: 28.3ms\n",
      "39:\tlearn: 0.0237447\ttotal: 13.2ms\tremaining: 0us\n",
      "0:\tlearn: 0.0609822\ttotal: 459us\tremaining: 17.9ms\n",
      "39:\tlearn: 0.0243058\ttotal: 15.4ms\tremaining: 0us\n",
      "0:\tlearn: 0.0595253\ttotal: 549us\tremaining: 21.4ms\n",
      "39:\tlearn: 0.0236126\ttotal: 9.17ms\tremaining: 0us\n",
      "0:\tlearn: 0.0582047\ttotal: 540us\tremaining: 21.1ms\n",
      "39:\tlearn: 0.0238522\ttotal: 11.9ms\tremaining: 0us\n",
      "0:\tlearn: 0.0589307\ttotal: 546us\tremaining: 21.3ms\n",
      "39:\tlearn: 0.0248853\ttotal: 15.2ms\tremaining: 0us\n",
      "0:\tlearn: 0.0618170\ttotal: 480us\tremaining: 18.7ms\n",
      "39:\tlearn: 0.0226431\ttotal: 10.1ms\tremaining: 0us\n",
      "0:\tlearn: 0.0610265\ttotal: 529us\tremaining: 20.7ms\n",
      "39:\tlearn: 0.0221801\ttotal: 9.78ms\tremaining: 0us\n",
      "0:\tlearn: 0.0639014\ttotal: 472us\tremaining: 18.4ms\n",
      "39:\tlearn: 0.0237655\ttotal: 28.9ms\tremaining: 0us\n",
      "0:\tlearn: 0.0625819\ttotal: 811us\tremaining: 31.6ms\n",
      "39:\tlearn: 0.0263735\ttotal: 9.43ms\tremaining: 0us\n",
      "0:\tlearn: 0.0617711\ttotal: 585us\tremaining: 22.8ms\n",
      "39:\tlearn: 0.0255417\ttotal: 15.1ms\tremaining: 0us\n",
      "0:\tlearn: 0.0621864\ttotal: 513us\tremaining: 20ms\n",
      "39:\tlearn: 0.0236431\ttotal: 9.09ms\tremaining: 0us\n",
      "0:\tlearn: 0.0599986\ttotal: 482us\tremaining: 18.8ms\n",
      "39:\tlearn: 0.0249926\ttotal: 12.3ms\tremaining: 0us\n"
     ]
    },
    {
     "name": "stderr",
     "output_type": "stream",
     "text": [
      "48it [06:36, 14.77s/it]"
     ]
    },
    {
     "name": "stdout",
     "output_type": "stream",
     "text": [
      "0:\tlearn: 0.1223208\ttotal: 448us\tremaining: 17.5ms\n",
      "39:\tlearn: 0.0523429\ttotal: 28.8ms\tremaining: 0us\n",
      "0:\tlearn: 0.1202044\ttotal: 472us\tremaining: 18.4ms\n",
      "39:\tlearn: 0.0647349\ttotal: 13.8ms\tremaining: 0us\n",
      "0:\tlearn: 0.1191384\ttotal: 747us\tremaining: 29.1ms\n",
      "39:\tlearn: 0.0646126\ttotal: 8.36ms\tremaining: 0us\n",
      "0:\tlearn: 0.1187563\ttotal: 539us\tremaining: 21ms\n",
      "39:\tlearn: 0.0716256\ttotal: 15.1ms\tremaining: 0us\n",
      "0:\tlearn: 0.1166175\ttotal: 434us\tremaining: 17ms\n",
      "39:\tlearn: 0.0673074\ttotal: 54.9ms\tremaining: 0us\n",
      "0:\tlearn: 0.1133740\ttotal: 454us\tremaining: 17.7ms\n",
      "39:\tlearn: 0.0652987\ttotal: 22.4ms\tremaining: 0us\n",
      "0:\tlearn: 0.1187295\ttotal: 533us\tremaining: 20.8ms\n",
      "39:\tlearn: 0.0739228\ttotal: 8.47ms\tremaining: 0us\n",
      "0:\tlearn: 0.1155191\ttotal: 1.43ms\tremaining: 56ms\n",
      "39:\tlearn: 0.0660198\ttotal: 56.8ms\tremaining: 0us\n",
      "0:\tlearn: 0.1185795\ttotal: 522us\tremaining: 20.4ms\n",
      "39:\tlearn: 0.0593447\ttotal: 14.4ms\tremaining: 0us\n",
      "0:\tlearn: 0.1317926\ttotal: 555us\tremaining: 21.7ms\n",
      "39:\tlearn: 0.0730926\ttotal: 9.3ms\tremaining: 0us\n",
      "0:\tlearn: 0.1330801\ttotal: 609us\tremaining: 23.8ms\n",
      "39:\tlearn: 0.0729786\ttotal: 30.1ms\tremaining: 0us\n",
      "0:\tlearn: 0.1348103\ttotal: 634us\tremaining: 24.7ms\n",
      "39:\tlearn: 0.0742768\ttotal: 15.8ms\tremaining: 0us\n",
      "0:\tlearn: 0.1349714\ttotal: 539us\tremaining: 21.1ms\n",
      "39:\tlearn: 0.0721771\ttotal: 14ms\tremaining: 0us\n"
     ]
    },
    {
     "name": "stderr",
     "output_type": "stream",
     "text": [
      "49it [06:52, 15.07s/it]"
     ]
    },
    {
     "name": "stdout",
     "output_type": "stream",
     "text": [
      "0:\tlearn: 0.1255262\ttotal: 447us\tremaining: 17.4ms\n",
      "39:\tlearn: 0.0468990\ttotal: 7.54ms\tremaining: 0us\n",
      "0:\tlearn: 0.1268481\ttotal: 1.35ms\tremaining: 52.8ms\n",
      "39:\tlearn: 0.0512829\ttotal: 20.7ms\tremaining: 0us\n",
      "0:\tlearn: 0.1257906\ttotal: 789us\tremaining: 30.8ms\n",
      "39:\tlearn: 0.0516610\ttotal: 15.2ms\tremaining: 0us\n",
      "0:\tlearn: 0.1233410\ttotal: 501us\tremaining: 19.6ms\n",
      "39:\tlearn: 0.0522319\ttotal: 48.9ms\tremaining: 0us\n",
      "0:\tlearn: 0.1232481\ttotal: 471us\tremaining: 18.4ms\n",
      "39:\tlearn: 0.0529443\ttotal: 8.72ms\tremaining: 0us\n",
      "0:\tlearn: 0.1209652\ttotal: 459us\tremaining: 17.9ms\n",
      "39:\tlearn: 0.0481617\ttotal: 19.2ms\tremaining: 0us\n",
      "0:\tlearn: 0.1179944\ttotal: 493us\tremaining: 19.2ms\n",
      "39:\tlearn: 0.0508778\ttotal: 13.7ms\tremaining: 0us\n",
      "0:\tlearn: 0.1186102\ttotal: 471us\tremaining: 18.4ms\n",
      "39:\tlearn: 0.0506134\ttotal: 8.73ms\tremaining: 0us\n",
      "0:\tlearn: 0.1168965\ttotal: 485us\tremaining: 18.9ms\n",
      "39:\tlearn: 0.0492479\ttotal: 9.74ms\tremaining: 0us\n",
      "0:\tlearn: 0.1158343\ttotal: 412us\tremaining: 16.1ms\n",
      "39:\tlearn: 0.0483848\ttotal: 18.2ms\tremaining: 0us\n",
      "0:\tlearn: 0.1155877\ttotal: 564us\tremaining: 22ms\n",
      "39:\tlearn: 0.0500736\ttotal: 11.2ms\tremaining: 0us\n",
      "0:\tlearn: 0.1159935\ttotal: 572us\tremaining: 22.3ms\n",
      "39:\tlearn: 0.0507419\ttotal: 9.78ms\tremaining: 0us\n"
     ]
    },
    {
     "name": "stderr",
     "output_type": "stream",
     "text": [
      "50it [07:03, 13.74s/it]"
     ]
    },
    {
     "name": "stdout",
     "output_type": "stream",
     "text": [
      "0:\tlearn: 0.0345631\ttotal: 469us\tremaining: 18.3ms\n",
      "39:\tlearn: 0.0114304\ttotal: 11.3ms\tremaining: 0us\n",
      "0:\tlearn: 0.0355399\ttotal: 492us\tremaining: 19.2ms\n",
      "39:\tlearn: 0.0139770\ttotal: 9.07ms\tremaining: 0us\n",
      "0:\tlearn: 0.0349979\ttotal: 1.27ms\tremaining: 49.6ms\n",
      "39:\tlearn: 0.0123238\ttotal: 9.91ms\tremaining: 0us\n",
      "0:\tlearn: 0.0343970\ttotal: 667us\tremaining: 26ms\n",
      "39:\tlearn: 0.0125967\ttotal: 34.4ms\tremaining: 0us\n",
      "0:\tlearn: 0.0342524\ttotal: 491us\tremaining: 19.2ms\n",
      "39:\tlearn: 0.0136405\ttotal: 82.5ms\tremaining: 0us\n",
      "0:\tlearn: 0.0340199\ttotal: 1.2ms\tremaining: 46.7ms\n",
      "39:\tlearn: 0.0121737\ttotal: 112ms\tremaining: 0us\n",
      "0:\tlearn: 0.0335721\ttotal: 550us\tremaining: 21.5ms\n",
      "39:\tlearn: 0.0131201\ttotal: 64.8ms\tremaining: 0us\n",
      "0:\tlearn: 0.0336009\ttotal: 476us\tremaining: 18.6ms\n",
      "39:\tlearn: 0.0137222\ttotal: 13.7ms\tremaining: 0us\n",
      "0:\tlearn: 0.0346450\ttotal: 531us\tremaining: 20.7ms\n",
      "39:\tlearn: 0.0127474\ttotal: 8.98ms\tremaining: 0us\n",
      "0:\tlearn: 0.0341783\ttotal: 525us\tremaining: 20.5ms\n",
      "39:\tlearn: 0.0127421\ttotal: 12.2ms\tremaining: 0us\n",
      "0:\tlearn: 0.0348284\ttotal: 581us\tremaining: 22.7ms\n",
      "39:\tlearn: 0.0128009\ttotal: 9.01ms\tremaining: 0us\n",
      "0:\tlearn: 0.0351268\ttotal: 523us\tremaining: 20.4ms\n",
      "39:\tlearn: 0.0134657\ttotal: 9.95ms\tremaining: 0us\n",
      "0:\tlearn: 0.0348734\ttotal: 476us\tremaining: 18.6ms\n",
      "39:\tlearn: 0.0118498\ttotal: 8.87ms\tremaining: 0us\n"
     ]
    },
    {
     "name": "stderr",
     "output_type": "stream",
     "text": [
      "51it [07:13, 12.83s/it]"
     ]
    },
    {
     "name": "stdout",
     "output_type": "stream",
     "text": [
      "0:\tlearn: 0.0295373\ttotal: 468us\tremaining: 18.3ms\n",
      "39:\tlearn: 0.0071760\ttotal: 22.8ms\tremaining: 0us\n",
      "0:\tlearn: 0.0288482\ttotal: 446us\tremaining: 17.4ms\n",
      "39:\tlearn: 0.0078392\ttotal: 14.1ms\tremaining: 0us\n",
      "0:\tlearn: 0.0290988\ttotal: 486us\tremaining: 19ms\n",
      "39:\tlearn: 0.0074724\ttotal: 9.65ms\tremaining: 0us\n",
      "0:\tlearn: 0.0289252\ttotal: 595us\tremaining: 23.2ms\n",
      "39:\tlearn: 0.0076143\ttotal: 8.78ms\tremaining: 0us\n",
      "0:\tlearn: 0.0288778\ttotal: 441us\tremaining: 17.2ms\n",
      "39:\tlearn: 0.0088702\ttotal: 11.7ms\tremaining: 0us\n",
      "0:\tlearn: 0.0286095\ttotal: 889us\tremaining: 34.7ms\n",
      "39:\tlearn: 0.0080105\ttotal: 117ms\tremaining: 0us\n",
      "0:\tlearn: 0.0289617\ttotal: 988us\tremaining: 38.5ms\n",
      "39:\tlearn: 0.0081158\ttotal: 17.5ms\tremaining: 0us\n",
      "0:\tlearn: 0.0308821\ttotal: 472us\tremaining: 18.4ms\n",
      "39:\tlearn: 0.0091306\ttotal: 104ms\tremaining: 0us\n",
      "0:\tlearn: 0.0314873\ttotal: 974us\tremaining: 38ms\n",
      "39:\tlearn: 0.0094286\ttotal: 60.3ms\tremaining: 0us\n",
      "0:\tlearn: 0.0309991\ttotal: 1.64ms\tremaining: 64.1ms\n",
      "39:\tlearn: 0.0096610\ttotal: 138ms\tremaining: 0us\n",
      "0:\tlearn: 0.0304438\ttotal: 912us\tremaining: 35.6ms\n",
      "39:\tlearn: 0.0093038\ttotal: 65.2ms\tremaining: 0us\n",
      "0:\tlearn: 0.0308471\ttotal: 1.55ms\tremaining: 60.5ms\n",
      "39:\tlearn: 0.0095965\ttotal: 174ms\tremaining: 0us\n",
      "0:\tlearn: 0.0313427\ttotal: 1.33ms\tremaining: 51.9ms\n",
      "39:\tlearn: 0.0096474\ttotal: 115ms\tremaining: 0us\n"
     ]
    },
    {
     "name": "stderr",
     "output_type": "stream",
     "text": [
      "52it [07:25, 12.49s/it]"
     ]
    },
    {
     "name": "stdout",
     "output_type": "stream",
     "text": [
      "0:\tlearn: 0.0742692\ttotal: 1.08ms\tremaining: 42.2ms\n",
      "39:\tlearn: 0.0242880\ttotal: 25.8ms\tremaining: 0us\n",
      "0:\tlearn: 0.0734633\ttotal: 472us\tremaining: 18.4ms\n",
      "39:\tlearn: 0.0283087\ttotal: 147ms\tremaining: 0us\n",
      "0:\tlearn: 0.0705878\ttotal: 981us\tremaining: 38.3ms\n",
      "39:\tlearn: 0.0256443\ttotal: 28.9ms\tremaining: 0us\n",
      "0:\tlearn: 0.0732582\ttotal: 555us\tremaining: 21.6ms\n",
      "39:\tlearn: 0.0273587\ttotal: 77.7ms\tremaining: 0us\n",
      "0:\tlearn: 0.0730138\ttotal: 654us\tremaining: 25.5ms\n",
      "39:\tlearn: 0.0287373\ttotal: 158ms\tremaining: 0us\n",
      "0:\tlearn: 0.0716117\ttotal: 476us\tremaining: 18.6ms\n",
      "39:\tlearn: 0.0281098\ttotal: 28.3ms\tremaining: 0us\n",
      "0:\tlearn: 0.0703504\ttotal: 475us\tremaining: 18.6ms\n",
      "39:\tlearn: 0.0267059\ttotal: 24.3ms\tremaining: 0us\n",
      "0:\tlearn: 0.0713385\ttotal: 469us\tremaining: 18.3ms\n",
      "39:\tlearn: 0.0316603\ttotal: 51ms\tremaining: 0us\n",
      "0:\tlearn: 0.0715274\ttotal: 452us\tremaining: 17.7ms\n",
      "39:\tlearn: 0.0366490\ttotal: 42.8ms\tremaining: 0us\n",
      "0:\tlearn: 0.0711271\ttotal: 959us\tremaining: 37.4ms\n",
      "39:\tlearn: 0.0325791\ttotal: 162ms\tremaining: 0us\n",
      "0:\tlearn: 0.0713873\ttotal: 811us\tremaining: 31.6ms\n",
      "39:\tlearn: 0.0352355\ttotal: 26ms\tremaining: 0us\n",
      "0:\tlearn: 0.0708370\ttotal: 1.41ms\tremaining: 55.2ms\n",
      "39:\tlearn: 0.0326938\ttotal: 42.4ms\tremaining: 0us\n",
      "0:\tlearn: 0.0727692\ttotal: 1.68ms\tremaining: 65.4ms\n",
      "39:\tlearn: 0.0333225\ttotal: 78.8ms\tremaining: 0us\n"
     ]
    },
    {
     "name": "stderr",
     "output_type": "stream",
     "text": [
      "53it [07:37, 12.17s/it]"
     ]
    },
    {
     "name": "stdout",
     "output_type": "stream",
     "text": [
      "0:\tlearn: 0.1017093\ttotal: 685us\tremaining: 26.7ms\n",
      "39:\tlearn: 0.0524389\ttotal: 32.1ms\tremaining: 0us\n",
      "0:\tlearn: 0.1001018\ttotal: 1.16ms\tremaining: 45.1ms\n",
      "39:\tlearn: 0.0536886\ttotal: 120ms\tremaining: 0us\n",
      "0:\tlearn: 0.1219307\ttotal: 676us\tremaining: 26.4ms\n",
      "39:\tlearn: 0.0678828\ttotal: 26.3ms\tremaining: 0us\n",
      "0:\tlearn: 0.1219097\ttotal: 1.15ms\tremaining: 44.7ms\n",
      "39:\tlearn: 0.0751839\ttotal: 195ms\tremaining: 0us\n",
      "0:\tlearn: 0.1193419\ttotal: 913us\tremaining: 35.6ms\n",
      "39:\tlearn: 0.0734691\ttotal: 156ms\tremaining: 0us\n",
      "0:\tlearn: 0.1206582\ttotal: 466us\tremaining: 18.2ms\n",
      "39:\tlearn: 0.0735974\ttotal: 192ms\tremaining: 0us\n",
      "0:\tlearn: 0.1180888\ttotal: 467us\tremaining: 18.2ms\n",
      "39:\tlearn: 0.0738479\ttotal: 54.1ms\tremaining: 0us\n",
      "0:\tlearn: 0.1169540\ttotal: 436us\tremaining: 17ms\n",
      "39:\tlearn: 0.0663700\ttotal: 113ms\tremaining: 0us\n",
      "0:\tlearn: 0.1207848\ttotal: 575us\tremaining: 22.5ms\n",
      "39:\tlearn: 0.0693224\ttotal: 76.4ms\tremaining: 0us\n",
      "0:\tlearn: 0.1188098\ttotal: 552us\tremaining: 21.6ms\n",
      "39:\tlearn: 0.0731721\ttotal: 17ms\tremaining: 0us\n",
      "0:\tlearn: 0.1178053\ttotal: 832us\tremaining: 32.5ms\n",
      "39:\tlearn: 0.0746048\ttotal: 15.7ms\tremaining: 0us\n",
      "0:\tlearn: 0.1165850\ttotal: 445us\tremaining: 17.4ms\n",
      "39:\tlearn: 0.0714585\ttotal: 42.3ms\tremaining: 0us\n",
      "0:\tlearn: 0.1166356\ttotal: 1.46ms\tremaining: 56.8ms\n",
      "39:\tlearn: 0.0732108\ttotal: 79.6ms\tremaining: 0us\n"
     ]
    },
    {
     "name": "stderr",
     "output_type": "stream",
     "text": [
      "54it [07:48, 11.86s/it]"
     ]
    },
    {
     "name": "stdout",
     "output_type": "stream",
     "text": [
      "0:\tlearn: 0.1470523\ttotal: 937us\tremaining: 36.6ms\n",
      "39:\tlearn: 0.0796747\ttotal: 22ms\tremaining: 0us\n",
      "0:\tlearn: 0.1434607\ttotal: 482us\tremaining: 18.8ms\n",
      "39:\tlearn: 0.0796192\ttotal: 171ms\tremaining: 0us\n",
      "0:\tlearn: 0.1451418\ttotal: 821us\tremaining: 32ms\n",
      "39:\tlearn: 0.0866287\ttotal: 114ms\tremaining: 0us\n",
      "0:\tlearn: 0.1461321\ttotal: 1.4ms\tremaining: 54.7ms\n",
      "39:\tlearn: 0.0872689\ttotal: 137ms\tremaining: 0us\n",
      "0:\tlearn: 0.1683977\ttotal: 528us\tremaining: 20.6ms\n",
      "39:\tlearn: 0.1032386\ttotal: 61.2ms\tremaining: 0us\n",
      "0:\tlearn: 0.1652062\ttotal: 598us\tremaining: 23.3ms\n",
      "39:\tlearn: 0.1098925\ttotal: 28.9ms\tremaining: 0us\n",
      "0:\tlearn: 0.1627021\ttotal: 444us\tremaining: 17.3ms\n",
      "39:\tlearn: 0.1069546\ttotal: 10.2ms\tremaining: 0us\n",
      "0:\tlearn: 0.1593100\ttotal: 522us\tremaining: 20.4ms\n",
      "39:\tlearn: 0.1009098\ttotal: 14.8ms\tremaining: 0us\n",
      "0:\tlearn: 0.1569146\ttotal: 549us\tremaining: 21.4ms\n",
      "39:\tlearn: 0.0985042\ttotal: 9.2ms\tremaining: 0us\n",
      "0:\tlearn: 0.1567066\ttotal: 401us\tremaining: 15.7ms\n",
      "39:\tlearn: 0.1047125\ttotal: 18ms\tremaining: 0us\n",
      "0:\tlearn: 0.1597133\ttotal: 518us\tremaining: 20.2ms\n",
      "39:\tlearn: 0.1120820\ttotal: 14.9ms\tremaining: 0us\n",
      "0:\tlearn: 0.1621008\ttotal: 593us\tremaining: 23.1ms\n",
      "39:\tlearn: 0.0984685\ttotal: 8.91ms\tremaining: 0us\n",
      "0:\tlearn: 0.1659538\ttotal: 612us\tremaining: 23.9ms\n",
      "39:\tlearn: 0.1128700\ttotal: 14.7ms\tremaining: 0us\n"
     ]
    },
    {
     "name": "stderr",
     "output_type": "stream",
     "text": [
      "55it [07:59, 11.65s/it]"
     ]
    },
    {
     "name": "stdout",
     "output_type": "stream",
     "text": [
      "0:\tlearn: 0.0638070\ttotal: 489us\tremaining: 19.1ms\n",
      "39:\tlearn: 0.0192842\ttotal: 15.2ms\tremaining: 0us\n",
      "0:\tlearn: 0.0633170\ttotal: 464us\tremaining: 18.1ms\n",
      "39:\tlearn: 0.0225135\ttotal: 8.15ms\tremaining: 0us\n",
      "0:\tlearn: 0.0627158\ttotal: 548us\tremaining: 21.4ms\n",
      "39:\tlearn: 0.0230291\ttotal: 9.2ms\tremaining: 0us\n",
      "0:\tlearn: 0.0616293\ttotal: 556us\tremaining: 21.7ms\n",
      "39:\tlearn: 0.0243057\ttotal: 13.1ms\tremaining: 0us\n",
      "0:\tlearn: 0.1166745\ttotal: 584us\tremaining: 22.8ms\n",
      "39:\tlearn: 0.0571949\ttotal: 10.1ms\tremaining: 0us\n",
      "0:\tlearn: 0.1160325\ttotal: 516us\tremaining: 20.1ms\n",
      "39:\tlearn: 0.0554009\ttotal: 16.3ms\tremaining: 0us\n",
      "0:\tlearn: 0.1142390\ttotal: 495us\tremaining: 19.3ms\n",
      "39:\tlearn: 0.0558224\ttotal: 21.8ms\tremaining: 0us\n",
      "0:\tlearn: 0.1159095\ttotal: 532us\tremaining: 20.8ms\n",
      "39:\tlearn: 0.0538343\ttotal: 15.6ms\tremaining: 0us\n",
      "0:\tlearn: 0.1143590\ttotal: 516us\tremaining: 20.1ms\n",
      "39:\tlearn: 0.0552872\ttotal: 9.12ms\tremaining: 0us\n",
      "0:\tlearn: 0.1137028\ttotal: 546us\tremaining: 21.3ms\n",
      "39:\tlearn: 0.0544099\ttotal: 20.6ms\tremaining: 0us\n",
      "0:\tlearn: 0.1120142\ttotal: 582us\tremaining: 22.7ms\n",
      "39:\tlearn: 0.0540310\ttotal: 14.8ms\tremaining: 0us\n",
      "0:\tlearn: 0.1117488\ttotal: 581us\tremaining: 22.7ms\n",
      "39:\tlearn: 0.0572490\ttotal: 9.13ms\tremaining: 0us\n",
      "0:\tlearn: 0.1119711\ttotal: 627us\tremaining: 24.5ms\n",
      "39:\tlearn: 0.0572267\ttotal: 9.01ms\tremaining: 0us\n"
     ]
    },
    {
     "name": "stderr",
     "output_type": "stream",
     "text": [
      "62it [08:10,  7.97s/it]"
     ]
    },
    {
     "name": "stdout",
     "output_type": "stream",
     "text": [
      "0:\tlearn: 0.0541035\ttotal: 441us\tremaining: 17.2ms\n",
      "39:\tlearn: 0.0214144\ttotal: 13.7ms\tremaining: 0us\n",
      "0:\tlearn: 0.0531500\ttotal: 447us\tremaining: 17.5ms\n",
      "39:\tlearn: 0.0195897\ttotal: 8.78ms\tremaining: 0us\n",
      "0:\tlearn: 0.0545939\ttotal: 465us\tremaining: 18.2ms\n",
      "39:\tlearn: 0.0201868\ttotal: 8.99ms\tremaining: 0us\n",
      "0:\tlearn: 0.0564757\ttotal: 469us\tremaining: 18.3ms\n",
      "39:\tlearn: 0.0202537\ttotal: 46.6ms\tremaining: 0us\n",
      "0:\tlearn: 0.0560342\ttotal: 482us\tremaining: 18.8ms\n",
      "39:\tlearn: 0.0205862\ttotal: 9.9ms\tremaining: 0us\n",
      "0:\tlearn: 0.0558138\ttotal: 488us\tremaining: 19.1ms\n",
      "39:\tlearn: 0.0216193\ttotal: 14.5ms\tremaining: 0us\n",
      "0:\tlearn: 0.0654091\ttotal: 477us\tremaining: 18.6ms\n",
      "39:\tlearn: 0.0272108\ttotal: 8.71ms\tremaining: 0us\n",
      "0:\tlearn: 0.0639850\ttotal: 495us\tremaining: 19.3ms\n",
      "39:\tlearn: 0.0277857\ttotal: 8.79ms\tremaining: 0us\n",
      "0:\tlearn: 0.0644438\ttotal: 504us\tremaining: 19.7ms\n",
      "39:\tlearn: 0.0266145\ttotal: 8.64ms\tremaining: 0us\n",
      "0:\tlearn: 0.0643413\ttotal: 588us\tremaining: 23ms\n",
      "39:\tlearn: 0.0270588\ttotal: 9.15ms\tremaining: 0us\n",
      "0:\tlearn: 0.0639705\ttotal: 557us\tremaining: 21.8ms\n",
      "39:\tlearn: 0.0271423\ttotal: 15ms\tremaining: 0us\n",
      "0:\tlearn: 0.0624102\ttotal: 561us\tremaining: 21.9ms\n",
      "39:\tlearn: 0.0277358\ttotal: 9.05ms\tremaining: 0us\n",
      "0:\tlearn: 0.0622778\ttotal: 636us\tremaining: 24.8ms\n",
      "39:\tlearn: 0.0293607\ttotal: 9.05ms\tremaining: 0us\n"
     ]
    },
    {
     "name": "stderr",
     "output_type": "stream",
     "text": [
      "65it [08:20,  6.62s/it]"
     ]
    },
    {
     "name": "stdout",
     "output_type": "stream",
     "text": [
      "0:\tlearn: 0.0406098\ttotal: 423us\tremaining: 16.5ms\n",
      "39:\tlearn: 0.0110203\ttotal: 24.5ms\tremaining: 0us\n",
      "0:\tlearn: 0.0416860\ttotal: 463us\tremaining: 18.1ms\n",
      "39:\tlearn: 0.0105613\ttotal: 9.32ms\tremaining: 0us\n",
      "0:\tlearn: 0.0417223\ttotal: 437us\tremaining: 17.1ms\n",
      "39:\tlearn: 0.0106846\ttotal: 10.2ms\tremaining: 0us\n",
      "0:\tlearn: 0.0412379\ttotal: 487us\tremaining: 19ms\n",
      "39:\tlearn: 0.0111960\ttotal: 14.8ms\tremaining: 0us\n",
      "0:\tlearn: 0.0408479\ttotal: 482us\tremaining: 18.8ms\n",
      "39:\tlearn: 0.0122661\ttotal: 45.4ms\tremaining: 0us\n",
      "0:\tlearn: 0.0397971\ttotal: 510us\tremaining: 19.9ms\n",
      "39:\tlearn: 0.0125058\ttotal: 14.6ms\tremaining: 0us\n",
      "0:\tlearn: 0.0446682\ttotal: 475us\tremaining: 18.5ms\n",
      "39:\tlearn: 0.0163170\ttotal: 56.6ms\tremaining: 0us\n",
      "0:\tlearn: 0.0503816\ttotal: 469us\tremaining: 18.3ms\n",
      "39:\tlearn: 0.0191598\ttotal: 9.87ms\tremaining: 0us\n",
      "0:\tlearn: 0.0501294\ttotal: 466us\tremaining: 18.2ms\n",
      "39:\tlearn: 0.0173593\ttotal: 22ms\tremaining: 0us\n",
      "0:\tlearn: 0.0492452\ttotal: 578us\tremaining: 22.6ms\n",
      "39:\tlearn: 0.0187600\ttotal: 11ms\tremaining: 0us\n",
      "0:\tlearn: 0.0487337\ttotal: 589us\tremaining: 23ms\n",
      "39:\tlearn: 0.0176655\ttotal: 62.1ms\tremaining: 0us\n",
      "0:\tlearn: 0.0481906\ttotal: 581us\tremaining: 22.7ms\n",
      "39:\tlearn: 0.0198909\ttotal: 68.9ms\tremaining: 0us\n",
      "0:\tlearn: 0.0492866\ttotal: 579us\tremaining: 22.6ms\n",
      "39:\tlearn: 0.0191424\ttotal: 9.59ms\tremaining: 0us\n"
     ]
    },
    {
     "name": "stderr",
     "output_type": "stream",
     "text": [
      "66it [08:31,  7.85s/it]"
     ]
    },
    {
     "name": "stdout",
     "output_type": "stream",
     "text": [
      "0:\tlearn: 0.0532083\ttotal: 434us\tremaining: 16.9ms\n",
      "39:\tlearn: 0.0251511\ttotal: 16.3ms\tremaining: 0us\n",
      "0:\tlearn: 0.0532443\ttotal: 492us\tremaining: 19.2ms\n",
      "39:\tlearn: 0.0283063\ttotal: 27.5ms\tremaining: 0us\n",
      "0:\tlearn: 0.0528368\ttotal: 478us\tremaining: 18.7ms\n",
      "39:\tlearn: 0.0256877\ttotal: 36.4ms\tremaining: 0us\n",
      "0:\tlearn: 0.0614535\ttotal: 587us\tremaining: 22.9ms\n",
      "39:\tlearn: 0.0347459\ttotal: 14.9ms\tremaining: 0us\n",
      "0:\tlearn: 0.0662088\ttotal: 499us\tremaining: 19.5ms\n",
      "39:\tlearn: 0.0322904\ttotal: 9.02ms\tremaining: 0us\n",
      "0:\tlearn: 0.0670978\ttotal: 543us\tremaining: 21.2ms\n",
      "39:\tlearn: 0.0356853\ttotal: 9.1ms\tremaining: 0us\n",
      "0:\tlearn: 0.0667872\ttotal: 502us\tremaining: 19.6ms\n",
      "39:\tlearn: 0.0338562\ttotal: 30.8ms\tremaining: 0us\n",
      "0:\tlearn: 0.0657363\ttotal: 522us\tremaining: 20.4ms\n",
      "39:\tlearn: 0.0328440\ttotal: 9.34ms\tremaining: 0us\n",
      "0:\tlearn: 0.0639988\ttotal: 445us\tremaining: 17.4ms\n",
      "39:\tlearn: 0.0342469\ttotal: 37.8ms\tremaining: 0us\n",
      "0:\tlearn: 0.0648812\ttotal: 1.31ms\tremaining: 51.3ms\n",
      "39:\tlearn: 0.0352558\ttotal: 10.2ms\tremaining: 0us\n",
      "0:\tlearn: 0.0644944\ttotal: 556us\tremaining: 21.7ms\n",
      "39:\tlearn: 0.0358737\ttotal: 14.8ms\tremaining: 0us\n",
      "0:\tlearn: 0.0656339\ttotal: 543us\tremaining: 21.2ms\n",
      "39:\tlearn: 0.0392167\ttotal: 53.4ms\tremaining: 0us\n",
      "0:\tlearn: 0.0671881\ttotal: 492us\tremaining: 19.2ms\n",
      "39:\tlearn: 0.0343197\ttotal: 9.59ms\tremaining: 0us\n"
     ]
    },
    {
     "name": "stderr",
     "output_type": "stream",
     "text": [
      "67it [08:42,  8.95s/it]"
     ]
    },
    {
     "name": "stdout",
     "output_type": "stream",
     "text": [
      "0:\tlearn: 0.0286952\ttotal: 434us\tremaining: 16.9ms\n",
      "39:\tlearn: 0.0097565\ttotal: 7.89ms\tremaining: 0us\n",
      "0:\tlearn: 0.0290774\ttotal: 524us\tremaining: 20.4ms\n",
      "39:\tlearn: 0.0108143\ttotal: 9.61ms\tremaining: 0us\n",
      "0:\tlearn: 0.0297664\ttotal: 465us\tremaining: 18.2ms\n",
      "39:\tlearn: 0.0102716\ttotal: 49.3ms\tremaining: 0us\n",
      "0:\tlearn: 0.0299530\ttotal: 523us\tremaining: 20.4ms\n",
      "39:\tlearn: 0.0104368\ttotal: 10.6ms\tremaining: 0us\n",
      "0:\tlearn: 0.0395334\ttotal: 584us\tremaining: 22.8ms\n",
      "39:\tlearn: 0.0192864\ttotal: 40.2ms\tremaining: 0us\n",
      "0:\tlearn: 0.0394190\ttotal: 581us\tremaining: 22.7ms\n",
      "39:\tlearn: 0.0191464\ttotal: 9.01ms\tremaining: 0us\n",
      "0:\tlearn: 0.0387431\ttotal: 583us\tremaining: 22.8ms\n",
      "39:\tlearn: 0.0177214\ttotal: 47.1ms\tremaining: 0us\n",
      "0:\tlearn: 0.0396135\ttotal: 521us\tremaining: 20.3ms\n",
      "39:\tlearn: 0.0178031\ttotal: 10ms\tremaining: 0us\n",
      "0:\tlearn: 0.0394853\ttotal: 495us\tremaining: 19.3ms\n",
      "39:\tlearn: 0.0183557\ttotal: 18ms\tremaining: 0us\n",
      "0:\tlearn: 0.0386067\ttotal: 527us\tremaining: 20.6ms\n",
      "39:\tlearn: 0.0178487\ttotal: 11.4ms\tremaining: 0us\n",
      "0:\tlearn: 0.0386993\ttotal: 593us\tremaining: 23.2ms\n",
      "39:\tlearn: 0.0181060\ttotal: 35.3ms\tremaining: 0us\n",
      "0:\tlearn: 0.0381955\ttotal: 584us\tremaining: 22.8ms\n",
      "39:\tlearn: 0.0176177\ttotal: 29.3ms\tremaining: 0us\n",
      "0:\tlearn: 0.0390130\ttotal: 664us\tremaining: 25.9ms\n",
      "39:\tlearn: 0.0173387\ttotal: 15.9ms\tremaining: 0us\n"
     ]
    },
    {
     "name": "stderr",
     "output_type": "stream",
     "text": [
      "68it [08:53,  9.44s/it]"
     ]
    },
    {
     "name": "stdout",
     "output_type": "stream",
     "text": [
      "0:\tlearn: 0.0270266\ttotal: 463us\tremaining: 18.1ms\n",
      "39:\tlearn: 0.0073700\ttotal: 8.52ms\tremaining: 0us\n",
      "0:\tlearn: 0.0278606\ttotal: 477us\tremaining: 18.6ms\n",
      "39:\tlearn: 0.0084284\ttotal: 14.3ms\tremaining: 0us\n",
      "0:\tlearn: 0.0276997\ttotal: 444us\tremaining: 17.3ms\n",
      "39:\tlearn: 0.0080661\ttotal: 16.9ms\tremaining: 0us\n",
      "0:\tlearn: 0.0276760\ttotal: 487us\tremaining: 19ms\n",
      "39:\tlearn: 0.0080202\ttotal: 14.6ms\tremaining: 0us\n",
      "0:\tlearn: 0.0380390\ttotal: 455us\tremaining: 17.7ms\n",
      "39:\tlearn: 0.0162618\ttotal: 11.1ms\tremaining: 0us\n",
      "0:\tlearn: 0.0378916\ttotal: 489us\tremaining: 19.1ms\n",
      "39:\tlearn: 0.0152780\ttotal: 14ms\tremaining: 0us\n",
      "0:\tlearn: 0.0381619\ttotal: 492us\tremaining: 19.2ms\n",
      "39:\tlearn: 0.0150039\ttotal: 8.72ms\tremaining: 0us\n",
      "0:\tlearn: 0.0376842\ttotal: 535us\tremaining: 20.9ms\n",
      "39:\tlearn: 0.0139274\ttotal: 16.6ms\tremaining: 0us\n",
      "0:\tlearn: 0.0385832\ttotal: 525us\tremaining: 20.5ms\n",
      "39:\tlearn: 0.0153993\ttotal: 22.4ms\tremaining: 0us\n",
      "0:\tlearn: 0.0385070\ttotal: 530us\tremaining: 20.7ms\n",
      "39:\tlearn: 0.0134372\ttotal: 9.75ms\tremaining: 0us\n",
      "0:\tlearn: 0.0375943\ttotal: 736us\tremaining: 28.7ms\n",
      "39:\tlearn: 0.0143948\ttotal: 10.4ms\tremaining: 0us\n",
      "0:\tlearn: 0.0377381\ttotal: 539us\tremaining: 21.1ms\n",
      "39:\tlearn: 0.0146578\ttotal: 16ms\tremaining: 0us\n",
      "0:\tlearn: 0.0380015\ttotal: 623us\tremaining: 24.3ms\n",
      "39:\tlearn: 0.0146363\ttotal: 12.2ms\tremaining: 0us\n"
     ]
    },
    {
     "name": "stderr",
     "output_type": "stream",
     "text": [
      "69it [09:03,  9.76s/it]"
     ]
    },
    {
     "name": "stdout",
     "output_type": "stream",
     "text": [
      "0:\tlearn: 0.0334369\ttotal: 462us\tremaining: 18ms\n",
      "39:\tlearn: 0.0103999\ttotal: 9.1ms\tremaining: 0us\n",
      "0:\tlearn: 0.0336787\ttotal: 480us\tremaining: 18.7ms\n",
      "39:\tlearn: 0.0109236\ttotal: 8.83ms\tremaining: 0us\n",
      "0:\tlearn: 0.0337226\ttotal: 547us\tremaining: 21.4ms\n",
      "39:\tlearn: 0.0112625\ttotal: 15ms\tremaining: 0us\n",
      "0:\tlearn: 0.0329876\ttotal: 554us\tremaining: 21.6ms\n",
      "39:\tlearn: 0.0109655\ttotal: 29.2ms\tremaining: 0us\n",
      "0:\tlearn: 0.0401716\ttotal: 511us\tremaining: 19.9ms\n",
      "39:\tlearn: 0.0185029\ttotal: 10ms\tremaining: 0us\n",
      "0:\tlearn: 0.0400294\ttotal: 456us\tremaining: 17.8ms\n",
      "39:\tlearn: 0.0218432\ttotal: 11.5ms\tremaining: 0us\n",
      "0:\tlearn: 0.0410773\ttotal: 541us\tremaining: 21.1ms\n",
      "39:\tlearn: 0.0185106\ttotal: 10.2ms\tremaining: 0us\n",
      "0:\tlearn: 0.0427842\ttotal: 479us\tremaining: 18.7ms\n",
      "39:\tlearn: 0.0172132\ttotal: 10.2ms\tremaining: 0us\n",
      "0:\tlearn: 0.0434199\ttotal: 470us\tremaining: 18.3ms\n",
      "39:\tlearn: 0.0184221\ttotal: 49.8ms\tremaining: 0us\n",
      "0:\tlearn: 0.0426822\ttotal: 576us\tremaining: 22.5ms\n",
      "39:\tlearn: 0.0187652\ttotal: 13ms\tremaining: 0us\n",
      "0:\tlearn: 0.0421615\ttotal: 1.31ms\tremaining: 51.2ms\n",
      "39:\tlearn: 0.0183110\ttotal: 10.2ms\tremaining: 0us\n",
      "0:\tlearn: 0.0420008\ttotal: 1.27ms\tremaining: 49.7ms\n",
      "39:\tlearn: 0.0185142\ttotal: 11.4ms\tremaining: 0us\n",
      "0:\tlearn: 0.0436300\ttotal: 590us\tremaining: 23ms\n",
      "39:\tlearn: 0.0196796\ttotal: 19ms\tremaining: 0us\n"
     ]
    },
    {
     "name": "stderr",
     "output_type": "stream",
     "text": [
      "70it [09:14,  9.84s/it]"
     ]
    },
    {
     "name": "stdout",
     "output_type": "stream",
     "text": [
      "0:\tlearn: 0.0629487\ttotal: 466us\tremaining: 18.2ms\n",
      "39:\tlearn: 0.0248403\ttotal: 9.38ms\tremaining: 0us\n",
      "0:\tlearn: 0.0615536\ttotal: 513us\tremaining: 20ms\n",
      "39:\tlearn: 0.0258330\ttotal: 8.53ms\tremaining: 0us\n",
      "0:\tlearn: 0.0606423\ttotal: 486us\tremaining: 19ms\n",
      "39:\tlearn: 0.0236679\ttotal: 37.1ms\tremaining: 0us\n",
      "0:\tlearn: 0.0601014\ttotal: 500us\tremaining: 19.5ms\n",
      "39:\tlearn: 0.0237879\ttotal: 9.62ms\tremaining: 0us\n",
      "0:\tlearn: 0.0589748\ttotal: 503us\tremaining: 19.6ms\n",
      "39:\tlearn: 0.0257673\ttotal: 26.7ms\tremaining: 0us\n",
      "0:\tlearn: 0.0641154\ttotal: 481us\tremaining: 18.8ms\n",
      "39:\tlearn: 0.0267333\ttotal: 14.2ms\tremaining: 0us\n",
      "0:\tlearn: 0.0640758\ttotal: 532us\tremaining: 20.8ms\n",
      "39:\tlearn: 0.0305837\ttotal: 14.9ms\tremaining: 0us\n",
      "0:\tlearn: 0.0662610\ttotal: 496us\tremaining: 19.4ms\n",
      "39:\tlearn: 0.0306634\ttotal: 21.4ms\tremaining: 0us\n",
      "0:\tlearn: 0.0674240\ttotal: 489us\tremaining: 19.1ms\n",
      "39:\tlearn: 0.0296051\ttotal: 10.1ms\tremaining: 0us\n",
      "0:\tlearn: 0.0664629\ttotal: 554us\tremaining: 21.6ms\n",
      "39:\tlearn: 0.0303488\ttotal: 14.2ms\tremaining: 0us\n",
      "0:\tlearn: 0.0659972\ttotal: 527us\tremaining: 20.6ms\n",
      "39:\tlearn: 0.0306251\ttotal: 15.4ms\tremaining: 0us\n",
      "0:\tlearn: 0.0674093\ttotal: 546us\tremaining: 21.3ms\n",
      "39:\tlearn: 0.0293544\ttotal: 34.8ms\tremaining: 0us\n",
      "0:\tlearn: 0.0662308\ttotal: 487us\tremaining: 19ms\n",
      "39:\tlearn: 0.0307533\ttotal: 10.1ms\tremaining: 0us\n"
     ]
    },
    {
     "name": "stderr",
     "output_type": "stream",
     "text": [
      "71it [09:24, 10.00s/it]"
     ]
    },
    {
     "name": "stdout",
     "output_type": "stream",
     "text": [
      "0:\tlearn: 0.0753015\ttotal: 476us\tremaining: 18.6ms\n",
      "39:\tlearn: 0.0318980\ttotal: 32.5ms\tremaining: 0us\n",
      "0:\tlearn: 0.0775027\ttotal: 456us\tremaining: 17.8ms\n",
      "39:\tlearn: 0.0425563\ttotal: 23.7ms\tremaining: 0us\n",
      "0:\tlearn: 0.0756771\ttotal: 430us\tremaining: 16.8ms\n",
      "39:\tlearn: 0.0441307\ttotal: 26.5ms\tremaining: 0us\n",
      "0:\tlearn: 0.0745010\ttotal: 464us\tremaining: 18.1ms\n",
      "39:\tlearn: 0.0472755\ttotal: 107ms\tremaining: 0us\n",
      "0:\tlearn: 0.0939199\ttotal: 1.02ms\tremaining: 39.7ms\n",
      "39:\tlearn: 0.0514182\ttotal: 27.3ms\tremaining: 0us\n",
      "0:\tlearn: 0.0924769\ttotal: 478us\tremaining: 18.7ms\n",
      "39:\tlearn: 0.0491637\ttotal: 137ms\tremaining: 0us\n",
      "0:\tlearn: 0.0917327\ttotal: 445us\tremaining: 17.4ms\n",
      "39:\tlearn: 0.0533324\ttotal: 166ms\tremaining: 0us\n",
      "0:\tlearn: 0.0906085\ttotal: 1.09ms\tremaining: 42.7ms\n",
      "39:\tlearn: 0.0475714\ttotal: 26ms\tremaining: 0us\n",
      "0:\tlearn: 0.0971359\ttotal: 418us\tremaining: 16.3ms\n",
      "39:\tlearn: 0.0574680\ttotal: 19.1ms\tremaining: 0us\n",
      "0:\tlearn: 0.1050194\ttotal: 1.82ms\tremaining: 71ms\n",
      "39:\tlearn: 0.0606917\ttotal: 174ms\tremaining: 0us\n",
      "0:\tlearn: 0.1044418\ttotal: 2.23ms\tremaining: 87.1ms\n",
      "39:\tlearn: 0.0631661\ttotal: 200ms\tremaining: 0us\n",
      "0:\tlearn: 0.1049736\ttotal: 465us\tremaining: 18.1ms\n",
      "39:\tlearn: 0.0620370\ttotal: 124ms\tremaining: 0us\n",
      "0:\tlearn: 0.1034929\ttotal: 526us\tremaining: 20.5ms\n",
      "39:\tlearn: 0.0711349\ttotal: 111ms\tremaining: 0us\n"
     ]
    },
    {
     "name": "stderr",
     "output_type": "stream",
     "text": [
      "72it [09:35, 10.36s/it]"
     ]
    },
    {
     "name": "stdout",
     "output_type": "stream",
     "text": [
      "0:\tlearn: 0.0571818\ttotal: 680us\tremaining: 26.6ms\n",
      "39:\tlearn: 0.0193110\ttotal: 18.5ms\tremaining: 0us\n",
      "0:\tlearn: 0.0560785\ttotal: 433us\tremaining: 16.9ms\n",
      "39:\tlearn: 0.0237455\ttotal: 17.5ms\tremaining: 0us\n",
      "0:\tlearn: 0.0549086\ttotal: 703us\tremaining: 27.5ms\n",
      "39:\tlearn: 0.0230293\ttotal: 22.4ms\tremaining: 0us\n",
      "0:\tlearn: 0.0568572\ttotal: 555us\tremaining: 21.6ms\n",
      "39:\tlearn: 0.0234934\ttotal: 39.6ms\tremaining: 0us\n",
      "0:\tlearn: 0.0566474\ttotal: 756us\tremaining: 29.5ms\n",
      "39:\tlearn: 0.0230833\ttotal: 25ms\tremaining: 0us\n",
      "0:\tlearn: 0.0556606\ttotal: 648us\tremaining: 25.3ms\n",
      "39:\tlearn: 0.0209039\ttotal: 21.6ms\tremaining: 0us\n",
      "0:\tlearn: 0.0560815\ttotal: 506us\tremaining: 19.8ms\n",
      "39:\tlearn: 0.0205837\ttotal: 107ms\tremaining: 0us\n",
      "0:\tlearn: 0.0608706\ttotal: 530us\tremaining: 20.7ms\n",
      "39:\tlearn: 0.0234327\ttotal: 9.61ms\tremaining: 0us\n",
      "0:\tlearn: 0.0594738\ttotal: 501us\tremaining: 19.6ms\n",
      "39:\tlearn: 0.0225745\ttotal: 12.9ms\tremaining: 0us\n",
      "0:\tlearn: 0.0593216\ttotal: 565us\tremaining: 22.1ms\n",
      "39:\tlearn: 0.0221123\ttotal: 9.34ms\tremaining: 0us\n",
      "0:\tlearn: 0.0589500\ttotal: 543us\tremaining: 21.2ms\n",
      "39:\tlearn: 0.0247541\ttotal: 8.94ms\tremaining: 0us\n",
      "0:\tlearn: 0.0592988\ttotal: 493us\tremaining: 19.2ms\n",
      "39:\tlearn: 0.0231382\ttotal: 9.25ms\tremaining: 0us\n",
      "0:\tlearn: 0.0572320\ttotal: 562us\tremaining: 21.9ms\n",
      "39:\tlearn: 0.0247085\ttotal: 16.4ms\tremaining: 0us\n"
     ]
    },
    {
     "name": "stderr",
     "output_type": "stream",
     "text": [
      "73it [09:45, 10.34s/it]"
     ]
    },
    {
     "name": "stdout",
     "output_type": "stream",
     "text": [
      "0:\tlearn: 0.0541393\ttotal: 1.7ms\tremaining: 66.2ms\n",
      "39:\tlearn: 0.0151432\ttotal: 17ms\tremaining: 0us\n",
      "0:\tlearn: 0.0533645\ttotal: 492us\tremaining: 19.2ms\n",
      "39:\tlearn: 0.0175567\ttotal: 14.4ms\tremaining: 0us\n",
      "0:\tlearn: 0.0526306\ttotal: 520us\tremaining: 20.3ms\n",
      "39:\tlearn: 0.0176796\ttotal: 30.9ms\tremaining: 0us\n",
      "0:\tlearn: 0.0516829\ttotal: 493us\tremaining: 19.2ms\n",
      "39:\tlearn: 0.0171896\ttotal: 25.7ms\tremaining: 0us\n",
      "0:\tlearn: 0.0523102\ttotal: 695us\tremaining: 27.1ms\n",
      "39:\tlearn: 0.0164179\ttotal: 19.2ms\tremaining: 0us\n",
      "0:\tlearn: 0.0509945\ttotal: 525us\tremaining: 20.5ms\n",
      "39:\tlearn: 0.0187046\ttotal: 10.7ms\tremaining: 0us\n",
      "0:\tlearn: 0.0535437\ttotal: 536us\tremaining: 20.9ms\n",
      "39:\tlearn: 0.0162900\ttotal: 20.1ms\tremaining: 0us\n",
      "0:\tlearn: 0.0581747\ttotal: 1.36ms\tremaining: 53.1ms\n",
      "39:\tlearn: 0.0203710\ttotal: 22.4ms\tremaining: 0us\n",
      "0:\tlearn: 0.0585260\ttotal: 481us\tremaining: 18.8ms\n",
      "39:\tlearn: 0.0189427\ttotal: 37.9ms\tremaining: 0us\n",
      "0:\tlearn: 0.0577032\ttotal: 451us\tremaining: 17.6ms\n",
      "39:\tlearn: 0.0207433\ttotal: 9.27ms\tremaining: 0us\n",
      "0:\tlearn: 0.0572174\ttotal: 532us\tremaining: 20.8ms\n",
      "39:\tlearn: 0.0204077\ttotal: 8.64ms\tremaining: 0us\n",
      "0:\tlearn: 0.0568733\ttotal: 557us\tremaining: 21.7ms\n",
      "39:\tlearn: 0.0197043\ttotal: 9.65ms\tremaining: 0us\n",
      "0:\tlearn: 0.0557889\ttotal: 582us\tremaining: 22.7ms\n",
      "39:\tlearn: 0.0208187\ttotal: 8.92ms\tremaining: 0us\n"
     ]
    },
    {
     "name": "stderr",
     "output_type": "stream",
     "text": [
      "74it [09:56, 10.32s/it]"
     ]
    },
    {
     "name": "stdout",
     "output_type": "stream",
     "text": [
      "0:\tlearn: 0.1349764\ttotal: 446us\tremaining: 17.4ms\n",
      "39:\tlearn: 0.0630541\ttotal: 7.73ms\tremaining: 0us\n",
      "0:\tlearn: 0.1321691\ttotal: 523us\tremaining: 20.4ms\n",
      "39:\tlearn: 0.0734738\ttotal: 40.2ms\tremaining: 0us\n",
      "0:\tlearn: 0.1315411\ttotal: 485us\tremaining: 18.9ms\n",
      "39:\tlearn: 0.0659347\ttotal: 8.57ms\tremaining: 0us\n",
      "0:\tlearn: 0.1352184\ttotal: 539us\tremaining: 21.1ms\n",
      "39:\tlearn: 0.0710083\ttotal: 8.18ms\tremaining: 0us\n",
      "0:\tlearn: 0.1344981\ttotal: 512us\tremaining: 20ms\n",
      "39:\tlearn: 0.0694804\ttotal: 27ms\tremaining: 0us\n",
      "0:\tlearn: 0.1333369\ttotal: 508us\tremaining: 19.8ms\n",
      "39:\tlearn: 0.0705262\ttotal: 19.9ms\tremaining: 0us\n",
      "0:\tlearn: 0.1327600\ttotal: 560us\tremaining: 21.9ms\n",
      "39:\tlearn: 0.0684710\ttotal: 11.3ms\tremaining: 0us\n",
      "0:\tlearn: 0.1291314\ttotal: 513us\tremaining: 20ms\n",
      "39:\tlearn: 0.0676220\ttotal: 32.3ms\tremaining: 0us\n",
      "0:\tlearn: 0.1278057\ttotal: 502us\tremaining: 19.6ms\n",
      "39:\tlearn: 0.0652025\ttotal: 10.3ms\tremaining: 0us\n",
      "0:\tlearn: 0.1380831\ttotal: 451us\tremaining: 17.6ms\n",
      "39:\tlearn: 0.0819137\ttotal: 8.9ms\tremaining: 0us\n",
      "0:\tlearn: 0.1400699\ttotal: 409us\tremaining: 16ms\n",
      "39:\tlearn: 0.0843305\ttotal: 8.74ms\tremaining: 0us\n",
      "0:\tlearn: 0.1364953\ttotal: 713us\tremaining: 27.8ms\n",
      "39:\tlearn: 0.0883222\ttotal: 16.9ms\tremaining: 0us\n",
      "0:\tlearn: 0.1376874\ttotal: 501us\tremaining: 19.5ms\n",
      "39:\tlearn: 0.0795572\ttotal: 8.6ms\tremaining: 0us\n"
     ]
    },
    {
     "name": "stderr",
     "output_type": "stream",
     "text": [
      "75it [10:09, 11.16s/it]"
     ]
    },
    {
     "name": "stdout",
     "output_type": "stream",
     "text": [
      "0:\tlearn: 0.1659084\ttotal: 386us\tremaining: 15.1ms\n",
      "39:\tlearn: 0.0601030\ttotal: 7.32ms\tremaining: 0us\n",
      "0:\tlearn: 0.2301708\ttotal: 848us\tremaining: 33.1ms\n",
      "39:\tlearn: 0.0719284\ttotal: 32.3ms\tremaining: 0us\n",
      "0:\tlearn: 0.2507577\ttotal: 449us\tremaining: 17.5ms\n",
      "39:\tlearn: 0.0615831\ttotal: 39.5ms\tremaining: 0us\n",
      "0:\tlearn: 0.2537611\ttotal: 418us\tremaining: 16.3ms\n",
      "39:\tlearn: 0.0599748\ttotal: 10.7ms\tremaining: 0us\n",
      "0:\tlearn: 0.2377804\ttotal: 441us\tremaining: 17.2ms\n",
      "39:\tlearn: 0.0568163\ttotal: 24.1ms\tremaining: 0us\n",
      "0:\tlearn: 0.2209007\ttotal: 462us\tremaining: 18ms\n",
      "39:\tlearn: 0.0510384\ttotal: 39.9ms\tremaining: 0us\n",
      "0:\tlearn: 0.2343166\ttotal: 443us\tremaining: 17.3ms\n",
      "39:\tlearn: 0.0546813\ttotal: 13.6ms\tremaining: 0us\n",
      "0:\tlearn: 0.2228387\ttotal: 464us\tremaining: 18.1ms\n",
      "39:\tlearn: 0.0558766\ttotal: 13ms\tremaining: 0us\n",
      "0:\tlearn: 0.2185458\ttotal: 436us\tremaining: 17ms\n",
      "39:\tlearn: 0.0623771\ttotal: 13.4ms\tremaining: 0us\n",
      "0:\tlearn: 0.2098274\ttotal: 456us\tremaining: 17.8ms\n",
      "39:\tlearn: 0.0587633\ttotal: 7.37ms\tremaining: 0us\n",
      "0:\tlearn: 0.2059481\ttotal: 453us\tremaining: 17.7ms\n",
      "39:\tlearn: 0.0668998\ttotal: 13.8ms\tremaining: 0us\n",
      "0:\tlearn: 0.1997353\ttotal: 416us\tremaining: 16.2ms\n",
      "39:\tlearn: 0.0577980\ttotal: 13.5ms\tremaining: 0us\n"
     ]
    },
    {
     "name": "stderr",
     "output_type": "stream",
     "text": [
      "76it [10:19, 11.00s/it]"
     ]
    },
    {
     "name": "stdout",
     "output_type": "stream",
     "text": [
      "0:\tlearn: 0.0266344\ttotal: 466us\tremaining: 18.2ms\n",
      "39:\tlearn: 0.0070835\ttotal: 19.6ms\tremaining: 0us\n",
      "0:\tlearn: 0.0288107\ttotal: 487us\tremaining: 19ms\n",
      "39:\tlearn: 0.0079227\ttotal: 11.4ms\tremaining: 0us\n",
      "0:\tlearn: 0.0287885\ttotal: 485us\tremaining: 18.9ms\n",
      "39:\tlearn: 0.0086219\ttotal: 60.7ms\tremaining: 0us\n",
      "0:\tlearn: 0.0281388\ttotal: 532us\tremaining: 20.8ms\n",
      "39:\tlearn: 0.0080916\ttotal: 14.1ms\tremaining: 0us\n",
      "0:\tlearn: 0.0276035\ttotal: 936us\tremaining: 36.5ms\n",
      "39:\tlearn: 0.0087438\ttotal: 9.64ms\tremaining: 0us\n",
      "0:\tlearn: 0.0272636\ttotal: 490us\tremaining: 19.1ms\n",
      "39:\tlearn: 0.0082721\ttotal: 8.7ms\tremaining: 0us\n",
      "0:\tlearn: 0.0299768\ttotal: 494us\tremaining: 19.3ms\n",
      "39:\tlearn: 0.0111919\ttotal: 9.02ms\tremaining: 0us\n",
      "0:\tlearn: 0.0326440\ttotal: 482us\tremaining: 18.8ms\n",
      "39:\tlearn: 0.0115780\ttotal: 41.1ms\tremaining: 0us\n",
      "0:\tlearn: 0.0327033\ttotal: 549us\tremaining: 21.4ms\n",
      "39:\tlearn: 0.0109131\ttotal: 9.64ms\tremaining: 0us\n",
      "0:\tlearn: 0.0324503\ttotal: 609us\tremaining: 23.8ms\n",
      "39:\tlearn: 0.0109624\ttotal: 34.9ms\tremaining: 0us\n",
      "0:\tlearn: 0.0319906\ttotal: 547us\tremaining: 21.4ms\n",
      "39:\tlearn: 0.0110389\ttotal: 36.4ms\tremaining: 0us\n",
      "0:\tlearn: 0.0313941\ttotal: 548us\tremaining: 21.4ms\n",
      "39:\tlearn: 0.0112488\ttotal: 9.44ms\tremaining: 0us\n",
      "0:\tlearn: 0.0318116\ttotal: 632us\tremaining: 24.7ms\n",
      "39:\tlearn: 0.0111907\ttotal: 10.4ms\tremaining: 0us\n"
     ]
    },
    {
     "name": "stderr",
     "output_type": "stream",
     "text": [
      "77it [10:30, 10.90s/it]"
     ]
    },
    {
     "name": "stdout",
     "output_type": "stream",
     "text": [
      "0:\tlearn: 0.0383963\ttotal: 488us\tremaining: 19ms\n",
      "39:\tlearn: 0.0133848\ttotal: 11.3ms\tremaining: 0us\n",
      "0:\tlearn: 0.0392969\ttotal: 485us\tremaining: 18.9ms\n",
      "39:\tlearn: 0.0144425\ttotal: 28.1ms\tremaining: 0us\n",
      "0:\tlearn: 0.0404024\ttotal: 464us\tremaining: 18.1ms\n",
      "39:\tlearn: 0.0155230\ttotal: 9.46ms\tremaining: 0us\n",
      "0:\tlearn: 0.0398218\ttotal: 469us\tremaining: 18.3ms\n",
      "39:\tlearn: 0.0156302\ttotal: 13.9ms\tremaining: 0us\n",
      "0:\tlearn: 0.0411475\ttotal: 477us\tremaining: 18.6ms\n",
      "39:\tlearn: 0.0160524\ttotal: 12.1ms\tremaining: 0us\n",
      "0:\tlearn: 0.0403873\ttotal: 526us\tremaining: 20.5ms\n",
      "39:\tlearn: 0.0174104\ttotal: 13ms\tremaining: 0us\n",
      "0:\tlearn: 0.0415781\ttotal: 1.17ms\tremaining: 45.6ms\n",
      "39:\tlearn: 0.0167852\ttotal: 30.8ms\tremaining: 0us\n",
      "0:\tlearn: 0.0429354\ttotal: 493us\tremaining: 19.2ms\n",
      "39:\tlearn: 0.0164872\ttotal: 14.4ms\tremaining: 0us\n",
      "0:\tlearn: 0.0438865\ttotal: 518us\tremaining: 20.2ms\n",
      "39:\tlearn: 0.0185159\ttotal: 9.11ms\tremaining: 0us\n",
      "0:\tlearn: 0.0436658\ttotal: 585us\tremaining: 22.8ms\n",
      "39:\tlearn: 0.0179177\ttotal: 8.99ms\tremaining: 0us\n",
      "0:\tlearn: 0.0427036\ttotal: 587us\tremaining: 22.9ms\n",
      "39:\tlearn: 0.0173913\ttotal: 14.7ms\tremaining: 0us\n",
      "0:\tlearn: 0.0451464\ttotal: 1.02ms\tremaining: 40ms\n",
      "39:\tlearn: 0.0188658\ttotal: 10.2ms\tremaining: 0us\n",
      "0:\tlearn: 0.0462802\ttotal: 514us\tremaining: 20.1ms\n",
      "39:\tlearn: 0.0191095\ttotal: 15.6ms\tremaining: 0us\n"
     ]
    },
    {
     "name": "stderr",
     "output_type": "stream",
     "text": [
      "78it [10:40, 10.67s/it]"
     ]
    },
    {
     "name": "stdout",
     "output_type": "stream",
     "text": [
      "0:\tlearn: 0.0941998\ttotal: 512us\tremaining: 20ms\n",
      "39:\tlearn: 0.0371718\ttotal: 23ms\tremaining: 0us\n",
      "0:\tlearn: 0.0939700\ttotal: 458us\tremaining: 17.9ms\n",
      "39:\tlearn: 0.0451594\ttotal: 8.61ms\tremaining: 0us\n",
      "0:\tlearn: 0.0935352\ttotal: 470us\tremaining: 18.3ms\n",
      "39:\tlearn: 0.0402327\ttotal: 8.75ms\tremaining: 0us\n",
      "0:\tlearn: 0.0933941\ttotal: 448us\tremaining: 17.5ms\n",
      "39:\tlearn: 0.0405871\ttotal: 19.4ms\tremaining: 0us\n",
      "0:\tlearn: 0.0928757\ttotal: 439us\tremaining: 17.1ms\n",
      "39:\tlearn: 0.0417055\ttotal: 10.4ms\tremaining: 0us\n",
      "0:\tlearn: 0.0938182\ttotal: 506us\tremaining: 19.7ms\n",
      "39:\tlearn: 0.0387097\ttotal: 9.72ms\tremaining: 0us\n",
      "0:\tlearn: 0.0936548\ttotal: 445us\tremaining: 17.4ms\n",
      "39:\tlearn: 0.0448350\ttotal: 9.47ms\tremaining: 0us\n",
      "0:\tlearn: 0.0928147\ttotal: 499us\tremaining: 19.5ms\n",
      "39:\tlearn: 0.0399140\ttotal: 8.72ms\tremaining: 0us\n",
      "0:\tlearn: 0.0930277\ttotal: 462us\tremaining: 18ms\n",
      "39:\tlearn: 0.0439822\ttotal: 9.63ms\tremaining: 0us\n",
      "0:\tlearn: 0.0947070\ttotal: 489us\tremaining: 19.1ms\n",
      "39:\tlearn: 0.0451338\ttotal: 29.1ms\tremaining: 0us\n",
      "0:\tlearn: 0.0949808\ttotal: 590us\tremaining: 23ms\n",
      "39:\tlearn: 0.0442445\ttotal: 8.89ms\tremaining: 0us\n",
      "0:\tlearn: 0.0938287\ttotal: 469us\tremaining: 18.3ms\n",
      "39:\tlearn: 0.0468655\ttotal: 8.98ms\tremaining: 0us\n",
      "0:\tlearn: 0.0940141\ttotal: 496us\tremaining: 19.4ms\n",
      "39:\tlearn: 0.0474095\ttotal: 8.87ms\tremaining: 0us\n"
     ]
    },
    {
     "name": "stderr",
     "output_type": "stream",
     "text": [
      "79it [10:50, 10.41s/it]"
     ]
    },
    {
     "name": "stdout",
     "output_type": "stream",
     "text": [
      "0:\tlearn: 0.0331734\ttotal: 468us\tremaining: 18.3ms\n",
      "39:\tlearn: 0.0118921\ttotal: 13.6ms\tremaining: 0us\n",
      "0:\tlearn: 0.0319830\ttotal: 633us\tremaining: 24.7ms\n",
      "39:\tlearn: 0.0115506\ttotal: 17ms\tremaining: 0us\n",
      "0:\tlearn: 0.0314597\ttotal: 491us\tremaining: 19.2ms\n",
      "39:\tlearn: 0.0115680\ttotal: 23.3ms\tremaining: 0us\n",
      "0:\tlearn: 0.0329960\ttotal: 547us\tremaining: 21.4ms\n",
      "39:\tlearn: 0.0132111\ttotal: 31.1ms\tremaining: 0us\n",
      "0:\tlearn: 0.0757908\ttotal: 490us\tremaining: 19.1ms\n",
      "39:\tlearn: 0.0363667\ttotal: 14.2ms\tremaining: 0us\n",
      "0:\tlearn: 0.0759805\ttotal: 611us\tremaining: 23.8ms\n",
      "39:\tlearn: 0.0334026\ttotal: 15.8ms\tremaining: 0us\n",
      "0:\tlearn: 0.0752670\ttotal: 488us\tremaining: 19.1ms\n",
      "39:\tlearn: 0.0358065\ttotal: 14ms\tremaining: 0us\n",
      "0:\tlearn: 0.0756006\ttotal: 446us\tremaining: 17.4ms\n",
      "39:\tlearn: 0.0332234\ttotal: 52.8ms\tremaining: 0us\n",
      "0:\tlearn: 0.0756065\ttotal: 480us\tremaining: 18.8ms\n",
      "39:\tlearn: 0.0360252\ttotal: 24.1ms\tremaining: 0us\n",
      "0:\tlearn: 0.0746753\ttotal: 471us\tremaining: 18.4ms\n",
      "39:\tlearn: 0.0334518\ttotal: 9.31ms\tremaining: 0us\n",
      "0:\tlearn: 0.0739518\ttotal: 551us\tremaining: 21.5ms\n",
      "39:\tlearn: 0.0313476\ttotal: 37.4ms\tremaining: 0us\n",
      "0:\tlearn: 0.0725208\ttotal: 448us\tremaining: 17.5ms\n",
      "39:\tlearn: 0.0325792\ttotal: 9.19ms\tremaining: 0us\n",
      "0:\tlearn: 0.0714635\ttotal: 535us\tremaining: 20.9ms\n",
      "39:\tlearn: 0.0368858\ttotal: 10.2ms\tremaining: 0us\n"
     ]
    },
    {
     "name": "stderr",
     "output_type": "stream",
     "text": [
      "81it [11:01,  8.91s/it]"
     ]
    },
    {
     "name": "stdout",
     "output_type": "stream",
     "text": [
      "0:\tlearn: 0.1293204\ttotal: 471us\tremaining: 18.4ms\n",
      "39:\tlearn: 0.0520357\ttotal: 13.5ms\tremaining: 0us\n",
      "0:\tlearn: 0.1272489\ttotal: 595us\tremaining: 23.2ms\n",
      "39:\tlearn: 0.0505455\ttotal: 10.1ms\tremaining: 0us\n",
      "0:\tlearn: 0.1247642\ttotal: 574us\tremaining: 22.4ms\n",
      "39:\tlearn: 0.0558157\ttotal: 29.7ms\tremaining: 0us\n",
      "0:\tlearn: 0.1213931\ttotal: 677us\tremaining: 26.4ms\n",
      "39:\tlearn: 0.0555277\ttotal: 10.7ms\tremaining: 0us\n",
      "0:\tlearn: 0.1192851\ttotal: 577us\tremaining: 22.5ms\n",
      "39:\tlearn: 0.0585854\ttotal: 10.5ms\tremaining: 0us\n",
      "0:\tlearn: 0.1185387\ttotal: 504us\tremaining: 19.7ms\n",
      "39:\tlearn: 0.0608764\ttotal: 8.27ms\tremaining: 0us\n",
      "0:\tlearn: 0.1262506\ttotal: 497us\tremaining: 19.4ms\n",
      "39:\tlearn: 0.0740844\ttotal: 40ms\tremaining: 0us\n",
      "0:\tlearn: 0.1231092\ttotal: 538us\tremaining: 21ms\n",
      "39:\tlearn: 0.0722842\ttotal: 13.9ms\tremaining: 0us\n",
      "0:\tlearn: 0.1215399\ttotal: 491us\tremaining: 19.2ms\n",
      "39:\tlearn: 0.0852741\ttotal: 13.7ms\tremaining: 0us\n",
      "0:\tlearn: 0.1199958\ttotal: 498us\tremaining: 19.5ms\n",
      "39:\tlearn: 0.0795171\ttotal: 12.9ms\tremaining: 0us\n",
      "0:\tlearn: 0.1167986\ttotal: 503us\tremaining: 19.6ms\n",
      "39:\tlearn: 0.0786429\ttotal: 8.85ms\tremaining: 0us\n",
      "0:\tlearn: 0.1158137\ttotal: 526us\tremaining: 20.5ms\n",
      "39:\tlearn: 0.0746121\ttotal: 12.3ms\tremaining: 0us\n",
      "0:\tlearn: 0.1146209\ttotal: 468us\tremaining: 18.3ms\n",
      "39:\tlearn: 0.0671580\ttotal: 14ms\tremaining: 0us\n"
     ]
    },
    {
     "name": "stderr",
     "output_type": "stream",
     "text": [
      "82it [11:11,  9.30s/it]"
     ]
    },
    {
     "name": "stdout",
     "output_type": "stream",
     "text": [
      "0:\tlearn: 0.1279889\ttotal: 437us\tremaining: 17.1ms\n",
      "39:\tlearn: 0.0611494\ttotal: 41.7ms\tremaining: 0us\n",
      "0:\tlearn: 0.1273786\ttotal: 532us\tremaining: 20.8ms\n",
      "39:\tlearn: 0.0667080\ttotal: 8.82ms\tremaining: 0us\n",
      "0:\tlearn: 0.1247248\ttotal: 481us\tremaining: 18.8ms\n",
      "39:\tlearn: 0.0631565\ttotal: 8.33ms\tremaining: 0us\n",
      "0:\tlearn: 0.1227348\ttotal: 569us\tremaining: 22.2ms\n",
      "39:\tlearn: 0.0634122\ttotal: 20.5ms\tremaining: 0us\n",
      "0:\tlearn: 0.1193282\ttotal: 501us\tremaining: 19.6ms\n",
      "39:\tlearn: 0.0606176\ttotal: 14.3ms\tremaining: 0us\n",
      "0:\tlearn: 0.1173202\ttotal: 511us\tremaining: 19.9ms\n",
      "39:\tlearn: 0.0606777\ttotal: 27.1ms\tremaining: 0us\n",
      "0:\tlearn: 0.1168485\ttotal: 601us\tremaining: 23.5ms\n",
      "39:\tlearn: 0.0658449\ttotal: 36.3ms\tremaining: 0us\n",
      "0:\tlearn: 0.1154735\ttotal: 501us\tremaining: 19.5ms\n",
      "39:\tlearn: 0.0623570\ttotal: 19.5ms\tremaining: 0us\n",
      "0:\tlearn: 0.1139412\ttotal: 520us\tremaining: 20.3ms\n",
      "39:\tlearn: 0.0636176\ttotal: 43ms\tremaining: 0us\n",
      "0:\tlearn: 0.1122823\ttotal: 707us\tremaining: 27.6ms\n",
      "39:\tlearn: 0.0591406\ttotal: 14.7ms\tremaining: 0us\n",
      "0:\tlearn: 0.1110248\ttotal: 455us\tremaining: 17.8ms\n",
      "39:\tlearn: 0.0606837\ttotal: 14.6ms\tremaining: 0us\n",
      "0:\tlearn: 0.1108635\ttotal: 556us\tremaining: 21.7ms\n",
      "39:\tlearn: 0.0612682\ttotal: 15.7ms\tremaining: 0us\n",
      "0:\tlearn: 0.1119175\ttotal: 1.03ms\tremaining: 40.1ms\n",
      "39:\tlearn: 0.0631357\ttotal: 15.6ms\tremaining: 0us\n"
     ]
    },
    {
     "name": "stderr",
     "output_type": "stream",
     "text": [
      "84it [11:22,  8.09s/it]"
     ]
    },
    {
     "name": "stdout",
     "output_type": "stream",
     "text": [
      "0:\tlearn: 0.0416578\ttotal: 451us\tremaining: 17.6ms\n",
      "39:\tlearn: 0.0122669\ttotal: 60.7ms\tremaining: 0us\n",
      "0:\tlearn: 0.0426552\ttotal: 525us\tremaining: 20.5ms\n",
      "39:\tlearn: 0.0131556\ttotal: 18.5ms\tremaining: 0us\n",
      "0:\tlearn: 0.0433083\ttotal: 463us\tremaining: 18.1ms\n",
      "39:\tlearn: 0.0147190\ttotal: 16.5ms\tremaining: 0us\n",
      "0:\tlearn: 0.0429981\ttotal: 450us\tremaining: 17.6ms\n",
      "39:\tlearn: 0.0151813\ttotal: 9.06ms\tremaining: 0us\n",
      "0:\tlearn: 0.0426223\ttotal: 484us\tremaining: 18.9ms\n",
      "39:\tlearn: 0.0144073\ttotal: 23.6ms\tremaining: 0us\n",
      "0:\tlearn: 0.0424517\ttotal: 478us\tremaining: 18.7ms\n",
      "39:\tlearn: 0.0157442\ttotal: 8.97ms\tremaining: 0us\n",
      "0:\tlearn: 0.0452533\ttotal: 500us\tremaining: 19.5ms\n",
      "39:\tlearn: 0.0174675\ttotal: 16ms\tremaining: 0us\n",
      "0:\tlearn: 0.0454104\ttotal: 1.2ms\tremaining: 46.8ms\n",
      "39:\tlearn: 0.0152723\ttotal: 10.3ms\tremaining: 0us\n",
      "0:\tlearn: 0.0454973\ttotal: 469us\tremaining: 18.3ms\n",
      "39:\tlearn: 0.0151657\ttotal: 10.7ms\tremaining: 0us\n",
      "0:\tlearn: 0.0451960\ttotal: 533us\tremaining: 20.8ms\n",
      "39:\tlearn: 0.0171361\ttotal: 9.23ms\tremaining: 0us\n",
      "0:\tlearn: 0.0441242\ttotal: 519us\tremaining: 20.3ms\n",
      "39:\tlearn: 0.0175482\ttotal: 8.94ms\tremaining: 0us\n",
      "0:\tlearn: 0.0447243\ttotal: 602us\tremaining: 23.5ms\n",
      "39:\tlearn: 0.0168661\ttotal: 10.8ms\tremaining: 0us\n",
      "0:\tlearn: 0.0434902\ttotal: 489us\tremaining: 19.1ms\n",
      "39:\tlearn: 0.0159624\ttotal: 12.5ms\tremaining: 0us\n"
     ]
    },
    {
     "name": "stderr",
     "output_type": "stream",
     "text": [
      "85it [11:33,  9.06s/it]"
     ]
    },
    {
     "name": "stdout",
     "output_type": "stream",
     "text": [
      "0:\tlearn: 0.1188954\ttotal: 453us\tremaining: 17.7ms\n",
      "39:\tlearn: 0.0472069\ttotal: 13.8ms\tremaining: 0us\n",
      "0:\tlearn: 0.1139405\ttotal: 495us\tremaining: 19.3ms\n",
      "39:\tlearn: 0.0539691\ttotal: 8.49ms\tremaining: 0us\n",
      "0:\tlearn: 0.1145575\ttotal: 423us\tremaining: 16.5ms\n",
      "39:\tlearn: 0.0616312\ttotal: 9ms\tremaining: 230us\n",
      "0:\tlearn: 0.1118456\ttotal: 631us\tremaining: 24.6ms\n",
      "39:\tlearn: 0.0566403\ttotal: 16.9ms\tremaining: 0us\n",
      "0:\tlearn: 0.1132066\ttotal: 514us\tremaining: 20.1ms\n",
      "39:\tlearn: 0.0531854\ttotal: 8.53ms\tremaining: 0us\n",
      "0:\tlearn: 0.1115724\ttotal: 457us\tremaining: 17.8ms\n",
      "39:\tlearn: 0.0584660\ttotal: 42.1ms\tremaining: 0us\n",
      "0:\tlearn: 0.1187044\ttotal: 513us\tremaining: 20ms\n",
      "39:\tlearn: 0.0672609\ttotal: 8.02ms\tremaining: 0us\n",
      "0:\tlearn: 0.1275370\ttotal: 517us\tremaining: 20.2ms\n",
      "39:\tlearn: 0.0665307\ttotal: 26.2ms\tremaining: 0us\n",
      "0:\tlearn: 0.1272629\ttotal: 474us\tremaining: 18.5ms\n",
      "39:\tlearn: 0.0632040\ttotal: 14ms\tremaining: 0us\n",
      "0:\tlearn: 0.1250530\ttotal: 443us\tremaining: 17.3ms\n",
      "39:\tlearn: 0.0654666\ttotal: 10.8ms\tremaining: 0us\n",
      "0:\tlearn: 0.1243502\ttotal: 454us\tremaining: 17.7ms\n",
      "39:\tlearn: 0.0584255\ttotal: 8.37ms\tremaining: 0us\n",
      "0:\tlearn: 0.1217752\ttotal: 431us\tremaining: 16.8ms\n",
      "39:\tlearn: 0.0717557\ttotal: 9.65ms\tremaining: 0us\n",
      "0:\tlearn: 0.1219531\ttotal: 506us\tremaining: 19.7ms\n",
      "39:\tlearn: 0.0639499\ttotal: 8.88ms\tremaining: 0us\n"
     ]
    },
    {
     "name": "stderr",
     "output_type": "stream",
     "text": [
      "86it [11:44,  9.70s/it]"
     ]
    },
    {
     "name": "stdout",
     "output_type": "stream",
     "text": [
      "0:\tlearn: 0.1154308\ttotal: 427us\tremaining: 16.7ms\n",
      "39:\tlearn: 0.0428925\ttotal: 54.9ms\tremaining: 0us\n",
      "0:\tlearn: 0.1163769\ttotal: 544us\tremaining: 21.2ms\n",
      "39:\tlearn: 0.0530059\ttotal: 10.2ms\tremaining: 0us\n",
      "0:\tlearn: 0.1120868\ttotal: 521us\tremaining: 20.4ms\n",
      "39:\tlearn: 0.0477413\ttotal: 10.2ms\tremaining: 0us\n",
      "0:\tlearn: 0.1283655\ttotal: 424us\tremaining: 16.6ms\n",
      "39:\tlearn: 0.0505473\ttotal: 8.29ms\tremaining: 0us\n",
      "0:\tlearn: 0.1277132\ttotal: 497us\tremaining: 19.4ms\n",
      "39:\tlearn: 0.0527047\ttotal: 9.38ms\tremaining: 0us\n",
      "0:\tlearn: 0.1268803\ttotal: 491us\tremaining: 19.2ms\n",
      "39:\tlearn: 0.0584796\ttotal: 9ms\tremaining: 0us\n",
      "0:\tlearn: 0.1233627\ttotal: 501us\tremaining: 19.6ms\n",
      "39:\tlearn: 0.0468595\ttotal: 8.83ms\tremaining: 0us\n",
      "0:\tlearn: 0.1200532\ttotal: 485us\tremaining: 18.9ms\n",
      "39:\tlearn: 0.0462597\ttotal: 36.1ms\tremaining: 0us\n",
      "0:\tlearn: 0.1187612\ttotal: 506us\tremaining: 19.7ms\n",
      "39:\tlearn: 0.0551452\ttotal: 9.26ms\tremaining: 0us\n",
      "0:\tlearn: 0.1178200\ttotal: 512us\tremaining: 20ms\n",
      "39:\tlearn: 0.0457531\ttotal: 14.3ms\tremaining: 0us\n",
      "0:\tlearn: 0.1179987\ttotal: 482us\tremaining: 18.8ms\n",
      "39:\tlearn: 0.0555797\ttotal: 14.1ms\tremaining: 0us\n",
      "0:\tlearn: 0.1179416\ttotal: 472us\tremaining: 18.4ms\n",
      "39:\tlearn: 0.0637904\ttotal: 9.41ms\tremaining: 0us\n",
      "0:\tlearn: 0.1157858\ttotal: 454us\tremaining: 17.7ms\n",
      "39:\tlearn: 0.0558603\ttotal: 13.9ms\tremaining: 0us\n"
     ]
    },
    {
     "name": "stderr",
     "output_type": "stream",
     "text": [
      "87it [11:54,  9.88s/it]"
     ]
    },
    {
     "name": "stdout",
     "output_type": "stream",
     "text": [
      "0:\tlearn: 0.1075641\ttotal: 969us\tremaining: 37.8ms\n",
      "39:\tlearn: 0.0414781\ttotal: 13.7ms\tremaining: 0us\n",
      "0:\tlearn: 0.1066186\ttotal: 523us\tremaining: 20.4ms\n",
      "39:\tlearn: 0.0468392\ttotal: 8.73ms\tremaining: 0us\n",
      "0:\tlearn: 0.1036972\ttotal: 492us\tremaining: 19.2ms\n",
      "39:\tlearn: 0.0434911\ttotal: 23.7ms\tremaining: 0us\n",
      "0:\tlearn: 0.1009133\ttotal: 457us\tremaining: 17.8ms\n",
      "39:\tlearn: 0.0493827\ttotal: 10ms\tremaining: 0us\n",
      "0:\tlearn: 0.1132090\ttotal: 527us\tremaining: 20.6ms\n",
      "39:\tlearn: 0.0596545\ttotal: 26.3ms\tremaining: 0us\n",
      "0:\tlearn: 0.1135629\ttotal: 579us\tremaining: 22.6ms\n",
      "39:\tlearn: 0.0636560\ttotal: 8.53ms\tremaining: 0us\n",
      "0:\tlearn: 0.1154787\ttotal: 568us\tremaining: 22.2ms\n",
      "39:\tlearn: 0.0701616\ttotal: 8.33ms\tremaining: 0us\n",
      "0:\tlearn: 0.1122398\ttotal: 464us\tremaining: 18.1ms\n",
      "39:\tlearn: 0.0661367\ttotal: 14.4ms\tremaining: 0us\n",
      "0:\tlearn: 0.1111332\ttotal: 512us\tremaining: 20ms\n",
      "39:\tlearn: 0.0644830\ttotal: 9.89ms\tremaining: 0us\n",
      "0:\tlearn: 0.1133833\ttotal: 541us\tremaining: 21.1ms\n",
      "39:\tlearn: 0.0659101\ttotal: 15.9ms\tremaining: 0us\n",
      "0:\tlearn: 0.1131385\ttotal: 548us\tremaining: 21.4ms\n",
      "39:\tlearn: 0.0614499\ttotal: 11.2ms\tremaining: 0us\n",
      "0:\tlearn: 0.1114773\ttotal: 454us\tremaining: 17.7ms\n",
      "39:\tlearn: 0.0652699\ttotal: 14ms\tremaining: 0us\n",
      "0:\tlearn: 0.1093622\ttotal: 454us\tremaining: 17.7ms\n",
      "39:\tlearn: 0.0607653\ttotal: 16.3ms\tremaining: 0us\n"
     ]
    },
    {
     "name": "stderr",
     "output_type": "stream",
     "text": [
      "88it [12:04,  9.95s/it]"
     ]
    },
    {
     "name": "stdout",
     "output_type": "stream",
     "text": [
      "0:\tlearn: 0.0414066\ttotal: 420us\tremaining: 16.4ms\n",
      "39:\tlearn: 0.0163751\ttotal: 7.94ms\tremaining: 0us\n",
      "0:\tlearn: 0.0412498\ttotal: 451us\tremaining: 17.6ms\n",
      "39:\tlearn: 0.0185958\ttotal: 9.12ms\tremaining: 0us\n",
      "0:\tlearn: 0.0411169\ttotal: 458us\tremaining: 17.9ms\n",
      "39:\tlearn: 0.0185658\ttotal: 14.4ms\tremaining: 0us\n",
      "0:\tlearn: 0.0423853\ttotal: 502us\tremaining: 19.6ms\n",
      "39:\tlearn: 0.0179744\ttotal: 8.66ms\tremaining: 0us\n",
      "0:\tlearn: 0.0450311\ttotal: 883us\tremaining: 34.4ms\n",
      "39:\tlearn: 0.0183263\ttotal: 27.9ms\tremaining: 0us\n",
      "0:\tlearn: 0.0451460\ttotal: 1.3ms\tremaining: 50.8ms\n",
      "39:\tlearn: 0.0191859\ttotal: 27.4ms\tremaining: 0us\n",
      "0:\tlearn: 0.0479936\ttotal: 465us\tremaining: 18.1ms\n",
      "39:\tlearn: 0.0196955\ttotal: 12ms\tremaining: 0us\n",
      "0:\tlearn: 0.0486394\ttotal: 491us\tremaining: 19.2ms\n",
      "39:\tlearn: 0.0165837\ttotal: 31.5ms\tremaining: 0us\n",
      "0:\tlearn: 0.0503296\ttotal: 560us\tremaining: 21.8ms\n",
      "39:\tlearn: 0.0173759\ttotal: 43ms\tremaining: 0us\n",
      "0:\tlearn: 0.0496773\ttotal: 569us\tremaining: 22.2ms\n",
      "39:\tlearn: 0.0178605\ttotal: 9.32ms\tremaining: 0us\n",
      "0:\tlearn: 0.0491736\ttotal: 481us\tremaining: 18.8ms\n",
      "39:\tlearn: 0.0177880\ttotal: 9.22ms\tremaining: 0us\n",
      "0:\tlearn: 0.0485992\ttotal: 527us\tremaining: 20.6ms\n",
      "39:\tlearn: 0.0192633\ttotal: 10.2ms\tremaining: 0us\n",
      "0:\tlearn: 0.0487533\ttotal: 563us\tremaining: 22ms\n",
      "39:\tlearn: 0.0184737\ttotal: 9.18ms\tremaining: 0us\n"
     ]
    },
    {
     "name": "stderr",
     "output_type": "stream",
     "text": [
      "89it [12:15, 10.27s/it]"
     ]
    },
    {
     "name": "stdout",
     "output_type": "stream",
     "text": [
      "0:\tlearn: 0.1044105\ttotal: 429us\tremaining: 16.8ms\n",
      "39:\tlearn: 0.0446949\ttotal: 8.4ms\tremaining: 0us\n",
      "0:\tlearn: 0.1036135\ttotal: 574us\tremaining: 22.4ms\n",
      "39:\tlearn: 0.0503770\ttotal: 28.2ms\tremaining: 0us\n",
      "0:\tlearn: 0.1039751\ttotal: 446us\tremaining: 17.4ms\n",
      "39:\tlearn: 0.0513810\ttotal: 16ms\tremaining: 0us\n",
      "0:\tlearn: 0.1023404\ttotal: 529us\tremaining: 20.7ms\n",
      "39:\tlearn: 0.0522933\ttotal: 8.65ms\tremaining: 0us\n",
      "0:\tlearn: 0.1112435\ttotal: 491us\tremaining: 19.2ms\n",
      "39:\tlearn: 0.0569282\ttotal: 9.12ms\tremaining: 0us\n",
      "0:\tlearn: 0.1083541\ttotal: 440us\tremaining: 17.2ms\n",
      "39:\tlearn: 0.0625423\ttotal: 10.7ms\tremaining: 0us\n",
      "0:\tlearn: 0.1078464\ttotal: 487us\tremaining: 19ms\n",
      "39:\tlearn: 0.0577881\ttotal: 8.9ms\tremaining: 0us\n",
      "0:\tlearn: 0.1059753\ttotal: 955us\tremaining: 37.3ms\n",
      "39:\tlearn: 0.0573960\ttotal: 58ms\tremaining: 0us\n",
      "0:\tlearn: 0.1040300\ttotal: 451us\tremaining: 17.6ms\n",
      "39:\tlearn: 0.0564688\ttotal: 11ms\tremaining: 0us\n",
      "0:\tlearn: 0.1048499\ttotal: 548us\tremaining: 21.4ms\n",
      "39:\tlearn: 0.0601157\ttotal: 9.93ms\tremaining: 0us\n",
      "0:\tlearn: 0.1038647\ttotal: 507us\tremaining: 19.8ms\n",
      "39:\tlearn: 0.0577900\ttotal: 19ms\tremaining: 0us\n",
      "0:\tlearn: 0.1042338\ttotal: 601us\tremaining: 23.4ms\n",
      "39:\tlearn: 0.0601497\ttotal: 8.98ms\tremaining: 0us\n",
      "0:\tlearn: 0.1043262\ttotal: 540us\tremaining: 21.1ms\n",
      "39:\tlearn: 0.0593270\ttotal: 9.61ms\tremaining: 0us\n"
     ]
    },
    {
     "name": "stderr",
     "output_type": "stream",
     "text": [
      "90it [12:26, 10.40s/it]"
     ]
    },
    {
     "name": "stdout",
     "output_type": "stream",
     "text": [
      "0:\tlearn: 0.1508697\ttotal: 651us\tremaining: 25.4ms\n",
      "39:\tlearn: 0.0510590\ttotal: 7.6ms\tremaining: 0us\n",
      "0:\tlearn: 0.1453026\ttotal: 449us\tremaining: 17.5ms\n",
      "39:\tlearn: 0.0657672\ttotal: 47.6ms\tremaining: 0us\n",
      "0:\tlearn: 0.1409406\ttotal: 455us\tremaining: 17.7ms\n",
      "39:\tlearn: 0.0567692\ttotal: 15.6ms\tremaining: 0us\n",
      "0:\tlearn: 0.1399253\ttotal: 681us\tremaining: 26.6ms\n",
      "39:\tlearn: 0.0610346\ttotal: 11.3ms\tremaining: 0us\n",
      "0:\tlearn: 0.1361966\ttotal: 436us\tremaining: 17ms\n",
      "39:\tlearn: 0.0580738\ttotal: 8.7ms\tremaining: 0us\n",
      "0:\tlearn: 0.1329098\ttotal: 474us\tremaining: 18.5ms\n",
      "39:\tlearn: 0.0480372\ttotal: 14.1ms\tremaining: 0us\n",
      "0:\tlearn: 0.1550181\ttotal: 556us\tremaining: 21.7ms\n",
      "39:\tlearn: 0.0573911\ttotal: 8.55ms\tremaining: 0us\n",
      "0:\tlearn: 0.1515247\ttotal: 509us\tremaining: 19.9ms\n",
      "39:\tlearn: 0.0594977\ttotal: 33.2ms\tremaining: 0us\n",
      "0:\tlearn: 0.1457334\ttotal: 487us\tremaining: 19ms\n",
      "39:\tlearn: 0.0590272\ttotal: 25.2ms\tremaining: 0us\n",
      "0:\tlearn: 0.1472055\ttotal: 455us\tremaining: 17.8ms\n",
      "39:\tlearn: 0.0605918\ttotal: 22.7ms\tremaining: 0us\n",
      "0:\tlearn: 0.1482930\ttotal: 487us\tremaining: 19ms\n",
      "39:\tlearn: 0.0617255\ttotal: 9.95ms\tremaining: 0us\n",
      "0:\tlearn: 0.1476452\ttotal: 787us\tremaining: 30.7ms\n",
      "39:\tlearn: 0.0610411\ttotal: 14.1ms\tremaining: 0us\n",
      "0:\tlearn: 0.1461861\ttotal: 459us\tremaining: 17.9ms\n",
      "39:\tlearn: 0.0607079\ttotal: 37.1ms\tremaining: 0us\n"
     ]
    },
    {
     "name": "stderr",
     "output_type": "stream",
     "text": [
      "91it [12:37, 10.52s/it]"
     ]
    },
    {
     "name": "stdout",
     "output_type": "stream",
     "text": [
      "0:\tlearn: 0.0490650\ttotal: 440us\tremaining: 17.2ms\n",
      "39:\tlearn: 0.0146569\ttotal: 8.11ms\tremaining: 0us\n",
      "0:\tlearn: 0.0478109\ttotal: 479us\tremaining: 18.7ms\n",
      "39:\tlearn: 0.0149804\ttotal: 21.6ms\tremaining: 0us\n",
      "0:\tlearn: 0.0482335\ttotal: 471us\tremaining: 18.4ms\n",
      "39:\tlearn: 0.0168280\ttotal: 9.06ms\tremaining: 0us\n",
      "0:\tlearn: 0.0471839\ttotal: 456us\tremaining: 17.8ms\n",
      "39:\tlearn: 0.0163637\ttotal: 23ms\tremaining: 0us\n",
      "0:\tlearn: 0.0462227\ttotal: 515us\tremaining: 20.1ms\n",
      "39:\tlearn: 0.0157816\ttotal: 9.48ms\tremaining: 0us\n",
      "0:\tlearn: 0.0458385\ttotal: 510us\tremaining: 19.9ms\n",
      "39:\tlearn: 0.0163180\ttotal: 12.2ms\tremaining: 0us\n",
      "0:\tlearn: 0.0490811\ttotal: 478us\tremaining: 18.6ms\n",
      "39:\tlearn: 0.0217314\ttotal: 18.9ms\tremaining: 0us\n",
      "0:\tlearn: 0.0506235\ttotal: 473us\tremaining: 18.5ms\n",
      "39:\tlearn: 0.0192092\ttotal: 9.41ms\tremaining: 0us\n",
      "0:\tlearn: 0.0514229\ttotal: 514us\tremaining: 20.1ms\n",
      "39:\tlearn: 0.0199287\ttotal: 11.7ms\tremaining: 0us\n",
      "0:\tlearn: 0.0527502\ttotal: 567us\tremaining: 22.1ms\n",
      "39:\tlearn: 0.0193248\ttotal: 14.6ms\tremaining: 0us\n",
      "0:\tlearn: 0.0520376\ttotal: 612us\tremaining: 23.9ms\n",
      "39:\tlearn: 0.0195642\ttotal: 38.5ms\tremaining: 0us\n",
      "0:\tlearn: 0.0521442\ttotal: 543us\tremaining: 21.2ms\n",
      "39:\tlearn: 0.0197377\ttotal: 28.6ms\tremaining: 0us\n",
      "0:\tlearn: 0.0520001\ttotal: 568us\tremaining: 22.2ms\n",
      "39:\tlearn: 0.0188661\ttotal: 9.36ms\tremaining: 0us\n"
     ]
    },
    {
     "name": "stderr",
     "output_type": "stream",
     "text": [
      "92it [12:48, 10.52s/it]"
     ]
    },
    {
     "name": "stdout",
     "output_type": "stream",
     "text": [
      "0:\tlearn: 0.1305694\ttotal: 425us\tremaining: 16.6ms\n",
      "39:\tlearn: 0.0521537\ttotal: 8.18ms\tremaining: 0us\n",
      "0:\tlearn: 0.1308591\ttotal: 469us\tremaining: 18.3ms\n",
      "39:\tlearn: 0.0548548\ttotal: 8.31ms\tremaining: 0us\n",
      "0:\tlearn: 0.1455353\ttotal: 710us\tremaining: 27.7ms\n",
      "39:\tlearn: 0.0700434\ttotal: 14.1ms\tremaining: 0us\n",
      "0:\tlearn: 0.1454027\ttotal: 526us\tremaining: 20.5ms\n",
      "39:\tlearn: 0.0819817\ttotal: 15.8ms\tremaining: 0us\n",
      "0:\tlearn: 0.1462849\ttotal: 579us\tremaining: 22.6ms\n",
      "39:\tlearn: 0.0757451\ttotal: 15.4ms\tremaining: 0us\n",
      "0:\tlearn: 0.1424319\ttotal: 438us\tremaining: 17.1ms\n",
      "39:\tlearn: 0.0670331\ttotal: 9.17ms\tremaining: 0us\n",
      "0:\tlearn: 0.1363885\ttotal: 455us\tremaining: 17.7ms\n",
      "39:\tlearn: 0.0596995\ttotal: 9.62ms\tremaining: 0us\n",
      "0:\tlearn: 0.1440981\ttotal: 464us\tremaining: 18.1ms\n",
      "39:\tlearn: 0.0730012\ttotal: 24.2ms\tremaining: 0us\n",
      "0:\tlearn: 0.1431323\ttotal: 522us\tremaining: 20.4ms\n",
      "39:\tlearn: 0.0743137\ttotal: 37.5ms\tremaining: 0us\n",
      "0:\tlearn: 0.1405383\ttotal: 710us\tremaining: 27.7ms\n",
      "39:\tlearn: 0.0693039\ttotal: 19.5ms\tremaining: 0us\n",
      "0:\tlearn: 0.1395974\ttotal: 502us\tremaining: 19.6ms\n",
      "39:\tlearn: 0.0729466\ttotal: 21.1ms\tremaining: 0us\n",
      "0:\tlearn: 0.1376744\ttotal: 526us\tremaining: 20.5ms\n",
      "39:\tlearn: 0.0644316\ttotal: 8.44ms\tremaining: 0us\n"
     ]
    },
    {
     "name": "stderr",
     "output_type": "stream",
     "text": [
      "93it [12:57, 10.20s/it]"
     ]
    },
    {
     "name": "stdout",
     "output_type": "stream",
     "text": [
      "0:\tlearn: 0.2601078\ttotal: 492us\tremaining: 19.2ms\n",
      "39:\tlearn: 0.1086484\ttotal: 13.1ms\tremaining: 0us\n",
      "0:\tlearn: 0.2480524\ttotal: 440us\tremaining: 17.2ms\n",
      "39:\tlearn: 0.1280529\ttotal: 13.5ms\tremaining: 0us\n",
      "0:\tlearn: 0.2425818\ttotal: 731us\tremaining: 28.5ms\n",
      "39:\tlearn: 0.1252216\ttotal: 31.1ms\tremaining: 0us\n",
      "0:\tlearn: 0.2415578\ttotal: 681us\tremaining: 26.6ms\n",
      "39:\tlearn: 0.1266259\ttotal: 10.4ms\tremaining: 0us\n",
      "0:\tlearn: 0.2349277\ttotal: 531us\tremaining: 20.7ms\n",
      "39:\tlearn: 0.1337730\ttotal: 8.87ms\tremaining: 0us\n",
      "0:\tlearn: 0.2337893\ttotal: 526us\tremaining: 20.5ms\n",
      "39:\tlearn: 0.1229416\ttotal: 8.7ms\tremaining: 0us\n",
      "0:\tlearn: 0.2294121\ttotal: 577us\tremaining: 22.5ms\n",
      "39:\tlearn: 0.1299696\ttotal: 24.2ms\tremaining: 0us\n",
      "0:\tlearn: 0.2241793\ttotal: 549us\tremaining: 21.4ms\n",
      "39:\tlearn: 0.1324810\ttotal: 9.95ms\tremaining: 0us\n",
      "0:\tlearn: 0.2201804\ttotal: 641us\tremaining: 25ms\n",
      "39:\tlearn: 0.1266742\ttotal: 10.2ms\tremaining: 0us\n",
      "0:\tlearn: 0.2201645\ttotal: 812us\tremaining: 31.7ms\n",
      "39:\tlearn: 0.1190599\ttotal: 10.1ms\tremaining: 0us\n",
      "0:\tlearn: 0.2137152\ttotal: 568us\tremaining: 22.2ms\n",
      "39:\tlearn: 0.1221243\ttotal: 9.16ms\tremaining: 0us\n",
      "0:\tlearn: 0.2128916\ttotal: 686us\tremaining: 26.8ms\n",
      "39:\tlearn: 0.1285563\ttotal: 8.73ms\tremaining: 0us\n",
      "0:\tlearn: 0.2081670\ttotal: 450us\tremaining: 17.6ms\n",
      "39:\tlearn: 0.1111559\ttotal: 9.22ms\tremaining: 0us\n"
     ]
    },
    {
     "name": "stderr",
     "output_type": "stream",
     "text": [
      "94it [13:07, 10.21s/it]"
     ]
    },
    {
     "name": "stdout",
     "output_type": "stream",
     "text": [
      "0:\tlearn: 0.1535657\ttotal: 1.38ms\tremaining: 53.7ms\n",
      "39:\tlearn: 0.0474858\ttotal: 24ms\tremaining: 0us\n",
      "0:\tlearn: 0.1484741\ttotal: 470us\tremaining: 18.4ms\n",
      "39:\tlearn: 0.0495922\ttotal: 8.37ms\tremaining: 0us\n",
      "0:\tlearn: 0.1418660\ttotal: 449us\tremaining: 17.5ms\n",
      "39:\tlearn: 0.0468141\ttotal: 14.8ms\tremaining: 0us\n",
      "0:\tlearn: 0.1423318\ttotal: 945us\tremaining: 36.9ms\n",
      "39:\tlearn: 0.0431069\ttotal: 14.3ms\tremaining: 0us\n",
      "0:\tlearn: 0.1356301\ttotal: 424us\tremaining: 16.6ms\n",
      "39:\tlearn: 0.0458134\ttotal: 7.93ms\tremaining: 203us\n",
      "0:\tlearn: 0.1387637\ttotal: 451us\tremaining: 17.6ms\n",
      "39:\tlearn: 0.0432175\ttotal: 13.2ms\tremaining: 0us\n",
      "0:\tlearn: 0.1356417\ttotal: 460us\tremaining: 18ms\n",
      "39:\tlearn: 0.0450707\ttotal: 7.64ms\tremaining: 0us\n",
      "0:\tlearn: 0.1316066\ttotal: 466us\tremaining: 18.2ms\n",
      "39:\tlearn: 0.0438314\ttotal: 13.3ms\tremaining: 0us\n",
      "0:\tlearn: 0.1327451\ttotal: 495us\tremaining: 19.3ms\n",
      "39:\tlearn: 0.0414182\ttotal: 9.52ms\tremaining: 0us\n",
      "0:\tlearn: 0.1287379\ttotal: 465us\tremaining: 18.2ms\n",
      "39:\tlearn: 0.0417285\ttotal: 13.5ms\tremaining: 0us\n",
      "0:\tlearn: 0.1267171\ttotal: 461us\tremaining: 18ms\n",
      "39:\tlearn: 0.0458918\ttotal: 7.92ms\tremaining: 0us\n",
      "0:\tlearn: 0.1271653\ttotal: 481us\tremaining: 18.8ms\n",
      "39:\tlearn: 0.0472371\ttotal: 8.79ms\tremaining: 0us\n",
      "0:\tlearn: 0.1221675\ttotal: 424us\tremaining: 16.6ms\n",
      "39:\tlearn: 0.0480889\ttotal: 9.08ms\tremaining: 0us\n"
     ]
    },
    {
     "name": "stderr",
     "output_type": "stream",
     "text": [
      "95it [13:18, 10.35s/it]"
     ]
    },
    {
     "name": "stdout",
     "output_type": "stream",
     "text": [
      "0:\tlearn: 0.0308689\ttotal: 449us\tremaining: 17.5ms\n",
      "39:\tlearn: 0.0078732\ttotal: 7.85ms\tremaining: 0us\n",
      "0:\tlearn: 0.0321034\ttotal: 484us\tremaining: 18.9ms\n",
      "39:\tlearn: 0.0088270\ttotal: 14.6ms\tremaining: 0us\n",
      "0:\tlearn: 0.0317792\ttotal: 933us\tremaining: 36.4ms\n",
      "39:\tlearn: 0.0080456\ttotal: 15.1ms\tremaining: 0us\n",
      "0:\tlearn: 0.0310877\ttotal: 556us\tremaining: 21.7ms\n",
      "39:\tlearn: 0.0087036\ttotal: 18.5ms\tremaining: 0us\n",
      "0:\tlearn: 0.0314967\ttotal: 491us\tremaining: 19.2ms\n",
      "39:\tlearn: 0.0101611\ttotal: 28.2ms\tremaining: 0us\n",
      "0:\tlearn: 0.0313852\ttotal: 515us\tremaining: 20.1ms\n",
      "39:\tlearn: 0.0099562\ttotal: 89.7ms\tremaining: 0us\n",
      "0:\tlearn: 0.0348592\ttotal: 499us\tremaining: 19.5ms\n",
      "39:\tlearn: 0.0127746\ttotal: 13.3ms\tremaining: 0us\n",
      "0:\tlearn: 0.0355729\ttotal: 490us\tremaining: 19.1ms\n",
      "39:\tlearn: 0.0137453\ttotal: 8.95ms\tremaining: 0us\n",
      "0:\tlearn: 0.0385806\ttotal: 550us\tremaining: 21.4ms\n",
      "39:\tlearn: 0.0137541\ttotal: 10.5ms\tremaining: 0us\n",
      "0:\tlearn: 0.0379556\ttotal: 520us\tremaining: 20.3ms\n",
      "39:\tlearn: 0.0136277\ttotal: 23.4ms\tremaining: 0us\n",
      "0:\tlearn: 0.0378039\ttotal: 1.77ms\tremaining: 69.2ms\n",
      "39:\tlearn: 0.0142998\ttotal: 15.5ms\tremaining: 0us\n",
      "0:\tlearn: 0.0375853\ttotal: 560us\tremaining: 21.9ms\n",
      "39:\tlearn: 0.0143147\ttotal: 18.1ms\tremaining: 0us\n",
      "0:\tlearn: 0.0366453\ttotal: 455us\tremaining: 17.8ms\n",
      "39:\tlearn: 0.0136555\ttotal: 9.23ms\tremaining: 0us\n"
     ]
    },
    {
     "name": "stderr",
     "output_type": "stream",
     "text": [
      "96it [13:29, 10.53s/it]"
     ]
    },
    {
     "name": "stdout",
     "output_type": "stream",
     "text": [
      "0:\tlearn: 0.0251817\ttotal: 429us\tremaining: 16.7ms\n",
      "39:\tlearn: 0.0072239\ttotal: 14.6ms\tremaining: 0us\n",
      "0:\tlearn: 0.0269173\ttotal: 459us\tremaining: 17.9ms\n",
      "39:\tlearn: 0.0088642\ttotal: 14.3ms\tremaining: 0us\n",
      "0:\tlearn: 0.0270141\ttotal: 499us\tremaining: 19.5ms\n",
      "39:\tlearn: 0.0085688\ttotal: 23.9ms\tremaining: 0us\n",
      "0:\tlearn: 0.0272066\ttotal: 525us\tremaining: 20.5ms\n",
      "39:\tlearn: 0.0092075\ttotal: 9.59ms\tremaining: 0us\n",
      "0:\tlearn: 0.0269382\ttotal: 500us\tremaining: 19.5ms\n",
      "39:\tlearn: 0.0082620\ttotal: 19.4ms\tremaining: 0us\n",
      "0:\tlearn: 0.0266532\ttotal: 490us\tremaining: 19.1ms\n",
      "39:\tlearn: 0.0085076\ttotal: 9.06ms\tremaining: 0us\n",
      "0:\tlearn: 0.0290161\ttotal: 447us\tremaining: 17.4ms\n",
      "39:\tlearn: 0.0103434\ttotal: 11.6ms\tremaining: 0us\n",
      "0:\tlearn: 0.0314726\ttotal: 516us\tremaining: 20.1ms\n",
      "39:\tlearn: 0.0099902\ttotal: 11.9ms\tremaining: 0us\n",
      "0:\tlearn: 0.0332138\ttotal: 505us\tremaining: 19.7ms\n",
      "39:\tlearn: 0.0107018\ttotal: 36.5ms\tremaining: 0us\n",
      "0:\tlearn: 0.0329668\ttotal: 556us\tremaining: 21.7ms\n",
      "39:\tlearn: 0.0118780\ttotal: 8.9ms\tremaining: 0us\n",
      "0:\tlearn: 0.0323837\ttotal: 594us\tremaining: 23.2ms\n",
      "39:\tlearn: 0.0120456\ttotal: 10.7ms\tremaining: 0us\n",
      "0:\tlearn: 0.0321828\ttotal: 603us\tremaining: 23.5ms\n",
      "39:\tlearn: 0.0109723\ttotal: 9.36ms\tremaining: 0us\n",
      "0:\tlearn: 0.0328605\ttotal: 556us\tremaining: 21.7ms\n",
      "39:\tlearn: 0.0116048\ttotal: 9.97ms\tremaining: 0us\n"
     ]
    },
    {
     "name": "stderr",
     "output_type": "stream",
     "text": [
      "97it [13:40, 10.80s/it]"
     ]
    },
    {
     "name": "stdout",
     "output_type": "stream",
     "text": [
      "0:\tlearn: 0.0412048\ttotal: 492us\tremaining: 19.2ms\n",
      "39:\tlearn: 0.0160293\ttotal: 15.1ms\tremaining: 0us\n",
      "0:\tlearn: 0.0403099\ttotal: 537us\tremaining: 21ms\n",
      "39:\tlearn: 0.0151121\ttotal: 11ms\tremaining: 0us\n",
      "0:\tlearn: 0.0403362\ttotal: 515us\tremaining: 20.1ms\n",
      "39:\tlearn: 0.0165786\ttotal: 9.71ms\tremaining: 0us\n",
      "0:\tlearn: 0.0405892\ttotal: 497us\tremaining: 19.4ms\n",
      "39:\tlearn: 0.0173169\ttotal: 9.43ms\tremaining: 0us\n",
      "0:\tlearn: 0.0404599\ttotal: 496us\tremaining: 19.4ms\n",
      "39:\tlearn: 0.0166845\ttotal: 31.3ms\tremaining: 0us\n",
      "0:\tlearn: 0.0403510\ttotal: 692us\tremaining: 27ms\n",
      "39:\tlearn: 0.0174888\ttotal: 10.5ms\tremaining: 0us\n",
      "0:\tlearn: 0.0442599\ttotal: 482us\tremaining: 18.8ms\n",
      "39:\tlearn: 0.0186214\ttotal: 8.87ms\tremaining: 0us\n",
      "0:\tlearn: 0.0451056\ttotal: 455us\tremaining: 17.8ms\n",
      "39:\tlearn: 0.0176133\ttotal: 31.3ms\tremaining: 0us\n",
      "0:\tlearn: 0.0470708\ttotal: 478us\tremaining: 18.7ms\n",
      "39:\tlearn: 0.0201918\ttotal: 9.25ms\tremaining: 0us\n",
      "0:\tlearn: 0.0474772\ttotal: 620us\tremaining: 24.2ms\n",
      "39:\tlearn: 0.0203142\ttotal: 9.43ms\tremaining: 0us\n",
      "0:\tlearn: 0.0465971\ttotal: 641us\tremaining: 25ms\n",
      "39:\tlearn: 0.0201973\ttotal: 34.2ms\tremaining: 0us\n",
      "0:\tlearn: 0.0467222\ttotal: 600us\tremaining: 23.4ms\n",
      "39:\tlearn: 0.0214719\ttotal: 9.68ms\tremaining: 0us\n",
      "0:\tlearn: 0.0462265\ttotal: 655us\tremaining: 25.6ms\n",
      "39:\tlearn: 0.0219882\ttotal: 14.6ms\tremaining: 0us\n"
     ]
    },
    {
     "name": "stderr",
     "output_type": "stream",
     "text": [
      "98it [13:52, 10.93s/it]"
     ]
    },
    {
     "name": "stdout",
     "output_type": "stream",
     "text": [
      "0:\tlearn: 0.1180762\ttotal: 683us\tremaining: 26.6ms\n",
      "39:\tlearn: 0.0566468\ttotal: 24.8ms\tremaining: 0us\n",
      "0:\tlearn: 0.1159161\ttotal: 444us\tremaining: 17.3ms\n",
      "39:\tlearn: 0.0549929\ttotal: 35.9ms\tremaining: 0us\n",
      "0:\tlearn: 0.1173120\ttotal: 580us\tremaining: 22.6ms\n",
      "39:\tlearn: 0.0596510\ttotal: 13.3ms\tremaining: 0us\n",
      "0:\tlearn: 0.1160014\ttotal: 1.17ms\tremaining: 45.8ms\n",
      "39:\tlearn: 0.0586804\ttotal: 85.6ms\tremaining: 0us\n",
      "0:\tlearn: 0.1136939\ttotal: 479us\tremaining: 18.7ms\n",
      "39:\tlearn: 0.0546837\ttotal: 28ms\tremaining: 0us\n",
      "0:\tlearn: 0.1133843\ttotal: 478us\tremaining: 18.7ms\n",
      "39:\tlearn: 0.0659485\ttotal: 33.1ms\tremaining: 0us\n",
      "0:\tlearn: 0.1120705\ttotal: 454us\tremaining: 17.7ms\n",
      "39:\tlearn: 0.0642224\ttotal: 8.87ms\tremaining: 0us\n",
      "0:\tlearn: 0.1106592\ttotal: 458us\tremaining: 17.9ms\n",
      "39:\tlearn: 0.0599495\ttotal: 23.2ms\tremaining: 0us\n",
      "0:\tlearn: 0.1112381\ttotal: 433us\tremaining: 16.9ms\n",
      "39:\tlearn: 0.0635217\ttotal: 9.94ms\tremaining: 0us\n",
      "0:\tlearn: 0.1094949\ttotal: 530us\tremaining: 20.7ms\n",
      "39:\tlearn: 0.0564690\ttotal: 34.6ms\tremaining: 0us\n",
      "0:\tlearn: 0.1089357\ttotal: 635us\tremaining: 24.8ms\n",
      "39:\tlearn: 0.0653547\ttotal: 27.1ms\tremaining: 0us\n",
      "0:\tlearn: 0.1088400\ttotal: 1.1ms\tremaining: 43ms\n",
      "39:\tlearn: 0.0621408\ttotal: 23.2ms\tremaining: 0us\n",
      "0:\tlearn: 0.1071956\ttotal: 559us\tremaining: 21.8ms\n",
      "39:\tlearn: 0.0591873\ttotal: 9.96ms\tremaining: 0us\n"
     ]
    },
    {
     "name": "stderr",
     "output_type": "stream",
     "text": [
      "99it [14:02, 10.95s/it]"
     ]
    },
    {
     "name": "stdout",
     "output_type": "stream",
     "text": [
      "0:\tlearn: 0.1037178\ttotal: 503us\tremaining: 19.6ms\n",
      "39:\tlearn: 0.0636739\ttotal: 8.2ms\tremaining: 210us\n",
      "0:\tlearn: 0.1168349\ttotal: 486us\tremaining: 19ms\n",
      "39:\tlearn: 0.0510162\ttotal: 17.1ms\tremaining: 0us\n",
      "0:\tlearn: 0.1170964\ttotal: 864us\tremaining: 33.7ms\n",
      "39:\tlearn: 0.0544793\ttotal: 14.1ms\tremaining: 0us\n",
      "0:\tlearn: 0.1187169\ttotal: 513us\tremaining: 20ms\n",
      "39:\tlearn: 0.0538022\ttotal: 8.43ms\tremaining: 0us\n",
      "0:\tlearn: 0.1159521\ttotal: 530us\tremaining: 20.7ms\n",
      "39:\tlearn: 0.0556747\ttotal: 8.35ms\tremaining: 0us\n",
      "0:\tlearn: 0.1162808\ttotal: 459us\tremaining: 17.9ms\n",
      "39:\tlearn: 0.0510792\ttotal: 51.7ms\tremaining: 0us\n",
      "0:\tlearn: 0.1163598\ttotal: 503us\tremaining: 19.6ms\n",
      "39:\tlearn: 0.0592701\ttotal: 8.5ms\tremaining: 0us\n",
      "0:\tlearn: 0.1232933\ttotal: 470us\tremaining: 18.3ms\n",
      "39:\tlearn: 0.0618319\ttotal: 25.9ms\tremaining: 0us\n",
      "0:\tlearn: 0.1217391\ttotal: 499us\tremaining: 19.5ms\n",
      "39:\tlearn: 0.0591906\ttotal: 14ms\tremaining: 0us\n",
      "0:\tlearn: 0.1216100\ttotal: 488us\tremaining: 19.1ms\n",
      "39:\tlearn: 0.0628169\ttotal: 8.99ms\tremaining: 0us\n",
      "0:\tlearn: 0.1191420\ttotal: 490us\tremaining: 19.1ms\n",
      "39:\tlearn: 0.0584385\ttotal: 23.5ms\tremaining: 0us\n",
      "0:\tlearn: 0.1176791\ttotal: 449us\tremaining: 17.5ms\n",
      "39:\tlearn: 0.0616710\ttotal: 14.1ms\tremaining: 0us\n",
      "0:\tlearn: 0.1223787\ttotal: 467us\tremaining: 18.2ms\n",
      "39:\tlearn: 0.0595280\ttotal: 8.67ms\tremaining: 0us\n"
     ]
    },
    {
     "name": "stderr",
     "output_type": "stream",
     "text": [
      "100it [14:14, 11.04s/it]"
     ]
    },
    {
     "name": "stdout",
     "output_type": "stream",
     "text": [
      "0:\tlearn: 0.0678732\ttotal: 459us\tremaining: 17.9ms\n",
      "39:\tlearn: 0.0307168\ttotal: 14.4ms\tremaining: 0us\n",
      "0:\tlearn: 0.0668297\ttotal: 706us\tremaining: 27.6ms\n",
      "39:\tlearn: 0.0331369\ttotal: 8.91ms\tremaining: 0us\n",
      "0:\tlearn: 0.0660852\ttotal: 477us\tremaining: 18.6ms\n",
      "39:\tlearn: 0.0333497\ttotal: 43ms\tremaining: 0us\n",
      "0:\tlearn: 0.0732044\ttotal: 456us\tremaining: 17.8ms\n",
      "39:\tlearn: 0.0356160\ttotal: 8.8ms\tremaining: 0us\n",
      "0:\tlearn: 0.0796264\ttotal: 585us\tremaining: 22.8ms\n",
      "39:\tlearn: 0.0392304\ttotal: 20.1ms\tremaining: 0us\n",
      "0:\tlearn: 0.0795352\ttotal: 509us\tremaining: 19.9ms\n",
      "39:\tlearn: 0.0358459\ttotal: 8.86ms\tremaining: 0us\n",
      "0:\tlearn: 0.0797964\ttotal: 587us\tremaining: 22.9ms\n",
      "39:\tlearn: 0.0344681\ttotal: 9.51ms\tremaining: 0us\n",
      "0:\tlearn: 0.0891120\ttotal: 740us\tremaining: 28.9ms\n",
      "39:\tlearn: 0.0392122\ttotal: 14.6ms\tremaining: 0us\n",
      "0:\tlearn: 0.1093581\ttotal: 463us\tremaining: 18.1ms\n",
      "39:\tlearn: 0.0496430\ttotal: 16.8ms\tremaining: 0us\n",
      "0:\tlearn: 0.1072450\ttotal: 529us\tremaining: 20.6ms\n",
      "39:\tlearn: 0.0530087\ttotal: 56.9ms\tremaining: 0us\n",
      "0:\tlearn: 0.1116918\ttotal: 568us\tremaining: 22.2ms\n",
      "39:\tlearn: 0.0567529\ttotal: 11.9ms\tremaining: 0us\n",
      "0:\tlearn: 0.1155992\ttotal: 548us\tremaining: 21.4ms\n",
      "39:\tlearn: 0.0600598\ttotal: 12.5ms\tremaining: 0us\n",
      "0:\tlearn: 0.1142155\ttotal: 590us\tremaining: 23ms\n",
      "39:\tlearn: 0.0589440\ttotal: 9.72ms\tremaining: 0us\n"
     ]
    },
    {
     "name": "stderr",
     "output_type": "stream",
     "text": [
      "101it [14:25, 11.13s/it]"
     ]
    },
    {
     "name": "stdout",
     "output_type": "stream",
     "text": [
      "0:\tlearn: 0.0470807\ttotal: 430us\tremaining: 16.8ms\n",
      "39:\tlearn: 0.0190218\ttotal: 7.83ms\tremaining: 0us\n",
      "0:\tlearn: 0.0486240\ttotal: 780us\tremaining: 30.4ms\n",
      "39:\tlearn: 0.0207966\ttotal: 25.2ms\tremaining: 0us\n",
      "0:\tlearn: 0.0500805\ttotal: 487us\tremaining: 19ms\n",
      "39:\tlearn: 0.0220256\ttotal: 9.24ms\tremaining: 0us\n",
      "0:\tlearn: 0.0493973\ttotal: 458us\tremaining: 17.9ms\n",
      "39:\tlearn: 0.0216033\ttotal: 11.3ms\tremaining: 0us\n",
      "0:\tlearn: 0.0482647\ttotal: 496us\tremaining: 19.4ms\n",
      "39:\tlearn: 0.0211181\ttotal: 28.4ms\tremaining: 0us\n",
      "0:\tlearn: 0.0477529\ttotal: 517us\tremaining: 20.2ms\n",
      "39:\tlearn: 0.0205963\ttotal: 9.08ms\tremaining: 0us\n",
      "0:\tlearn: 0.0540944\ttotal: 483us\tremaining: 18.9ms\n",
      "39:\tlearn: 0.0242212\ttotal: 51.3ms\tremaining: 0us\n",
      "0:\tlearn: 0.0531723\ttotal: 520us\tremaining: 20.3ms\n",
      "39:\tlearn: 0.0267477\ttotal: 35.8ms\tremaining: 0us\n",
      "0:\tlearn: 0.0539307\ttotal: 841us\tremaining: 32.8ms\n",
      "39:\tlearn: 0.0251847\ttotal: 9.89ms\tremaining: 0us\n",
      "0:\tlearn: 0.0558100\ttotal: 553us\tremaining: 21.6ms\n",
      "39:\tlearn: 0.0221539\ttotal: 9.71ms\tremaining: 0us\n",
      "0:\tlearn: 0.0552191\ttotal: 505us\tremaining: 19.7ms\n",
      "39:\tlearn: 0.0246643\ttotal: 9.45ms\tremaining: 0us\n",
      "0:\tlearn: 0.0549760\ttotal: 536us\tremaining: 20.9ms\n",
      "39:\tlearn: 0.0244559\ttotal: 13.3ms\tremaining: 0us\n",
      "0:\tlearn: 0.0559416\ttotal: 609us\tremaining: 23.8ms\n",
      "39:\tlearn: 0.0254300\ttotal: 9.47ms\tremaining: 0us\n"
     ]
    },
    {
     "name": "stderr",
     "output_type": "stream",
     "text": [
      "102it [14:37, 11.30s/it]"
     ]
    },
    {
     "name": "stdout",
     "output_type": "stream",
     "text": [
      "0:\tlearn: 0.0713588\ttotal: 1.45ms\tremaining: 56.5ms\n",
      "39:\tlearn: 0.0342577\ttotal: 29.7ms\tremaining: 0us\n",
      "0:\tlearn: 0.0731786\ttotal: 524us\tremaining: 20.5ms\n",
      "39:\tlearn: 0.0407961\ttotal: 39.6ms\tremaining: 0us\n",
      "0:\tlearn: 0.0752203\ttotal: 438us\tremaining: 17.1ms\n",
      "39:\tlearn: 0.0411614\ttotal: 8.18ms\tremaining: 0us\n",
      "0:\tlearn: 0.0737060\ttotal: 499us\tremaining: 19.5ms\n",
      "39:\tlearn: 0.0420966\ttotal: 14.5ms\tremaining: 0us\n",
      "0:\tlearn: 0.0738570\ttotal: 451us\tremaining: 17.6ms\n",
      "39:\tlearn: 0.0383799\ttotal: 15ms\tremaining: 0us\n",
      "0:\tlearn: 0.0722770\ttotal: 464us\tremaining: 18.1ms\n",
      "39:\tlearn: 0.0397096\ttotal: 8.63ms\tremaining: 0us\n",
      "0:\tlearn: 0.0764739\ttotal: 502us\tremaining: 19.6ms\n",
      "39:\tlearn: 0.0403312\ttotal: 19.8ms\tremaining: 0us\n",
      "0:\tlearn: 0.0755231\ttotal: 475us\tremaining: 18.6ms\n",
      "39:\tlearn: 0.0402351\ttotal: 50.4ms\tremaining: 0us\n",
      "0:\tlearn: 0.0853205\ttotal: 584us\tremaining: 22.8ms\n",
      "39:\tlearn: 0.0419099\ttotal: 27.5ms\tremaining: 0us\n",
      "0:\tlearn: 0.0846704\ttotal: 560us\tremaining: 21.9ms\n",
      "39:\tlearn: 0.0415846\ttotal: 8.84ms\tremaining: 0us\n",
      "0:\tlearn: 0.0854975\ttotal: 704us\tremaining: 27.5ms\n",
      "39:\tlearn: 0.0476277\ttotal: 9.71ms\tremaining: 0us\n",
      "0:\tlearn: 0.0857166\ttotal: 492us\tremaining: 19.2ms\n",
      "39:\tlearn: 0.0442712\ttotal: 16ms\tremaining: 0us\n",
      "0:\tlearn: 0.0859471\ttotal: 551us\tremaining: 21.5ms\n",
      "39:\tlearn: 0.0466618\ttotal: 9.22ms\tremaining: 0us\n"
     ]
    },
    {
     "name": "stderr",
     "output_type": "stream",
     "text": [
      "103it [14:48, 11.14s/it]"
     ]
    },
    {
     "name": "stdout",
     "output_type": "stream",
     "text": [
      "0:\tlearn: 0.0557279\ttotal: 412us\tremaining: 16.1ms\n",
      "39:\tlearn: 0.0268122\ttotal: 20.7ms\tremaining: 0us\n",
      "0:\tlearn: 0.0548176\ttotal: 467us\tremaining: 18.2ms\n",
      "39:\tlearn: 0.0272147\ttotal: 9ms\tremaining: 0us\n",
      "0:\tlearn: 0.0552442\ttotal: 792us\tremaining: 30.9ms\n",
      "39:\tlearn: 0.0278278\ttotal: 9.14ms\tremaining: 0us\n",
      "0:\tlearn: 0.0543573\ttotal: 496us\tremaining: 19.3ms\n",
      "39:\tlearn: 0.0296392\ttotal: 15.3ms\tremaining: 0us\n",
      "0:\tlearn: 0.0606740\ttotal: 565us\tremaining: 22.1ms\n",
      "39:\tlearn: 0.0331332\ttotal: 49.5ms\tremaining: 0us\n",
      "0:\tlearn: 0.0708437\ttotal: 512us\tremaining: 20ms\n",
      "39:\tlearn: 0.0367388\ttotal: 10.9ms\tremaining: 0us\n",
      "0:\tlearn: 0.0691648\ttotal: 1.31ms\tremaining: 51.2ms\n",
      "39:\tlearn: 0.0400440\ttotal: 47.7ms\tremaining: 0us\n",
      "0:\tlearn: 0.0700071\ttotal: 615us\tremaining: 24ms\n",
      "39:\tlearn: 0.0363010\ttotal: 8.42ms\tremaining: 0us\n",
      "0:\tlearn: 0.0691884\ttotal: 462us\tremaining: 18ms\n",
      "39:\tlearn: 0.0387027\ttotal: 9.23ms\tremaining: 0us\n",
      "0:\tlearn: 0.0694157\ttotal: 459us\tremaining: 17.9ms\n",
      "39:\tlearn: 0.0419840\ttotal: 10.3ms\tremaining: 0us\n",
      "0:\tlearn: 0.0675941\ttotal: 474us\tremaining: 18.5ms\n",
      "39:\tlearn: 0.0405681\ttotal: 29.6ms\tremaining: 0us\n",
      "0:\tlearn: 0.0677511\ttotal: 923us\tremaining: 36ms\n",
      "39:\tlearn: 0.0408642\ttotal: 38.6ms\tremaining: 0us\n",
      "0:\tlearn: 0.0677250\ttotal: 601us\tremaining: 23.5ms\n",
      "39:\tlearn: 0.0401549\ttotal: 14.2ms\tremaining: 0us\n"
     ]
    },
    {
     "name": "stderr",
     "output_type": "stream",
     "text": [
      "104it [14:58, 10.98s/it]"
     ]
    },
    {
     "name": "stdout",
     "output_type": "stream",
     "text": [
      "0:\tlearn: 0.1318485\ttotal: 453us\tremaining: 17.7ms\n",
      "39:\tlearn: 0.0445472\ttotal: 7.75ms\tremaining: 0us\n",
      "0:\tlearn: 0.1465422\ttotal: 606us\tremaining: 23.7ms\n",
      "39:\tlearn: 0.0710163\ttotal: 15.7ms\tremaining: 0us\n",
      "0:\tlearn: 0.1432122\ttotal: 460us\tremaining: 18ms\n",
      "39:\tlearn: 0.0600665\ttotal: 37.1ms\tremaining: 0us\n",
      "0:\tlearn: 0.1463050\ttotal: 533us\tremaining: 20.8ms\n",
      "39:\tlearn: 0.0603933\ttotal: 8.44ms\tremaining: 0us\n",
      "0:\tlearn: 0.1394443\ttotal: 646us\tremaining: 25.2ms\n",
      "39:\tlearn: 0.0621975\ttotal: 9.87ms\tremaining: 0us\n",
      "0:\tlearn: 0.1371867\ttotal: 569us\tremaining: 22.2ms\n",
      "39:\tlearn: 0.0650778\ttotal: 9.92ms\tremaining: 0us\n",
      "0:\tlearn: 0.1579511\ttotal: 556us\tremaining: 21.7ms\n",
      "39:\tlearn: 0.0763081\ttotal: 8.83ms\tremaining: 0us\n",
      "0:\tlearn: 0.1532789\ttotal: 495us\tremaining: 19.3ms\n",
      "39:\tlearn: 0.0819982\ttotal: 9.76ms\tremaining: 0us\n",
      "0:\tlearn: 0.1552112\ttotal: 530us\tremaining: 20.7ms\n",
      "39:\tlearn: 0.0807759\ttotal: 32ms\tremaining: 0us\n",
      "0:\tlearn: 0.1515148\ttotal: 457us\tremaining: 17.8ms\n",
      "39:\tlearn: 0.0809428\ttotal: 35.9ms\tremaining: 0us\n",
      "0:\tlearn: 0.1523884\ttotal: 458us\tremaining: 17.9ms\n",
      "39:\tlearn: 0.0848549\ttotal: 8.62ms\tremaining: 0us\n",
      "0:\tlearn: 0.1484928\ttotal: 470us\tremaining: 18.3ms\n",
      "39:\tlearn: 0.0794457\ttotal: 41.9ms\tremaining: 0us\n",
      "0:\tlearn: 0.1467121\ttotal: 491us\tremaining: 19.2ms\n",
      "39:\tlearn: 0.0818295\ttotal: 13.5ms\tremaining: 0us\n"
     ]
    },
    {
     "name": "stderr",
     "output_type": "stream",
     "text": [
      "105it [15:09, 10.88s/it]"
     ]
    },
    {
     "name": "stdout",
     "output_type": "stream",
     "text": [
      "0:\tlearn: 0.1833118\ttotal: 431us\tremaining: 16.8ms\n",
      "39:\tlearn: 0.0591130\ttotal: 8.77ms\tremaining: 0us\n",
      "0:\tlearn: 0.1844488\ttotal: 500us\tremaining: 19.5ms\n",
      "39:\tlearn: 0.0755026\ttotal: 14.7ms\tremaining: 0us\n",
      "0:\tlearn: 0.1837446\ttotal: 450us\tremaining: 17.6ms\n",
      "39:\tlearn: 0.0689731\ttotal: 9.01ms\tremaining: 0us\n",
      "0:\tlearn: 0.1798102\ttotal: 742us\tremaining: 28.9ms\n",
      "39:\tlearn: 0.0679798\ttotal: 17.7ms\tremaining: 0us\n",
      "0:\tlearn: 0.1791593\ttotal: 634us\tremaining: 24.8ms\n",
      "39:\tlearn: 0.0649276\ttotal: 14.7ms\tremaining: 0us\n",
      "0:\tlearn: 0.1741273\ttotal: 504us\tremaining: 19.7ms\n",
      "39:\tlearn: 0.0658853\ttotal: 8.98ms\tremaining: 0us\n",
      "0:\tlearn: 0.1723510\ttotal: 515us\tremaining: 20.1ms\n",
      "39:\tlearn: 0.0689643\ttotal: 24.5ms\tremaining: 0us\n",
      "0:\tlearn: 0.1689115\ttotal: 464us\tremaining: 18.1ms\n",
      "39:\tlearn: 0.0659723\ttotal: 17.4ms\tremaining: 0us\n",
      "0:\tlearn: 0.1687889\ttotal: 504us\tremaining: 19.7ms\n",
      "39:\tlearn: 0.0664966\ttotal: 28.3ms\tremaining: 0us\n",
      "0:\tlearn: 0.1636645\ttotal: 482us\tremaining: 18.8ms\n",
      "39:\tlearn: 0.0658977\ttotal: 8.8ms\tremaining: 0us\n",
      "0:\tlearn: 0.1625773\ttotal: 511us\tremaining: 19.9ms\n",
      "39:\tlearn: 0.0723848\ttotal: 42.7ms\tremaining: 0us\n",
      "0:\tlearn: 0.1620382\ttotal: 598us\tremaining: 23.4ms\n",
      "39:\tlearn: 0.0626565\ttotal: 10.2ms\tremaining: 0us\n",
      "0:\tlearn: 0.1606093\ttotal: 504us\tremaining: 19.7ms\n",
      "39:\tlearn: 0.0723159\ttotal: 37.4ms\tremaining: 0us\n"
     ]
    },
    {
     "name": "stderr",
     "output_type": "stream",
     "text": [
      "106it [15:20, 10.92s/it]"
     ]
    },
    {
     "name": "stdout",
     "output_type": "stream",
     "text": [
      "0:\tlearn: 0.0366914\ttotal: 506us\tremaining: 19.7ms\n",
      "39:\tlearn: 0.0098602\ttotal: 9.24ms\tremaining: 0us\n",
      "0:\tlearn: 0.0379345\ttotal: 485us\tremaining: 18.9ms\n",
      "39:\tlearn: 0.0113711\ttotal: 8.5ms\tremaining: 0us\n",
      "0:\tlearn: 0.0375607\ttotal: 521us\tremaining: 20.3ms\n",
      "39:\tlearn: 0.0108347\ttotal: 8.88ms\tremaining: 0us\n",
      "0:\tlearn: 0.0368627\ttotal: 428us\tremaining: 16.7ms\n",
      "39:\tlearn: 0.0108105\ttotal: 24.5ms\tremaining: 628us\n",
      "0:\tlearn: 0.0361368\ttotal: 460us\tremaining: 18ms\n",
      "39:\tlearn: 0.0109420\ttotal: 9.26ms\tremaining: 0us\n",
      "0:\tlearn: 0.0359868\ttotal: 484us\tremaining: 18.9ms\n",
      "39:\tlearn: 0.0117896\ttotal: 9ms\tremaining: 0us\n",
      "0:\tlearn: 0.0369238\ttotal: 509us\tremaining: 19.9ms\n",
      "39:\tlearn: 0.0120026\ttotal: 28.2ms\tremaining: 0us\n",
      "0:\tlearn: 0.0376647\ttotal: 502us\tremaining: 19.6ms\n",
      "39:\tlearn: 0.0110891\ttotal: 14.7ms\tremaining: 0us\n",
      "0:\tlearn: 0.0380507\ttotal: 476us\tremaining: 18.6ms\n",
      "39:\tlearn: 0.0115955\ttotal: 10.1ms\tremaining: 0us\n",
      "0:\tlearn: 0.0373568\ttotal: 484us\tremaining: 18.9ms\n",
      "39:\tlearn: 0.0122611\ttotal: 8.81ms\tremaining: 0us\n",
      "0:\tlearn: 0.0369148\ttotal: 553us\tremaining: 21.6ms\n",
      "39:\tlearn: 0.0115001\ttotal: 14ms\tremaining: 0us\n",
      "0:\tlearn: 0.0368205\ttotal: 474us\tremaining: 18.5ms\n",
      "39:\tlearn: 0.0122495\ttotal: 42.7ms\tremaining: 0us\n",
      "0:\tlearn: 0.0382002\ttotal: 1.05ms\tremaining: 40.9ms\n",
      "39:\tlearn: 0.0127531\ttotal: 10.3ms\tremaining: 0us\n"
     ]
    },
    {
     "name": "stderr",
     "output_type": "stream",
     "text": [
      "107it [15:31, 11.15s/it]"
     ]
    },
    {
     "name": "stdout",
     "output_type": "stream",
     "text": [
      "0:\tlearn: 0.0306667\ttotal: 791us\tremaining: 30.9ms\n",
      "39:\tlearn: 0.0058685\ttotal: 20.3ms\tremaining: 0us\n",
      "0:\tlearn: 0.0311367\ttotal: 446us\tremaining: 17.4ms\n",
      "39:\tlearn: 0.0067293\ttotal: 27.2ms\tremaining: 0us\n",
      "0:\tlearn: 0.0311178\ttotal: 504us\tremaining: 19.7ms\n",
      "39:\tlearn: 0.0060410\ttotal: 16.3ms\tremaining: 0us\n",
      "0:\tlearn: 0.0308557\ttotal: 460us\tremaining: 17.9ms\n",
      "39:\tlearn: 0.0055924\ttotal: 8.94ms\tremaining: 0us\n",
      "0:\tlearn: 0.0301896\ttotal: 506us\tremaining: 19.8ms\n",
      "39:\tlearn: 0.0062291\ttotal: 9.24ms\tremaining: 0us\n",
      "0:\tlearn: 0.0299858\ttotal: 453us\tremaining: 17.7ms\n",
      "39:\tlearn: 0.0061226\ttotal: 50.5ms\tremaining: 0us\n",
      "0:\tlearn: 0.0317505\ttotal: 469us\tremaining: 18.3ms\n",
      "39:\tlearn: 0.0074955\ttotal: 9.45ms\tremaining: 0us\n",
      "0:\tlearn: 0.0344626\ttotal: 501us\tremaining: 19.6ms\n",
      "39:\tlearn: 0.0089997\ttotal: 13.3ms\tremaining: 0us\n",
      "0:\tlearn: 0.0354814\ttotal: 523us\tremaining: 20.4ms\n",
      "39:\tlearn: 0.0080132\ttotal: 9.02ms\tremaining: 0us\n",
      "0:\tlearn: 0.0354102\ttotal: 445us\tremaining: 17.4ms\n",
      "39:\tlearn: 0.0082528\ttotal: 11.5ms\tremaining: 0us\n",
      "0:\tlearn: 0.0349389\ttotal: 1.32ms\tremaining: 51.7ms\n",
      "39:\tlearn: 0.0086747\ttotal: 73.5ms\tremaining: 0us\n",
      "0:\tlearn: 0.0357315\ttotal: 1.19ms\tremaining: 46.6ms\n",
      "39:\tlearn: 0.0093013\ttotal: 15.6ms\tremaining: 0us\n",
      "0:\tlearn: 0.0351993\ttotal: 513us\tremaining: 20ms\n",
      "39:\tlearn: 0.0089188\ttotal: 9.62ms\tremaining: 0us\n"
     ]
    },
    {
     "name": "stderr",
     "output_type": "stream",
     "text": [
      "108it [15:43, 11.25s/it]"
     ]
    },
    {
     "name": "stdout",
     "output_type": "stream",
     "text": [
      "0:\tlearn: 0.0466515\ttotal: 514us\tremaining: 20ms\n",
      "39:\tlearn: 0.0164587\ttotal: 9.96ms\tremaining: 0us\n",
      "0:\tlearn: 0.0460968\ttotal: 602us\tremaining: 23.5ms\n",
      "39:\tlearn: 0.0196765\ttotal: 14.9ms\tremaining: 0us\n",
      "0:\tlearn: 0.0453990\ttotal: 485us\tremaining: 18.9ms\n",
      "39:\tlearn: 0.0195789\ttotal: 53.9ms\tremaining: 0us\n",
      "0:\tlearn: 0.0456726\ttotal: 506us\tremaining: 19.7ms\n",
      "39:\tlearn: 0.0198051\ttotal: 8.82ms\tremaining: 0us\n",
      "0:\tlearn: 0.0448070\ttotal: 1.63ms\tremaining: 63.7ms\n",
      "39:\tlearn: 0.0197957\ttotal: 12.5ms\tremaining: 0us\n",
      "0:\tlearn: 0.0441050\ttotal: 493us\tremaining: 19.3ms\n",
      "39:\tlearn: 0.0213235\ttotal: 33.7ms\tremaining: 0us\n",
      "0:\tlearn: 0.0443532\ttotal: 557us\tremaining: 21.7ms\n",
      "39:\tlearn: 0.0227050\ttotal: 9.82ms\tremaining: 0us\n",
      "0:\tlearn: 0.0439241\ttotal: 489us\tremaining: 19.1ms\n",
      "39:\tlearn: 0.0199368\ttotal: 15.2ms\tremaining: 0us\n",
      "0:\tlearn: 0.0447695\ttotal: 510us\tremaining: 19.9ms\n",
      "39:\tlearn: 0.0195914\ttotal: 15.1ms\tremaining: 0us\n",
      "0:\tlearn: 0.0436693\ttotal: 554us\tremaining: 21.6ms\n",
      "39:\tlearn: 0.0196213\ttotal: 25.2ms\tremaining: 0us\n",
      "0:\tlearn: 0.0436191\ttotal: 533us\tremaining: 20.8ms\n",
      "39:\tlearn: 0.0193703\ttotal: 76.8ms\tremaining: 0us\n",
      "0:\tlearn: 0.0439030\ttotal: 541us\tremaining: 21.1ms\n",
      "39:\tlearn: 0.0191278\ttotal: 14.6ms\tremaining: 0us\n",
      "0:\tlearn: 0.0436516\ttotal: 510us\tremaining: 19.9ms\n",
      "39:\tlearn: 0.0197609\ttotal: 10.8ms\tremaining: 0us\n"
     ]
    },
    {
     "name": "stderr",
     "output_type": "stream",
     "text": [
      "109it [15:54, 11.25s/it]"
     ]
    },
    {
     "name": "stdout",
     "output_type": "stream",
     "text": [
      "0:\tlearn: 0.1134316\ttotal: 509us\tremaining: 19.9ms\n",
      "39:\tlearn: 0.0562832\ttotal: 8.93ms\tremaining: 0us\n",
      "0:\tlearn: 0.1118692\ttotal: 563us\tremaining: 22ms\n",
      "39:\tlearn: 0.0688897\ttotal: 8.91ms\tremaining: 0us\n",
      "0:\tlearn: 0.1103380\ttotal: 722us\tremaining: 28.2ms\n",
      "39:\tlearn: 0.0717295\ttotal: 50.2ms\tremaining: 0us\n",
      "0:\tlearn: 0.1081550\ttotal: 449us\tremaining: 17.5ms\n",
      "39:\tlearn: 0.0657168\ttotal: 28.1ms\tremaining: 0us\n",
      "0:\tlearn: 0.1344918\ttotal: 453us\tremaining: 17.7ms\n",
      "39:\tlearn: 0.0822495\ttotal: 28.6ms\tremaining: 0us\n",
      "0:\tlearn: 0.1342736\ttotal: 492us\tremaining: 19.2ms\n",
      "39:\tlearn: 0.0887748\ttotal: 15.7ms\tremaining: 0us\n",
      "0:\tlearn: 0.1332449\ttotal: 501us\tremaining: 19.6ms\n",
      "39:\tlearn: 0.0856810\ttotal: 9.21ms\tremaining: 0us\n",
      "0:\tlearn: 0.1484800\ttotal: 647us\tremaining: 25.3ms\n",
      "39:\tlearn: 0.0895872\ttotal: 8.46ms\tremaining: 0us\n",
      "0:\tlearn: 0.1460327\ttotal: 528us\tremaining: 20.6ms\n",
      "39:\tlearn: 0.0997163\ttotal: 9.59ms\tremaining: 0us\n",
      "0:\tlearn: 0.1460124\ttotal: 576us\tremaining: 22.5ms\n",
      "39:\tlearn: 0.1014591\ttotal: 20ms\tremaining: 0us\n",
      "0:\tlearn: 0.1449424\ttotal: 590us\tremaining: 23ms\n",
      "39:\tlearn: 0.1072986\ttotal: 17.8ms\tremaining: 0us\n",
      "0:\tlearn: 0.1432021\ttotal: 593us\tremaining: 23.2ms\n",
      "39:\tlearn: 0.1070994\ttotal: 10.2ms\tremaining: 0us\n",
      "0:\tlearn: 0.1418025\ttotal: 486us\tremaining: 19ms\n",
      "39:\tlearn: 0.1025990\ttotal: 9.26ms\tremaining: 0us\n"
     ]
    },
    {
     "name": "stderr",
     "output_type": "stream",
     "text": [
      "110it [16:05, 11.22s/it]"
     ]
    },
    {
     "name": "stdout",
     "output_type": "stream",
     "text": [
      "0:\tlearn: 0.0758993\ttotal: 512us\tremaining: 20ms\n",
      "39:\tlearn: 0.0345417\ttotal: 9.51ms\tremaining: 0us\n",
      "0:\tlearn: 0.0745583\ttotal: 501us\tremaining: 19.5ms\n",
      "39:\tlearn: 0.0369275\ttotal: 19.8ms\tremaining: 0us\n",
      "0:\tlearn: 0.0731719\ttotal: 536us\tremaining: 20.9ms\n",
      "39:\tlearn: 0.0366969\ttotal: 26ms\tremaining: 0us\n",
      "0:\tlearn: 0.0732307\ttotal: 511us\tremaining: 20ms\n",
      "39:\tlearn: 0.0379930\ttotal: 32ms\tremaining: 0us\n",
      "0:\tlearn: 0.0723247\ttotal: 462us\tremaining: 18ms\n",
      "39:\tlearn: 0.0376348\ttotal: 14.3ms\tremaining: 0us\n",
      "0:\tlearn: 0.0722311\ttotal: 1.1ms\tremaining: 43ms\n",
      "39:\tlearn: 0.0389217\ttotal: 17.1ms\tremaining: 0us\n",
      "0:\tlearn: 0.0739024\ttotal: 469us\tremaining: 18.3ms\n",
      "39:\tlearn: 0.0438323\ttotal: 20.5ms\tremaining: 0us\n",
      "0:\tlearn: 0.0774068\ttotal: 481us\tremaining: 18.8ms\n",
      "39:\tlearn: 0.0430029\ttotal: 9.3ms\tremaining: 0us\n",
      "0:\tlearn: 0.0761739\ttotal: 487us\tremaining: 19ms\n",
      "39:\tlearn: 0.0422081\ttotal: 15.2ms\tremaining: 0us\n",
      "0:\tlearn: 0.0742400\ttotal: 582us\tremaining: 22.7ms\n",
      "39:\tlearn: 0.0369017\ttotal: 9.07ms\tremaining: 0us\n",
      "0:\tlearn: 0.0740018\ttotal: 583us\tremaining: 22.7ms\n",
      "39:\tlearn: 0.0397160\ttotal: 14.4ms\tremaining: 0us\n",
      "0:\tlearn: 0.0725579\ttotal: 559us\tremaining: 21.8ms\n",
      "39:\tlearn: 0.0355036\ttotal: 22.9ms\tremaining: 0us\n",
      "0:\tlearn: 0.0724309\ttotal: 586us\tremaining: 22.9ms\n",
      "39:\tlearn: 0.0352645\ttotal: 27.5ms\tremaining: 0us\n"
     ]
    },
    {
     "name": "stderr",
     "output_type": "stream",
     "text": [
      "111it [16:17, 11.39s/it]"
     ]
    },
    {
     "name": "stdout",
     "output_type": "stream",
     "text": [
      "0:\tlearn: 0.0619798\ttotal: 500us\tremaining: 19.5ms\n",
      "39:\tlearn: 0.0275774\ttotal: 8.04ms\tremaining: 0us\n",
      "0:\tlearn: 0.0631197\ttotal: 456us\tremaining: 17.8ms\n",
      "39:\tlearn: 0.0291443\ttotal: 27.7ms\tremaining: 0us\n",
      "0:\tlearn: 0.0642592\ttotal: 478us\tremaining: 18.7ms\n",
      "39:\tlearn: 0.0288278\ttotal: 43.8ms\tremaining: 0us\n",
      "0:\tlearn: 0.0655746\ttotal: 489us\tremaining: 19.1ms\n",
      "39:\tlearn: 0.0267099\ttotal: 14.2ms\tremaining: 0us\n",
      "0:\tlearn: 0.0648126\ttotal: 528us\tremaining: 20.6ms\n",
      "39:\tlearn: 0.0270143\ttotal: 9.63ms\tremaining: 0us\n",
      "0:\tlearn: 0.0636773\ttotal: 487us\tremaining: 19ms\n",
      "39:\tlearn: 0.0264776\ttotal: 27.5ms\tremaining: 0us\n",
      "0:\tlearn: 0.0648989\ttotal: 491us\tremaining: 19.2ms\n",
      "39:\tlearn: 0.0284896\ttotal: 31.6ms\tremaining: 0us\n",
      "0:\tlearn: 0.0634687\ttotal: 1.02ms\tremaining: 40ms\n",
      "39:\tlearn: 0.0278558\ttotal: 16.4ms\tremaining: 0us\n",
      "0:\tlearn: 0.0717823\ttotal: 470us\tremaining: 18.4ms\n",
      "39:\tlearn: 0.0306603\ttotal: 9.71ms\tremaining: 0us\n",
      "0:\tlearn: 0.0710442\ttotal: 492us\tremaining: 19.2ms\n",
      "39:\tlearn: 0.0289767\ttotal: 9.88ms\tremaining: 0us\n",
      "0:\tlearn: 0.0713229\ttotal: 652us\tremaining: 25.4ms\n",
      "39:\tlearn: 0.0295174\ttotal: 9.26ms\tremaining: 0us\n",
      "0:\tlearn: 0.0708372\ttotal: 562us\tremaining: 21.9ms\n",
      "39:\tlearn: 0.0308692\ttotal: 14.1ms\tremaining: 0us\n",
      "0:\tlearn: 0.0694631\ttotal: 558us\tremaining: 21.8ms\n",
      "39:\tlearn: 0.0301109\ttotal: 28.6ms\tremaining: 0us\n"
     ]
    },
    {
     "name": "stderr",
     "output_type": "stream",
     "text": [
      "112it [16:28, 11.32s/it]"
     ]
    },
    {
     "name": "stdout",
     "output_type": "stream",
     "text": [
      "0:\tlearn: 0.0395913\ttotal: 449us\tremaining: 17.5ms\n",
      "39:\tlearn: 0.0142399\ttotal: 8.56ms\tremaining: 0us\n",
      "0:\tlearn: 0.0393279\ttotal: 502us\tremaining: 19.6ms\n",
      "39:\tlearn: 0.0149842\ttotal: 8.56ms\tremaining: 0us\n",
      "0:\tlearn: 0.0409457\ttotal: 456us\tremaining: 17.8ms\n",
      "39:\tlearn: 0.0166999\ttotal: 8.7ms\tremaining: 0us\n",
      "0:\tlearn: 0.0408025\ttotal: 526us\tremaining: 20.5ms\n",
      "39:\tlearn: 0.0158378\ttotal: 9.09ms\tremaining: 0us\n",
      "0:\tlearn: 0.0411016\ttotal: 452us\tremaining: 17.7ms\n",
      "39:\tlearn: 0.0180416\ttotal: 30.2ms\tremaining: 0us\n",
      "0:\tlearn: 0.0410759\ttotal: 516us\tremaining: 20.1ms\n",
      "39:\tlearn: 0.0187949\ttotal: 14.3ms\tremaining: 0us\n",
      "0:\tlearn: 0.0461286\ttotal: 531us\tremaining: 20.7ms\n",
      "39:\tlearn: 0.0205644\ttotal: 10ms\tremaining: 0us\n",
      "0:\tlearn: 0.0545988\ttotal: 525us\tremaining: 20.5ms\n",
      "39:\tlearn: 0.0238696\ttotal: 10.3ms\tremaining: 0us\n",
      "0:\tlearn: 0.0540661\ttotal: 461us\tremaining: 18ms\n",
      "39:\tlearn: 0.0270715\ttotal: 12.6ms\tremaining: 0us\n",
      "0:\tlearn: 0.0539657\ttotal: 520us\tremaining: 20.3ms\n",
      "39:\tlearn: 0.0263768\ttotal: 70.3ms\tremaining: 0us\n",
      "0:\tlearn: 0.0530165\ttotal: 461us\tremaining: 18ms\n",
      "39:\tlearn: 0.0245867\ttotal: 9.09ms\tremaining: 0us\n",
      "0:\tlearn: 0.0538301\ttotal: 596us\tremaining: 23.3ms\n",
      "39:\tlearn: 0.0255049\ttotal: 9.55ms\tremaining: 0us\n",
      "0:\tlearn: 0.0541621\ttotal: 577us\tremaining: 22.5ms\n",
      "39:\tlearn: 0.0271803\ttotal: 14.5ms\tremaining: 0us\n"
     ]
    },
    {
     "name": "stderr",
     "output_type": "stream",
     "text": [
      "113it [16:41, 11.73s/it]"
     ]
    },
    {
     "name": "stdout",
     "output_type": "stream",
     "text": [
      "0:\tlearn: 0.0882493\ttotal: 449us\tremaining: 17.5ms\n",
      "39:\tlearn: 0.0324449\ttotal: 7.99ms\tremaining: 0us\n",
      "0:\tlearn: 0.0856420\ttotal: 450us\tremaining: 17.6ms\n",
      "39:\tlearn: 0.0312780\ttotal: 8.56ms\tremaining: 0us\n",
      "0:\tlearn: 0.0863089\ttotal: 564us\tremaining: 22ms\n",
      "39:\tlearn: 0.0280525\ttotal: 38ms\tremaining: 0us\n",
      "0:\tlearn: 0.0861568\ttotal: 446us\tremaining: 17.4ms\n",
      "39:\tlearn: 0.0325974\ttotal: 8.96ms\tremaining: 0us\n",
      "0:\tlearn: 0.0861847\ttotal: 466us\tremaining: 18.2ms\n",
      "39:\tlearn: 0.0346975\ttotal: 10.1ms\tremaining: 0us\n",
      "0:\tlearn: 0.0854466\ttotal: 459us\tremaining: 17.9ms\n",
      "39:\tlearn: 0.0340179\ttotal: 15ms\tremaining: 0us\n",
      "0:\tlearn: 0.0895092\ttotal: 467us\tremaining: 18.2ms\n",
      "39:\tlearn: 0.0390526\ttotal: 31ms\tremaining: 0us\n",
      "0:\tlearn: 0.0944220\ttotal: 550us\tremaining: 21.5ms\n",
      "39:\tlearn: 0.0426487\ttotal: 14.7ms\tremaining: 0us\n",
      "0:\tlearn: 0.0936907\ttotal: 1.25ms\tremaining: 48.7ms\n",
      "39:\tlearn: 0.0430969\ttotal: 196ms\tremaining: 0us\n",
      "0:\tlearn: 0.0924013\ttotal: 709us\tremaining: 27.7ms\n",
      "39:\tlearn: 0.0482690\ttotal: 9.71ms\tremaining: 0us\n",
      "0:\tlearn: 0.0922893\ttotal: 561us\tremaining: 21.9ms\n",
      "39:\tlearn: 0.0430026\ttotal: 12.9ms\tremaining: 0us\n",
      "0:\tlearn: 0.0912610\ttotal: 472us\tremaining: 18.4ms\n",
      "39:\tlearn: 0.0463400\ttotal: 16.6ms\tremaining: 0us\n",
      "0:\tlearn: 0.0899747\ttotal: 556us\tremaining: 21.7ms\n",
      "39:\tlearn: 0.0437363\ttotal: 11.3ms\tremaining: 0us\n"
     ]
    },
    {
     "name": "stderr",
     "output_type": "stream",
     "text": [
      "117it [16:55,  9.23s/it]"
     ]
    },
    {
     "name": "stdout",
     "output_type": "stream",
     "text": [
      "0:\tlearn: 0.0552722\ttotal: 539us\tremaining: 21ms\n",
      "39:\tlearn: 0.0182125\ttotal: 9.93ms\tremaining: 0us\n",
      "0:\tlearn: 0.0560597\ttotal: 497us\tremaining: 19.4ms\n",
      "39:\tlearn: 0.0187537\ttotal: 14.6ms\tremaining: 0us\n",
      "0:\tlearn: 0.0562380\ttotal: 468us\tremaining: 18.3ms\n",
      "39:\tlearn: 0.0185885\ttotal: 13.3ms\tremaining: 0us\n",
      "0:\tlearn: 0.0558259\ttotal: 533us\tremaining: 20.8ms\n",
      "39:\tlearn: 0.0187624\ttotal: 8.76ms\tremaining: 0us\n",
      "0:\tlearn: 0.0551213\ttotal: 461us\tremaining: 18ms\n",
      "39:\tlearn: 0.0196257\ttotal: 14.4ms\tremaining: 0us\n",
      "0:\tlearn: 0.0544757\ttotal: 479us\tremaining: 18.7ms\n",
      "39:\tlearn: 0.0206779\ttotal: 8.78ms\tremaining: 0us\n",
      "0:\tlearn: 0.0580086\ttotal: 497us\tremaining: 19.4ms\n",
      "39:\tlearn: 0.0222869\ttotal: 9.45ms\tremaining: 0us\n",
      "0:\tlearn: 0.0605432\ttotal: 525us\tremaining: 20.5ms\n",
      "39:\tlearn: 0.0225987\ttotal: 14.1ms\tremaining: 0us\n",
      "0:\tlearn: 0.0684938\ttotal: 568us\tremaining: 22.2ms\n",
      "39:\tlearn: 0.0287836\ttotal: 10.2ms\tremaining: 0us\n",
      "0:\tlearn: 0.0704179\ttotal: 638us\tremaining: 24.9ms\n",
      "39:\tlearn: 0.0294782\ttotal: 15.8ms\tremaining: 0us\n",
      "0:\tlearn: 0.0696111\ttotal: 616us\tremaining: 24ms\n",
      "39:\tlearn: 0.0281336\ttotal: 16.2ms\tremaining: 0us\n",
      "0:\tlearn: 0.0692426\ttotal: 532us\tremaining: 20.8ms\n",
      "39:\tlearn: 0.0300187\ttotal: 10.2ms\tremaining: 0us\n",
      "0:\tlearn: 0.0683836\ttotal: 620us\tremaining: 24.2ms\n",
      "39:\tlearn: 0.0284891\ttotal: 12.5ms\tremaining: 0us\n"
     ]
    },
    {
     "name": "stderr",
     "output_type": "stream",
     "text": [
      "118it [17:06,  9.80s/it]"
     ]
    },
    {
     "name": "stdout",
     "output_type": "stream",
     "text": [
      "0:\tlearn: 0.0664173\ttotal: 521us\tremaining: 20.3ms\n",
      "39:\tlearn: 0.0270396\ttotal: 9.38ms\tremaining: 0us\n",
      "0:\tlearn: 0.0647996\ttotal: 475us\tremaining: 18.6ms\n",
      "39:\tlearn: 0.0275707\ttotal: 30.4ms\tremaining: 0us\n",
      "0:\tlearn: 0.0653380\ttotal: 548us\tremaining: 21.4ms\n",
      "39:\tlearn: 0.0255097\ttotal: 28.9ms\tremaining: 0us\n",
      "0:\tlearn: 0.0640476\ttotal: 462us\tremaining: 18ms\n",
      "39:\tlearn: 0.0265807\ttotal: 17.3ms\tremaining: 0us\n",
      "0:\tlearn: 0.0632324\ttotal: 684us\tremaining: 26.7ms\n",
      "39:\tlearn: 0.0287662\ttotal: 22.8ms\tremaining: 0us\n",
      "0:\tlearn: 0.0654998\ttotal: 929us\tremaining: 36.2ms\n",
      "39:\tlearn: 0.0328873\ttotal: 52.1ms\tremaining: 0us\n",
      "0:\tlearn: 0.0687331\ttotal: 583us\tremaining: 22.8ms\n",
      "39:\tlearn: 0.0348767\ttotal: 9.86ms\tremaining: 0us\n",
      "0:\tlearn: 0.0702761\ttotal: 512us\tremaining: 20ms\n",
      "39:\tlearn: 0.0335209\ttotal: 25.7ms\tremaining: 0us\n",
      "0:\tlearn: 0.0712527\ttotal: 555us\tremaining: 21.6ms\n",
      "39:\tlearn: 0.0356624\ttotal: 9.43ms\tremaining: 0us\n",
      "0:\tlearn: 0.0701967\ttotal: 547us\tremaining: 21.3ms\n",
      "39:\tlearn: 0.0337604\ttotal: 138ms\tremaining: 0us\n",
      "0:\tlearn: 0.0699919\ttotal: 572us\tremaining: 22.3ms\n",
      "39:\tlearn: 0.0336789\ttotal: 9.32ms\tremaining: 0us\n",
      "0:\tlearn: 0.0701483\ttotal: 575us\tremaining: 22.4ms\n",
      "39:\tlearn: 0.0327612\ttotal: 9.16ms\tremaining: 0us\n",
      "0:\tlearn: 0.0699846\ttotal: 584us\tremaining: 22.8ms\n",
      "39:\tlearn: 0.0303174\ttotal: 29ms\tremaining: 0us\n"
     ]
    },
    {
     "name": "stderr",
     "output_type": "stream",
     "text": [
      "119it [17:16, 10.03s/it]"
     ]
    },
    {
     "name": "stdout",
     "output_type": "stream",
     "text": [
      "0:\tlearn: 0.0310657\ttotal: 468us\tremaining: 18.3ms\n",
      "39:\tlearn: 0.0082008\ttotal: 50.8ms\tremaining: 0us\n",
      "0:\tlearn: 0.0307815\ttotal: 541us\tremaining: 21.1ms\n",
      "39:\tlearn: 0.0091263\ttotal: 17ms\tremaining: 0us\n",
      "0:\tlearn: 0.0303750\ttotal: 483us\tremaining: 18.8ms\n",
      "39:\tlearn: 0.0090089\ttotal: 15.4ms\tremaining: 0us\n",
      "0:\tlearn: 0.0303497\ttotal: 852us\tremaining: 33.2ms\n",
      "39:\tlearn: 0.0101153\ttotal: 10.6ms\tremaining: 0us\n",
      "0:\tlearn: 0.0357659\ttotal: 450us\tremaining: 17.6ms\n",
      "39:\tlearn: 0.0154606\ttotal: 8.55ms\tremaining: 0us\n",
      "0:\tlearn: 0.0397621\ttotal: 509us\tremaining: 19.9ms\n",
      "39:\tlearn: 0.0118326\ttotal: 9.82ms\tremaining: 0us\n",
      "0:\tlearn: 0.0399374\ttotal: 906us\tremaining: 35.3ms\n",
      "39:\tlearn: 0.0118079\ttotal: 10.5ms\tremaining: 0us\n",
      "0:\tlearn: 0.0418404\ttotal: 464us\tremaining: 18.1ms\n",
      "39:\tlearn: 0.0131087\ttotal: 9.41ms\tremaining: 0us\n",
      "0:\tlearn: 0.0424833\ttotal: 1.02ms\tremaining: 39.7ms\n",
      "39:\tlearn: 0.0132474\ttotal: 25.3ms\tremaining: 0us\n",
      "0:\tlearn: 0.0423490\ttotal: 480us\tremaining: 18.7ms\n",
      "39:\tlearn: 0.0132774\ttotal: 29.4ms\tremaining: 0us\n",
      "0:\tlearn: 0.0438905\ttotal: 540us\tremaining: 21.1ms\n",
      "39:\tlearn: 0.0140958\ttotal: 39.7ms\tremaining: 0us\n",
      "0:\tlearn: 0.0430856\ttotal: 567us\tremaining: 22.1ms\n",
      "39:\tlearn: 0.0126980\ttotal: 14.7ms\tremaining: 0us\n",
      "0:\tlearn: 0.0431102\ttotal: 574us\tremaining: 22.4ms\n",
      "39:\tlearn: 0.0134402\ttotal: 9.77ms\tremaining: 0us\n"
     ]
    },
    {
     "name": "stderr",
     "output_type": "stream",
     "text": [
      "120it [17:27, 10.14s/it]"
     ]
    },
    {
     "name": "stdout",
     "output_type": "stream",
     "text": [
      "0:\tlearn: 0.0292142\ttotal: 1.04ms\tremaining: 40.5ms\n",
      "39:\tlearn: 0.0073492\ttotal: 17ms\tremaining: 0us\n",
      "0:\tlearn: 0.0289218\ttotal: 498us\tremaining: 19.4ms\n",
      "39:\tlearn: 0.0079647\ttotal: 8.87ms\tremaining: 0us\n",
      "0:\tlearn: 0.0284850\ttotal: 535us\tremaining: 20.9ms\n",
      "39:\tlearn: 0.0077157\ttotal: 9.35ms\tremaining: 0us\n",
      "0:\tlearn: 0.0279857\ttotal: 522us\tremaining: 20.4ms\n",
      "39:\tlearn: 0.0081424\ttotal: 9.43ms\tremaining: 0us\n",
      "0:\tlearn: 0.0277877\ttotal: 470us\tremaining: 18.4ms\n",
      "39:\tlearn: 0.0080786\ttotal: 9.42ms\tremaining: 0us\n",
      "0:\tlearn: 0.0283756\ttotal: 508us\tremaining: 19.8ms\n",
      "39:\tlearn: 0.0086462\ttotal: 14.4ms\tremaining: 0us\n",
      "0:\tlearn: 0.0287930\ttotal: 465us\tremaining: 18.1ms\n",
      "39:\tlearn: 0.0086338\ttotal: 8.98ms\tremaining: 0us\n",
      "0:\tlearn: 0.0313759\ttotal: 543us\tremaining: 21.2ms\n",
      "39:\tlearn: 0.0093001\ttotal: 9.18ms\tremaining: 0us\n",
      "0:\tlearn: 0.0322303\ttotal: 457us\tremaining: 17.8ms\n",
      "39:\tlearn: 0.0093047\ttotal: 14.8ms\tremaining: 0us\n",
      "0:\tlearn: 0.0326647\ttotal: 570us\tremaining: 22.3ms\n",
      "39:\tlearn: 0.0096991\ttotal: 8.63ms\tremaining: 0us\n",
      "0:\tlearn: 0.0322946\ttotal: 547us\tremaining: 21.4ms\n",
      "39:\tlearn: 0.0107832\ttotal: 9.28ms\tremaining: 0us\n",
      "0:\tlearn: 0.0318342\ttotal: 562us\tremaining: 22ms\n",
      "39:\tlearn: 0.0102155\ttotal: 14.1ms\tremaining: 0us\n",
      "0:\tlearn: 0.0318589\ttotal: 584us\tremaining: 22.8ms\n",
      "39:\tlearn: 0.0108932\ttotal: 153ms\tremaining: 0us\n"
     ]
    },
    {
     "name": "stderr",
     "output_type": "stream",
     "text": [
      "121it [17:38, 10.39s/it]"
     ]
    },
    {
     "name": "stdout",
     "output_type": "stream",
     "text": [
      "0:\tlearn: 0.0353915\ttotal: 998us\tremaining: 38.9ms\n",
      "39:\tlearn: 0.0121261\ttotal: 8.49ms\tremaining: 0us\n",
      "0:\tlearn: 0.0346665\ttotal: 683us\tremaining: 26.6ms\n",
      "39:\tlearn: 0.0128441\ttotal: 9.52ms\tremaining: 0us\n",
      "0:\tlearn: 0.0343952\ttotal: 487us\tremaining: 19ms\n",
      "39:\tlearn: 0.0117946\ttotal: 33.6ms\tremaining: 0us\n",
      "0:\tlearn: 0.0337085\ttotal: 498us\tremaining: 19.4ms\n",
      "39:\tlearn: 0.0115091\ttotal: 22.7ms\tremaining: 0us\n",
      "0:\tlearn: 0.0335540\ttotal: 578us\tremaining: 22.6ms\n",
      "39:\tlearn: 0.0126138\ttotal: 8.91ms\tremaining: 0us\n",
      "0:\tlearn: 0.0334868\ttotal: 478us\tremaining: 18.7ms\n",
      "39:\tlearn: 0.0127148\ttotal: 10.6ms\tremaining: 0us\n",
      "0:\tlearn: 0.0344268\ttotal: 518us\tremaining: 20.2ms\n",
      "39:\tlearn: 0.0148720\ttotal: 8.81ms\tremaining: 0us\n",
      "0:\tlearn: 0.0355639\ttotal: 529us\tremaining: 20.6ms\n",
      "39:\tlearn: 0.0140745\ttotal: 33.9ms\tremaining: 0us\n",
      "0:\tlearn: 0.0377356\ttotal: 494us\tremaining: 19.3ms\n",
      "39:\tlearn: 0.0143780\ttotal: 9.46ms\tremaining: 0us\n",
      "0:\tlearn: 0.0380686\ttotal: 587us\tremaining: 22.9ms\n",
      "39:\tlearn: 0.0139492\ttotal: 30.2ms\tremaining: 0us\n",
      "0:\tlearn: 0.0370695\ttotal: 581us\tremaining: 22.7ms\n",
      "39:\tlearn: 0.0149325\ttotal: 22.2ms\tremaining: 0us\n",
      "0:\tlearn: 0.0371256\ttotal: 496us\tremaining: 19.4ms\n",
      "39:\tlearn: 0.0142568\ttotal: 14.6ms\tremaining: 0us\n",
      "0:\tlearn: 0.0364669\ttotal: 804us\tremaining: 31.4ms\n",
      "39:\tlearn: 0.0142228\ttotal: 9.43ms\tremaining: 0us\n"
     ]
    },
    {
     "name": "stderr",
     "output_type": "stream",
     "text": [
      "122it [17:48, 10.49s/it]"
     ]
    },
    {
     "name": "stdout",
     "output_type": "stream",
     "text": [
      "0:\tlearn: 0.0586192\ttotal: 445us\tremaining: 17.4ms\n",
      "39:\tlearn: 0.0208156\ttotal: 9.22ms\tremaining: 0us\n",
      "0:\tlearn: 0.0581798\ttotal: 510us\tremaining: 19.9ms\n",
      "39:\tlearn: 0.0219382\ttotal: 9.29ms\tremaining: 0us\n",
      "0:\tlearn: 0.0568856\ttotal: 1.28ms\tremaining: 50.1ms\n",
      "39:\tlearn: 0.0215263\ttotal: 9.24ms\tremaining: 0us\n",
      "0:\tlearn: 0.0571218\ttotal: 506us\tremaining: 19.8ms\n",
      "39:\tlearn: 0.0202454\ttotal: 9.75ms\tremaining: 0us\n",
      "0:\tlearn: 0.0561249\ttotal: 968us\tremaining: 37.8ms\n",
      "39:\tlearn: 0.0203332\ttotal: 18ms\tremaining: 0us\n",
      "0:\tlearn: 0.0583105\ttotal: 490us\tremaining: 19.1ms\n",
      "39:\tlearn: 0.0238891\ttotal: 10.1ms\tremaining: 0us\n",
      "0:\tlearn: 0.0583418\ttotal: 507us\tremaining: 19.8ms\n",
      "39:\tlearn: 0.0244666\ttotal: 9.91ms\tremaining: 0us\n",
      "0:\tlearn: 0.0587598\ttotal: 480us\tremaining: 18.7ms\n",
      "39:\tlearn: 0.0246666\ttotal: 14.3ms\tremaining: 0us\n",
      "0:\tlearn: 0.0653031\ttotal: 1.76ms\tremaining: 68.5ms\n",
      "39:\tlearn: 0.0248323\ttotal: 65.3ms\tremaining: 0us\n",
      "0:\tlearn: 0.0640099\ttotal: 497us\tremaining: 19.4ms\n",
      "39:\tlearn: 0.0272760\ttotal: 12.8ms\tremaining: 0us\n",
      "0:\tlearn: 0.0639673\ttotal: 552us\tremaining: 21.5ms\n",
      "39:\tlearn: 0.0281131\ttotal: 11.1ms\tremaining: 0us\n",
      "0:\tlearn: 0.0633769\ttotal: 440us\tremaining: 17.2ms\n",
      "39:\tlearn: 0.0276460\ttotal: 22.4ms\tremaining: 0us\n",
      "0:\tlearn: 0.0627104\ttotal: 578us\tremaining: 22.6ms\n",
      "39:\tlearn: 0.0275696\ttotal: 8.81ms\tremaining: 0us\n"
     ]
    },
    {
     "name": "stderr",
     "output_type": "stream",
     "text": [
      "123it [17:58, 10.37s/it]"
     ]
    },
    {
     "name": "stdout",
     "output_type": "stream",
     "text": [
      "0:\tlearn: 0.1212213\ttotal: 463us\tremaining: 18.1ms\n",
      "39:\tlearn: 0.0510608\ttotal: 8.79ms\tremaining: 0us\n",
      "0:\tlearn: 0.1169374\ttotal: 540us\tremaining: 21.1ms\n",
      "39:\tlearn: 0.0524240\ttotal: 10.1ms\tremaining: 0us\n",
      "0:\tlearn: 0.1192977\ttotal: 450us\tremaining: 17.6ms\n",
      "39:\tlearn: 0.0522937\ttotal: 45.9ms\tremaining: 0us\n",
      "0:\tlearn: 0.1203710\ttotal: 473us\tremaining: 18.4ms\n",
      "39:\tlearn: 0.0598190\ttotal: 14.5ms\tremaining: 0us\n",
      "0:\tlearn: 0.1210240\ttotal: 508us\tremaining: 19.8ms\n",
      "39:\tlearn: 0.0562972\ttotal: 11.8ms\tremaining: 0us\n",
      "0:\tlearn: 0.1177814\ttotal: 1ms\tremaining: 39.2ms\n",
      "39:\tlearn: 0.0566984\ttotal: 157ms\tremaining: 0us\n",
      "0:\tlearn: 0.1170923\ttotal: 536us\tremaining: 20.9ms\n",
      "39:\tlearn: 0.0614126\ttotal: 16.5ms\tremaining: 0us\n",
      "0:\tlearn: 0.1142889\ttotal: 476us\tremaining: 18.6ms\n",
      "39:\tlearn: 0.0586147\ttotal: 10.3ms\tremaining: 0us\n",
      "0:\tlearn: 0.1135442\ttotal: 475us\tremaining: 18.5ms\n",
      "39:\tlearn: 0.0615506\ttotal: 13.6ms\tremaining: 0us\n",
      "0:\tlearn: 0.1138110\ttotal: 545us\tremaining: 21.3ms\n",
      "39:\tlearn: 0.0592837\ttotal: 10ms\tremaining: 0us\n",
      "0:\tlearn: 0.1148807\ttotal: 495us\tremaining: 19.3ms\n",
      "39:\tlearn: 0.0567521\ttotal: 8.69ms\tremaining: 0us\n",
      "0:\tlearn: 0.1143168\ttotal: 1.32ms\tremaining: 51.4ms\n",
      "39:\tlearn: 0.0610439\ttotal: 53.4ms\tremaining: 0us\n",
      "0:\tlearn: 0.1150170\ttotal: 520us\tremaining: 20.3ms\n",
      "39:\tlearn: 0.0610893\ttotal: 23.6ms\tremaining: 0us\n"
     ]
    },
    {
     "name": "stderr",
     "output_type": "stream",
     "text": [
      "124it [18:11, 10.87s/it]"
     ]
    },
    {
     "name": "stdout",
     "output_type": "stream",
     "text": [
      "0:\tlearn: 0.0465990\ttotal: 521us\tremaining: 20.3ms\n",
      "39:\tlearn: 0.0206487\ttotal: 9.18ms\tremaining: 0us\n",
      "0:\tlearn: 0.0465600\ttotal: 588us\tremaining: 22.9ms\n",
      "39:\tlearn: 0.0208622\ttotal: 8.97ms\tremaining: 0us\n",
      "0:\tlearn: 0.0467354\ttotal: 459us\tremaining: 17.9ms\n",
      "39:\tlearn: 0.0213680\ttotal: 30.1ms\tremaining: 0us\n",
      "0:\tlearn: 0.0450361\ttotal: 513us\tremaining: 20ms\n",
      "39:\tlearn: 0.0229162\ttotal: 16.4ms\tremaining: 0us\n",
      "0:\tlearn: 0.0451963\ttotal: 484us\tremaining: 18.9ms\n",
      "39:\tlearn: 0.0238466\ttotal: 18ms\tremaining: 0us\n",
      "0:\tlearn: 0.0450845\ttotal: 595us\tremaining: 23.2ms\n",
      "39:\tlearn: 0.0235582\ttotal: 25.1ms\tremaining: 0us\n",
      "0:\tlearn: 0.0441821\ttotal: 515us\tremaining: 20.1ms\n",
      "39:\tlearn: 0.0226644\ttotal: 26.5ms\tremaining: 0us\n",
      "0:\tlearn: 0.0504085\ttotal: 469us\tremaining: 18.3ms\n",
      "39:\tlearn: 0.0279141\ttotal: 9.22ms\tremaining: 0us\n",
      "0:\tlearn: 0.0502810\ttotal: 536us\tremaining: 20.9ms\n",
      "39:\tlearn: 0.0258324\ttotal: 13.9ms\tremaining: 0us\n",
      "0:\tlearn: 0.0508677\ttotal: 1.94ms\tremaining: 75.6ms\n",
      "39:\tlearn: 0.0248656\ttotal: 54.6ms\tremaining: 0us\n",
      "0:\tlearn: 0.0512271\ttotal: 538us\tremaining: 21ms\n",
      "39:\tlearn: 0.0254898\ttotal: 15.2ms\tremaining: 0us\n",
      "0:\tlearn: 0.0511942\ttotal: 739us\tremaining: 28.8ms\n",
      "39:\tlearn: 0.0259314\ttotal: 21ms\tremaining: 0us\n",
      "0:\tlearn: 0.0508575\ttotal: 596us\tremaining: 23.3ms\n",
      "39:\tlearn: 0.0278823\ttotal: 12ms\tremaining: 0us\n"
     ]
    },
    {
     "name": "stderr",
     "output_type": "stream",
     "text": [
      "125it [18:21, 10.90s/it]"
     ]
    },
    {
     "name": "stdout",
     "output_type": "stream",
     "text": [
      "0:\tlearn: 0.0349307\ttotal: 465us\tremaining: 18.1ms\n",
      "39:\tlearn: 0.0122387\ttotal: 9.19ms\tremaining: 0us\n",
      "0:\tlearn: 0.0347001\ttotal: 467us\tremaining: 18.2ms\n",
      "39:\tlearn: 0.0134212\ttotal: 8.93ms\tremaining: 0us\n",
      "0:\tlearn: 0.0337776\ttotal: 468us\tremaining: 18.3ms\n",
      "39:\tlearn: 0.0132648\ttotal: 37.9ms\tremaining: 0us\n",
      "0:\tlearn: 0.0335821\ttotal: 488us\tremaining: 19.1ms\n",
      "39:\tlearn: 0.0134265\ttotal: 37.9ms\tremaining: 0us\n",
      "0:\tlearn: 0.0336898\ttotal: 498us\tremaining: 19.5ms\n",
      "39:\tlearn: 0.0137600\ttotal: 29.2ms\tremaining: 0us\n",
      "0:\tlearn: 0.0334316\ttotal: 499us\tremaining: 19.5ms\n",
      "39:\tlearn: 0.0134698\ttotal: 15.4ms\tremaining: 0us\n",
      "0:\tlearn: 0.0335367\ttotal: 534us\tremaining: 20.9ms\n",
      "39:\tlearn: 0.0137813\ttotal: 9.46ms\tremaining: 0us\n",
      "0:\tlearn: 0.0393198\ttotal: 468us\tremaining: 18.3ms\n",
      "39:\tlearn: 0.0177204\ttotal: 9.04ms\tremaining: 0us\n",
      "0:\tlearn: 0.0396110\ttotal: 453us\tremaining: 17.7ms\n",
      "39:\tlearn: 0.0173387\ttotal: 8.94ms\tremaining: 0us\n",
      "0:\tlearn: 0.0433217\ttotal: 421us\tremaining: 16.4ms\n",
      "39:\tlearn: 0.0173766\ttotal: 8.81ms\tremaining: 0us\n",
      "0:\tlearn: 0.0428100\ttotal: 572us\tremaining: 22.3ms\n",
      "39:\tlearn: 0.0164700\ttotal: 42.1ms\tremaining: 0us\n",
      "0:\tlearn: 0.0437872\ttotal: 587us\tremaining: 22.9ms\n",
      "39:\tlearn: 0.0159928\ttotal: 30.2ms\tremaining: 0us\n",
      "0:\tlearn: 0.0436099\ttotal: 573us\tremaining: 22.4ms\n",
      "39:\tlearn: 0.0167722\ttotal: 14.4ms\tremaining: 0us\n"
     ]
    },
    {
     "name": "stderr",
     "output_type": "stream",
     "text": [
      "126it [18:32, 10.79s/it]"
     ]
    },
    {
     "name": "stdout",
     "output_type": "stream",
     "text": [
      "0:\tlearn: 0.1106734\ttotal: 457us\tremaining: 17.8ms\n",
      "39:\tlearn: 0.0491766\ttotal: 8.02ms\tremaining: 0us\n",
      "0:\tlearn: 0.1089749\ttotal: 464us\tremaining: 18.1ms\n",
      "39:\tlearn: 0.0546556\ttotal: 8.11ms\tremaining: 0us\n",
      "0:\tlearn: 0.1081297\ttotal: 776us\tremaining: 30.3ms\n",
      "39:\tlearn: 0.0527196\ttotal: 39.8ms\tremaining: 0us\n",
      "0:\tlearn: 0.1051002\ttotal: 511us\tremaining: 20ms\n",
      "39:\tlearn: 0.0576224\ttotal: 9.11ms\tremaining: 0us\n",
      "0:\tlearn: 0.1035499\ttotal: 448us\tremaining: 17.5ms\n",
      "39:\tlearn: 0.0531835\ttotal: 8.74ms\tremaining: 0us\n",
      "0:\tlearn: 0.1035754\ttotal: 450us\tremaining: 17.6ms\n",
      "39:\tlearn: 0.0541497\ttotal: 13.7ms\tremaining: 0us\n",
      "0:\tlearn: 0.1107917\ttotal: 470us\tremaining: 18.3ms\n",
      "39:\tlearn: 0.0578279\ttotal: 11ms\tremaining: 0us\n",
      "0:\tlearn: 0.1095134\ttotal: 448us\tremaining: 17.5ms\n",
      "39:\tlearn: 0.0543721\ttotal: 9.96ms\tremaining: 0us\n",
      "0:\tlearn: 0.1084992\ttotal: 509us\tremaining: 19.9ms\n",
      "39:\tlearn: 0.0652737\ttotal: 39.1ms\tremaining: 0us\n",
      "0:\tlearn: 0.1092433\ttotal: 546us\tremaining: 21.3ms\n",
      "39:\tlearn: 0.0626598\ttotal: 48.2ms\tremaining: 0us\n",
      "0:\tlearn: 0.1092908\ttotal: 531us\tremaining: 20.7ms\n",
      "39:\tlearn: 0.0645812\ttotal: 41.9ms\tremaining: 0us\n",
      "0:\tlearn: 0.1103741\ttotal: 545us\tremaining: 21.3ms\n",
      "39:\tlearn: 0.0633688\ttotal: 13.1ms\tremaining: 0us\n",
      "0:\tlearn: 0.1106525\ttotal: 599us\tremaining: 23.4ms\n",
      "39:\tlearn: 0.0705157\ttotal: 22.1ms\tremaining: 0us\n"
     ]
    },
    {
     "name": "stderr",
     "output_type": "stream",
     "text": [
      "127it [18:42, 10.66s/it]"
     ]
    },
    {
     "name": "stdout",
     "output_type": "stream",
     "text": [
      "0:\tlearn: 0.0501272\ttotal: 408us\tremaining: 15.9ms\n",
      "39:\tlearn: 0.0154667\ttotal: 25ms\tremaining: 0us\n",
      "0:\tlearn: 0.0524218\ttotal: 497us\tremaining: 19.4ms\n",
      "39:\tlearn: 0.0160184\ttotal: 14.2ms\tremaining: 0us\n",
      "0:\tlearn: 0.0524730\ttotal: 490us\tremaining: 19.1ms\n",
      "39:\tlearn: 0.0157849\ttotal: 46.6ms\tremaining: 0us\n",
      "0:\tlearn: 0.0521358\ttotal: 460us\tremaining: 18ms\n",
      "39:\tlearn: 0.0176531\ttotal: 9.07ms\tremaining: 0us\n",
      "0:\tlearn: 0.0519700\ttotal: 491us\tremaining: 19.1ms\n",
      "39:\tlearn: 0.0174479\ttotal: 11.2ms\tremaining: 0us\n",
      "0:\tlearn: 0.0542570\ttotal: 548us\tremaining: 21.4ms\n",
      "39:\tlearn: 0.0225201\ttotal: 32.6ms\tremaining: 0us\n",
      "0:\tlearn: 0.0540929\ttotal: 802us\tremaining: 31.3ms\n",
      "39:\tlearn: 0.0208965\ttotal: 12ms\tremaining: 0us\n",
      "0:\tlearn: 0.0543982\ttotal: 578us\tremaining: 22.6ms\n",
      "39:\tlearn: 0.0233587\ttotal: 13.3ms\tremaining: 0us\n",
      "0:\tlearn: 0.0570253\ttotal: 478us\tremaining: 18.6ms\n",
      "39:\tlearn: 0.0235480\ttotal: 9.48ms\tremaining: 0us\n",
      "0:\tlearn: 0.0572324\ttotal: 543us\tremaining: 21.2ms\n",
      "39:\tlearn: 0.0223836\ttotal: 26.1ms\tremaining: 0us\n",
      "0:\tlearn: 0.0561699\ttotal: 586us\tremaining: 22.9ms\n",
      "39:\tlearn: 0.0229462\ttotal: 10.5ms\tremaining: 0us\n",
      "0:\tlearn: 0.0572397\ttotal: 1.29ms\tremaining: 50.2ms\n",
      "39:\tlearn: 0.0218275\ttotal: 11.7ms\tremaining: 0us\n",
      "0:\tlearn: 0.0565244\ttotal: 469us\tremaining: 18.3ms\n",
      "39:\tlearn: 0.0245482\ttotal: 9.07ms\tremaining: 0us\n"
     ]
    },
    {
     "name": "stderr",
     "output_type": "stream",
     "text": [
      "128it [18:57, 11.77s/it]"
     ]
    },
    {
     "name": "stdout",
     "output_type": "stream",
     "text": [
      "0:\tlearn: 0.0471576\ttotal: 639us\tremaining: 24.9ms\n",
      "39:\tlearn: 0.0167200\ttotal: 8.38ms\tremaining: 0us\n",
      "0:\tlearn: 0.0463507\ttotal: 462us\tremaining: 18ms\n",
      "39:\tlearn: 0.0175201\ttotal: 14.1ms\tremaining: 0us\n",
      "0:\tlearn: 0.0473110\ttotal: 802us\tremaining: 31.3ms\n",
      "39:\tlearn: 0.0169122\ttotal: 9.17ms\tremaining: 0us\n",
      "0:\tlearn: 0.0473596\ttotal: 548us\tremaining: 21.4ms\n",
      "39:\tlearn: 0.0194121\ttotal: 9.14ms\tremaining: 0us\n",
      "0:\tlearn: 0.0482095\ttotal: 533us\tremaining: 20.8ms\n",
      "39:\tlearn: 0.0199723\ttotal: 31.7ms\tremaining: 0us\n",
      "0:\tlearn: 0.0524757\ttotal: 533us\tremaining: 20.8ms\n",
      "39:\tlearn: 0.0225162\ttotal: 10.7ms\tremaining: 0us\n",
      "0:\tlearn: 0.0520568\ttotal: 892us\tremaining: 34.8ms\n",
      "39:\tlearn: 0.0209102\ttotal: 11.9ms\tremaining: 0us\n",
      "0:\tlearn: 0.0528473\ttotal: 475us\tremaining: 18.5ms\n",
      "39:\tlearn: 0.0206405\ttotal: 14.5ms\tremaining: 0us\n",
      "0:\tlearn: 0.0526862\ttotal: 544us\tremaining: 21.2ms\n",
      "39:\tlearn: 0.0224577\ttotal: 9.14ms\tremaining: 0us\n",
      "0:\tlearn: 0.0513328\ttotal: 611us\tremaining: 23.8ms\n",
      "39:\tlearn: 0.0215902\ttotal: 9.46ms\tremaining: 0us\n",
      "0:\tlearn: 0.0506996\ttotal: 615us\tremaining: 24ms\n",
      "39:\tlearn: 0.0219756\ttotal: 9ms\tremaining: 0us\n",
      "0:\tlearn: 0.0509194\ttotal: 564us\tremaining: 22ms\n",
      "39:\tlearn: 0.0205597\ttotal: 10.1ms\tremaining: 0us\n",
      "0:\tlearn: 0.0499831\ttotal: 582us\tremaining: 22.7ms\n",
      "39:\tlearn: 0.0242775\ttotal: 9.63ms\tremaining: 0us\n"
     ]
    },
    {
     "name": "stderr",
     "output_type": "stream",
     "text": [
      "129it [19:08, 11.53s/it]"
     ]
    },
    {
     "name": "stdout",
     "output_type": "stream",
     "text": [
      "0:\tlearn: 0.1305681\ttotal: 468us\tremaining: 18.3ms\n",
      "39:\tlearn: 0.0517613\ttotal: 7.63ms\tremaining: 0us\n",
      "0:\tlearn: 0.1253569\ttotal: 466us\tremaining: 18.2ms\n",
      "39:\tlearn: 0.0470206\ttotal: 8.2ms\tremaining: 0us\n",
      "0:\tlearn: 0.1234379\ttotal: 1.21ms\tremaining: 47.1ms\n",
      "39:\tlearn: 0.0508799\ttotal: 71.1ms\tremaining: 0us\n",
      "0:\tlearn: 0.1249148\ttotal: 435us\tremaining: 17ms\n",
      "39:\tlearn: 0.0598526\ttotal: 8.29ms\tremaining: 0us\n",
      "0:\tlearn: 0.1233795\ttotal: 466us\tremaining: 18.2ms\n",
      "39:\tlearn: 0.0586741\ttotal: 9.99ms\tremaining: 0us\n",
      "0:\tlearn: 0.1244528\ttotal: 704us\tremaining: 27.5ms\n",
      "39:\tlearn: 0.0558086\ttotal: 14.2ms\tremaining: 0us\n",
      "0:\tlearn: 0.1224689\ttotal: 465us\tremaining: 18.2ms\n",
      "39:\tlearn: 0.0652120\ttotal: 9.02ms\tremaining: 0us\n",
      "0:\tlearn: 0.1216021\ttotal: 1.21ms\tremaining: 47.2ms\n",
      "39:\tlearn: 0.0596637\ttotal: 16.9ms\tremaining: 0us\n",
      "0:\tlearn: 0.1341352\ttotal: 539us\tremaining: 21.1ms\n",
      "39:\tlearn: 0.0585740\ttotal: 19.8ms\tremaining: 0us\n",
      "0:\tlearn: 0.1343907\ttotal: 437us\tremaining: 17.1ms\n",
      "39:\tlearn: 0.0575640\ttotal: 12.8ms\tremaining: 0us\n",
      "0:\tlearn: 0.1314299\ttotal: 480us\tremaining: 18.7ms\n",
      "39:\tlearn: 0.0554888\ttotal: 8.28ms\tremaining: 0us\n",
      "0:\tlearn: 0.1304804\ttotal: 485us\tremaining: 18.9ms\n",
      "39:\tlearn: 0.0564662\ttotal: 25.8ms\tremaining: 0us\n",
      "0:\tlearn: 0.1310208\ttotal: 445us\tremaining: 17.4ms\n",
      "39:\tlearn: 0.0566157\ttotal: 41.6ms\tremaining: 0us\n"
     ]
    },
    {
     "name": "stderr",
     "output_type": "stream",
     "text": [
      "130it [19:19, 11.39s/it]"
     ]
    },
    {
     "name": "stdout",
     "output_type": "stream",
     "text": [
      "0:\tlearn: 0.0730689\ttotal: 490us\tremaining: 19.1ms\n",
      "39:\tlearn: 0.0323792\ttotal: 8.08ms\tremaining: 0us\n",
      "0:\tlearn: 0.0718013\ttotal: 520us\tremaining: 20.3ms\n",
      "39:\tlearn: 0.0303149\ttotal: 22.5ms\tremaining: 0us\n",
      "0:\tlearn: 0.0749348\ttotal: 442us\tremaining: 17.3ms\n",
      "39:\tlearn: 0.0345253\ttotal: 8.96ms\tremaining: 0us\n",
      "0:\tlearn: 0.0750583\ttotal: 521us\tremaining: 20.3ms\n",
      "39:\tlearn: 0.0370155\ttotal: 17.9ms\tremaining: 0us\n",
      "0:\tlearn: 0.1118544\ttotal: 468us\tremaining: 18.3ms\n",
      "39:\tlearn: 0.0568633\ttotal: 9.93ms\tremaining: 0us\n",
      "0:\tlearn: 0.1102063\ttotal: 497us\tremaining: 19.4ms\n",
      "39:\tlearn: 0.0542334\ttotal: 14.9ms\tremaining: 0us\n",
      "0:\tlearn: 0.1129743\ttotal: 1.5ms\tremaining: 58.4ms\n",
      "39:\tlearn: 0.0581452\ttotal: 161ms\tremaining: 0us\n",
      "0:\tlearn: 0.1140947\ttotal: 484us\tremaining: 18.9ms\n",
      "39:\tlearn: 0.0560893\ttotal: 10ms\tremaining: 0us\n",
      "0:\tlearn: 0.1128665\ttotal: 582us\tremaining: 22.7ms\n",
      "39:\tlearn: 0.0568915\ttotal: 48.2ms\tremaining: 0us\n",
      "0:\tlearn: 0.1159435\ttotal: 571us\tremaining: 22.3ms\n",
      "39:\tlearn: 0.0627203\ttotal: 14.3ms\tremaining: 0us\n",
      "0:\tlearn: 0.1180279\ttotal: 554us\tremaining: 21.6ms\n",
      "39:\tlearn: 0.0694958\ttotal: 9.28ms\tremaining: 0us\n",
      "0:\tlearn: 0.1174397\ttotal: 464us\tremaining: 18.1ms\n",
      "39:\tlearn: 0.0667418\ttotal: 19ms\tremaining: 0us\n"
     ]
    },
    {
     "name": "stderr",
     "output_type": "stream",
     "text": [
      "131it [19:29, 11.03s/it]"
     ]
    },
    {
     "name": "stdout",
     "output_type": "stream",
     "text": [
      "0:\tlearn: 0.0309528\ttotal: 479us\tremaining: 18.7ms\n",
      "39:\tlearn: 0.0141992\ttotal: 8.14ms\tremaining: 0us\n",
      "0:\tlearn: 0.0322308\ttotal: 515us\tremaining: 20.1ms\n",
      "39:\tlearn: 0.0146595\ttotal: 23.4ms\tremaining: 0us\n",
      "0:\tlearn: 0.0340539\ttotal: 452us\tremaining: 17.7ms\n",
      "39:\tlearn: 0.0157733\ttotal: 38.3ms\tremaining: 0us\n",
      "0:\tlearn: 0.0402295\ttotal: 538us\tremaining: 21ms\n",
      "39:\tlearn: 0.0180500\ttotal: 14.3ms\tremaining: 0us\n",
      "0:\tlearn: 0.0928824\ttotal: 491us\tremaining: 19.2ms\n",
      "39:\tlearn: 0.0424979\ttotal: 15.2ms\tremaining: 0us\n",
      "0:\tlearn: 0.0908825\ttotal: 480us\tremaining: 18.7ms\n",
      "39:\tlearn: 0.0482206\ttotal: 12.2ms\tremaining: 0us\n",
      "0:\tlearn: 0.0910960\ttotal: 445us\tremaining: 17.4ms\n",
      "39:\tlearn: 0.0413482\ttotal: 14ms\tremaining: 0us\n",
      "0:\tlearn: 0.0912956\ttotal: 518us\tremaining: 20.2ms\n",
      "39:\tlearn: 0.0476976\ttotal: 9.21ms\tremaining: 0us\n",
      "0:\tlearn: 0.0895376\ttotal: 508us\tremaining: 19.8ms\n",
      "39:\tlearn: 0.0425792\ttotal: 9.26ms\tremaining: 0us\n",
      "0:\tlearn: 0.0887387\ttotal: 598us\tremaining: 23.3ms\n",
      "39:\tlearn: 0.0418850\ttotal: 10.2ms\tremaining: 0us\n",
      "0:\tlearn: 0.0869035\ttotal: 476us\tremaining: 18.6ms\n",
      "39:\tlearn: 0.0452897\ttotal: 9.33ms\tremaining: 0us\n",
      "0:\tlearn: 0.0854606\ttotal: 554us\tremaining: 21.6ms\n",
      "39:\tlearn: 0.0483019\ttotal: 25ms\tremaining: 0us\n",
      "0:\tlearn: 0.0868154\ttotal: 741us\tremaining: 28.9ms\n",
      "39:\tlearn: 0.0423428\ttotal: 14.8ms\tremaining: 0us\n"
     ]
    },
    {
     "name": "stderr",
     "output_type": "stream",
     "text": [
      "132it [19:40, 10.94s/it]"
     ]
    },
    {
     "name": "stdout",
     "output_type": "stream",
     "text": [
      "0:\tlearn: 0.0609116\ttotal: 467us\tremaining: 18.2ms\n",
      "39:\tlearn: 0.0261285\ttotal: 31.7ms\tremaining: 0us\n",
      "0:\tlearn: 0.0591737\ttotal: 483us\tremaining: 18.9ms\n",
      "39:\tlearn: 0.0293083\ttotal: 87.1ms\tremaining: 0us\n",
      "0:\tlearn: 0.0599363\ttotal: 464us\tremaining: 18.1ms\n",
      "39:\tlearn: 0.0261301\ttotal: 20.3ms\tremaining: 0us\n",
      "0:\tlearn: 0.0584874\ttotal: 497us\tremaining: 19.4ms\n",
      "39:\tlearn: 0.0281110\ttotal: 8.48ms\tremaining: 0us\n",
      "0:\tlearn: 0.0619658\ttotal: 471us\tremaining: 18.4ms\n",
      "39:\tlearn: 0.0285408\ttotal: 8.55ms\tremaining: 0us\n",
      "0:\tlearn: 0.0666260\ttotal: 509us\tremaining: 19.9ms\n",
      "39:\tlearn: 0.0321255\ttotal: 16.2ms\tremaining: 0us\n",
      "0:\tlearn: 0.0670193\ttotal: 1ms\tremaining: 39.2ms\n",
      "39:\tlearn: 0.0352250\ttotal: 31.9ms\tremaining: 0us\n",
      "0:\tlearn: 0.0697684\ttotal: 541us\tremaining: 21.1ms\n",
      "39:\tlearn: 0.0345930\ttotal: 9.18ms\tremaining: 0us\n",
      "0:\tlearn: 0.0713443\ttotal: 467us\tremaining: 18.2ms\n",
      "39:\tlearn: 0.0366691\ttotal: 33.8ms\tremaining: 0us\n",
      "0:\tlearn: 0.0718663\ttotal: 554us\tremaining: 21.6ms\n",
      "39:\tlearn: 0.0343086\ttotal: 8.82ms\tremaining: 0us\n",
      "0:\tlearn: 0.0732581\ttotal: 577us\tremaining: 22.5ms\n",
      "39:\tlearn: 0.0400205\ttotal: 21.9ms\tremaining: 0us\n",
      "0:\tlearn: 0.0731603\ttotal: 540us\tremaining: 21.1ms\n",
      "39:\tlearn: 0.0356439\ttotal: 9.72ms\tremaining: 0us\n"
     ]
    },
    {
     "name": "stderr",
     "output_type": "stream",
     "text": [
      "133it [19:49, 10.51s/it]"
     ]
    },
    {
     "name": "stdout",
     "output_type": "stream",
     "text": [
      "0:\tlearn: 0.1092247\ttotal: 493us\tremaining: 19.2ms\n",
      "39:\tlearn: 0.0480799\ttotal: 24.9ms\tremaining: 0us\n",
      "0:\tlearn: 0.1067674\ttotal: 463us\tremaining: 18.1ms\n",
      "39:\tlearn: 0.0491296\ttotal: 18.2ms\tremaining: 0us\n",
      "0:\tlearn: 0.1055835\ttotal: 439us\tremaining: 17.1ms\n",
      "39:\tlearn: 0.0502607\ttotal: 103ms\tremaining: 0us\n",
      "0:\tlearn: 0.1038581\ttotal: 489us\tremaining: 19.1ms\n",
      "39:\tlearn: 0.0530040\ttotal: 9.04ms\tremaining: 0us\n",
      "0:\tlearn: 0.1022335\ttotal: 2.03ms\tremaining: 79.2ms\n",
      "39:\tlearn: 0.0460003\ttotal: 39.9ms\tremaining: 0us\n",
      "0:\tlearn: 0.1009357\ttotal: 553us\tremaining: 21.6ms\n",
      "39:\tlearn: 0.0478409\ttotal: 10.9ms\tremaining: 0us\n",
      "0:\tlearn: 0.1019099\ttotal: 555us\tremaining: 21.7ms\n",
      "39:\tlearn: 0.0462972\ttotal: 15.2ms\tremaining: 0us\n",
      "0:\tlearn: 0.1032107\ttotal: 457us\tremaining: 17.9ms\n",
      "39:\tlearn: 0.0467018\ttotal: 8.57ms\tremaining: 0us\n",
      "0:\tlearn: 0.1026297\ttotal: 507us\tremaining: 19.8ms\n",
      "39:\tlearn: 0.0486682\ttotal: 12.9ms\tremaining: 0us\n",
      "0:\tlearn: 0.1020171\ttotal: 605us\tremaining: 23.6ms\n",
      "39:\tlearn: 0.0481306\ttotal: 10.7ms\tremaining: 0us\n",
      "0:\tlearn: 0.1019889\ttotal: 550us\tremaining: 21.5ms\n",
      "39:\tlearn: 0.0515077\ttotal: 24.9ms\tremaining: 0us\n",
      "0:\tlearn: 0.0995408\ttotal: 480us\tremaining: 18.7ms\n",
      "39:\tlearn: 0.0486186\ttotal: 13ms\tremaining: 332us\n",
      "0:\tlearn: 0.1005946\ttotal: 588us\tremaining: 23ms\n",
      "39:\tlearn: 0.0515065\ttotal: 10.2ms\tremaining: 0us\n"
     ]
    },
    {
     "name": "stderr",
     "output_type": "stream",
     "text": [
      "134it [20:00, 10.72s/it]"
     ]
    },
    {
     "name": "stdout",
     "output_type": "stream",
     "text": [
      "0:\tlearn: 0.0856040\ttotal: 432us\tremaining: 16.9ms\n",
      "39:\tlearn: 0.0323859\ttotal: 14.1ms\tremaining: 0us\n",
      "0:\tlearn: 0.0844325\ttotal: 545us\tremaining: 21.3ms\n",
      "39:\tlearn: 0.0392689\ttotal: 9.88ms\tremaining: 0us\n",
      "0:\tlearn: 0.0828248\ttotal: 477us\tremaining: 18.6ms\n",
      "39:\tlearn: 0.0406105\ttotal: 14.9ms\tremaining: 0us\n",
      "0:\tlearn: 0.0824539\ttotal: 505us\tremaining: 19.7ms\n",
      "39:\tlearn: 0.0398987\ttotal: 15.3ms\tremaining: 0us\n",
      "0:\tlearn: 0.0806789\ttotal: 499us\tremaining: 19.5ms\n",
      "39:\tlearn: 0.0336335\ttotal: 10ms\tremaining: 0us\n",
      "0:\tlearn: 0.0817607\ttotal: 529us\tremaining: 20.6ms\n",
      "39:\tlearn: 0.0378394\ttotal: 15.8ms\tremaining: 0us\n",
      "0:\tlearn: 0.0801591\ttotal: 1ms\tremaining: 39ms\n",
      "39:\tlearn: 0.0398285\ttotal: 22.7ms\tremaining: 0us\n",
      "0:\tlearn: 0.0792797\ttotal: 1.35ms\tremaining: 52.7ms\n",
      "39:\tlearn: 0.0362335\ttotal: 146ms\tremaining: 0us\n",
      "0:\tlearn: 0.0799188\ttotal: 509us\tremaining: 19.9ms\n",
      "39:\tlearn: 0.0375825\ttotal: 10.4ms\tremaining: 0us\n",
      "0:\tlearn: 0.0823741\ttotal: 551us\tremaining: 21.5ms\n",
      "39:\tlearn: 0.0424621\ttotal: 73.3ms\tremaining: 0us\n",
      "0:\tlearn: 0.0815637\ttotal: 541us\tremaining: 21.1ms\n",
      "39:\tlearn: 0.0387796\ttotal: 15ms\tremaining: 0us\n",
      "0:\tlearn: 0.0799610\ttotal: 1.21ms\tremaining: 47.2ms\n",
      "39:\tlearn: 0.0401054\ttotal: 11.7ms\tremaining: 0us\n",
      "0:\tlearn: 0.0801654\ttotal: 541us\tremaining: 21.1ms\n",
      "39:\tlearn: 0.0413914\ttotal: 91.7ms\tremaining: 0us\n"
     ]
    },
    {
     "name": "stderr",
     "output_type": "stream",
     "text": [
      "135it [20:12, 10.92s/it]"
     ]
    },
    {
     "name": "stdout",
     "output_type": "stream",
     "text": [
      "0:\tlearn: 0.1711263\ttotal: 494us\tremaining: 19.3ms\n",
      "39:\tlearn: 0.0774133\ttotal: 15.8ms\tremaining: 0us\n",
      "0:\tlearn: 0.1698808\ttotal: 432us\tremaining: 16.9ms\n",
      "39:\tlearn: 0.0902053\ttotal: 14.5ms\tremaining: 0us\n",
      "0:\tlearn: 0.1639878\ttotal: 766us\tremaining: 29.9ms\n",
      "39:\tlearn: 0.0732602\ttotal: 11.7ms\tremaining: 0us\n",
      "0:\tlearn: 0.1618308\ttotal: 551us\tremaining: 21.5ms\n",
      "39:\tlearn: 0.0789671\ttotal: 13ms\tremaining: 0us\n",
      "0:\tlearn: 0.1623925\ttotal: 505us\tremaining: 19.7ms\n",
      "39:\tlearn: 0.0837550\ttotal: 8.67ms\tremaining: 0us\n",
      "0:\tlearn: 0.1641771\ttotal: 519us\tremaining: 20.3ms\n",
      "39:\tlearn: 0.0786588\ttotal: 8.38ms\tremaining: 0us\n",
      "0:\tlearn: 0.1609248\ttotal: 453us\tremaining: 17.7ms\n",
      "39:\tlearn: 0.0891984\ttotal: 10.4ms\tremaining: 0us\n",
      "0:\tlearn: 0.1590789\ttotal: 515us\tremaining: 20.1ms\n",
      "39:\tlearn: 0.0843297\ttotal: 39.6ms\tremaining: 0us\n",
      "0:\tlearn: 0.1548406\ttotal: 503us\tremaining: 19.6ms\n",
      "39:\tlearn: 0.0807572\ttotal: 15ms\tremaining: 0us\n",
      "0:\tlearn: 0.1559768\ttotal: 491us\tremaining: 19.2ms\n",
      "39:\tlearn: 0.0819535\ttotal: 8.52ms\tremaining: 0us\n",
      "0:\tlearn: 0.1522340\ttotal: 624us\tremaining: 24.3ms\n",
      "39:\tlearn: 0.0864014\ttotal: 11.4ms\tremaining: 0us\n",
      "0:\tlearn: 0.1511429\ttotal: 680us\tremaining: 26.5ms\n",
      "39:\tlearn: 0.0910941\ttotal: 30.6ms\tremaining: 0us\n",
      "0:\tlearn: 0.1507667\ttotal: 452us\tremaining: 17.7ms\n",
      "39:\tlearn: 0.0836083\ttotal: 14.5ms\tremaining: 0us\n"
     ]
    },
    {
     "name": "stderr",
     "output_type": "stream",
     "text": [
      "136it [20:23, 10.98s/it]"
     ]
    },
    {
     "name": "stdout",
     "output_type": "stream",
     "text": [
      "0:\tlearn: 0.0431694\ttotal: 430us\tremaining: 16.8ms\n",
      "39:\tlearn: 0.0116065\ttotal: 8.03ms\tremaining: 0us\n",
      "0:\tlearn: 0.0414483\ttotal: 1ms\tremaining: 39.2ms\n",
      "39:\tlearn: 0.0122256\ttotal: 31.7ms\tremaining: 0us\n",
      "0:\tlearn: 0.0424042\ttotal: 717us\tremaining: 28ms\n",
      "39:\tlearn: 0.0141816\ttotal: 9.61ms\tremaining: 0us\n",
      "0:\tlearn: 0.0421931\ttotal: 442us\tremaining: 17.2ms\n",
      "39:\tlearn: 0.0145832\ttotal: 8.69ms\tremaining: 0us\n",
      "0:\tlearn: 0.0410807\ttotal: 486us\tremaining: 19ms\n",
      "39:\tlearn: 0.0137291\ttotal: 9.01ms\tremaining: 0us\n",
      "0:\tlearn: 0.0443760\ttotal: 496us\tremaining: 19.4ms\n",
      "39:\tlearn: 0.0168875\ttotal: 15.2ms\tremaining: 0us\n",
      "0:\tlearn: 0.0458016\ttotal: 454us\tremaining: 17.7ms\n",
      "39:\tlearn: 0.0158259\ttotal: 16ms\tremaining: 0us\n",
      "0:\tlearn: 0.0470390\ttotal: 492us\tremaining: 19.2ms\n",
      "39:\tlearn: 0.0174327\ttotal: 9.67ms\tremaining: 0us\n",
      "0:\tlearn: 0.0486273\ttotal: 473us\tremaining: 18.5ms\n",
      "39:\tlearn: 0.0171180\ttotal: 10.8ms\tremaining: 0us\n",
      "0:\tlearn: 0.0478131\ttotal: 517us\tremaining: 20.2ms\n",
      "39:\tlearn: 0.0170009\ttotal: 10.3ms\tremaining: 0us\n",
      "0:\tlearn: 0.0477193\ttotal: 657us\tremaining: 25.6ms\n",
      "39:\tlearn: 0.0163586\ttotal: 44.7ms\tremaining: 0us\n",
      "0:\tlearn: 0.0466105\ttotal: 616us\tremaining: 24ms\n",
      "39:\tlearn: 0.0169278\ttotal: 15.6ms\tremaining: 0us\n",
      "0:\tlearn: 0.0465181\ttotal: 527us\tremaining: 20.6ms\n",
      "39:\tlearn: 0.0174583\ttotal: 46.4ms\tremaining: 0us\n"
     ]
    },
    {
     "name": "stderr",
     "output_type": "stream",
     "text": [
      "137it [20:34, 10.95s/it]"
     ]
    },
    {
     "name": "stdout",
     "output_type": "stream",
     "text": [
      "0:\tlearn: 0.0956670\ttotal: 450us\tremaining: 17.6ms\n",
      "39:\tlearn: 0.0471107\ttotal: 7.49ms\tremaining: 0us\n",
      "0:\tlearn: 0.0937348\ttotal: 478us\tremaining: 18.7ms\n",
      "39:\tlearn: 0.0516074\ttotal: 9.41ms\tremaining: 0us\n",
      "0:\tlearn: 0.0899418\ttotal: 426us\tremaining: 16.6ms\n",
      "39:\tlearn: 0.0504760\ttotal: 8.15ms\tremaining: 0us\n",
      "0:\tlearn: 0.1022725\ttotal: 468us\tremaining: 18.3ms\n",
      "39:\tlearn: 0.0543809\ttotal: 8.67ms\tremaining: 0us\n",
      "0:\tlearn: 0.0993787\ttotal: 468us\tremaining: 18.3ms\n",
      "39:\tlearn: 0.0599138\ttotal: 18.4ms\tremaining: 0us\n",
      "0:\tlearn: 0.1001943\ttotal: 450us\tremaining: 17.6ms\n",
      "39:\tlearn: 0.0538748\ttotal: 54.2ms\tremaining: 0us\n",
      "0:\tlearn: 0.0994342\ttotal: 540us\tremaining: 21.1ms\n",
      "39:\tlearn: 0.0534306\ttotal: 9.06ms\tremaining: 0us\n",
      "0:\tlearn: 0.1016178\ttotal: 517us\tremaining: 20.2ms\n",
      "39:\tlearn: 0.0535735\ttotal: 51.2ms\tremaining: 0us\n",
      "0:\tlearn: 0.0988501\ttotal: 475us\tremaining: 18.6ms\n",
      "39:\tlearn: 0.0532759\ttotal: 8.92ms\tremaining: 0us\n",
      "0:\tlearn: 0.0997505\ttotal: 498us\tremaining: 19.5ms\n",
      "39:\tlearn: 0.0566522\ttotal: 12ms\tremaining: 0us\n",
      "0:\tlearn: 0.0979549\ttotal: 645us\tremaining: 25.2ms\n",
      "39:\tlearn: 0.0488060\ttotal: 10.1ms\tremaining: 0us\n",
      "0:\tlearn: 0.0975428\ttotal: 486us\tremaining: 19ms\n",
      "39:\tlearn: 0.0558092\ttotal: 14.1ms\tremaining: 0us\n",
      "0:\tlearn: 0.0963514\ttotal: 512us\tremaining: 20ms\n",
      "39:\tlearn: 0.0565160\ttotal: 21.1ms\tremaining: 0us\n"
     ]
    },
    {
     "name": "stderr",
     "output_type": "stream",
     "text": [
      "138it [20:45, 11.09s/it]"
     ]
    },
    {
     "name": "stdout",
     "output_type": "stream",
     "text": [
      "0:\tlearn: 0.1066165\ttotal: 423us\tremaining: 16.5ms\n",
      "39:\tlearn: 0.0555254\ttotal: 13.3ms\tremaining: 0us\n",
      "0:\tlearn: 0.1050748\ttotal: 1.36ms\tremaining: 53.1ms\n",
      "39:\tlearn: 0.0599266\ttotal: 9.88ms\tremaining: 0us\n",
      "0:\tlearn: 0.1036870\ttotal: 519us\tremaining: 20.3ms\n",
      "39:\tlearn: 0.0554570\ttotal: 28.7ms\tremaining: 0us\n",
      "0:\tlearn: 0.1009437\ttotal: 479us\tremaining: 18.7ms\n",
      "39:\tlearn: 0.0523740\ttotal: 14.4ms\tremaining: 0us\n",
      "0:\tlearn: 0.1002045\ttotal: 481us\tremaining: 18.8ms\n",
      "39:\tlearn: 0.0587807\ttotal: 13.8ms\tremaining: 0us\n",
      "0:\tlearn: 0.0970014\ttotal: 507us\tremaining: 19.8ms\n",
      "39:\tlearn: 0.0547946\ttotal: 10.7ms\tremaining: 0us\n",
      "0:\tlearn: 0.1068249\ttotal: 573us\tremaining: 22.4ms\n",
      "39:\tlearn: 0.0654738\ttotal: 28.6ms\tremaining: 0us\n",
      "0:\tlearn: 0.1092159\ttotal: 480us\tremaining: 18.7ms\n",
      "39:\tlearn: 0.0672710\ttotal: 20.5ms\tremaining: 0us\n",
      "0:\tlearn: 0.1248795\ttotal: 540us\tremaining: 21.1ms\n",
      "39:\tlearn: 0.0674832\ttotal: 38.9ms\tremaining: 0us\n",
      "0:\tlearn: 0.1238778\ttotal: 526us\tremaining: 20.5ms\n",
      "39:\tlearn: 0.0744171\ttotal: 11.1ms\tremaining: 0us\n",
      "0:\tlearn: 0.1261164\ttotal: 538us\tremaining: 21ms\n",
      "39:\tlearn: 0.0720332\ttotal: 8.76ms\tremaining: 0us\n",
      "0:\tlearn: 0.1222527\ttotal: 1.31ms\tremaining: 51ms\n",
      "39:\tlearn: 0.0748536\ttotal: 9.89ms\tremaining: 0us\n",
      "0:\tlearn: 0.1208551\ttotal: 467us\tremaining: 18.2ms\n",
      "39:\tlearn: 0.0735389\ttotal: 8.6ms\tremaining: 0us\n"
     ]
    },
    {
     "name": "stderr",
     "output_type": "stream",
     "text": [
      "139it [20:56, 11.09s/it]"
     ]
    },
    {
     "name": "stdout",
     "output_type": "stream",
     "text": [
      "0:\tlearn: 0.0416351\ttotal: 456us\tremaining: 17.8ms\n",
      "39:\tlearn: 0.0136048\ttotal: 9.7ms\tremaining: 0us\n",
      "0:\tlearn: 0.0410076\ttotal: 506us\tremaining: 19.8ms\n",
      "39:\tlearn: 0.0151181\ttotal: 9.31ms\tremaining: 0us\n",
      "0:\tlearn: 0.0407066\ttotal: 599us\tremaining: 23.4ms\n",
      "39:\tlearn: 0.0148454\ttotal: 14.7ms\tremaining: 0us\n",
      "0:\tlearn: 0.0406856\ttotal: 454us\tremaining: 17.7ms\n",
      "39:\tlearn: 0.0155578\ttotal: 10ms\tremaining: 0us\n",
      "0:\tlearn: 0.0404861\ttotal: 458us\tremaining: 17.9ms\n",
      "39:\tlearn: 0.0158474\ttotal: 47.6ms\tremaining: 0us\n",
      "0:\tlearn: 0.0397678\ttotal: 488us\tremaining: 19ms\n",
      "39:\tlearn: 0.0158181\ttotal: 9.11ms\tremaining: 0us\n",
      "0:\tlearn: 0.0391376\ttotal: 590us\tremaining: 23ms\n",
      "39:\tlearn: 0.0156267\ttotal: 10.3ms\tremaining: 0us\n",
      "0:\tlearn: 0.0428925\ttotal: 523us\tremaining: 20.4ms\n",
      "39:\tlearn: 0.0182970\ttotal: 28.8ms\tremaining: 0us\n",
      "0:\tlearn: 0.0425418\ttotal: 536us\tremaining: 20.9ms\n",
      "39:\tlearn: 0.0192716\ttotal: 11.7ms\tremaining: 0us\n",
      "0:\tlearn: 0.0419447\ttotal: 663us\tremaining: 25.9ms\n",
      "39:\tlearn: 0.0191796\ttotal: 16.6ms\tremaining: 0us\n",
      "0:\tlearn: 0.0423655\ttotal: 604us\tremaining: 23.6ms\n",
      "39:\tlearn: 0.0201719\ttotal: 13.6ms\tremaining: 0us\n",
      "0:\tlearn: 0.0426523\ttotal: 709us\tremaining: 27.7ms\n",
      "39:\tlearn: 0.0209929\ttotal: 11.7ms\tremaining: 0us\n",
      "0:\tlearn: 0.0426691\ttotal: 615us\tremaining: 24ms\n",
      "39:\tlearn: 0.0230561\ttotal: 21.5ms\tremaining: 0us\n"
     ]
    },
    {
     "name": "stderr",
     "output_type": "stream",
     "text": [
      "140it [21:07, 10.86s/it]"
     ]
    },
    {
     "name": "stdout",
     "output_type": "stream",
     "text": [
      "0:\tlearn: 0.0479287\ttotal: 495us\tremaining: 19.3ms\n",
      "39:\tlearn: 0.0175852\ttotal: 16ms\tremaining: 0us\n",
      "0:\tlearn: 0.0477628\ttotal: 482us\tremaining: 18.8ms\n",
      "39:\tlearn: 0.0209624\ttotal: 11.4ms\tremaining: 0us\n",
      "0:\tlearn: 0.0475649\ttotal: 570us\tremaining: 22.3ms\n",
      "39:\tlearn: 0.0214621\ttotal: 9.08ms\tremaining: 0us\n",
      "0:\tlearn: 0.0469224\ttotal: 485us\tremaining: 18.9ms\n",
      "39:\tlearn: 0.0215492\ttotal: 42.1ms\tremaining: 0us\n",
      "0:\tlearn: 0.0465561\ttotal: 457us\tremaining: 17.8ms\n",
      "39:\tlearn: 0.0221472\ttotal: 14.9ms\tremaining: 0us\n",
      "0:\tlearn: 0.0493968\ttotal: 453us\tremaining: 17.7ms\n",
      "39:\tlearn: 0.0218926\ttotal: 27.6ms\tremaining: 0us\n",
      "0:\tlearn: 0.0494785\ttotal: 498us\tremaining: 19.4ms\n",
      "39:\tlearn: 0.0212310\ttotal: 10.1ms\tremaining: 0us\n",
      "0:\tlearn: 0.0645645\ttotal: 443us\tremaining: 17.3ms\n",
      "39:\tlearn: 0.0328786\ttotal: 14.4ms\tremaining: 0us\n",
      "0:\tlearn: 0.0630497\ttotal: 499us\tremaining: 19.5ms\n",
      "39:\tlearn: 0.0302927\ttotal: 19.1ms\tremaining: 0us\n",
      "0:\tlearn: 0.0703104\ttotal: 536us\tremaining: 20.9ms\n",
      "39:\tlearn: 0.0323964\ttotal: 8.79ms\tremaining: 0us\n",
      "0:\tlearn: 0.0700360\ttotal: 521us\tremaining: 20.3ms\n",
      "39:\tlearn: 0.0304152\ttotal: 9.94ms\tremaining: 0us\n",
      "0:\tlearn: 0.0687188\ttotal: 604us\tremaining: 23.6ms\n",
      "39:\tlearn: 0.0326372\ttotal: 9.09ms\tremaining: 0us\n",
      "0:\tlearn: 0.0675330\ttotal: 482us\tremaining: 18.8ms\n",
      "39:\tlearn: 0.0317625\ttotal: 9.13ms\tremaining: 0us\n"
     ]
    },
    {
     "name": "stderr",
     "output_type": "stream",
     "text": [
      "141it [21:18, 11.02s/it]"
     ]
    },
    {
     "name": "stdout",
     "output_type": "stream",
     "text": [
      "0:\tlearn: 0.0671681\ttotal: 523us\tremaining: 20.4ms\n",
      "39:\tlearn: 0.0316566\ttotal: 8.26ms\tremaining: 0us\n",
      "0:\tlearn: 0.0655031\ttotal: 471us\tremaining: 18.4ms\n",
      "39:\tlearn: 0.0330276\ttotal: 9.64ms\tremaining: 0us\n",
      "0:\tlearn: 0.0657904\ttotal: 573us\tremaining: 22.4ms\n",
      "39:\tlearn: 0.0326785\ttotal: 16.5ms\tremaining: 0us\n",
      "0:\tlearn: 0.0633202\ttotal: 506us\tremaining: 19.7ms\n",
      "39:\tlearn: 0.0318354\ttotal: 21.7ms\tremaining: 0us\n",
      "0:\tlearn: 0.0623460\ttotal: 465us\tremaining: 18.2ms\n",
      "39:\tlearn: 0.0302374\ttotal: 10.5ms\tremaining: 0us\n",
      "0:\tlearn: 0.0613943\ttotal: 585us\tremaining: 22.8ms\n",
      "39:\tlearn: 0.0286747\ttotal: 38ms\tremaining: 0us\n",
      "0:\tlearn: 0.0618773\ttotal: 460us\tremaining: 18ms\n",
      "39:\tlearn: 0.0338433\ttotal: 15ms\tremaining: 0us\n",
      "0:\tlearn: 0.0642150\ttotal: 501us\tremaining: 19.5ms\n",
      "39:\tlearn: 0.0357800\ttotal: 16.7ms\tremaining: 0us\n",
      "0:\tlearn: 0.0629191\ttotal: 449us\tremaining: 17.5ms\n",
      "39:\tlearn: 0.0344588\ttotal: 10.8ms\tremaining: 0us\n",
      "0:\tlearn: 0.0793070\ttotal: 574us\tremaining: 22.4ms\n",
      "39:\tlearn: 0.0377056\ttotal: 8.15ms\tremaining: 208us\n",
      "0:\tlearn: 0.0765932\ttotal: 433us\tremaining: 16.9ms\n",
      "39:\tlearn: 0.0358483\ttotal: 9.03ms\tremaining: 0us\n",
      "0:\tlearn: 0.0805146\ttotal: 450us\tremaining: 17.6ms\n",
      "39:\tlearn: 0.0402816\ttotal: 8.66ms\tremaining: 0us\n",
      "0:\tlearn: 0.0796140\ttotal: 532us\tremaining: 20.8ms\n",
      "39:\tlearn: 0.0432270\ttotal: 10.1ms\tremaining: 0us\n"
     ]
    },
    {
     "name": "stderr",
     "output_type": "stream",
     "text": [
      "142it [21:28, 10.77s/it]"
     ]
    },
    {
     "name": "stdout",
     "output_type": "stream",
     "text": [
      "0:\tlearn: 0.1622412\ttotal: 486us\tremaining: 19ms\n",
      "39:\tlearn: 0.0499649\ttotal: 8.05ms\tremaining: 0us\n",
      "0:\tlearn: 0.1612698\ttotal: 508us\tremaining: 19.8ms\n",
      "39:\tlearn: 0.0528857\ttotal: 8.82ms\tremaining: 0us\n",
      "0:\tlearn: 0.1611690\ttotal: 438us\tremaining: 17.1ms\n",
      "39:\tlearn: 0.0541271\ttotal: 14.9ms\tremaining: 0us\n",
      "0:\tlearn: 0.1638029\ttotal: 515us\tremaining: 20.1ms\n",
      "39:\tlearn: 0.0540662\ttotal: 15.1ms\tremaining: 0us\n",
      "0:\tlearn: 0.1585599\ttotal: 485us\tremaining: 18.9ms\n",
      "39:\tlearn: 0.0510482\ttotal: 11.5ms\tremaining: 0us\n",
      "0:\tlearn: 0.1579931\ttotal: 491us\tremaining: 19.2ms\n",
      "39:\tlearn: 0.0567278\ttotal: 53.8ms\tremaining: 0us\n",
      "0:\tlearn: 0.1569755\ttotal: 496us\tremaining: 19.3ms\n",
      "39:\tlearn: 0.0571305\ttotal: 36.3ms\tremaining: 0us\n",
      "0:\tlearn: 0.1619453\ttotal: 482us\tremaining: 18.8ms\n",
      "39:\tlearn: 0.0659278\ttotal: 16.3ms\tremaining: 0us\n",
      "0:\tlearn: 0.1715192\ttotal: 844us\tremaining: 32.9ms\n",
      "39:\tlearn: 0.0726070\ttotal: 10.6ms\tremaining: 0us\n",
      "0:\tlearn: 0.1773515\ttotal: 571us\tremaining: 22.3ms\n",
      "39:\tlearn: 0.0750672\ttotal: 14.9ms\tremaining: 0us\n",
      "0:\tlearn: 0.1873814\ttotal: 533us\tremaining: 20.8ms\n",
      "39:\tlearn: 0.0737418\ttotal: 14.2ms\tremaining: 0us\n",
      "0:\tlearn: 0.1863992\ttotal: 524us\tremaining: 20.5ms\n",
      "39:\tlearn: 0.0717634\ttotal: 10.5ms\tremaining: 0us\n"
     ]
    },
    {
     "name": "stderr",
     "output_type": "stream",
     "text": [
      "143it [21:38, 10.48s/it]"
     ]
    },
    {
     "name": "stdout",
     "output_type": "stream",
     "text": [
      "0:\tlearn: 0.0319644\ttotal: 439us\tremaining: 17.1ms\n",
      "39:\tlearn: 0.0128530\ttotal: 8.34ms\tremaining: 0us\n",
      "0:\tlearn: 0.0317684\ttotal: 503us\tremaining: 19.6ms\n",
      "39:\tlearn: 0.0114313\ttotal: 28.1ms\tremaining: 0us\n",
      "0:\tlearn: 0.0317811\ttotal: 505us\tremaining: 19.7ms\n",
      "39:\tlearn: 0.0121088\ttotal: 12.7ms\tremaining: 0us\n",
      "0:\tlearn: 0.0313372\ttotal: 448us\tremaining: 17.5ms\n",
      "39:\tlearn: 0.0114787\ttotal: 8.57ms\tremaining: 0us\n",
      "0:\tlearn: 0.0307804\ttotal: 447us\tremaining: 17.5ms\n",
      "39:\tlearn: 0.0124059\ttotal: 25.7ms\tremaining: 0us\n",
      "0:\tlearn: 0.0305756\ttotal: 524us\tremaining: 20.5ms\n",
      "39:\tlearn: 0.0122554\ttotal: 9.02ms\tremaining: 0us\n",
      "0:\tlearn: 0.0314706\ttotal: 510us\tremaining: 19.9ms\n",
      "39:\tlearn: 0.0126700\ttotal: 10.6ms\tremaining: 0us\n",
      "0:\tlearn: 0.0341493\ttotal: 461us\tremaining: 18ms\n",
      "39:\tlearn: 0.0136317\ttotal: 19.4ms\tremaining: 0us\n",
      "0:\tlearn: 0.0335835\ttotal: 527us\tremaining: 20.6ms\n",
      "39:\tlearn: 0.0128572\ttotal: 32.6ms\tremaining: 0us\n",
      "0:\tlearn: 0.0339244\ttotal: 547us\tremaining: 21.3ms\n",
      "39:\tlearn: 0.0136122\ttotal: 9.84ms\tremaining: 0us\n",
      "0:\tlearn: 0.0333949\ttotal: 565us\tremaining: 22.1ms\n",
      "39:\tlearn: 0.0127242\ttotal: 9.68ms\tremaining: 0us\n",
      "0:\tlearn: 0.0335775\ttotal: 540us\tremaining: 21.1ms\n",
      "39:\tlearn: 0.0135322\ttotal: 28.9ms\tremaining: 0us\n",
      "0:\tlearn: 0.0343019\ttotal: 484us\tremaining: 18.9ms\n",
      "39:\tlearn: 0.0135537\ttotal: 9.32ms\tremaining: 0us\n"
     ]
    },
    {
     "name": "stderr",
     "output_type": "stream",
     "text": [
      "144it [21:49, 10.55s/it]"
     ]
    },
    {
     "name": "stdout",
     "output_type": "stream",
     "text": [
      "0:\tlearn: 0.0347581\ttotal: 529us\tremaining: 20.6ms\n",
      "39:\tlearn: 0.0111406\ttotal: 13.5ms\tremaining: 0us\n",
      "0:\tlearn: 0.0350741\ttotal: 522us\tremaining: 20.4ms\n",
      "39:\tlearn: 0.0119140\ttotal: 10.9ms\tremaining: 0us\n",
      "0:\tlearn: 0.0355498\ttotal: 528us\tremaining: 20.6ms\n",
      "39:\tlearn: 0.0112738\ttotal: 31.1ms\tremaining: 0us\n",
      "0:\tlearn: 0.0357539\ttotal: 470us\tremaining: 18.3ms\n",
      "39:\tlearn: 0.0118334\ttotal: 9.72ms\tremaining: 0us\n",
      "0:\tlearn: 0.0360842\ttotal: 455us\tremaining: 17.8ms\n",
      "39:\tlearn: 0.0130353\ttotal: 13.2ms\tremaining: 0us\n",
      "0:\tlearn: 0.0357356\ttotal: 458us\tremaining: 17.9ms\n",
      "39:\tlearn: 0.0118818\ttotal: 10.3ms\tremaining: 0us\n",
      "0:\tlearn: 0.0356672\ttotal: 440us\tremaining: 17.2ms\n",
      "39:\tlearn: 0.0144219\ttotal: 9.29ms\tremaining: 0us\n",
      "0:\tlearn: 0.0363208\ttotal: 465us\tremaining: 18.1ms\n",
      "39:\tlearn: 0.0140819\ttotal: 54ms\tremaining: 0us\n",
      "0:\tlearn: 0.0363206\ttotal: 493us\tremaining: 19.3ms\n",
      "39:\tlearn: 0.0131327\ttotal: 9.37ms\tremaining: 0us\n",
      "0:\tlearn: 0.0360529\ttotal: 497us\tremaining: 19.4ms\n",
      "39:\tlearn: 0.0134060\ttotal: 32.4ms\tremaining: 0us\n",
      "0:\tlearn: 0.0359064\ttotal: 550us\tremaining: 21.5ms\n",
      "39:\tlearn: 0.0139742\ttotal: 9.16ms\tremaining: 0us\n",
      "0:\tlearn: 0.0365209\ttotal: 572us\tremaining: 22.3ms\n",
      "39:\tlearn: 0.0132865\ttotal: 27.6ms\tremaining: 0us\n",
      "0:\tlearn: 0.0374655\ttotal: 562us\tremaining: 21.9ms\n",
      "39:\tlearn: 0.0129489\ttotal: 20.8ms\tremaining: 0us\n"
     ]
    },
    {
     "name": "stderr",
     "output_type": "stream",
     "text": [
      "145it [21:59, 10.53s/it]"
     ]
    },
    {
     "name": "stdout",
     "output_type": "stream",
     "text": [
      "0:\tlearn: 0.0541932\ttotal: 510us\tremaining: 19.9ms\n",
      "39:\tlearn: 0.0225604\ttotal: 9.03ms\tremaining: 0us\n",
      "0:\tlearn: 0.0533610\ttotal: 481us\tremaining: 18.8ms\n",
      "39:\tlearn: 0.0225256\ttotal: 14.3ms\tremaining: 0us\n",
      "0:\tlearn: 0.0524220\ttotal: 456us\tremaining: 17.8ms\n",
      "39:\tlearn: 0.0237365\ttotal: 14.2ms\tremaining: 0us\n",
      "0:\tlearn: 0.0519139\ttotal: 561us\tremaining: 21.9ms\n",
      "39:\tlearn: 0.0233260\ttotal: 33.7ms\tremaining: 0us\n",
      "0:\tlearn: 0.0508976\ttotal: 515us\tremaining: 20.1ms\n",
      "39:\tlearn: 0.0229453\ttotal: 21.2ms\tremaining: 0us\n",
      "0:\tlearn: 0.0566203\ttotal: 569us\tremaining: 22.2ms\n",
      "39:\tlearn: 0.0255783\ttotal: 24.3ms\tremaining: 0us\n",
      "0:\tlearn: 0.0636620\ttotal: 492us\tremaining: 19.2ms\n",
      "39:\tlearn: 0.0255874\ttotal: 10.1ms\tremaining: 0us\n",
      "0:\tlearn: 0.0631120\ttotal: 577us\tremaining: 22.5ms\n",
      "39:\tlearn: 0.0253919\ttotal: 15.8ms\tremaining: 0us\n",
      "0:\tlearn: 0.0640462\ttotal: 537us\tremaining: 21ms\n",
      "39:\tlearn: 0.0248045\ttotal: 12.2ms\tremaining: 0us\n",
      "0:\tlearn: 0.0620993\ttotal: 541us\tremaining: 21.1ms\n",
      "39:\tlearn: 0.0223956\ttotal: 29.1ms\tremaining: 0us\n",
      "0:\tlearn: 0.0620774\ttotal: 604us\tremaining: 23.6ms\n",
      "39:\tlearn: 0.0253413\ttotal: 13.8ms\tremaining: 0us\n",
      "0:\tlearn: 0.0625180\ttotal: 581us\tremaining: 22.7ms\n",
      "39:\tlearn: 0.0254956\ttotal: 51ms\tremaining: 0us\n",
      "0:\tlearn: 0.0604562\ttotal: 598us\tremaining: 23.3ms\n",
      "39:\tlearn: 0.0250785\ttotal: 9.07ms\tremaining: 0us\n"
     ]
    },
    {
     "name": "stderr",
     "output_type": "stream",
     "text": [
      "146it [22:09, 10.43s/it]"
     ]
    },
    {
     "name": "stdout",
     "output_type": "stream",
     "text": [
      "0:\tlearn: 0.0791231\ttotal: 465us\tremaining: 18.2ms\n",
      "39:\tlearn: 0.0568078\ttotal: 39.5ms\tremaining: 0us\n",
      "0:\tlearn: 0.0787742\ttotal: 1.88ms\tremaining: 73.2ms\n",
      "39:\tlearn: 0.0563666\ttotal: 14.3ms\tremaining: 0us\n",
      "0:\tlearn: 0.0792682\ttotal: 497us\tremaining: 19.4ms\n",
      "39:\tlearn: 0.0547015\ttotal: 8.68ms\tremaining: 0us\n",
      "0:\tlearn: 0.0787437\ttotal: 762us\tremaining: 29.7ms\n",
      "39:\tlearn: 0.0548355\ttotal: 110ms\tremaining: 0us\n",
      "0:\tlearn: 0.0775097\ttotal: 541us\tremaining: 21.1ms\n",
      "39:\tlearn: 0.0444394\ttotal: 29.5ms\tremaining: 0us\n",
      "0:\tlearn: 0.0763353\ttotal: 1.37ms\tremaining: 53.5ms\n",
      "39:\tlearn: 0.0520924\ttotal: 24.6ms\tremaining: 0us\n",
      "0:\tlearn: 0.0751719\ttotal: 571us\tremaining: 22.3ms\n",
      "39:\tlearn: 0.0523546\ttotal: 27.9ms\tremaining: 0us\n",
      "0:\tlearn: 0.0831852\ttotal: 497us\tremaining: 19.4ms\n",
      "39:\tlearn: 0.0555073\ttotal: 57.2ms\tremaining: 0us\n",
      "0:\tlearn: 0.0933277\ttotal: 1.34ms\tremaining: 52.1ms\n",
      "39:\tlearn: 0.0547282\ttotal: 28.5ms\tremaining: 0us\n",
      "0:\tlearn: 0.0908342\ttotal: 480us\tremaining: 18.7ms\n",
      "39:\tlearn: 0.0512945\ttotal: 27.5ms\tremaining: 0us\n",
      "0:\tlearn: 0.0923056\ttotal: 463us\tremaining: 18.1ms\n",
      "39:\tlearn: 0.0562607\ttotal: 26.5ms\tremaining: 0us\n",
      "0:\tlearn: 0.0916730\ttotal: 471us\tremaining: 18.4ms\n",
      "39:\tlearn: 0.0545836\ttotal: 82.2ms\tremaining: 0us\n",
      "0:\tlearn: 0.0893644\ttotal: 452us\tremaining: 17.6ms\n",
      "39:\tlearn: 0.0575835\ttotal: 27.6ms\tremaining: 0us\n"
     ]
    },
    {
     "name": "stderr",
     "output_type": "stream",
     "text": [
      "147it [22:20, 10.46s/it]"
     ]
    },
    {
     "name": "stdout",
     "output_type": "stream",
     "text": [
      "0:\tlearn: 0.0914209\ttotal: 472us\tremaining: 18.4ms\n",
      "39:\tlearn: 0.0379728\ttotal: 14ms\tremaining: 0us\n",
      "0:\tlearn: 0.0966545\ttotal: 480us\tremaining: 18.8ms\n",
      "39:\tlearn: 0.0390480\ttotal: 19.8ms\tremaining: 0us\n",
      "0:\tlearn: 0.1004852\ttotal: 2.56ms\tremaining: 100ms\n",
      "39:\tlearn: 0.0429456\ttotal: 109ms\tremaining: 0us\n",
      "0:\tlearn: 0.1046446\ttotal: 780us\tremaining: 30.4ms\n",
      "39:\tlearn: 0.0446494\ttotal: 59.2ms\tremaining: 0us\n",
      "0:\tlearn: 0.1120780\ttotal: 469us\tremaining: 18.3ms\n",
      "39:\tlearn: 0.0533706\ttotal: 11.9ms\tremaining: 0us\n",
      "0:\tlearn: 0.1135615\ttotal: 538us\tremaining: 21ms\n",
      "39:\tlearn: 0.0540598\ttotal: 115ms\tremaining: 0us\n",
      "0:\tlearn: 0.1184538\ttotal: 491us\tremaining: 19.2ms\n",
      "39:\tlearn: 0.0491009\ttotal: 52.2ms\tremaining: 0us\n",
      "0:\tlearn: 0.1269007\ttotal: 489us\tremaining: 19.1ms\n",
      "39:\tlearn: 0.0515133\ttotal: 160ms\tremaining: 0us\n",
      "0:\tlearn: 0.1253073\ttotal: 1.22ms\tremaining: 47.5ms\n",
      "39:\tlearn: 0.0559102\ttotal: 65.6ms\tremaining: 0us\n",
      "0:\tlearn: 0.1305042\ttotal: 795us\tremaining: 31ms\n",
      "39:\tlearn: 0.0595953\ttotal: 52.6ms\tremaining: 0us\n",
      "0:\tlearn: 0.1297057\ttotal: 1.06ms\tremaining: 41.4ms\n",
      "39:\tlearn: 0.0601841\ttotal: 63.1ms\tremaining: 0us\n",
      "0:\tlearn: 0.1271239\ttotal: 853us\tremaining: 33.3ms\n",
      "39:\tlearn: 0.0629679\ttotal: 17.3ms\tremaining: 0us\n",
      "0:\tlearn: 0.1272579\ttotal: 582us\tremaining: 22.7ms\n",
      "39:\tlearn: 0.0581403\ttotal: 34.6ms\tremaining: 0us\n"
     ]
    },
    {
     "name": "stderr",
     "output_type": "stream",
     "text": [
      "148it [22:31, 10.77s/it]"
     ]
    },
    {
     "name": "stdout",
     "output_type": "stream",
     "text": [
      "0:\tlearn: 0.0610283\ttotal: 528us\tremaining: 20.6ms\n",
      "39:\tlearn: 0.0258875\ttotal: 8.54ms\tremaining: 0us\n",
      "0:\tlearn: 0.0596715\ttotal: 463us\tremaining: 18.1ms\n",
      "39:\tlearn: 0.0281481\ttotal: 14.4ms\tremaining: 0us\n",
      "0:\tlearn: 0.0590483\ttotal: 485us\tremaining: 18.9ms\n",
      "39:\tlearn: 0.0272327\ttotal: 8.68ms\tremaining: 0us\n",
      "0:\tlearn: 0.0587537\ttotal: 503us\tremaining: 19.6ms\n",
      "39:\tlearn: 0.0261246\ttotal: 8.95ms\tremaining: 0us\n",
      "0:\tlearn: 0.0595141\ttotal: 473us\tremaining: 18.5ms\n",
      "39:\tlearn: 0.0300454\ttotal: 8.94ms\tremaining: 0us\n",
      "0:\tlearn: 0.0614015\ttotal: 486us\tremaining: 19ms\n",
      "39:\tlearn: 0.0304972\ttotal: 9.11ms\tremaining: 0us\n",
      "0:\tlearn: 0.0667955\ttotal: 478us\tremaining: 18.7ms\n",
      "39:\tlearn: 0.0330227\ttotal: 11.2ms\tremaining: 0us\n",
      "0:\tlearn: 0.0656535\ttotal: 502us\tremaining: 19.6ms\n",
      "39:\tlearn: 0.0303928\ttotal: 15.7ms\tremaining: 0us\n",
      "0:\tlearn: 0.0679020\ttotal: 454us\tremaining: 17.7ms\n",
      "39:\tlearn: 0.0331733\ttotal: 9.11ms\tremaining: 0us\n",
      "0:\tlearn: 0.0664506\ttotal: 547us\tremaining: 21.4ms\n",
      "39:\tlearn: 0.0296685\ttotal: 14.2ms\tremaining: 0us\n",
      "0:\tlearn: 0.0659645\ttotal: 595us\tremaining: 23.2ms\n",
      "39:\tlearn: 0.0326719\ttotal: 8.96ms\tremaining: 0us\n",
      "0:\tlearn: 0.0647548\ttotal: 469us\tremaining: 18.3ms\n",
      "39:\tlearn: 0.0322824\ttotal: 9.12ms\tremaining: 0us\n",
      "0:\tlearn: 0.0636502\ttotal: 558us\tremaining: 21.8ms\n",
      "39:\tlearn: 0.0333835\ttotal: 9.43ms\tremaining: 0us\n"
     ]
    },
    {
     "name": "stderr",
     "output_type": "stream",
     "text": [
      "149it [22:43, 11.14s/it]"
     ]
    },
    {
     "name": "stdout",
     "output_type": "stream",
     "text": [
      "0:\tlearn: 0.1724809\ttotal: 507us\tremaining: 19.8ms\n",
      "39:\tlearn: 0.0596480\ttotal: 8.3ms\tremaining: 0us\n",
      "0:\tlearn: 0.1825389\ttotal: 588us\tremaining: 23ms\n",
      "39:\tlearn: 0.0735730\ttotal: 9.17ms\tremaining: 0us\n",
      "0:\tlearn: 0.1712495\ttotal: 467us\tremaining: 18.2ms\n",
      "39:\tlearn: 0.0666768\ttotal: 8.89ms\tremaining: 0us\n",
      "0:\tlearn: 0.1733977\ttotal: 478us\tremaining: 18.7ms\n",
      "39:\tlearn: 0.0710757\ttotal: 9.57ms\tremaining: 0us\n",
      "0:\tlearn: 0.1720572\ttotal: 467us\tremaining: 18.2ms\n",
      "39:\tlearn: 0.0730853\ttotal: 13.9ms\tremaining: 0us\n",
      "0:\tlearn: 0.1704409\ttotal: 534us\tremaining: 20.8ms\n",
      "39:\tlearn: 0.0820308\ttotal: 40.3ms\tremaining: 0us\n",
      "0:\tlearn: 0.1702216\ttotal: 461us\tremaining: 18ms\n",
      "39:\tlearn: 0.0932694\ttotal: 19.8ms\tremaining: 0us\n",
      "0:\tlearn: 0.1678814\ttotal: 447us\tremaining: 17.5ms\n",
      "39:\tlearn: 0.0927975\ttotal: 8.61ms\tremaining: 0us\n",
      "0:\tlearn: 0.1675791\ttotal: 455us\tremaining: 17.7ms\n",
      "39:\tlearn: 0.0959010\ttotal: 14.5ms\tremaining: 0us\n",
      "0:\tlearn: 0.1730108\ttotal: 512us\tremaining: 20ms\n",
      "39:\tlearn: 0.1161122\ttotal: 9.75ms\tremaining: 0us\n",
      "0:\tlearn: 0.1748348\ttotal: 571us\tremaining: 22.3ms\n",
      "39:\tlearn: 0.1008305\ttotal: 10ms\tremaining: 0us\n",
      "0:\tlearn: 0.1714246\ttotal: 470us\tremaining: 18.3ms\n",
      "39:\tlearn: 0.1103184\ttotal: 9.61ms\tremaining: 0us\n",
      "0:\tlearn: 0.1704875\ttotal: 540us\tremaining: 21.1ms\n",
      "39:\tlearn: 0.1081047\ttotal: 14.2ms\tremaining: 0us\n"
     ]
    },
    {
     "name": "stderr",
     "output_type": "stream",
     "text": [
      "150it [22:54, 10.91s/it]"
     ]
    },
    {
     "name": "stdout",
     "output_type": "stream",
     "text": [
      "0:\tlearn: 0.1531794\ttotal: 443us\tremaining: 17.3ms\n",
      "39:\tlearn: 0.0787377\ttotal: 7.91ms\tremaining: 0us\n",
      "0:\tlearn: 0.1497651\ttotal: 1.31ms\tremaining: 51.1ms\n",
      "39:\tlearn: 0.0745726\ttotal: 9.72ms\tremaining: 0us\n",
      "0:\tlearn: 0.1491277\ttotal: 453us\tremaining: 17.7ms\n",
      "39:\tlearn: 0.0817853\ttotal: 8.76ms\tremaining: 0us\n",
      "0:\tlearn: 0.1484385\ttotal: 460us\tremaining: 18ms\n",
      "39:\tlearn: 0.1036502\ttotal: 14.6ms\tremaining: 0us\n",
      "0:\tlearn: 0.1468993\ttotal: 538us\tremaining: 21ms\n",
      "39:\tlearn: 0.0867950\ttotal: 59.7ms\tremaining: 0us\n",
      "0:\tlearn: 0.1424529\ttotal: 554us\tremaining: 21.6ms\n",
      "39:\tlearn: 0.0810385\ttotal: 8.41ms\tremaining: 0us\n",
      "0:\tlearn: 0.1480894\ttotal: 551us\tremaining: 21.5ms\n",
      "39:\tlearn: 0.0861477\ttotal: 8.96ms\tremaining: 0us\n",
      "0:\tlearn: 0.1711075\ttotal: 578us\tremaining: 22.6ms\n",
      "39:\tlearn: 0.1050435\ttotal: 16.6ms\tremaining: 0us\n",
      "0:\tlearn: 0.1699354\ttotal: 463us\tremaining: 18.1ms\n",
      "39:\tlearn: 0.0977046\ttotal: 41.7ms\tremaining: 0us\n",
      "0:\tlearn: 0.1695491\ttotal: 517us\tremaining: 20.2ms\n",
      "39:\tlearn: 0.1065157\ttotal: 15ms\tremaining: 0us\n",
      "0:\tlearn: 0.1674611\ttotal: 526us\tremaining: 20.5ms\n",
      "39:\tlearn: 0.1048885\ttotal: 26.8ms\tremaining: 0us\n",
      "0:\tlearn: 0.1626565\ttotal: 546us\tremaining: 21.3ms\n",
      "39:\tlearn: 0.1065994\ttotal: 11.5ms\tremaining: 0us\n",
      "0:\tlearn: 0.1624397\ttotal: 520us\tremaining: 20.3ms\n",
      "39:\tlearn: 0.1054776\ttotal: 18.5ms\tremaining: 0us\n"
     ]
    },
    {
     "name": "stderr",
     "output_type": "stream",
     "text": [
      "151it [23:04, 10.84s/it]"
     ]
    },
    {
     "name": "stdout",
     "output_type": "stream",
     "text": [
      "0:\tlearn: 0.0355190\ttotal: 485us\tremaining: 18.9ms\n",
      "39:\tlearn: 0.0118152\ttotal: 17.7ms\tremaining: 0us\n",
      "0:\tlearn: 0.0364199\ttotal: 520us\tremaining: 20.3ms\n",
      "39:\tlearn: 0.0135776\ttotal: 11.4ms\tremaining: 0us\n",
      "0:\tlearn: 0.0371687\ttotal: 2.25ms\tremaining: 87.7ms\n",
      "39:\tlearn: 0.0138558\ttotal: 12.7ms\tremaining: 0us\n",
      "0:\tlearn: 0.0365918\ttotal: 521us\tremaining: 20.4ms\n",
      "39:\tlearn: 0.0132694\ttotal: 9.81ms\tremaining: 0us\n",
      "0:\tlearn: 0.0359917\ttotal: 713us\tremaining: 27.8ms\n",
      "39:\tlearn: 0.0129025\ttotal: 8.99ms\tremaining: 0us\n",
      "0:\tlearn: 0.0361115\ttotal: 484us\tremaining: 18.9ms\n",
      "39:\tlearn: 0.0131416\ttotal: 8.75ms\tremaining: 0us\n",
      "0:\tlearn: 0.0362956\ttotal: 472us\tremaining: 18.4ms\n",
      "39:\tlearn: 0.0142596\ttotal: 9.31ms\tremaining: 0us\n",
      "0:\tlearn: 0.0383115\ttotal: 488us\tremaining: 19ms\n",
      "39:\tlearn: 0.0147530\ttotal: 16.4ms\tremaining: 0us\n",
      "0:\tlearn: 0.0383747\ttotal: 479us\tremaining: 18.7ms\n",
      "39:\tlearn: 0.0153097\ttotal: 14.7ms\tremaining: 0us\n",
      "0:\tlearn: 0.0381878\ttotal: 540us\tremaining: 21.1ms\n",
      "39:\tlearn: 0.0150578\ttotal: 11.2ms\tremaining: 0us\n",
      "0:\tlearn: 0.0373633\ttotal: 537us\tremaining: 21ms\n",
      "39:\tlearn: 0.0157054\ttotal: 9.88ms\tremaining: 0us\n",
      "0:\tlearn: 0.0380838\ttotal: 647us\tremaining: 25.2ms\n",
      "39:\tlearn: 0.0161971\ttotal: 14.8ms\tremaining: 0us\n",
      "0:\tlearn: 0.0386422\ttotal: 1.23ms\tremaining: 47.8ms\n",
      "39:\tlearn: 0.0140551\ttotal: 10.1ms\tremaining: 0us\n"
     ]
    },
    {
     "name": "stderr",
     "output_type": "stream",
     "text": [
      "152it [23:15, 10.69s/it]"
     ]
    },
    {
     "name": "stdout",
     "output_type": "stream",
     "text": [
      "0:\tlearn: 0.0296920\ttotal: 453us\tremaining: 17.7ms\n",
      "39:\tlearn: 0.0088783\ttotal: 12.7ms\tremaining: 0us\n",
      "0:\tlearn: 0.0301436\ttotal: 480us\tremaining: 18.7ms\n",
      "39:\tlearn: 0.0091661\ttotal: 15.1ms\tremaining: 0us\n",
      "0:\tlearn: 0.0299896\ttotal: 477us\tremaining: 18.6ms\n",
      "39:\tlearn: 0.0088733\ttotal: 8.93ms\tremaining: 0us\n",
      "0:\tlearn: 0.0295525\ttotal: 539us\tremaining: 21ms\n",
      "39:\tlearn: 0.0085536\ttotal: 9.71ms\tremaining: 0us\n",
      "0:\tlearn: 0.0308081\ttotal: 477us\tremaining: 18.6ms\n",
      "39:\tlearn: 0.0093223\ttotal: 9.67ms\tremaining: 0us\n",
      "0:\tlearn: 0.0302834\ttotal: 579us\tremaining: 22.6ms\n",
      "39:\tlearn: 0.0096513\ttotal: 10.5ms\tremaining: 0us\n",
      "0:\tlearn: 0.0317865\ttotal: 624us\tremaining: 24.3ms\n",
      "39:\tlearn: 0.0107477\ttotal: 23.1ms\tremaining: 0us\n",
      "0:\tlearn: 0.0343113\ttotal: 479us\tremaining: 18.7ms\n",
      "39:\tlearn: 0.0128796\ttotal: 9.66ms\tremaining: 0us\n",
      "0:\tlearn: 0.0348123\ttotal: 527us\tremaining: 20.6ms\n",
      "39:\tlearn: 0.0124774\ttotal: 28.9ms\tremaining: 0us\n",
      "0:\tlearn: 0.0345399\ttotal: 539us\tremaining: 21ms\n",
      "39:\tlearn: 0.0120395\ttotal: 8.99ms\tremaining: 0us\n",
      "0:\tlearn: 0.0341760\ttotal: 598us\tremaining: 23.3ms\n",
      "39:\tlearn: 0.0125548\ttotal: 40.3ms\tremaining: 0us\n",
      "0:\tlearn: 0.0345949\ttotal: 546us\tremaining: 21.3ms\n",
      "39:\tlearn: 0.0121435\ttotal: 36.3ms\tremaining: 0us\n",
      "0:\tlearn: 0.0347807\ttotal: 806us\tremaining: 31.5ms\n",
      "39:\tlearn: 0.0119395\ttotal: 11.2ms\tremaining: 0us\n"
     ]
    },
    {
     "name": "stderr",
     "output_type": "stream",
     "text": [
      "153it [23:25, 10.59s/it]"
     ]
    },
    {
     "name": "stdout",
     "output_type": "stream",
     "text": [
      "0:\tlearn: 0.0540913\ttotal: 474us\tremaining: 18.5ms\n",
      "39:\tlearn: 0.0200111\ttotal: 14.6ms\tremaining: 0us\n",
      "0:\tlearn: 0.0540445\ttotal: 473us\tremaining: 18.5ms\n",
      "39:\tlearn: 0.0256115\ttotal: 14.6ms\tremaining: 0us\n",
      "0:\tlearn: 0.0542273\ttotal: 512us\tremaining: 20ms\n",
      "39:\tlearn: 0.0250295\ttotal: 29.4ms\tremaining: 0us\n",
      "0:\tlearn: 0.0535248\ttotal: 530us\tremaining: 20.7ms\n",
      "39:\tlearn: 0.0234634\ttotal: 28.2ms\tremaining: 0us\n",
      "0:\tlearn: 0.0531743\ttotal: 491us\tremaining: 19.2ms\n",
      "39:\tlearn: 0.0224782\ttotal: 10.2ms\tremaining: 0us\n",
      "0:\tlearn: 0.0522795\ttotal: 521us\tremaining: 20.3ms\n",
      "39:\tlearn: 0.0232086\ttotal: 14.9ms\tremaining: 0us\n",
      "0:\tlearn: 0.0584995\ttotal: 485us\tremaining: 18.9ms\n",
      "39:\tlearn: 0.0297212\ttotal: 9.33ms\tremaining: 0us\n",
      "0:\tlearn: 0.0599992\ttotal: 955us\tremaining: 37.3ms\n",
      "39:\tlearn: 0.0279473\ttotal: 9.91ms\tremaining: 0us\n",
      "0:\tlearn: 0.0603258\ttotal: 486us\tremaining: 19ms\n",
      "39:\tlearn: 0.0303367\ttotal: 15.4ms\tremaining: 0us\n",
      "0:\tlearn: 0.0596170\ttotal: 535us\tremaining: 20.9ms\n",
      "39:\tlearn: 0.0290490\ttotal: 15.6ms\tremaining: 0us\n",
      "0:\tlearn: 0.0588336\ttotal: 554us\tremaining: 21.6ms\n",
      "39:\tlearn: 0.0293852\ttotal: 39.8ms\tremaining: 0us\n",
      "0:\tlearn: 0.0578084\ttotal: 554us\tremaining: 21.6ms\n",
      "39:\tlearn: 0.0289474\ttotal: 9.64ms\tremaining: 0us\n",
      "0:\tlearn: 0.0583419\ttotal: 576us\tremaining: 22.5ms\n",
      "39:\tlearn: 0.0315109\ttotal: 8.69ms\tremaining: 222us\n"
     ]
    },
    {
     "name": "stderr",
     "output_type": "stream",
     "text": [
      "154it [23:37, 11.03s/it]"
     ]
    },
    {
     "name": "stdout",
     "output_type": "stream",
     "text": [
      "0:\tlearn: 0.1749962\ttotal: 439us\tremaining: 17.1ms\n",
      "39:\tlearn: 0.0721794\ttotal: 7.69ms\tremaining: 0us\n",
      "0:\tlearn: 0.1731158\ttotal: 478us\tremaining: 18.7ms\n",
      "39:\tlearn: 0.0748683\ttotal: 12.4ms\tremaining: 0us\n",
      "0:\tlearn: 0.1760073\ttotal: 558us\tremaining: 21.8ms\n",
      "39:\tlearn: 0.0722154\ttotal: 8.55ms\tremaining: 0us\n",
      "0:\tlearn: 0.1700179\ttotal: 470us\tremaining: 18.4ms\n",
      "39:\tlearn: 0.0767581\ttotal: 19.1ms\tremaining: 0us\n",
      "0:\tlearn: 0.1686518\ttotal: 467us\tremaining: 18.2ms\n",
      "39:\tlearn: 0.0789193\ttotal: 35.2ms\tremaining: 0us\n",
      "0:\tlearn: 0.1658450\ttotal: 489us\tremaining: 19.1ms\n",
      "39:\tlearn: 0.0701816\ttotal: 52.2ms\tremaining: 0us\n",
      "0:\tlearn: 0.1688689\ttotal: 482us\tremaining: 18.8ms\n",
      "39:\tlearn: 0.0841545\ttotal: 8.54ms\tremaining: 0us\n",
      "0:\tlearn: 0.1658041\ttotal: 514us\tremaining: 20.1ms\n",
      "39:\tlearn: 0.0921399\ttotal: 8.84ms\tremaining: 0us\n",
      "0:\tlearn: 0.1605703\ttotal: 538us\tremaining: 21ms\n",
      "39:\tlearn: 0.0883977\ttotal: 15.5ms\tremaining: 0us\n",
      "0:\tlearn: 0.1628135\ttotal: 468us\tremaining: 18.3ms\n",
      "39:\tlearn: 0.0949370\ttotal: 22.4ms\tremaining: 0us\n",
      "0:\tlearn: 0.1578444\ttotal: 471us\tremaining: 18.4ms\n",
      "39:\tlearn: 0.0900027\ttotal: 8.39ms\tremaining: 0us\n",
      "0:\tlearn: 0.1591332\ttotal: 497us\tremaining: 19.4ms\n",
      "39:\tlearn: 0.0898033\ttotal: 8.29ms\tremaining: 0us\n",
      "0:\tlearn: 0.1568912\ttotal: 452us\tremaining: 17.6ms\n",
      "39:\tlearn: 0.0942998\ttotal: 10.9ms\tremaining: 0us\n"
     ]
    },
    {
     "name": "stderr",
     "output_type": "stream",
     "text": [
      "155it [23:48, 11.07s/it]"
     ]
    },
    {
     "name": "stdout",
     "output_type": "stream",
     "text": [
      "0:\tlearn: 0.0623696\ttotal: 453us\tremaining: 17.7ms\n",
      "39:\tlearn: 0.0273580\ttotal: 8.06ms\tremaining: 0us\n",
      "0:\tlearn: 0.0616409\ttotal: 476us\tremaining: 18.6ms\n",
      "39:\tlearn: 0.0275089\ttotal: 12.2ms\tremaining: 0us\n",
      "0:\tlearn: 0.0609410\ttotal: 505us\tremaining: 19.7ms\n",
      "39:\tlearn: 0.0295000\ttotal: 9.28ms\tremaining: 0us\n",
      "0:\tlearn: 0.0613026\ttotal: 489us\tremaining: 19.1ms\n",
      "39:\tlearn: 0.0339765\ttotal: 23.1ms\tremaining: 0us\n",
      "0:\tlearn: 0.0604546\ttotal: 1.04ms\tremaining: 40.5ms\n",
      "39:\tlearn: 0.0317493\ttotal: 21.4ms\tremaining: 0us\n",
      "0:\tlearn: 0.0680577\ttotal: 470us\tremaining: 18.4ms\n",
      "39:\tlearn: 0.0338011\ttotal: 8.93ms\tremaining: 0us\n",
      "0:\tlearn: 0.0685647\ttotal: 496us\tremaining: 19.4ms\n",
      "39:\tlearn: 0.0348027\ttotal: 14.6ms\tremaining: 0us\n",
      "0:\tlearn: 0.0672522\ttotal: 490us\tremaining: 19.1ms\n",
      "39:\tlearn: 0.0354376\ttotal: 14.5ms\tremaining: 0us\n",
      "0:\tlearn: 0.0689491\ttotal: 526us\tremaining: 20.5ms\n",
      "39:\tlearn: 0.0346435\ttotal: 15ms\tremaining: 0us\n",
      "0:\tlearn: 0.0686003\ttotal: 557us\tremaining: 21.8ms\n",
      "39:\tlearn: 0.0337812\ttotal: 12.2ms\tremaining: 0us\n",
      "0:\tlearn: 0.0683501\ttotal: 572us\tremaining: 22.3ms\n",
      "39:\tlearn: 0.0328383\ttotal: 29.1ms\tremaining: 0us\n",
      "0:\tlearn: 0.0672374\ttotal: 508us\tremaining: 19.8ms\n",
      "39:\tlearn: 0.0352281\ttotal: 8.73ms\tremaining: 0us\n",
      "0:\tlearn: 0.0683360\ttotal: 582us\tremaining: 22.7ms\n",
      "39:\tlearn: 0.0346974\ttotal: 15.6ms\tremaining: 0us\n"
     ]
    },
    {
     "name": "stderr",
     "output_type": "stream",
     "text": [
      "156it [24:02, 11.68s/it]"
     ]
    },
    {
     "name": "stdout",
     "output_type": "stream",
     "text": [
      "0:\tlearn: 0.1998039\ttotal: 469us\tremaining: 18.3ms\n",
      "39:\tlearn: 0.0779393\ttotal: 8.24ms\tremaining: 0us\n",
      "0:\tlearn: 0.1959243\ttotal: 493us\tremaining: 19.3ms\n",
      "39:\tlearn: 0.0752532\ttotal: 26.5ms\tremaining: 0us\n",
      "0:\tlearn: 0.1973036\ttotal: 572us\tremaining: 22.3ms\n",
      "39:\tlearn: 0.0871203\ttotal: 41.5ms\tremaining: 0us\n",
      "0:\tlearn: 0.1992208\ttotal: 516us\tremaining: 20.1ms\n",
      "39:\tlearn: 0.0863804\ttotal: 56.9ms\tremaining: 0us\n",
      "0:\tlearn: 0.2006203\ttotal: 624us\tremaining: 24.4ms\n",
      "39:\tlearn: 0.0950550\ttotal: 10.5ms\tremaining: 0us\n",
      "0:\tlearn: 0.1992505\ttotal: 509us\tremaining: 19.9ms\n",
      "39:\tlearn: 0.0846912\ttotal: 10.7ms\tremaining: 0us\n",
      "0:\tlearn: 0.2011592\ttotal: 643us\tremaining: 25.1ms\n",
      "39:\tlearn: 0.0891973\ttotal: 16.1ms\tremaining: 0us\n",
      "0:\tlearn: 0.1965391\ttotal: 688us\tremaining: 26.9ms\n",
      "39:\tlearn: 0.0870011\ttotal: 19.1ms\tremaining: 0us\n",
      "0:\tlearn: 0.2025262\ttotal: 481us\tremaining: 18.8ms\n",
      "39:\tlearn: 0.1059710\ttotal: 14.4ms\tremaining: 0us\n",
      "0:\tlearn: 0.2007761\ttotal: 458us\tremaining: 17.9ms\n",
      "39:\tlearn: 0.0945998\ttotal: 8.83ms\tremaining: 0us\n",
      "0:\tlearn: 0.1997247\ttotal: 577us\tremaining: 22.5ms\n",
      "39:\tlearn: 0.0917326\ttotal: 9.17ms\tremaining: 0us\n",
      "0:\tlearn: 0.1985265\ttotal: 1.33ms\tremaining: 51.8ms\n",
      "39:\tlearn: 0.1036505\ttotal: 23.5ms\tremaining: 0us\n",
      "0:\tlearn: 0.1967065\ttotal: 622us\tremaining: 24.3ms\n",
      "39:\tlearn: 0.1034578\ttotal: 14.8ms\tremaining: 0us\n"
     ]
    },
    {
     "name": "stderr",
     "output_type": "stream",
     "text": [
      "157it [24:13, 11.68s/it]"
     ]
    },
    {
     "name": "stdout",
     "output_type": "stream",
     "text": [
      "0:\tlearn: 0.0683618\ttotal: 447us\tremaining: 17.4ms\n",
      "39:\tlearn: 0.0300270\ttotal: 7.94ms\tremaining: 0us\n",
      "0:\tlearn: 0.0676015\ttotal: 527us\tremaining: 20.6ms\n",
      "39:\tlearn: 0.0321762\ttotal: 10ms\tremaining: 0us\n",
      "0:\tlearn: 0.0670082\ttotal: 466us\tremaining: 18.2ms\n",
      "39:\tlearn: 0.0332036\ttotal: 14ms\tremaining: 0us\n",
      "0:\tlearn: 0.0656247\ttotal: 480us\tremaining: 18.7ms\n",
      "39:\tlearn: 0.0330740\ttotal: 8.86ms\tremaining: 0us\n",
      "0:\tlearn: 0.0681797\ttotal: 521us\tremaining: 20.3ms\n",
      "39:\tlearn: 0.0337855\ttotal: 14.1ms\tremaining: 0us\n",
      "0:\tlearn: 0.0720962\ttotal: 485us\tremaining: 18.9ms\n",
      "39:\tlearn: 0.0326294\ttotal: 9.59ms\tremaining: 0us\n",
      "0:\tlearn: 0.0709751\ttotal: 1.65ms\tremaining: 64.3ms\n",
      "39:\tlearn: 0.0357787\ttotal: 66.8ms\tremaining: 0us\n",
      "0:\tlearn: 0.0741439\ttotal: 593us\tremaining: 23.1ms\n",
      "39:\tlearn: 0.0364646\ttotal: 14.8ms\tremaining: 0us\n",
      "0:\tlearn: 0.0748109\ttotal: 586us\tremaining: 22.9ms\n",
      "39:\tlearn: 0.0355883\ttotal: 21.8ms\tremaining: 0us\n",
      "0:\tlearn: 0.0728991\ttotal: 1.04ms\tremaining: 40.4ms\n",
      "39:\tlearn: 0.0346840\ttotal: 56.1ms\tremaining: 0us\n",
      "0:\tlearn: 0.0733972\ttotal: 600us\tremaining: 23.4ms\n",
      "39:\tlearn: 0.0358415\ttotal: 10.2ms\tremaining: 0us\n",
      "0:\tlearn: 0.0734359\ttotal: 465us\tremaining: 18.1ms\n",
      "39:\tlearn: 0.0374209\ttotal: 14.8ms\tremaining: 0us\n",
      "0:\tlearn: 0.0725597\ttotal: 523us\tremaining: 20.4ms\n",
      "39:\tlearn: 0.0381254\ttotal: 9.39ms\tremaining: 0us\n"
     ]
    },
    {
     "name": "stderr",
     "output_type": "stream",
     "text": [
      "158it [24:24, 11.54s/it]"
     ]
    },
    {
     "name": "stdout",
     "output_type": "stream",
     "text": [
      "0:\tlearn: 0.0588345\ttotal: 488us\tremaining: 19ms\n",
      "39:\tlearn: 0.0218466\ttotal: 8.11ms\tremaining: 0us\n",
      "0:\tlearn: 0.0620096\ttotal: 558us\tremaining: 21.8ms\n",
      "39:\tlearn: 0.0251745\ttotal: 51.6ms\tremaining: 0us\n",
      "0:\tlearn: 0.0603852\ttotal: 627us\tremaining: 24.5ms\n",
      "39:\tlearn: 0.0249904\ttotal: 8.76ms\tremaining: 0us\n"
     ]
    },
    {
     "name": "stderr",
     "output_type": "stream",
     "text": [
      "161it [24:27,  8.32s/it]"
     ]
    },
    {
     "name": "stdout",
     "output_type": "stream",
     "text": [
      "0:\tlearn: 0.0390526\ttotal: 463us\tremaining: 18.1ms\n",
      "39:\tlearn: 0.0116098\ttotal: 16.5ms\tremaining: 0us\n",
      "0:\tlearn: 0.0385092\ttotal: 513us\tremaining: 20ms\n",
      "39:\tlearn: 0.0113655\ttotal: 15.4ms\tremaining: 0us\n",
      "0:\tlearn: 0.0383577\ttotal: 493us\tremaining: 19.3ms\n",
      "39:\tlearn: 0.0125993\ttotal: 26.4ms\tremaining: 0us\n",
      "0:\tlearn: 0.0373884\ttotal: 542us\tremaining: 21.1ms\n",
      "39:\tlearn: 0.0125095\ttotal: 9.38ms\tremaining: 0us\n",
      "0:\tlearn: 0.0368757\ttotal: 450us\tremaining: 17.6ms\n",
      "39:\tlearn: 0.0139119\ttotal: 28.5ms\tremaining: 0us\n",
      "0:\tlearn: 0.0373653\ttotal: 505us\tremaining: 19.7ms\n",
      "39:\tlearn: 0.0129730\ttotal: 15.7ms\tremaining: 0us\n",
      "0:\tlearn: 0.0408880\ttotal: 1.18ms\tremaining: 45.8ms\n",
      "39:\tlearn: 0.0161220\ttotal: 73.3ms\tremaining: 0us\n",
      "0:\tlearn: 0.0413981\ttotal: 511us\tremaining: 19.9ms\n",
      "39:\tlearn: 0.0139154\ttotal: 22.7ms\tremaining: 0us\n",
      "0:\tlearn: 0.0437829\ttotal: 522us\tremaining: 20.4ms\n",
      "39:\tlearn: 0.0157791\ttotal: 10ms\tremaining: 0us\n",
      "0:\tlearn: 0.0463500\ttotal: 615us\tremaining: 24ms\n",
      "39:\tlearn: 0.0131798\ttotal: 14.6ms\tremaining: 0us\n",
      "0:\tlearn: 0.0461276\ttotal: 571us\tremaining: 22.3ms\n",
      "39:\tlearn: 0.0147964\ttotal: 9.7ms\tremaining: 0us\n",
      "0:\tlearn: 0.0461683\ttotal: 630us\tremaining: 24.6ms\n",
      "39:\tlearn: 0.0150431\ttotal: 14.7ms\tremaining: 0us\n",
      "0:\tlearn: 0.0451197\ttotal: 533us\tremaining: 20.8ms\n",
      "39:\tlearn: 0.0153930\ttotal: 9.73ms\tremaining: 0us\n"
     ]
    },
    {
     "name": "stderr",
     "output_type": "stream",
     "text": [
      "162it [24:38,  9.18s/it]"
     ]
    },
    {
     "name": "stdout",
     "output_type": "stream",
     "text": [
      "0:\tlearn: 0.0241148\ttotal: 736us\tremaining: 28.7ms\n",
      "39:\tlearn: 0.0084014\ttotal: 20.7ms\tremaining: 0us\n",
      "0:\tlearn: 0.0238108\ttotal: 450us\tremaining: 17.6ms\n",
      "39:\tlearn: 0.0085546\ttotal: 21.5ms\tremaining: 0us\n",
      "0:\tlearn: 0.0233887\ttotal: 496us\tremaining: 19.4ms\n",
      "39:\tlearn: 0.0088601\ttotal: 9.31ms\tremaining: 0us\n",
      "0:\tlearn: 0.0229484\ttotal: 488us\tremaining: 19ms\n",
      "39:\tlearn: 0.0083743\ttotal: 9.53ms\tremaining: 0us\n",
      "0:\tlearn: 0.0353101\ttotal: 452us\tremaining: 17.6ms\n",
      "39:\tlearn: 0.0158150\ttotal: 8.71ms\tremaining: 0us\n",
      "0:\tlearn: 0.0371759\ttotal: 638us\tremaining: 24.9ms\n",
      "39:\tlearn: 0.0169157\ttotal: 23.2ms\tremaining: 0us\n",
      "0:\tlearn: 0.0368794\ttotal: 492us\tremaining: 19.2ms\n",
      "39:\tlearn: 0.0160078\ttotal: 14.4ms\tremaining: 0us\n",
      "0:\tlearn: 0.0396620\ttotal: 603us\tremaining: 23.5ms\n",
      "39:\tlearn: 0.0160442\ttotal: 8.98ms\tremaining: 0us\n",
      "0:\tlearn: 0.0407858\ttotal: 496us\tremaining: 19.4ms\n",
      "39:\tlearn: 0.0158453\ttotal: 9.36ms\tremaining: 0us\n",
      "0:\tlearn: 0.0408142\ttotal: 560us\tremaining: 21.8ms\n",
      "39:\tlearn: 0.0156977\ttotal: 22.4ms\tremaining: 0us\n",
      "0:\tlearn: 0.0403045\ttotal: 549us\tremaining: 21.4ms\n",
      "39:\tlearn: 0.0164409\ttotal: 77.3ms\tremaining: 0us\n",
      "0:\tlearn: 0.0396939\ttotal: 565us\tremaining: 22.1ms\n",
      "39:\tlearn: 0.0153886\ttotal: 13.4ms\tremaining: 0us\n",
      "0:\tlearn: 0.0390607\ttotal: 550us\tremaining: 21.5ms\n",
      "39:\tlearn: 0.0148970\ttotal: 9.7ms\tremaining: 0us\n"
     ]
    },
    {
     "name": "stderr",
     "output_type": "stream",
     "text": [
      "163it [24:50,  9.93s/it]"
     ]
    },
    {
     "name": "stdout",
     "output_type": "stream",
     "text": [
      "0:\tlearn: 0.0286381\ttotal: 463us\tremaining: 18.1ms\n",
      "39:\tlearn: 0.0091126\ttotal: 13.1ms\tremaining: 0us\n",
      "0:\tlearn: 0.0286691\ttotal: 503us\tremaining: 19.7ms\n",
      "39:\tlearn: 0.0103538\ttotal: 23.5ms\tremaining: 0us\n",
      "0:\tlearn: 0.0289566\ttotal: 540us\tremaining: 21.1ms\n",
      "39:\tlearn: 0.0101193\ttotal: 9.23ms\tremaining: 0us\n",
      "0:\tlearn: 0.0297218\ttotal: 523us\tremaining: 20.4ms\n",
      "39:\tlearn: 0.0115883\ttotal: 10.6ms\tremaining: 0us\n",
      "0:\tlearn: 0.0399142\ttotal: 480us\tremaining: 18.8ms\n",
      "39:\tlearn: 0.0186581\ttotal: 32.3ms\tremaining: 0us\n",
      "0:\tlearn: 0.0394284\ttotal: 507us\tremaining: 19.8ms\n",
      "39:\tlearn: 0.0174009\ttotal: 10.4ms\tremaining: 0us\n",
      "0:\tlearn: 0.0389425\ttotal: 511us\tremaining: 20ms\n",
      "39:\tlearn: 0.0175030\ttotal: 46.3ms\tremaining: 0us\n",
      "0:\tlearn: 0.0418862\ttotal: 495us\tremaining: 19.3ms\n",
      "39:\tlearn: 0.0168629\ttotal: 14.3ms\tremaining: 0us\n",
      "0:\tlearn: 0.0429409\ttotal: 443us\tremaining: 17.3ms\n",
      "39:\tlearn: 0.0180843\ttotal: 26.9ms\tremaining: 0us\n",
      "0:\tlearn: 0.0419660\ttotal: 557us\tremaining: 21.7ms\n",
      "39:\tlearn: 0.0167052\ttotal: 15ms\tremaining: 0us\n",
      "0:\tlearn: 0.0427223\ttotal: 572us\tremaining: 22.3ms\n",
      "39:\tlearn: 0.0175187\ttotal: 9.35ms\tremaining: 0us\n",
      "0:\tlearn: 0.0419465\ttotal: 518us\tremaining: 20.2ms\n",
      "39:\tlearn: 0.0181625\ttotal: 8.94ms\tremaining: 0us\n",
      "0:\tlearn: 0.0414313\ttotal: 589us\tremaining: 23ms\n",
      "39:\tlearn: 0.0171799\ttotal: 9.56ms\tremaining: 0us\n"
     ]
    },
    {
     "name": "stderr",
     "output_type": "stream",
     "text": [
      "164it [25:00, 10.08s/it]"
     ]
    },
    {
     "name": "stdout",
     "output_type": "stream",
     "text": [
      "0:\tlearn: 0.0563284\ttotal: 423us\tremaining: 16.5ms\n",
      "39:\tlearn: 0.0196437\ttotal: 13.2ms\tremaining: 0us\n",
      "0:\tlearn: 0.0553206\ttotal: 491us\tremaining: 19.1ms\n",
      "39:\tlearn: 0.0230716\ttotal: 9.22ms\tremaining: 0us\n",
      "0:\tlearn: 0.0546587\ttotal: 567us\tremaining: 22.1ms\n",
      "39:\tlearn: 0.0229715\ttotal: 62.9ms\tremaining: 0us\n",
      "0:\tlearn: 0.0542200\ttotal: 511us\tremaining: 19.9ms\n",
      "39:\tlearn: 0.0237776\ttotal: 11.2ms\tremaining: 0us\n",
      "0:\tlearn: 0.0603160\ttotal: 534us\tremaining: 20.9ms\n",
      "39:\tlearn: 0.0284365\ttotal: 40.5ms\tremaining: 0us\n",
      "0:\tlearn: 0.0590437\ttotal: 812us\tremaining: 31.7ms\n",
      "39:\tlearn: 0.0278315\ttotal: 11.8ms\tremaining: 0us\n",
      "0:\tlearn: 0.0586726\ttotal: 559us\tremaining: 21.8ms\n",
      "39:\tlearn: 0.0289380\ttotal: 28.9ms\tremaining: 0us\n",
      "0:\tlearn: 0.0706257\ttotal: 522us\tremaining: 20.4ms\n",
      "39:\tlearn: 0.0369858\ttotal: 9.89ms\tremaining: 0us\n",
      "0:\tlearn: 0.0749634\ttotal: 537us\tremaining: 21ms\n",
      "39:\tlearn: 0.0362512\ttotal: 17.3ms\tremaining: 0us\n",
      "0:\tlearn: 0.0740947\ttotal: 1.32ms\tremaining: 51.6ms\n",
      "39:\tlearn: 0.0323932\ttotal: 16.1ms\tremaining: 0us\n",
      "0:\tlearn: 0.0733403\ttotal: 595us\tremaining: 23.2ms\n",
      "39:\tlearn: 0.0363430\ttotal: 12.8ms\tremaining: 0us\n",
      "0:\tlearn: 0.0746008\ttotal: 463us\tremaining: 18.1ms\n",
      "39:\tlearn: 0.0386532\ttotal: 9.26ms\tremaining: 0us\n",
      "0:\tlearn: 0.0742700\ttotal: 1.2ms\tremaining: 47ms\n",
      "39:\tlearn: 0.0405095\ttotal: 35ms\tremaining: 0us\n"
     ]
    },
    {
     "name": "stderr",
     "output_type": "stream",
     "text": [
      "165it [25:10, 10.13s/it]"
     ]
    },
    {
     "name": "stdout",
     "output_type": "stream",
     "text": [
      "0:\tlearn: 0.0634651\ttotal: 1.29ms\tremaining: 50.4ms\n",
      "39:\tlearn: 0.0261540\ttotal: 110ms\tremaining: 0us\n",
      "0:\tlearn: 0.0607981\ttotal: 530us\tremaining: 20.7ms\n",
      "39:\tlearn: 0.0277583\ttotal: 15.4ms\tremaining: 0us\n",
      "0:\tlearn: 0.0607981\ttotal: 434us\tremaining: 16.9ms\n",
      "39:\tlearn: 0.0277601\ttotal: 17.7ms\tremaining: 0us\n",
      "0:\tlearn: 0.0610770\ttotal: 475us\tremaining: 18.5ms\n",
      "39:\tlearn: 0.0280978\ttotal: 8.02ms\tremaining: 0us\n",
      "0:\tlearn: 0.0607397\ttotal: 458us\tremaining: 17.9ms\n",
      "39:\tlearn: 0.0269017\ttotal: 9.6ms\tremaining: 0us\n",
      "0:\tlearn: 0.1114057\ttotal: 434us\tremaining: 17ms\n",
      "39:\tlearn: 0.0491975\ttotal: 13.6ms\tremaining: 0us\n",
      "0:\tlearn: 0.1139200\ttotal: 963us\tremaining: 37.6ms\n",
      "39:\tlearn: 0.0470588\ttotal: 14.7ms\tremaining: 0us\n",
      "0:\tlearn: 0.1518208\ttotal: 436us\tremaining: 17ms\n",
      "39:\tlearn: 0.0610815\ttotal: 7.61ms\tremaining: 0us\n",
      "0:\tlearn: 0.1485310\ttotal: 465us\tremaining: 18.1ms\n",
      "39:\tlearn: 0.0590523\ttotal: 7.77ms\tremaining: 0us\n",
      "0:\tlearn: 0.1467387\ttotal: 480us\tremaining: 18.7ms\n",
      "39:\tlearn: 0.0515927\ttotal: 7.83ms\tremaining: 0us\n",
      "0:\tlearn: 0.1419883\ttotal: 417us\tremaining: 16.3ms\n",
      "39:\tlearn: 0.0540586\ttotal: 20.4ms\tremaining: 0us\n",
      "0:\tlearn: 0.1433876\ttotal: 548us\tremaining: 21.4ms\n",
      "39:\tlearn: 0.0615616\ttotal: 10.5ms\tremaining: 0us\n"
     ]
    },
    {
     "name": "stderr",
     "output_type": "stream",
     "text": [
      "166it [25:20, 10.04s/it]"
     ]
    },
    {
     "name": "stdout",
     "output_type": "stream",
     "text": [
      "0:\tlearn: 0.0414878\ttotal: 449us\tremaining: 17.5ms\n",
      "39:\tlearn: 0.0147801\ttotal: 7.78ms\tremaining: 199us\n",
      "0:\tlearn: 0.0405203\ttotal: 478us\tremaining: 18.7ms\n",
      "39:\tlearn: 0.0177657\ttotal: 10.4ms\tremaining: 0us\n",
      "0:\tlearn: 0.0409158\ttotal: 701us\tremaining: 27.3ms\n",
      "39:\tlearn: 0.0178966\ttotal: 21.1ms\tremaining: 0us\n",
      "0:\tlearn: 0.0406422\ttotal: 461us\tremaining: 18ms\n",
      "39:\tlearn: 0.0177239\ttotal: 15.1ms\tremaining: 0us\n",
      "0:\tlearn: 0.0407009\ttotal: 491us\tremaining: 19.2ms\n",
      "39:\tlearn: 0.0178903\ttotal: 113ms\tremaining: 0us\n",
      "0:\tlearn: 0.0421609\ttotal: 450us\tremaining: 17.6ms\n",
      "39:\tlearn: 0.0164848\ttotal: 13.1ms\tremaining: 0us\n",
      "0:\tlearn: 0.0409675\ttotal: 512us\tremaining: 20ms\n",
      "39:\tlearn: 0.0178124\ttotal: 9.41ms\tremaining: 0us\n",
      "0:\tlearn: 0.0440827\ttotal: 524us\tremaining: 20.5ms\n",
      "39:\tlearn: 0.0191040\ttotal: 9.13ms\tremaining: 0us\n",
      "0:\tlearn: 0.0445340\ttotal: 488us\tremaining: 19ms\n",
      "39:\tlearn: 0.0184363\ttotal: 25.6ms\tremaining: 0us\n",
      "0:\tlearn: 0.0451003\ttotal: 444us\tremaining: 17.3ms\n",
      "39:\tlearn: 0.0174841\ttotal: 9.37ms\tremaining: 0us\n",
      "0:\tlearn: 0.0435201\ttotal: 529us\tremaining: 20.7ms\n",
      "39:\tlearn: 0.0186669\ttotal: 10ms\tremaining: 0us\n",
      "0:\tlearn: 0.0452688\ttotal: 585us\tremaining: 22.8ms\n",
      "39:\tlearn: 0.0184041\ttotal: 11.6ms\tremaining: 0us\n",
      "0:\tlearn: 0.0445495\ttotal: 589us\tremaining: 23ms\n",
      "39:\tlearn: 0.0185483\ttotal: 10.5ms\tremaining: 0us\n"
     ]
    },
    {
     "name": "stderr",
     "output_type": "stream",
     "text": [
      "167it [25:30, 10.11s/it]"
     ]
    },
    {
     "name": "stdout",
     "output_type": "stream",
     "text": [
      "0:\tlearn: 0.0446804\ttotal: 435us\tremaining: 17ms\n",
      "39:\tlearn: 0.0174343\ttotal: 32.2ms\tremaining: 0us\n",
      "0:\tlearn: 0.0432037\ttotal: 581us\tremaining: 22.7ms\n",
      "39:\tlearn: 0.0179963\ttotal: 10.2ms\tremaining: 0us\n",
      "0:\tlearn: 0.0428240\ttotal: 454us\tremaining: 17.7ms\n",
      "39:\tlearn: 0.0179736\ttotal: 10.3ms\tremaining: 0us\n",
      "0:\tlearn: 0.0424070\ttotal: 536us\tremaining: 20.9ms\n",
      "39:\tlearn: 0.0163235\ttotal: 13.9ms\tremaining: 0us\n",
      "0:\tlearn: 0.0432970\ttotal: 457us\tremaining: 17.9ms\n",
      "39:\tlearn: 0.0157010\ttotal: 14.3ms\tremaining: 0us\n",
      "0:\tlearn: 0.0427933\ttotal: 473us\tremaining: 18.5ms\n",
      "39:\tlearn: 0.0177254\ttotal: 9.19ms\tremaining: 0us\n",
      "0:\tlearn: 0.0438921\ttotal: 550us\tremaining: 21.4ms\n",
      "39:\tlearn: 0.0164608\ttotal: 9.12ms\tremaining: 0us\n",
      "0:\tlearn: 0.0434434\ttotal: 548us\tremaining: 21.4ms\n",
      "39:\tlearn: 0.0164889\ttotal: 9.74ms\tremaining: 0us\n",
      "0:\tlearn: 0.0425819\ttotal: 519us\tremaining: 20.3ms\n",
      "39:\tlearn: 0.0153197\ttotal: 9.05ms\tremaining: 0us\n",
      "0:\tlearn: 0.0433021\ttotal: 1.16ms\tremaining: 45.4ms\n",
      "39:\tlearn: 0.0183795\ttotal: 10.4ms\tremaining: 0us\n",
      "0:\tlearn: 0.0431890\ttotal: 551us\tremaining: 21.5ms\n",
      "39:\tlearn: 0.0198996\ttotal: 8.7ms\tremaining: 0us\n",
      "0:\tlearn: 0.0444677\ttotal: 560us\tremaining: 21.8ms\n",
      "39:\tlearn: 0.0169976\ttotal: 18.5ms\tremaining: 0us\n",
      "0:\tlearn: 0.0432384\ttotal: 597us\tremaining: 23.3ms\n",
      "39:\tlearn: 0.0177367\ttotal: 10.8ms\tremaining: 0us\n"
     ]
    },
    {
     "name": "stderr",
     "output_type": "stream",
     "text": [
      "168it [25:41, 10.30s/it]"
     ]
    },
    {
     "name": "stdout",
     "output_type": "stream",
     "text": [
      "0:\tlearn: 0.1281994\ttotal: 499us\tremaining: 19.5ms\n",
      "39:\tlearn: 0.0527599\ttotal: 7.48ms\tremaining: 191us\n",
      "0:\tlearn: 0.1250442\ttotal: 470us\tremaining: 18.3ms\n",
      "39:\tlearn: 0.0527949\ttotal: 8.62ms\tremaining: 0us\n",
      "0:\tlearn: 0.1246379\ttotal: 536us\tremaining: 20.9ms\n",
      "39:\tlearn: 0.0556923\ttotal: 8.33ms\tremaining: 0us\n",
      "0:\tlearn: 0.1236227\ttotal: 500us\tremaining: 19.5ms\n",
      "39:\tlearn: 0.0593936\ttotal: 24ms\tremaining: 0us\n",
      "0:\tlearn: 0.1224232\ttotal: 439us\tremaining: 17.1ms\n",
      "39:\tlearn: 0.0574394\ttotal: 9.09ms\tremaining: 0us\n",
      "0:\tlearn: 0.1225994\ttotal: 481us\tremaining: 18.8ms\n",
      "39:\tlearn: 0.0624946\ttotal: 24.8ms\tremaining: 0us\n",
      "0:\tlearn: 0.1275650\ttotal: 454us\tremaining: 17.7ms\n",
      "39:\tlearn: 0.0637883\ttotal: 8.14ms\tremaining: 0us\n",
      "0:\tlearn: 0.1423415\ttotal: 821us\tremaining: 32ms\n",
      "39:\tlearn: 0.0764907\ttotal: 50.4ms\tremaining: 0us\n",
      "0:\tlearn: 0.1409135\ttotal: 518us\tremaining: 20.2ms\n",
      "39:\tlearn: 0.0669582\ttotal: 8.75ms\tremaining: 0us\n",
      "0:\tlearn: 0.1394118\ttotal: 904us\tremaining: 35.3ms\n",
      "39:\tlearn: 0.0745549\ttotal: 76ms\tremaining: 0us\n",
      "0:\tlearn: 0.1386871\ttotal: 493us\tremaining: 19.2ms\n",
      "39:\tlearn: 0.0783174\ttotal: 26.4ms\tremaining: 0us\n",
      "0:\tlearn: 0.1388252\ttotal: 533us\tremaining: 20.8ms\n",
      "39:\tlearn: 0.0816209\ttotal: 8.42ms\tremaining: 0us\n",
      "0:\tlearn: 0.1376274\ttotal: 1.09ms\tremaining: 42.4ms\n",
      "39:\tlearn: 0.0830765\ttotal: 64.3ms\tremaining: 0us\n"
     ]
    },
    {
     "name": "stderr",
     "output_type": "stream",
     "text": [
      "169it [25:52, 10.38s/it]"
     ]
    },
    {
     "name": "stdout",
     "output_type": "stream",
     "text": [
      "0:\tlearn: 0.0505719\ttotal: 1.14ms\tremaining: 44.4ms\n",
      "39:\tlearn: 0.0217181\ttotal: 102ms\tremaining: 0us\n",
      "0:\tlearn: 0.0490217\ttotal: 457us\tremaining: 17.8ms\n",
      "39:\tlearn: 0.0270505\ttotal: 14.6ms\tremaining: 0us\n",
      "0:\tlearn: 0.0488306\ttotal: 918us\tremaining: 35.8ms\n",
      "39:\tlearn: 0.0238877\ttotal: 47.6ms\tremaining: 0us\n",
      "0:\tlearn: 0.0489899\ttotal: 495us\tremaining: 19.3ms\n",
      "39:\tlearn: 0.0253522\ttotal: 48.9ms\tremaining: 0us\n",
      "0:\tlearn: 0.0476288\ttotal: 478us\tremaining: 18.7ms\n",
      "39:\tlearn: 0.0277962\ttotal: 20.5ms\tremaining: 0us\n",
      "0:\tlearn: 0.0491628\ttotal: 510us\tremaining: 19.9ms\n",
      "39:\tlearn: 0.0250914\ttotal: 8.99ms\tremaining: 0us\n",
      "0:\tlearn: 0.0482792\ttotal: 513us\tremaining: 20ms\n",
      "39:\tlearn: 0.0282716\ttotal: 53.9ms\tremaining: 0us\n",
      "0:\tlearn: 0.0489295\ttotal: 508us\tremaining: 19.8ms\n",
      "39:\tlearn: 0.0276841\ttotal: 14.8ms\tremaining: 0us\n",
      "0:\tlearn: 0.0485661\ttotal: 601us\tremaining: 23.5ms\n",
      "39:\tlearn: 0.0283866\ttotal: 10.9ms\tremaining: 0us\n",
      "0:\tlearn: 0.0495866\ttotal: 567us\tremaining: 22.1ms\n",
      "39:\tlearn: 0.0290353\ttotal: 9.13ms\tremaining: 0us\n",
      "0:\tlearn: 0.0492194\ttotal: 491us\tremaining: 19.2ms\n",
      "39:\tlearn: 0.0317665\ttotal: 11.9ms\tremaining: 0us\n",
      "0:\tlearn: 0.0504917\ttotal: 684us\tremaining: 26.7ms\n",
      "39:\tlearn: 0.0309380\ttotal: 12ms\tremaining: 0us\n",
      "0:\tlearn: 0.0498909\ttotal: 930us\tremaining: 36.3ms\n",
      "39:\tlearn: 0.0300376\ttotal: 38.5ms\tremaining: 0us\n"
     ]
    },
    {
     "name": "stderr",
     "output_type": "stream",
     "text": [
      "170it [26:03, 10.64s/it]"
     ]
    },
    {
     "name": "stdout",
     "output_type": "stream",
     "text": [
      "0:\tlearn: 0.0312957\ttotal: 493us\tremaining: 19.3ms\n",
      "39:\tlearn: 0.0113244\ttotal: 11.2ms\tremaining: 0us\n",
      "0:\tlearn: 0.0324589\ttotal: 538us\tremaining: 21ms\n",
      "39:\tlearn: 0.0115474\ttotal: 21.6ms\tremaining: 0us\n",
      "0:\tlearn: 0.0316375\ttotal: 549us\tremaining: 21.4ms\n",
      "39:\tlearn: 0.0113919\ttotal: 10.4ms\tremaining: 0us\n",
      "0:\tlearn: 0.0331810\ttotal: 558us\tremaining: 21.8ms\n",
      "39:\tlearn: 0.0127733\ttotal: 32.2ms\tremaining: 0us\n",
      "0:\tlearn: 0.0584501\ttotal: 494us\tremaining: 19.3ms\n",
      "39:\tlearn: 0.0270473\ttotal: 15.1ms\tremaining: 0us\n",
      "0:\tlearn: 0.0572714\ttotal: 555us\tremaining: 21.6ms\n",
      "39:\tlearn: 0.0284637\ttotal: 15.6ms\tremaining: 0us\n",
      "0:\tlearn: 0.0575302\ttotal: 564us\tremaining: 22ms\n",
      "39:\tlearn: 0.0266497\ttotal: 11ms\tremaining: 0us\n",
      "0:\tlearn: 0.0579085\ttotal: 490us\tremaining: 19.1ms\n",
      "39:\tlearn: 0.0265923\ttotal: 9.09ms\tremaining: 0us\n",
      "0:\tlearn: 0.0585814\ttotal: 488us\tremaining: 19ms\n",
      "39:\tlearn: 0.0264720\ttotal: 14.2ms\tremaining: 0us\n",
      "0:\tlearn: 0.0583088\ttotal: 481us\tremaining: 18.8ms\n",
      "39:\tlearn: 0.0274318\ttotal: 8.68ms\tremaining: 0us\n",
      "0:\tlearn: 0.0588655\ttotal: 530us\tremaining: 20.7ms\n",
      "39:\tlearn: 0.0286066\ttotal: 9.2ms\tremaining: 0us\n",
      "0:\tlearn: 0.0580645\ttotal: 554us\tremaining: 21.6ms\n",
      "39:\tlearn: 0.0294801\ttotal: 21.3ms\tremaining: 0us\n",
      "0:\tlearn: 0.0574893\ttotal: 552us\tremaining: 21.5ms\n",
      "39:\tlearn: 0.0272430\ttotal: 9.36ms\tremaining: 0us\n"
     ]
    },
    {
     "name": "stderr",
     "output_type": "stream",
     "text": [
      "171it [26:13, 10.55s/it]"
     ]
    },
    {
     "name": "stdout",
     "output_type": "stream",
     "text": [
      "0:\tlearn: 0.0372241\ttotal: 550us\tremaining: 21.5ms\n",
      "39:\tlearn: 0.0171617\ttotal: 13.8ms\tremaining: 0us\n",
      "0:\tlearn: 0.0372981\ttotal: 533us\tremaining: 20.8ms\n",
      "39:\tlearn: 0.0158515\ttotal: 14.3ms\tremaining: 0us\n",
      "0:\tlearn: 0.0384501\ttotal: 498us\tremaining: 19.4ms\n",
      "39:\tlearn: 0.0155118\ttotal: 11.6ms\tremaining: 0us\n",
      "0:\tlearn: 0.0373881\ttotal: 454us\tremaining: 17.7ms\n",
      "39:\tlearn: 0.0146819\ttotal: 26.6ms\tremaining: 0us\n",
      "0:\tlearn: 0.0671942\ttotal: 449us\tremaining: 17.5ms\n",
      "39:\tlearn: 0.0316188\ttotal: 9.05ms\tremaining: 0us\n",
      "0:\tlearn: 0.0659315\ttotal: 495us\tremaining: 19.3ms\n",
      "39:\tlearn: 0.0351154\ttotal: 14.2ms\tremaining: 0us\n",
      "0:\tlearn: 0.0673885\ttotal: 738us\tremaining: 28.8ms\n",
      "39:\tlearn: 0.0328361\ttotal: 44.9ms\tremaining: 0us\n",
      "0:\tlearn: 0.0657565\ttotal: 451us\tremaining: 17.6ms\n",
      "39:\tlearn: 0.0305196\ttotal: 15.2ms\tremaining: 0us\n",
      "0:\tlearn: 0.0648679\ttotal: 473us\tremaining: 18.5ms\n",
      "39:\tlearn: 0.0292384\ttotal: 18.4ms\tremaining: 0us\n",
      "0:\tlearn: 0.0660670\ttotal: 517us\tremaining: 20.2ms\n",
      "39:\tlearn: 0.0350806\ttotal: 9.12ms\tremaining: 0us\n",
      "0:\tlearn: 0.0629419\ttotal: 481us\tremaining: 18.8ms\n",
      "39:\tlearn: 0.0299945\ttotal: 44.3ms\tremaining: 0us\n",
      "0:\tlearn: 0.0628113\ttotal: 532us\tremaining: 20.8ms\n",
      "39:\tlearn: 0.0297835\ttotal: 9.11ms\tremaining: 0us\n",
      "0:\tlearn: 0.0622952\ttotal: 555us\tremaining: 21.7ms\n",
      "39:\tlearn: 0.0295671\ttotal: 14.6ms\tremaining: 0us\n"
     ]
    },
    {
     "name": "stderr",
     "output_type": "stream",
     "text": [
      "172it [26:24, 10.65s/it]"
     ]
    },
    {
     "name": "stdout",
     "output_type": "stream",
     "text": [
      "0:\tlearn: 0.0792596\ttotal: 410us\tremaining: 16ms\n",
      "39:\tlearn: 0.0340839\ttotal: 7.58ms\tremaining: 0us\n",
      "0:\tlearn: 0.0789365\ttotal: 442us\tremaining: 17.2ms\n",
      "39:\tlearn: 0.0424573\ttotal: 8.06ms\tremaining: 0us\n",
      "0:\tlearn: 0.0785722\ttotal: 458us\tremaining: 17.9ms\n",
      "39:\tlearn: 0.0323449\ttotal: 14.3ms\tremaining: 0us\n",
      "0:\tlearn: 0.0764297\ttotal: 494us\tremaining: 19.3ms\n",
      "39:\tlearn: 0.0330828\ttotal: 29.1ms\tremaining: 0us\n",
      "0:\tlearn: 0.0742112\ttotal: 999us\tremaining: 39ms\n",
      "39:\tlearn: 0.0393445\ttotal: 26.9ms\tremaining: 0us\n",
      "0:\tlearn: 0.0727585\ttotal: 461us\tremaining: 18ms\n",
      "39:\tlearn: 0.0343060\ttotal: 9.47ms\tremaining: 0us\n",
      "0:\tlearn: 0.0710943\ttotal: 495us\tremaining: 19.3ms\n",
      "39:\tlearn: 0.0363044\ttotal: 8.82ms\tremaining: 0us\n",
      "0:\tlearn: 0.1005844\ttotal: 562us\tremaining: 21.9ms\n",
      "39:\tlearn: 0.0506648\ttotal: 9.28ms\tremaining: 0us\n",
      "0:\tlearn: 0.0982287\ttotal: 467us\tremaining: 18.2ms\n",
      "39:\tlearn: 0.0473982\ttotal: 8.61ms\tremaining: 0us\n",
      "0:\tlearn: 0.0964875\ttotal: 510us\tremaining: 19.9ms\n",
      "39:\tlearn: 0.0561464\ttotal: 14.1ms\tremaining: 0us\n",
      "0:\tlearn: 0.0954334\ttotal: 452us\tremaining: 17.6ms\n",
      "39:\tlearn: 0.0515892\ttotal: 59.5ms\tremaining: 0us\n",
      "0:\tlearn: 0.0939969\ttotal: 470us\tremaining: 18.4ms\n",
      "39:\tlearn: 0.0532641\ttotal: 14.9ms\tremaining: 0us\n",
      "0:\tlearn: 0.0959911\ttotal: 522us\tremaining: 20.4ms\n",
      "39:\tlearn: 0.0514166\ttotal: 10.2ms\tremaining: 0us\n"
     ]
    },
    {
     "name": "stderr",
     "output_type": "stream",
     "text": [
      "173it [26:35, 10.74s/it]"
     ]
    },
    {
     "name": "stdout",
     "output_type": "stream",
     "text": [
      "0:\tlearn: 0.1730874\ttotal: 450us\tremaining: 17.6ms\n",
      "39:\tlearn: 0.0618212\ttotal: 7.6ms\tremaining: 0us\n",
      "0:\tlearn: 0.1622254\ttotal: 466us\tremaining: 18.2ms\n",
      "39:\tlearn: 0.0574792\ttotal: 8.26ms\tremaining: 0us\n",
      "0:\tlearn: 0.1529926\ttotal: 445us\tremaining: 17.4ms\n",
      "39:\tlearn: 0.0546427\ttotal: 8.24ms\tremaining: 0us\n",
      "0:\tlearn: 0.1449472\ttotal: 486us\tremaining: 19ms\n",
      "39:\tlearn: 0.0518866\ttotal: 13.1ms\tremaining: 0us\n",
      "0:\tlearn: 0.1654606\ttotal: 469us\tremaining: 18.3ms\n",
      "39:\tlearn: 0.0572382\ttotal: 7.62ms\tremaining: 0us\n",
      "0:\tlearn: 0.1576846\ttotal: 445us\tremaining: 17.4ms\n",
      "39:\tlearn: 0.0600892\ttotal: 7.87ms\tremaining: 0us\n",
      "0:\tlearn: 0.1552681\ttotal: 433us\tremaining: 16.9ms\n",
      "39:\tlearn: 0.0619880\ttotal: 7.94ms\tremaining: 0us\n",
      "0:\tlearn: 0.1502893\ttotal: 484us\tremaining: 18.9ms\n",
      "39:\tlearn: 0.0618389\ttotal: 13.3ms\tremaining: 0us\n",
      "0:\tlearn: 0.1729136\ttotal: 548us\tremaining: 21.4ms\n",
      "39:\tlearn: 0.0593596\ttotal: 9.19ms\tremaining: 0us\n",
      "0:\tlearn: 0.1695087\ttotal: 651us\tremaining: 25.4ms\n",
      "39:\tlearn: 0.0623738\ttotal: 7.89ms\tremaining: 0us\n",
      "0:\tlearn: 0.1679164\ttotal: 549us\tremaining: 21.4ms\n",
      "39:\tlearn: 0.0634409\ttotal: 9.26ms\tremaining: 0us\n",
      "0:\tlearn: 0.1620613\ttotal: 433us\tremaining: 16.9ms\n",
      "39:\tlearn: 0.0695941\ttotal: 52.5ms\tremaining: 0us\n",
      "0:\tlearn: 0.1586678\ttotal: 439us\tremaining: 17.1ms\n",
      "39:\tlearn: 0.0643653\ttotal: 7.83ms\tremaining: 0us\n"
     ]
    },
    {
     "name": "stderr",
     "output_type": "stream",
     "text": [
      "174it [26:46, 10.73s/it]"
     ]
    },
    {
     "name": "stdout",
     "output_type": "stream",
     "text": [
      "0:\tlearn: 0.0435342\ttotal: 707us\tremaining: 27.6ms\n",
      "39:\tlearn: 0.0180762\ttotal: 10ms\tremaining: 0us\n",
      "0:\tlearn: 0.0430190\ttotal: 478us\tremaining: 18.6ms\n",
      "39:\tlearn: 0.0192813\ttotal: 35.5ms\tremaining: 0us\n",
      "0:\tlearn: 0.0422504\ttotal: 473us\tremaining: 18.5ms\n",
      "39:\tlearn: 0.0187707\ttotal: 73.2ms\tremaining: 0us\n",
      "0:\tlearn: 0.0426199\ttotal: 521us\tremaining: 20.3ms\n",
      "39:\tlearn: 0.0176188\ttotal: 8.97ms\tremaining: 0us\n",
      "0:\tlearn: 0.0486665\ttotal: 480us\tremaining: 18.7ms\n",
      "39:\tlearn: 0.0225799\ttotal: 14.4ms\tremaining: 0us\n",
      "0:\tlearn: 0.0475501\ttotal: 495us\tremaining: 19.3ms\n",
      "39:\tlearn: 0.0227039\ttotal: 8.91ms\tremaining: 0us\n",
      "0:\tlearn: 0.0479917\ttotal: 545us\tremaining: 21.3ms\n",
      "39:\tlearn: 0.0249576\ttotal: 27.8ms\tremaining: 0us\n",
      "0:\tlearn: 0.0507019\ttotal: 695us\tremaining: 27.1ms\n",
      "39:\tlearn: 0.0266032\ttotal: 61.4ms\tremaining: 0us\n",
      "0:\tlearn: 0.0552899\ttotal: 491us\tremaining: 19.2ms\n",
      "39:\tlearn: 0.0286638\ttotal: 19.6ms\tremaining: 0us\n",
      "0:\tlearn: 0.0537698\ttotal: 580us\tremaining: 22.6ms\n",
      "39:\tlearn: 0.0257473\ttotal: 31ms\tremaining: 0us\n",
      "0:\tlearn: 0.0534119\ttotal: 576us\tremaining: 22.5ms\n",
      "39:\tlearn: 0.0268107\ttotal: 9.3ms\tremaining: 0us\n",
      "0:\tlearn: 0.0540904\ttotal: 554us\tremaining: 21.6ms\n",
      "39:\tlearn: 0.0283147\ttotal: 9.12ms\tremaining: 0us\n",
      "0:\tlearn: 0.0523750\ttotal: 1.2ms\tremaining: 46.9ms\n",
      "39:\tlearn: 0.0289447\ttotal: 10ms\tremaining: 0us\n"
     ]
    },
    {
     "name": "stderr",
     "output_type": "stream",
     "text": [
      "176it [26:56,  9.10s/it]"
     ]
    },
    {
     "name": "stdout",
     "output_type": "stream",
     "text": [
      "0:\tlearn: 0.0673683\ttotal: 511us\tremaining: 20ms\n",
      "39:\tlearn: 0.0258184\ttotal: 8.51ms\tremaining: 0us\n",
      "0:\tlearn: 0.0653454\ttotal: 540us\tremaining: 21.1ms\n",
      "39:\tlearn: 0.0305068\ttotal: 14.4ms\tremaining: 0us\n",
      "0:\tlearn: 0.0644256\ttotal: 490us\tremaining: 19.1ms\n",
      "39:\tlearn: 0.0286151\ttotal: 54ms\tremaining: 0us\n",
      "0:\tlearn: 0.0653245\ttotal: 593us\tremaining: 23.1ms\n",
      "39:\tlearn: 0.0303605\ttotal: 15.2ms\tremaining: 0us\n",
      "0:\tlearn: 0.0681990\ttotal: 463us\tremaining: 18.1ms\n",
      "39:\tlearn: 0.0319870\ttotal: 15.6ms\tremaining: 0us\n",
      "0:\tlearn: 0.0689835\ttotal: 491us\tremaining: 19.2ms\n",
      "39:\tlearn: 0.0321175\ttotal: 14.8ms\tremaining: 0us\n",
      "0:\tlearn: 0.0693894\ttotal: 541us\tremaining: 21.1ms\n",
      "39:\tlearn: 0.0337259\ttotal: 53.6ms\tremaining: 0us\n",
      "0:\tlearn: 0.0723088\ttotal: 576us\tremaining: 22.5ms\n",
      "39:\tlearn: 0.0340352\ttotal: 82.4ms\tremaining: 0us\n",
      "0:\tlearn: 0.0708887\ttotal: 632us\tremaining: 24.7ms\n",
      "39:\tlearn: 0.0346258\ttotal: 16.4ms\tremaining: 0us\n",
      "0:\tlearn: 0.0703318\ttotal: 626us\tremaining: 24.4ms\n",
      "39:\tlearn: 0.0354886\ttotal: 11.8ms\tremaining: 0us\n",
      "0:\tlearn: 0.0704122\ttotal: 517us\tremaining: 20.2ms\n",
      "39:\tlearn: 0.0319934\ttotal: 49.1ms\tremaining: 0us\n",
      "0:\tlearn: 0.0771022\ttotal: 548us\tremaining: 21.4ms\n",
      "39:\tlearn: 0.0367641\ttotal: 11.8ms\tremaining: 0us\n",
      "0:\tlearn: 0.0770667\ttotal: 501us\tremaining: 19.6ms\n",
      "39:\tlearn: 0.0369871\ttotal: 37.5ms\tremaining: 0us\n"
     ]
    },
    {
     "name": "stderr",
     "output_type": "stream",
     "text": [
      "177it [27:07,  9.58s/it]"
     ]
    },
    {
     "name": "stdout",
     "output_type": "stream",
     "text": [
      "0:\tlearn: 0.0673910\ttotal: 457us\tremaining: 17.9ms\n",
      "39:\tlearn: 0.0304220\ttotal: 21.4ms\tremaining: 0us\n",
      "0:\tlearn: 0.0683696\ttotal: 521us\tremaining: 20.4ms\n",
      "39:\tlearn: 0.0312153\ttotal: 44.5ms\tremaining: 0us\n",
      "0:\tlearn: 0.0662429\ttotal: 483us\tremaining: 18.9ms\n",
      "39:\tlearn: 0.0290051\ttotal: 30.5ms\tremaining: 0us\n",
      "0:\tlearn: 0.0667745\ttotal: 457us\tremaining: 17.9ms\n",
      "39:\tlearn: 0.0294482\ttotal: 11.4ms\tremaining: 0us\n",
      "0:\tlearn: 0.0665097\ttotal: 488us\tremaining: 19.1ms\n",
      "39:\tlearn: 0.0309167\ttotal: 8.92ms\tremaining: 0us\n",
      "0:\tlearn: 0.0657824\ttotal: 567us\tremaining: 22.1ms\n",
      "39:\tlearn: 0.0288356\ttotal: 11.9ms\tremaining: 0us\n",
      "0:\tlearn: 0.0667605\ttotal: 842us\tremaining: 32.9ms\n",
      "39:\tlearn: 0.0286910\ttotal: 9.62ms\tremaining: 0us\n",
      "0:\tlearn: 0.0651638\ttotal: 498us\tremaining: 19.5ms\n",
      "39:\tlearn: 0.0293501\ttotal: 26.5ms\tremaining: 0us\n",
      "0:\tlearn: 0.0651584\ttotal: 441us\tremaining: 17.2ms\n",
      "39:\tlearn: 0.0293992\ttotal: 14.4ms\tremaining: 0us\n",
      "0:\tlearn: 0.0660674\ttotal: 539us\tremaining: 21ms\n",
      "39:\tlearn: 0.0296158\ttotal: 82.9ms\tremaining: 0us\n",
      "0:\tlearn: 0.0648656\ttotal: 579us\tremaining: 22.6ms\n",
      "39:\tlearn: 0.0310793\ttotal: 9.16ms\tremaining: 0us\n",
      "0:\tlearn: 0.0649683\ttotal: 624us\tremaining: 24.4ms\n",
      "39:\tlearn: 0.0306792\ttotal: 12.2ms\tremaining: 0us\n",
      "0:\tlearn: 0.0642775\ttotal: 537us\tremaining: 21ms\n",
      "39:\tlearn: 0.0315136\ttotal: 9.29ms\tremaining: 0us\n"
     ]
    },
    {
     "name": "stderr",
     "output_type": "stream",
     "text": [
      "178it [27:19, 10.36s/it]"
     ]
    },
    {
     "name": "stdout",
     "output_type": "stream",
     "text": [
      "0:\tlearn: 0.0274930\ttotal: 462us\tremaining: 18.1ms\n",
      "39:\tlearn: 0.0108433\ttotal: 22.6ms\tremaining: 0us\n",
      "0:\tlearn: 0.0273566\ttotal: 483us\tremaining: 18.8ms\n",
      "39:\tlearn: 0.0117403\ttotal: 50.8ms\tremaining: 0us\n",
      "0:\tlearn: 0.0268948\ttotal: 542us\tremaining: 21.1ms\n",
      "39:\tlearn: 0.0121785\ttotal: 34.4ms\tremaining: 0us\n",
      "0:\tlearn: 0.0267084\ttotal: 1.39ms\tremaining: 54.2ms\n",
      "39:\tlearn: 0.0117109\ttotal: 22.5ms\tremaining: 0us\n",
      "0:\tlearn: 0.0344468\ttotal: 1.14ms\tremaining: 44.5ms\n",
      "39:\tlearn: 0.0194207\ttotal: 9.93ms\tremaining: 0us\n",
      "0:\tlearn: 0.0360387\ttotal: 562us\tremaining: 22ms\n",
      "39:\tlearn: 0.0185036\ttotal: 8.99ms\tremaining: 0us\n",
      "0:\tlearn: 0.0366960\ttotal: 475us\tremaining: 18.6ms\n",
      "39:\tlearn: 0.0184184\ttotal: 9.29ms\tremaining: 0us\n",
      "0:\tlearn: 0.0383054\ttotal: 487us\tremaining: 19ms\n",
      "39:\tlearn: 0.0174822\ttotal: 14.4ms\tremaining: 0us\n",
      "0:\tlearn: 0.0419978\ttotal: 395us\tremaining: 15.4ms\n",
      "39:\tlearn: 0.0186838\ttotal: 9.43ms\tremaining: 0us\n",
      "0:\tlearn: 0.0407115\ttotal: 534us\tremaining: 20.9ms\n",
      "39:\tlearn: 0.0181355\ttotal: 10ms\tremaining: 0us\n",
      "0:\tlearn: 0.0407446\ttotal: 589us\tremaining: 23ms\n",
      "39:\tlearn: 0.0192065\ttotal: 9.03ms\tremaining: 0us\n",
      "0:\tlearn: 0.0399932\ttotal: 552us\tremaining: 21.6ms\n",
      "39:\tlearn: 0.0176932\ttotal: 28.4ms\tremaining: 0us\n",
      "0:\tlearn: 0.0388785\ttotal: 615us\tremaining: 24ms\n",
      "39:\tlearn: 0.0179445\ttotal: 14.1ms\tremaining: 0us\n"
     ]
    },
    {
     "name": "stderr",
     "output_type": "stream",
     "text": [
      "179it [27:30, 10.37s/it]"
     ]
    },
    {
     "name": "stdout",
     "output_type": "stream",
     "text": [
      "0:\tlearn: 0.0926560\ttotal: 485us\tremaining: 19ms\n",
      "39:\tlearn: 0.0453970\ttotal: 11.2ms\tremaining: 0us\n",
      "0:\tlearn: 0.0908771\ttotal: 457us\tremaining: 17.8ms\n",
      "39:\tlearn: 0.0520030\ttotal: 8.37ms\tremaining: 0us\n",
      "0:\tlearn: 0.0892940\ttotal: 509us\tremaining: 19.9ms\n",
      "39:\tlearn: 0.0504840\ttotal: 8.48ms\tremaining: 0us\n",
      "0:\tlearn: 0.0970126\ttotal: 468us\tremaining: 18.3ms\n",
      "39:\tlearn: 0.0564796\ttotal: 20.2ms\tremaining: 0us\n",
      "0:\tlearn: 0.0946316\ttotal: 511us\tremaining: 20ms\n",
      "39:\tlearn: 0.0536291\ttotal: 8.4ms\tremaining: 0us\n",
      "0:\tlearn: 0.0929054\ttotal: 509us\tremaining: 19.9ms\n",
      "39:\tlearn: 0.0519948\ttotal: 8.5ms\tremaining: 0us\n",
      "0:\tlearn: 0.0944566\ttotal: 460us\tremaining: 18ms\n",
      "39:\tlearn: 0.0501982\ttotal: 36.4ms\tremaining: 0us\n",
      "0:\tlearn: 0.0935797\ttotal: 474us\tremaining: 18.5ms\n",
      "39:\tlearn: 0.0564106\ttotal: 8.43ms\tremaining: 0us\n",
      "0:\tlearn: 0.0997167\ttotal: 466us\tremaining: 18.2ms\n",
      "39:\tlearn: 0.0507991\ttotal: 29.6ms\tremaining: 0us\n",
      "0:\tlearn: 0.0986590\ttotal: 540us\tremaining: 21.1ms\n",
      "39:\tlearn: 0.0535805\ttotal: 10.8ms\tremaining: 0us\n",
      "0:\tlearn: 0.0976239\ttotal: 513us\tremaining: 20ms\n",
      "39:\tlearn: 0.0510074\ttotal: 18.9ms\tremaining: 0us\n",
      "0:\tlearn: 0.1005590\ttotal: 464us\tremaining: 18.1ms\n",
      "39:\tlearn: 0.0510858\ttotal: 29.9ms\tremaining: 0us\n",
      "0:\tlearn: 0.1008791\ttotal: 497us\tremaining: 19.4ms\n",
      "39:\tlearn: 0.0567433\ttotal: 30.8ms\tremaining: 0us\n"
     ]
    },
    {
     "name": "stderr",
     "output_type": "stream",
     "text": [
      "180it [27:40, 10.24s/it]"
     ]
    },
    {
     "name": "stdout",
     "output_type": "stream",
     "text": [
      "0:\tlearn: 0.1183948\ttotal: 422us\tremaining: 16.5ms\n",
      "39:\tlearn: 0.0345342\ttotal: 12.7ms\tremaining: 325us\n",
      "0:\tlearn: 0.1598663\ttotal: 477us\tremaining: 18.6ms\n",
      "39:\tlearn: 0.0615771\ttotal: 13.6ms\tremaining: 0us\n",
      "0:\tlearn: 0.1806614\ttotal: 508us\tremaining: 19.8ms\n",
      "39:\tlearn: 0.0640112\ttotal: 8.72ms\tremaining: 0us\n",
      "0:\tlearn: 0.1949715\ttotal: 476us\tremaining: 18.6ms\n",
      "39:\tlearn: 0.0662644\ttotal: 32.3ms\tremaining: 0us\n"
     ]
    },
    {
     "name": "stderr",
     "output_type": "stream",
     "text": [
      "181it [27:43,  8.13s/it]"
     ]
    },
    {
     "name": "stdout",
     "output_type": "stream",
     "text": [
      "0:\tlearn: 0.0755576\ttotal: 470us\tremaining: 18.3ms\n",
      "39:\tlearn: 0.0274522\ttotal: 8.36ms\tremaining: 0us\n",
      "0:\tlearn: 0.0740616\ttotal: 512us\tremaining: 20ms\n",
      "39:\tlearn: 0.0308179\ttotal: 19.3ms\tremaining: 0us\n",
      "0:\tlearn: 0.0930441\ttotal: 474us\tremaining: 18.5ms\n",
      "39:\tlearn: 0.0443023\ttotal: 36.8ms\tremaining: 0us\n",
      "0:\tlearn: 0.0918322\ttotal: 508us\tremaining: 19.8ms\n",
      "39:\tlearn: 0.0485529\ttotal: 15.8ms\tremaining: 0us\n",
      "0:\tlearn: 0.0993895\ttotal: 455us\tremaining: 17.8ms\n",
      "39:\tlearn: 0.0471179\ttotal: 8.46ms\tremaining: 0us\n",
      "0:\tlearn: 0.0976350\ttotal: 687us\tremaining: 26.8ms\n",
      "39:\tlearn: 0.0468107\ttotal: 9.32ms\tremaining: 0us\n",
      "0:\tlearn: 0.1085118\ttotal: 498us\tremaining: 19.4ms\n",
      "39:\tlearn: 0.0408346\ttotal: 46.4ms\tremaining: 0us\n",
      "0:\tlearn: 0.1086613\ttotal: 606us\tremaining: 23.7ms\n",
      "39:\tlearn: 0.0466671\ttotal: 11.8ms\tremaining: 0us\n",
      "0:\tlearn: 0.1093934\ttotal: 546us\tremaining: 21.3ms\n",
      "39:\tlearn: 0.0457749\ttotal: 22.9ms\tremaining: 0us\n",
      "0:\tlearn: 0.1075000\ttotal: 576us\tremaining: 22.5ms\n",
      "39:\tlearn: 0.0455078\ttotal: 18.1ms\tremaining: 0us\n",
      "0:\tlearn: 0.1085059\ttotal: 568us\tremaining: 22.2ms\n",
      "39:\tlearn: 0.0488850\ttotal: 14.7ms\tremaining: 0us\n",
      "0:\tlearn: 0.1100611\ttotal: 589us\tremaining: 23ms\n",
      "39:\tlearn: 0.0550969\ttotal: 9.16ms\tremaining: 0us\n",
      "0:\tlearn: 0.1136553\ttotal: 598us\tremaining: 23.3ms\n",
      "39:\tlearn: 0.0563637\ttotal: 26.2ms\tremaining: 0us\n"
     ]
    },
    {
     "name": "stderr",
     "output_type": "stream",
     "text": [
      "182it [27:56,  9.77s/it]"
     ]
    },
    {
     "name": "stdout",
     "output_type": "stream",
     "text": [
      "0:\tlearn: 0.0493578\ttotal: 464us\tremaining: 18.1ms\n",
      "39:\tlearn: 0.0211532\ttotal: 8.29ms\tremaining: 0us\n",
      "0:\tlearn: 0.0482028\ttotal: 560us\tremaining: 21.8ms\n",
      "39:\tlearn: 0.0225082\ttotal: 16.8ms\tremaining: 0us\n",
      "0:\tlearn: 0.0472618\ttotal: 486us\tremaining: 19ms\n",
      "39:\tlearn: 0.0231053\ttotal: 8.99ms\tremaining: 0us\n",
      "0:\tlearn: 0.0483759\ttotal: 511us\tremaining: 20ms\n",
      "39:\tlearn: 0.0263547\ttotal: 14.4ms\tremaining: 0us\n",
      "0:\tlearn: 0.0531392\ttotal: 648us\tremaining: 25.3ms\n",
      "39:\tlearn: 0.0295566\ttotal: 8.9ms\tremaining: 0us\n",
      "0:\tlearn: 0.0541282\ttotal: 604us\tremaining: 23.6ms\n",
      "39:\tlearn: 0.0275621\ttotal: 29.3ms\tremaining: 0us\n",
      "0:\tlearn: 0.0543471\ttotal: 676us\tremaining: 26.4ms\n",
      "39:\tlearn: 0.0287221\ttotal: 10.6ms\tremaining: 0us\n",
      "0:\tlearn: 0.0552041\ttotal: 603us\tremaining: 23.5ms\n",
      "39:\tlearn: 0.0273351\ttotal: 40.2ms\tremaining: 0us\n",
      "0:\tlearn: 0.0539030\ttotal: 578us\tremaining: 22.5ms\n",
      "39:\tlearn: 0.0269164\ttotal: 105ms\tremaining: 0us\n",
      "0:\tlearn: 0.0537123\ttotal: 1.59ms\tremaining: 61.9ms\n",
      "39:\tlearn: 0.0263649\ttotal: 12.9ms\tremaining: 0us\n",
      "0:\tlearn: 0.0524935\ttotal: 1.67ms\tremaining: 65.3ms\n",
      "39:\tlearn: 0.0270477\ttotal: 22.6ms\tremaining: 0us\n",
      "0:\tlearn: 0.0520707\ttotal: 654us\tremaining: 25.5ms\n",
      "39:\tlearn: 0.0263313\ttotal: 10.4ms\tremaining: 0us\n",
      "0:\tlearn: 0.0524076\ttotal: 581us\tremaining: 22.7ms\n",
      "39:\tlearn: 0.0264340\ttotal: 20.8ms\tremaining: 0us\n"
     ]
    },
    {
     "name": "stderr",
     "output_type": "stream",
     "text": [
      "183it [28:07, 10.01s/it]"
     ]
    },
    {
     "name": "stdout",
     "output_type": "stream",
     "text": [
      "0:\tlearn: 0.1452674\ttotal: 480us\tremaining: 18.7ms\n",
      "39:\tlearn: 0.0541782\ttotal: 13.9ms\tremaining: 0us\n",
      "0:\tlearn: 0.1463373\ttotal: 489us\tremaining: 19.1ms\n",
      "39:\tlearn: 0.0618768\ttotal: 29.8ms\tremaining: 0us\n",
      "0:\tlearn: 0.1431076\ttotal: 495us\tremaining: 19.3ms\n",
      "39:\tlearn: 0.0632602\ttotal: 38.8ms\tremaining: 0us\n",
      "0:\tlearn: 0.1482445\ttotal: 499us\tremaining: 19.5ms\n",
      "39:\tlearn: 0.0538949\ttotal: 15.7ms\tremaining: 0us\n",
      "0:\tlearn: 0.1506120\ttotal: 483us\tremaining: 18.9ms\n",
      "39:\tlearn: 0.0701404\ttotal: 39.9ms\tremaining: 0us\n",
      "0:\tlearn: 0.1499654\ttotal: 428us\tremaining: 16.7ms\n",
      "39:\tlearn: 0.0754934\ttotal: 16.7ms\tremaining: 0us\n",
      "0:\tlearn: 0.1458125\ttotal: 475us\tremaining: 18.5ms\n",
      "39:\tlearn: 0.0753927\ttotal: 19.9ms\tremaining: 0us\n",
      "0:\tlearn: 0.1447127\ttotal: 534us\tremaining: 20.8ms\n",
      "39:\tlearn: 0.0746573\ttotal: 9.38ms\tremaining: 0us\n",
      "0:\tlearn: 0.1439146\ttotal: 490us\tremaining: 19.1ms\n",
      "39:\tlearn: 0.0749127\ttotal: 14.4ms\tremaining: 0us\n",
      "0:\tlearn: 0.1554042\ttotal: 528us\tremaining: 20.6ms\n",
      "39:\tlearn: 0.0819882\ttotal: 8.59ms\tremaining: 0us\n",
      "0:\tlearn: 0.1569896\ttotal: 792us\tremaining: 30.9ms\n",
      "39:\tlearn: 0.0785550\ttotal: 15.8ms\tremaining: 0us\n",
      "0:\tlearn: 0.1546726\ttotal: 484us\tremaining: 18.9ms\n",
      "39:\tlearn: 0.0719576\ttotal: 9.12ms\tremaining: 0us\n",
      "0:\tlearn: 0.1525751\ttotal: 470us\tremaining: 18.3ms\n",
      "39:\tlearn: 0.0738368\ttotal: 14.3ms\tremaining: 0us\n"
     ]
    },
    {
     "name": "stderr",
     "output_type": "stream",
     "text": [
      "184it [28:19, 10.47s/it]"
     ]
    },
    {
     "name": "stdout",
     "output_type": "stream",
     "text": [
      "0:\tlearn: 0.0706789\ttotal: 482us\tremaining: 18.8ms\n",
      "39:\tlearn: 0.0307491\ttotal: 13.2ms\tremaining: 0us\n",
      "0:\tlearn: 0.0721351\ttotal: 500us\tremaining: 19.5ms\n",
      "39:\tlearn: 0.0325040\ttotal: 26ms\tremaining: 0us\n",
      "0:\tlearn: 0.0692010\ttotal: 513us\tremaining: 20ms\n",
      "39:\tlearn: 0.0328570\ttotal: 14.4ms\tremaining: 0us\n",
      "0:\tlearn: 0.0676827\ttotal: 468us\tremaining: 18.3ms\n",
      "39:\tlearn: 0.0309909\ttotal: 14.6ms\tremaining: 0us\n",
      "0:\tlearn: 0.0889724\ttotal: 542us\tremaining: 21.2ms\n",
      "39:\tlearn: 0.0396077\ttotal: 27.5ms\tremaining: 0us\n",
      "0:\tlearn: 0.0983791\ttotal: 572us\tremaining: 22.3ms\n",
      "39:\tlearn: 0.0375207\ttotal: 9.68ms\tremaining: 0us\n",
      "0:\tlearn: 0.0968482\ttotal: 471us\tremaining: 18.4ms\n",
      "39:\tlearn: 0.0395855\ttotal: 8.68ms\tremaining: 0us\n",
      "0:\tlearn: 0.0958879\ttotal: 516us\tremaining: 20.1ms\n",
      "39:\tlearn: 0.0354076\ttotal: 8.91ms\tremaining: 0us\n",
      "0:\tlearn: 0.0996909\ttotal: 501us\tremaining: 19.5ms\n",
      "39:\tlearn: 0.0383973\ttotal: 8.76ms\tremaining: 0us\n",
      "0:\tlearn: 0.0997673\ttotal: 537us\tremaining: 21ms\n",
      "39:\tlearn: 0.0359394\ttotal: 14.7ms\tremaining: 0us\n",
      "0:\tlearn: 0.0975600\ttotal: 755us\tremaining: 29.5ms\n",
      "39:\tlearn: 0.0374724\ttotal: 26.9ms\tremaining: 708us\n",
      "0:\tlearn: 0.0950720\ttotal: 467us\tremaining: 18.2ms\n",
      "39:\tlearn: 0.0399985\ttotal: 38.5ms\tremaining: 0us\n",
      "0:\tlearn: 0.0964040\ttotal: 489us\tremaining: 19.1ms\n",
      "39:\tlearn: 0.0397361\ttotal: 8.8ms\tremaining: 0us\n"
     ]
    },
    {
     "name": "stderr",
     "output_type": "stream",
     "text": [
      "185it [28:30, 10.62s/it]"
     ]
    },
    {
     "name": "stdout",
     "output_type": "stream",
     "text": [
      "0:\tlearn: 0.1946077\ttotal: 453us\tremaining: 17.7ms\n",
      "39:\tlearn: 0.0896203\ttotal: 27.7ms\tremaining: 0us\n",
      "0:\tlearn: 0.2052996\ttotal: 456us\tremaining: 17.8ms\n",
      "39:\tlearn: 0.0913521\ttotal: 8.33ms\tremaining: 0us\n",
      "0:\tlearn: 0.2113512\ttotal: 501us\tremaining: 19.5ms\n",
      "39:\tlearn: 0.0897938\ttotal: 8.56ms\tremaining: 0us\n",
      "0:\tlearn: 0.2152254\ttotal: 494us\tremaining: 19.3ms\n",
      "39:\tlearn: 0.0971785\ttotal: 8.26ms\tremaining: 0us\n",
      "0:\tlearn: 0.2197395\ttotal: 505us\tremaining: 19.7ms\n",
      "39:\tlearn: 0.0966053\ttotal: 8.17ms\tremaining: 0us\n",
      "0:\tlearn: 0.2459023\ttotal: 993us\tremaining: 38.8ms\n",
      "39:\tlearn: 0.1103009\ttotal: 12.7ms\tremaining: 0us\n",
      "0:\tlearn: 0.2460240\ttotal: 488us\tremaining: 19ms\n",
      "39:\tlearn: 0.1012059\ttotal: 14ms\tremaining: 0us\n",
      "0:\tlearn: 0.2520568\ttotal: 582us\tremaining: 22.7ms\n",
      "39:\tlearn: 0.1201115\ttotal: 17.6ms\tremaining: 0us\n",
      "0:\tlearn: 0.2494409\ttotal: 524us\tremaining: 20.4ms\n",
      "39:\tlearn: 0.1047080\ttotal: 8.22ms\tremaining: 0us\n",
      "0:\tlearn: 0.2463698\ttotal: 1.67ms\tremaining: 65ms\n",
      "39:\tlearn: 0.1034359\ttotal: 10.4ms\tremaining: 0us\n",
      "0:\tlearn: 0.2447781\ttotal: 555us\tremaining: 21.7ms\n",
      "39:\tlearn: 0.0893739\ttotal: 31.8ms\tremaining: 0us\n",
      "0:\tlearn: 0.2405022\ttotal: 561us\tremaining: 21.9ms\n",
      "39:\tlearn: 0.0880151\ttotal: 9.48ms\tremaining: 0us\n",
      "0:\tlearn: 0.2372021\ttotal: 498us\tremaining: 19.5ms\n",
      "39:\tlearn: 0.0981430\ttotal: 9.12ms\tremaining: 0us\n"
     ]
    },
    {
     "name": "stderr",
     "output_type": "stream",
     "text": [
      "186it [28:40, 10.59s/it]"
     ]
    },
    {
     "name": "stdout",
     "output_type": "stream",
     "text": [
      "0:\tlearn: 0.0309362\ttotal: 482us\tremaining: 18.8ms\n",
      "39:\tlearn: 0.0064751\ttotal: 14.8ms\tremaining: 0us\n",
      "0:\tlearn: 0.0302601\ttotal: 950us\tremaining: 37.1ms\n",
      "39:\tlearn: 0.0077349\ttotal: 22.4ms\tremaining: 0us\n",
      "0:\tlearn: 0.0304581\ttotal: 447us\tremaining: 17.5ms\n",
      "39:\tlearn: 0.0075768\ttotal: 8.83ms\tremaining: 0us\n",
      "0:\tlearn: 0.0300677\ttotal: 508us\tremaining: 19.8ms\n",
      "39:\tlearn: 0.0079312\ttotal: 58.6ms\tremaining: 0us\n",
      "0:\tlearn: 0.0292715\ttotal: 549us\tremaining: 21.4ms\n",
      "39:\tlearn: 0.0076978\ttotal: 14.8ms\tremaining: 0us\n",
      "0:\tlearn: 0.0290634\ttotal: 512us\tremaining: 20ms\n",
      "39:\tlearn: 0.0078448\ttotal: 8.85ms\tremaining: 0us\n",
      "0:\tlearn: 0.0305578\ttotal: 836us\tremaining: 32.6ms\n",
      "39:\tlearn: 0.0099661\ttotal: 9.32ms\tremaining: 0us\n",
      "0:\tlearn: 0.0351508\ttotal: 523us\tremaining: 20.4ms\n",
      "39:\tlearn: 0.0134300\ttotal: 9.49ms\tremaining: 0us\n",
      "0:\tlearn: 0.0372122\ttotal: 472us\tremaining: 18.4ms\n",
      "39:\tlearn: 0.0117630\ttotal: 19ms\tremaining: 0us\n",
      "0:\tlearn: 0.0373844\ttotal: 559us\tremaining: 21.8ms\n",
      "39:\tlearn: 0.0118154\ttotal: 9.84ms\tremaining: 0us\n",
      "0:\tlearn: 0.0371736\ttotal: 612us\tremaining: 23.9ms\n",
      "39:\tlearn: 0.0117717\ttotal: 27.2ms\tremaining: 0us\n",
      "0:\tlearn: 0.0366846\ttotal: 556us\tremaining: 21.7ms\n",
      "39:\tlearn: 0.0116572\ttotal: 10.4ms\tremaining: 0us\n",
      "0:\tlearn: 0.0359843\ttotal: 549us\tremaining: 21.4ms\n",
      "39:\tlearn: 0.0128045\ttotal: 9.51ms\tremaining: 0us\n"
     ]
    },
    {
     "name": "stderr",
     "output_type": "stream",
     "text": [
      "187it [28:50, 10.53s/it]"
     ]
    },
    {
     "name": "stdout",
     "output_type": "stream",
     "text": [
      "0:\tlearn: 0.0723779\ttotal: 464us\tremaining: 18.1ms\n",
      "39:\tlearn: 0.0306044\ttotal: 13.8ms\tremaining: 0us\n",
      "0:\tlearn: 0.0703667\ttotal: 522us\tremaining: 20.4ms\n",
      "39:\tlearn: 0.0328756\ttotal: 21.6ms\tremaining: 0us\n",
      "0:\tlearn: 0.0691135\ttotal: 475us\tremaining: 18.6ms\n",
      "39:\tlearn: 0.0314211\ttotal: 38.1ms\tremaining: 0us\n",
      "0:\tlearn: 0.0683614\ttotal: 516us\tremaining: 20.2ms\n",
      "39:\tlearn: 0.0273781\ttotal: 14.2ms\tremaining: 0us\n",
      "0:\tlearn: 0.0688921\ttotal: 461us\tremaining: 18ms\n",
      "39:\tlearn: 0.0317891\ttotal: 23.9ms\tremaining: 0us\n",
      "0:\tlearn: 0.0685022\ttotal: 436us\tremaining: 17ms\n",
      "39:\tlearn: 0.0297721\ttotal: 8.73ms\tremaining: 0us\n",
      "0:\tlearn: 0.0680862\ttotal: 942us\tremaining: 36.8ms\n",
      "39:\tlearn: 0.0321274\ttotal: 39.8ms\tremaining: 0us\n",
      "0:\tlearn: 0.0722777\ttotal: 445us\tremaining: 17.4ms\n",
      "39:\tlearn: 0.0318484\ttotal: 9.06ms\tremaining: 0us\n",
      "0:\tlearn: 0.0709703\ttotal: 561us\tremaining: 21.9ms\n",
      "39:\tlearn: 0.0334187\ttotal: 9.14ms\tremaining: 0us\n",
      "0:\tlearn: 0.0723562\ttotal: 557us\tremaining: 21.7ms\n",
      "39:\tlearn: 0.0330139\ttotal: 14.3ms\tremaining: 0us\n",
      "0:\tlearn: 0.0718384\ttotal: 667us\tremaining: 26ms\n",
      "39:\tlearn: 0.0340175\ttotal: 11ms\tremaining: 0us\n",
      "0:\tlearn: 0.0703655\ttotal: 894us\tremaining: 34.9ms\n",
      "39:\tlearn: 0.0373399\ttotal: 18.8ms\tremaining: 0us\n",
      "0:\tlearn: 0.0702691\ttotal: 621us\tremaining: 24.2ms\n",
      "39:\tlearn: 0.0361493\ttotal: 10ms\tremaining: 0us\n"
     ]
    },
    {
     "name": "stderr",
     "output_type": "stream",
     "text": [
      "188it [29:02, 10.76s/it]"
     ]
    },
    {
     "name": "stdout",
     "output_type": "stream",
     "text": [
      "0:\tlearn: 0.1389053\ttotal: 455us\tremaining: 17.8ms\n",
      "39:\tlearn: 0.0323919\ttotal: 8.45ms\tremaining: 0us\n",
      "0:\tlearn: 0.1385421\ttotal: 722us\tremaining: 28.2ms\n",
      "39:\tlearn: 0.0364477\ttotal: 22.9ms\tremaining: 0us\n",
      "0:\tlearn: 0.1336201\ttotal: 556us\tremaining: 21.7ms\n",
      "39:\tlearn: 0.0372688\ttotal: 14.9ms\tremaining: 0us\n",
      "0:\tlearn: 0.1325604\ttotal: 507us\tremaining: 19.8ms\n",
      "39:\tlearn: 0.0446662\ttotal: 13.5ms\tremaining: 0us\n",
      "0:\tlearn: 0.1317089\ttotal: 546us\tremaining: 21.3ms\n",
      "39:\tlearn: 0.0438830\ttotal: 19ms\tremaining: 0us\n",
      "0:\tlearn: 0.1272855\ttotal: 480us\tremaining: 18.7ms\n",
      "39:\tlearn: 0.0376042\ttotal: 8.88ms\tremaining: 0us\n",
      "0:\tlearn: 0.1263895\ttotal: 620us\tremaining: 24.2ms\n",
      "39:\tlearn: 0.0498112\ttotal: 15.9ms\tremaining: 0us\n",
      "0:\tlearn: 0.1300493\ttotal: 570us\tremaining: 22.3ms\n",
      "39:\tlearn: 0.0510692\ttotal: 15.5ms\tremaining: 0us\n",
      "0:\tlearn: 0.1282829\ttotal: 531us\tremaining: 20.7ms\n",
      "39:\tlearn: 0.0583854\ttotal: 10.5ms\tremaining: 0us\n",
      "0:\tlearn: 0.1287802\ttotal: 441us\tremaining: 17.2ms\n",
      "39:\tlearn: 0.0606003\ttotal: 8.33ms\tremaining: 0us\n",
      "0:\tlearn: 0.1419219\ttotal: 470us\tremaining: 18.4ms\n",
      "39:\tlearn: 0.0667454\ttotal: 8.09ms\tremaining: 207us\n",
      "0:\tlearn: 0.1430637\ttotal: 704us\tremaining: 27.5ms\n",
      "39:\tlearn: 0.0750027\ttotal: 13.9ms\tremaining: 0us\n",
      "0:\tlearn: 0.1397677\ttotal: 487us\tremaining: 19ms\n",
      "39:\tlearn: 0.0709681\ttotal: 8.85ms\tremaining: 0us\n"
     ]
    },
    {
     "name": "stderr",
     "output_type": "stream",
     "text": [
      "189it [29:13, 10.87s/it]"
     ]
    },
    {
     "name": "stdout",
     "output_type": "stream",
     "text": [
      "0:\tlearn: 0.0688213\ttotal: 444us\tremaining: 17.3ms\n",
      "39:\tlearn: 0.0332164\ttotal: 8.23ms\tremaining: 0us\n",
      "0:\tlearn: 0.0678563\ttotal: 575us\tremaining: 22.4ms\n",
      "39:\tlearn: 0.0341146\ttotal: 63.6ms\tremaining: 0us\n",
      "0:\tlearn: 0.0668739\ttotal: 468us\tremaining: 18.3ms\n",
      "39:\tlearn: 0.0338019\ttotal: 8.41ms\tremaining: 0us\n",
      "0:\tlearn: 0.0694782\ttotal: 483us\tremaining: 18.9ms\n",
      "39:\tlearn: 0.0357603\ttotal: 8.54ms\tremaining: 0us\n",
      "0:\tlearn: 0.0717879\ttotal: 473us\tremaining: 18.5ms\n",
      "39:\tlearn: 0.0362386\ttotal: 14.3ms\tremaining: 0us\n",
      "0:\tlearn: 0.0699608\ttotal: 483us\tremaining: 18.8ms\n",
      "39:\tlearn: 0.0374714\ttotal: 15.8ms\tremaining: 0us\n",
      "0:\tlearn: 0.0698721\ttotal: 480us\tremaining: 18.7ms\n",
      "39:\tlearn: 0.0360144\ttotal: 9.74ms\tremaining: 0us\n",
      "0:\tlearn: 0.0731137\ttotal: 623us\tremaining: 24.3ms\n",
      "39:\tlearn: 0.0386823\ttotal: 22.8ms\tremaining: 0us\n",
      "0:\tlearn: 0.0728805\ttotal: 583us\tremaining: 22.8ms\n",
      "39:\tlearn: 0.0421192\ttotal: 9.18ms\tremaining: 0us\n",
      "0:\tlearn: 0.0712041\ttotal: 412us\tremaining: 16.1ms\n",
      "39:\tlearn: 0.0440245\ttotal: 9.45ms\tremaining: 0us\n",
      "0:\tlearn: 0.0746213\ttotal: 602us\tremaining: 23.5ms\n",
      "39:\tlearn: 0.0407511\ttotal: 22.5ms\tremaining: 0us\n",
      "0:\tlearn: 0.0739748\ttotal: 530us\tremaining: 20.7ms\n",
      "39:\tlearn: 0.0447218\ttotal: 24.7ms\tremaining: 0us\n",
      "0:\tlearn: 0.0743173\ttotal: 542us\tremaining: 21.2ms\n",
      "39:\tlearn: 0.0434004\ttotal: 13.9ms\tremaining: 0us\n"
     ]
    },
    {
     "name": "stderr",
     "output_type": "stream",
     "text": [
      "190it [29:26, 11.40s/it]"
     ]
    },
    {
     "name": "stdout",
     "output_type": "stream",
     "text": [
      "0:\tlearn: 0.0995214\ttotal: 463us\tremaining: 18.1ms\n",
      "39:\tlearn: 0.0422707\ttotal: 47.3ms\tremaining: 0us\n",
      "0:\tlearn: 0.1001884\ttotal: 457us\tremaining: 17.9ms\n",
      "39:\tlearn: 0.0507218\ttotal: 9.75ms\tremaining: 0us\n",
      "0:\tlearn: 0.0994416\ttotal: 471us\tremaining: 18.4ms\n",
      "39:\tlearn: 0.0517032\ttotal: 8.75ms\tremaining: 0us\n",
      "0:\tlearn: 0.0980724\ttotal: 564us\tremaining: 22ms\n",
      "39:\tlearn: 0.0574615\ttotal: 8.8ms\tremaining: 0us\n",
      "0:\tlearn: 0.0983310\ttotal: 493us\tremaining: 19.2ms\n",
      "39:\tlearn: 0.0513131\ttotal: 10.1ms\tremaining: 0us\n",
      "0:\tlearn: 0.1057836\ttotal: 618us\tremaining: 24.1ms\n",
      "39:\tlearn: 0.0628948\ttotal: 9.26ms\tremaining: 0us\n",
      "0:\tlearn: 0.1065739\ttotal: 493us\tremaining: 19.3ms\n",
      "39:\tlearn: 0.0633853\ttotal: 24.3ms\tremaining: 0us\n",
      "0:\tlearn: 0.1052823\ttotal: 650us\tremaining: 25.4ms\n",
      "39:\tlearn: 0.0608954\ttotal: 16.8ms\tremaining: 0us\n",
      "0:\tlearn: 0.1057947\ttotal: 513us\tremaining: 20ms\n",
      "39:\tlearn: 0.0665476\ttotal: 9.04ms\tremaining: 0us\n",
      "0:\tlearn: 0.1025583\ttotal: 600us\tremaining: 23.4ms\n",
      "39:\tlearn: 0.0614027\ttotal: 9.39ms\tremaining: 0us\n",
      "0:\tlearn: 0.1028141\ttotal: 533us\tremaining: 20.8ms\n",
      "39:\tlearn: 0.0590418\ttotal: 8.9ms\tremaining: 0us\n",
      "0:\tlearn: 0.1009131\ttotal: 472us\tremaining: 18.4ms\n",
      "39:\tlearn: 0.0615242\ttotal: 9.06ms\tremaining: 0us\n",
      "0:\tlearn: 0.1007221\ttotal: 548us\tremaining: 21.4ms\n",
      "39:\tlearn: 0.0593609\ttotal: 59.9ms\tremaining: 0us\n"
     ]
    },
    {
     "name": "stderr",
     "output_type": "stream",
     "text": [
      "191it [29:37, 11.56s/it]"
     ]
    },
    {
     "name": "stdout",
     "output_type": "stream",
     "text": [
      "0:\tlearn: 0.0911480\ttotal: 464us\tremaining: 18.1ms\n",
      "39:\tlearn: 0.0228686\ttotal: 8.09ms\tremaining: 0us\n",
      "0:\tlearn: 0.0885165\ttotal: 458us\tremaining: 17.9ms\n",
      "39:\tlearn: 0.0259222\ttotal: 50.3ms\tremaining: 0us\n",
      "0:\tlearn: 0.0882524\ttotal: 515us\tremaining: 20.1ms\n",
      "39:\tlearn: 0.0269496\ttotal: 11.4ms\tremaining: 0us\n",
      "0:\tlearn: 0.0864653\ttotal: 476us\tremaining: 18.6ms\n",
      "39:\tlearn: 0.0257827\ttotal: 8.79ms\tremaining: 0us\n",
      "0:\tlearn: 0.1034658\ttotal: 498us\tremaining: 19.5ms\n",
      "39:\tlearn: 0.0396323\ttotal: 9.27ms\tremaining: 0us\n",
      "0:\tlearn: 0.1020514\ttotal: 1.14ms\tremaining: 44.4ms\n",
      "39:\tlearn: 0.0410853\ttotal: 24.3ms\tremaining: 0us\n",
      "0:\tlearn: 0.1003027\ttotal: 458us\tremaining: 17.9ms\n",
      "39:\tlearn: 0.0398863\ttotal: 9.78ms\tremaining: 0us\n",
      "0:\tlearn: 0.1031841\ttotal: 488us\tremaining: 19.1ms\n",
      "39:\tlearn: 0.0414320\ttotal: 15.9ms\tremaining: 0us\n",
      "0:\tlearn: 0.1027287\ttotal: 465us\tremaining: 18.2ms\n",
      "39:\tlearn: 0.0422340\ttotal: 10.1ms\tremaining: 0us\n",
      "0:\tlearn: 0.1032743\ttotal: 528us\tremaining: 20.6ms\n",
      "39:\tlearn: 0.0396131\ttotal: 9.2ms\tremaining: 0us\n",
      "0:\tlearn: 0.1020900\ttotal: 571us\tremaining: 22.3ms\n",
      "39:\tlearn: 0.0420813\ttotal: 9.41ms\tremaining: 0us\n",
      "0:\tlearn: 0.1019886\ttotal: 550us\tremaining: 21.5ms\n",
      "39:\tlearn: 0.0453265\ttotal: 10.2ms\tremaining: 0us\n",
      "0:\tlearn: 0.1012641\ttotal: 553us\tremaining: 21.6ms\n",
      "39:\tlearn: 0.0456157\ttotal: 8.51ms\tremaining: 0us\n"
     ]
    },
    {
     "name": "stderr",
     "output_type": "stream",
     "text": [
      "192it [29:48, 11.33s/it]"
     ]
    },
    {
     "name": "stdout",
     "output_type": "stream",
     "text": [
      "0:\tlearn: 0.0445857\ttotal: 453us\tremaining: 17.7ms\n",
      "39:\tlearn: 0.0141281\ttotal: 8.29ms\tremaining: 0us\n",
      "0:\tlearn: 0.0439841\ttotal: 464us\tremaining: 18.1ms\n",
      "39:\tlearn: 0.0146673\ttotal: 8.69ms\tremaining: 0us\n",
      "0:\tlearn: 0.0434063\ttotal: 466us\tremaining: 18.2ms\n",
      "39:\tlearn: 0.0143324\ttotal: 16.7ms\tremaining: 0us\n",
      "0:\tlearn: 0.0425352\ttotal: 542us\tremaining: 21.1ms\n",
      "39:\tlearn: 0.0147712\ttotal: 9.18ms\tremaining: 0us\n",
      "0:\tlearn: 0.0415826\ttotal: 518us\tremaining: 20.2ms\n",
      "39:\tlearn: 0.0151578\ttotal: 14.1ms\tremaining: 0us\n",
      "0:\tlearn: 0.0415594\ttotal: 489us\tremaining: 19.1ms\n",
      "39:\tlearn: 0.0162567\ttotal: 14.6ms\tremaining: 0us\n",
      "0:\tlearn: 0.0424062\ttotal: 489us\tremaining: 19.1ms\n",
      "39:\tlearn: 0.0155824\ttotal: 8.78ms\tremaining: 0us\n",
      "0:\tlearn: 0.0459961\ttotal: 453us\tremaining: 17.7ms\n",
      "39:\tlearn: 0.0164692\ttotal: 14.3ms\tremaining: 366us\n",
      "0:\tlearn: 0.0470141\ttotal: 510us\tremaining: 19.9ms\n",
      "39:\tlearn: 0.0180115\ttotal: 15.6ms\tremaining: 0us\n",
      "0:\tlearn: 0.0470772\ttotal: 425us\tremaining: 16.6ms\n",
      "39:\tlearn: 0.0162493\ttotal: 14.3ms\tremaining: 0us\n",
      "0:\tlearn: 0.0470946\ttotal: 599us\tremaining: 23.4ms\n",
      "39:\tlearn: 0.0181431\ttotal: 21.4ms\tremaining: 0us\n",
      "0:\tlearn: 0.0469608\ttotal: 525us\tremaining: 20.5ms\n",
      "39:\tlearn: 0.0186135\ttotal: 15.7ms\tremaining: 0us\n",
      "0:\tlearn: 0.0463180\ttotal: 481us\tremaining: 18.8ms\n",
      "39:\tlearn: 0.0186588\ttotal: 52.5ms\tremaining: 0us\n"
     ]
    },
    {
     "name": "stderr",
     "output_type": "stream",
     "text": [
      "197it [29:59,  8.60s/it]"
     ]
    },
    {
     "name": "stdout",
     "output_type": "stream",
     "text": [
      "0:\tlearn: 0.0687511\ttotal: 480us\tremaining: 18.7ms\n",
      "39:\tlearn: 0.0275111\ttotal: 9ms\tremaining: 0us\n",
      "0:\tlearn: 0.0679807\ttotal: 456us\tremaining: 17.8ms\n",
      "39:\tlearn: 0.0345001\ttotal: 9.18ms\tremaining: 0us\n",
      "0:\tlearn: 0.0696210\ttotal: 482us\tremaining: 18.8ms\n",
      "39:\tlearn: 0.0281698\ttotal: 10.1ms\tremaining: 0us\n",
      "0:\tlearn: 0.0700895\ttotal: 511us\tremaining: 19.9ms\n",
      "39:\tlearn: 0.0307142\ttotal: 15.2ms\tremaining: 0us\n",
      "0:\tlearn: 0.0681049\ttotal: 526us\tremaining: 20.5ms\n",
      "39:\tlearn: 0.0319189\ttotal: 16.1ms\tremaining: 0us\n",
      "0:\tlearn: 0.0675180\ttotal: 472us\tremaining: 18.4ms\n",
      "39:\tlearn: 0.0298456\ttotal: 9.74ms\tremaining: 249us\n",
      "0:\tlearn: 0.0685593\ttotal: 486us\tremaining: 19ms\n",
      "39:\tlearn: 0.0314414\ttotal: 9.31ms\tremaining: 0us\n",
      "0:\tlearn: 0.0675140\ttotal: 534us\tremaining: 20.8ms\n",
      "39:\tlearn: 0.0292739\ttotal: 9.28ms\tremaining: 0us\n",
      "0:\tlearn: 0.0691418\ttotal: 508us\tremaining: 19.8ms\n",
      "39:\tlearn: 0.0296559\ttotal: 57.1ms\tremaining: 0us\n",
      "0:\tlearn: 0.0671945\ttotal: 485us\tremaining: 18.9ms\n",
      "39:\tlearn: 0.0307893\ttotal: 62.8ms\tremaining: 0us\n",
      "0:\tlearn: 0.0694005\ttotal: 539us\tremaining: 21ms\n",
      "39:\tlearn: 0.0319168\ttotal: 10.3ms\tremaining: 0us\n",
      "0:\tlearn: 0.0685887\ttotal: 569us\tremaining: 22.2ms\n",
      "39:\tlearn: 0.0326593\ttotal: 14.7ms\tremaining: 0us\n",
      "0:\tlearn: 0.0690282\ttotal: 648us\tremaining: 25.3ms\n",
      "39:\tlearn: 0.0342517\ttotal: 9.35ms\tremaining: 0us\n"
     ]
    },
    {
     "name": "stderr",
     "output_type": "stream",
     "text": [
      "198it [30:10,  9.14s/it]"
     ]
    },
    {
     "name": "stdout",
     "output_type": "stream",
     "text": [
      "0:\tlearn: 0.0261846\ttotal: 483us\tremaining: 18.9ms\n",
      "39:\tlearn: 0.0106583\ttotal: 45.1ms\tremaining: 0us\n",
      "0:\tlearn: 0.0265225\ttotal: 509us\tremaining: 19.9ms\n",
      "39:\tlearn: 0.0114070\ttotal: 15.7ms\tremaining: 0us\n",
      "0:\tlearn: 0.0277821\ttotal: 489us\tremaining: 19.1ms\n",
      "39:\tlearn: 0.0108966\ttotal: 14.8ms\tremaining: 0us\n",
      "0:\tlearn: 0.0278439\ttotal: 522us\tremaining: 20.4ms\n",
      "39:\tlearn: 0.0105488\ttotal: 9.57ms\tremaining: 0us\n",
      "0:\tlearn: 0.0347813\ttotal: 548us\tremaining: 21.4ms\n",
      "39:\tlearn: 0.0160939\ttotal: 9.04ms\tremaining: 0us\n",
      "0:\tlearn: 0.0346080\ttotal: 557us\tremaining: 21.7ms\n",
      "39:\tlearn: 0.0161972\ttotal: 20.7ms\tremaining: 0us\n",
      "0:\tlearn: 0.0344377\ttotal: 537us\tremaining: 21ms\n",
      "39:\tlearn: 0.0157140\ttotal: 9.63ms\tremaining: 0us\n",
      "0:\tlearn: 0.0355256\ttotal: 479us\tremaining: 18.7ms\n",
      "39:\tlearn: 0.0158139\ttotal: 9.67ms\tremaining: 0us\n",
      "0:\tlearn: 0.0355077\ttotal: 480us\tremaining: 18.7ms\n",
      "39:\tlearn: 0.0153183\ttotal: 53.2ms\tremaining: 0us\n",
      "0:\tlearn: 0.0346683\ttotal: 589us\tremaining: 23ms\n",
      "39:\tlearn: 0.0156792\ttotal: 9.78ms\tremaining: 0us\n",
      "0:\tlearn: 0.0342076\ttotal: 636us\tremaining: 24.8ms\n",
      "39:\tlearn: 0.0160725\ttotal: 14.6ms\tremaining: 0us\n",
      "0:\tlearn: 0.0340447\ttotal: 509us\tremaining: 19.9ms\n",
      "39:\tlearn: 0.0161708\ttotal: 13.8ms\tremaining: 0us\n",
      "0:\tlearn: 0.0346151\ttotal: 608us\tremaining: 23.7ms\n",
      "39:\tlearn: 0.0158054\ttotal: 9.35ms\tremaining: 0us\n"
     ]
    },
    {
     "name": "stderr",
     "output_type": "stream",
     "text": [
      "199it [30:21,  9.64s/it]"
     ]
    },
    {
     "name": "stdout",
     "output_type": "stream",
     "text": [
      "0:\tlearn: 0.0281858\ttotal: 481us\tremaining: 18.8ms\n",
      "39:\tlearn: 0.0067114\ttotal: 13.9ms\tremaining: 0us\n",
      "0:\tlearn: 0.0280832\ttotal: 566us\tremaining: 22.1ms\n",
      "39:\tlearn: 0.0067467\ttotal: 14.4ms\tremaining: 0us\n",
      "0:\tlearn: 0.0279082\ttotal: 516us\tremaining: 20.1ms\n",
      "39:\tlearn: 0.0066962\ttotal: 31.5ms\tremaining: 0us\n",
      "0:\tlearn: 0.0273722\ttotal: 482us\tremaining: 18.8ms\n",
      "39:\tlearn: 0.0070183\ttotal: 11.6ms\tremaining: 0us\n",
      "0:\tlearn: 0.0349401\ttotal: 517us\tremaining: 20.2ms\n",
      "39:\tlearn: 0.0146900\ttotal: 14.2ms\tremaining: 0us\n",
      "0:\tlearn: 0.0349493\ttotal: 484us\tremaining: 18.9ms\n",
      "39:\tlearn: 0.0164916\ttotal: 26.8ms\tremaining: 0us\n",
      "0:\tlearn: 0.0357171\ttotal: 491us\tremaining: 19.2ms\n",
      "39:\tlearn: 0.0132837\ttotal: 31ms\tremaining: 0us\n",
      "0:\tlearn: 0.0372148\ttotal: 470us\tremaining: 18.3ms\n",
      "39:\tlearn: 0.0140714\ttotal: 9.76ms\tremaining: 0us\n",
      "0:\tlearn: 0.0379382\ttotal: 518us\tremaining: 20.2ms\n",
      "39:\tlearn: 0.0130578\ttotal: 9.6ms\tremaining: 0us\n",
      "0:\tlearn: 0.0371151\ttotal: 537us\tremaining: 21ms\n",
      "39:\tlearn: 0.0139375\ttotal: 8.61ms\tremaining: 0us\n",
      "0:\tlearn: 0.0368099\ttotal: 569us\tremaining: 22.2ms\n",
      "39:\tlearn: 0.0140631\ttotal: 24.1ms\tremaining: 0us\n",
      "0:\tlearn: 0.0363975\ttotal: 500us\tremaining: 19.5ms\n",
      "39:\tlearn: 0.0137526\ttotal: 10.1ms\tremaining: 0us\n",
      "0:\tlearn: 0.0370405\ttotal: 606us\tremaining: 23.6ms\n",
      "39:\tlearn: 0.0146485\ttotal: 9.11ms\tremaining: 0us\n"
     ]
    },
    {
     "name": "stderr",
     "output_type": "stream",
     "text": [
      "200it [30:31,  9.86s/it]"
     ]
    },
    {
     "name": "stdout",
     "output_type": "stream",
     "text": [
      "0:\tlearn: 0.0325209\ttotal: 462us\tremaining: 18ms\n",
      "39:\tlearn: 0.0097514\ttotal: 8.11ms\tremaining: 0us\n",
      "0:\tlearn: 0.0328282\ttotal: 450us\tremaining: 17.6ms\n",
      "39:\tlearn: 0.0102821\ttotal: 12.6ms\tremaining: 0us\n",
      "0:\tlearn: 0.0327810\ttotal: 679us\tremaining: 26.5ms\n",
      "39:\tlearn: 0.0099471\ttotal: 14.3ms\tremaining: 0us\n",
      "0:\tlearn: 0.0326463\ttotal: 450us\tremaining: 17.6ms\n",
      "39:\tlearn: 0.0097028\ttotal: 9.14ms\tremaining: 0us\n",
      "0:\tlearn: 0.0401361\ttotal: 506us\tremaining: 19.8ms\n",
      "39:\tlearn: 0.0170787\ttotal: 9.02ms\tremaining: 0us\n",
      "0:\tlearn: 0.0397927\ttotal: 440us\tremaining: 17.2ms\n",
      "39:\tlearn: 0.0160782\ttotal: 13.2ms\tremaining: 0us\n",
      "0:\tlearn: 0.0406547\ttotal: 522us\tremaining: 20.4ms\n",
      "39:\tlearn: 0.0153926\ttotal: 15.5ms\tremaining: 0us\n",
      "0:\tlearn: 0.0425973\ttotal: 483us\tremaining: 18.8ms\n",
      "39:\tlearn: 0.0159030\ttotal: 9.04ms\tremaining: 0us\n",
      "0:\tlearn: 0.0449975\ttotal: 480us\tremaining: 18.7ms\n",
      "39:\tlearn: 0.0158887\ttotal: 9.38ms\tremaining: 0us\n",
      "0:\tlearn: 0.0449718\ttotal: 976us\tremaining: 38.1ms\n",
      "39:\tlearn: 0.0159967\ttotal: 17.8ms\tremaining: 0us\n",
      "0:\tlearn: 0.0448308\ttotal: 550us\tremaining: 21.5ms\n",
      "39:\tlearn: 0.0159952\ttotal: 14.6ms\tremaining: 0us\n",
      "0:\tlearn: 0.0440744\ttotal: 553us\tremaining: 21.6ms\n",
      "39:\tlearn: 0.0166901\ttotal: 8.83ms\tremaining: 0us\n",
      "0:\tlearn: 0.0451587\ttotal: 593us\tremaining: 23.1ms\n",
      "39:\tlearn: 0.0162003\ttotal: 13.8ms\tremaining: 0us\n"
     ]
    },
    {
     "name": "stderr",
     "output_type": "stream",
     "text": [
      "201it [30:41, 10.00s/it]"
     ]
    },
    {
     "name": "stdout",
     "output_type": "stream",
     "text": [
      "0:\tlearn: 0.0627116\ttotal: 464us\tremaining: 18.1ms\n",
      "39:\tlearn: 0.0288108\ttotal: 10.2ms\tremaining: 0us\n",
      "0:\tlearn: 0.0621760\ttotal: 468us\tremaining: 18.3ms\n",
      "39:\tlearn: 0.0282332\ttotal: 15.2ms\tremaining: 0us\n",
      "0:\tlearn: 0.0613513\ttotal: 539us\tremaining: 21.1ms\n",
      "39:\tlearn: 0.0310926\ttotal: 9.38ms\tremaining: 0us\n",
      "0:\tlearn: 0.0604637\ttotal: 470us\tremaining: 18.3ms\n",
      "39:\tlearn: 0.0291721\ttotal: 8.51ms\tremaining: 0us\n",
      "0:\tlearn: 0.0615214\ttotal: 521us\tremaining: 20.3ms\n",
      "39:\tlearn: 0.0311301\ttotal: 9.93ms\tremaining: 0us\n",
      "0:\tlearn: 0.0609389\ttotal: 495us\tremaining: 19.3ms\n",
      "39:\tlearn: 0.0313591\ttotal: 110ms\tremaining: 0us\n",
      "0:\tlearn: 0.0602348\ttotal: 1.16ms\tremaining: 45.4ms\n",
      "39:\tlearn: 0.0334341\ttotal: 15.2ms\tremaining: 0us\n",
      "0:\tlearn: 0.0602545\ttotal: 496us\tremaining: 19.4ms\n",
      "39:\tlearn: 0.0309876\ttotal: 8.93ms\tremaining: 0us\n",
      "0:\tlearn: 0.0599865\ttotal: 482us\tremaining: 18.8ms\n",
      "39:\tlearn: 0.0325388\ttotal: 8.95ms\tremaining: 0us\n",
      "0:\tlearn: 0.0593099\ttotal: 543us\tremaining: 21.2ms\n",
      "39:\tlearn: 0.0316204\ttotal: 11.5ms\tremaining: 0us\n",
      "0:\tlearn: 0.0579970\ttotal: 539us\tremaining: 21.1ms\n",
      "39:\tlearn: 0.0317721\ttotal: 69.3ms\tremaining: 0us\n",
      "0:\tlearn: 0.0586216\ttotal: 507us\tremaining: 19.8ms\n",
      "39:\tlearn: 0.0326749\ttotal: 9.82ms\tremaining: 0us\n",
      "0:\tlearn: 0.0579104\ttotal: 620us\tremaining: 24.2ms\n",
      "39:\tlearn: 0.0305160\ttotal: 35.1ms\tremaining: 0us\n"
     ]
    },
    {
     "name": "stderr",
     "output_type": "stream",
     "text": [
      "202it [30:52, 10.21s/it]"
     ]
    },
    {
     "name": "stdout",
     "output_type": "stream",
     "text": [
      "0:\tlearn: 0.1491635\ttotal: 418us\tremaining: 16.3ms\n",
      "39:\tlearn: 0.0724317\ttotal: 8.39ms\tremaining: 0us\n",
      "0:\tlearn: 0.1536762\ttotal: 572us\tremaining: 22.3ms\n",
      "39:\tlearn: 0.0757991\ttotal: 33.5ms\tremaining: 0us\n",
      "0:\tlearn: 0.1497458\ttotal: 438us\tremaining: 17.1ms\n",
      "39:\tlearn: 0.0675231\ttotal: 45.9ms\tremaining: 0us\n",
      "0:\tlearn: 0.1511002\ttotal: 766us\tremaining: 29.9ms\n",
      "39:\tlearn: 0.0707526\ttotal: 8.81ms\tremaining: 0us\n",
      "0:\tlearn: 0.1511063\ttotal: 516us\tremaining: 20.2ms\n",
      "39:\tlearn: 0.0808477\ttotal: 12.7ms\tremaining: 0us\n",
      "0:\tlearn: 0.1484609\ttotal: 541us\tremaining: 21.1ms\n",
      "39:\tlearn: 0.0739066\ttotal: 12.7ms\tremaining: 0us\n",
      "0:\tlearn: 0.1573390\ttotal: 506us\tremaining: 19.8ms\n",
      "39:\tlearn: 0.0899522\ttotal: 8.68ms\tremaining: 0us\n",
      "0:\tlearn: 0.1562041\ttotal: 569us\tremaining: 22.2ms\n",
      "39:\tlearn: 0.0889756\ttotal: 8.76ms\tremaining: 0us\n",
      "0:\tlearn: 0.1563140\ttotal: 518us\tremaining: 20.2ms\n",
      "39:\tlearn: 0.0946851\ttotal: 10.9ms\tremaining: 0us\n",
      "0:\tlearn: 0.1557622\ttotal: 486us\tremaining: 19ms\n",
      "39:\tlearn: 0.0928309\ttotal: 10.1ms\tremaining: 0us\n",
      "0:\tlearn: 0.1531340\ttotal: 494us\tremaining: 19.3ms\n",
      "39:\tlearn: 0.0841671\ttotal: 10ms\tremaining: 0us\n",
      "0:\tlearn: 0.1530986\ttotal: 448us\tremaining: 17.5ms\n",
      "39:\tlearn: 0.0890072\ttotal: 9.24ms\tremaining: 0us\n"
     ]
    },
    {
     "name": "stderr",
     "output_type": "stream",
     "text": [
      "203it [31:01,  9.94s/it]"
     ]
    },
    {
     "name": "stdout",
     "output_type": "stream",
     "text": [
      "0:\tlearn: 0.0593448\ttotal: 541us\tremaining: 21.1ms\n",
      "39:\tlearn: 0.0176904\ttotal: 51.2ms\tremaining: 0us\n",
      "0:\tlearn: 0.0599658\ttotal: 541us\tremaining: 21.1ms\n",
      "39:\tlearn: 0.0189221\ttotal: 16.2ms\tremaining: 0us\n",
      "0:\tlearn: 0.0597698\ttotal: 536us\tremaining: 20.9ms\n",
      "39:\tlearn: 0.0192339\ttotal: 15.1ms\tremaining: 0us\n",
      "0:\tlearn: 0.0583669\ttotal: 540us\tremaining: 21.1ms\n",
      "39:\tlearn: 0.0180682\ttotal: 11.2ms\tremaining: 0us\n",
      "0:\tlearn: 0.0580476\ttotal: 509us\tremaining: 19.9ms\n",
      "39:\tlearn: 0.0181979\ttotal: 16.5ms\tremaining: 0us\n",
      "0:\tlearn: 0.0585915\ttotal: 599us\tremaining: 23.4ms\n",
      "39:\tlearn: 0.0190100\ttotal: 17.4ms\tremaining: 0us\n",
      "0:\tlearn: 0.0573495\ttotal: 803us\tremaining: 31.3ms\n",
      "39:\tlearn: 0.0186276\ttotal: 58.3ms\tremaining: 0us\n",
      "0:\tlearn: 0.0633261\ttotal: 496us\tremaining: 19.4ms\n",
      "39:\tlearn: 0.0208119\ttotal: 10.1ms\tremaining: 0us\n",
      "0:\tlearn: 0.0634561\ttotal: 496us\tremaining: 19.4ms\n",
      "39:\tlearn: 0.0190264\ttotal: 14.6ms\tremaining: 0us\n",
      "0:\tlearn: 0.0622573\ttotal: 580us\tremaining: 22.6ms\n",
      "39:\tlearn: 0.0194626\ttotal: 10.5ms\tremaining: 0us\n",
      "0:\tlearn: 0.0613107\ttotal: 570us\tremaining: 22.2ms\n",
      "39:\tlearn: 0.0186027\ttotal: 11.8ms\tremaining: 0us\n",
      "0:\tlearn: 0.0627274\ttotal: 532us\tremaining: 20.8ms\n",
      "39:\tlearn: 0.0195984\ttotal: 14.3ms\tremaining: 366us\n",
      "0:\tlearn: 0.0596667\ttotal: 533us\tremaining: 20.8ms\n",
      "39:\tlearn: 0.0184352\ttotal: 9.4ms\tremaining: 0us\n"
     ]
    },
    {
     "name": "stderr",
     "output_type": "stream",
     "text": [
      "204it [31:12, 10.10s/it]"
     ]
    },
    {
     "name": "stdout",
     "output_type": "stream",
     "text": [
      "0:\tlearn: 0.0543624\ttotal: 463us\tremaining: 18.1ms\n",
      "39:\tlearn: 0.0142091\ttotal: 13.4ms\tremaining: 0us\n",
      "0:\tlearn: 0.0562766\ttotal: 485us\tremaining: 18.9ms\n",
      "39:\tlearn: 0.0169069\ttotal: 13.4ms\tremaining: 0us\n",
      "0:\tlearn: 0.0562698\ttotal: 517us\tremaining: 20.2ms\n",
      "39:\tlearn: 0.0169675\ttotal: 12.9ms\tremaining: 0us\n",
      "0:\tlearn: 0.0554748\ttotal: 530us\tremaining: 20.7ms\n",
      "39:\tlearn: 0.0167501\ttotal: 8.97ms\tremaining: 0us\n",
      "0:\tlearn: 0.0555579\ttotal: 539us\tremaining: 21ms\n",
      "39:\tlearn: 0.0194846\ttotal: 8.96ms\tremaining: 0us\n",
      "0:\tlearn: 0.0554411\ttotal: 566us\tremaining: 22.1ms\n",
      "39:\tlearn: 0.0182287\ttotal: 9.5ms\tremaining: 0us\n",
      "0:\tlearn: 0.0539084\ttotal: 519us\tremaining: 20.3ms\n",
      "39:\tlearn: 0.0174202\ttotal: 9.07ms\tremaining: 0us\n",
      "0:\tlearn: 0.0582060\ttotal: 496us\tremaining: 19.4ms\n",
      "39:\tlearn: 0.0190690\ttotal: 20.1ms\tremaining: 0us\n",
      "0:\tlearn: 0.0578756\ttotal: 561us\tremaining: 21.9ms\n",
      "39:\tlearn: 0.0182051\ttotal: 38.3ms\tremaining: 0us\n",
      "0:\tlearn: 0.0589893\ttotal: 590us\tremaining: 23ms\n",
      "39:\tlearn: 0.0204939\ttotal: 9.48ms\tremaining: 0us\n",
      "0:\tlearn: 0.0575066\ttotal: 596us\tremaining: 23.3ms\n",
      "39:\tlearn: 0.0200764\ttotal: 51.5ms\tremaining: 0us\n",
      "0:\tlearn: 0.0586642\ttotal: 512us\tremaining: 20ms\n",
      "39:\tlearn: 0.0193635\ttotal: 9.49ms\tremaining: 0us\n",
      "0:\tlearn: 0.0570211\ttotal: 1.7ms\tremaining: 66.2ms\n",
      "39:\tlearn: 0.0212553\ttotal: 41ms\tremaining: 0us\n"
     ]
    },
    {
     "name": "stderr",
     "output_type": "stream",
     "text": [
      "205it [31:23, 10.44s/it]"
     ]
    },
    {
     "name": "stdout",
     "output_type": "stream",
     "text": [
      "0:\tlearn: 0.0681681\ttotal: 510us\tremaining: 19.9ms\n",
      "39:\tlearn: 0.0277237\ttotal: 13.4ms\tremaining: 0us\n",
      "0:\tlearn: 0.0669334\ttotal: 487us\tremaining: 19ms\n",
      "39:\tlearn: 0.0330595\ttotal: 10.4ms\tremaining: 0us\n",
      "0:\tlearn: 0.0717938\ttotal: 738us\tremaining: 28.8ms\n",
      "39:\tlearn: 0.0373568\ttotal: 11.1ms\tremaining: 0us\n",
      "0:\tlearn: 0.0754358\ttotal: 555us\tremaining: 21.7ms\n",
      "39:\tlearn: 0.0369672\ttotal: 15ms\tremaining: 0us\n",
      "0:\tlearn: 0.0861244\ttotal: 533us\tremaining: 20.8ms\n",
      "39:\tlearn: 0.0441937\ttotal: 16.3ms\tremaining: 0us\n",
      "0:\tlearn: 0.0984827\ttotal: 609us\tremaining: 23.8ms\n",
      "39:\tlearn: 0.0493859\ttotal: 10.3ms\tremaining: 0us\n",
      "0:\tlearn: 0.0983646\ttotal: 1.33ms\tremaining: 51.8ms\n",
      "39:\tlearn: 0.0436295\ttotal: 178ms\tremaining: 0us\n",
      "0:\tlearn: 0.1001272\ttotal: 487us\tremaining: 19ms\n",
      "39:\tlearn: 0.0420089\ttotal: 9.38ms\tremaining: 0us\n",
      "0:\tlearn: 0.0987106\ttotal: 565us\tremaining: 22ms\n",
      "39:\tlearn: 0.0420199\ttotal: 9.41ms\tremaining: 0us\n",
      "0:\tlearn: 0.0972331\ttotal: 558us\tremaining: 21.8ms\n",
      "39:\tlearn: 0.0456396\ttotal: 9.69ms\tremaining: 0us\n",
      "0:\tlearn: 0.1079812\ttotal: 502us\tremaining: 19.6ms\n",
      "39:\tlearn: 0.0513540\ttotal: 11.3ms\tremaining: 0us\n",
      "0:\tlearn: 0.1151952\ttotal: 541us\tremaining: 21.1ms\n",
      "39:\tlearn: 0.0497969\ttotal: 9.66ms\tremaining: 0us\n",
      "0:\tlearn: 0.1220018\ttotal: 568us\tremaining: 22.2ms\n",
      "39:\tlearn: 0.0538566\ttotal: 14.5ms\tremaining: 0us\n"
     ]
    },
    {
     "name": "stderr",
     "output_type": "stream",
     "text": [
      "206it [31:35, 10.85s/it]"
     ]
    },
    {
     "name": "stdout",
     "output_type": "stream",
     "text": [
      "0:\tlearn: 0.0318194\ttotal: 735us\tremaining: 28.7ms\n",
      "39:\tlearn: 0.0119295\ttotal: 8.81ms\tremaining: 0us\n",
      "0:\tlearn: 0.0324379\ttotal: 484us\tremaining: 18.9ms\n",
      "39:\tlearn: 0.0129945\ttotal: 25ms\tremaining: 0us\n",
      "0:\tlearn: 0.0329328\ttotal: 554us\tremaining: 21.6ms\n",
      "39:\tlearn: 0.0138241\ttotal: 32.3ms\tremaining: 0us\n",
      "0:\tlearn: 0.0326116\ttotal: 544us\tremaining: 21.2ms\n",
      "39:\tlearn: 0.0143467\ttotal: 15ms\tremaining: 0us\n",
      "0:\tlearn: 0.0327737\ttotal: 747us\tremaining: 29.1ms\n",
      "39:\tlearn: 0.0153873\ttotal: 13.8ms\tremaining: 0us\n",
      "0:\tlearn: 0.0340574\ttotal: 528us\tremaining: 20.6ms\n",
      "39:\tlearn: 0.0162334\ttotal: 10.3ms\tremaining: 0us\n",
      "0:\tlearn: 0.0356473\ttotal: 522us\tremaining: 20.4ms\n",
      "39:\tlearn: 0.0164450\ttotal: 42.3ms\tremaining: 0us\n",
      "0:\tlearn: 0.0368882\ttotal: 1.2ms\tremaining: 46.9ms\n",
      "39:\tlearn: 0.0163620\ttotal: 37.3ms\tremaining: 0us\n",
      "0:\tlearn: 0.0378484\ttotal: 514us\tremaining: 20.1ms\n",
      "39:\tlearn: 0.0168324\ttotal: 9.17ms\tremaining: 0us\n",
      "0:\tlearn: 0.0375238\ttotal: 636us\tremaining: 24.8ms\n",
      "39:\tlearn: 0.0159212\ttotal: 24.9ms\tremaining: 0us\n",
      "0:\tlearn: 0.0374361\ttotal: 611us\tremaining: 23.8ms\n",
      "39:\tlearn: 0.0164728\ttotal: 9.44ms\tremaining: 0us\n",
      "0:\tlearn: 0.0365054\ttotal: 553us\tremaining: 21.6ms\n",
      "39:\tlearn: 0.0163693\ttotal: 9.47ms\tremaining: 0us\n",
      "0:\tlearn: 0.0363758\ttotal: 610us\tremaining: 23.8ms\n",
      "39:\tlearn: 0.0150665\ttotal: 24.7ms\tremaining: 0us\n"
     ]
    },
    {
     "name": "stderr",
     "output_type": "stream",
     "text": [
      "207it [31:48, 11.48s/it]"
     ]
    },
    {
     "name": "stdout",
     "output_type": "stream",
     "text": [
      "0:\tlearn: 0.0501559\ttotal: 456us\tremaining: 17.8ms\n",
      "39:\tlearn: 0.0170386\ttotal: 23.2ms\tremaining: 0us\n",
      "0:\tlearn: 0.0498281\ttotal: 497us\tremaining: 19.4ms\n",
      "39:\tlearn: 0.0190474\ttotal: 29.9ms\tremaining: 0us\n",
      "0:\tlearn: 0.0484484\ttotal: 461us\tremaining: 18ms\n",
      "39:\tlearn: 0.0168961\ttotal: 9.89ms\tremaining: 0us\n",
      "0:\tlearn: 0.0472852\ttotal: 1.17ms\tremaining: 45.5ms\n",
      "39:\tlearn: 0.0165565\ttotal: 9.95ms\tremaining: 0us\n",
      "0:\tlearn: 0.0483905\ttotal: 527us\tremaining: 20.6ms\n",
      "39:\tlearn: 0.0177195\ttotal: 35.2ms\tremaining: 0us\n",
      "0:\tlearn: 0.0480949\ttotal: 547us\tremaining: 21.4ms\n",
      "39:\tlearn: 0.0171617\ttotal: 20.7ms\tremaining: 0us\n",
      "0:\tlearn: 0.0496874\ttotal: 504us\tremaining: 19.7ms\n",
      "39:\tlearn: 0.0203084\ttotal: 14.4ms\tremaining: 0us\n",
      "0:\tlearn: 0.0549132\ttotal: 473us\tremaining: 18.5ms\n",
      "39:\tlearn: 0.0234004\ttotal: 46.4ms\tremaining: 0us\n",
      "0:\tlearn: 0.0555783\ttotal: 546us\tremaining: 21.3ms\n",
      "39:\tlearn: 0.0221109\ttotal: 9.38ms\tremaining: 0us\n",
      "0:\tlearn: 0.0549801\ttotal: 562us\tremaining: 21.9ms\n",
      "39:\tlearn: 0.0223980\ttotal: 10.9ms\tremaining: 0us\n",
      "0:\tlearn: 0.0537510\ttotal: 605us\tremaining: 23.6ms\n",
      "39:\tlearn: 0.0217630\ttotal: 14.7ms\tremaining: 0us\n",
      "0:\tlearn: 0.0554106\ttotal: 606us\tremaining: 23.7ms\n",
      "39:\tlearn: 0.0236371\ttotal: 9.22ms\tremaining: 0us\n",
      "0:\tlearn: 0.0540291\ttotal: 556us\tremaining: 21.7ms\n",
      "39:\tlearn: 0.0223134\ttotal: 9.09ms\tremaining: 0us\n"
     ]
    },
    {
     "name": "stderr",
     "output_type": "stream",
     "text": [
      "208it [31:59, 11.28s/it]"
     ]
    },
    {
     "name": "stdout",
     "output_type": "stream",
     "text": [
      "0:\tlearn: 0.0721249\ttotal: 445us\tremaining: 17.4ms\n",
      "39:\tlearn: 0.0426545\ttotal: 13.4ms\tremaining: 0us\n",
      "0:\tlearn: 0.0714593\ttotal: 538us\tremaining: 21ms\n",
      "39:\tlearn: 0.0350473\ttotal: 17.6ms\tremaining: 0us\n",
      "0:\tlearn: 0.0708594\ttotal: 475us\tremaining: 18.5ms\n",
      "39:\tlearn: 0.0355101\ttotal: 48.7ms\tremaining: 0us\n",
      "0:\tlearn: 0.0714422\ttotal: 581us\tremaining: 22.7ms\n",
      "39:\tlearn: 0.0377730\ttotal: 10.5ms\tremaining: 0us\n",
      "0:\tlearn: 0.0703066\ttotal: 772us\tremaining: 30.1ms\n",
      "39:\tlearn: 0.0348794\ttotal: 16.4ms\tremaining: 0us\n",
      "0:\tlearn: 0.0702226\ttotal: 1.22ms\tremaining: 47.7ms\n",
      "39:\tlearn: 0.0374629\ttotal: 35.5ms\tremaining: 0us\n",
      "0:\tlearn: 0.0851807\ttotal: 498us\tremaining: 19.4ms\n",
      "39:\tlearn: 0.0468104\ttotal: 10.6ms\tremaining: 0us\n",
      "0:\tlearn: 0.0829501\ttotal: 540us\tremaining: 21.1ms\n",
      "39:\tlearn: 0.0448958\ttotal: 46.4ms\tremaining: 0us\n",
      "0:\tlearn: 0.0831915\ttotal: 608us\tremaining: 23.7ms\n",
      "39:\tlearn: 0.0508396\ttotal: 26ms\tremaining: 0us\n",
      "0:\tlearn: 0.0823967\ttotal: 547us\tremaining: 21.4ms\n",
      "39:\tlearn: 0.0500692\ttotal: 9.91ms\tremaining: 0us\n",
      "0:\tlearn: 0.0853723\ttotal: 559us\tremaining: 21.8ms\n",
      "39:\tlearn: 0.0491388\ttotal: 32.8ms\tremaining: 0us\n",
      "0:\tlearn: 0.0838394\ttotal: 599us\tremaining: 23.4ms\n",
      "39:\tlearn: 0.0454704\ttotal: 10.7ms\tremaining: 0us\n",
      "0:\tlearn: 0.0826647\ttotal: 604us\tremaining: 23.6ms\n",
      "39:\tlearn: 0.0474292\ttotal: 28.1ms\tremaining: 0us\n"
     ]
    },
    {
     "name": "stderr",
     "output_type": "stream",
     "text": [
      "209it [32:09, 11.11s/it]"
     ]
    },
    {
     "name": "stdout",
     "output_type": "stream",
     "text": [
      "0:\tlearn: 0.0185442\ttotal: 572us\tremaining: 22.3ms\n",
      "39:\tlearn: 0.0065203\ttotal: 10.2ms\tremaining: 0us\n",
      "0:\tlearn: 0.0179700\ttotal: 487us\tremaining: 19ms\n",
      "39:\tlearn: 0.0068639\ttotal: 9.73ms\tremaining: 0us\n",
      "0:\tlearn: 0.0179867\ttotal: 549us\tremaining: 21.4ms\n",
      "39:\tlearn: 0.0071309\ttotal: 8.54ms\tremaining: 0us\n",
      "0:\tlearn: 0.0204022\ttotal: 1.2ms\tremaining: 46.7ms\n",
      "39:\tlearn: 0.0089039\ttotal: 44.8ms\tremaining: 0us\n",
      "0:\tlearn: 0.0645116\ttotal: 563us\tremaining: 22ms\n",
      "39:\tlearn: 0.0275320\ttotal: 8.52ms\tremaining: 0us\n",
      "0:\tlearn: 0.0634207\ttotal: 511us\tremaining: 19.9ms\n",
      "39:\tlearn: 0.0273291\ttotal: 9.23ms\tremaining: 0us\n",
      "0:\tlearn: 0.0626090\ttotal: 508us\tremaining: 19.8ms\n",
      "39:\tlearn: 0.0266315\ttotal: 8.89ms\tremaining: 0us\n",
      "0:\tlearn: 0.0629691\ttotal: 539us\tremaining: 21ms\n",
      "39:\tlearn: 0.0266965\ttotal: 8.62ms\tremaining: 0us\n",
      "0:\tlearn: 0.0624098\ttotal: 493us\tremaining: 19.2ms\n",
      "39:\tlearn: 0.0260853\ttotal: 8.35ms\tremaining: 0us\n",
      "0:\tlearn: 0.0627724\ttotal: 497us\tremaining: 19.4ms\n",
      "39:\tlearn: 0.0245941\ttotal: 42.8ms\tremaining: 0us\n",
      "0:\tlearn: 0.0611585\ttotal: 446us\tremaining: 17.4ms\n",
      "39:\tlearn: 0.0256501\ttotal: 14.3ms\tremaining: 0us\n",
      "0:\tlearn: 0.0601273\ttotal: 568us\tremaining: 22.2ms\n",
      "39:\tlearn: 0.0251506\ttotal: 14.7ms\tremaining: 0us\n",
      "0:\tlearn: 0.0592304\ttotal: 640us\tremaining: 25ms\n",
      "39:\tlearn: 0.0259560\ttotal: 45.9ms\tremaining: 0us\n"
     ]
    },
    {
     "name": "stderr",
     "output_type": "stream",
     "text": [
      "210it [32:20, 11.01s/it]"
     ]
    },
    {
     "name": "stdout",
     "output_type": "stream",
     "text": [
      "0:\tlearn: 0.0379977\ttotal: 443us\tremaining: 17.3ms\n",
      "39:\tlearn: 0.0108011\ttotal: 13.7ms\tremaining: 0us\n",
      "0:\tlearn: 0.0372199\ttotal: 538us\tremaining: 21ms\n",
      "39:\tlearn: 0.0113849\ttotal: 10.5ms\tremaining: 0us\n",
      "0:\tlearn: 0.0367759\ttotal: 694us\tremaining: 27.1ms\n",
      "39:\tlearn: 0.0112433\ttotal: 43.5ms\tremaining: 0us\n",
      "0:\tlearn: 0.0365391\ttotal: 714us\tremaining: 27.9ms\n",
      "39:\tlearn: 0.0121465\ttotal: 8.74ms\tremaining: 0us\n",
      "0:\tlearn: 0.0681499\ttotal: 616us\tremaining: 24ms\n",
      "39:\tlearn: 0.0321953\ttotal: 10.1ms\tremaining: 0us\n",
      "0:\tlearn: 0.0668006\ttotal: 462us\tremaining: 18ms\n",
      "39:\tlearn: 0.0303206\ttotal: 10.4ms\tremaining: 0us\n",
      "0:\tlearn: 0.0655861\ttotal: 499us\tremaining: 19.5ms\n",
      "39:\tlearn: 0.0288147\ttotal: 10ms\tremaining: 0us\n",
      "0:\tlearn: 0.0657128\ttotal: 486us\tremaining: 19ms\n",
      "39:\tlearn: 0.0293060\ttotal: 27.8ms\tremaining: 0us\n",
      "0:\tlearn: 0.0652365\ttotal: 917us\tremaining: 35.8ms\n",
      "39:\tlearn: 0.0299587\ttotal: 12.4ms\tremaining: 0us\n",
      "0:\tlearn: 0.0646146\ttotal: 518us\tremaining: 20.2ms\n",
      "39:\tlearn: 0.0288476\ttotal: 8.93ms\tremaining: 0us\n",
      "0:\tlearn: 0.0633289\ttotal: 501us\tremaining: 19.5ms\n",
      "39:\tlearn: 0.0288670\ttotal: 8.81ms\tremaining: 0us\n",
      "0:\tlearn: 0.0621046\ttotal: 518us\tremaining: 20.2ms\n",
      "39:\tlearn: 0.0297425\ttotal: 14.5ms\tremaining: 0us\n",
      "0:\tlearn: 0.0620387\ttotal: 562us\tremaining: 21.9ms\n",
      "39:\tlearn: 0.0303607\ttotal: 9.26ms\tremaining: 0us\n"
     ]
    },
    {
     "name": "stderr",
     "output_type": "stream",
     "text": [
      "211it [32:32, 11.14s/it]"
     ]
    },
    {
     "name": "stdout",
     "output_type": "stream",
     "text": [
      "0:\tlearn: 0.1049934\ttotal: 454us\tremaining: 17.7ms\n",
      "39:\tlearn: 0.0413872\ttotal: 7.5ms\tremaining: 0us\n",
      "0:\tlearn: 0.1028142\ttotal: 499us\tremaining: 19.5ms\n",
      "39:\tlearn: 0.0593888\ttotal: 45ms\tremaining: 0us\n",
      "0:\tlearn: 0.1000024\ttotal: 561us\tremaining: 21.9ms\n",
      "39:\tlearn: 0.0454307\ttotal: 8.57ms\tremaining: 0us\n",
      "0:\tlearn: 0.0998688\ttotal: 465us\tremaining: 18.2ms\n",
      "39:\tlearn: 0.0524260\ttotal: 21.1ms\tremaining: 0us\n",
      "0:\tlearn: 0.0985278\ttotal: 517us\tremaining: 20.2ms\n",
      "39:\tlearn: 0.0471428\ttotal: 14.5ms\tremaining: 0us\n",
      "0:\tlearn: 0.0969760\ttotal: 522us\tremaining: 20.4ms\n",
      "39:\tlearn: 0.0482650\ttotal: 8.73ms\tremaining: 0us\n",
      "0:\tlearn: 0.0937817\ttotal: 529us\tremaining: 20.6ms\n",
      "39:\tlearn: 0.0508037\ttotal: 16.1ms\tremaining: 0us\n",
      "0:\tlearn: 0.1030237\ttotal: 575us\tremaining: 22.4ms\n",
      "39:\tlearn: 0.0603663\ttotal: 8.3ms\tremaining: 0us\n",
      "0:\tlearn: 0.1054755\ttotal: 460us\tremaining: 18ms\n",
      "39:\tlearn: 0.0644874\ttotal: 8.28ms\tremaining: 0us\n",
      "0:\tlearn: 0.1056165\ttotal: 419us\tremaining: 16.4ms\n",
      "39:\tlearn: 0.0595792\ttotal: 8.43ms\tremaining: 0us\n",
      "0:\tlearn: 0.1043358\ttotal: 449us\tremaining: 17.5ms\n",
      "39:\tlearn: 0.0600891\ttotal: 10ms\tremaining: 0us\n",
      "0:\tlearn: 0.1039724\ttotal: 505us\tremaining: 19.7ms\n",
      "39:\tlearn: 0.0656194\ttotal: 11.6ms\tremaining: 0us\n",
      "0:\tlearn: 0.1027817\ttotal: 617us\tremaining: 24.1ms\n",
      "39:\tlearn: 0.0595220\ttotal: 9.05ms\tremaining: 0us\n"
     ]
    },
    {
     "name": "stderr",
     "output_type": "stream",
     "text": [
      "213it [32:44,  9.70s/it]"
     ]
    },
    {
     "name": "stdout",
     "output_type": "stream",
     "text": [
      "0:\tlearn: 0.0410608\ttotal: 498us\tremaining: 19.4ms\n",
      "39:\tlearn: 0.0188987\ttotal: 18.1ms\tremaining: 0us\n",
      "0:\tlearn: 0.0407704\ttotal: 538us\tremaining: 21ms\n",
      "39:\tlearn: 0.0211565\ttotal: 10.6ms\tremaining: 0us\n",
      "0:\tlearn: 0.0406787\ttotal: 511us\tremaining: 19.9ms\n",
      "39:\tlearn: 0.0206418\ttotal: 12.5ms\tremaining: 0us\n",
      "0:\tlearn: 0.0403582\ttotal: 1.16ms\tremaining: 45.3ms\n",
      "39:\tlearn: 0.0209816\ttotal: 23.3ms\tremaining: 0us\n",
      "0:\tlearn: 0.0396666\ttotal: 557us\tremaining: 21.7ms\n",
      "39:\tlearn: 0.0200356\ttotal: 10.1ms\tremaining: 0us\n",
      "0:\tlearn: 0.0412768\ttotal: 494us\tremaining: 19.3ms\n",
      "39:\tlearn: 0.0211479\ttotal: 15.2ms\tremaining: 0us\n",
      "0:\tlearn: 0.0407818\ttotal: 491us\tremaining: 19.2ms\n",
      "39:\tlearn: 0.0203353\ttotal: 8.8ms\tremaining: 0us\n",
      "0:\tlearn: 0.0438543\ttotal: 594us\tremaining: 23.2ms\n",
      "39:\tlearn: 0.0221803\ttotal: 44.3ms\tremaining: 0us\n",
      "0:\tlearn: 0.0474817\ttotal: 522us\tremaining: 20.4ms\n",
      "39:\tlearn: 0.0237214\ttotal: 29ms\tremaining: 0us\n",
      "0:\tlearn: 0.0503408\ttotal: 410us\tremaining: 16ms\n",
      "39:\tlearn: 0.0242927\ttotal: 9.39ms\tremaining: 0us\n",
      "0:\tlearn: 0.0490912\ttotal: 564us\tremaining: 22ms\n",
      "39:\tlearn: 0.0235847\ttotal: 9.29ms\tremaining: 0us\n",
      "0:\tlearn: 0.0487659\ttotal: 568us\tremaining: 22.2ms\n",
      "39:\tlearn: 0.0241129\ttotal: 9.71ms\tremaining: 0us\n",
      "0:\tlearn: 0.0482503\ttotal: 489us\tremaining: 19.1ms\n",
      "39:\tlearn: 0.0239084\ttotal: 16ms\tremaining: 0us\n"
     ]
    },
    {
     "name": "stderr",
     "output_type": "stream",
     "text": [
      "214it [32:55,  9.90s/it]"
     ]
    },
    {
     "name": "stdout",
     "output_type": "stream",
     "text": [
      "0:\tlearn: 0.0420508\ttotal: 478us\tremaining: 18.7ms\n",
      "39:\tlearn: 0.0145355\ttotal: 9.21ms\tremaining: 0us\n",
      "0:\tlearn: 0.0417755\ttotal: 507us\tremaining: 19.8ms\n",
      "39:\tlearn: 0.0169798\ttotal: 11.7ms\tremaining: 0us\n",
      "0:\tlearn: 0.0417124\ttotal: 457us\tremaining: 17.9ms\n",
      "39:\tlearn: 0.0146293\ttotal: 8.75ms\tremaining: 0us\n",
      "0:\tlearn: 0.0417751\ttotal: 481us\tremaining: 18.8ms\n",
      "39:\tlearn: 0.0161610\ttotal: 8.58ms\tremaining: 0us\n",
      "0:\tlearn: 0.0406577\ttotal: 514us\tremaining: 20.1ms\n",
      "39:\tlearn: 0.0169552\ttotal: 51ms\tremaining: 0us\n",
      "0:\tlearn: 0.0410899\ttotal: 486us\tremaining: 19ms\n",
      "39:\tlearn: 0.0165916\ttotal: 9.74ms\tremaining: 0us\n",
      "0:\tlearn: 0.0425315\ttotal: 572us\tremaining: 22.3ms\n",
      "39:\tlearn: 0.0204836\ttotal: 9.25ms\tremaining: 0us\n",
      "0:\tlearn: 0.0466538\ttotal: 482us\tremaining: 18.8ms\n",
      "39:\tlearn: 0.0207612\ttotal: 38.1ms\tremaining: 0us\n",
      "0:\tlearn: 0.0477280\ttotal: 486us\tremaining: 19ms\n",
      "39:\tlearn: 0.0200179\ttotal: 9.29ms\tremaining: 0us\n",
      "0:\tlearn: 0.0469312\ttotal: 606us\tremaining: 23.6ms\n",
      "39:\tlearn: 0.0201143\ttotal: 12.4ms\tremaining: 0us\n",
      "0:\tlearn: 0.0463910\ttotal: 636us\tremaining: 24.8ms\n",
      "39:\tlearn: 0.0201312\ttotal: 10.9ms\tremaining: 0us\n",
      "0:\tlearn: 0.0465254\ttotal: 604us\tremaining: 23.6ms\n",
      "39:\tlearn: 0.0205475\ttotal: 30.2ms\tremaining: 0us\n",
      "0:\tlearn: 0.0456163\ttotal: 635us\tremaining: 24.8ms\n",
      "39:\tlearn: 0.0206217\ttotal: 10.5ms\tremaining: 0us\n"
     ]
    },
    {
     "name": "stderr",
     "output_type": "stream",
     "text": [
      "215it [33:05,  9.94s/it]"
     ]
    },
    {
     "name": "stdout",
     "output_type": "stream",
     "text": [
      "0:\tlearn: 0.0549706\ttotal: 495us\tremaining: 19.3ms\n",
      "39:\tlearn: 0.0228978\ttotal: 10ms\tremaining: 0us\n",
      "0:\tlearn: 0.0543682\ttotal: 590us\tremaining: 23ms\n",
      "39:\tlearn: 0.0232642\ttotal: 10.1ms\tremaining: 0us\n",
      "0:\tlearn: 0.0530914\ttotal: 478us\tremaining: 18.7ms\n",
      "39:\tlearn: 0.0229084\ttotal: 10.5ms\tremaining: 0us\n",
      "0:\tlearn: 0.0535311\ttotal: 588us\tremaining: 23ms\n",
      "39:\tlearn: 0.0264671\ttotal: 11.9ms\tremaining: 0us\n",
      "0:\tlearn: 0.0543348\ttotal: 503us\tremaining: 19.7ms\n",
      "39:\tlearn: 0.0257783\ttotal: 27ms\tremaining: 0us\n",
      "0:\tlearn: 0.0549824\ttotal: 553us\tremaining: 21.6ms\n",
      "39:\tlearn: 0.0247579\ttotal: 88.7ms\tremaining: 0us\n",
      "0:\tlearn: 0.0575174\ttotal: 530us\tremaining: 20.7ms\n",
      "39:\tlearn: 0.0275741\ttotal: 14.5ms\tremaining: 0us\n",
      "0:\tlearn: 0.0566416\ttotal: 506us\tremaining: 19.7ms\n",
      "39:\tlearn: 0.0260017\ttotal: 10ms\tremaining: 0us\n",
      "0:\tlearn: 0.0565135\ttotal: 501us\tremaining: 19.6ms\n",
      "39:\tlearn: 0.0280191\ttotal: 9.68ms\tremaining: 0us\n",
      "0:\tlearn: 0.0579009\ttotal: 443us\tremaining: 17.3ms\n",
      "39:\tlearn: 0.0289365\ttotal: 21ms\tremaining: 0us\n",
      "0:\tlearn: 0.0576014\ttotal: 591us\tremaining: 23.1ms\n",
      "39:\tlearn: 0.0287895\ttotal: 24.1ms\tremaining: 0us\n",
      "0:\tlearn: 0.0570568\ttotal: 430us\tremaining: 16.8ms\n",
      "39:\tlearn: 0.0278710\ttotal: 15.2ms\tremaining: 0us\n",
      "0:\tlearn: 0.0576034\ttotal: 610us\tremaining: 23.8ms\n",
      "39:\tlearn: 0.0264963\ttotal: 9.41ms\tremaining: 0us\n"
     ]
    },
    {
     "name": "stderr",
     "output_type": "stream",
     "text": [
      "216it [33:16, 10.40s/it]"
     ]
    },
    {
     "name": "stdout",
     "output_type": "stream",
     "text": [
      "0:\tlearn: 0.1734684\ttotal: 438us\tremaining: 17.1ms\n",
      "39:\tlearn: 0.0860808\ttotal: 14.4ms\tremaining: 0us\n",
      "0:\tlearn: 0.1687730\ttotal: 462us\tremaining: 18.1ms\n",
      "39:\tlearn: 0.1098952\ttotal: 8.91ms\tremaining: 0us\n",
      "0:\tlearn: 0.1647678\ttotal: 569us\tremaining: 22.2ms\n",
      "39:\tlearn: 0.1028351\ttotal: 8.87ms\tremaining: 0us\n",
      "0:\tlearn: 0.1572610\ttotal: 574us\tremaining: 22.4ms\n",
      "39:\tlearn: 0.1013196\ttotal: 8.37ms\tremaining: 0us\n",
      "0:\tlearn: 0.1559486\ttotal: 751us\tremaining: 29.3ms\n",
      "39:\tlearn: 0.0946760\ttotal: 9.86ms\tremaining: 0us\n",
      "0:\tlearn: 0.1543611\ttotal: 441us\tremaining: 17.2ms\n",
      "39:\tlearn: 0.0913276\ttotal: 13.7ms\tremaining: 0us\n",
      "0:\tlearn: 0.1523521\ttotal: 431us\tremaining: 16.8ms\n",
      "39:\tlearn: 0.0931748\ttotal: 8.02ms\tremaining: 0us\n",
      "0:\tlearn: 0.1490212\ttotal: 1.41ms\tremaining: 54.8ms\n",
      "39:\tlearn: 0.0972505\ttotal: 105ms\tremaining: 0us\n",
      "0:\tlearn: 0.1613511\ttotal: 534us\tremaining: 20.8ms\n",
      "39:\tlearn: 0.0970167\ttotal: 11.2ms\tremaining: 0us\n",
      "0:\tlearn: 0.1628568\ttotal: 606us\tremaining: 23.6ms\n",
      "39:\tlearn: 0.0999239\ttotal: 26.9ms\tremaining: 0us\n",
      "0:\tlearn: 0.1589790\ttotal: 480us\tremaining: 18.7ms\n",
      "39:\tlearn: 0.1016196\ttotal: 14.3ms\tremaining: 0us\n",
      "0:\tlearn: 0.1605426\ttotal: 518us\tremaining: 20.2ms\n",
      "39:\tlearn: 0.1010960\ttotal: 20.3ms\tremaining: 0us\n",
      "0:\tlearn: 0.1589225\ttotal: 445us\tremaining: 17.4ms\n",
      "39:\tlearn: 0.0951307\ttotal: 16.1ms\tremaining: 0us\n"
     ]
    },
    {
     "name": "stderr",
     "output_type": "stream",
     "text": [
      "217it [33:26, 10.35s/it]"
     ]
    },
    {
     "name": "stdout",
     "output_type": "stream",
     "text": [
      "0:\tlearn: 0.0535603\ttotal: 470us\tremaining: 18.4ms\n",
      "39:\tlearn: 0.0170226\ttotal: 8.31ms\tremaining: 0us\n",
      "0:\tlearn: 0.0528847\ttotal: 486us\tremaining: 19ms\n",
      "39:\tlearn: 0.0175812\ttotal: 32.7ms\tremaining: 0us\n",
      "0:\tlearn: 0.0533371\ttotal: 500us\tremaining: 19.5ms\n",
      "39:\tlearn: 0.0182204\ttotal: 8.97ms\tremaining: 0us\n",
      "0:\tlearn: 0.0533845\ttotal: 447us\tremaining: 17.5ms\n",
      "39:\tlearn: 0.0175297\ttotal: 154ms\tremaining: 0us\n",
      "0:\tlearn: 0.0650933\ttotal: 460us\tremaining: 18ms\n",
      "39:\tlearn: 0.0279147\ttotal: 31.1ms\tremaining: 0us\n",
      "0:\tlearn: 0.0638587\ttotal: 500us\tremaining: 19.5ms\n",
      "39:\tlearn: 0.0321949\ttotal: 12.3ms\tremaining: 0us\n",
      "0:\tlearn: 0.0642945\ttotal: 575us\tremaining: 22.4ms\n",
      "39:\tlearn: 0.0286824\ttotal: 9.26ms\tremaining: 0us\n",
      "0:\tlearn: 0.0652729\ttotal: 521us\tremaining: 20.4ms\n",
      "39:\tlearn: 0.0286121\ttotal: 9.37ms\tremaining: 0us\n",
      "0:\tlearn: 0.0645719\ttotal: 523us\tremaining: 20.4ms\n",
      "39:\tlearn: 0.0273380\ttotal: 16.8ms\tremaining: 0us\n",
      "0:\tlearn: 0.0660569\ttotal: 516us\tremaining: 20.1ms\n",
      "39:\tlearn: 0.0262025\ttotal: 8.75ms\tremaining: 0us\n",
      "0:\tlearn: 0.0648268\ttotal: 574us\tremaining: 22.4ms\n",
      "39:\tlearn: 0.0291610\ttotal: 43.2ms\tremaining: 0us\n",
      "0:\tlearn: 0.0649479\ttotal: 556us\tremaining: 21.7ms\n",
      "39:\tlearn: 0.0267950\ttotal: 42.4ms\tremaining: 0us\n",
      "0:\tlearn: 0.0641504\ttotal: 612us\tremaining: 23.9ms\n",
      "39:\tlearn: 0.0264973\ttotal: 9.15ms\tremaining: 0us\n"
     ]
    },
    {
     "name": "stderr",
     "output_type": "stream",
     "text": [
      "218it [33:37, 10.49s/it]"
     ]
    },
    {
     "name": "stdout",
     "output_type": "stream",
     "text": [
      "0:\tlearn: 0.0424468\ttotal: 438us\tremaining: 17.1ms\n",
      "39:\tlearn: 0.0171976\ttotal: 53ms\tremaining: 0us\n",
      "0:\tlearn: 0.0437284\ttotal: 481us\tremaining: 18.8ms\n",
      "39:\tlearn: 0.0223282\ttotal: 35ms\tremaining: 0us\n",
      "0:\tlearn: 0.0428083\ttotal: 514us\tremaining: 20.1ms\n",
      "39:\tlearn: 0.0188732\ttotal: 8.85ms\tremaining: 0us\n",
      "0:\tlearn: 0.0440964\ttotal: 513us\tremaining: 20ms\n",
      "39:\tlearn: 0.0187321\ttotal: 15.3ms\tremaining: 0us\n",
      "0:\tlearn: 0.0522124\ttotal: 543us\tremaining: 21.2ms\n",
      "39:\tlearn: 0.0277030\ttotal: 10.3ms\tremaining: 0us\n",
      "0:\tlearn: 0.0511731\ttotal: 547us\tremaining: 21.4ms\n",
      "39:\tlearn: 0.0305761\ttotal: 45.4ms\tremaining: 0us\n",
      "0:\tlearn: 0.0521692\ttotal: 591us\tremaining: 23.1ms\n",
      "39:\tlearn: 0.0318278\ttotal: 9.14ms\tremaining: 0us\n",
      "0:\tlearn: 0.0563619\ttotal: 783us\tremaining: 30.5ms\n",
      "39:\tlearn: 0.0337727\ttotal: 9.35ms\tremaining: 0us\n",
      "0:\tlearn: 0.0567227\ttotal: 1.29ms\tremaining: 50.4ms\n",
      "39:\tlearn: 0.0343157\ttotal: 48.6ms\tremaining: 0us\n",
      "0:\tlearn: 0.0545755\ttotal: 555us\tremaining: 21.7ms\n",
      "39:\tlearn: 0.0370812\ttotal: 14.4ms\tremaining: 0us\n",
      "0:\tlearn: 0.0541171\ttotal: 607us\tremaining: 23.7ms\n",
      "39:\tlearn: 0.0339087\ttotal: 9.21ms\tremaining: 0us\n",
      "0:\tlearn: 0.0547143\ttotal: 609us\tremaining: 23.8ms\n",
      "39:\tlearn: 0.0313783\ttotal: 14.8ms\tremaining: 0us\n",
      "0:\tlearn: 0.0563865\ttotal: 575us\tremaining: 22.4ms\n",
      "39:\tlearn: 0.0318933\ttotal: 9.61ms\tremaining: 0us\n"
     ]
    },
    {
     "name": "stderr",
     "output_type": "stream",
     "text": [
      "219it [33:48, 10.57s/it]"
     ]
    },
    {
     "name": "stdout",
     "output_type": "stream",
     "text": [
      "0:\tlearn: 0.0797708\ttotal: 436us\tremaining: 17ms\n",
      "39:\tlearn: 0.0427084\ttotal: 29.3ms\tremaining: 0us\n",
      "0:\tlearn: 0.0794232\ttotal: 459us\tremaining: 17.9ms\n",
      "39:\tlearn: 0.0433339\ttotal: 12.3ms\tremaining: 0us\n",
      "0:\tlearn: 0.0778882\ttotal: 649us\tremaining: 25.3ms\n",
      "39:\tlearn: 0.0409766\ttotal: 9.45ms\tremaining: 0us\n",
      "0:\tlearn: 0.0774214\ttotal: 552us\tremaining: 21.6ms\n",
      "39:\tlearn: 0.0443078\ttotal: 11.5ms\tremaining: 0us\n",
      "0:\tlearn: 0.0855505\ttotal: 466us\tremaining: 18.2ms\n",
      "39:\tlearn: 0.0470384\ttotal: 21.6ms\tremaining: 0us\n",
      "0:\tlearn: 0.0891599\ttotal: 499us\tremaining: 19.5ms\n",
      "39:\tlearn: 0.0444748\ttotal: 8.97ms\tremaining: 0us\n",
      "0:\tlearn: 0.0868005\ttotal: 479us\tremaining: 18.7ms\n",
      "39:\tlearn: 0.0461728\ttotal: 8.91ms\tremaining: 0us\n",
      "0:\tlearn: 0.0875336\ttotal: 541us\tremaining: 21.1ms\n",
      "39:\tlearn: 0.0447807\ttotal: 14.8ms\tremaining: 0us\n",
      "0:\tlearn: 0.0888265\ttotal: 497us\tremaining: 19.4ms\n",
      "39:\tlearn: 0.0493117\ttotal: 9.67ms\tremaining: 0us\n",
      "0:\tlearn: 0.0891971\ttotal: 428us\tremaining: 16.7ms\n",
      "39:\tlearn: 0.0462423\ttotal: 8.76ms\tremaining: 0us\n",
      "0:\tlearn: 0.0874600\ttotal: 598us\tremaining: 23.3ms\n",
      "39:\tlearn: 0.0516684\ttotal: 8.84ms\tremaining: 0us\n",
      "0:\tlearn: 0.0854226\ttotal: 514us\tremaining: 20.1ms\n",
      "39:\tlearn: 0.0519065\ttotal: 9.29ms\tremaining: 0us\n",
      "0:\tlearn: 0.0851933\ttotal: 486us\tremaining: 19ms\n",
      "39:\tlearn: 0.0520345\ttotal: 27.5ms\tremaining: 0us\n"
     ]
    },
    {
     "name": "stderr",
     "output_type": "stream",
     "text": [
      "220it [33:58, 10.53s/it]"
     ]
    },
    {
     "name": "stdout",
     "output_type": "stream",
     "text": [
      "0:\tlearn: 0.0597431\ttotal: 443us\tremaining: 17.3ms\n",
      "39:\tlearn: 0.0295457\ttotal: 8.27ms\tremaining: 0us\n",
      "0:\tlearn: 0.0588471\ttotal: 466us\tremaining: 18.2ms\n",
      "39:\tlearn: 0.0311075\ttotal: 8.68ms\tremaining: 0us\n",
      "0:\tlearn: 0.0601836\ttotal: 502us\tremaining: 19.6ms\n",
      "39:\tlearn: 0.0302502\ttotal: 20ms\tremaining: 0us\n",
      "0:\tlearn: 0.0584399\ttotal: 533us\tremaining: 20.8ms\n",
      "39:\tlearn: 0.0325624\ttotal: 10.1ms\tremaining: 0us\n",
      "0:\tlearn: 0.0705620\ttotal: 489us\tremaining: 19.1ms\n",
      "39:\tlearn: 0.0373226\ttotal: 14.9ms\tremaining: 0us\n",
      "0:\tlearn: 0.0691179\ttotal: 769us\tremaining: 30ms\n",
      "39:\tlearn: 0.0482638\ttotal: 9.94ms\tremaining: 0us\n",
      "0:\tlearn: 0.0753149\ttotal: 475us\tremaining: 18.5ms\n",
      "39:\tlearn: 0.0424924\ttotal: 8.81ms\tremaining: 0us\n",
      "0:\tlearn: 0.0745035\ttotal: 634us\tremaining: 24.8ms\n",
      "39:\tlearn: 0.0399704\ttotal: 15.6ms\tremaining: 0us\n",
      "0:\tlearn: 0.0748048\ttotal: 448us\tremaining: 17.5ms\n",
      "39:\tlearn: 0.0402307\ttotal: 18.4ms\tremaining: 0us\n",
      "0:\tlearn: 0.0749533\ttotal: 577us\tremaining: 22.5ms\n",
      "39:\tlearn: 0.0412689\ttotal: 8.82ms\tremaining: 0us\n",
      "0:\tlearn: 0.0735929\ttotal: 585us\tremaining: 22.8ms\n",
      "39:\tlearn: 0.0415114\ttotal: 9.15ms\tremaining: 0us\n",
      "0:\tlearn: 0.0728451\ttotal: 607us\tremaining: 23.7ms\n",
      "39:\tlearn: 0.0430667\ttotal: 9.82ms\tremaining: 0us\n",
      "0:\tlearn: 0.0730784\ttotal: 485us\tremaining: 18.9ms\n",
      "39:\tlearn: 0.0399409\ttotal: 14.3ms\tremaining: 0us\n"
     ]
    },
    {
     "name": "stderr",
     "output_type": "stream",
     "text": [
      "221it [34:11, 11.18s/it]"
     ]
    },
    {
     "name": "stdout",
     "output_type": "stream",
     "text": [
      "0:\tlearn: 0.0316195\ttotal: 9.32ms\tremaining: 363ms\n",
      "39:\tlearn: 0.0104542\ttotal: 21.2ms\tremaining: 0us\n",
      "0:\tlearn: 0.0325186\ttotal: 531us\tremaining: 20.7ms\n",
      "39:\tlearn: 0.0129447\ttotal: 16.1ms\tremaining: 0us\n",
      "0:\tlearn: 0.0322829\ttotal: 466us\tremaining: 18.2ms\n",
      "39:\tlearn: 0.0126252\ttotal: 10.7ms\tremaining: 0us\n",
      "0:\tlearn: 0.0318335\ttotal: 533us\tremaining: 20.8ms\n",
      "39:\tlearn: 0.0143432\ttotal: 9.39ms\tremaining: 0us\n",
      "0:\tlearn: 0.0468603\ttotal: 509us\tremaining: 19.9ms\n",
      "39:\tlearn: 0.0226140\ttotal: 14ms\tremaining: 0us\n",
      "0:\tlearn: 0.0465878\ttotal: 514us\tremaining: 20ms\n",
      "39:\tlearn: 0.0226443\ttotal: 8.95ms\tremaining: 0us\n",
      "0:\tlearn: 0.0462775\ttotal: 1.2ms\tremaining: 46.9ms\n",
      "39:\tlearn: 0.0236298\ttotal: 62.5ms\tremaining: 0us\n",
      "0:\tlearn: 0.0483863\ttotal: 513us\tremaining: 20ms\n",
      "39:\tlearn: 0.0238729\ttotal: 11.2ms\tremaining: 0us\n",
      "0:\tlearn: 0.0484425\ttotal: 630us\tremaining: 24.6ms\n",
      "39:\tlearn: 0.0237359\ttotal: 14.9ms\tremaining: 0us\n",
      "0:\tlearn: 0.0477992\ttotal: 588us\tremaining: 22.9ms\n",
      "39:\tlearn: 0.0243914\ttotal: 10.9ms\tremaining: 0us\n",
      "0:\tlearn: 0.0488264\ttotal: 595us\tremaining: 23.2ms\n",
      "39:\tlearn: 0.0279198\ttotal: 13.4ms\tremaining: 0us\n",
      "0:\tlearn: 0.0476654\ttotal: 601us\tremaining: 23.4ms\n",
      "39:\tlearn: 0.0240410\ttotal: 15.4ms\tremaining: 0us\n",
      "0:\tlearn: 0.0480522\ttotal: 898us\tremaining: 35ms\n",
      "39:\tlearn: 0.0253809\ttotal: 45.1ms\tremaining: 0us\n"
     ]
    },
    {
     "name": "stderr",
     "output_type": "stream",
     "text": [
      "222it [34:22, 11.24s/it]"
     ]
    },
    {
     "name": "stdout",
     "output_type": "stream",
     "text": [
      "0:\tlearn: 0.0648342\ttotal: 429us\tremaining: 16.7ms\n",
      "39:\tlearn: 0.0303015\ttotal: 12.1ms\tremaining: 0us\n",
      "0:\tlearn: 0.0649509\ttotal: 496us\tremaining: 19.4ms\n",
      "39:\tlearn: 0.0321495\ttotal: 8.35ms\tremaining: 0us\n",
      "0:\tlearn: 0.0652660\ttotal: 725us\tremaining: 28.3ms\n",
      "39:\tlearn: 0.0332613\ttotal: 12.2ms\tremaining: 0us\n",
      "0:\tlearn: 0.0649409\ttotal: 490us\tremaining: 19.1ms\n",
      "39:\tlearn: 0.0370864\ttotal: 18.3ms\tremaining: 0us\n",
      "0:\tlearn: 0.0667736\ttotal: 453us\tremaining: 17.7ms\n",
      "39:\tlearn: 0.0337043\ttotal: 14.4ms\tremaining: 0us\n",
      "0:\tlearn: 0.0684498\ttotal: 444us\tremaining: 17.3ms\n",
      "39:\tlearn: 0.0331782\ttotal: 8.5ms\tremaining: 0us\n",
      "0:\tlearn: 0.0674251\ttotal: 516us\tremaining: 20.2ms\n",
      "39:\tlearn: 0.0326039\ttotal: 10ms\tremaining: 0us\n",
      "0:\tlearn: 0.0733986\ttotal: 568us\tremaining: 22.2ms\n",
      "39:\tlearn: 0.0402895\ttotal: 9.45ms\tremaining: 0us\n",
      "0:\tlearn: 0.0733601\ttotal: 457us\tremaining: 17.8ms\n",
      "39:\tlearn: 0.0339669\ttotal: 34.3ms\tremaining: 0us\n",
      "0:\tlearn: 0.0731254\ttotal: 552us\tremaining: 21.5ms\n",
      "39:\tlearn: 0.0357496\ttotal: 26.1ms\tremaining: 0us\n",
      "0:\tlearn: 0.0727839\ttotal: 539us\tremaining: 21.1ms\n",
      "39:\tlearn: 0.0354717\ttotal: 14.7ms\tremaining: 0us\n",
      "0:\tlearn: 0.0715145\ttotal: 466us\tremaining: 18.2ms\n",
      "39:\tlearn: 0.0356683\ttotal: 10.2ms\tremaining: 0us\n",
      "0:\tlearn: 0.0702764\ttotal: 509us\tremaining: 19.9ms\n",
      "39:\tlearn: 0.0353414\ttotal: 9.5ms\tremaining: 0us\n"
     ]
    },
    {
     "name": "stderr",
     "output_type": "stream",
     "text": [
      "223it [34:33, 11.02s/it]"
     ]
    },
    {
     "name": "stdout",
     "output_type": "stream",
     "text": [
      "0:\tlearn: 0.0347319\ttotal: 457us\tremaining: 17.8ms\n",
      "39:\tlearn: 0.0104880\ttotal: 25.4ms\tremaining: 0us\n",
      "0:\tlearn: 0.0352581\ttotal: 492us\tremaining: 19.2ms\n",
      "39:\tlearn: 0.0107090\ttotal: 14.2ms\tremaining: 0us\n",
      "0:\tlearn: 0.0357691\ttotal: 474us\tremaining: 18.5ms\n",
      "39:\tlearn: 0.0106469\ttotal: 23ms\tremaining: 0us\n",
      "0:\tlearn: 0.0354617\ttotal: 502us\tremaining: 19.6ms\n",
      "39:\tlearn: 0.0101229\ttotal: 24.1ms\tremaining: 0us\n",
      "0:\tlearn: 0.0382423\ttotal: 484us\tremaining: 18.9ms\n",
      "39:\tlearn: 0.0140110\ttotal: 10.6ms\tremaining: 0us\n",
      "0:\tlearn: 0.0375068\ttotal: 1.49ms\tremaining: 58ms\n",
      "39:\tlearn: 0.0130503\ttotal: 110ms\tremaining: 0us\n",
      "0:\tlearn: 0.0380682\ttotal: 477us\tremaining: 18.6ms\n",
      "39:\tlearn: 0.0137156\ttotal: 23.9ms\tremaining: 0us\n",
      "0:\tlearn: 0.0388795\ttotal: 492us\tremaining: 19.2ms\n",
      "39:\tlearn: 0.0135004\ttotal: 14.9ms\tremaining: 0us\n",
      "0:\tlearn: 0.0384602\ttotal: 512us\tremaining: 20ms\n",
      "39:\tlearn: 0.0140076\ttotal: 14.8ms\tremaining: 0us\n",
      "0:\tlearn: 0.0397340\ttotal: 579us\tremaining: 22.6ms\n",
      "39:\tlearn: 0.0126965\ttotal: 8.74ms\tremaining: 0us\n",
      "0:\tlearn: 0.0386337\ttotal: 543us\tremaining: 21.2ms\n",
      "39:\tlearn: 0.0131042\ttotal: 12ms\tremaining: 0us\n",
      "0:\tlearn: 0.0381471\ttotal: 543us\tremaining: 21.2ms\n",
      "39:\tlearn: 0.0123425\ttotal: 9.22ms\tremaining: 0us\n",
      "0:\tlearn: 0.0393278\ttotal: 556us\tremaining: 21.7ms\n",
      "39:\tlearn: 0.0132705\ttotal: 12.2ms\tremaining: 0us\n"
     ]
    },
    {
     "name": "stderr",
     "output_type": "stream",
     "text": [
      "224it [34:43, 10.83s/it]"
     ]
    },
    {
     "name": "stdout",
     "output_type": "stream",
     "text": [
      "0:\tlearn: 0.0272552\ttotal: 505us\tremaining: 19.7ms\n",
      "39:\tlearn: 0.0069026\ttotal: 14.1ms\tremaining: 0us\n",
      "0:\tlearn: 0.0280878\ttotal: 473us\tremaining: 18.5ms\n",
      "39:\tlearn: 0.0078529\ttotal: 25.5ms\tremaining: 0us\n",
      "0:\tlearn: 0.0280285\ttotal: 476us\tremaining: 18.6ms\n",
      "39:\tlearn: 0.0076309\ttotal: 9.26ms\tremaining: 0us\n",
      "0:\tlearn: 0.0276732\ttotal: 538us\tremaining: 21ms\n",
      "39:\tlearn: 0.0075855\ttotal: 9.32ms\tremaining: 0us\n",
      "0:\tlearn: 0.0311960\ttotal: 530us\tremaining: 20.7ms\n",
      "39:\tlearn: 0.0126152\ttotal: 9.63ms\tremaining: 0us\n",
      "0:\tlearn: 0.0310361\ttotal: 518us\tremaining: 20.2ms\n",
      "39:\tlearn: 0.0124334\ttotal: 9.99ms\tremaining: 0us\n",
      "0:\tlearn: 0.0330088\ttotal: 464us\tremaining: 18.1ms\n",
      "39:\tlearn: 0.0119026\ttotal: 9.54ms\tremaining: 0us\n",
      "0:\tlearn: 0.0343263\ttotal: 479us\tremaining: 18.7ms\n",
      "39:\tlearn: 0.0123614\ttotal: 15.5ms\tremaining: 398us\n",
      "0:\tlearn: 0.0338853\ttotal: 1.18ms\tremaining: 46.1ms\n",
      "39:\tlearn: 0.0115500\ttotal: 15.6ms\tremaining: 0us\n",
      "0:\tlearn: 0.0334189\ttotal: 590us\tremaining: 23ms\n",
      "39:\tlearn: 0.0120428\ttotal: 9.25ms\tremaining: 0us\n",
      "0:\tlearn: 0.0328484\ttotal: 528us\tremaining: 20.6ms\n",
      "39:\tlearn: 0.0126670\ttotal: 9.94ms\tremaining: 0us\n",
      "0:\tlearn: 0.0327723\ttotal: 552us\tremaining: 21.6ms\n",
      "39:\tlearn: 0.0127769\ttotal: 9.38ms\tremaining: 0us\n",
      "0:\tlearn: 0.0335455\ttotal: 602us\tremaining: 23.5ms\n",
      "39:\tlearn: 0.0127542\ttotal: 9.15ms\tremaining: 0us\n"
     ]
    },
    {
     "name": "stderr",
     "output_type": "stream",
     "text": [
      "225it [34:55, 10.98s/it]"
     ]
    },
    {
     "name": "stdout",
     "output_type": "stream",
     "text": [
      "0:\tlearn: 0.0356961\ttotal: 491us\tremaining: 19.2ms\n",
      "39:\tlearn: 0.0146946\ttotal: 15.7ms\tremaining: 0us\n",
      "0:\tlearn: 0.0346952\ttotal: 465us\tremaining: 18.2ms\n",
      "39:\tlearn: 0.0172156\ttotal: 9.71ms\tremaining: 0us\n",
      "0:\tlearn: 0.0354935\ttotal: 461us\tremaining: 18ms\n",
      "39:\tlearn: 0.0179555\ttotal: 9.27ms\tremaining: 0us\n",
      "0:\tlearn: 0.0374260\ttotal: 451us\tremaining: 17.6ms\n",
      "39:\tlearn: 0.0173214\ttotal: 13.7ms\tremaining: 0us\n",
      "0:\tlearn: 0.0436474\ttotal: 504us\tremaining: 19.7ms\n",
      "39:\tlearn: 0.0228331\ttotal: 19.2ms\tremaining: 0us\n",
      "0:\tlearn: 0.0431632\ttotal: 634us\tremaining: 24.7ms\n",
      "39:\tlearn: 0.0246573\ttotal: 9.47ms\tremaining: 0us\n",
      "0:\tlearn: 0.0419402\ttotal: 489us\tremaining: 19.1ms\n",
      "39:\tlearn: 0.0232506\ttotal: 26.5ms\tremaining: 0us\n",
      "0:\tlearn: 0.0484756\ttotal: 946us\tremaining: 36.9ms\n",
      "39:\tlearn: 0.0263712\ttotal: 25.2ms\tremaining: 0us\n",
      "0:\tlearn: 0.0480925\ttotal: 663us\tremaining: 25.9ms\n",
      "39:\tlearn: 0.0270460\ttotal: 15.9ms\tremaining: 0us\n",
      "0:\tlearn: 0.0478715\ttotal: 599us\tremaining: 23.4ms\n",
      "39:\tlearn: 0.0261593\ttotal: 10.3ms\tremaining: 0us\n",
      "0:\tlearn: 0.0487662\ttotal: 1.02ms\tremaining: 39.7ms\n",
      "39:\tlearn: 0.0253033\ttotal: 11.5ms\tremaining: 0us\n",
      "0:\tlearn: 0.0480795\ttotal: 623us\tremaining: 24.3ms\n",
      "39:\tlearn: 0.0267715\ttotal: 23.1ms\tremaining: 0us\n",
      "0:\tlearn: 0.0482250\ttotal: 614us\tremaining: 24ms\n",
      "39:\tlearn: 0.0266107\ttotal: 17.6ms\tremaining: 0us\n"
     ]
    },
    {
     "name": "stderr",
     "output_type": "stream",
     "text": [
      "226it [35:05, 10.89s/it]"
     ]
    },
    {
     "name": "stdout",
     "output_type": "stream",
     "text": [
      "0:\tlearn: 0.0852704\ttotal: 536us\tremaining: 20.9ms\n",
      "39:\tlearn: 0.0367305\ttotal: 14.7ms\tremaining: 0us\n",
      "0:\tlearn: 0.0879222\ttotal: 503us\tremaining: 19.6ms\n",
      "39:\tlearn: 0.0378296\ttotal: 11.9ms\tremaining: 0us\n",
      "0:\tlearn: 0.0900809\ttotal: 984us\tremaining: 38.4ms\n",
      "39:\tlearn: 0.0404862\ttotal: 16ms\tremaining: 0us\n",
      "0:\tlearn: 0.0872357\ttotal: 614us\tremaining: 24ms\n",
      "39:\tlearn: 0.0353088\ttotal: 16ms\tremaining: 0us\n",
      "0:\tlearn: 0.0900643\ttotal: 513us\tremaining: 20ms\n",
      "39:\tlearn: 0.0384180\ttotal: 20.8ms\tremaining: 0us\n",
      "0:\tlearn: 0.0897659\ttotal: 643us\tremaining: 25.1ms\n",
      "39:\tlearn: 0.0443463\ttotal: 11.2ms\tremaining: 0us\n",
      "0:\tlearn: 0.0890721\ttotal: 538us\tremaining: 21ms\n",
      "39:\tlearn: 0.0389686\ttotal: 9.86ms\tremaining: 0us\n",
      "0:\tlearn: 0.0889537\ttotal: 561us\tremaining: 21.9ms\n",
      "39:\tlearn: 0.0438367\ttotal: 14.8ms\tremaining: 0us\n",
      "0:\tlearn: 0.0886968\ttotal: 540us\tremaining: 21.1ms\n",
      "39:\tlearn: 0.0428927\ttotal: 34.6ms\tremaining: 0us\n",
      "0:\tlearn: 0.0855153\ttotal: 503us\tremaining: 19.6ms\n",
      "39:\tlearn: 0.0444062\ttotal: 14.2ms\tremaining: 0us\n",
      "0:\tlearn: 0.0867917\ttotal: 628us\tremaining: 24.5ms\n",
      "39:\tlearn: 0.0445263\ttotal: 20.8ms\tremaining: 0us\n",
      "0:\tlearn: 0.0900834\ttotal: 532us\tremaining: 20.8ms\n",
      "39:\tlearn: 0.0438730\ttotal: 26.8ms\tremaining: 0us\n",
      "0:\tlearn: 0.0890809\ttotal: 589us\tremaining: 23ms\n",
      "39:\tlearn: 0.0438258\ttotal: 24.9ms\tremaining: 0us\n"
     ]
    },
    {
     "name": "stderr",
     "output_type": "stream",
     "text": [
      "227it [35:16, 10.81s/it]"
     ]
    },
    {
     "name": "stdout",
     "output_type": "stream",
     "text": [
      "0:\tlearn: 0.0618696\ttotal: 459us\tremaining: 17.9ms\n",
      "39:\tlearn: 0.0238970\ttotal: 16.1ms\tremaining: 0us\n",
      "0:\tlearn: 0.0654822\ttotal: 443us\tremaining: 17.3ms\n",
      "39:\tlearn: 0.0269293\ttotal: 11.3ms\tremaining: 0us\n",
      "0:\tlearn: 0.0649191\ttotal: 506us\tremaining: 19.8ms\n",
      "39:\tlearn: 0.0258485\ttotal: 8.98ms\tremaining: 0us\n",
      "0:\tlearn: 0.0662415\ttotal: 482us\tremaining: 18.8ms\n",
      "39:\tlearn: 0.0254821\ttotal: 14.1ms\tremaining: 0us\n",
      "0:\tlearn: 0.0838394\ttotal: 597us\tremaining: 23.3ms\n",
      "39:\tlearn: 0.0374448\ttotal: 15ms\tremaining: 0us\n",
      "0:\tlearn: 0.0830812\ttotal: 497us\tremaining: 19.4ms\n",
      "39:\tlearn: 0.0381392\ttotal: 16.8ms\tremaining: 0us\n",
      "0:\tlearn: 0.1017487\ttotal: 555us\tremaining: 21.7ms\n",
      "39:\tlearn: 0.0429351\ttotal: 24.3ms\tremaining: 0us\n",
      "0:\tlearn: 0.1071160\ttotal: 560us\tremaining: 21.9ms\n",
      "39:\tlearn: 0.0418157\ttotal: 9.47ms\tremaining: 0us\n",
      "0:\tlearn: 0.1046800\ttotal: 471us\tremaining: 18.4ms\n",
      "39:\tlearn: 0.0420863\ttotal: 9.81ms\tremaining: 0us\n",
      "0:\tlearn: 0.1024846\ttotal: 547us\tremaining: 21.4ms\n",
      "39:\tlearn: 0.0423429\ttotal: 16.2ms\tremaining: 0us\n",
      "0:\tlearn: 0.1058430\ttotal: 533us\tremaining: 20.8ms\n",
      "39:\tlearn: 0.0446938\ttotal: 8.91ms\tremaining: 0us\n",
      "0:\tlearn: 0.1080534\ttotal: 595us\tremaining: 23.2ms\n",
      "39:\tlearn: 0.0466890\ttotal: 10.1ms\tremaining: 0us\n",
      "0:\tlearn: 0.1089010\ttotal: 560us\tremaining: 21.8ms\n",
      "39:\tlearn: 0.0480466\ttotal: 9.22ms\tremaining: 0us\n"
     ]
    },
    {
     "name": "stderr",
     "output_type": "stream",
     "text": [
      "228it [35:27, 10.93s/it]"
     ]
    },
    {
     "name": "stdout",
     "output_type": "stream",
     "text": [
      "0:\tlearn: 0.0612323\ttotal: 444us\tremaining: 17.3ms\n",
      "39:\tlearn: 0.0235202\ttotal: 7.75ms\tremaining: 0us\n",
      "0:\tlearn: 0.0606196\ttotal: 471us\tremaining: 18.4ms\n",
      "39:\tlearn: 0.0263188\ttotal: 8.76ms\tremaining: 0us\n",
      "0:\tlearn: 0.0592026\ttotal: 484us\tremaining: 18.9ms\n",
      "39:\tlearn: 0.0275408\ttotal: 9.06ms\tremaining: 0us\n",
      "0:\tlearn: 0.0588755\ttotal: 466us\tremaining: 18.2ms\n",
      "39:\tlearn: 0.0272084\ttotal: 49.9ms\tremaining: 0us\n",
      "0:\tlearn: 0.0571955\ttotal: 502us\tremaining: 19.6ms\n",
      "39:\tlearn: 0.0265423\ttotal: 10.1ms\tremaining: 0us\n",
      "0:\tlearn: 0.0568098\ttotal: 492us\tremaining: 19.2ms\n",
      "39:\tlearn: 0.0240306\ttotal: 48.8ms\tremaining: 0us\n",
      "0:\tlearn: 0.0592171\ttotal: 535us\tremaining: 20.9ms\n",
      "39:\tlearn: 0.0254869\ttotal: 9.02ms\tremaining: 0us\n",
      "0:\tlearn: 0.0588779\ttotal: 607us\tremaining: 23.7ms\n",
      "39:\tlearn: 0.0238247\ttotal: 9.1ms\tremaining: 0us\n",
      "0:\tlearn: 0.0666996\ttotal: 484us\tremaining: 18.9ms\n",
      "39:\tlearn: 0.0294800\ttotal: 15.6ms\tremaining: 0us\n",
      "0:\tlearn: 0.0680057\ttotal: 552us\tremaining: 21.5ms\n",
      "39:\tlearn: 0.0298133\ttotal: 10.4ms\tremaining: 0us\n",
      "0:\tlearn: 0.0664990\ttotal: 497us\tremaining: 19.4ms\n",
      "39:\tlearn: 0.0289749\ttotal: 9.19ms\tremaining: 0us\n",
      "0:\tlearn: 0.0669956\ttotal: 571us\tremaining: 22.3ms\n",
      "39:\tlearn: 0.0309803\ttotal: 10.1ms\tremaining: 0us\n",
      "0:\tlearn: 0.0664590\ttotal: 590us\tremaining: 23ms\n",
      "39:\tlearn: 0.0315546\ttotal: 10ms\tremaining: 0us\n"
     ]
    },
    {
     "name": "stderr",
     "output_type": "stream",
     "text": [
      "229it [35:39, 11.18s/it]"
     ]
    },
    {
     "name": "stdout",
     "output_type": "stream",
     "text": [
      "0:\tlearn: 0.1710030\ttotal: 440us\tremaining: 17.2ms\n",
      "39:\tlearn: 0.0874908\ttotal: 7.57ms\tremaining: 0us\n",
      "0:\tlearn: 0.1695236\ttotal: 1.47ms\tremaining: 57.4ms\n",
      "39:\tlearn: 0.1078605\ttotal: 27.9ms\tremaining: 0us\n",
      "0:\tlearn: 0.1678861\ttotal: 900us\tremaining: 35.1ms\n",
      "39:\tlearn: 0.1080997\ttotal: 31.1ms\tremaining: 0us\n",
      "0:\tlearn: 0.1629840\ttotal: 498us\tremaining: 19.4ms\n",
      "39:\tlearn: 0.0980923\ttotal: 9.6ms\tremaining: 0us\n",
      "0:\tlearn: 0.1615827\ttotal: 508us\tremaining: 19.8ms\n",
      "39:\tlearn: 0.0976951\ttotal: 14ms\tremaining: 0us\n",
      "0:\tlearn: 0.1588720\ttotal: 490us\tremaining: 19.1ms\n",
      "39:\tlearn: 0.0836841\ttotal: 17.9ms\tremaining: 0us\n",
      "0:\tlearn: 0.1604324\ttotal: 554us\tremaining: 21.6ms\n",
      "39:\tlearn: 0.0902688\ttotal: 32.7ms\tremaining: 0us\n",
      "0:\tlearn: 0.1587117\ttotal: 745us\tremaining: 29.1ms\n",
      "39:\tlearn: 0.0921912\ttotal: 21.3ms\tremaining: 0us\n",
      "0:\tlearn: 0.1603903\ttotal: 564us\tremaining: 22ms\n",
      "39:\tlearn: 0.1066689\ttotal: 10.7ms\tremaining: 0us\n",
      "0:\tlearn: 0.1564550\ttotal: 550us\tremaining: 21.5ms\n",
      "39:\tlearn: 0.0935170\ttotal: 9.33ms\tremaining: 0us\n",
      "0:\tlearn: 0.1555521\ttotal: 479us\tremaining: 18.7ms\n",
      "39:\tlearn: 0.0991778\ttotal: 9.39ms\tremaining: 0us\n",
      "0:\tlearn: 0.1548426\ttotal: 600us\tremaining: 23.4ms\n",
      "39:\tlearn: 0.0916258\ttotal: 9.61ms\tremaining: 0us\n",
      "0:\tlearn: 0.1519636\ttotal: 539us\tremaining: 21ms\n",
      "39:\tlearn: 0.0890808\ttotal: 26.4ms\tremaining: 0us\n"
     ]
    },
    {
     "name": "stderr",
     "output_type": "stream",
     "text": [
      "230it [35:50, 11.16s/it]"
     ]
    },
    {
     "name": "stdout",
     "output_type": "stream",
     "text": [
      "0:\tlearn: 0.0416538\ttotal: 445us\tremaining: 17.4ms\n",
      "39:\tlearn: 0.0166237\ttotal: 13.2ms\tremaining: 0us\n",
      "0:\tlearn: 0.0420023\ttotal: 471us\tremaining: 18.4ms\n",
      "39:\tlearn: 0.0185548\ttotal: 23.2ms\tremaining: 0us\n",
      "0:\tlearn: 0.0412060\ttotal: 470us\tremaining: 18.3ms\n",
      "39:\tlearn: 0.0174552\ttotal: 18.9ms\tremaining: 0us\n",
      "0:\tlearn: 0.0413466\ttotal: 494us\tremaining: 19.3ms\n",
      "39:\tlearn: 0.0178504\ttotal: 48.6ms\tremaining: 0us\n",
      "0:\tlearn: 0.0423149\ttotal: 560us\tremaining: 21.9ms\n",
      "39:\tlearn: 0.0203745\ttotal: 9.47ms\tremaining: 0us\n",
      "0:\tlearn: 0.0435977\ttotal: 504us\tremaining: 19.7ms\n",
      "39:\tlearn: 0.0201487\ttotal: 9.15ms\tremaining: 0us\n",
      "0:\tlearn: 0.0480317\ttotal: 498us\tremaining: 19.5ms\n",
      "39:\tlearn: 0.0205675\ttotal: 24.9ms\tremaining: 0us\n",
      "0:\tlearn: 0.0491255\ttotal: 487us\tremaining: 19ms\n",
      "39:\tlearn: 0.0215598\ttotal: 32.1ms\tremaining: 0us\n",
      "0:\tlearn: 0.0495408\ttotal: 474us\tremaining: 18.5ms\n",
      "39:\tlearn: 0.0201253\ttotal: 14.7ms\tremaining: 0us\n",
      "0:\tlearn: 0.0481937\ttotal: 529us\tremaining: 20.6ms\n",
      "39:\tlearn: 0.0222032\ttotal: 9.02ms\tremaining: 0us\n",
      "0:\tlearn: 0.0472053\ttotal: 779us\tremaining: 30.4ms\n",
      "39:\tlearn: 0.0208812\ttotal: 15.5ms\tremaining: 0us\n",
      "0:\tlearn: 0.0473153\ttotal: 607us\tremaining: 23.7ms\n",
      "39:\tlearn: 0.0219345\ttotal: 10.3ms\tremaining: 0us\n",
      "0:\tlearn: 0.0492711\ttotal: 539us\tremaining: 21ms\n",
      "39:\tlearn: 0.0225857\ttotal: 8.92ms\tremaining: 0us\n"
     ]
    },
    {
     "name": "stderr",
     "output_type": "stream",
     "text": [
      "231it [36:00, 10.90s/it]"
     ]
    },
    {
     "name": "stdout",
     "output_type": "stream",
     "text": [
      "0:\tlearn: 0.0920415\ttotal: 445us\tremaining: 17.4ms\n",
      "39:\tlearn: 0.0343416\ttotal: 14.4ms\tremaining: 0us\n",
      "0:\tlearn: 0.0904235\ttotal: 518us\tremaining: 20.2ms\n",
      "39:\tlearn: 0.0378219\ttotal: 10.8ms\tremaining: 0us\n",
      "0:\tlearn: 0.0887879\ttotal: 532us\tremaining: 20.8ms\n",
      "39:\tlearn: 0.0365582\ttotal: 34.4ms\tremaining: 0us\n",
      "0:\tlearn: 0.0889751\ttotal: 552us\tremaining: 21.5ms\n",
      "39:\tlearn: 0.0388664\ttotal: 28.9ms\tremaining: 740us\n",
      "0:\tlearn: 0.0875864\ttotal: 528us\tremaining: 20.6ms\n",
      "39:\tlearn: 0.0418636\ttotal: 38ms\tremaining: 0us\n",
      "0:\tlearn: 0.0869238\ttotal: 870us\tremaining: 34ms\n",
      "39:\tlearn: 0.0402837\ttotal: 11.5ms\tremaining: 0us\n",
      "0:\tlearn: 0.0863273\ttotal: 532us\tremaining: 20.8ms\n",
      "39:\tlearn: 0.0380827\ttotal: 36.2ms\tremaining: 0us\n",
      "0:\tlearn: 0.0873147\ttotal: 537us\tremaining: 21ms\n",
      "39:\tlearn: 0.0382965\ttotal: 16ms\tremaining: 0us\n",
      "0:\tlearn: 0.0841754\ttotal: 513us\tremaining: 20ms\n",
      "39:\tlearn: 0.0429863\ttotal: 61.1ms\tremaining: 0us\n",
      "0:\tlearn: 0.0848692\ttotal: 626us\tremaining: 24.4ms\n",
      "39:\tlearn: 0.0426064\ttotal: 10.1ms\tremaining: 0us\n",
      "0:\tlearn: 0.0951263\ttotal: 570us\tremaining: 22.3ms\n",
      "39:\tlearn: 0.0481593\ttotal: 38.8ms\tremaining: 0us\n",
      "0:\tlearn: 0.0933813\ttotal: 602us\tremaining: 23.5ms\n",
      "39:\tlearn: 0.0450462\ttotal: 16.1ms\tremaining: 0us\n",
      "0:\tlearn: 0.0920194\ttotal: 484us\tremaining: 18.9ms\n",
      "39:\tlearn: 0.0411122\ttotal: 33.6ms\tremaining: 0us\n"
     ]
    },
    {
     "name": "stderr",
     "output_type": "stream",
     "text": [
      "232it [36:11, 10.89s/it]"
     ]
    },
    {
     "name": "stdout",
     "output_type": "stream",
     "text": [
      "0:\tlearn: 0.2038121\ttotal: 501us\tremaining: 19.6ms\n",
      "39:\tlearn: 0.0517897\ttotal: 13.3ms\tremaining: 0us\n",
      "0:\tlearn: 0.1938615\ttotal: 435us\tremaining: 17ms\n",
      "39:\tlearn: 0.0482614\ttotal: 14.6ms\tremaining: 0us\n",
      "0:\tlearn: 0.1880764\ttotal: 478us\tremaining: 18.7ms\n",
      "39:\tlearn: 0.0465746\ttotal: 37ms\tremaining: 0us\n",
      "0:\tlearn: 0.1797504\ttotal: 961us\tremaining: 37.5ms\n",
      "39:\tlearn: 0.0463555\ttotal: 11ms\tremaining: 0us\n",
      "0:\tlearn: 0.1752347\ttotal: 493us\tremaining: 19.3ms\n",
      "39:\tlearn: 0.0498027\ttotal: 20.8ms\tremaining: 0us\n",
      "0:\tlearn: 0.1730973\ttotal: 445us\tremaining: 17.4ms\n",
      "39:\tlearn: 0.0474836\ttotal: 7.5ms\tremaining: 0us\n",
      "0:\tlearn: 0.1658447\ttotal: 500us\tremaining: 19.5ms\n",
      "39:\tlearn: 0.0469965\ttotal: 7.68ms\tremaining: 0us\n",
      "0:\tlearn: 0.1739162\ttotal: 469us\tremaining: 18.3ms\n",
      "39:\tlearn: 0.0595813\ttotal: 12.8ms\tremaining: 0us\n",
      "0:\tlearn: 0.1652923\ttotal: 436us\tremaining: 17ms\n",
      "39:\tlearn: 0.0824355\ttotal: 7.56ms\tremaining: 0us\n",
      "0:\tlearn: 0.1635180\ttotal: 435us\tremaining: 17ms\n",
      "39:\tlearn: 0.0684083\ttotal: 7.58ms\tremaining: 0us\n",
      "0:\tlearn: 0.1812083\ttotal: 472us\tremaining: 18.4ms\n",
      "39:\tlearn: 0.0858209\ttotal: 9.07ms\tremaining: 0us\n",
      "0:\tlearn: 0.1796786\ttotal: 469us\tremaining: 18.3ms\n",
      "39:\tlearn: 0.0874004\ttotal: 7.52ms\tremaining: 0us\n",
      "0:\tlearn: 0.1782551\ttotal: 414us\tremaining: 16.2ms\n",
      "39:\tlearn: 0.0885064\ttotal: 8.29ms\tremaining: 0us\n"
     ]
    },
    {
     "name": "stderr",
     "output_type": "stream",
     "text": [
      "233it [36:22, 10.81s/it]"
     ]
    },
    {
     "name": "stdout",
     "output_type": "stream",
     "text": [
      "0:\tlearn: 0.0377596\ttotal: 448us\tremaining: 17.5ms\n",
      "39:\tlearn: 0.0095098\ttotal: 8.69ms\tremaining: 0us\n",
      "0:\tlearn: 0.0381060\ttotal: 474us\tremaining: 18.5ms\n",
      "39:\tlearn: 0.0115872\ttotal: 8.67ms\tremaining: 0us\n",
      "0:\tlearn: 0.0380749\ttotal: 520us\tremaining: 20.3ms\n",
      "39:\tlearn: 0.0101070\ttotal: 15.6ms\tremaining: 0us\n",
      "0:\tlearn: 0.0375145\ttotal: 472us\tremaining: 18.4ms\n",
      "39:\tlearn: 0.0106374\ttotal: 28.2ms\tremaining: 0us\n",
      "0:\tlearn: 0.0403093\ttotal: 473us\tremaining: 18.5ms\n",
      "39:\tlearn: 0.0145560\ttotal: 8.89ms\tremaining: 0us\n",
      "0:\tlearn: 0.0398674\ttotal: 512us\tremaining: 20ms\n",
      "39:\tlearn: 0.0157341\ttotal: 10.8ms\tremaining: 0us\n",
      "0:\tlearn: 0.0402023\ttotal: 457us\tremaining: 17.9ms\n",
      "39:\tlearn: 0.0153997\ttotal: 14.4ms\tremaining: 0us\n",
      "0:\tlearn: 0.0410121\ttotal: 492us\tremaining: 19.2ms\n",
      "39:\tlearn: 0.0148399\ttotal: 9.44ms\tremaining: 0us\n",
      "0:\tlearn: 0.0408316\ttotal: 558us\tremaining: 21.8ms\n",
      "39:\tlearn: 0.0149039\ttotal: 26.8ms\tremaining: 0us\n",
      "0:\tlearn: 0.0401853\ttotal: 485us\tremaining: 19ms\n",
      "39:\tlearn: 0.0151256\ttotal: 8.97ms\tremaining: 0us\n",
      "0:\tlearn: 0.0397543\ttotal: 579us\tremaining: 22.6ms\n",
      "39:\tlearn: 0.0148123\ttotal: 117ms\tremaining: 0us\n",
      "0:\tlearn: 0.0399270\ttotal: 788us\tremaining: 30.8ms\n",
      "39:\tlearn: 0.0149199\ttotal: 8.9ms\tremaining: 0us\n",
      "0:\tlearn: 0.0407004\ttotal: 582us\tremaining: 22.7ms\n",
      "39:\tlearn: 0.0143555\ttotal: 9.76ms\tremaining: 0us\n"
     ]
    },
    {
     "name": "stderr",
     "output_type": "stream",
     "text": [
      "234it [36:33, 10.84s/it]"
     ]
    },
    {
     "name": "stdout",
     "output_type": "stream",
     "text": [
      "0:\tlearn: 0.0288022\ttotal: 446us\tremaining: 17.4ms\n",
      "39:\tlearn: 0.0073210\ttotal: 27.5ms\tremaining: 0us\n",
      "0:\tlearn: 0.0295535\ttotal: 450us\tremaining: 17.6ms\n",
      "39:\tlearn: 0.0071749\ttotal: 151ms\tremaining: 0us\n",
      "0:\tlearn: 0.0300761\ttotal: 759us\tremaining: 29.6ms\n",
      "39:\tlearn: 0.0078344\ttotal: 74.6ms\tremaining: 0us\n",
      "0:\tlearn: 0.0296452\ttotal: 731us\tremaining: 28.5ms\n",
      "39:\tlearn: 0.0077381\ttotal: 23.8ms\tremaining: 0us\n",
      "0:\tlearn: 0.0315902\ttotal: 548us\tremaining: 21.4ms\n",
      "39:\tlearn: 0.0106461\ttotal: 24.9ms\tremaining: 0us\n",
      "0:\tlearn: 0.0310966\ttotal: 488us\tremaining: 19ms\n",
      "39:\tlearn: 0.0110409\ttotal: 24.9ms\tremaining: 0us\n",
      "0:\tlearn: 0.0323554\ttotal: 443us\tremaining: 17.3ms\n",
      "39:\tlearn: 0.0118157\ttotal: 13.4ms\tremaining: 0us\n",
      "0:\tlearn: 0.0341926\ttotal: 474us\tremaining: 18.5ms\n",
      "39:\tlearn: 0.0116154\ttotal: 38.3ms\tremaining: 0us\n",
      "0:\tlearn: 0.0339620\ttotal: 514us\tremaining: 20.1ms\n",
      "39:\tlearn: 0.0108694\ttotal: 8.89ms\tremaining: 0us\n",
      "0:\tlearn: 0.0338549\ttotal: 541us\tremaining: 21.1ms\n",
      "39:\tlearn: 0.0109667\ttotal: 28ms\tremaining: 0us\n",
      "0:\tlearn: 0.0329328\ttotal: 535us\tremaining: 20.9ms\n",
      "39:\tlearn: 0.0115165\ttotal: 9.13ms\tremaining: 0us\n",
      "0:\tlearn: 0.0329079\ttotal: 642us\tremaining: 25.1ms\n",
      "39:\tlearn: 0.0115718\ttotal: 10.6ms\tremaining: 0us\n",
      "0:\tlearn: 0.0335922\ttotal: 562us\tremaining: 21.9ms\n",
      "39:\tlearn: 0.0112974\ttotal: 9.71ms\tremaining: 0us\n"
     ]
    },
    {
     "name": "stderr",
     "output_type": "stream",
     "text": [
      "235it [36:47, 11.89s/it]"
     ]
    },
    {
     "name": "stdout",
     "output_type": "stream",
     "text": [
      "0:\tlearn: 0.0686936\ttotal: 462us\tremaining: 18ms\n",
      "39:\tlearn: 0.0268904\ttotal: 8.14ms\tremaining: 0us\n",
      "0:\tlearn: 0.0663468\ttotal: 481us\tremaining: 18.8ms\n",
      "39:\tlearn: 0.0277024\ttotal: 8.91ms\tremaining: 0us\n",
      "0:\tlearn: 0.0670785\ttotal: 491us\tremaining: 19.2ms\n",
      "39:\tlearn: 0.0309666\ttotal: 9.04ms\tremaining: 0us\n",
      "0:\tlearn: 0.0672005\ttotal: 471us\tremaining: 18.4ms\n",
      "39:\tlearn: 0.0284680\ttotal: 14.1ms\tremaining: 0us\n",
      "0:\tlearn: 0.0654639\ttotal: 457us\tremaining: 17.9ms\n",
      "39:\tlearn: 0.0285885\ttotal: 9.99ms\tremaining: 0us\n",
      "0:\tlearn: 0.0656877\ttotal: 447us\tremaining: 17.4ms\n",
      "39:\tlearn: 0.0312034\ttotal: 23.3ms\tremaining: 0us\n",
      "0:\tlearn: 0.0669717\ttotal: 653us\tremaining: 25.5ms\n",
      "39:\tlearn: 0.0375155\ttotal: 18.8ms\tremaining: 0us\n",
      "0:\tlearn: 0.0716209\ttotal: 485us\tremaining: 18.9ms\n",
      "39:\tlearn: 0.0317819\ttotal: 22.3ms\tremaining: 0us\n",
      "0:\tlearn: 0.0729913\ttotal: 536us\tremaining: 20.9ms\n",
      "39:\tlearn: 0.0327216\ttotal: 31.9ms\tremaining: 0us\n",
      "0:\tlearn: 0.0724591\ttotal: 524us\tremaining: 20.5ms\n",
      "39:\tlearn: 0.0358811\ttotal: 10.8ms\tremaining: 0us\n",
      "0:\tlearn: 0.0710009\ttotal: 550us\tremaining: 21.5ms\n",
      "39:\tlearn: 0.0360385\ttotal: 11.3ms\tremaining: 0us\n",
      "0:\tlearn: 0.0715093\ttotal: 618us\tremaining: 24.1ms\n",
      "39:\tlearn: 0.0340772\ttotal: 17ms\tremaining: 0us\n",
      "0:\tlearn: 0.0712266\ttotal: 565us\tremaining: 22.1ms\n",
      "39:\tlearn: 0.0358684\ttotal: 124ms\tremaining: 0us\n"
     ]
    },
    {
     "name": "stderr",
     "output_type": "stream",
     "text": [
      "236it [36:59, 12.06s/it]"
     ]
    },
    {
     "name": "stdout",
     "output_type": "stream",
     "text": [
      "0:\tlearn: 0.0587290\ttotal: 430us\tremaining: 16.8ms\n",
      "39:\tlearn: 0.0232625\ttotal: 12.7ms\tremaining: 0us\n",
      "0:\tlearn: 0.0680896\ttotal: 494us\tremaining: 19.3ms\n",
      "39:\tlearn: 0.0318299\ttotal: 13.8ms\tremaining: 0us\n",
      "0:\tlearn: 0.0671473\ttotal: 507us\tremaining: 19.8ms\n",
      "39:\tlearn: 0.0307789\ttotal: 17.7ms\tremaining: 0us\n",
      "0:\tlearn: 0.0665146\ttotal: 455us\tremaining: 17.8ms\n",
      "39:\tlearn: 0.0299653\ttotal: 9.23ms\tremaining: 0us\n",
      "0:\tlearn: 0.0652751\ttotal: 563us\tremaining: 22ms\n",
      "39:\tlearn: 0.0303723\ttotal: 13.3ms\tremaining: 0us\n",
      "0:\tlearn: 0.0706936\ttotal: 548us\tremaining: 21.4ms\n",
      "39:\tlearn: 0.0381190\ttotal: 11.2ms\tremaining: 0us\n",
      "0:\tlearn: 0.0704562\ttotal: 492us\tremaining: 19.2ms\n",
      "39:\tlearn: 0.0408401\ttotal: 10.7ms\tremaining: 0us\n",
      "0:\tlearn: 0.0699324\ttotal: 1.2ms\tremaining: 47ms\n",
      "39:\tlearn: 0.0335439\ttotal: 121ms\tremaining: 0us\n",
      "0:\tlearn: 0.0718328\ttotal: 643us\tremaining: 25.1ms\n",
      "39:\tlearn: 0.0380333\ttotal: 11.1ms\tremaining: 0us\n",
      "0:\tlearn: 0.0717688\ttotal: 636us\tremaining: 24.8ms\n",
      "39:\tlearn: 0.0367074\ttotal: 12.8ms\tremaining: 0us\n",
      "0:\tlearn: 0.0712095\ttotal: 613us\tremaining: 23.9ms\n",
      "39:\tlearn: 0.0375964\ttotal: 11.3ms\tremaining: 0us\n",
      "0:\tlearn: 0.0710767\ttotal: 626us\tremaining: 24.4ms\n",
      "39:\tlearn: 0.0391700\ttotal: 139ms\tremaining: 0us\n",
      "0:\tlearn: 0.0700180\ttotal: 561us\tremaining: 21.9ms\n",
      "39:\tlearn: 0.0424660\ttotal: 38ms\tremaining: 0us\n"
     ]
    },
    {
     "name": "stderr",
     "output_type": "stream",
     "text": [
      "237it [37:10, 11.62s/it]"
     ]
    },
    {
     "name": "stdout",
     "output_type": "stream",
     "text": [
      "0:\tlearn: 0.1416523\ttotal: 560us\tremaining: 21.9ms\n",
      "39:\tlearn: 0.0734250\ttotal: 24.2ms\tremaining: 0us\n",
      "0:\tlearn: 0.1408573\ttotal: 500us\tremaining: 19.5ms\n",
      "39:\tlearn: 0.0784364\ttotal: 15.9ms\tremaining: 0us\n",
      "0:\tlearn: 0.1456908\ttotal: 1.18ms\tremaining: 46ms\n",
      "39:\tlearn: 0.0767650\ttotal: 15.3ms\tremaining: 0us\n",
      "0:\tlearn: 0.1434761\ttotal: 546us\tremaining: 21.3ms\n",
      "39:\tlearn: 0.0857573\ttotal: 15ms\tremaining: 0us\n",
      "0:\tlearn: 0.1478473\ttotal: 556us\tremaining: 21.7ms\n",
      "39:\tlearn: 0.0904465\ttotal: 9.99ms\tremaining: 0us\n",
      "0:\tlearn: 0.1446378\ttotal: 491us\tremaining: 19.2ms\n",
      "39:\tlearn: 0.0881772\ttotal: 9.57ms\tremaining: 0us\n",
      "0:\tlearn: 0.1461658\ttotal: 463us\tremaining: 18.1ms\n",
      "39:\tlearn: 0.0770336\ttotal: 8.81ms\tremaining: 0us\n",
      "0:\tlearn: 0.1551375\ttotal: 482us\tremaining: 18.8ms\n",
      "39:\tlearn: 0.0987659\ttotal: 45.2ms\tremaining: 0us\n",
      "0:\tlearn: 0.1558789\ttotal: 556us\tremaining: 21.7ms\n",
      "39:\tlearn: 0.0923530\ttotal: 18.1ms\tremaining: 0us\n",
      "0:\tlearn: 0.1547081\ttotal: 492us\tremaining: 19.2ms\n",
      "39:\tlearn: 0.0979700\ttotal: 14.7ms\tremaining: 0us\n",
      "0:\tlearn: 0.1568430\ttotal: 564us\tremaining: 22ms\n",
      "39:\tlearn: 0.0924130\ttotal: 15.7ms\tremaining: 0us\n",
      "0:\tlearn: 0.1576157\ttotal: 549us\tremaining: 21.4ms\n",
      "39:\tlearn: 0.0970560\ttotal: 10.5ms\tremaining: 0us\n"
     ]
    },
    {
     "name": "stderr",
     "output_type": "stream",
     "text": [
      "238it [37:20, 11.23s/it]"
     ]
    },
    {
     "name": "stdout",
     "output_type": "stream",
     "text": [
      "0:\tlearn: 0.0510765\ttotal: 492us\tremaining: 19.2ms\n",
      "39:\tlearn: 0.0141102\ttotal: 8.92ms\tremaining: 0us\n",
      "0:\tlearn: 0.0497504\ttotal: 452us\tremaining: 17.6ms\n",
      "39:\tlearn: 0.0153937\ttotal: 10.5ms\tremaining: 0us\n",
      "0:\tlearn: 0.0505026\ttotal: 1.16ms\tremaining: 45.1ms\n",
      "39:\tlearn: 0.0167409\ttotal: 10.4ms\tremaining: 0us\n",
      "0:\tlearn: 0.0484702\ttotal: 455us\tremaining: 17.8ms\n",
      "39:\tlearn: 0.0161319\ttotal: 35.3ms\tremaining: 0us\n",
      "0:\tlearn: 0.0558341\ttotal: 490us\tremaining: 19.1ms\n",
      "39:\tlearn: 0.0219774\ttotal: 9.24ms\tremaining: 0us\n",
      "0:\tlearn: 0.0565215\ttotal: 481us\tremaining: 18.8ms\n",
      "39:\tlearn: 0.0224173\ttotal: 9.91ms\tremaining: 0us\n",
      "0:\tlearn: 0.0636656\ttotal: 467us\tremaining: 18.2ms\n",
      "39:\tlearn: 0.0242643\ttotal: 19.2ms\tremaining: 0us\n",
      "0:\tlearn: 0.0643632\ttotal: 548us\tremaining: 21.4ms\n",
      "39:\tlearn: 0.0240384\ttotal: 20.1ms\tremaining: 0us\n",
      "0:\tlearn: 0.0682962\ttotal: 476us\tremaining: 18.6ms\n",
      "39:\tlearn: 0.0261203\ttotal: 49.3ms\tremaining: 0us\n",
      "0:\tlearn: 0.0671312\ttotal: 561us\tremaining: 21.9ms\n",
      "39:\tlearn: 0.0244124\ttotal: 8.65ms\tremaining: 0us\n",
      "0:\tlearn: 0.0673399\ttotal: 556us\tremaining: 21.7ms\n",
      "39:\tlearn: 0.0236704\ttotal: 9.87ms\tremaining: 0us\n",
      "0:\tlearn: 0.0677144\ttotal: 787us\tremaining: 30.7ms\n",
      "39:\tlearn: 0.0258273\ttotal: 137ms\tremaining: 0us\n",
      "0:\tlearn: 0.0697491\ttotal: 599us\tremaining: 23.4ms\n",
      "39:\tlearn: 0.0277056\ttotal: 23.3ms\tremaining: 0us\n"
     ]
    },
    {
     "name": "stderr",
     "output_type": "stream",
     "text": [
      "239it [37:32, 11.34s/it]"
     ]
    },
    {
     "name": "stdout",
     "output_type": "stream",
     "text": [
      "0:\tlearn: 0.0513029\ttotal: 428us\tremaining: 16.7ms\n",
      "39:\tlearn: 0.0258580\ttotal: 13.3ms\tremaining: 0us\n",
      "0:\tlearn: 0.0506763\ttotal: 502us\tremaining: 19.6ms\n",
      "39:\tlearn: 0.0286159\ttotal: 33.7ms\tremaining: 0us\n",
      "0:\tlearn: 0.0518233\ttotal: 487us\tremaining: 19ms\n",
      "39:\tlearn: 0.0257532\ttotal: 11.1ms\tremaining: 0us\n",
      "0:\tlearn: 0.0687245\ttotal: 684us\tremaining: 26.7ms\n",
      "39:\tlearn: 0.0338074\ttotal: 10.1ms\tremaining: 0us\n",
      "0:\tlearn: 0.0732210\ttotal: 523us\tremaining: 20.4ms\n",
      "39:\tlearn: 0.0440801\ttotal: 9.26ms\tremaining: 0us\n",
      "0:\tlearn: 0.0716424\ttotal: 479us\tremaining: 18.7ms\n",
      "39:\tlearn: 0.0400074\ttotal: 15.5ms\tremaining: 0us\n",
      "0:\tlearn: 0.0707093\ttotal: 483us\tremaining: 18.9ms\n",
      "39:\tlearn: 0.0411354\ttotal: 44.7ms\tremaining: 0us\n",
      "0:\tlearn: 0.0730368\ttotal: 507us\tremaining: 19.8ms\n",
      "39:\tlearn: 0.0377614\ttotal: 8.93ms\tremaining: 0us\n",
      "0:\tlearn: 0.0811850\ttotal: 493us\tremaining: 19.2ms\n",
      "39:\tlearn: 0.0421224\ttotal: 9.39ms\tremaining: 0us\n",
      "0:\tlearn: 0.0856495\ttotal: 635us\tremaining: 24.8ms\n",
      "39:\tlearn: 0.0447703\ttotal: 14.7ms\tremaining: 0us\n",
      "0:\tlearn: 0.0861284\ttotal: 553us\tremaining: 21.6ms\n",
      "39:\tlearn: 0.0427257\ttotal: 22.8ms\tremaining: 0us\n",
      "0:\tlearn: 0.0850971\ttotal: 599us\tremaining: 23.4ms\n",
      "39:\tlearn: 0.0405007\ttotal: 9.92ms\tremaining: 0us\n",
      "0:\tlearn: 0.0844862\ttotal: 607us\tremaining: 23.7ms\n",
      "39:\tlearn: 0.0415880\ttotal: 9.2ms\tremaining: 0us\n"
     ]
    },
    {
     "name": "stderr",
     "output_type": "stream",
     "text": [
      "243it [37:42,  8.72s/it]"
     ]
    },
    {
     "name": "stdout",
     "output_type": "stream",
     "text": [
      "0:\tlearn: 0.0581581\ttotal: 435us\tremaining: 17ms\n",
      "39:\tlearn: 0.0270371\ttotal: 8.63ms\tremaining: 0us\n",
      "0:\tlearn: 0.0575521\ttotal: 940us\tremaining: 36.7ms\n",
      "39:\tlearn: 0.0284814\ttotal: 112ms\tremaining: 0us\n",
      "0:\tlearn: 0.0577251\ttotal: 526us\tremaining: 20.5ms\n",
      "39:\tlearn: 0.0291596\ttotal: 15.1ms\tremaining: 0us\n",
      "0:\tlearn: 0.0564462\ttotal: 494us\tremaining: 19.3ms\n",
      "39:\tlearn: 0.0292675\ttotal: 15.8ms\tremaining: 0us\n",
      "0:\tlearn: 0.0565490\ttotal: 564us\tremaining: 22ms\n",
      "39:\tlearn: 0.0300782\ttotal: 10.8ms\tremaining: 0us\n",
      "0:\tlearn: 0.0554693\ttotal: 476us\tremaining: 18.6ms\n",
      "39:\tlearn: 0.0300172\ttotal: 52.9ms\tremaining: 0us\n",
      "0:\tlearn: 0.0615136\ttotal: 543us\tremaining: 21.2ms\n",
      "39:\tlearn: 0.0321957\ttotal: 14.9ms\tremaining: 0us\n",
      "0:\tlearn: 0.0691496\ttotal: 526us\tremaining: 20.5ms\n",
      "39:\tlearn: 0.0336967\ttotal: 15.5ms\tremaining: 0us\n",
      "0:\tlearn: 0.0678591\ttotal: 494us\tremaining: 19.3ms\n",
      "39:\tlearn: 0.0294887\ttotal: 15.9ms\tremaining: 0us\n",
      "0:\tlearn: 0.0727229\ttotal: 493us\tremaining: 19.2ms\n",
      "39:\tlearn: 0.0397404\ttotal: 9.2ms\tremaining: 0us\n",
      "0:\tlearn: 0.0721427\ttotal: 559us\tremaining: 21.8ms\n",
      "39:\tlearn: 0.0382027\ttotal: 9.54ms\tremaining: 0us\n",
      "0:\tlearn: 0.0728349\ttotal: 575us\tremaining: 22.5ms\n",
      "39:\tlearn: 0.0373431\ttotal: 26ms\tremaining: 0us\n",
      "0:\tlearn: 0.0734540\ttotal: 747us\tremaining: 29.1ms\n",
      "39:\tlearn: 0.0383943\ttotal: 41.7ms\tremaining: 0us\n"
     ]
    },
    {
     "name": "stderr",
     "output_type": "stream",
     "text": [
      "244it [37:54,  9.42s/it]"
     ]
    },
    {
     "name": "stdout",
     "output_type": "stream",
     "text": [
      "0:\tlearn: 0.0207695\ttotal: 443us\tremaining: 17.3ms\n",
      "39:\tlearn: 0.0067181\ttotal: 8.42ms\tremaining: 0us\n",
      "0:\tlearn: 0.0207494\ttotal: 501us\tremaining: 19.5ms\n",
      "39:\tlearn: 0.0068874\ttotal: 50.8ms\tremaining: 0us\n",
      "0:\tlearn: 0.0206693\ttotal: 674us\tremaining: 26.3ms\n",
      "39:\tlearn: 0.0065941\ttotal: 43.7ms\tremaining: 0us\n",
      "0:\tlearn: 0.0203151\ttotal: 459us\tremaining: 17.9ms\n",
      "39:\tlearn: 0.0072589\ttotal: 33.6ms\tremaining: 0us\n",
      "0:\tlearn: 0.0310321\ttotal: 460us\tremaining: 17.9ms\n",
      "39:\tlearn: 0.0143437\ttotal: 10.6ms\tremaining: 0us\n",
      "0:\tlearn: 0.0308937\ttotal: 530us\tremaining: 20.7ms\n",
      "39:\tlearn: 0.0135237\ttotal: 15.3ms\tremaining: 0us\n",
      "0:\tlearn: 0.0312442\ttotal: 638us\tremaining: 24.9ms\n",
      "39:\tlearn: 0.0131001\ttotal: 25.4ms\tremaining: 0us\n",
      "0:\tlearn: 0.0338361\ttotal: 541us\tremaining: 21.1ms\n",
      "39:\tlearn: 0.0137426\ttotal: 13.3ms\tremaining: 0us\n",
      "0:\tlearn: 0.0341597\ttotal: 492us\tremaining: 19.2ms\n",
      "39:\tlearn: 0.0141901\ttotal: 11ms\tremaining: 0us\n",
      "0:\tlearn: 0.0332340\ttotal: 611us\tremaining: 23.9ms\n",
      "39:\tlearn: 0.0137060\ttotal: 18.7ms\tremaining: 0us\n",
      "0:\tlearn: 0.0331767\ttotal: 632us\tremaining: 24.7ms\n",
      "39:\tlearn: 0.0138484\ttotal: 15.2ms\tremaining: 0us\n",
      "0:\tlearn: 0.0329963\ttotal: 591us\tremaining: 23.1ms\n",
      "39:\tlearn: 0.0148851\ttotal: 15.4ms\tremaining: 0us\n",
      "0:\tlearn: 0.0334884\ttotal: 596us\tremaining: 23.3ms\n",
      "39:\tlearn: 0.0152411\ttotal: 10.7ms\tremaining: 0us\n"
     ]
    },
    {
     "name": "stderr",
     "output_type": "stream",
     "text": [
      "245it [38:06, 10.30s/it]"
     ]
    },
    {
     "name": "stdout",
     "output_type": "stream",
     "text": [
      "0:\tlearn: 0.0302666\ttotal: 458us\tremaining: 17.9ms\n",
      "39:\tlearn: 0.0102736\ttotal: 47ms\tremaining: 0us\n",
      "0:\tlearn: 0.0292776\ttotal: 491us\tremaining: 19.2ms\n",
      "39:\tlearn: 0.0109858\ttotal: 86.3ms\tremaining: 0us\n",
      "0:\tlearn: 0.0288638\ttotal: 479us\tremaining: 18.7ms\n",
      "39:\tlearn: 0.0114729\ttotal: 9.82ms\tremaining: 0us\n",
      "0:\tlearn: 0.0291630\ttotal: 494us\tremaining: 19.3ms\n",
      "39:\tlearn: 0.0113080\ttotal: 9.23ms\tremaining: 0us\n",
      "0:\tlearn: 0.0398825\ttotal: 510us\tremaining: 19.9ms\n",
      "39:\tlearn: 0.0195440\ttotal: 11.6ms\tremaining: 0us\n",
      "0:\tlearn: 0.0398349\ttotal: 537us\tremaining: 21ms\n",
      "39:\tlearn: 0.0180117\ttotal: 9.11ms\tremaining: 0us\n",
      "0:\tlearn: 0.0413202\ttotal: 491us\tremaining: 19.2ms\n",
      "39:\tlearn: 0.0183205\ttotal: 28.4ms\tremaining: 0us\n",
      "0:\tlearn: 0.0442744\ttotal: 1.06ms\tremaining: 41.4ms\n",
      "39:\tlearn: 0.0189076\ttotal: 25.4ms\tremaining: 0us\n",
      "0:\tlearn: 0.0446792\ttotal: 526us\tremaining: 20.5ms\n",
      "39:\tlearn: 0.0192176\ttotal: 34.3ms\tremaining: 0us\n",
      "0:\tlearn: 0.0440015\ttotal: 569us\tremaining: 22.2ms\n",
      "39:\tlearn: 0.0192173\ttotal: 9.46ms\tremaining: 0us\n",
      "0:\tlearn: 0.0446452\ttotal: 696us\tremaining: 27.2ms\n",
      "39:\tlearn: 0.0188201\ttotal: 9.01ms\tremaining: 0us\n",
      "0:\tlearn: 0.0440528\ttotal: 508us\tremaining: 19.8ms\n",
      "39:\tlearn: 0.0179067\ttotal: 10.2ms\tremaining: 0us\n",
      "0:\tlearn: 0.0441215\ttotal: 590us\tremaining: 23ms\n",
      "39:\tlearn: 0.0189039\ttotal: 67.4ms\tremaining: 0us\n"
     ]
    },
    {
     "name": "stderr",
     "output_type": "stream",
     "text": [
      "246it [38:18, 10.75s/it]"
     ]
    },
    {
     "name": "stdout",
     "output_type": "stream",
     "text": [
      "0:\tlearn: 0.0566900\ttotal: 413us\tremaining: 16.1ms\n",
      "39:\tlearn: 0.0195568\ttotal: 8.94ms\tremaining: 0us\n",
      "0:\tlearn: 0.0567200\ttotal: 487us\tremaining: 19ms\n",
      "39:\tlearn: 0.0233676\ttotal: 8.88ms\tremaining: 0us\n",
      "0:\tlearn: 0.0564534\ttotal: 469us\tremaining: 18.3ms\n",
      "39:\tlearn: 0.0240317\ttotal: 8.7ms\tremaining: 0us\n",
      "0:\tlearn: 0.0560275\ttotal: 476us\tremaining: 18.6ms\n",
      "39:\tlearn: 0.0264087\ttotal: 29.4ms\tremaining: 0us\n",
      "0:\tlearn: 0.0561527\ttotal: 464us\tremaining: 18.1ms\n",
      "39:\tlearn: 0.0262990\ttotal: 8.99ms\tremaining: 0us\n",
      "0:\tlearn: 0.0640577\ttotal: 505us\tremaining: 19.7ms\n",
      "39:\tlearn: 0.0317031\ttotal: 53.4ms\tremaining: 0us\n",
      "0:\tlearn: 0.0662190\ttotal: 478us\tremaining: 18.7ms\n",
      "39:\tlearn: 0.0338559\ttotal: 10ms\tremaining: 0us\n",
      "0:\tlearn: 0.0657050\ttotal: 511us\tremaining: 20ms\n",
      "39:\tlearn: 0.0299020\ttotal: 14.3ms\tremaining: 0us\n",
      "0:\tlearn: 0.0707014\ttotal: 478us\tremaining: 18.6ms\n",
      "39:\tlearn: 0.0329170\ttotal: 8.9ms\tremaining: 0us\n",
      "0:\tlearn: 0.0727638\ttotal: 916us\tremaining: 35.7ms\n",
      "39:\tlearn: 0.0360310\ttotal: 10.6ms\tremaining: 0us\n",
      "0:\tlearn: 0.0725542\ttotal: 501us\tremaining: 19.6ms\n",
      "39:\tlearn: 0.0373169\ttotal: 40.4ms\tremaining: 0us\n",
      "0:\tlearn: 0.0739836\ttotal: 483us\tremaining: 18.8ms\n",
      "39:\tlearn: 0.0376837\ttotal: 44.4ms\tremaining: 0us\n",
      "0:\tlearn: 0.0740010\ttotal: 715us\tremaining: 27.9ms\n",
      "39:\tlearn: 0.0425744\ttotal: 9.06ms\tremaining: 0us\n"
     ]
    },
    {
     "name": "stderr",
     "output_type": "stream",
     "text": [
      "247it [38:28, 10.70s/it]"
     ]
    },
    {
     "name": "stdout",
     "output_type": "stream",
     "text": [
      "0:\tlearn: 0.1231653\ttotal: 419us\tremaining: 16.4ms\n",
      "39:\tlearn: 0.0516539\ttotal: 7.68ms\tremaining: 0us\n",
      "0:\tlearn: 0.1214763\ttotal: 709us\tremaining: 27.7ms\n",
      "39:\tlearn: 0.0589631\ttotal: 19.1ms\tremaining: 0us\n",
      "0:\tlearn: 0.1162686\ttotal: 434us\tremaining: 16.9ms\n",
      "39:\tlearn: 0.0509390\ttotal: 9.05ms\tremaining: 0us\n",
      "0:\tlearn: 0.1519625\ttotal: 538us\tremaining: 21ms\n",
      "39:\tlearn: 0.0803000\ttotal: 67.5ms\tremaining: 0us\n",
      "0:\tlearn: 0.1511464\ttotal: 962us\tremaining: 37.5ms\n",
      "39:\tlearn: 0.0861664\ttotal: 8.96ms\tremaining: 0us\n",
      "0:\tlearn: 0.1466311\ttotal: 1ms\tremaining: 39.1ms\n",
      "39:\tlearn: 0.0925590\ttotal: 10.8ms\tremaining: 0us\n",
      "0:\tlearn: 0.1465623\ttotal: 494us\tremaining: 19.3ms\n",
      "39:\tlearn: 0.0805268\ttotal: 25.4ms\tremaining: 0us\n",
      "0:\tlearn: 0.1457337\ttotal: 470us\tremaining: 18.3ms\n",
      "39:\tlearn: 0.0779467\ttotal: 8.82ms\tremaining: 0us\n",
      "0:\tlearn: 0.1608688\ttotal: 516us\tremaining: 20.1ms\n",
      "39:\tlearn: 0.0848033\ttotal: 9.61ms\tremaining: 0us\n",
      "0:\tlearn: 0.1588233\ttotal: 476us\tremaining: 18.6ms\n",
      "39:\tlearn: 0.0899889\ttotal: 8.46ms\tremaining: 0us\n",
      "0:\tlearn: 0.1556872\ttotal: 556us\tremaining: 21.7ms\n",
      "39:\tlearn: 0.0908841\ttotal: 7.99ms\tremaining: 0us\n",
      "0:\tlearn: 0.1530790\ttotal: 469us\tremaining: 18.3ms\n",
      "39:\tlearn: 0.1010946\ttotal: 8.68ms\tremaining: 0us\n",
      "0:\tlearn: 0.1505664\ttotal: 472us\tremaining: 18.4ms\n",
      "39:\tlearn: 0.0961649\ttotal: 45.2ms\tremaining: 0us\n"
     ]
    },
    {
     "name": "stderr",
     "output_type": "stream",
     "text": [
      "248it [38:43, 11.97s/it]"
     ]
    },
    {
     "name": "stdout",
     "output_type": "stream",
     "text": [
      "0:\tlearn: 0.0596585\ttotal: 495us\tremaining: 19.3ms\n",
      "39:\tlearn: 0.0213424\ttotal: 17.9ms\tremaining: 0us\n",
      "0:\tlearn: 0.0590602\ttotal: 515us\tremaining: 20.1ms\n",
      "39:\tlearn: 0.0270392\ttotal: 9.47ms\tremaining: 0us\n",
      "0:\tlearn: 0.0586414\ttotal: 456us\tremaining: 17.8ms\n",
      "39:\tlearn: 0.0273574\ttotal: 39.8ms\tremaining: 0us\n",
      "0:\tlearn: 0.0583222\ttotal: 475us\tremaining: 18.6ms\n",
      "39:\tlearn: 0.0239493\ttotal: 8.77ms\tremaining: 0us\n",
      "0:\tlearn: 0.0584423\ttotal: 483us\tremaining: 18.9ms\n",
      "39:\tlearn: 0.0264662\ttotal: 24.2ms\tremaining: 0us\n",
      "0:\tlearn: 0.0581567\ttotal: 510us\tremaining: 19.9ms\n",
      "39:\tlearn: 0.0260717\ttotal: 9.8ms\tremaining: 0us\n",
      "0:\tlearn: 0.0564721\ttotal: 554us\tremaining: 21.6ms\n",
      "39:\tlearn: 0.0262051\ttotal: 29.3ms\tremaining: 0us\n",
      "0:\tlearn: 0.0588201\ttotal: 553us\tremaining: 21.6ms\n",
      "39:\tlearn: 0.0259837\ttotal: 9.57ms\tremaining: 0us\n",
      "0:\tlearn: 0.0582521\ttotal: 491us\tremaining: 19.2ms\n",
      "39:\tlearn: 0.0267661\ttotal: 13ms\tremaining: 0us\n",
      "0:\tlearn: 0.0622777\ttotal: 578us\tremaining: 22.6ms\n",
      "39:\tlearn: 0.0259675\ttotal: 34.6ms\tremaining: 0us\n",
      "0:\tlearn: 0.0614206\ttotal: 548us\tremaining: 21.4ms\n",
      "39:\tlearn: 0.0283626\ttotal: 36.6ms\tremaining: 0us\n",
      "0:\tlearn: 0.0617130\ttotal: 568us\tremaining: 22.2ms\n",
      "39:\tlearn: 0.0281912\ttotal: 10.2ms\tremaining: 0us\n",
      "0:\tlearn: 0.0594790\ttotal: 682us\tremaining: 26.6ms\n",
      "39:\tlearn: 0.0299642\ttotal: 13.4ms\tremaining: 0us\n"
     ]
    },
    {
     "name": "stderr",
     "output_type": "stream",
     "text": [
      "249it [38:57, 12.45s/it]"
     ]
    },
    {
     "name": "stdout",
     "output_type": "stream",
     "text": [
      "0:\tlearn: 0.0609826\ttotal: 420us\tremaining: 16.4ms\n",
      "39:\tlearn: 0.0181278\ttotal: 8.48ms\tremaining: 0us\n",
      "0:\tlearn: 0.0608383\ttotal: 455us\tremaining: 17.8ms\n",
      "39:\tlearn: 0.0225503\ttotal: 13.9ms\tremaining: 0us\n",
      "0:\tlearn: 0.0609918\ttotal: 495us\tremaining: 19.3ms\n",
      "39:\tlearn: 0.0205351\ttotal: 24.5ms\tremaining: 0us\n",
      "0:\tlearn: 0.0593321\ttotal: 513us\tremaining: 20ms\n",
      "39:\tlearn: 0.0212685\ttotal: 10.1ms\tremaining: 0us\n",
      "0:\tlearn: 0.0604423\ttotal: 728us\tremaining: 28.4ms\n",
      "39:\tlearn: 0.0232419\ttotal: 33.7ms\tremaining: 0us\n",
      "0:\tlearn: 0.0589003\ttotal: 489us\tremaining: 19.1ms\n",
      "39:\tlearn: 0.0237926\ttotal: 9.7ms\tremaining: 0us\n",
      "0:\tlearn: 0.0582348\ttotal: 533us\tremaining: 20.8ms\n",
      "39:\tlearn: 0.0238001\ttotal: 9.24ms\tremaining: 0us\n",
      "0:\tlearn: 0.0619998\ttotal: 586us\tremaining: 22.9ms\n",
      "39:\tlearn: 0.0216831\ttotal: 10.1ms\tremaining: 0us\n",
      "0:\tlearn: 0.0617081\ttotal: 481us\tremaining: 18.8ms\n",
      "39:\tlearn: 0.0210875\ttotal: 27.3ms\tremaining: 0us\n",
      "0:\tlearn: 0.0626665\ttotal: 581us\tremaining: 22.7ms\n",
      "39:\tlearn: 0.0242845\ttotal: 9.38ms\tremaining: 0us\n",
      "0:\tlearn: 0.0611534\ttotal: 496us\tremaining: 19.4ms\n",
      "39:\tlearn: 0.0269007\ttotal: 68.3ms\tremaining: 0us\n",
      "0:\tlearn: 0.0619312\ttotal: 612us\tremaining: 23.9ms\n",
      "39:\tlearn: 0.0218799\ttotal: 15.4ms\tremaining: 0us\n",
      "0:\tlearn: 0.0603618\ttotal: 571us\tremaining: 22.3ms\n",
      "39:\tlearn: 0.0240899\ttotal: 16.1ms\tremaining: 0us\n"
     ]
    },
    {
     "name": "stderr",
     "output_type": "stream",
     "text": [
      "250it [39:07, 11.78s/it]"
     ]
    },
    {
     "name": "stdout",
     "output_type": "stream",
     "text": [
      "0:\tlearn: 0.1042414\ttotal: 467us\tremaining: 18.2ms\n",
      "39:\tlearn: 0.0434316\ttotal: 8.6ms\tremaining: 0us\n",
      "0:\tlearn: 0.1040132\ttotal: 496us\tremaining: 19.4ms\n",
      "39:\tlearn: 0.0459401\ttotal: 9.95ms\tremaining: 0us\n",
      "0:\tlearn: 0.1027536\ttotal: 538us\tremaining: 21ms\n",
      "39:\tlearn: 0.0485033\ttotal: 14.4ms\tremaining: 0us\n",
      "0:\tlearn: 0.1003752\ttotal: 465us\tremaining: 18.2ms\n",
      "39:\tlearn: 0.0493007\ttotal: 13.1ms\tremaining: 0us\n",
      "0:\tlearn: 0.0993417\ttotal: 499us\tremaining: 19.5ms\n",
      "39:\tlearn: 0.0490323\ttotal: 8.83ms\tremaining: 0us\n",
      "0:\tlearn: 0.0998252\ttotal: 591us\tremaining: 23.1ms\n",
      "39:\tlearn: 0.0506308\ttotal: 33.9ms\tremaining: 0us\n",
      "0:\tlearn: 0.1097993\ttotal: 477us\tremaining: 18.6ms\n",
      "39:\tlearn: 0.0592514\ttotal: 15.4ms\tremaining: 0us\n",
      "0:\tlearn: 0.1082060\ttotal: 478us\tremaining: 18.6ms\n",
      "39:\tlearn: 0.0625409\ttotal: 14.2ms\tremaining: 0us\n",
      "0:\tlearn: 0.1078909\ttotal: 476us\tremaining: 18.6ms\n",
      "39:\tlearn: 0.0606469\ttotal: 14.5ms\tremaining: 0us\n",
      "0:\tlearn: 0.1091533\ttotal: 513us\tremaining: 20ms\n",
      "39:\tlearn: 0.0621919\ttotal: 9.07ms\tremaining: 0us\n",
      "0:\tlearn: 0.1088499\ttotal: 568us\tremaining: 22.2ms\n",
      "39:\tlearn: 0.0675347\ttotal: 51.2ms\tremaining: 0us\n",
      "0:\tlearn: 0.1106063\ttotal: 471us\tremaining: 18.4ms\n",
      "39:\tlearn: 0.0683600\ttotal: 10.3ms\tremaining: 0us\n",
      "0:\tlearn: 0.1187379\ttotal: 497us\tremaining: 19.4ms\n",
      "39:\tlearn: 0.0692814\ttotal: 15.3ms\tremaining: 0us\n"
     ]
    },
    {
     "name": "stderr",
     "output_type": "stream",
     "text": [
      "251it [39:18, 11.43s/it]"
     ]
    },
    {
     "name": "stdout",
     "output_type": "stream",
     "text": [
      "0:\tlearn: 0.0558998\ttotal: 432us\tremaining: 16.9ms\n",
      "39:\tlearn: 0.0239892\ttotal: 17.3ms\tremaining: 0us\n",
      "0:\tlearn: 0.0597831\ttotal: 525us\tremaining: 20.5ms\n",
      "39:\tlearn: 0.0258427\ttotal: 8.68ms\tremaining: 0us\n",
      "0:\tlearn: 0.0599490\ttotal: 519us\tremaining: 20.3ms\n",
      "39:\tlearn: 0.0245363\ttotal: 14ms\tremaining: 0us\n",
      "0:\tlearn: 0.0592510\ttotal: 481us\tremaining: 18.8ms\n",
      "39:\tlearn: 0.0259098\ttotal: 9.05ms\tremaining: 0us\n",
      "0:\tlearn: 0.0583531\ttotal: 530us\tremaining: 20.7ms\n",
      "39:\tlearn: 0.0290074\ttotal: 9.58ms\tremaining: 0us\n",
      "0:\tlearn: 0.0583184\ttotal: 526us\tremaining: 20.5ms\n",
      "39:\tlearn: 0.0297061\ttotal: 10.1ms\tremaining: 0us\n",
      "0:\tlearn: 0.0575922\ttotal: 487us\tremaining: 19ms\n",
      "39:\tlearn: 0.0303448\ttotal: 43ms\tremaining: 0us\n",
      "0:\tlearn: 0.0595153\ttotal: 483us\tremaining: 18.9ms\n",
      "39:\tlearn: 0.0268665\ttotal: 9.15ms\tremaining: 0us\n",
      "0:\tlearn: 0.0596644\ttotal: 584us\tremaining: 22.8ms\n",
      "39:\tlearn: 0.0281951\ttotal: 14.7ms\tremaining: 0us\n",
      "0:\tlearn: 0.0604279\ttotal: 528us\tremaining: 20.6ms\n",
      "39:\tlearn: 0.0310381\ttotal: 9.79ms\tremaining: 0us\n",
      "0:\tlearn: 0.0591710\ttotal: 531us\tremaining: 20.7ms\n",
      "39:\tlearn: 0.0292848\ttotal: 14.5ms\tremaining: 0us\n",
      "0:\tlearn: 0.0603258\ttotal: 583us\tremaining: 22.8ms\n",
      "39:\tlearn: 0.0311503\ttotal: 36.1ms\tremaining: 0us\n",
      "0:\tlearn: 0.0601502\ttotal: 486us\tremaining: 19ms\n",
      "39:\tlearn: 0.0308816\ttotal: 19.1ms\tremaining: 0us\n"
     ]
    },
    {
     "name": "stderr",
     "output_type": "stream",
     "text": [
      "253it [39:29,  9.71s/it]"
     ]
    },
    {
     "name": "stdout",
     "output_type": "stream",
     "text": [
      "0:\tlearn: 0.0555795\ttotal: 452us\tremaining: 17.6ms\n",
      "39:\tlearn: 0.0188291\ttotal: 8.27ms\tremaining: 0us\n",
      "0:\tlearn: 0.0543924\ttotal: 438us\tremaining: 17.1ms\n",
      "39:\tlearn: 0.0199511\ttotal: 12.5ms\tremaining: 0us\n",
      "0:\tlearn: 0.0529733\ttotal: 487us\tremaining: 19ms\n",
      "39:\tlearn: 0.0205673\ttotal: 9.62ms\tremaining: 0us\n",
      "0:\tlearn: 0.0516519\ttotal: 490us\tremaining: 19.1ms\n",
      "39:\tlearn: 0.0182261\ttotal: 14.1ms\tremaining: 0us\n",
      "0:\tlearn: 0.1095362\ttotal: 596us\tremaining: 23.2ms\n",
      "39:\tlearn: 0.0528687\ttotal: 9.83ms\tremaining: 0us\n",
      "0:\tlearn: 0.1071919\ttotal: 475us\tremaining: 18.5ms\n",
      "39:\tlearn: 0.0524232\ttotal: 8.55ms\tremaining: 0us\n",
      "0:\tlearn: 0.1070946\ttotal: 510us\tremaining: 19.9ms\n",
      "39:\tlearn: 0.0483252\ttotal: 11.7ms\tremaining: 0us\n",
      "0:\tlearn: 0.1078694\ttotal: 499us\tremaining: 19.5ms\n",
      "39:\tlearn: 0.0482791\ttotal: 23.4ms\tremaining: 0us\n",
      "0:\tlearn: 0.1057963\ttotal: 1.4ms\tremaining: 54.4ms\n",
      "39:\tlearn: 0.0470947\ttotal: 119ms\tremaining: 0us\n",
      "0:\tlearn: 0.1040943\ttotal: 481us\tremaining: 18.8ms\n",
      "39:\tlearn: 0.0455819\ttotal: 40.1ms\tremaining: 0us\n",
      "0:\tlearn: 0.1018802\ttotal: 489us\tremaining: 19.1ms\n",
      "39:\tlearn: 0.0455823\ttotal: 15.9ms\tremaining: 0us\n",
      "0:\tlearn: 0.1002628\ttotal: 436us\tremaining: 17ms\n",
      "39:\tlearn: 0.0469265\ttotal: 8.75ms\tremaining: 0us\n",
      "0:\tlearn: 0.1009569\ttotal: 482us\tremaining: 18.8ms\n",
      "39:\tlearn: 0.0459737\ttotal: 12ms\tremaining: 0us\n"
     ]
    },
    {
     "name": "stderr",
     "output_type": "stream",
     "text": [
      "255it [39:41,  7.28s/it]"
     ]
    },
    {
     "name": "stdout",
     "output_type": "stream",
     "text": [
      "0:\tlearn: 0.0580056\ttotal: 488us\tremaining: 19ms\n",
      "39:\tlearn: 0.0272807\ttotal: 13.9ms\tremaining: 0us\n",
      "0:\tlearn: 0.0575288\ttotal: 461us\tremaining: 18ms\n",
      "39:\tlearn: 0.0324957\ttotal: 8.3ms\tremaining: 0us\n",
      "0:\tlearn: 0.0578133\ttotal: 500us\tremaining: 19.5ms\n",
      "39:\tlearn: 0.0283188\ttotal: 9.17ms\tremaining: 0us\n",
      "0:\tlearn: 0.0581070\ttotal: 507us\tremaining: 19.8ms\n",
      "39:\tlearn: 0.0300186\ttotal: 9.65ms\tremaining: 0us\n",
      "0:\tlearn: 0.0614908\ttotal: 436us\tremaining: 17ms\n",
      "39:\tlearn: 0.0303316\ttotal: 13.8ms\tremaining: 0us\n",
      "0:\tlearn: 0.0614857\ttotal: 537us\tremaining: 21ms\n",
      "39:\tlearn: 0.0290220\ttotal: 16.4ms\tremaining: 0us\n",
      "0:\tlearn: 0.0644657\ttotal: 483us\tremaining: 18.8ms\n",
      "39:\tlearn: 0.0278462\ttotal: 18.4ms\tremaining: 0us\n",
      "0:\tlearn: 0.0712400\ttotal: 578us\tremaining: 22.5ms\n",
      "39:\tlearn: 0.0326151\ttotal: 8.91ms\tremaining: 0us\n",
      "0:\tlearn: 0.0714668\ttotal: 555us\tremaining: 21.6ms\n",
      "39:\tlearn: 0.0327992\ttotal: 37.5ms\tremaining: 0us\n",
      "0:\tlearn: 0.0704374\ttotal: 539us\tremaining: 21ms\n",
      "39:\tlearn: 0.0350526\ttotal: 14.4ms\tremaining: 0us\n",
      "0:\tlearn: 0.0702867\ttotal: 623us\tremaining: 24.3ms\n",
      "39:\tlearn: 0.0313003\ttotal: 16.7ms\tremaining: 0us\n",
      "0:\tlearn: 0.0697272\ttotal: 577us\tremaining: 22.5ms\n",
      "39:\tlearn: 0.0329630\ttotal: 9.11ms\tremaining: 0us\n",
      "0:\tlearn: 0.0691593\ttotal: 512us\tremaining: 20ms\n",
      "39:\tlearn: 0.0340838\ttotal: 9.53ms\tremaining: 0us\n"
     ]
    },
    {
     "name": "stderr",
     "output_type": "stream",
     "text": [
      "256it [39:52,  8.39s/it]"
     ]
    },
    {
     "name": "stdout",
     "output_type": "stream",
     "text": [
      "0:\tlearn: 0.0844902\ttotal: 465us\tremaining: 18.2ms\n",
      "39:\tlearn: 0.0378839\ttotal: 13.7ms\tremaining: 0us\n",
      "0:\tlearn: 0.0856164\ttotal: 467us\tremaining: 18.2ms\n",
      "39:\tlearn: 0.0473781\ttotal: 14.7ms\tremaining: 0us\n",
      "0:\tlearn: 0.0843511\ttotal: 463us\tremaining: 18.1ms\n",
      "39:\tlearn: 0.0386003\ttotal: 9.35ms\tremaining: 0us\n",
      "0:\tlearn: 0.0831213\ttotal: 504us\tremaining: 19.7ms\n",
      "39:\tlearn: 0.0398715\ttotal: 10.5ms\tremaining: 0us\n",
      "0:\tlearn: 0.0821197\ttotal: 478us\tremaining: 18.7ms\n",
      "39:\tlearn: 0.0406573\ttotal: 8.57ms\tremaining: 0us\n",
      "0:\tlearn: 0.0824914\ttotal: 500us\tremaining: 19.5ms\n",
      "39:\tlearn: 0.0420774\ttotal: 8.97ms\tremaining: 0us\n",
      "0:\tlearn: 0.0968421\ttotal: 572us\tremaining: 22.3ms\n",
      "39:\tlearn: 0.0538637\ttotal: 24.2ms\tremaining: 0us\n",
      "0:\tlearn: 0.0965280\ttotal: 542us\tremaining: 21.1ms\n",
      "39:\tlearn: 0.0538005\ttotal: 35ms\tremaining: 0us\n",
      "0:\tlearn: 0.0938120\ttotal: 520us\tremaining: 20.3ms\n",
      "39:\tlearn: 0.0501591\ttotal: 9.1ms\tremaining: 0us\n",
      "0:\tlearn: 0.0986889\ttotal: 978us\tremaining: 38.2ms\n",
      "39:\tlearn: 0.0523054\ttotal: 15.1ms\tremaining: 0us\n",
      "0:\tlearn: 0.0982009\ttotal: 642us\tremaining: 25.1ms\n",
      "39:\tlearn: 0.0548599\ttotal: 9.05ms\tremaining: 0us\n",
      "0:\tlearn: 0.0980993\ttotal: 631us\tremaining: 24.6ms\n",
      "39:\tlearn: 0.0509162\ttotal: 53.2ms\tremaining: 0us\n",
      "0:\tlearn: 0.0971183\ttotal: 704us\tremaining: 27.5ms\n",
      "39:\tlearn: 0.0498824\ttotal: 44.7ms\tremaining: 0us\n"
     ]
    },
    {
     "name": "stderr",
     "output_type": "stream",
     "text": [
      "257it [40:02,  8.97s/it]"
     ]
    },
    {
     "name": "stdout",
     "output_type": "stream",
     "text": [
      "0:\tlearn: 0.0417857\ttotal: 264us\tremaining: 10.3ms\n",
      "39:\tlearn: 0.0155671\ttotal: 6.19ms\tremaining: 0us\n",
      "0:\tlearn: 0.0484321\ttotal: 468us\tremaining: 18.3ms\n",
      "39:\tlearn: 0.0177589\ttotal: 18.8ms\tremaining: 0us\n",
      "0:\tlearn: 0.0425036\ttotal: 469us\tremaining: 18.3ms\n",
      "39:\tlearn: 0.0160838\ttotal: 45.4ms\tremaining: 0us\n",
      "0:\tlearn: 0.0458103\ttotal: 462us\tremaining: 18ms\n",
      "39:\tlearn: 0.0156825\ttotal: 8.1ms\tremaining: 0us\n",
      "0:\tlearn: 0.0614763\ttotal: 470us\tremaining: 18.3ms\n",
      "39:\tlearn: 0.0201683\ttotal: 13.9ms\tremaining: 0us\n",
      "0:\tlearn: 0.1282111\ttotal: 449us\tremaining: 17.5ms\n",
      "39:\tlearn: 0.0468759\ttotal: 12.6ms\tremaining: 0us\n",
      "0:\tlearn: 0.1211775\ttotal: 468us\tremaining: 18.3ms\n",
      "39:\tlearn: 0.0446325\ttotal: 7.35ms\tremaining: 0us\n",
      "0:\tlearn: 0.1169288\ttotal: 441us\tremaining: 17.2ms\n",
      "39:\tlearn: 0.0425137\ttotal: 7.52ms\tremaining: 0us\n",
      "0:\tlearn: 0.1171089\ttotal: 410us\tremaining: 16ms\n",
      "39:\tlearn: 0.0403073\ttotal: 7.29ms\tremaining: 0us\n",
      "0:\tlearn: 0.1154497\ttotal: 439us\tremaining: 17.1ms\n",
      "39:\tlearn: 0.0410906\ttotal: 7.17ms\tremaining: 183us\n",
      "0:\tlearn: 0.1158015\ttotal: 454us\tremaining: 17.7ms\n",
      "39:\tlearn: 0.0404040\ttotal: 27.5ms\tremaining: 0us\n",
      "0:\tlearn: 0.1158332\ttotal: 1.11ms\tremaining: 43.2ms\n",
      "39:\tlearn: 0.0377384\ttotal: 30ms\tremaining: 0us\n",
      "0:\tlearn: 0.1112410\ttotal: 478us\tremaining: 18.7ms\n",
      "39:\tlearn: 0.0357813\ttotal: 14ms\tremaining: 0us\n"
     ]
    },
    {
     "name": "stderr",
     "output_type": "stream",
     "text": [
      "258it [40:14,  9.67s/it]"
     ]
    },
    {
     "name": "stdout",
     "output_type": "stream",
     "text": [
      "0:\tlearn: 0.1222157\ttotal: 444us\tremaining: 17.3ms\n",
      "39:\tlearn: 0.0440840\ttotal: 17.4ms\tremaining: 0us\n",
      "0:\tlearn: 0.1167528\ttotal: 889us\tremaining: 34.7ms\n",
      "39:\tlearn: 0.0457753\ttotal: 14.1ms\tremaining: 0us\n",
      "0:\tlearn: 0.1126862\ttotal: 417us\tremaining: 16.3ms\n",
      "39:\tlearn: 0.0443252\ttotal: 14.9ms\tremaining: 0us\n",
      "0:\tlearn: 0.1731900\ttotal: 433us\tremaining: 16.9ms\n",
      "39:\tlearn: 0.0706301\ttotal: 7.77ms\tremaining: 0us\n",
      "0:\tlearn: 0.1655753\ttotal: 396us\tremaining: 15.4ms\n",
      "39:\tlearn: 0.0666539\ttotal: 21.6ms\tremaining: 0us\n"
     ]
    },
    {
     "name": "stderr",
     "output_type": "stream",
     "text": [
      "259it [40:18,  8.20s/it]"
     ]
    },
    {
     "name": "stdout",
     "output_type": "stream",
     "text": [
      "0:\tlearn: 0.0425259\ttotal: 501us\tremaining: 19.5ms\n",
      "39:\tlearn: 0.0181250\ttotal: 20.5ms\tremaining: 0us\n",
      "0:\tlearn: 0.0413763\ttotal: 508us\tremaining: 19.8ms\n",
      "39:\tlearn: 0.0214396\ttotal: 12.3ms\tremaining: 0us\n",
      "0:\tlearn: 0.0416493\ttotal: 561us\tremaining: 21.9ms\n",
      "39:\tlearn: 0.0225629\ttotal: 10.3ms\tremaining: 0us\n",
      "0:\tlearn: 0.0424054\ttotal: 485us\tremaining: 18.9ms\n",
      "39:\tlearn: 0.0213182\ttotal: 9.36ms\tremaining: 0us\n",
      "0:\tlearn: 0.0567160\ttotal: 571us\tremaining: 22.3ms\n",
      "39:\tlearn: 0.0298830\ttotal: 29ms\tremaining: 0us\n",
      "0:\tlearn: 0.0568863\ttotal: 557us\tremaining: 21.8ms\n",
      "39:\tlearn: 0.0288884\ttotal: 9.35ms\tremaining: 0us\n",
      "0:\tlearn: 0.0568232\ttotal: 494us\tremaining: 19.3ms\n",
      "39:\tlearn: 0.0280776\ttotal: 11.6ms\tremaining: 0us\n",
      "0:\tlearn: 0.0590489\ttotal: 576us\tremaining: 22.5ms\n",
      "39:\tlearn: 0.0287662\ttotal: 10.2ms\tremaining: 0us\n",
      "0:\tlearn: 0.0599234\ttotal: 509us\tremaining: 19.9ms\n",
      "39:\tlearn: 0.0301474\ttotal: 36.1ms\tremaining: 0us\n",
      "0:\tlearn: 0.0614987\ttotal: 592us\tremaining: 23.1ms\n",
      "39:\tlearn: 0.0319514\ttotal: 14.6ms\tremaining: 0us\n",
      "0:\tlearn: 0.0610872\ttotal: 528us\tremaining: 20.6ms\n",
      "39:\tlearn: 0.0303643\ttotal: 12.3ms\tremaining: 0us\n",
      "0:\tlearn: 0.0598974\ttotal: 554us\tremaining: 21.6ms\n",
      "39:\tlearn: 0.0283682\ttotal: 9.13ms\tremaining: 0us\n",
      "0:\tlearn: 0.0593246\ttotal: 486us\tremaining: 19ms\n",
      "39:\tlearn: 0.0294471\ttotal: 9.07ms\tremaining: 0us\n"
     ]
    },
    {
     "name": "stderr",
     "output_type": "stream",
     "text": [
      "260it [40:35, 10.87s/it]"
     ]
    },
    {
     "name": "stdout",
     "output_type": "stream",
     "text": [
      "0:\tlearn: 0.0456312\ttotal: 445us\tremaining: 17.4ms\n",
      "39:\tlearn: 0.0187315\ttotal: 30.4ms\tremaining: 0us\n",
      "0:\tlearn: 0.0450028\ttotal: 504us\tremaining: 19.7ms\n",
      "39:\tlearn: 0.0221904\ttotal: 53.9ms\tremaining: 0us\n",
      "0:\tlearn: 0.0443548\ttotal: 487us\tremaining: 19ms\n",
      "39:\tlearn: 0.0197342\ttotal: 14.2ms\tremaining: 0us\n",
      "0:\tlearn: 0.0461007\ttotal: 532us\tremaining: 20.8ms\n",
      "39:\tlearn: 0.0251079\ttotal: 8.74ms\tremaining: 0us\n",
      "0:\tlearn: 0.0491570\ttotal: 494us\tremaining: 19.3ms\n",
      "39:\tlearn: 0.0243366\ttotal: 9.25ms\tremaining: 0us\n",
      "0:\tlearn: 0.0480454\ttotal: 576us\tremaining: 22.5ms\n",
      "39:\tlearn: 0.0231668\ttotal: 9.07ms\tremaining: 0us\n",
      "0:\tlearn: 0.0556012\ttotal: 460us\tremaining: 18ms\n",
      "39:\tlearn: 0.0332799\ttotal: 17.6ms\tremaining: 0us\n",
      "0:\tlearn: 0.0579818\ttotal: 497us\tremaining: 19.4ms\n",
      "39:\tlearn: 0.0296691\ttotal: 10.5ms\tremaining: 0us\n",
      "0:\tlearn: 0.0576042\ttotal: 418us\tremaining: 16.3ms\n",
      "39:\tlearn: 0.0294142\ttotal: 53.6ms\tremaining: 0us\n",
      "0:\tlearn: 0.0570886\ttotal: 585us\tremaining: 22.8ms\n",
      "39:\tlearn: 0.0294574\ttotal: 14.4ms\tremaining: 0us\n",
      "0:\tlearn: 0.0569993\ttotal: 592us\tremaining: 23.1ms\n",
      "39:\tlearn: 0.0314446\ttotal: 65.3ms\tremaining: 0us\n",
      "0:\tlearn: 0.0562011\ttotal: 551us\tremaining: 21.5ms\n",
      "39:\tlearn: 0.0317261\ttotal: 9.59ms\tremaining: 0us\n",
      "0:\tlearn: 0.0556523\ttotal: 551us\tremaining: 21.5ms\n",
      "39:\tlearn: 0.0327901\ttotal: 25.4ms\tremaining: 0us\n"
     ]
    },
    {
     "name": "stderr",
     "output_type": "stream",
     "text": [
      "261it [40:47, 11.00s/it]"
     ]
    },
    {
     "name": "stdout",
     "output_type": "stream",
     "text": [
      "0:\tlearn: 0.0931363\ttotal: 446us\tremaining: 17.4ms\n",
      "39:\tlearn: 0.0316976\ttotal: 15.8ms\tremaining: 0us\n",
      "0:\tlearn: 0.0913189\ttotal: 454us\tremaining: 17.7ms\n",
      "39:\tlearn: 0.0367225\ttotal: 20.9ms\tremaining: 0us\n",
      "0:\tlearn: 0.0924180\ttotal: 482us\tremaining: 18.8ms\n",
      "39:\tlearn: 0.0377181\ttotal: 14.2ms\tremaining: 0us\n",
      "0:\tlearn: 0.0928039\ttotal: 464us\tremaining: 18.1ms\n",
      "39:\tlearn: 0.0355245\ttotal: 46ms\tremaining: 0us\n",
      "0:\tlearn: 0.0924395\ttotal: 468us\tremaining: 18.3ms\n",
      "39:\tlearn: 0.0388401\ttotal: 15.2ms\tremaining: 0us\n",
      "0:\tlearn: 0.0902623\ttotal: 493us\tremaining: 19.3ms\n",
      "39:\tlearn: 0.0372189\ttotal: 11.8ms\tremaining: 0us\n",
      "0:\tlearn: 0.0896037\ttotal: 476us\tremaining: 18.6ms\n",
      "39:\tlearn: 0.0374887\ttotal: 9.38ms\tremaining: 0us\n",
      "0:\tlearn: 0.0928565\ttotal: 476us\tremaining: 18.6ms\n",
      "39:\tlearn: 0.0446464\ttotal: 27.4ms\tremaining: 0us\n",
      "0:\tlearn: 0.0926443\ttotal: 486us\tremaining: 19ms\n",
      "39:\tlearn: 0.0408507\ttotal: 9ms\tremaining: 0us\n",
      "0:\tlearn: 0.0917841\ttotal: 740us\tremaining: 28.9ms\n",
      "39:\tlearn: 0.0406574\ttotal: 8.95ms\tremaining: 0us\n",
      "0:\tlearn: 0.0912219\ttotal: 596us\tremaining: 23.3ms\n",
      "39:\tlearn: 0.0435323\ttotal: 9.36ms\tremaining: 0us\n",
      "0:\tlearn: 0.0906973\ttotal: 582us\tremaining: 22.7ms\n",
      "39:\tlearn: 0.0447223\ttotal: 38.4ms\tremaining: 0us\n",
      "0:\tlearn: 0.0893617\ttotal: 565us\tremaining: 22ms\n",
      "39:\tlearn: 0.0427986\ttotal: 8.85ms\tremaining: 0us\n"
     ]
    },
    {
     "name": "stderr",
     "output_type": "stream",
     "text": [
      "262it [40:57, 10.91s/it]"
     ]
    },
    {
     "name": "stdout",
     "output_type": "stream",
     "text": [
      "0:\tlearn: 0.1067452\ttotal: 1.83ms\tremaining: 71.5ms\n",
      "39:\tlearn: 0.0559734\ttotal: 33.2ms\tremaining: 0us\n",
      "0:\tlearn: 0.1054492\ttotal: 452us\tremaining: 17.6ms\n",
      "39:\tlearn: 0.0629255\ttotal: 18.2ms\tremaining: 0us\n",
      "0:\tlearn: 0.1069174\ttotal: 475us\tremaining: 18.5ms\n",
      "39:\tlearn: 0.0634671\ttotal: 8.61ms\tremaining: 0us\n",
      "0:\tlearn: 0.1049403\ttotal: 485us\tremaining: 18.9ms\n",
      "39:\tlearn: 0.0659777\ttotal: 8.94ms\tremaining: 0us\n",
      "0:\tlearn: 0.1025594\ttotal: 470us\tremaining: 18.4ms\n",
      "39:\tlearn: 0.0539579\ttotal: 53.9ms\tremaining: 0us\n",
      "0:\tlearn: 0.1029094\ttotal: 594us\tremaining: 23.2ms\n",
      "39:\tlearn: 0.0569813\ttotal: 31.9ms\tremaining: 0us\n",
      "0:\tlearn: 0.1020566\ttotal: 507us\tremaining: 19.8ms\n",
      "39:\tlearn: 0.0546157\ttotal: 10.8ms\tremaining: 0us\n",
      "0:\tlearn: 0.1017550\ttotal: 515us\tremaining: 20.1ms\n",
      "39:\tlearn: 0.0575191\ttotal: 16.6ms\tremaining: 0us\n",
      "0:\tlearn: 0.1011203\ttotal: 520us\tremaining: 20.3ms\n",
      "39:\tlearn: 0.0540566\ttotal: 10.4ms\tremaining: 0us\n",
      "0:\tlearn: 0.0995655\ttotal: 617us\tremaining: 24.1ms\n",
      "39:\tlearn: 0.0614547\ttotal: 10.7ms\tremaining: 0us\n",
      "0:\tlearn: 0.0981438\ttotal: 590us\tremaining: 23ms\n",
      "39:\tlearn: 0.0556265\ttotal: 10.5ms\tremaining: 0us\n",
      "0:\tlearn: 0.0963856\ttotal: 559us\tremaining: 21.8ms\n",
      "39:\tlearn: 0.0550724\ttotal: 11.9ms\tremaining: 0us\n",
      "0:\tlearn: 0.0948964\ttotal: 551us\tremaining: 21.5ms\n",
      "39:\tlearn: 0.0557675\ttotal: 9.57ms\tremaining: 0us\n"
     ]
    },
    {
     "name": "stderr",
     "output_type": "stream",
     "text": [
      "263it [41:08, 10.85s/it]"
     ]
    },
    {
     "name": "stdout",
     "output_type": "stream",
     "text": [
      "0:\tlearn: 0.0864383\ttotal: 438us\tremaining: 17.1ms\n",
      "39:\tlearn: 0.0393208\ttotal: 14.7ms\tremaining: 0us\n",
      "0:\tlearn: 0.0847141\ttotal: 459us\tremaining: 17.9ms\n",
      "39:\tlearn: 0.0420278\ttotal: 48.9ms\tremaining: 0us\n",
      "0:\tlearn: 0.0902221\ttotal: 475us\tremaining: 18.6ms\n",
      "39:\tlearn: 0.0369247\ttotal: 8.96ms\tremaining: 0us\n",
      "0:\tlearn: 0.0899528\ttotal: 554us\tremaining: 21.6ms\n",
      "39:\tlearn: 0.0459809\ttotal: 8.83ms\tremaining: 0us\n",
      "0:\tlearn: 0.0898616\ttotal: 473us\tremaining: 18.4ms\n",
      "39:\tlearn: 0.0415494\ttotal: 10.4ms\tremaining: 0us\n",
      "0:\tlearn: 0.0875868\ttotal: 487us\tremaining: 19ms\n",
      "39:\tlearn: 0.0429571\ttotal: 9.19ms\tremaining: 0us\n",
      "0:\tlearn: 0.0922534\ttotal: 465us\tremaining: 18.1ms\n",
      "39:\tlearn: 0.0446439\ttotal: 10.7ms\tremaining: 0us\n",
      "0:\tlearn: 0.0916770\ttotal: 522us\tremaining: 20.4ms\n",
      "39:\tlearn: 0.0424056\ttotal: 18.6ms\tremaining: 0us\n",
      "0:\tlearn: 0.0978552\ttotal: 495us\tremaining: 19.3ms\n",
      "39:\tlearn: 0.0453636\ttotal: 29ms\tremaining: 0us\n",
      "0:\tlearn: 0.0981071\ttotal: 512us\tremaining: 20ms\n",
      "39:\tlearn: 0.0477845\ttotal: 12.7ms\tremaining: 0us\n",
      "0:\tlearn: 0.0972381\ttotal: 822us\tremaining: 32.1ms\n",
      "39:\tlearn: 0.0461475\ttotal: 14.7ms\tremaining: 0us\n",
      "0:\tlearn: 0.0945828\ttotal: 537us\tremaining: 20.9ms\n",
      "39:\tlearn: 0.0438223\ttotal: 14.6ms\tremaining: 0us\n",
      "0:\tlearn: 0.0951494\ttotal: 504us\tremaining: 19.7ms\n",
      "39:\tlearn: 0.0446900\ttotal: 10.4ms\tremaining: 0us\n"
     ]
    },
    {
     "name": "stderr",
     "output_type": "stream",
     "text": [
      "264it [41:19, 10.83s/it]"
     ]
    },
    {
     "name": "stdout",
     "output_type": "stream",
     "text": [
      "0:\tlearn: 0.1173174\ttotal: 446us\tremaining: 17.4ms\n",
      "39:\tlearn: 0.0490802\ttotal: 23.3ms\tremaining: 0us\n",
      "0:\tlearn: 0.1161496\ttotal: 547us\tremaining: 21.3ms\n",
      "39:\tlearn: 0.0535472\ttotal: 12.6ms\tremaining: 0us\n",
      "0:\tlearn: 0.1143080\ttotal: 472us\tremaining: 18.4ms\n",
      "39:\tlearn: 0.0572723\ttotal: 50.4ms\tremaining: 0us\n",
      "0:\tlearn: 0.1151247\ttotal: 508us\tremaining: 19.8ms\n",
      "39:\tlearn: 0.0532943\ttotal: 9.92ms\tremaining: 0us\n",
      "0:\tlearn: 0.1120059\ttotal: 480us\tremaining: 18.8ms\n",
      "39:\tlearn: 0.0577831\ttotal: 8.46ms\tremaining: 0us\n",
      "0:\tlearn: 0.1114459\ttotal: 470us\tremaining: 18.4ms\n",
      "39:\tlearn: 0.0663421\ttotal: 9.57ms\tremaining: 0us\n",
      "0:\tlearn: 0.1089156\ttotal: 441us\tremaining: 17.2ms\n",
      "39:\tlearn: 0.0783040\ttotal: 8.72ms\tremaining: 0us\n",
      "0:\tlearn: 0.1270900\ttotal: 615us\tremaining: 24ms\n",
      "39:\tlearn: 0.0903349\ttotal: 9.4ms\tremaining: 0us\n",
      "0:\tlearn: 0.1280200\ttotal: 604us\tremaining: 23.6ms\n",
      "39:\tlearn: 0.0802340\ttotal: 8.43ms\tremaining: 0us\n",
      "0:\tlearn: 0.1294789\ttotal: 551us\tremaining: 21.5ms\n",
      "39:\tlearn: 0.0858372\ttotal: 27.7ms\tremaining: 0us\n",
      "0:\tlearn: 0.1287523\ttotal: 631us\tremaining: 24.6ms\n",
      "39:\tlearn: 0.0965774\ttotal: 19.9ms\tremaining: 0us\n",
      "0:\tlearn: 0.1263601\ttotal: 486us\tremaining: 19ms\n",
      "39:\tlearn: 0.0856051\ttotal: 9.95ms\tremaining: 0us\n",
      "0:\tlearn: 0.1257975\ttotal: 491us\tremaining: 19.2ms\n",
      "39:\tlearn: 0.0879583\ttotal: 14.5ms\tremaining: 0us\n"
     ]
    },
    {
     "name": "stderr",
     "output_type": "stream",
     "text": [
      "265it [41:30, 11.03s/it]"
     ]
    },
    {
     "name": "stdout",
     "output_type": "stream",
     "text": [
      "0:\tlearn: 0.2247104\ttotal: 612us\tremaining: 23.9ms\n",
      "39:\tlearn: 0.0947808\ttotal: 7.84ms\tremaining: 0us\n",
      "0:\tlearn: 0.2267375\ttotal: 495us\tremaining: 19.3ms\n",
      "39:\tlearn: 0.1033886\ttotal: 37ms\tremaining: 0us\n",
      "0:\tlearn: 0.2539669\ttotal: 931us\tremaining: 36.3ms\n",
      "39:\tlearn: 0.1227872\ttotal: 83.9ms\tremaining: 0us\n",
      "0:\tlearn: 0.2414423\ttotal: 685us\tremaining: 26.7ms\n",
      "39:\tlearn: 0.1321698\ttotal: 15.3ms\tremaining: 0us\n",
      "0:\tlearn: 0.2410620\ttotal: 536us\tremaining: 20.9ms\n",
      "39:\tlearn: 0.1560522\ttotal: 9.66ms\tremaining: 0us\n",
      "0:\tlearn: 0.2373528\ttotal: 485us\tremaining: 18.9ms\n",
      "39:\tlearn: 0.1251523\ttotal: 8.32ms\tremaining: 0us\n",
      "0:\tlearn: 0.2340884\ttotal: 485us\tremaining: 18.9ms\n",
      "39:\tlearn: 0.1344780\ttotal: 8.46ms\tremaining: 0us\n",
      "0:\tlearn: 0.2282513\ttotal: 523us\tremaining: 20.4ms\n",
      "39:\tlearn: 0.1312969\ttotal: 14.7ms\tremaining: 0us\n",
      "0:\tlearn: 0.2357806\ttotal: 639us\tremaining: 24.9ms\n",
      "39:\tlearn: 0.1347179\ttotal: 9.24ms\tremaining: 0us\n",
      "0:\tlearn: 0.2338037\ttotal: 561us\tremaining: 21.9ms\n",
      "39:\tlearn: 0.1363772\ttotal: 8.39ms\tremaining: 0us\n",
      "0:\tlearn: 0.2291927\ttotal: 514us\tremaining: 20.1ms\n",
      "39:\tlearn: 0.1398407\ttotal: 8.78ms\tremaining: 0us\n",
      "0:\tlearn: 0.2310021\ttotal: 546us\tremaining: 21.3ms\n",
      "39:\tlearn: 0.1445963\ttotal: 10.7ms\tremaining: 0us\n",
      "0:\tlearn: 0.2365988\ttotal: 485us\tremaining: 19ms\n",
      "39:\tlearn: 0.1546935\ttotal: 8.52ms\tremaining: 0us\n"
     ]
    },
    {
     "name": "stderr",
     "output_type": "stream",
     "text": [
      "266it [41:41, 10.81s/it]"
     ]
    },
    {
     "name": "stdout",
     "output_type": "stream",
     "text": [
      "0:\tlearn: 0.0285731\ttotal: 459us\tremaining: 17.9ms\n",
      "39:\tlearn: 0.0081165\ttotal: 10.7ms\tremaining: 0us\n",
      "0:\tlearn: 0.0287166\ttotal: 494us\tremaining: 19.3ms\n",
      "39:\tlearn: 0.0090750\ttotal: 32.4ms\tremaining: 0us\n",
      "0:\tlearn: 0.0278784\ttotal: 488us\tremaining: 19ms\n",
      "39:\tlearn: 0.0097667\ttotal: 8.98ms\tremaining: 0us\n",
      "0:\tlearn: 0.0311887\ttotal: 502us\tremaining: 19.6ms\n",
      "39:\tlearn: 0.0121568\ttotal: 40.4ms\tremaining: 0us\n",
      "0:\tlearn: 0.0327409\ttotal: 479us\tremaining: 18.7ms\n",
      "39:\tlearn: 0.0138006\ttotal: 8.91ms\tremaining: 0us\n",
      "0:\tlearn: 0.0321525\ttotal: 505us\tremaining: 19.7ms\n",
      "39:\tlearn: 0.0137059\ttotal: 10ms\tremaining: 0us\n",
      "0:\tlearn: 0.0364489\ttotal: 462us\tremaining: 18ms\n",
      "39:\tlearn: 0.0144871\ttotal: 9.48ms\tremaining: 0us\n",
      "0:\tlearn: 0.0419308\ttotal: 515us\tremaining: 20.1ms\n",
      "39:\tlearn: 0.0176976\ttotal: 9.62ms\tremaining: 0us\n",
      "0:\tlearn: 0.0427410\ttotal: 467us\tremaining: 18.2ms\n",
      "39:\tlearn: 0.0160660\ttotal: 22.4ms\tremaining: 0us\n",
      "0:\tlearn: 0.0415697\ttotal: 666us\tremaining: 26ms\n",
      "39:\tlearn: 0.0172693\ttotal: 10.5ms\tremaining: 0us\n",
      "0:\tlearn: 0.0415628\ttotal: 570us\tremaining: 22.3ms\n",
      "39:\tlearn: 0.0165222\ttotal: 42ms\tremaining: 0us\n",
      "0:\tlearn: 0.0404616\ttotal: 644us\tremaining: 25.1ms\n",
      "39:\tlearn: 0.0163171\ttotal: 9.51ms\tremaining: 0us\n",
      "0:\tlearn: 0.0405119\ttotal: 564us\tremaining: 22ms\n",
      "39:\tlearn: 0.0165174\ttotal: 40.2ms\tremaining: 0us\n"
     ]
    },
    {
     "name": "stderr",
     "output_type": "stream",
     "text": [
      "267it [41:52, 10.90s/it]"
     ]
    },
    {
     "name": "stdout",
     "output_type": "stream",
     "text": [
      "0:\tlearn: 0.0277927\ttotal: 436us\tremaining: 17ms\n",
      "39:\tlearn: 0.0085567\ttotal: 17ms\tremaining: 0us\n",
      "0:\tlearn: 0.0272225\ttotal: 521us\tremaining: 20.3ms\n",
      "39:\tlearn: 0.0100163\ttotal: 9.01ms\tremaining: 0us\n",
      "0:\tlearn: 0.0267439\ttotal: 474us\tremaining: 18.5ms\n",
      "39:\tlearn: 0.0111884\ttotal: 9.91ms\tremaining: 0us\n",
      "0:\tlearn: 0.0265338\ttotal: 497us\tremaining: 19.4ms\n",
      "39:\tlearn: 0.0101420\ttotal: 9.13ms\tremaining: 0us\n",
      "0:\tlearn: 0.0269517\ttotal: 496us\tremaining: 19.4ms\n",
      "39:\tlearn: 0.0117434\ttotal: 21.8ms\tremaining: 0us\n",
      "0:\tlearn: 0.0273421\ttotal: 427us\tremaining: 16.7ms\n",
      "39:\tlearn: 0.0117321\ttotal: 44.8ms\tremaining: 0us\n",
      "0:\tlearn: 0.0316778\ttotal: 485us\tremaining: 19ms\n",
      "39:\tlearn: 0.0140978\ttotal: 9.04ms\tremaining: 0us\n",
      "0:\tlearn: 0.0340311\ttotal: 508us\tremaining: 19.8ms\n",
      "39:\tlearn: 0.0141951\ttotal: 11.5ms\tremaining: 0us\n",
      "0:\tlearn: 0.0351320\ttotal: 475us\tremaining: 18.6ms\n",
      "39:\tlearn: 0.0127336\ttotal: 9ms\tremaining: 0us\n",
      "0:\tlearn: 0.0350440\ttotal: 562us\tremaining: 21.9ms\n",
      "39:\tlearn: 0.0128128\ttotal: 9.16ms\tremaining: 0us\n",
      "0:\tlearn: 0.0347712\ttotal: 585us\tremaining: 22.8ms\n",
      "39:\tlearn: 0.0134705\ttotal: 24.4ms\tremaining: 0us\n",
      "0:\tlearn: 0.0345738\ttotal: 1.25ms\tremaining: 48.8ms\n",
      "39:\tlearn: 0.0132248\ttotal: 16.1ms\tremaining: 0us\n",
      "0:\tlearn: 0.0342465\ttotal: 531us\tremaining: 20.7ms\n",
      "39:\tlearn: 0.0130615\ttotal: 44.8ms\tremaining: 0us\n"
     ]
    },
    {
     "name": "stderr",
     "output_type": "stream",
     "text": [
      "268it [42:03, 11.09s/it]"
     ]
    },
    {
     "name": "stdout",
     "output_type": "stream",
     "text": [
      "0:\tlearn: 0.0549673\ttotal: 546us\tremaining: 21.3ms\n",
      "39:\tlearn: 0.0258614\ttotal: 25ms\tremaining: 0us\n",
      "0:\tlearn: 0.0548920\ttotal: 507us\tremaining: 19.8ms\n",
      "39:\tlearn: 0.0280061\ttotal: 14ms\tremaining: 0us\n",
      "0:\tlearn: 0.0544591\ttotal: 524us\tremaining: 20.4ms\n",
      "39:\tlearn: 0.0264782\ttotal: 12ms\tremaining: 0us\n",
      "0:\tlearn: 0.0558306\ttotal: 540us\tremaining: 21.1ms\n",
      "39:\tlearn: 0.0277185\ttotal: 16.6ms\tremaining: 0us\n",
      "0:\tlearn: 0.0549853\ttotal: 799us\tremaining: 31.2ms\n",
      "39:\tlearn: 0.0290307\ttotal: 22.7ms\tremaining: 0us\n",
      "0:\tlearn: 0.0552275\ttotal: 493us\tremaining: 19.2ms\n",
      "39:\tlearn: 0.0276137\ttotal: 49.4ms\tremaining: 0us\n",
      "0:\tlearn: 0.0693946\ttotal: 489us\tremaining: 19.1ms\n",
      "39:\tlearn: 0.0371981\ttotal: 9.49ms\tremaining: 0us\n",
      "0:\tlearn: 0.0708672\ttotal: 580us\tremaining: 22.6ms\n",
      "39:\tlearn: 0.0375659\ttotal: 9.1ms\tremaining: 0us\n",
      "0:\tlearn: 0.0732443\ttotal: 498us\tremaining: 19.4ms\n",
      "39:\tlearn: 0.0375479\ttotal: 40.6ms\tremaining: 0us\n",
      "0:\tlearn: 0.0719496\ttotal: 582us\tremaining: 22.7ms\n",
      "39:\tlearn: 0.0359539\ttotal: 9.51ms\tremaining: 0us\n",
      "0:\tlearn: 0.0735098\ttotal: 557us\tremaining: 21.8ms\n",
      "39:\tlearn: 0.0352199\ttotal: 10.5ms\tremaining: 0us\n",
      "0:\tlearn: 0.0725579\ttotal: 1.15ms\tremaining: 44.9ms\n",
      "39:\tlearn: 0.0379931\ttotal: 15.8ms\tremaining: 0us\n",
      "0:\tlearn: 0.0721483\ttotal: 640us\tremaining: 25ms\n",
      "39:\tlearn: 0.0394472\ttotal: 9.19ms\tremaining: 0us\n"
     ]
    },
    {
     "name": "stderr",
     "output_type": "stream",
     "text": [
      "269it [42:15, 11.15s/it]"
     ]
    },
    {
     "name": "stdout",
     "output_type": "stream",
     "text": [
      "0:\tlearn: 0.0982273\ttotal: 440us\tremaining: 17.2ms\n",
      "39:\tlearn: 0.0463091\ttotal: 13.2ms\tremaining: 0us\n",
      "0:\tlearn: 0.0973297\ttotal: 478us\tremaining: 18.7ms\n",
      "39:\tlearn: 0.0519948\ttotal: 13.8ms\tremaining: 0us\n",
      "0:\tlearn: 0.0969975\ttotal: 520us\tremaining: 20.3ms\n",
      "39:\tlearn: 0.0514584\ttotal: 14.7ms\tremaining: 0us\n",
      "0:\tlearn: 0.0961051\ttotal: 463us\tremaining: 18.1ms\n",
      "39:\tlearn: 0.0495824\ttotal: 13.7ms\tremaining: 0us\n",
      "0:\tlearn: 0.0954240\ttotal: 498us\tremaining: 19.4ms\n",
      "39:\tlearn: 0.0511033\ttotal: 8.59ms\tremaining: 0us\n",
      "0:\tlearn: 0.0927949\ttotal: 464us\tremaining: 18.1ms\n",
      "39:\tlearn: 0.0454675\ttotal: 14.5ms\tremaining: 0us\n",
      "0:\tlearn: 0.0936900\ttotal: 535us\tremaining: 20.9ms\n",
      "39:\tlearn: 0.0541436\ttotal: 9.78ms\tremaining: 0us\n",
      "0:\tlearn: 0.0928835\ttotal: 500us\tremaining: 19.5ms\n",
      "39:\tlearn: 0.0516438\ttotal: 9.8ms\tremaining: 0us\n",
      "0:\tlearn: 0.0921198\ttotal: 499us\tremaining: 19.5ms\n",
      "39:\tlearn: 0.0519194\ttotal: 22.4ms\tremaining: 0us\n",
      "0:\tlearn: 0.0980193\ttotal: 494us\tremaining: 19.3ms\n",
      "39:\tlearn: 0.0540231\ttotal: 9.81ms\tremaining: 0us\n",
      "0:\tlearn: 0.0977799\ttotal: 545us\tremaining: 21.3ms\n",
      "39:\tlearn: 0.0591434\ttotal: 12.9ms\tremaining: 0us\n",
      "0:\tlearn: 0.0966538\ttotal: 538us\tremaining: 21ms\n",
      "39:\tlearn: 0.0517102\ttotal: 14.2ms\tremaining: 0us\n",
      "0:\tlearn: 0.0954043\ttotal: 559us\tremaining: 21.8ms\n",
      "39:\tlearn: 0.0548674\ttotal: 15ms\tremaining: 0us\n"
     ]
    },
    {
     "name": "stderr",
     "output_type": "stream",
     "text": [
      "270it [42:25, 11.01s/it]"
     ]
    },
    {
     "name": "stdout",
     "output_type": "stream",
     "text": [
      "0:\tlearn: 0.0678135\ttotal: 504us\tremaining: 19.7ms\n",
      "39:\tlearn: 0.0214728\ttotal: 8.3ms\tremaining: 0us\n",
      "0:\tlearn: 0.0678279\ttotal: 520us\tremaining: 20.3ms\n",
      "39:\tlearn: 0.0240975\ttotal: 14.7ms\tremaining: 0us\n",
      "0:\tlearn: 0.0677056\ttotal: 507us\tremaining: 19.8ms\n",
      "39:\tlearn: 0.0251757\ttotal: 11.4ms\tremaining: 0us\n",
      "0:\tlearn: 0.0676818\ttotal: 535us\tremaining: 20.9ms\n",
      "39:\tlearn: 0.0244082\ttotal: 15.3ms\tremaining: 0us\n",
      "0:\tlearn: 0.0692148\ttotal: 470us\tremaining: 18.4ms\n",
      "39:\tlearn: 0.0304883\ttotal: 20.7ms\tremaining: 0us\n",
      "0:\tlearn: 0.0685089\ttotal: 482us\tremaining: 18.8ms\n",
      "39:\tlearn: 0.0296002\ttotal: 14.2ms\tremaining: 0us\n",
      "0:\tlearn: 0.0672437\ttotal: 505us\tremaining: 19.7ms\n",
      "39:\tlearn: 0.0293430\ttotal: 12.7ms\tremaining: 0us\n",
      "0:\tlearn: 0.0805277\ttotal: 559us\tremaining: 21.8ms\n",
      "39:\tlearn: 0.0374724\ttotal: 35.4ms\tremaining: 0us\n",
      "0:\tlearn: 0.0827962\ttotal: 968us\tremaining: 37.8ms\n",
      "39:\tlearn: 0.0361253\ttotal: 63.2ms\tremaining: 0us\n",
      "0:\tlearn: 0.0827367\ttotal: 473us\tremaining: 18.5ms\n",
      "39:\tlearn: 0.0381315\ttotal: 30.2ms\tremaining: 0us\n",
      "0:\tlearn: 0.0810352\ttotal: 556us\tremaining: 21.7ms\n",
      "39:\tlearn: 0.0369419\ttotal: 8.86ms\tremaining: 0us\n",
      "0:\tlearn: 0.0815202\ttotal: 583us\tremaining: 22.8ms\n",
      "39:\tlearn: 0.0428771\ttotal: 10.4ms\tremaining: 0us\n",
      "0:\tlearn: 0.0815025\ttotal: 543us\tremaining: 21.2ms\n",
      "39:\tlearn: 0.0429214\ttotal: 51.1ms\tremaining: 0us\n"
     ]
    },
    {
     "name": "stderr",
     "output_type": "stream",
     "text": [
      "271it [42:38, 11.44s/it]"
     ]
    },
    {
     "name": "stdout",
     "output_type": "stream",
     "text": [
      "0:\tlearn: 0.0767802\ttotal: 466us\tremaining: 18.2ms\n",
      "39:\tlearn: 0.0239944\ttotal: 14.3ms\tremaining: 0us\n",
      "0:\tlearn: 0.0781144\ttotal: 1.18ms\tremaining: 45.9ms\n",
      "39:\tlearn: 0.0255352\ttotal: 15.6ms\tremaining: 0us\n",
      "0:\tlearn: 0.0801836\ttotal: 455us\tremaining: 17.8ms\n",
      "39:\tlearn: 0.0249569\ttotal: 14.2ms\tremaining: 0us\n",
      "0:\tlearn: 0.0798014\ttotal: 449us\tremaining: 17.5ms\n",
      "39:\tlearn: 0.0298348\ttotal: 10.4ms\tremaining: 0us\n",
      "0:\tlearn: 0.0803915\ttotal: 530us\tremaining: 20.7ms\n",
      "39:\tlearn: 0.0295444\ttotal: 9.79ms\tremaining: 0us\n",
      "0:\tlearn: 0.0791008\ttotal: 716us\tremaining: 28ms\n",
      "39:\tlearn: 0.0295845\ttotal: 14.8ms\tremaining: 0us\n",
      "0:\tlearn: 0.0831747\ttotal: 481us\tremaining: 18.8ms\n",
      "39:\tlearn: 0.0309864\ttotal: 8.94ms\tremaining: 0us\n",
      "0:\tlearn: 0.0843774\ttotal: 463us\tremaining: 18.1ms\n",
      "39:\tlearn: 0.0325569\ttotal: 8.97ms\tremaining: 0us\n",
      "0:\tlearn: 0.0837962\ttotal: 1.41ms\tremaining: 55ms\n",
      "39:\tlearn: 0.0302676\ttotal: 53.6ms\tremaining: 0us\n",
      "0:\tlearn: 0.0875922\ttotal: 562us\tremaining: 21.9ms\n",
      "39:\tlearn: 0.0330546\ttotal: 10.5ms\tremaining: 0us\n",
      "0:\tlearn: 0.0864498\ttotal: 607us\tremaining: 23.7ms\n",
      "39:\tlearn: 0.0331305\ttotal: 15.6ms\tremaining: 0us\n",
      "0:\tlearn: 0.0849022\ttotal: 552us\tremaining: 21.5ms\n",
      "39:\tlearn: 0.0330716\ttotal: 11.2ms\tremaining: 0us\n",
      "0:\tlearn: 0.0879436\ttotal: 596us\tremaining: 23.3ms\n",
      "39:\tlearn: 0.0349527\ttotal: 10ms\tremaining: 0us\n"
     ]
    },
    {
     "name": "stderr",
     "output_type": "stream",
     "text": [
      "272it [42:52, 12.33s/it]"
     ]
    },
    {
     "name": "stdout",
     "output_type": "stream",
     "text": [
      "0:\tlearn: 0.1256798\ttotal: 476us\tremaining: 18.6ms\n",
      "39:\tlearn: 0.0541602\ttotal: 13.4ms\tremaining: 0us\n",
      "0:\tlearn: 0.1263847\ttotal: 491us\tremaining: 19.1ms\n",
      "39:\tlearn: 0.0678910\ttotal: 8.59ms\tremaining: 0us\n",
      "0:\tlearn: 0.1240499\ttotal: 465us\tremaining: 18.2ms\n",
      "39:\tlearn: 0.0616646\ttotal: 48ms\tremaining: 0us\n",
      "0:\tlearn: 0.1279196\ttotal: 448us\tremaining: 17.5ms\n",
      "39:\tlearn: 0.0686253\ttotal: 8.66ms\tremaining: 0us\n",
      "0:\tlearn: 0.1270799\ttotal: 511us\tremaining: 19.9ms\n",
      "39:\tlearn: 0.0708146\ttotal: 9.5ms\tremaining: 0us\n",
      "0:\tlearn: 0.1278762\ttotal: 591us\tremaining: 23.1ms\n",
      "39:\tlearn: 0.0719478\ttotal: 9.19ms\tremaining: 0us\n",
      "0:\tlearn: 0.1244934\ttotal: 524us\tremaining: 20.4ms\n",
      "39:\tlearn: 0.0676207\ttotal: 8.85ms\tremaining: 0us\n",
      "0:\tlearn: 0.1355448\ttotal: 461us\tremaining: 18ms\n",
      "39:\tlearn: 0.0732331\ttotal: 14.2ms\tremaining: 0us\n",
      "0:\tlearn: 0.1430363\ttotal: 465us\tremaining: 18.1ms\n",
      "39:\tlearn: 0.0808803\ttotal: 14.4ms\tremaining: 0us\n",
      "0:\tlearn: 0.1415541\ttotal: 594us\tremaining: 23.2ms\n",
      "39:\tlearn: 0.0803936\ttotal: 10.6ms\tremaining: 0us\n",
      "0:\tlearn: 0.1410136\ttotal: 629us\tremaining: 24.6ms\n",
      "39:\tlearn: 0.0797886\ttotal: 10.1ms\tremaining: 0us\n",
      "0:\tlearn: 0.1390752\ttotal: 561us\tremaining: 21.9ms\n",
      "39:\tlearn: 0.0773264\ttotal: 10.7ms\tremaining: 0us\n",
      "0:\tlearn: 0.1384512\ttotal: 1.42ms\tremaining: 55.3ms\n",
      "39:\tlearn: 0.0732463\ttotal: 69.3ms\tremaining: 0us\n"
     ]
    },
    {
     "name": "stderr",
     "output_type": "stream",
     "text": [
      "273it [43:06, 12.77s/it]"
     ]
    },
    {
     "name": "stdout",
     "output_type": "stream",
     "text": [
      "0:\tlearn: 0.0750672\ttotal: 436us\tremaining: 17ms\n",
      "39:\tlearn: 0.0327819\ttotal: 16.9ms\tremaining: 0us\n",
      "0:\tlearn: 0.0752305\ttotal: 491us\tremaining: 19.2ms\n",
      "39:\tlearn: 0.0356566\ttotal: 14.5ms\tremaining: 0us\n",
      "0:\tlearn: 0.0772375\ttotal: 769us\tremaining: 30ms\n",
      "39:\tlearn: 0.0322652\ttotal: 19.7ms\tremaining: 0us\n",
      "0:\tlearn: 0.0806632\ttotal: 508us\tremaining: 19.8ms\n",
      "39:\tlearn: 0.0364266\ttotal: 11.5ms\tremaining: 0us\n",
      "0:\tlearn: 0.0790112\ttotal: 570us\tremaining: 22.2ms\n",
      "39:\tlearn: 0.0367597\ttotal: 9.02ms\tremaining: 0us\n",
      "0:\tlearn: 0.0772025\ttotal: 450us\tremaining: 17.6ms\n",
      "39:\tlearn: 0.0357242\ttotal: 15.3ms\tremaining: 0us\n",
      "0:\tlearn: 0.0966070\ttotal: 510us\tremaining: 19.9ms\n",
      "39:\tlearn: 0.0487512\ttotal: 30.5ms\tremaining: 0us\n",
      "0:\tlearn: 0.1001943\ttotal: 520us\tremaining: 20.3ms\n",
      "39:\tlearn: 0.0484648\ttotal: 21.8ms\tremaining: 0us\n",
      "0:\tlearn: 0.0987054\ttotal: 537us\tremaining: 20.9ms\n",
      "39:\tlearn: 0.0481127\ttotal: 9.74ms\tremaining: 0us\n",
      "0:\tlearn: 0.1005098\ttotal: 573us\tremaining: 22.4ms\n",
      "39:\tlearn: 0.0463519\ttotal: 11.7ms\tremaining: 0us\n",
      "0:\tlearn: 0.1040259\ttotal: 564us\tremaining: 22ms\n",
      "39:\tlearn: 0.0455503\ttotal: 26.4ms\tremaining: 0us\n",
      "0:\tlearn: 0.1032866\ttotal: 533us\tremaining: 20.8ms\n",
      "39:\tlearn: 0.0476271\ttotal: 14.6ms\tremaining: 0us\n",
      "0:\tlearn: 0.1027124\ttotal: 605us\tremaining: 23.6ms\n",
      "39:\tlearn: 0.0482879\ttotal: 9.9ms\tremaining: 0us\n"
     ]
    },
    {
     "name": "stderr",
     "output_type": "stream",
     "text": [
      "274it [43:21, 13.47s/it]"
     ]
    },
    {
     "name": "stdout",
     "output_type": "stream",
     "text": [
      "0:\tlearn: 0.0296890\ttotal: 500us\tremaining: 19.5ms\n",
      "39:\tlearn: 0.0095785\ttotal: 27.7ms\tremaining: 0us\n",
      "0:\tlearn: 0.0301867\ttotal: 488us\tremaining: 19.1ms\n",
      "39:\tlearn: 0.0094078\ttotal: 12.4ms\tremaining: 0us\n",
      "0:\tlearn: 0.0305539\ttotal: 498us\tremaining: 19.5ms\n",
      "39:\tlearn: 0.0085674\ttotal: 9.46ms\tremaining: 0us\n",
      "0:\tlearn: 0.0295908\ttotal: 485us\tremaining: 18.9ms\n",
      "39:\tlearn: 0.0105397\ttotal: 10.6ms\tremaining: 0us\n",
      "0:\tlearn: 0.0318277\ttotal: 547us\tremaining: 21.4ms\n",
      "39:\tlearn: 0.0124020\ttotal: 14.4ms\tremaining: 368us\n",
      "0:\tlearn: 0.0326165\ttotal: 522us\tremaining: 20.4ms\n",
      "39:\tlearn: 0.0135267\ttotal: 9.14ms\tremaining: 0us\n",
      "0:\tlearn: 0.0330770\ttotal: 475us\tremaining: 18.6ms\n",
      "39:\tlearn: 0.0139802\ttotal: 46.5ms\tremaining: 0us\n",
      "0:\tlearn: 0.0329684\ttotal: 505us\tremaining: 19.7ms\n",
      "39:\tlearn: 0.0134631\ttotal: 12ms\tremaining: 0us\n",
      "0:\tlearn: 0.0337945\ttotal: 1.4ms\tremaining: 54.5ms\n",
      "39:\tlearn: 0.0143345\ttotal: 15.7ms\tremaining: 0us\n",
      "0:\tlearn: 0.0334220\ttotal: 561us\tremaining: 21.9ms\n",
      "39:\tlearn: 0.0141883\ttotal: 10.7ms\tremaining: 0us\n",
      "0:\tlearn: 0.0335064\ttotal: 557us\tremaining: 21.7ms\n",
      "39:\tlearn: 0.0137036\ttotal: 8.77ms\tremaining: 0us\n",
      "0:\tlearn: 0.0332757\ttotal: 636us\tremaining: 24.8ms\n",
      "39:\tlearn: 0.0137035\ttotal: 9.32ms\tremaining: 0us\n",
      "0:\tlearn: 0.0330340\ttotal: 1.55ms\tremaining: 60.6ms\n",
      "39:\tlearn: 0.0142846\ttotal: 10.3ms\tremaining: 0us\n"
     ]
    },
    {
     "name": "stderr",
     "output_type": "stream",
     "text": [
      "275it [43:33, 12.87s/it]"
     ]
    },
    {
     "name": "stdout",
     "output_type": "stream",
     "text": [
      "0:\tlearn: 0.0246355\ttotal: 1.16ms\tremaining: 45.4ms\n",
      "39:\tlearn: 0.0059107\ttotal: 29.9ms\tremaining: 0us\n",
      "0:\tlearn: 0.0248023\ttotal: 471us\tremaining: 18.4ms\n",
      "39:\tlearn: 0.0061473\ttotal: 10.3ms\tremaining: 0us\n",
      "0:\tlearn: 0.0240059\ttotal: 502us\tremaining: 19.6ms\n",
      "39:\tlearn: 0.0064824\ttotal: 14ms\tremaining: 0us\n",
      "0:\tlearn: 0.0244063\ttotal: 489us\tremaining: 19.1ms\n",
      "39:\tlearn: 0.0078767\ttotal: 27.9ms\tremaining: 0us\n",
      "0:\tlearn: 0.0294772\ttotal: 489us\tremaining: 19.1ms\n",
      "39:\tlearn: 0.0117077\ttotal: 11.3ms\tremaining: 0us\n",
      "0:\tlearn: 0.0293304\ttotal: 438us\tremaining: 17.1ms\n",
      "39:\tlearn: 0.0133561\ttotal: 8.3ms\tremaining: 0us\n",
      "0:\tlearn: 0.0314298\ttotal: 557us\tremaining: 21.7ms\n",
      "39:\tlearn: 0.0130298\ttotal: 23.5ms\tremaining: 0us\n",
      "0:\tlearn: 0.0348371\ttotal: 1.32ms\tremaining: 51.4ms\n",
      "39:\tlearn: 0.0129594\ttotal: 15.8ms\tremaining: 0us\n",
      "0:\tlearn: 0.0351018\ttotal: 467us\tremaining: 18.2ms\n",
      "39:\tlearn: 0.0137841\ttotal: 9.48ms\tremaining: 0us\n",
      "0:\tlearn: 0.0354085\ttotal: 1.21ms\tremaining: 47ms\n",
      "39:\tlearn: 0.0135576\ttotal: 11.1ms\tremaining: 0us\n",
      "0:\tlearn: 0.0349867\ttotal: 566us\tremaining: 22.1ms\n",
      "39:\tlearn: 0.0134666\ttotal: 13.6ms\tremaining: 0us\n",
      "0:\tlearn: 0.0343845\ttotal: 466us\tremaining: 18.2ms\n",
      "39:\tlearn: 0.0141949\ttotal: 10ms\tremaining: 0us\n",
      "0:\tlearn: 0.0340247\ttotal: 600us\tremaining: 23.4ms\n",
      "39:\tlearn: 0.0141900\ttotal: 10.4ms\tremaining: 0us\n"
     ]
    },
    {
     "name": "stderr",
     "output_type": "stream",
     "text": [
      "276it [43:43, 12.14s/it]"
     ]
    },
    {
     "name": "stdout",
     "output_type": "stream",
     "text": [
      "0:\tlearn: 0.0516154\ttotal: 447us\tremaining: 17.4ms\n",
      "39:\tlearn: 0.0200798\ttotal: 18.1ms\tremaining: 0us\n",
      "0:\tlearn: 0.0516720\ttotal: 482us\tremaining: 18.8ms\n",
      "39:\tlearn: 0.0274092\ttotal: 12.5ms\tremaining: 0us\n",
      "0:\tlearn: 0.0506979\ttotal: 515us\tremaining: 20.1ms\n",
      "39:\tlearn: 0.0244118\ttotal: 8.89ms\tremaining: 0us\n",
      "0:\tlearn: 0.0495981\ttotal: 1.27ms\tremaining: 49.8ms\n",
      "39:\tlearn: 0.0249943\ttotal: 10.5ms\tremaining: 0us\n",
      "0:\tlearn: 0.0492819\ttotal: 520us\tremaining: 20.3ms\n",
      "39:\tlearn: 0.0256246\ttotal: 8.78ms\tremaining: 0us\n",
      "0:\tlearn: 0.0488672\ttotal: 488us\tremaining: 19.1ms\n",
      "39:\tlearn: 0.0271369\ttotal: 30.7ms\tremaining: 0us\n",
      "0:\tlearn: 0.0525662\ttotal: 629us\tremaining: 24.6ms\n",
      "39:\tlearn: 0.0275903\ttotal: 15.1ms\tremaining: 0us\n",
      "0:\tlearn: 0.0524219\ttotal: 1.11ms\tremaining: 43.5ms\n",
      "39:\tlearn: 0.0279708\ttotal: 73.3ms\tremaining: 0us\n",
      "0:\tlearn: 0.0536500\ttotal: 540us\tremaining: 21.1ms\n",
      "39:\tlearn: 0.0315523\ttotal: 11.6ms\tremaining: 0us\n",
      "0:\tlearn: 0.0519460\ttotal: 516us\tremaining: 20.2ms\n",
      "39:\tlearn: 0.0294297\ttotal: 9.27ms\tremaining: 0us\n",
      "0:\tlearn: 0.0518596\ttotal: 539us\tremaining: 21ms\n",
      "39:\tlearn: 0.0296921\ttotal: 9.25ms\tremaining: 0us\n",
      "0:\tlearn: 0.0513583\ttotal: 553us\tremaining: 21.6ms\n",
      "39:\tlearn: 0.0311717\ttotal: 10.4ms\tremaining: 0us\n",
      "0:\tlearn: 0.0515893\ttotal: 589us\tremaining: 23ms\n",
      "39:\tlearn: 0.0301529\ttotal: 9.54ms\tremaining: 0us\n"
     ]
    },
    {
     "name": "stderr",
     "output_type": "stream",
     "text": [
      "277it [43:57, 12.58s/it]"
     ]
    },
    {
     "name": "stdout",
     "output_type": "stream",
     "text": [
      "0:\tlearn: 0.1078151\ttotal: 434us\tremaining: 16.9ms\n",
      "39:\tlearn: 0.0475914\ttotal: 7.83ms\tremaining: 0us\n",
      "0:\tlearn: 0.1075918\ttotal: 503us\tremaining: 19.7ms\n",
      "39:\tlearn: 0.0551582\ttotal: 12.2ms\tremaining: 0us\n",
      "0:\tlearn: 0.1066492\ttotal: 458us\tremaining: 17.9ms\n",
      "39:\tlearn: 0.0552701\ttotal: 14ms\tremaining: 0us\n",
      "0:\tlearn: 0.1050657\ttotal: 453us\tremaining: 17.7ms\n",
      "39:\tlearn: 0.0542669\ttotal: 9.68ms\tremaining: 0us\n",
      "0:\tlearn: 0.1045689\ttotal: 456us\tremaining: 17.8ms\n",
      "39:\tlearn: 0.0598922\ttotal: 37.8ms\tremaining: 0us\n",
      "0:\tlearn: 0.1032353\ttotal: 514us\tremaining: 20.1ms\n",
      "39:\tlearn: 0.0509226\ttotal: 9.95ms\tremaining: 0us\n",
      "0:\tlearn: 0.1043149\ttotal: 548us\tremaining: 21.4ms\n",
      "39:\tlearn: 0.0529626\ttotal: 12.7ms\tremaining: 0us\n",
      "0:\tlearn: 0.1071622\ttotal: 547us\tremaining: 21.3ms\n",
      "39:\tlearn: 0.0540810\ttotal: 9.98ms\tremaining: 0us\n",
      "0:\tlearn: 0.1051174\ttotal: 566us\tremaining: 22.1ms\n",
      "39:\tlearn: 0.0549915\ttotal: 10.2ms\tremaining: 0us\n",
      "0:\tlearn: 0.1061261\ttotal: 496us\tremaining: 19.3ms\n",
      "39:\tlearn: 0.0570708\ttotal: 14.2ms\tremaining: 0us\n",
      "0:\tlearn: 0.1035490\ttotal: 575us\tremaining: 22.4ms\n",
      "39:\tlearn: 0.0587447\ttotal: 32.1ms\tremaining: 0us\n",
      "0:\tlearn: 0.1032537\ttotal: 614us\tremaining: 24ms\n",
      "39:\tlearn: 0.0618518\ttotal: 12.8ms\tremaining: 0us\n",
      "0:\tlearn: 0.1036130\ttotal: 639us\tremaining: 24.9ms\n",
      "39:\tlearn: 0.0550361\ttotal: 23ms\tremaining: 0us\n"
     ]
    },
    {
     "name": "stderr",
     "output_type": "stream",
     "text": [
      "278it [44:07, 11.87s/it]"
     ]
    },
    {
     "name": "stdout",
     "output_type": "stream",
     "text": [
      "0:\tlearn: 0.1176449\ttotal: 649us\tremaining: 25.3ms\n",
      "39:\tlearn: 0.0400396\ttotal: 18.3ms\tremaining: 0us\n",
      "0:\tlearn: 0.1251835\ttotal: 778us\tremaining: 30.4ms\n",
      "39:\tlearn: 0.0447938\ttotal: 23ms\tremaining: 0us\n",
      "0:\tlearn: 0.1244470\ttotal: 497us\tremaining: 19.4ms\n",
      "39:\tlearn: 0.0433417\ttotal: 14.5ms\tremaining: 0us\n",
      "0:\tlearn: 0.1187582\ttotal: 506us\tremaining: 19.8ms\n",
      "39:\tlearn: 0.0444808\ttotal: 8.53ms\tremaining: 0us\n",
      "0:\tlearn: 0.1865235\ttotal: 470us\tremaining: 18.4ms\n",
      "39:\tlearn: 0.0863447\ttotal: 9.8ms\tremaining: 0us\n",
      "0:\tlearn: 0.1813043\ttotal: 457us\tremaining: 17.9ms\n",
      "39:\tlearn: 0.0883522\ttotal: 46.9ms\tremaining: 0us\n",
      "0:\tlearn: 0.1821263\ttotal: 447us\tremaining: 17.5ms\n",
      "39:\tlearn: 0.0965787\ttotal: 14.5ms\tremaining: 0us\n",
      "0:\tlearn: 0.1808544\ttotal: 507us\tremaining: 19.8ms\n",
      "39:\tlearn: 0.0952472\ttotal: 14.9ms\tremaining: 0us\n",
      "0:\tlearn: 0.1857595\ttotal: 519us\tremaining: 20.3ms\n",
      "39:\tlearn: 0.0961661\ttotal: 9.31ms\tremaining: 0us\n",
      "0:\tlearn: 0.1994737\ttotal: 524us\tremaining: 20.4ms\n",
      "39:\tlearn: 0.0846488\ttotal: 29ms\tremaining: 0us\n",
      "0:\tlearn: 0.1935823\ttotal: 519us\tremaining: 20.3ms\n",
      "39:\tlearn: 0.0869933\ttotal: 14.4ms\tremaining: 0us\n",
      "0:\tlearn: 0.1917342\ttotal: 1.37ms\tremaining: 53.3ms\n",
      "39:\tlearn: 0.0909303\ttotal: 53.4ms\tremaining: 0us\n",
      "0:\tlearn: 0.1930051\ttotal: 496us\tremaining: 19.4ms\n",
      "39:\tlearn: 0.0796754\ttotal: 9.41ms\tremaining: 0us\n"
     ]
    },
    {
     "name": "stderr",
     "output_type": "stream",
     "text": [
      "279it [44:17, 11.40s/it]"
     ]
    },
    {
     "name": "stdout",
     "output_type": "stream",
     "text": [
      "0:\tlearn: 0.0486137\ttotal: 469us\tremaining: 18.3ms\n",
      "39:\tlearn: 0.0206847\ttotal: 8.43ms\tremaining: 0us\n",
      "0:\tlearn: 0.0492310\ttotal: 546us\tremaining: 21.3ms\n",
      "39:\tlearn: 0.0282556\ttotal: 10.3ms\tremaining: 0us\n",
      "0:\tlearn: 0.0478209\ttotal: 527us\tremaining: 20.6ms\n",
      "39:\tlearn: 0.0247089\ttotal: 33.7ms\tremaining: 0us\n",
      "0:\tlearn: 0.0480860\ttotal: 759us\tremaining: 29.6ms\n",
      "39:\tlearn: 0.0232596\ttotal: 34.4ms\tremaining: 0us\n",
      "0:\tlearn: 0.0515640\ttotal: 459us\tremaining: 17.9ms\n",
      "39:\tlearn: 0.0262029\ttotal: 47ms\tremaining: 0us\n",
      "0:\tlearn: 0.0530302\ttotal: 501us\tremaining: 19.6ms\n",
      "39:\tlearn: 0.0280497\ttotal: 27.6ms\tremaining: 0us\n",
      "0:\tlearn: 0.0553701\ttotal: 466us\tremaining: 18.2ms\n",
      "39:\tlearn: 0.0299603\ttotal: 32.1ms\tremaining: 0us\n",
      "0:\tlearn: 0.0610683\ttotal: 480us\tremaining: 18.8ms\n",
      "39:\tlearn: 0.0325048\ttotal: 14.3ms\tremaining: 0us\n",
      "0:\tlearn: 0.0617889\ttotal: 504us\tremaining: 19.7ms\n",
      "39:\tlearn: 0.0298980\ttotal: 8.91ms\tremaining: 0us\n",
      "0:\tlearn: 0.0621608\ttotal: 538us\tremaining: 21ms\n",
      "39:\tlearn: 0.0278741\ttotal: 14.5ms\tremaining: 0us\n",
      "0:\tlearn: 0.0623143\ttotal: 574us\tremaining: 22.4ms\n",
      "39:\tlearn: 0.0294825\ttotal: 14.8ms\tremaining: 0us\n",
      "0:\tlearn: 0.0607760\ttotal: 636us\tremaining: 24.8ms\n",
      "39:\tlearn: 0.0302458\ttotal: 34.6ms\tremaining: 0us\n",
      "0:\tlearn: 0.0603987\ttotal: 497us\tremaining: 19.4ms\n",
      "39:\tlearn: 0.0293813\ttotal: 9.65ms\tremaining: 0us\n"
     ]
    },
    {
     "name": "stderr",
     "output_type": "stream",
     "text": [
      "280it [44:27, 11.07s/it]"
     ]
    },
    {
     "name": "stdout",
     "output_type": "stream",
     "text": [
      "0:\tlearn: 0.0747633\ttotal: 467us\tremaining: 18.2ms\n",
      "39:\tlearn: 0.0346353\ttotal: 8.46ms\tremaining: 0us\n",
      "0:\tlearn: 0.0735627\ttotal: 477us\tremaining: 18.6ms\n",
      "39:\tlearn: 0.0406482\ttotal: 8.71ms\tremaining: 0us\n",
      "0:\tlearn: 0.0759554\ttotal: 456us\tremaining: 17.8ms\n",
      "39:\tlearn: 0.0423965\ttotal: 16.7ms\tremaining: 0us\n",
      "0:\tlearn: 0.0753765\ttotal: 515us\tremaining: 20.1ms\n",
      "39:\tlearn: 0.0406130\ttotal: 27.5ms\tremaining: 0us\n",
      "0:\tlearn: 0.0746203\ttotal: 561us\tremaining: 21.9ms\n",
      "39:\tlearn: 0.0395403\ttotal: 15.6ms\tremaining: 0us\n",
      "0:\tlearn: 0.0730567\ttotal: 503us\tremaining: 19.6ms\n",
      "39:\tlearn: 0.0418027\ttotal: 50.8ms\tremaining: 0us\n",
      "0:\tlearn: 0.0727060\ttotal: 576us\tremaining: 22.5ms\n",
      "39:\tlearn: 0.0385172\ttotal: 9.81ms\tremaining: 0us\n",
      "0:\tlearn: 0.0812418\ttotal: 1.51ms\tremaining: 59.1ms\n",
      "39:\tlearn: 0.0463252\ttotal: 35.6ms\tremaining: 0us\n",
      "0:\tlearn: 0.0793625\ttotal: 490us\tremaining: 19.1ms\n",
      "39:\tlearn: 0.0457305\ttotal: 14.3ms\tremaining: 0us\n",
      "0:\tlearn: 0.0793772\ttotal: 477us\tremaining: 18.6ms\n",
      "39:\tlearn: 0.0486402\ttotal: 10.1ms\tremaining: 0us\n",
      "0:\tlearn: 0.0779643\ttotal: 559us\tremaining: 21.8ms\n",
      "39:\tlearn: 0.0465302\ttotal: 9.62ms\tremaining: 0us\n",
      "0:\tlearn: 0.0783922\ttotal: 536us\tremaining: 20.9ms\n",
      "39:\tlearn: 0.0417671\ttotal: 20.1ms\tremaining: 0us\n",
      "0:\tlearn: 0.0772623\ttotal: 1.28ms\tremaining: 50ms\n",
      "39:\tlearn: 0.0440151\ttotal: 87ms\tremaining: 0us\n"
     ]
    },
    {
     "name": "stderr",
     "output_type": "stream",
     "text": [
      "283it [44:37,  8.76s/it]"
     ]
    },
    {
     "name": "stdout",
     "output_type": "stream",
     "text": [
      "0:\tlearn: 0.0521550\ttotal: 437us\tremaining: 17.1ms\n",
      "39:\tlearn: 0.0207264\ttotal: 32.2ms\tremaining: 0us\n",
      "0:\tlearn: 0.0523131\ttotal: 483us\tremaining: 18.8ms\n",
      "39:\tlearn: 0.0223210\ttotal: 39.4ms\tremaining: 0us\n",
      "0:\tlearn: 0.0531104\ttotal: 541us\tremaining: 21.1ms\n",
      "39:\tlearn: 0.0226452\ttotal: 9.77ms\tremaining: 0us\n",
      "0:\tlearn: 0.0530769\ttotal: 493us\tremaining: 19.2ms\n",
      "39:\tlearn: 0.0213871\ttotal: 43.4ms\tremaining: 0us\n",
      "0:\tlearn: 0.0535315\ttotal: 490us\tremaining: 19.1ms\n",
      "39:\tlearn: 0.0215090\ttotal: 14.3ms\tremaining: 0us\n",
      "0:\tlearn: 0.0535203\ttotal: 511us\tremaining: 20ms\n",
      "39:\tlearn: 0.0218632\ttotal: 13.6ms\tremaining: 0us\n",
      "0:\tlearn: 0.0568975\ttotal: 547us\tremaining: 21.4ms\n",
      "39:\tlearn: 0.0232251\ttotal: 10.1ms\tremaining: 0us\n",
      "0:\tlearn: 0.0582620\ttotal: 477us\tremaining: 18.6ms\n",
      "39:\tlearn: 0.0221405\ttotal: 9.35ms\tremaining: 0us\n",
      "0:\tlearn: 0.0599400\ttotal: 555us\tremaining: 21.7ms\n",
      "39:\tlearn: 0.0231199\ttotal: 16.5ms\tremaining: 0us\n",
      "0:\tlearn: 0.0590507\ttotal: 568us\tremaining: 22.2ms\n",
      "39:\tlearn: 0.0220067\ttotal: 9.4ms\tremaining: 0us\n",
      "0:\tlearn: 0.0583075\ttotal: 475us\tremaining: 18.5ms\n",
      "39:\tlearn: 0.0217368\ttotal: 51.3ms\tremaining: 0us\n",
      "0:\tlearn: 0.0591237\ttotal: 566us\tremaining: 22.1ms\n",
      "39:\tlearn: 0.0234270\ttotal: 9.43ms\tremaining: 0us\n",
      "0:\tlearn: 0.0605562\ttotal: 578us\tremaining: 22.6ms\n",
      "39:\tlearn: 0.0270532\ttotal: 9.43ms\tremaining: 0us\n"
     ]
    },
    {
     "name": "stderr",
     "output_type": "stream",
     "text": [
      "284it [44:48,  9.26s/it]"
     ]
    },
    {
     "name": "stdout",
     "output_type": "stream",
     "text": [
      "0:\tlearn: 0.0520173\ttotal: 447us\tremaining: 17.5ms\n",
      "39:\tlearn: 0.0231754\ttotal: 8.38ms\tremaining: 0us\n",
      "0:\tlearn: 0.0517265\ttotal: 474us\tremaining: 18.5ms\n",
      "39:\tlearn: 0.0219073\ttotal: 10.2ms\tremaining: 0us\n",
      "0:\tlearn: 0.0510929\ttotal: 460us\tremaining: 18ms\n",
      "39:\tlearn: 0.0214988\ttotal: 9.49ms\tremaining: 0us\n",
      "0:\tlearn: 0.0522228\ttotal: 491us\tremaining: 19.2ms\n",
      "39:\tlearn: 0.0219292\ttotal: 23.9ms\tremaining: 0us\n",
      "0:\tlearn: 0.0521824\ttotal: 509us\tremaining: 19.9ms\n",
      "39:\tlearn: 0.0255175\ttotal: 10.5ms\tremaining: 0us\n",
      "0:\tlearn: 0.0511795\ttotal: 486us\tremaining: 19ms\n",
      "39:\tlearn: 0.0256110\ttotal: 14.2ms\tremaining: 0us\n",
      "0:\tlearn: 0.0511618\ttotal: 503us\tremaining: 19.6ms\n",
      "39:\tlearn: 0.0221718\ttotal: 14.4ms\tremaining: 0us\n",
      "0:\tlearn: 0.0547761\ttotal: 483us\tremaining: 18.9ms\n",
      "39:\tlearn: 0.0261269\ttotal: 11ms\tremaining: 0us\n",
      "0:\tlearn: 0.0540741\ttotal: 451us\tremaining: 17.6ms\n",
      "39:\tlearn: 0.0247210\ttotal: 10.4ms\tremaining: 0us\n",
      "0:\tlearn: 0.0544642\ttotal: 944us\tremaining: 36.8ms\n",
      "39:\tlearn: 0.0268824\ttotal: 11.3ms\tremaining: 0us\n",
      "0:\tlearn: 0.0541003\ttotal: 527us\tremaining: 20.6ms\n",
      "39:\tlearn: 0.0268946\ttotal: 12.3ms\tremaining: 0us\n",
      "0:\tlearn: 0.0564741\ttotal: 518us\tremaining: 20.2ms\n",
      "39:\tlearn: 0.0280605\ttotal: 9.03ms\tremaining: 0us\n",
      "0:\tlearn: 0.0561673\ttotal: 469us\tremaining: 18.3ms\n",
      "39:\tlearn: 0.0276694\ttotal: 17.2ms\tremaining: 0us\n"
     ]
    },
    {
     "name": "stderr",
     "output_type": "stream",
     "text": [
      "285it [44:59,  9.66s/it]"
     ]
    },
    {
     "name": "stdout",
     "output_type": "stream",
     "text": [
      "0:\tlearn: 0.0245413\ttotal: 416us\tremaining: 16.2ms\n",
      "39:\tlearn: 0.0081442\ttotal: 8.24ms\tremaining: 211us\n",
      "0:\tlearn: 0.0240293\ttotal: 487us\tremaining: 19ms\n",
      "39:\tlearn: 0.0080519\ttotal: 20.1ms\tremaining: 0us\n",
      "0:\tlearn: 0.0243857\ttotal: 441us\tremaining: 17.2ms\n",
      "39:\tlearn: 0.0086536\ttotal: 9.26ms\tremaining: 0us\n",
      "0:\tlearn: 0.0245543\ttotal: 634us\tremaining: 24.7ms\n",
      "39:\tlearn: 0.0095053\ttotal: 23.7ms\tremaining: 0us\n",
      "0:\tlearn: 0.0341627\ttotal: 522us\tremaining: 20.4ms\n",
      "39:\tlearn: 0.0169321\ttotal: 32.4ms\tremaining: 0us\n",
      "0:\tlearn: 0.0336795\ttotal: 542us\tremaining: 21.2ms\n",
      "39:\tlearn: 0.0148757\ttotal: 10.6ms\tremaining: 0us\n",
      "0:\tlearn: 0.0345188\ttotal: 548us\tremaining: 21.4ms\n",
      "39:\tlearn: 0.0148866\ttotal: 10.7ms\tremaining: 0us\n",
      "0:\tlearn: 0.0377674\ttotal: 697us\tremaining: 27.2ms\n",
      "39:\tlearn: 0.0156019\ttotal: 29.5ms\tremaining: 0us\n",
      "0:\tlearn: 0.0375920\ttotal: 1.38ms\tremaining: 53.7ms\n",
      "39:\tlearn: 0.0155787\ttotal: 12.7ms\tremaining: 0us\n",
      "0:\tlearn: 0.0372360\ttotal: 538us\tremaining: 21ms\n",
      "39:\tlearn: 0.0173742\ttotal: 34.9ms\tremaining: 0us\n",
      "0:\tlearn: 0.0371004\ttotal: 1.66ms\tremaining: 64.9ms\n",
      "39:\tlearn: 0.0167810\ttotal: 164ms\tremaining: 0us\n",
      "0:\tlearn: 0.0368315\ttotal: 1.72ms\tremaining: 66.9ms\n",
      "39:\tlearn: 0.0167559\ttotal: 109ms\tremaining: 0us\n",
      "0:\tlearn: 0.0371205\ttotal: 2.25ms\tremaining: 87.7ms\n",
      "39:\tlearn: 0.0168918\ttotal: 33.3ms\tremaining: 0us\n"
     ]
    },
    {
     "name": "stderr",
     "output_type": "stream",
     "text": [
      "286it [45:09,  9.99s/it]"
     ]
    },
    {
     "name": "stdout",
     "output_type": "stream",
     "text": [
      "0:\tlearn: 0.0309965\ttotal: 552us\tremaining: 21.5ms\n",
      "39:\tlearn: 0.0090288\ttotal: 9.83ms\tremaining: 0us\n",
      "0:\tlearn: 0.0307460\ttotal: 531us\tremaining: 20.7ms\n",
      "39:\tlearn: 0.0104313\ttotal: 9.64ms\tremaining: 0us\n",
      "0:\tlearn: 0.0305262\ttotal: 511us\tremaining: 19.9ms\n",
      "39:\tlearn: 0.0099492\ttotal: 12.3ms\tremaining: 0us\n",
      "0:\tlearn: 0.0299053\ttotal: 493us\tremaining: 19.2ms\n",
      "39:\tlearn: 0.0085597\ttotal: 14.8ms\tremaining: 0us\n",
      "0:\tlearn: 0.0387067\ttotal: 531us\tremaining: 20.7ms\n",
      "39:\tlearn: 0.0192892\ttotal: 9.4ms\tremaining: 0us\n",
      "0:\tlearn: 0.0382439\ttotal: 710us\tremaining: 27.7ms\n",
      "39:\tlearn: 0.0227318\ttotal: 15.3ms\tremaining: 0us\n",
      "0:\tlearn: 0.0378096\ttotal: 576us\tremaining: 22.5ms\n",
      "39:\tlearn: 0.0208651\ttotal: 10ms\tremaining: 0us\n",
      "0:\tlearn: 0.0394440\ttotal: 515us\tremaining: 20.1ms\n",
      "39:\tlearn: 0.0194716\ttotal: 55ms\tremaining: 0us\n",
      "0:\tlearn: 0.0385599\ttotal: 510us\tremaining: 19.9ms\n",
      "39:\tlearn: 0.0180296\ttotal: 19.8ms\tremaining: 0us\n",
      "0:\tlearn: 0.0384069\ttotal: 609us\tremaining: 23.8ms\n",
      "39:\tlearn: 0.0181653\ttotal: 9.17ms\tremaining: 0us\n",
      "0:\tlearn: 0.0382739\ttotal: 619us\tremaining: 24.2ms\n",
      "39:\tlearn: 0.0194200\ttotal: 19.8ms\tremaining: 0us\n",
      "0:\tlearn: 0.0382010\ttotal: 601us\tremaining: 23.4ms\n",
      "39:\tlearn: 0.0193340\ttotal: 9.39ms\tremaining: 0us\n",
      "0:\tlearn: 0.0385325\ttotal: 482us\tremaining: 18.8ms\n",
      "39:\tlearn: 0.0178667\ttotal: 15.8ms\tremaining: 0us\n"
     ]
    },
    {
     "name": "stderr",
     "output_type": "stream",
     "text": [
      "287it [45:20, 10.19s/it]"
     ]
    },
    {
     "name": "stdout",
     "output_type": "stream",
     "text": [
      "0:\tlearn: 0.0328124\ttotal: 477us\tremaining: 18.6ms\n",
      "39:\tlearn: 0.0112254\ttotal: 13.8ms\tremaining: 0us\n",
      "0:\tlearn: 0.0319977\ttotal: 470us\tremaining: 18.3ms\n",
      "39:\tlearn: 0.0124144\ttotal: 23.3ms\tremaining: 0us\n",
      "0:\tlearn: 0.0315507\ttotal: 475us\tremaining: 18.6ms\n",
      "39:\tlearn: 0.0115513\ttotal: 15.2ms\tremaining: 0us\n",
      "0:\tlearn: 0.0314408\ttotal: 472us\tremaining: 18.4ms\n",
      "39:\tlearn: 0.0122244\ttotal: 14.3ms\tremaining: 0us\n",
      "0:\tlearn: 0.0378120\ttotal: 552us\tremaining: 21.5ms\n",
      "39:\tlearn: 0.0179843\ttotal: 15.6ms\tremaining: 0us\n",
      "0:\tlearn: 0.0366447\ttotal: 524us\tremaining: 20.5ms\n",
      "39:\tlearn: 0.0174498\ttotal: 41.7ms\tremaining: 0us\n",
      "0:\tlearn: 0.0367030\ttotal: 510us\tremaining: 19.9ms\n",
      "39:\tlearn: 0.0172166\ttotal: 9.48ms\tremaining: 0us\n",
      "0:\tlearn: 0.0380787\ttotal: 517us\tremaining: 20.2ms\n",
      "39:\tlearn: 0.0172622\ttotal: 31.2ms\tremaining: 0us\n",
      "0:\tlearn: 0.0382170\ttotal: 464us\tremaining: 18.1ms\n",
      "39:\tlearn: 0.0170514\ttotal: 9.19ms\tremaining: 0us\n",
      "0:\tlearn: 0.0374504\ttotal: 554us\tremaining: 21.6ms\n",
      "39:\tlearn: 0.0162714\ttotal: 14.6ms\tremaining: 0us\n",
      "0:\tlearn: 0.0375144\ttotal: 572us\tremaining: 22.3ms\n",
      "39:\tlearn: 0.0184737\ttotal: 23.9ms\tremaining: 0us\n",
      "0:\tlearn: 0.0375472\ttotal: 573us\tremaining: 22.4ms\n",
      "39:\tlearn: 0.0181289\ttotal: 9.7ms\tremaining: 0us\n",
      "0:\tlearn: 0.0375874\ttotal: 577us\tremaining: 22.5ms\n",
      "39:\tlearn: 0.0170130\ttotal: 17.1ms\tremaining: 0us\n"
     ]
    },
    {
     "name": "stderr",
     "output_type": "stream",
     "text": [
      "288it [45:31, 10.54s/it]"
     ]
    },
    {
     "name": "stdout",
     "output_type": "stream",
     "text": [
      "0:\tlearn: 0.1731010\ttotal: 545us\tremaining: 21.3ms\n",
      "39:\tlearn: 0.0826641\ttotal: 14.4ms\tremaining: 0us\n",
      "0:\tlearn: 0.1732141\ttotal: 535us\tremaining: 20.9ms\n",
      "39:\tlearn: 0.0893440\ttotal: 13.4ms\tremaining: 0us\n",
      "0:\tlearn: 0.1701389\ttotal: 483us\tremaining: 18.9ms\n",
      "39:\tlearn: 0.0910722\ttotal: 30.1ms\tremaining: 0us\n",
      "0:\tlearn: 0.1704718\ttotal: 475us\tremaining: 18.5ms\n",
      "39:\tlearn: 0.0959396\ttotal: 9.47ms\tremaining: 0us\n",
      "0:\tlearn: 0.1672773\ttotal: 468us\tremaining: 18.3ms\n",
      "39:\tlearn: 0.0996726\ttotal: 27.3ms\tremaining: 0us\n",
      "0:\tlearn: 0.1632306\ttotal: 533us\tremaining: 20.8ms\n",
      "39:\tlearn: 0.0953341\ttotal: 39.1ms\tremaining: 0us\n",
      "0:\tlearn: 0.1601482\ttotal: 498us\tremaining: 19.5ms\n",
      "39:\tlearn: 0.0937284\ttotal: 14.6ms\tremaining: 0us\n",
      "0:\tlearn: 0.1597490\ttotal: 492us\tremaining: 19.2ms\n",
      "39:\tlearn: 0.0939170\ttotal: 8.5ms\tremaining: 0us\n",
      "0:\tlearn: 0.1583435\ttotal: 464us\tremaining: 18.1ms\n",
      "39:\tlearn: 0.0964669\ttotal: 14.6ms\tremaining: 0us\n",
      "0:\tlearn: 0.1644291\ttotal: 539us\tremaining: 21.1ms\n",
      "39:\tlearn: 0.1100533\ttotal: 8.89ms\tremaining: 0us\n",
      "0:\tlearn: 0.1641858\ttotal: 550us\tremaining: 21.5ms\n",
      "39:\tlearn: 0.1050426\ttotal: 8.79ms\tremaining: 0us\n",
      "0:\tlearn: 0.1611075\ttotal: 482us\tremaining: 18.8ms\n",
      "39:\tlearn: 0.1074798\ttotal: 61.9ms\tremaining: 0us\n",
      "0:\tlearn: 0.1617645\ttotal: 725us\tremaining: 28.3ms\n",
      "39:\tlearn: 0.1074274\ttotal: 34.9ms\tremaining: 0us\n"
     ]
    },
    {
     "name": "stderr",
     "output_type": "stream",
     "text": [
      "289it [45:41, 10.43s/it]"
     ]
    },
    {
     "name": "stdout",
     "output_type": "stream",
     "text": [
      "0:\tlearn: 0.0661595\ttotal: 438us\tremaining: 17.1ms\n",
      "39:\tlearn: 0.0273438\ttotal: 17.9ms\tremaining: 0us\n",
      "0:\tlearn: 0.0682417\ttotal: 476us\tremaining: 18.6ms\n",
      "39:\tlearn: 0.0310223\ttotal: 57.1ms\tremaining: 0us\n",
      "0:\tlearn: 0.0679154\ttotal: 464us\tremaining: 18.1ms\n",
      "39:\tlearn: 0.0296504\ttotal: 8.35ms\tremaining: 0us\n",
      "0:\tlearn: 0.0678168\ttotal: 565us\tremaining: 22ms\n",
      "39:\tlearn: 0.0300846\ttotal: 28.7ms\tremaining: 0us\n",
      "0:\tlearn: 0.0663227\ttotal: 556us\tremaining: 21.7ms\n",
      "39:\tlearn: 0.0348372\ttotal: 9.42ms\tremaining: 0us\n",
      "0:\tlearn: 0.0703242\ttotal: 524us\tremaining: 20.5ms\n",
      "39:\tlearn: 0.0337623\ttotal: 9.16ms\tremaining: 0us\n",
      "0:\tlearn: 0.0701994\ttotal: 477us\tremaining: 18.6ms\n",
      "39:\tlearn: 0.0305763\ttotal: 8.83ms\tremaining: 226us\n",
      "0:\tlearn: 0.0690410\ttotal: 498us\tremaining: 19.5ms\n",
      "39:\tlearn: 0.0347498\ttotal: 9.51ms\tremaining: 0us\n",
      "0:\tlearn: 0.0711723\ttotal: 485us\tremaining: 18.9ms\n",
      "39:\tlearn: 0.0333684\ttotal: 14.8ms\tremaining: 0us\n",
      "0:\tlearn: 0.0690723\ttotal: 570us\tremaining: 22.3ms\n",
      "39:\tlearn: 0.0327161\ttotal: 10.6ms\tremaining: 0us\n",
      "0:\tlearn: 0.0702947\ttotal: 655us\tremaining: 25.6ms\n",
      "39:\tlearn: 0.0350533\ttotal: 9.85ms\tremaining: 0us\n",
      "0:\tlearn: 0.0706298\ttotal: 583us\tremaining: 22.8ms\n",
      "39:\tlearn: 0.0347698\ttotal: 10.9ms\tremaining: 0us\n",
      "0:\tlearn: 0.0704928\ttotal: 574us\tremaining: 22.4ms\n",
      "39:\tlearn: 0.0369589\ttotal: 9.33ms\tremaining: 0us\n"
     ]
    },
    {
     "name": "stderr",
     "output_type": "stream",
     "text": [
      "290it [45:52, 10.44s/it]"
     ]
    },
    {
     "name": "stdout",
     "output_type": "stream",
     "text": [
      "0:\tlearn: 0.0965945\ttotal: 487us\tremaining: 19ms\n",
      "39:\tlearn: 0.0517876\ttotal: 15.8ms\tremaining: 0us\n",
      "0:\tlearn: 0.1115556\ttotal: 450us\tremaining: 17.6ms\n",
      "39:\tlearn: 0.0486074\ttotal: 30.1ms\tremaining: 0us\n",
      "0:\tlearn: 0.1106964\ttotal: 491us\tremaining: 19.2ms\n",
      "39:\tlearn: 0.0518881\ttotal: 10.8ms\tremaining: 0us\n",
      "0:\tlearn: 0.1091752\ttotal: 465us\tremaining: 18.2ms\n",
      "39:\tlearn: 0.0503261\ttotal: 31.1ms\tremaining: 0us\n",
      "0:\tlearn: 0.1074635\ttotal: 473us\tremaining: 18.5ms\n",
      "39:\tlearn: 0.0507674\ttotal: 26.9ms\tremaining: 0us\n",
      "0:\tlearn: 0.1060831\ttotal: 467us\tremaining: 18.2ms\n",
      "39:\tlearn: 0.0492527\ttotal: 40.3ms\tremaining: 0us\n",
      "0:\tlearn: 0.1059971\ttotal: 503us\tremaining: 19.6ms\n",
      "39:\tlearn: 0.0532006\ttotal: 8.79ms\tremaining: 0us\n",
      "0:\tlearn: 0.1031702\ttotal: 470us\tremaining: 18.3ms\n",
      "39:\tlearn: 0.0488569\ttotal: 8.58ms\tremaining: 0us\n",
      "0:\tlearn: 0.1031839\ttotal: 510us\tremaining: 19.9ms\n",
      "39:\tlearn: 0.0483522\ttotal: 8.94ms\tremaining: 0us\n",
      "0:\tlearn: 0.1042296\ttotal: 570us\tremaining: 22.2ms\n",
      "39:\tlearn: 0.0591169\ttotal: 9.36ms\tremaining: 0us\n",
      "0:\tlearn: 0.1106890\ttotal: 523us\tremaining: 20.4ms\n",
      "39:\tlearn: 0.0479545\ttotal: 12.5ms\tremaining: 0us\n",
      "0:\tlearn: 0.1093769\ttotal: 1.17ms\tremaining: 45.5ms\n",
      "39:\tlearn: 0.0490523\ttotal: 11.5ms\tremaining: 0us\n",
      "0:\tlearn: 0.1108988\ttotal: 627us\tremaining: 24.5ms\n",
      "39:\tlearn: 0.0502488\ttotal: 12.8ms\tremaining: 0us\n"
     ]
    },
    {
     "name": "stderr",
     "output_type": "stream",
     "text": [
      "291it [46:03, 10.63s/it]"
     ]
    },
    {
     "name": "stdout",
     "output_type": "stream",
     "text": [
      "0:\tlearn: 0.0566785\ttotal: 518us\tremaining: 20.2ms\n",
      "39:\tlearn: 0.0239719\ttotal: 29.3ms\tremaining: 0us\n",
      "0:\tlearn: 0.0557108\ttotal: 507us\tremaining: 19.8ms\n",
      "39:\tlearn: 0.0232204\ttotal: 11.1ms\tremaining: 0us\n",
      "0:\tlearn: 0.0613414\ttotal: 606us\tremaining: 23.6ms\n",
      "39:\tlearn: 0.0297287\ttotal: 11ms\tremaining: 0us\n",
      "0:\tlearn: 0.0612682\ttotal: 567us\tremaining: 22.1ms\n",
      "39:\tlearn: 0.0299742\ttotal: 132ms\tremaining: 0us\n",
      "0:\tlearn: 0.0597156\ttotal: 507us\tremaining: 19.8ms\n",
      "39:\tlearn: 0.0289420\ttotal: 56.2ms\tremaining: 0us\n",
      "0:\tlearn: 0.0619982\ttotal: 675us\tremaining: 26.3ms\n",
      "39:\tlearn: 0.0293948\ttotal: 154ms\tremaining: 0us\n",
      "0:\tlearn: 0.0611123\ttotal: 564us\tremaining: 22ms\n",
      "39:\tlearn: 0.0301350\ttotal: 122ms\tremaining: 0us\n",
      "0:\tlearn: 0.0599109\ttotal: 1.08ms\tremaining: 42.3ms\n",
      "39:\tlearn: 0.0284769\ttotal: 164ms\tremaining: 0us\n",
      "0:\tlearn: 0.0604559\ttotal: 614us\tremaining: 24ms\n",
      "39:\tlearn: 0.0290490\ttotal: 9.38ms\tremaining: 0us\n",
      "0:\tlearn: 0.0626978\ttotal: 555us\tremaining: 21.7ms\n",
      "39:\tlearn: 0.0303841\ttotal: 9.5ms\tremaining: 0us\n",
      "0:\tlearn: 0.0688357\ttotal: 590us\tremaining: 23ms\n",
      "39:\tlearn: 0.0333846\ttotal: 10.7ms\tremaining: 0us\n",
      "0:\tlearn: 0.0722911\ttotal: 727us\tremaining: 28.4ms\n",
      "39:\tlearn: 0.0330847\ttotal: 15.4ms\tremaining: 0us\n",
      "0:\tlearn: 0.0761934\ttotal: 499us\tremaining: 19.5ms\n",
      "39:\tlearn: 0.0342434\ttotal: 46.4ms\tremaining: 0us\n"
     ]
    },
    {
     "name": "stderr",
     "output_type": "stream",
     "text": [
      "292it [46:15, 10.97s/it]"
     ]
    },
    {
     "name": "stdout",
     "output_type": "stream",
     "text": [
      "0:\tlearn: 0.1340002\ttotal: 490us\tremaining: 19.1ms\n",
      "39:\tlearn: 0.0545527\ttotal: 13.6ms\tremaining: 0us\n",
      "0:\tlearn: 0.1446225\ttotal: 470us\tremaining: 18.4ms\n",
      "39:\tlearn: 0.0670670\ttotal: 30.3ms\tremaining: 0us\n",
      "0:\tlearn: 0.1441728\ttotal: 489us\tremaining: 19.1ms\n",
      "39:\tlearn: 0.0618800\ttotal: 63.2ms\tremaining: 0us\n",
      "0:\tlearn: 0.1446589\ttotal: 473us\tremaining: 18.5ms\n",
      "39:\tlearn: 0.0669290\ttotal: 10ms\tremaining: 0us\n",
      "0:\tlearn: 0.1431043\ttotal: 913us\tremaining: 35.6ms\n",
      "39:\tlearn: 0.0770075\ttotal: 10ms\tremaining: 0us\n",
      "0:\tlearn: 0.1402520\ttotal: 592us\tremaining: 23.1ms\n",
      "39:\tlearn: 0.0740377\ttotal: 13.3ms\tremaining: 0us\n",
      "0:\tlearn: 0.1383700\ttotal: 481us\tremaining: 18.8ms\n",
      "39:\tlearn: 0.0736362\ttotal: 9.01ms\tremaining: 0us\n",
      "0:\tlearn: 0.1376492\ttotal: 440us\tremaining: 17.2ms\n",
      "39:\tlearn: 0.0726815\ttotal: 11.3ms\tremaining: 0us\n",
      "0:\tlearn: 0.1423810\ttotal: 716us\tremaining: 27.9ms\n",
      "39:\tlearn: 0.0838256\ttotal: 19.7ms\tremaining: 0us\n",
      "0:\tlearn: 0.1423911\ttotal: 531us\tremaining: 20.7ms\n",
      "39:\tlearn: 0.0830550\ttotal: 9.89ms\tremaining: 0us\n",
      "0:\tlearn: 0.1388541\ttotal: 561us\tremaining: 21.9ms\n",
      "39:\tlearn: 0.0848300\ttotal: 17.9ms\tremaining: 0us\n",
      "0:\tlearn: 0.1390320\ttotal: 490us\tremaining: 19.1ms\n",
      "39:\tlearn: 0.0895976\ttotal: 9.36ms\tremaining: 0us\n",
      "0:\tlearn: 0.1364646\ttotal: 589us\tremaining: 23ms\n",
      "39:\tlearn: 0.0894243\ttotal: 9.44ms\tremaining: 0us\n"
     ]
    },
    {
     "name": "stderr",
     "output_type": "stream",
     "text": [
      "293it [46:28, 11.58s/it]"
     ]
    },
    {
     "name": "stdout",
     "output_type": "stream",
     "text": [
      "0:\tlearn: 0.0181192\ttotal: 480us\tremaining: 18.7ms\n",
      "39:\tlearn: 0.0084893\ttotal: 26.3ms\tremaining: 0us\n",
      "0:\tlearn: 0.0178690\ttotal: 491us\tremaining: 19.2ms\n",
      "39:\tlearn: 0.0083738\ttotal: 10.7ms\tremaining: 0us\n",
      "0:\tlearn: 0.0182579\ttotal: 496us\tremaining: 19.4ms\n",
      "39:\tlearn: 0.0103556\ttotal: 15ms\tremaining: 0us\n",
      "0:\tlearn: 0.0203121\ttotal: 540us\tremaining: 21.1ms\n",
      "39:\tlearn: 0.0096175\ttotal: 8.72ms\tremaining: 0us\n",
      "0:\tlearn: 0.0516793\ttotal: 480us\tremaining: 18.7ms\n",
      "39:\tlearn: 0.0235546\ttotal: 22ms\tremaining: 0us\n",
      "0:\tlearn: 0.0513124\ttotal: 536us\tremaining: 20.9ms\n",
      "39:\tlearn: 0.0219661\ttotal: 9.12ms\tremaining: 0us\n",
      "0:\tlearn: 0.0522215\ttotal: 490us\tremaining: 19.1ms\n",
      "39:\tlearn: 0.0223221\ttotal: 9.42ms\tremaining: 0us\n",
      "0:\tlearn: 0.0520422\ttotal: 565us\tremaining: 22.1ms\n",
      "39:\tlearn: 0.0221821\ttotal: 14.8ms\tremaining: 0us\n",
      "0:\tlearn: 0.0513305\ttotal: 480us\tremaining: 18.7ms\n",
      "39:\tlearn: 0.0226611\ttotal: 18.5ms\tremaining: 0us\n",
      "0:\tlearn: 0.0511094\ttotal: 529us\tremaining: 20.6ms\n",
      "39:\tlearn: 0.0221442\ttotal: 17.3ms\tremaining: 0us\n",
      "0:\tlearn: 0.0509134\ttotal: 543us\tremaining: 21.2ms\n",
      "39:\tlearn: 0.0222150\ttotal: 57.9ms\tremaining: 0us\n",
      "0:\tlearn: 0.0506232\ttotal: 1.71ms\tremaining: 66.6ms\n",
      "39:\tlearn: 0.0215957\ttotal: 190ms\tremaining: 0us\n",
      "0:\tlearn: 0.0499123\ttotal: 506us\tremaining: 19.8ms\n",
      "39:\tlearn: 0.0214982\ttotal: 22.4ms\tremaining: 0us\n"
     ]
    },
    {
     "name": "stderr",
     "output_type": "stream",
     "text": [
      "294it [46:39, 11.56s/it]"
     ]
    },
    {
     "name": "stdout",
     "output_type": "stream",
     "text": [
      "0:\tlearn: 0.0190243\ttotal: 482us\tremaining: 18.8ms\n",
      "39:\tlearn: 0.0093311\ttotal: 19.5ms\tremaining: 0us\n",
      "0:\tlearn: 0.0194837\ttotal: 469us\tremaining: 18.3ms\n",
      "39:\tlearn: 0.0106659\ttotal: 8.16ms\tremaining: 0us\n",
      "0:\tlearn: 0.0191433\ttotal: 470us\tremaining: 18.3ms\n",
      "39:\tlearn: 0.0090116\ttotal: 9.28ms\tremaining: 0us\n",
      "0:\tlearn: 0.0209624\ttotal: 457us\tremaining: 17.9ms\n",
      "39:\tlearn: 0.0114163\ttotal: 8.9ms\tremaining: 0us\n",
      "0:\tlearn: 0.0440999\ttotal: 471us\tremaining: 18.4ms\n",
      "39:\tlearn: 0.0218911\ttotal: 26.9ms\tremaining: 0us\n",
      "0:\tlearn: 0.0439035\ttotal: 506us\tremaining: 19.7ms\n",
      "39:\tlearn: 0.0215731\ttotal: 14.7ms\tremaining: 0us\n",
      "0:\tlearn: 0.0468410\ttotal: 549us\tremaining: 21.4ms\n",
      "39:\tlearn: 0.0241279\ttotal: 9.36ms\tremaining: 0us\n",
      "0:\tlearn: 0.0472812\ttotal: 515us\tremaining: 20.1ms\n",
      "39:\tlearn: 0.0227378\ttotal: 9.79ms\tremaining: 0us\n",
      "0:\tlearn: 0.0472538\ttotal: 446us\tremaining: 17.4ms\n",
      "39:\tlearn: 0.0234937\ttotal: 10.9ms\tremaining: 0us\n",
      "0:\tlearn: 0.0457137\ttotal: 702us\tremaining: 27.4ms\n",
      "39:\tlearn: 0.0217061\ttotal: 28.6ms\tremaining: 0us\n",
      "0:\tlearn: 0.0449689\ttotal: 633us\tremaining: 24.7ms\n",
      "39:\tlearn: 0.0240645\ttotal: 15.2ms\tremaining: 0us\n",
      "0:\tlearn: 0.0440782\ttotal: 568us\tremaining: 22.2ms\n",
      "39:\tlearn: 0.0207479\ttotal: 15ms\tremaining: 0us\n",
      "0:\tlearn: 0.0458040\ttotal: 498us\tremaining: 19.5ms\n",
      "39:\tlearn: 0.0222051\ttotal: 27.9ms\tremaining: 0us\n"
     ]
    },
    {
     "name": "stderr",
     "output_type": "stream",
     "text": [
      "295it [46:50, 11.22s/it]"
     ]
    },
    {
     "name": "stdout",
     "output_type": "stream",
     "text": [
      "0:\tlearn: 0.0302531\ttotal: 472us\tremaining: 18.4ms\n",
      "39:\tlearn: 0.0131437\ttotal: 8.67ms\tremaining: 0us\n",
      "0:\tlearn: 0.0303847\ttotal: 699us\tremaining: 27.3ms\n",
      "39:\tlearn: 0.0128056\ttotal: 23.5ms\tremaining: 0us\n",
      "0:\tlearn: 0.0300960\ttotal: 452us\tremaining: 17.6ms\n",
      "39:\tlearn: 0.0132559\ttotal: 11.8ms\tremaining: 0us\n",
      "0:\tlearn: 0.0298469\ttotal: 465us\tremaining: 18.2ms\n",
      "39:\tlearn: 0.0139709\ttotal: 18.3ms\tremaining: 0us\n",
      "0:\tlearn: 0.0440387\ttotal: 446us\tremaining: 17.4ms\n",
      "39:\tlearn: 0.0230712\ttotal: 8.88ms\tremaining: 0us\n",
      "0:\tlearn: 0.0445239\ttotal: 501us\tremaining: 19.5ms\n",
      "39:\tlearn: 0.0255978\ttotal: 15.3ms\tremaining: 0us\n",
      "0:\tlearn: 0.0440605\ttotal: 489us\tremaining: 19.1ms\n",
      "39:\tlearn: 0.0220152\ttotal: 10.1ms\tremaining: 0us\n",
      "0:\tlearn: 0.0458067\ttotal: 535us\tremaining: 20.9ms\n",
      "39:\tlearn: 0.0220015\ttotal: 9.39ms\tremaining: 0us\n",
      "0:\tlearn: 0.0465692\ttotal: 575us\tremaining: 22.4ms\n",
      "39:\tlearn: 0.0223113\ttotal: 9.71ms\tremaining: 0us\n",
      "0:\tlearn: 0.0463793\ttotal: 558us\tremaining: 21.8ms\n",
      "39:\tlearn: 0.0227553\ttotal: 29.4ms\tremaining: 0us\n",
      "0:\tlearn: 0.0457368\ttotal: 566us\tremaining: 22.1ms\n",
      "39:\tlearn: 0.0238381\ttotal: 9.13ms\tremaining: 0us\n",
      "0:\tlearn: 0.0456497\ttotal: 571us\tremaining: 22.3ms\n",
      "39:\tlearn: 0.0221072\ttotal: 31.2ms\tremaining: 0us\n",
      "0:\tlearn: 0.0455088\ttotal: 630us\tremaining: 24.6ms\n",
      "39:\tlearn: 0.0212179\ttotal: 8.86ms\tremaining: 0us\n"
     ]
    },
    {
     "name": "stderr",
     "output_type": "stream",
     "text": [
      "296it [47:00, 11.03s/it]"
     ]
    },
    {
     "name": "stdout",
     "output_type": "stream",
     "text": [
      "0:\tlearn: 0.1259736\ttotal: 484us\tremaining: 18.9ms\n",
      "39:\tlearn: 0.0454642\ttotal: 7.88ms\tremaining: 0us\n",
      "0:\tlearn: 0.1247687\ttotal: 529us\tremaining: 20.7ms\n",
      "39:\tlearn: 0.0514351\ttotal: 23.1ms\tremaining: 0us\n",
      "0:\tlearn: 0.1269091\ttotal: 634us\tremaining: 24.7ms\n",
      "39:\tlearn: 0.0523120\ttotal: 17.3ms\tremaining: 0us\n",
      "0:\tlearn: 0.1227892\ttotal: 544us\tremaining: 21.2ms\n",
      "39:\tlearn: 0.0502206\ttotal: 9.49ms\tremaining: 0us\n",
      "0:\tlearn: 0.1221390\ttotal: 461us\tremaining: 18ms\n",
      "39:\tlearn: 0.0543073\ttotal: 12.3ms\tremaining: 0us\n",
      "0:\tlearn: 0.1245003\ttotal: 1.43ms\tremaining: 55.7ms\n",
      "39:\tlearn: 0.0652144\ttotal: 37.2ms\tremaining: 0us\n",
      "0:\tlearn: 0.1223024\ttotal: 488us\tremaining: 19.1ms\n",
      "39:\tlearn: 0.0576518\ttotal: 48.4ms\tremaining: 0us\n",
      "0:\tlearn: 0.1263289\ttotal: 446us\tremaining: 17.4ms\n",
      "39:\tlearn: 0.0708279\ttotal: 8.55ms\tremaining: 0us\n",
      "0:\tlearn: 0.1263637\ttotal: 1.56ms\tremaining: 60.8ms\n",
      "39:\tlearn: 0.0685985\ttotal: 29ms\tremaining: 0us\n",
      "0:\tlearn: 0.1257133\ttotal: 536us\tremaining: 20.9ms\n",
      "39:\tlearn: 0.0696097\ttotal: 9.45ms\tremaining: 0us\n",
      "0:\tlearn: 0.1254097\ttotal: 513us\tremaining: 20ms\n",
      "39:\tlearn: 0.0709997\ttotal: 8.94ms\tremaining: 0us\n",
      "0:\tlearn: 0.1251162\ttotal: 875us\tremaining: 34.1ms\n",
      "39:\tlearn: 0.0656989\ttotal: 8.89ms\tremaining: 0us\n",
      "0:\tlearn: 0.1239272\ttotal: 564us\tremaining: 22ms\n",
      "39:\tlearn: 0.0671555\ttotal: 8.47ms\tremaining: 0us\n"
     ]
    },
    {
     "name": "stderr",
     "output_type": "stream",
     "text": [
      "297it [47:11, 10.81s/it]"
     ]
    },
    {
     "name": "stdout",
     "output_type": "stream",
     "text": [
      "0:\tlearn: 0.0746822\ttotal: 442us\tremaining: 17.3ms\n",
      "39:\tlearn: 0.0282031\ttotal: 7.72ms\tremaining: 0us\n",
      "0:\tlearn: 0.0749463\ttotal: 511us\tremaining: 19.9ms\n",
      "39:\tlearn: 0.0293144\ttotal: 9.01ms\tremaining: 0us\n",
      "0:\tlearn: 0.0739613\ttotal: 467us\tremaining: 18.2ms\n",
      "39:\tlearn: 0.0306352\ttotal: 42.6ms\tremaining: 0us\n",
      "0:\tlearn: 0.0748162\ttotal: 1.22ms\tremaining: 47.7ms\n",
      "39:\tlearn: 0.0328448\ttotal: 35ms\tremaining: 0us\n",
      "0:\tlearn: 0.0759438\ttotal: 466us\tremaining: 18.2ms\n",
      "39:\tlearn: 0.0363393\ttotal: 8.73ms\tremaining: 0us\n",
      "0:\tlearn: 0.0781127\ttotal: 529us\tremaining: 20.7ms\n",
      "39:\tlearn: 0.0324101\ttotal: 8.61ms\tremaining: 0us\n",
      "0:\tlearn: 0.0758350\ttotal: 540us\tremaining: 21.1ms\n",
      "39:\tlearn: 0.0352969\ttotal: 31.9ms\tremaining: 0us\n",
      "0:\tlearn: 0.0775402\ttotal: 492us\tremaining: 19.2ms\n",
      "39:\tlearn: 0.0368186\ttotal: 10.1ms\tremaining: 0us\n",
      "0:\tlearn: 0.1159967\ttotal: 543us\tremaining: 21.2ms\n",
      "39:\tlearn: 0.0593854\ttotal: 26ms\tremaining: 0us\n",
      "0:\tlearn: 0.1163592\ttotal: 478us\tremaining: 18.6ms\n",
      "39:\tlearn: 0.0577229\ttotal: 9.88ms\tremaining: 0us\n",
      "0:\tlearn: 0.1145610\ttotal: 487us\tremaining: 19ms\n",
      "39:\tlearn: 0.0574856\ttotal: 8.9ms\tremaining: 0us\n",
      "0:\tlearn: 0.1140792\ttotal: 455us\tremaining: 17.8ms\n",
      "39:\tlearn: 0.0586853\ttotal: 13.9ms\tremaining: 0us\n",
      "0:\tlearn: 0.1122082\ttotal: 523us\tremaining: 20.4ms\n",
      "39:\tlearn: 0.0569971\ttotal: 22ms\tremaining: 0us\n"
     ]
    },
    {
     "name": "stderr",
     "output_type": "stream",
     "text": [
      "298it [47:21, 10.78s/it]"
     ]
    },
    {
     "name": "stdout",
     "output_type": "stream",
     "text": [
      "0:\tlearn: 0.0515780\ttotal: 473us\tremaining: 18.5ms\n",
      "39:\tlearn: 0.0250119\ttotal: 11ms\tremaining: 0us\n",
      "0:\tlearn: 0.0514573\ttotal: 509us\tremaining: 19.9ms\n",
      "39:\tlearn: 0.0229553\ttotal: 8.64ms\tremaining: 0us\n",
      "0:\tlearn: 0.0507157\ttotal: 463us\tremaining: 18.1ms\n",
      "39:\tlearn: 0.0211174\ttotal: 9.38ms\tremaining: 0us\n",
      "0:\tlearn: 0.0499273\ttotal: 498us\tremaining: 19.4ms\n",
      "39:\tlearn: 0.0217184\ttotal: 35.9ms\tremaining: 0us\n",
      "0:\tlearn: 0.0495707\ttotal: 476us\tremaining: 18.6ms\n",
      "39:\tlearn: 0.0224020\ttotal: 9.86ms\tremaining: 0us\n",
      "0:\tlearn: 0.0488098\ttotal: 499us\tremaining: 19.5ms\n",
      "39:\tlearn: 0.0219550\ttotal: 8.42ms\tremaining: 0us\n",
      "0:\tlearn: 0.0482724\ttotal: 766us\tremaining: 29.9ms\n",
      "39:\tlearn: 0.0227140\ttotal: 8.94ms\tremaining: 0us\n",
      "0:\tlearn: 0.0581451\ttotal: 490us\tremaining: 19.1ms\n",
      "39:\tlearn: 0.0290449\ttotal: 15ms\tremaining: 0us\n",
      "0:\tlearn: 0.0628549\ttotal: 586us\tremaining: 22.9ms\n",
      "39:\tlearn: 0.0306807\ttotal: 8.83ms\tremaining: 226us\n",
      "0:\tlearn: 0.0622576\ttotal: 535us\tremaining: 20.9ms\n",
      "39:\tlearn: 0.0276348\ttotal: 52.9ms\tremaining: 0us\n",
      "0:\tlearn: 0.0609774\ttotal: 475us\tremaining: 18.5ms\n",
      "39:\tlearn: 0.0290024\ttotal: 12.2ms\tremaining: 0us\n",
      "0:\tlearn: 0.0605965\ttotal: 495us\tremaining: 19.3ms\n",
      "39:\tlearn: 0.0299677\ttotal: 8.79ms\tremaining: 0us\n",
      "0:\tlearn: 0.0600551\ttotal: 566us\tremaining: 22.1ms\n",
      "39:\tlearn: 0.0298296\ttotal: 26.1ms\tremaining: 0us\n"
     ]
    },
    {
     "name": "stderr",
     "output_type": "stream",
     "text": [
      "299it [47:32, 10.75s/it]"
     ]
    },
    {
     "name": "stdout",
     "output_type": "stream",
     "text": [
      "0:\tlearn: 0.0762203\ttotal: 439us\tremaining: 17.1ms\n",
      "39:\tlearn: 0.0305854\ttotal: 11.4ms\tremaining: 0us\n",
      "0:\tlearn: 0.0959291\ttotal: 476us\tremaining: 18.6ms\n",
      "39:\tlearn: 0.0365657\ttotal: 8.26ms\tremaining: 0us\n",
      "0:\tlearn: 0.0958725\ttotal: 522us\tremaining: 20.4ms\n",
      "39:\tlearn: 0.0392846\ttotal: 8.83ms\tremaining: 0us\n",
      "0:\tlearn: 0.0953414\ttotal: 454us\tremaining: 17.7ms\n",
      "39:\tlearn: 0.0404126\ttotal: 8.86ms\tremaining: 0us\n",
      "0:\tlearn: 0.0929724\ttotal: 500us\tremaining: 19.5ms\n",
      "39:\tlearn: 0.0354525\ttotal: 11.4ms\tremaining: 0us\n",
      "0:\tlearn: 0.0922743\ttotal: 457us\tremaining: 17.8ms\n",
      "39:\tlearn: 0.0399806\ttotal: 14.3ms\tremaining: 0us\n",
      "0:\tlearn: 0.0893100\ttotal: 563us\tremaining: 22ms\n",
      "39:\tlearn: 0.0285554\ttotal: 33.9ms\tremaining: 0us\n",
      "0:\tlearn: 0.0892139\ttotal: 531us\tremaining: 20.7ms\n",
      "39:\tlearn: 0.0387518\ttotal: 9.89ms\tremaining: 0us\n",
      "0:\tlearn: 0.1083958\ttotal: 618us\tremaining: 24.1ms\n",
      "39:\tlearn: 0.0451539\ttotal: 8.69ms\tremaining: 0us\n",
      "0:\tlearn: 0.1091947\ttotal: 531us\tremaining: 20.7ms\n",
      "39:\tlearn: 0.0471778\ttotal: 12.9ms\tremaining: 0us\n",
      "0:\tlearn: 0.1059202\ttotal: 572us\tremaining: 22.3ms\n",
      "39:\tlearn: 0.0448423\ttotal: 14.9ms\tremaining: 0us\n",
      "0:\tlearn: 0.1087210\ttotal: 506us\tremaining: 19.7ms\n",
      "39:\tlearn: 0.0488213\ttotal: 12ms\tremaining: 0us\n",
      "0:\tlearn: 0.1074027\ttotal: 492us\tremaining: 19.2ms\n",
      "39:\tlearn: 0.0448372\ttotal: 19.5ms\tremaining: 0us\n"
     ]
    },
    {
     "name": "stderr",
     "output_type": "stream",
     "text": [
      "300it [47:43, 10.77s/it]"
     ]
    },
    {
     "name": "stdout",
     "output_type": "stream",
     "text": [
      "0:\tlearn: 0.0550287\ttotal: 453us\tremaining: 17.7ms\n",
      "39:\tlearn: 0.0191468\ttotal: 7.88ms\tremaining: 202us\n",
      "0:\tlearn: 0.0551068\ttotal: 484us\tremaining: 18.9ms\n",
      "39:\tlearn: 0.0199388\ttotal: 9.08ms\tremaining: 0us\n",
      "0:\tlearn: 0.0658600\ttotal: 588us\tremaining: 23ms\n",
      "39:\tlearn: 0.0266217\ttotal: 13.6ms\tremaining: 349us\n",
      "0:\tlearn: 0.0656139\ttotal: 818us\tremaining: 31.9ms\n",
      "39:\tlearn: 0.0361989\ttotal: 20ms\tremaining: 0us\n",
      "0:\tlearn: 0.0643642\ttotal: 479us\tremaining: 18.7ms\n",
      "39:\tlearn: 0.0258744\ttotal: 28.9ms\tremaining: 0us\n",
      "0:\tlearn: 0.0634766\ttotal: 502us\tremaining: 19.6ms\n",
      "39:\tlearn: 0.0286760\ttotal: 11.2ms\tremaining: 0us\n",
      "0:\tlearn: 0.0627828\ttotal: 402us\tremaining: 15.7ms\n",
      "39:\tlearn: 0.0284686\ttotal: 17.9ms\tremaining: 0us\n",
      "0:\tlearn: 0.0617372\ttotal: 468us\tremaining: 18.3ms\n",
      "39:\tlearn: 0.0264110\ttotal: 8.49ms\tremaining: 0us\n",
      "0:\tlearn: 0.0831469\ttotal: 579us\tremaining: 22.6ms\n",
      "39:\tlearn: 0.0461649\ttotal: 8.44ms\tremaining: 0us\n",
      "0:\tlearn: 0.0849657\ttotal: 570us\tremaining: 22.2ms\n",
      "39:\tlearn: 0.0431122\ttotal: 8.65ms\tremaining: 0us\n",
      "0:\tlearn: 0.0833456\ttotal: 608us\tremaining: 23.7ms\n",
      "39:\tlearn: 0.0438803\ttotal: 14.3ms\tremaining: 0us\n",
      "0:\tlearn: 0.0813381\ttotal: 491us\tremaining: 19.2ms\n",
      "39:\tlearn: 0.0413100\ttotal: 8.36ms\tremaining: 0us\n",
      "0:\tlearn: 0.1051315\ttotal: 450us\tremaining: 17.6ms\n",
      "39:\tlearn: 0.0564852\ttotal: 9.63ms\tremaining: 0us\n"
     ]
    },
    {
     "name": "stderr",
     "output_type": "stream",
     "text": [
      "301it [47:54, 10.81s/it]"
     ]
    },
    {
     "name": "stdout",
     "output_type": "stream",
     "text": [
      "0:\tlearn: 0.0567151\ttotal: 501us\tremaining: 19.6ms\n",
      "39:\tlearn: 0.0262384\ttotal: 8.43ms\tremaining: 0us\n",
      "0:\tlearn: 0.0563259\ttotal: 1.05ms\tremaining: 40.9ms\n",
      "39:\tlearn: 0.0278831\ttotal: 9.51ms\tremaining: 0us\n",
      "0:\tlearn: 0.0560741\ttotal: 601us\tremaining: 23.5ms\n",
      "39:\tlearn: 0.0258271\ttotal: 23.8ms\tremaining: 0us\n",
      "0:\tlearn: 0.0557446\ttotal: 475us\tremaining: 18.6ms\n",
      "39:\tlearn: 0.0279220\ttotal: 10.7ms\tremaining: 0us\n",
      "0:\tlearn: 0.0553154\ttotal: 592us\tremaining: 23.1ms\n",
      "39:\tlearn: 0.0261314\ttotal: 9.29ms\tremaining: 0us\n",
      "0:\tlearn: 0.0559248\ttotal: 471us\tremaining: 18.4ms\n",
      "39:\tlearn: 0.0279193\ttotal: 8.85ms\tremaining: 0us\n",
      "0:\tlearn: 0.0581455\ttotal: 543us\tremaining: 21.2ms\n",
      "39:\tlearn: 0.0280151\ttotal: 15.4ms\tremaining: 0us\n",
      "0:\tlearn: 0.0655474\ttotal: 623us\tremaining: 24.3ms\n",
      "39:\tlearn: 0.0346368\ttotal: 27.7ms\tremaining: 0us\n",
      "0:\tlearn: 0.0700462\ttotal: 432us\tremaining: 16.9ms\n",
      "39:\tlearn: 0.0341234\ttotal: 15.2ms\tremaining: 0us\n",
      "0:\tlearn: 0.0688630\ttotal: 570us\tremaining: 22.3ms\n",
      "39:\tlearn: 0.0335169\ttotal: 9.76ms\tremaining: 0us\n",
      "0:\tlearn: 0.0688375\ttotal: 635us\tremaining: 24.8ms\n",
      "39:\tlearn: 0.0345683\ttotal: 35.6ms\tremaining: 0us\n",
      "0:\tlearn: 0.0670526\ttotal: 501us\tremaining: 19.6ms\n",
      "39:\tlearn: 0.0333065\ttotal: 16.2ms\tremaining: 0us\n",
      "0:\tlearn: 0.0669907\ttotal: 699us\tremaining: 27.3ms\n",
      "39:\tlearn: 0.0355903\ttotal: 11.9ms\tremaining: 0us\n"
     ]
    },
    {
     "name": "stderr",
     "output_type": "stream",
     "text": [
      "302it [48:04, 10.72s/it]"
     ]
    },
    {
     "name": "stdout",
     "output_type": "stream",
     "text": [
      "0:\tlearn: 0.0843763\ttotal: 481us\tremaining: 18.8ms\n",
      "39:\tlearn: 0.0318669\ttotal: 11ms\tremaining: 0us\n",
      "0:\tlearn: 0.0860616\ttotal: 500us\tremaining: 19.5ms\n",
      "39:\tlearn: 0.0341145\ttotal: 10.7ms\tremaining: 0us\n",
      "0:\tlearn: 0.0901186\ttotal: 642us\tremaining: 25ms\n",
      "39:\tlearn: 0.0357594\ttotal: 31.7ms\tremaining: 0us\n",
      "0:\tlearn: 0.0886769\ttotal: 843us\tremaining: 32.9ms\n",
      "39:\tlearn: 0.0353346\ttotal: 122ms\tremaining: 0us\n",
      "0:\tlearn: 0.0858802\ttotal: 555us\tremaining: 21.7ms\n",
      "39:\tlearn: 0.0407860\ttotal: 24.5ms\tremaining: 0us\n",
      "0:\tlearn: 0.0862611\ttotal: 529us\tremaining: 20.7ms\n",
      "39:\tlearn: 0.0399610\ttotal: 10.6ms\tremaining: 0us\n",
      "0:\tlearn: 0.0824577\ttotal: 513us\tremaining: 20ms\n",
      "39:\tlearn: 0.0387182\ttotal: 11ms\tremaining: 0us\n",
      "0:\tlearn: 0.0891652\ttotal: 666us\tremaining: 26ms\n",
      "39:\tlearn: 0.0431515\ttotal: 16.8ms\tremaining: 0us\n",
      "0:\tlearn: 0.0873197\ttotal: 490us\tremaining: 19.1ms\n",
      "39:\tlearn: 0.0417738\ttotal: 15.4ms\tremaining: 0us\n",
      "0:\tlearn: 0.0854199\ttotal: 597us\tremaining: 23.3ms\n",
      "39:\tlearn: 0.0446394\ttotal: 44.9ms\tremaining: 0us\n",
      "0:\tlearn: 0.0859884\ttotal: 697us\tremaining: 27.2ms\n",
      "39:\tlearn: 0.0446431\ttotal: 50.7ms\tremaining: 0us\n",
      "0:\tlearn: 0.0843216\ttotal: 520us\tremaining: 20.3ms\n",
      "39:\tlearn: 0.0444957\ttotal: 8.98ms\tremaining: 0us\n",
      "0:\tlearn: 0.0861579\ttotal: 613us\tremaining: 23.9ms\n",
      "39:\tlearn: 0.0478586\ttotal: 16.6ms\tremaining: 0us\n"
     ]
    },
    {
     "name": "stderr",
     "output_type": "stream",
     "text": [
      "303it [48:15, 10.68s/it]"
     ]
    },
    {
     "name": "stdout",
     "output_type": "stream",
     "text": [
      "0:\tlearn: 0.0348372\ttotal: 1.11ms\tremaining: 43.5ms\n",
      "39:\tlearn: 0.0116558\ttotal: 17ms\tremaining: 0us\n",
      "0:\tlearn: 0.0357634\ttotal: 512us\tremaining: 20ms\n",
      "39:\tlearn: 0.0129481\ttotal: 45.3ms\tremaining: 0us\n",
      "0:\tlearn: 0.0355770\ttotal: 488us\tremaining: 19.1ms\n",
      "39:\tlearn: 0.0127800\ttotal: 18.4ms\tremaining: 0us\n",
      "0:\tlearn: 0.0352481\ttotal: 457us\tremaining: 17.8ms\n",
      "39:\tlearn: 0.0131302\ttotal: 11.2ms\tremaining: 0us\n",
      "0:\tlearn: 0.0380156\ttotal: 464us\tremaining: 18.1ms\n",
      "39:\tlearn: 0.0159184\ttotal: 9.81ms\tremaining: 0us\n",
      "0:\tlearn: 0.0376706\ttotal: 500us\tremaining: 19.5ms\n",
      "39:\tlearn: 0.0169449\ttotal: 8.99ms\tremaining: 0us\n",
      "0:\tlearn: 0.0381542\ttotal: 454us\tremaining: 17.7ms\n",
      "39:\tlearn: 0.0167706\ttotal: 10ms\tremaining: 0us\n",
      "0:\tlearn: 0.0439134\ttotal: 559us\tremaining: 21.8ms\n",
      "39:\tlearn: 0.0194009\ttotal: 14.8ms\tremaining: 0us\n",
      "0:\tlearn: 0.0444369\ttotal: 520us\tremaining: 20.3ms\n",
      "39:\tlearn: 0.0176961\ttotal: 13.6ms\tremaining: 0us\n",
      "0:\tlearn: 0.0430376\ttotal: 740us\tremaining: 28.9ms\n",
      "39:\tlearn: 0.0186034\ttotal: 36.2ms\tremaining: 0us\n",
      "0:\tlearn: 0.0427429\ttotal: 798us\tremaining: 31.1ms\n",
      "39:\tlearn: 0.0183930\ttotal: 9.78ms\tremaining: 0us\n",
      "0:\tlearn: 0.0427987\ttotal: 562us\tremaining: 21.9ms\n",
      "39:\tlearn: 0.0212449\ttotal: 22.3ms\tremaining: 0us\n",
      "0:\tlearn: 0.0428506\ttotal: 574us\tremaining: 22.4ms\n",
      "39:\tlearn: 0.0198258\ttotal: 14.4ms\tremaining: 0us\n"
     ]
    },
    {
     "name": "stderr",
     "output_type": "stream",
     "text": [
      "304it [48:27, 11.10s/it]"
     ]
    },
    {
     "name": "stdout",
     "output_type": "stream",
     "text": [
      "0:\tlearn: 0.0269213\ttotal: 465us\tremaining: 18.2ms\n",
      "39:\tlearn: 0.0107098\ttotal: 14.1ms\tremaining: 0us\n",
      "0:\tlearn: 0.0279125\ttotal: 462us\tremaining: 18ms\n",
      "39:\tlearn: 0.0119704\ttotal: 24.3ms\tremaining: 0us\n",
      "0:\tlearn: 0.0272368\ttotal: 475us\tremaining: 18.6ms\n",
      "39:\tlearn: 0.0114401\ttotal: 9.15ms\tremaining: 0us\n",
      "0:\tlearn: 0.0270553\ttotal: 492us\tremaining: 19.2ms\n",
      "39:\tlearn: 0.0116116\ttotal: 14.3ms\tremaining: 0us\n",
      "0:\tlearn: 0.0288616\ttotal: 476us\tremaining: 18.6ms\n",
      "39:\tlearn: 0.0143966\ttotal: 37.1ms\tremaining: 0us\n",
      "0:\tlearn: 0.0278418\ttotal: 536us\tremaining: 20.9ms\n",
      "39:\tlearn: 0.0148039\ttotal: 30.3ms\tremaining: 0us\n",
      "0:\tlearn: 0.0315408\ttotal: 449us\tremaining: 17.5ms\n",
      "39:\tlearn: 0.0148964\ttotal: 9.43ms\tremaining: 0us\n",
      "0:\tlearn: 0.0338044\ttotal: 522us\tremaining: 20.4ms\n",
      "39:\tlearn: 0.0150806\ttotal: 22.6ms\tremaining: 0us\n",
      "0:\tlearn: 0.0338429\ttotal: 500us\tremaining: 19.5ms\n",
      "39:\tlearn: 0.0151153\ttotal: 22.6ms\tremaining: 0us\n",
      "0:\tlearn: 0.0335538\ttotal: 1.01ms\tremaining: 39.5ms\n",
      "39:\tlearn: 0.0142767\ttotal: 153ms\tremaining: 0us\n",
      "0:\tlearn: 0.0332662\ttotal: 557us\tremaining: 21.7ms\n",
      "39:\tlearn: 0.0148371\ttotal: 34.1ms\tremaining: 0us\n",
      "0:\tlearn: 0.0329598\ttotal: 618us\tremaining: 24.1ms\n",
      "39:\tlearn: 0.0155658\ttotal: 11.8ms\tremaining: 0us\n",
      "0:\tlearn: 0.0338379\ttotal: 551us\tremaining: 21.5ms\n",
      "39:\tlearn: 0.0156311\ttotal: 8.95ms\tremaining: 0us\n"
     ]
    },
    {
     "name": "stderr",
     "output_type": "stream",
     "text": [
      "305it [48:38, 11.01s/it]"
     ]
    },
    {
     "name": "stdout",
     "output_type": "stream",
     "text": [
      "0:\tlearn: 0.1524457\ttotal: 461us\tremaining: 18ms\n",
      "39:\tlearn: 0.0676092\ttotal: 45.5ms\tremaining: 0us\n",
      "0:\tlearn: 0.1564037\ttotal: 551us\tremaining: 21.5ms\n",
      "39:\tlearn: 0.1151292\ttotal: 19.5ms\tremaining: 0us\n",
      "0:\tlearn: 0.1590190\ttotal: 690us\tremaining: 26.9ms\n",
      "39:\tlearn: 0.0893345\ttotal: 9.85ms\tremaining: 0us\n",
      "0:\tlearn: 0.1548676\ttotal: 475us\tremaining: 18.5ms\n",
      "39:\tlearn: 0.0938226\ttotal: 10.2ms\tremaining: 0us\n",
      "0:\tlearn: 0.1545794\ttotal: 447us\tremaining: 17.5ms\n",
      "39:\tlearn: 0.0812216\ttotal: 13.7ms\tremaining: 0us\n",
      "0:\tlearn: 0.1533273\ttotal: 546us\tremaining: 21.3ms\n",
      "39:\tlearn: 0.0911228\ttotal: 13.9ms\tremaining: 0us\n",
      "0:\tlearn: 0.1493965\ttotal: 528us\tremaining: 20.6ms\n",
      "39:\tlearn: 0.1034056\ttotal: 14.2ms\tremaining: 0us\n",
      "0:\tlearn: 0.1451774\ttotal: 485us\tremaining: 18.9ms\n",
      "39:\tlearn: 0.0975937\ttotal: 8.84ms\tremaining: 0us\n",
      "0:\tlearn: 0.1470682\ttotal: 572us\tremaining: 22.3ms\n",
      "39:\tlearn: 0.0961391\ttotal: 55.3ms\tremaining: 0us\n",
      "0:\tlearn: 0.1470060\ttotal: 568us\tremaining: 22.2ms\n",
      "39:\tlearn: 0.0896764\ttotal: 14.8ms\tremaining: 0us\n",
      "0:\tlearn: 0.1438741\ttotal: 575us\tremaining: 22.5ms\n",
      "39:\tlearn: 0.0909662\ttotal: 9.67ms\tremaining: 0us\n",
      "0:\tlearn: 0.1449608\ttotal: 853us\tremaining: 33.3ms\n",
      "39:\tlearn: 0.0899724\ttotal: 9.16ms\tremaining: 0us\n",
      "0:\tlearn: 0.1428302\ttotal: 590us\tremaining: 23ms\n",
      "39:\tlearn: 0.0958680\ttotal: 49.6ms\tremaining: 0us\n"
     ]
    },
    {
     "name": "stderr",
     "output_type": "stream",
     "text": [
      "306it [48:49, 11.19s/it]"
     ]
    },
    {
     "name": "stdout",
     "output_type": "stream",
     "text": [
      "0:\tlearn: 0.0512274\ttotal: 492us\tremaining: 19.2ms\n",
      "39:\tlearn: 0.0212323\ttotal: 8.19ms\tremaining: 0us\n",
      "0:\tlearn: 0.0503433\ttotal: 513us\tremaining: 20ms\n",
      "39:\tlearn: 0.0235004\ttotal: 9.45ms\tremaining: 0us\n",
      "0:\tlearn: 0.0576079\ttotal: 513us\tremaining: 20ms\n",
      "39:\tlearn: 0.0274336\ttotal: 29.2ms\tremaining: 0us\n",
      "0:\tlearn: 0.0616744\ttotal: 728us\tremaining: 28.4ms\n",
      "39:\tlearn: 0.0268110\ttotal: 122ms\tremaining: 0us\n",
      "0:\tlearn: 0.0719578\ttotal: 495us\tremaining: 19.3ms\n",
      "39:\tlearn: 0.0321579\ttotal: 31.5ms\tremaining: 0us\n",
      "0:\tlearn: 0.0766338\ttotal: 558us\tremaining: 21.8ms\n",
      "39:\tlearn: 0.0289109\ttotal: 14.8ms\tremaining: 0us\n",
      "0:\tlearn: 0.0759264\ttotal: 503us\tremaining: 19.6ms\n",
      "39:\tlearn: 0.0324571\ttotal: 35.7ms\tremaining: 0us\n",
      "0:\tlearn: 0.0765212\ttotal: 591us\tremaining: 23.1ms\n",
      "39:\tlearn: 0.0311073\ttotal: 9.16ms\tremaining: 0us\n",
      "0:\tlearn: 0.0908412\ttotal: 470us\tremaining: 18.4ms\n",
      "39:\tlearn: 0.0418450\ttotal: 17.4ms\tremaining: 0us\n",
      "0:\tlearn: 0.0889920\ttotal: 524us\tremaining: 20.5ms\n",
      "39:\tlearn: 0.0409304\ttotal: 9.63ms\tremaining: 0us\n",
      "0:\tlearn: 0.0946744\ttotal: 578us\tremaining: 22.6ms\n",
      "39:\tlearn: 0.0420548\ttotal: 9.49ms\tremaining: 0us\n",
      "0:\tlearn: 0.0926009\ttotal: 567us\tremaining: 22.1ms\n",
      "39:\tlearn: 0.0427332\ttotal: 14.1ms\tremaining: 0us\n",
      "0:\tlearn: 0.0926324\ttotal: 674us\tremaining: 26.3ms\n",
      "39:\tlearn: 0.0401994\ttotal: 21ms\tremaining: 0us\n"
     ]
    },
    {
     "name": "stderr",
     "output_type": "stream",
     "text": [
      "307it [49:01, 11.40s/it]"
     ]
    },
    {
     "name": "stdout",
     "output_type": "stream",
     "text": [
      "0:\tlearn: 0.0602648\ttotal: 529us\tremaining: 20.7ms\n",
      "39:\tlearn: 0.0164527\ttotal: 15.4ms\tremaining: 0us\n",
      "0:\tlearn: 0.0619416\ttotal: 533us\tremaining: 20.8ms\n",
      "39:\tlearn: 0.0206164\ttotal: 15.8ms\tremaining: 0us\n",
      "0:\tlearn: 0.0615350\ttotal: 826us\tremaining: 32.2ms\n",
      "39:\tlearn: 0.0196240\ttotal: 12.9ms\tremaining: 0us\n",
      "0:\tlearn: 0.0613322\ttotal: 1.5ms\tremaining: 58.4ms\n",
      "39:\tlearn: 0.0200179\ttotal: 16.1ms\tremaining: 0us\n",
      "0:\tlearn: 0.0603495\ttotal: 508us\tremaining: 19.8ms\n",
      "39:\tlearn: 0.0213498\ttotal: 10.4ms\tremaining: 0us\n",
      "0:\tlearn: 0.0603987\ttotal: 549us\tremaining: 21.4ms\n",
      "39:\tlearn: 0.0235797\ttotal: 11.1ms\tremaining: 0us\n",
      "0:\tlearn: 0.0593917\ttotal: 1.47ms\tremaining: 57.3ms\n",
      "39:\tlearn: 0.0213245\ttotal: 156ms\tremaining: 0us\n",
      "0:\tlearn: 0.0578725\ttotal: 585us\tremaining: 22.8ms\n",
      "39:\tlearn: 0.0213794\ttotal: 13.3ms\tremaining: 0us\n",
      "0:\tlearn: 0.0577611\ttotal: 476us\tremaining: 18.6ms\n",
      "39:\tlearn: 0.0225664\ttotal: 11.8ms\tremaining: 0us\n",
      "0:\tlearn: 0.0566276\ttotal: 585us\tremaining: 22.8ms\n",
      "39:\tlearn: 0.0234388\ttotal: 16ms\tremaining: 0us\n",
      "0:\tlearn: 0.0557428\ttotal: 616us\tremaining: 24.1ms\n",
      "39:\tlearn: 0.0235977\ttotal: 16.3ms\tremaining: 0us\n",
      "0:\tlearn: 0.0559351\ttotal: 636us\tremaining: 24.8ms\n",
      "39:\tlearn: 0.0240674\ttotal: 15.2ms\tremaining: 0us\n",
      "0:\tlearn: 0.0560223\ttotal: 623us\tremaining: 24.3ms\n",
      "39:\tlearn: 0.0231235\ttotal: 10.2ms\tremaining: 0us\n"
     ]
    },
    {
     "name": "stderr",
     "output_type": "stream",
     "text": [
      "308it [49:13, 11.38s/it]"
     ]
    },
    {
     "name": "stdout",
     "output_type": "stream",
     "text": [
      "0:\tlearn: 0.0892825\ttotal: 406us\tremaining: 15.8ms\n",
      "39:\tlearn: 0.0369257\ttotal: 8.18ms\tremaining: 209us\n",
      "0:\tlearn: 0.0879965\ttotal: 509us\tremaining: 19.9ms\n",
      "39:\tlearn: 0.0382206\ttotal: 9.45ms\tremaining: 0us\n",
      "0:\tlearn: 0.0882165\ttotal: 677us\tremaining: 26.4ms\n",
      "39:\tlearn: 0.0404936\ttotal: 52ms\tremaining: 0us\n",
      "0:\tlearn: 0.0865114\ttotal: 496us\tremaining: 19.4ms\n",
      "39:\tlearn: 0.0391839\ttotal: 9.63ms\tremaining: 0us\n",
      "0:\tlearn: 0.0871673\ttotal: 487us\tremaining: 19ms\n",
      "39:\tlearn: 0.0408067\ttotal: 14ms\tremaining: 0us\n",
      "0:\tlearn: 0.0855411\ttotal: 456us\tremaining: 17.8ms\n",
      "39:\tlearn: 0.0403108\ttotal: 42.6ms\tremaining: 0us\n",
      "0:\tlearn: 0.0863280\ttotal: 563us\tremaining: 22ms\n",
      "39:\tlearn: 0.0399328\ttotal: 14.5ms\tremaining: 0us\n",
      "0:\tlearn: 0.0888453\ttotal: 529us\tremaining: 20.7ms\n",
      "39:\tlearn: 0.0391261\ttotal: 9.36ms\tremaining: 0us\n",
      "0:\tlearn: 0.0890915\ttotal: 476us\tremaining: 18.6ms\n",
      "39:\tlearn: 0.0421856\ttotal: 40.9ms\tremaining: 0us\n",
      "0:\tlearn: 0.0903973\ttotal: 498us\tremaining: 19.4ms\n",
      "39:\tlearn: 0.0397383\ttotal: 12.8ms\tremaining: 0us\n",
      "0:\tlearn: 0.0893326\ttotal: 592us\tremaining: 23.1ms\n",
      "39:\tlearn: 0.0400908\ttotal: 15ms\tremaining: 0us\n",
      "0:\tlearn: 0.0876448\ttotal: 475us\tremaining: 18.5ms\n",
      "39:\tlearn: 0.0402708\ttotal: 11.6ms\tremaining: 0us\n",
      "0:\tlearn: 0.0870003\ttotal: 463us\tremaining: 18.1ms\n",
      "39:\tlearn: 0.0409496\ttotal: 8.62ms\tremaining: 0us\n"
     ]
    },
    {
     "name": "stderr",
     "output_type": "stream",
     "text": [
      "309it [49:24, 11.50s/it]"
     ]
    },
    {
     "name": "stdout",
     "output_type": "stream",
     "text": [
      "0:\tlearn: 0.0646738\ttotal: 446us\tremaining: 17.4ms\n",
      "39:\tlearn: 0.0258297\ttotal: 7.92ms\tremaining: 0us\n",
      "0:\tlearn: 0.0634610\ttotal: 473us\tremaining: 18.4ms\n",
      "39:\tlearn: 0.0251993\ttotal: 8.2ms\tremaining: 0us\n",
      "0:\tlearn: 0.0701046\ttotal: 478us\tremaining: 18.7ms\n",
      "39:\tlearn: 0.0307533\ttotal: 11ms\tremaining: 0us\n",
      "0:\tlearn: 0.0684974\ttotal: 456us\tremaining: 17.8ms\n",
      "39:\tlearn: 0.0299226\ttotal: 34.5ms\tremaining: 0us\n",
      "0:\tlearn: 0.0701410\ttotal: 500us\tremaining: 19.5ms\n",
      "39:\tlearn: 0.0298117\ttotal: 28.7ms\tremaining: 0us\n",
      "0:\tlearn: 0.0739985\ttotal: 470us\tremaining: 18.3ms\n",
      "39:\tlearn: 0.0309568\ttotal: 13.3ms\tremaining: 0us\n",
      "0:\tlearn: 0.0817665\ttotal: 477us\tremaining: 18.6ms\n",
      "39:\tlearn: 0.0348876\ttotal: 14.2ms\tremaining: 0us\n",
      "0:\tlearn: 0.0789380\ttotal: 475us\tremaining: 18.5ms\n",
      "39:\tlearn: 0.0348670\ttotal: 8.88ms\tremaining: 0us\n",
      "0:\tlearn: 0.0852654\ttotal: 501us\tremaining: 19.5ms\n",
      "39:\tlearn: 0.0374632\ttotal: 13.7ms\tremaining: 350us\n",
      "0:\tlearn: 0.0915294\ttotal: 513us\tremaining: 20ms\n",
      "39:\tlearn: 0.0374815\ttotal: 55.1ms\tremaining: 0us\n",
      "0:\tlearn: 0.0882958\ttotal: 471us\tremaining: 18.4ms\n",
      "39:\tlearn: 0.0377565\ttotal: 12.9ms\tremaining: 0us\n",
      "0:\tlearn: 0.0874072\ttotal: 460us\tremaining: 18ms\n",
      "39:\tlearn: 0.0391262\ttotal: 8.75ms\tremaining: 0us\n",
      "0:\tlearn: 0.0864953\ttotal: 498us\tremaining: 19.5ms\n",
      "39:\tlearn: 0.0415126\ttotal: 9.48ms\tremaining: 0us\n"
     ]
    },
    {
     "name": "stderr",
     "output_type": "stream",
     "text": [
      "310it [49:34, 11.11s/it]"
     ]
    },
    {
     "name": "stdout",
     "output_type": "stream",
     "text": [
      "0:\tlearn: 0.0981073\ttotal: 1.05ms\tremaining: 41ms\n",
      "39:\tlearn: 0.0383591\ttotal: 14.1ms\tremaining: 0us\n",
      "0:\tlearn: 0.1240131\ttotal: 505us\tremaining: 19.7ms\n",
      "39:\tlearn: 0.0547163\ttotal: 8.45ms\tremaining: 0us\n",
      "0:\tlearn: 0.1206997\ttotal: 465us\tremaining: 18.1ms\n",
      "39:\tlearn: 0.0556580\ttotal: 8.63ms\tremaining: 0us\n",
      "0:\tlearn: 0.1166404\ttotal: 531us\tremaining: 20.7ms\n",
      "39:\tlearn: 0.0527341\ttotal: 21.1ms\tremaining: 0us\n",
      "0:\tlearn: 0.1182381\ttotal: 470us\tremaining: 18.4ms\n",
      "39:\tlearn: 0.0578363\ttotal: 9.13ms\tremaining: 0us\n",
      "0:\tlearn: 0.1193612\ttotal: 494us\tremaining: 19.3ms\n",
      "39:\tlearn: 0.0530317\ttotal: 18.3ms\tremaining: 0us\n",
      "0:\tlearn: 0.1151747\ttotal: 502us\tremaining: 19.6ms\n",
      "39:\tlearn: 0.0517509\ttotal: 14.5ms\tremaining: 0us\n",
      "0:\tlearn: 0.1340021\ttotal: 966us\tremaining: 37.7ms\n",
      "39:\tlearn: 0.0648117\ttotal: 14.7ms\tremaining: 0us\n",
      "0:\tlearn: 0.1309394\ttotal: 496us\tremaining: 19.3ms\n",
      "39:\tlearn: 0.0646062\ttotal: 8.89ms\tremaining: 0us\n",
      "0:\tlearn: 0.1329682\ttotal: 538us\tremaining: 21ms\n",
      "39:\tlearn: 0.0614268\ttotal: 27.7ms\tremaining: 0us\n",
      "0:\tlearn: 0.1286114\ttotal: 458us\tremaining: 17.9ms\n",
      "39:\tlearn: 0.0590354\ttotal: 8.89ms\tremaining: 0us\n",
      "0:\tlearn: 0.1307340\ttotal: 494us\tremaining: 19.3ms\n",
      "39:\tlearn: 0.0628636\ttotal: 32.1ms\tremaining: 0us\n",
      "0:\tlearn: 0.1284840\ttotal: 476us\tremaining: 18.6ms\n",
      "39:\tlearn: 0.0622281\ttotal: 8.88ms\tremaining: 0us\n"
     ]
    },
    {
     "name": "stderr",
     "output_type": "stream",
     "text": [
      "311it [49:46, 11.37s/it]"
     ]
    },
    {
     "name": "stdout",
     "output_type": "stream",
     "text": [
      "0:\tlearn: 0.0935619\ttotal: 427us\tremaining: 16.7ms\n",
      "39:\tlearn: 0.0342166\ttotal: 13.6ms\tremaining: 0us\n",
      "0:\tlearn: 0.0889655\ttotal: 524us\tremaining: 20.5ms\n",
      "39:\tlearn: 0.0310965\ttotal: 7.51ms\tremaining: 0us\n",
      "0:\tlearn: 0.0864109\ttotal: 418us\tremaining: 16.3ms\n",
      "39:\tlearn: 0.0307072\ttotal: 13.2ms\tremaining: 0us\n",
      "0:\tlearn: 0.1038092\ttotal: 474us\tremaining: 18.5ms\n",
      "39:\tlearn: 0.0320653\ttotal: 8.84ms\tremaining: 0us\n",
      "0:\tlearn: 0.1030096\ttotal: 417us\tremaining: 16.3ms\n",
      "39:\tlearn: 0.0322317\ttotal: 7.72ms\tremaining: 0us\n",
      "0:\tlearn: 0.0980699\ttotal: 483us\tremaining: 18.8ms\n",
      "39:\tlearn: 0.0333182\ttotal: 13.1ms\tremaining: 0us\n",
      "0:\tlearn: 0.0962485\ttotal: 452us\tremaining: 17.6ms\n",
      "39:\tlearn: 0.0322370\ttotal: 8.73ms\tremaining: 0us\n",
      "0:\tlearn: 0.1152015\ttotal: 428us\tremaining: 16.7ms\n",
      "39:\tlearn: 0.0434292\ttotal: 7.84ms\tremaining: 0us\n",
      "0:\tlearn: 0.1306471\ttotal: 457us\tremaining: 17.9ms\n",
      "39:\tlearn: 0.0535334\ttotal: 7.67ms\tremaining: 0us\n",
      "0:\tlearn: 0.1474180\ttotal: 438us\tremaining: 17.1ms\n",
      "39:\tlearn: 0.0548737\ttotal: 25.1ms\tremaining: 0us\n",
      "0:\tlearn: 0.1419816\ttotal: 458us\tremaining: 17.9ms\n",
      "39:\tlearn: 0.0567711\ttotal: 8.54ms\tremaining: 0us\n"
     ]
    },
    {
     "name": "stderr",
     "output_type": "stream",
     "text": [
      "312it [49:57, 11.18s/it]"
     ]
    },
    {
     "name": "stdout",
     "output_type": "stream",
     "text": [
      "0:\tlearn: 0.0375318\ttotal: 553us\tremaining: 21.6ms\n",
      "39:\tlearn: 0.0115010\ttotal: 14.3ms\tremaining: 0us\n",
      "0:\tlearn: 0.0372929\ttotal: 506us\tremaining: 19.8ms\n",
      "39:\tlearn: 0.0129918\ttotal: 48.1ms\tremaining: 0us\n",
      "0:\tlearn: 0.0374205\ttotal: 513us\tremaining: 20ms\n",
      "39:\tlearn: 0.0124200\ttotal: 13.9ms\tremaining: 0us\n",
      "0:\tlearn: 0.0366287\ttotal: 525us\tremaining: 20.5ms\n",
      "39:\tlearn: 0.0121096\ttotal: 8.91ms\tremaining: 0us\n",
      "0:\tlearn: 0.0380077\ttotal: 469us\tremaining: 18.3ms\n",
      "39:\tlearn: 0.0145583\ttotal: 8.77ms\tremaining: 0us\n",
      "0:\tlearn: 0.0371452\ttotal: 574us\tremaining: 22.4ms\n",
      "39:\tlearn: 0.0138568\ttotal: 11ms\tremaining: 0us\n",
      "0:\tlearn: 0.0395194\ttotal: 541us\tremaining: 21.1ms\n",
      "39:\tlearn: 0.0140946\ttotal: 11.9ms\tremaining: 0us\n",
      "0:\tlearn: 0.0413460\ttotal: 578us\tremaining: 22.6ms\n",
      "39:\tlearn: 0.0154264\ttotal: 10.4ms\tremaining: 0us\n",
      "0:\tlearn: 0.0412466\ttotal: 569us\tremaining: 22.2ms\n",
      "39:\tlearn: 0.0158410\ttotal: 11.1ms\tremaining: 0us\n",
      "0:\tlearn: 0.0406474\ttotal: 599us\tremaining: 23.4ms\n",
      "39:\tlearn: 0.0146140\ttotal: 20.3ms\tremaining: 0us\n",
      "0:\tlearn: 0.0403728\ttotal: 689us\tremaining: 26.9ms\n",
      "39:\tlearn: 0.0145178\ttotal: 10.5ms\tremaining: 0us\n",
      "0:\tlearn: 0.0398355\ttotal: 673us\tremaining: 26.3ms\n",
      "39:\tlearn: 0.0164061\ttotal: 16.5ms\tremaining: 0us\n",
      "0:\tlearn: 0.0416039\ttotal: 638us\tremaining: 24.9ms\n",
      "39:\tlearn: 0.0163115\ttotal: 10.4ms\tremaining: 0us\n"
     ]
    },
    {
     "name": "stderr",
     "output_type": "stream",
     "text": [
      "313it [50:08, 10.98s/it]"
     ]
    },
    {
     "name": "stdout",
     "output_type": "stream",
     "text": [
      "0:\tlearn: 0.0288539\ttotal: 574us\tremaining: 22.4ms\n",
      "39:\tlearn: 0.0090326\ttotal: 15.2ms\tremaining: 0us\n",
      "0:\tlearn: 0.0289268\ttotal: 514us\tremaining: 20.1ms\n",
      "39:\tlearn: 0.0097509\ttotal: 10.7ms\tremaining: 0us\n",
      "0:\tlearn: 0.0286946\ttotal: 565us\tremaining: 22ms\n",
      "39:\tlearn: 0.0094616\ttotal: 10.4ms\tremaining: 0us\n",
      "0:\tlearn: 0.0284501\ttotal: 579us\tremaining: 22.6ms\n",
      "39:\tlearn: 0.0099246\ttotal: 10.7ms\tremaining: 0us\n",
      "0:\tlearn: 0.0300275\ttotal: 517us\tremaining: 20.2ms\n",
      "39:\tlearn: 0.0111772\ttotal: 10ms\tremaining: 0us\n",
      "0:\tlearn: 0.0299560\ttotal: 501us\tremaining: 19.5ms\n",
      "39:\tlearn: 0.0115182\ttotal: 10.4ms\tremaining: 0us\n",
      "0:\tlearn: 0.0322994\ttotal: 521us\tremaining: 20.3ms\n",
      "39:\tlearn: 0.0135777\ttotal: 11.5ms\tremaining: 0us\n",
      "0:\tlearn: 0.0339267\ttotal: 597us\tremaining: 23.3ms\n",
      "39:\tlearn: 0.0133591\ttotal: 10.3ms\tremaining: 0us\n",
      "0:\tlearn: 0.0343534\ttotal: 492us\tremaining: 19.2ms\n",
      "39:\tlearn: 0.0138311\ttotal: 9.07ms\tremaining: 0us\n",
      "0:\tlearn: 0.0336114\ttotal: 930us\tremaining: 36.3ms\n",
      "39:\tlearn: 0.0133804\ttotal: 76.3ms\tremaining: 0us\n",
      "0:\tlearn: 0.0332727\ttotal: 557us\tremaining: 21.7ms\n",
      "39:\tlearn: 0.0132196\ttotal: 19.6ms\tremaining: 0us\n",
      "0:\tlearn: 0.0331073\ttotal: 587us\tremaining: 22.9ms\n",
      "39:\tlearn: 0.0142896\ttotal: 10.1ms\tremaining: 0us\n",
      "0:\tlearn: 0.0331743\ttotal: 562us\tremaining: 21.9ms\n",
      "39:\tlearn: 0.0125848\ttotal: 28ms\tremaining: 0us\n"
     ]
    },
    {
     "name": "stderr",
     "output_type": "stream",
     "text": [
      "314it [50:18, 10.89s/it]"
     ]
    },
    {
     "name": "stdout",
     "output_type": "stream",
     "text": [
      "0:\tlearn: 0.0491027\ttotal: 496us\tremaining: 19.4ms\n",
      "39:\tlearn: 0.0224577\ttotal: 8.2ms\tremaining: 0us\n",
      "0:\tlearn: 0.0481207\ttotal: 510us\tremaining: 19.9ms\n",
      "39:\tlearn: 0.0250183\ttotal: 42.2ms\tremaining: 0us\n",
      "0:\tlearn: 0.0475155\ttotal: 451us\tremaining: 17.6ms\n",
      "39:\tlearn: 0.0238909\ttotal: 39.9ms\tremaining: 0us\n",
      "0:\tlearn: 0.0468810\ttotal: 666us\tremaining: 26ms\n",
      "39:\tlearn: 0.0235590\ttotal: 9.28ms\tremaining: 0us\n",
      "0:\tlearn: 0.0462761\ttotal: 1.06ms\tremaining: 41.4ms\n",
      "39:\tlearn: 0.0230424\ttotal: 157ms\tremaining: 0us\n",
      "0:\tlearn: 0.0448373\ttotal: 462us\tremaining: 18.1ms\n",
      "39:\tlearn: 0.0232942\ttotal: 54.1ms\tremaining: 0us\n",
      "0:\tlearn: 0.0448127\ttotal: 490us\tremaining: 19.1ms\n",
      "39:\tlearn: 0.0230116\ttotal: 8.9ms\tremaining: 0us\n",
      "0:\tlearn: 0.0492468\ttotal: 494us\tremaining: 19.3ms\n",
      "39:\tlearn: 0.0229136\ttotal: 20.4ms\tremaining: 0us\n",
      "0:\tlearn: 0.0521738\ttotal: 489us\tremaining: 19.1ms\n",
      "39:\tlearn: 0.0227896\ttotal: 9.19ms\tremaining: 0us\n",
      "0:\tlearn: 0.0511797\ttotal: 478us\tremaining: 18.6ms\n",
      "39:\tlearn: 0.0220717\ttotal: 9.3ms\tremaining: 0us\n",
      "0:\tlearn: 0.0511430\ttotal: 490us\tremaining: 19.1ms\n",
      "39:\tlearn: 0.0249352\ttotal: 8.94ms\tremaining: 0us\n",
      "0:\tlearn: 0.0521148\ttotal: 607us\tremaining: 23.7ms\n",
      "39:\tlearn: 0.0245180\ttotal: 14.7ms\tremaining: 0us\n",
      "0:\tlearn: 0.0520636\ttotal: 465us\tremaining: 18.1ms\n",
      "39:\tlearn: 0.0274820\ttotal: 14.8ms\tremaining: 0us\n"
     ]
    },
    {
     "name": "stderr",
     "output_type": "stream",
     "text": [
      "315it [50:30, 11.09s/it]"
     ]
    },
    {
     "name": "stdout",
     "output_type": "stream",
     "text": [
      "0:\tlearn: 0.1415670\ttotal: 441us\tremaining: 17.2ms\n",
      "39:\tlearn: 0.0449315\ttotal: 19ms\tremaining: 0us\n",
      "0:\tlearn: 0.1350009\ttotal: 449us\tremaining: 17.5ms\n",
      "39:\tlearn: 0.0490093\ttotal: 52.1ms\tremaining: 0us\n",
      "0:\tlearn: 0.1327250\ttotal: 528us\tremaining: 20.6ms\n",
      "39:\tlearn: 0.0473928\ttotal: 14.1ms\tremaining: 0us\n",
      "0:\tlearn: 0.1302746\ttotal: 496us\tremaining: 19.4ms\n",
      "39:\tlearn: 0.0499379\ttotal: 9.08ms\tremaining: 0us\n",
      "0:\tlearn: 0.1281875\ttotal: 484us\tremaining: 18.9ms\n",
      "39:\tlearn: 0.0451570\ttotal: 14.5ms\tremaining: 0us\n",
      "0:\tlearn: 0.1301315\ttotal: 743us\tremaining: 29ms\n",
      "39:\tlearn: 0.0513189\ttotal: 10.1ms\tremaining: 0us\n",
      "0:\tlearn: 0.1324367\ttotal: 449us\tremaining: 17.5ms\n",
      "39:\tlearn: 0.0644631\ttotal: 14ms\tremaining: 0us\n",
      "0:\tlearn: 0.1391506\ttotal: 480us\tremaining: 18.8ms\n",
      "39:\tlearn: 0.0667888\ttotal: 9.33ms\tremaining: 0us\n",
      "0:\tlearn: 0.1369137\ttotal: 450us\tremaining: 17.6ms\n",
      "39:\tlearn: 0.0724338\ttotal: 8.73ms\tremaining: 0us\n",
      "0:\tlearn: 0.1351034\ttotal: 430us\tremaining: 16.8ms\n",
      "39:\tlearn: 0.0708589\ttotal: 13.5ms\tremaining: 0us\n",
      "0:\tlearn: 0.1357312\ttotal: 486us\tremaining: 19ms\n",
      "39:\tlearn: 0.0727758\ttotal: 14ms\tremaining: 0us\n",
      "0:\tlearn: 0.1369594\ttotal: 482us\tremaining: 18.8ms\n",
      "39:\tlearn: 0.0732663\ttotal: 14.2ms\tremaining: 0us\n"
     ]
    },
    {
     "name": "stderr",
     "output_type": "stream",
     "text": [
      "316it [50:39, 10.58s/it]"
     ]
    },
    {
     "name": "stdout",
     "output_type": "stream",
     "text": [
      "0:\tlearn: 0.0923973\ttotal: 909us\tremaining: 35.5ms\n",
      "39:\tlearn: 0.0413687\ttotal: 106ms\tremaining: 0us\n",
      "0:\tlearn: 0.1257447\ttotal: 1.26ms\tremaining: 49.2ms\n",
      "39:\tlearn: 0.0711977\ttotal: 91.3ms\tremaining: 0us\n",
      "0:\tlearn: 0.1259760\ttotal: 450us\tremaining: 17.6ms\n",
      "39:\tlearn: 0.0625333\ttotal: 8.66ms\tremaining: 0us\n",
      "0:\tlearn: 0.1281717\ttotal: 463us\tremaining: 18.1ms\n",
      "39:\tlearn: 0.0650047\ttotal: 10.6ms\tremaining: 0us\n",
      "0:\tlearn: 0.1286692\ttotal: 473us\tremaining: 18.5ms\n",
      "39:\tlearn: 0.0677314\ttotal: 14.2ms\tremaining: 0us\n",
      "0:\tlearn: 0.1249000\ttotal: 471us\tremaining: 18.4ms\n",
      "39:\tlearn: 0.0634914\ttotal: 20.4ms\tremaining: 0us\n",
      "0:\tlearn: 0.1257142\ttotal: 463us\tremaining: 18.1ms\n",
      "39:\tlearn: 0.0638089\ttotal: 10.9ms\tremaining: 0us\n",
      "0:\tlearn: 0.1244546\ttotal: 497us\tremaining: 19.4ms\n",
      "39:\tlearn: 0.0654483\ttotal: 14.3ms\tremaining: 0us\n",
      "0:\tlearn: 0.1267398\ttotal: 574us\tremaining: 22.4ms\n",
      "39:\tlearn: 0.0705788\ttotal: 14.4ms\tremaining: 0us\n",
      "0:\tlearn: 0.1253943\ttotal: 843us\tremaining: 32.9ms\n",
      "39:\tlearn: 0.0644508\ttotal: 66.5ms\tremaining: 0us\n",
      "0:\tlearn: 0.1252238\ttotal: 607us\tremaining: 23.7ms\n",
      "39:\tlearn: 0.0683384\ttotal: 9.39ms\tremaining: 0us\n",
      "0:\tlearn: 0.1236025\ttotal: 525us\tremaining: 20.5ms\n",
      "39:\tlearn: 0.0641919\ttotal: 8.92ms\tremaining: 0us\n",
      "0:\tlearn: 0.1248604\ttotal: 561us\tremaining: 21.9ms\n",
      "39:\tlearn: 0.0595866\ttotal: 14.9ms\tremaining: 0us\n"
     ]
    },
    {
     "name": "stderr",
     "output_type": "stream",
     "text": [
      "317it [50:50, 10.63s/it]"
     ]
    },
    {
     "name": "stdout",
     "output_type": "stream",
     "text": [
      "0:\tlearn: 0.1053491\ttotal: 433us\tremaining: 16.9ms\n",
      "39:\tlearn: 0.0403562\ttotal: 8.73ms\tremaining: 0us\n",
      "0:\tlearn: 0.1079574\ttotal: 517us\tremaining: 20.2ms\n",
      "39:\tlearn: 0.0495995\ttotal: 9.46ms\tremaining: 0us\n",
      "0:\tlearn: 0.1085581\ttotal: 447us\tremaining: 17.5ms\n",
      "39:\tlearn: 0.0478013\ttotal: 119ms\tremaining: 0us\n",
      "0:\tlearn: 0.1076384\ttotal: 474us\tremaining: 18.5ms\n",
      "39:\tlearn: 0.0488226\ttotal: 17.3ms\tremaining: 0us\n",
      "0:\tlearn: 0.1069157\ttotal: 495us\tremaining: 19.3ms\n",
      "39:\tlearn: 0.0521633\ttotal: 10.1ms\tremaining: 0us\n",
      "0:\tlearn: 0.1090410\ttotal: 683us\tremaining: 26.6ms\n",
      "39:\tlearn: 0.0483716\ttotal: 23.2ms\tremaining: 0us\n",
      "0:\tlearn: 0.1057199\ttotal: 489us\tremaining: 19.1ms\n",
      "39:\tlearn: 0.0461267\ttotal: 9.06ms\tremaining: 0us\n",
      "0:\tlearn: 0.1060797\ttotal: 469us\tremaining: 18.3ms\n",
      "39:\tlearn: 0.0443467\ttotal: 20ms\tremaining: 0us\n",
      "0:\tlearn: 0.1089387\ttotal: 469us\tremaining: 18.3ms\n",
      "39:\tlearn: 0.0523535\ttotal: 14.3ms\tremaining: 0us\n",
      "0:\tlearn: 0.1091365\ttotal: 467us\tremaining: 18.3ms\n",
      "39:\tlearn: 0.0529195\ttotal: 15.3ms\tremaining: 0us\n",
      "0:\tlearn: 0.1075868\ttotal: 581us\tremaining: 22.7ms\n",
      "39:\tlearn: 0.0494381\ttotal: 9.19ms\tremaining: 0us\n",
      "0:\tlearn: 0.1079641\ttotal: 546us\tremaining: 21.3ms\n",
      "39:\tlearn: 0.0528521\ttotal: 9.87ms\tremaining: 0us\n",
      "0:\tlearn: 0.1043753\ttotal: 882us\tremaining: 34.4ms\n",
      "39:\tlearn: 0.0513729\ttotal: 50.7ms\tremaining: 0us\n"
     ]
    },
    {
     "name": "stderr",
     "output_type": "stream",
     "text": [
      "321it [51:01,  8.24s/it]"
     ]
    },
    {
     "name": "stdout",
     "output_type": "stream",
     "text": [
      "0:\tlearn: 0.0755206\ttotal: 462us\tremaining: 18ms\n",
      "39:\tlearn: 0.0338715\ttotal: 7.89ms\tremaining: 0us\n",
      "0:\tlearn: 0.0756139\ttotal: 520us\tremaining: 20.3ms\n",
      "39:\tlearn: 0.0406920\ttotal: 23.3ms\tremaining: 0us\n",
      "0:\tlearn: 0.0746239\ttotal: 547us\tremaining: 21.3ms\n",
      "39:\tlearn: 0.0403038\ttotal: 10.9ms\tremaining: 0us\n",
      "0:\tlearn: 0.0734220\ttotal: 517us\tremaining: 20.2ms\n",
      "39:\tlearn: 0.0435458\ttotal: 11ms\tremaining: 0us\n",
      "0:\tlearn: 0.0722514\ttotal: 484us\tremaining: 18.9ms\n",
      "39:\tlearn: 0.0440866\ttotal: 16.2ms\tremaining: 0us\n",
      "0:\tlearn: 0.0729139\ttotal: 521us\tremaining: 20.3ms\n",
      "39:\tlearn: 0.0412772\ttotal: 12.4ms\tremaining: 0us\n",
      "0:\tlearn: 0.0718320\ttotal: 618us\tremaining: 24.1ms\n",
      "39:\tlearn: 0.0426449\ttotal: 11.1ms\tremaining: 0us\n",
      "0:\tlearn: 0.0701697\ttotal: 632us\tremaining: 24.7ms\n",
      "39:\tlearn: 0.0413738\ttotal: 31.5ms\tremaining: 0us\n",
      "0:\tlearn: 0.0714773\ttotal: 628us\tremaining: 24.5ms\n",
      "39:\tlearn: 0.0404667\ttotal: 11.4ms\tremaining: 0us\n",
      "0:\tlearn: 0.0715767\ttotal: 642us\tremaining: 25.1ms\n",
      "39:\tlearn: 0.0393572\ttotal: 24.8ms\tremaining: 0us\n",
      "0:\tlearn: 0.0760994\ttotal: 572us\tremaining: 22.3ms\n",
      "39:\tlearn: 0.0424577\ttotal: 9.89ms\tremaining: 0us\n",
      "0:\tlearn: 0.0744825\ttotal: 664us\tremaining: 25.9ms\n",
      "39:\tlearn: 0.0436494\ttotal: 17.7ms\tremaining: 0us\n",
      "0:\tlearn: 0.0786235\ttotal: 491us\tremaining: 19.2ms\n",
      "39:\tlearn: 0.0443215\ttotal: 14.7ms\tremaining: 0us\n"
     ]
    },
    {
     "name": "stderr",
     "output_type": "stream",
     "text": [
      "322it [51:11,  8.90s/it]"
     ]
    },
    {
     "name": "stdout",
     "output_type": "stream",
     "text": [
      "0:\tlearn: 0.1129916\ttotal: 511us\tremaining: 20ms\n",
      "39:\tlearn: 0.0519443\ttotal: 14.7ms\tremaining: 0us\n",
      "0:\tlearn: 0.1122934\ttotal: 481us\tremaining: 18.8ms\n",
      "39:\tlearn: 0.0532821\ttotal: 9.19ms\tremaining: 0us\n",
      "0:\tlearn: 0.1343341\ttotal: 448us\tremaining: 17.5ms\n",
      "39:\tlearn: 0.0720445\ttotal: 28.9ms\tremaining: 0us\n",
      "0:\tlearn: 0.1313766\ttotal: 507us\tremaining: 19.8ms\n",
      "39:\tlearn: 0.0615454\ttotal: 10.9ms\tremaining: 0us\n",
      "0:\tlearn: 0.1382569\ttotal: 540us\tremaining: 21.1ms\n",
      "39:\tlearn: 0.0709939\ttotal: 14.8ms\tremaining: 379us\n",
      "0:\tlearn: 0.1342344\ttotal: 504us\tremaining: 19.7ms\n",
      "39:\tlearn: 0.0752129\ttotal: 50.4ms\tremaining: 0us\n",
      "0:\tlearn: 0.1358392\ttotal: 554us\tremaining: 21.6ms\n",
      "39:\tlearn: 0.0751571\ttotal: 8.74ms\tremaining: 0us\n",
      "0:\tlearn: 0.1353002\ttotal: 486us\tremaining: 19ms\n",
      "39:\tlearn: 0.0727986\ttotal: 9.38ms\tremaining: 0us\n",
      "0:\tlearn: 0.1338589\ttotal: 503us\tremaining: 19.6ms\n",
      "39:\tlearn: 0.0760229\ttotal: 29.3ms\tremaining: 0us\n",
      "0:\tlearn: 0.1338048\ttotal: 753us\tremaining: 29.4ms\n",
      "39:\tlearn: 0.0742685\ttotal: 9.25ms\tremaining: 0us\n",
      "0:\tlearn: 0.1359961\ttotal: 582us\tremaining: 22.7ms\n",
      "39:\tlearn: 0.0762611\ttotal: 60.8ms\tremaining: 0us\n",
      "0:\tlearn: 0.1355297\ttotal: 526us\tremaining: 20.5ms\n",
      "39:\tlearn: 0.0740000\ttotal: 9.2ms\tremaining: 0us\n",
      "0:\tlearn: 0.1365176\ttotal: 613us\tremaining: 23.9ms\n",
      "39:\tlearn: 0.0845975\ttotal: 10.5ms\tremaining: 0us\n"
     ]
    },
    {
     "name": "stderr",
     "output_type": "stream",
     "text": [
      "323it [51:50, 17.75s/it]"
     ]
    },
    {
     "name": "stdout",
     "output_type": "stream",
     "text": [
      "0:\tlearn: 0.0239339\ttotal: 499us\tremaining: 19.5ms\n",
      "39:\tlearn: 0.0102301\ttotal: 8.43ms\tremaining: 0us\n",
      "0:\tlearn: 0.0235555\ttotal: 520us\tremaining: 20.3ms\n",
      "39:\tlearn: 0.0125077\ttotal: 9.72ms\tremaining: 0us\n",
      "0:\tlearn: 0.0234665\ttotal: 495us\tremaining: 19.3ms\n",
      "39:\tlearn: 0.0125309\ttotal: 9.79ms\tremaining: 0us\n",
      "0:\tlearn: 0.0228684\ttotal: 497us\tremaining: 19.4ms\n",
      "39:\tlearn: 0.0112786\ttotal: 14.4ms\tremaining: 0us\n",
      "0:\tlearn: 0.0428580\ttotal: 479us\tremaining: 18.7ms\n",
      "39:\tlearn: 0.0223143\ttotal: 14.4ms\tremaining: 0us\n",
      "0:\tlearn: 0.0425837\ttotal: 557us\tremaining: 21.7ms\n",
      "39:\tlearn: 0.0248045\ttotal: 14.2ms\tremaining: 0us\n",
      "0:\tlearn: 0.0420399\ttotal: 1.51ms\tremaining: 58.9ms\n",
      "39:\tlearn: 0.0234755\ttotal: 29.6ms\tremaining: 0us\n",
      "0:\tlearn: 0.0420832\ttotal: 543us\tremaining: 21.2ms\n",
      "39:\tlearn: 0.0209708\ttotal: 9.2ms\tremaining: 0us\n",
      "0:\tlearn: 0.0429408\ttotal: 549us\tremaining: 21.4ms\n",
      "39:\tlearn: 0.0214701\ttotal: 10.8ms\tremaining: 0us\n",
      "0:\tlearn: 0.0426042\ttotal: 552us\tremaining: 21.5ms\n",
      "39:\tlearn: 0.0204286\ttotal: 46.2ms\tremaining: 0us\n",
      "0:\tlearn: 0.0423937\ttotal: 579us\tremaining: 22.6ms\n",
      "39:\tlearn: 0.0212988\ttotal: 19.3ms\tremaining: 0us\n",
      "0:\tlearn: 0.0419077\ttotal: 591us\tremaining: 23.1ms\n",
      "39:\tlearn: 0.0207909\ttotal: 9.54ms\tremaining: 0us\n",
      "0:\tlearn: 0.0423628\ttotal: 562us\tremaining: 21.9ms\n",
      "39:\tlearn: 0.0217104\ttotal: 79.9ms\tremaining: 0us\n"
     ]
    },
    {
     "name": "stderr",
     "output_type": "stream",
     "text": [
      "324it [52:00, 15.67s/it]"
     ]
    },
    {
     "name": "stdout",
     "output_type": "stream",
     "text": [
      "0:\tlearn: 0.0262952\ttotal: 476us\tremaining: 18.6ms\n",
      "39:\tlearn: 0.0093969\ttotal: 13.8ms\tremaining: 0us\n",
      "0:\tlearn: 0.0254103\ttotal: 618us\tremaining: 24.1ms\n",
      "39:\tlearn: 0.0094455\ttotal: 12.5ms\tremaining: 0us\n",
      "0:\tlearn: 0.0252328\ttotal: 532us\tremaining: 20.8ms\n",
      "39:\tlearn: 0.0093629\ttotal: 13.2ms\tremaining: 0us\n",
      "0:\tlearn: 0.0250794\ttotal: 495us\tremaining: 19.3ms\n",
      "39:\tlearn: 0.0098199\ttotal: 11.1ms\tremaining: 0us\n",
      "0:\tlearn: 0.0381966\ttotal: 553us\tremaining: 21.6ms\n",
      "39:\tlearn: 0.0175646\ttotal: 93ms\tremaining: 0us\n",
      "0:\tlearn: 0.0397365\ttotal: 544us\tremaining: 21.2ms\n",
      "39:\tlearn: 0.0163563\ttotal: 16.6ms\tremaining: 0us\n",
      "0:\tlearn: 0.0406274\ttotal: 553us\tremaining: 21.6ms\n",
      "39:\tlearn: 0.0172354\ttotal: 41.1ms\tremaining: 0us\n",
      "0:\tlearn: 0.0420808\ttotal: 581us\tremaining: 22.7ms\n",
      "39:\tlearn: 0.0169365\ttotal: 10.7ms\tremaining: 0us\n",
      "0:\tlearn: 0.0431359\ttotal: 665us\tremaining: 26ms\n",
      "39:\tlearn: 0.0187869\ttotal: 47.4ms\tremaining: 0us\n",
      "0:\tlearn: 0.0438028\ttotal: 656us\tremaining: 25.6ms\n",
      "39:\tlearn: 0.0179370\ttotal: 15.4ms\tremaining: 0us\n",
      "0:\tlearn: 0.0431255\ttotal: 642us\tremaining: 25ms\n",
      "39:\tlearn: 0.0195124\ttotal: 10.8ms\tremaining: 0us\n",
      "0:\tlearn: 0.0431508\ttotal: 622us\tremaining: 24.3ms\n",
      "39:\tlearn: 0.0169346\ttotal: 32.2ms\tremaining: 0us\n",
      "0:\tlearn: 0.0436938\ttotal: 1.68ms\tremaining: 65.5ms\n",
      "39:\tlearn: 0.0198753\ttotal: 10.2ms\tremaining: 0us\n"
     ]
    },
    {
     "name": "stderr",
     "output_type": "stream",
     "text": [
      "325it [52:11, 14.23s/it]"
     ]
    },
    {
     "name": "stdout",
     "output_type": "stream",
     "text": [
      "0:\tlearn: 0.0374147\ttotal: 521us\tremaining: 20.3ms\n",
      "39:\tlearn: 0.0127680\ttotal: 11.9ms\tremaining: 0us\n",
      "0:\tlearn: 0.0363931\ttotal: 440us\tremaining: 17.2ms\n",
      "39:\tlearn: 0.0133459\ttotal: 8.96ms\tremaining: 0us\n",
      "0:\tlearn: 0.0360568\ttotal: 528us\tremaining: 20.6ms\n",
      "39:\tlearn: 0.0139234\ttotal: 9.27ms\tremaining: 0us\n",
      "0:\tlearn: 0.0358280\ttotal: 474us\tremaining: 18.5ms\n",
      "39:\tlearn: 0.0125964\ttotal: 9.55ms\tremaining: 0us\n",
      "0:\tlearn: 0.0361575\ttotal: 459us\tremaining: 17.9ms\n",
      "39:\tlearn: 0.0137654\ttotal: 14.9ms\tremaining: 0us\n",
      "0:\tlearn: 0.0358587\ttotal: 520us\tremaining: 20.3ms\n",
      "39:\tlearn: 0.0146811\ttotal: 11.9ms\tremaining: 0us\n",
      "0:\tlearn: 0.0349805\ttotal: 545us\tremaining: 21.3ms\n",
      "39:\tlearn: 0.0148627\ttotal: 9.39ms\tremaining: 0us\n",
      "0:\tlearn: 0.0369855\ttotal: 495us\tremaining: 19.3ms\n",
      "39:\tlearn: 0.0144013\ttotal: 9.51ms\tremaining: 0us\n",
      "0:\tlearn: 0.0376177\ttotal: 516us\tremaining: 20.1ms\n",
      "39:\tlearn: 0.0152972\ttotal: 9.51ms\tremaining: 0us\n",
      "0:\tlearn: 0.0364556\ttotal: 524us\tremaining: 20.5ms\n",
      "39:\tlearn: 0.0141484\ttotal: 9.8ms\tremaining: 0us\n",
      "0:\tlearn: 0.0365287\ttotal: 658us\tremaining: 25.7ms\n",
      "39:\tlearn: 0.0151044\ttotal: 10.1ms\tremaining: 0us\n",
      "0:\tlearn: 0.0367954\ttotal: 1.31ms\tremaining: 51ms\n",
      "39:\tlearn: 0.0159602\ttotal: 15ms\tremaining: 0us\n",
      "0:\tlearn: 0.0384269\ttotal: 1.25ms\tremaining: 48.9ms\n",
      "39:\tlearn: 0.0156179\ttotal: 11.2ms\tremaining: 0us\n"
     ]
    },
    {
     "name": "stderr",
     "output_type": "stream",
     "text": [
      "326it [52:22, 13.10s/it]"
     ]
    },
    {
     "name": "stdout",
     "output_type": "stream",
     "text": [
      "0:\tlearn: 0.0742855\ttotal: 464us\tremaining: 18.1ms\n",
      "39:\tlearn: 0.0301849\ttotal: 8.51ms\tremaining: 0us\n",
      "0:\tlearn: 0.0743510\ttotal: 481us\tremaining: 18.8ms\n",
      "39:\tlearn: 0.0314448\ttotal: 15.2ms\tremaining: 0us\n",
      "0:\tlearn: 0.0722349\ttotal: 492us\tremaining: 19.2ms\n",
      "39:\tlearn: 0.0314114\ttotal: 23.9ms\tremaining: 0us\n",
      "0:\tlearn: 0.0719785\ttotal: 459us\tremaining: 17.9ms\n",
      "39:\tlearn: 0.0310762\ttotal: 15ms\tremaining: 0us\n",
      "0:\tlearn: 0.0739771\ttotal: 507us\tremaining: 19.8ms\n",
      "39:\tlearn: 0.0375613\ttotal: 8.65ms\tremaining: 0us\n",
      "0:\tlearn: 0.0748294\ttotal: 432us\tremaining: 16.9ms\n",
      "39:\tlearn: 0.0352326\ttotal: 14.5ms\tremaining: 0us\n",
      "0:\tlearn: 0.0735679\ttotal: 491us\tremaining: 19.2ms\n",
      "39:\tlearn: 0.0375175\ttotal: 8.95ms\tremaining: 0us\n",
      "0:\tlearn: 0.0746772\ttotal: 488us\tremaining: 19.1ms\n",
      "39:\tlearn: 0.0355844\ttotal: 19.8ms\tremaining: 0us\n",
      "0:\tlearn: 0.0740554\ttotal: 506us\tremaining: 19.7ms\n",
      "39:\tlearn: 0.0372292\ttotal: 15.7ms\tremaining: 0us\n",
      "0:\tlearn: 0.0748814\ttotal: 538us\tremaining: 21ms\n",
      "39:\tlearn: 0.0382784\ttotal: 14ms\tremaining: 0us\n",
      "0:\tlearn: 0.0740985\ttotal: 569us\tremaining: 22.2ms\n",
      "39:\tlearn: 0.0375425\ttotal: 28ms\tremaining: 0us\n",
      "0:\tlearn: 0.0746889\ttotal: 536us\tremaining: 20.9ms\n",
      "39:\tlearn: 0.0370033\ttotal: 12.3ms\tremaining: 0us\n",
      "0:\tlearn: 0.0724187\ttotal: 609us\tremaining: 23.8ms\n",
      "39:\tlearn: 0.0362906\ttotal: 29.1ms\tremaining: 0us\n"
     ]
    },
    {
     "name": "stderr",
     "output_type": "stream",
     "text": [
      "328it [52:35, 11.15s/it]"
     ]
    },
    {
     "name": "stdout",
     "output_type": "stream",
     "text": [
      "0:\tlearn: 0.0465108\ttotal: 508us\tremaining: 19.8ms\n",
      "39:\tlearn: 0.0198776\ttotal: 14.1ms\tremaining: 0us\n",
      "0:\tlearn: 0.0476799\ttotal: 463us\tremaining: 18.1ms\n",
      "39:\tlearn: 0.0245811\ttotal: 89.8ms\tremaining: 0us\n",
      "0:\tlearn: 0.0481858\ttotal: 807us\tremaining: 31.5ms\n",
      "39:\tlearn: 0.0250158\ttotal: 40.4ms\tremaining: 0us\n",
      "0:\tlearn: 0.0476611\ttotal: 746us\tremaining: 29.1ms\n",
      "39:\tlearn: 0.0221011\ttotal: 12.3ms\tremaining: 0us\n",
      "0:\tlearn: 0.0468676\ttotal: 456us\tremaining: 17.8ms\n",
      "39:\tlearn: 0.0237974\ttotal: 14.1ms\tremaining: 0us\n",
      "0:\tlearn: 0.0468822\ttotal: 618us\tremaining: 24.1ms\n",
      "39:\tlearn: 0.0235615\ttotal: 9.23ms\tremaining: 0us\n",
      "0:\tlearn: 0.0467485\ttotal: 514us\tremaining: 20.1ms\n",
      "39:\tlearn: 0.0229268\ttotal: 20.4ms\tremaining: 0us\n",
      "0:\tlearn: 0.0511427\ttotal: 455us\tremaining: 17.8ms\n",
      "39:\tlearn: 0.0272188\ttotal: 49.9ms\tremaining: 0us\n",
      "0:\tlearn: 0.0515178\ttotal: 537us\tremaining: 20.9ms\n",
      "39:\tlearn: 0.0261579\ttotal: 36ms\tremaining: 0us\n",
      "0:\tlearn: 0.0515916\ttotal: 543us\tremaining: 21.2ms\n",
      "39:\tlearn: 0.0256131\ttotal: 12.7ms\tremaining: 0us\n",
      "0:\tlearn: 0.0509334\ttotal: 563us\tremaining: 22ms\n",
      "39:\tlearn: 0.0267808\ttotal: 11ms\tremaining: 0us\n",
      "0:\tlearn: 0.0541796\ttotal: 677us\tremaining: 26.4ms\n",
      "39:\tlearn: 0.0271987\ttotal: 18.8ms\tremaining: 0us\n",
      "0:\tlearn: 0.0533498\ttotal: 828us\tremaining: 32.3ms\n",
      "39:\tlearn: 0.0273844\ttotal: 11.4ms\tremaining: 0us\n"
     ]
    },
    {
     "name": "stderr",
     "output_type": "stream",
     "text": [
      "329it [52:46, 11.00s/it]"
     ]
    },
    {
     "name": "stdout",
     "output_type": "stream",
     "text": [
      "0:\tlearn: 0.0998494\ttotal: 469us\tremaining: 18.3ms\n",
      "39:\tlearn: 0.0449733\ttotal: 8.34ms\tremaining: 0us\n",
      "0:\tlearn: 0.1111405\ttotal: 466us\tremaining: 18.2ms\n",
      "39:\tlearn: 0.0539221\ttotal: 23.8ms\tremaining: 0us\n",
      "0:\tlearn: 0.1137199\ttotal: 550us\tremaining: 21.5ms\n",
      "39:\tlearn: 0.0550920\ttotal: 48.1ms\tremaining: 0us\n",
      "0:\tlearn: 0.1144586\ttotal: 746us\tremaining: 29.1ms\n",
      "39:\tlearn: 0.0559647\ttotal: 33.5ms\tremaining: 0us\n",
      "0:\tlearn: 0.1149075\ttotal: 495us\tremaining: 19.3ms\n",
      "39:\tlearn: 0.0569785\ttotal: 9.9ms\tremaining: 0us\n",
      "0:\tlearn: 0.1281851\ttotal: 530us\tremaining: 20.7ms\n",
      "39:\tlearn: 0.0641109\ttotal: 9.17ms\tremaining: 0us\n",
      "0:\tlearn: 0.1283965\ttotal: 539us\tremaining: 21ms\n",
      "39:\tlearn: 0.0615222\ttotal: 9.87ms\tremaining: 0us\n",
      "0:\tlearn: 0.1301039\ttotal: 589us\tremaining: 23ms\n",
      "39:\tlearn: 0.0635428\ttotal: 19ms\tremaining: 0us\n",
      "0:\tlearn: 0.1281447\ttotal: 513us\tremaining: 20ms\n",
      "39:\tlearn: 0.0613265\ttotal: 10.4ms\tremaining: 0us\n",
      "0:\tlearn: 0.1272451\ttotal: 565us\tremaining: 22ms\n",
      "39:\tlearn: 0.0618479\ttotal: 8.67ms\tremaining: 0us\n",
      "0:\tlearn: 0.1266001\ttotal: 543us\tremaining: 21.2ms\n",
      "39:\tlearn: 0.0633938\ttotal: 26.2ms\tremaining: 0us\n",
      "0:\tlearn: 0.1287952\ttotal: 539us\tremaining: 21.1ms\n",
      "39:\tlearn: 0.0629628\ttotal: 14.1ms\tremaining: 0us\n",
      "0:\tlearn: 0.1272436\ttotal: 614us\tremaining: 24ms\n",
      "39:\tlearn: 0.0651515\ttotal: 14.4ms\tremaining: 0us\n"
     ]
    },
    {
     "name": "stderr",
     "output_type": "stream",
     "text": [
      "330it [52:57, 11.18s/it]"
     ]
    },
    {
     "name": "stdout",
     "output_type": "stream",
     "text": [
      "0:\tlearn: 0.0605619\ttotal: 471us\tremaining: 18.4ms\n",
      "39:\tlearn: 0.0276271\ttotal: 9.01ms\tremaining: 0us\n",
      "0:\tlearn: 0.0602089\ttotal: 487us\tremaining: 19ms\n",
      "39:\tlearn: 0.0273483\ttotal: 42.5ms\tremaining: 0us\n",
      "0:\tlearn: 0.0659962\ttotal: 507us\tremaining: 19.8ms\n",
      "39:\tlearn: 0.0342415\ttotal: 27.1ms\tremaining: 0us\n",
      "0:\tlearn: 0.0690929\ttotal: 464us\tremaining: 18.1ms\n",
      "39:\tlearn: 0.0264041\ttotal: 10.5ms\tremaining: 0us\n",
      "0:\tlearn: 0.0680367\ttotal: 525us\tremaining: 20.5ms\n",
      "39:\tlearn: 0.0299972\ttotal: 9.5ms\tremaining: 0us\n",
      "0:\tlearn: 0.0700239\ttotal: 530us\tremaining: 20.7ms\n",
      "39:\tlearn: 0.0323588\ttotal: 15ms\tremaining: 0us\n",
      "0:\tlearn: 0.0704073\ttotal: 540us\tremaining: 21.1ms\n",
      "39:\tlearn: 0.0333229\ttotal: 43.1ms\tremaining: 0us\n",
      "0:\tlearn: 0.0727691\ttotal: 575us\tremaining: 22.4ms\n",
      "39:\tlearn: 0.0337361\ttotal: 15.5ms\tremaining: 0us\n",
      "0:\tlearn: 0.0716970\ttotal: 638us\tremaining: 24.9ms\n",
      "39:\tlearn: 0.0351018\ttotal: 13.5ms\tremaining: 0us\n",
      "0:\tlearn: 0.0713297\ttotal: 594us\tremaining: 23.2ms\n",
      "39:\tlearn: 0.0353415\ttotal: 10.8ms\tremaining: 0us\n",
      "0:\tlearn: 0.0706767\ttotal: 559us\tremaining: 21.8ms\n",
      "39:\tlearn: 0.0362832\ttotal: 17.4ms\tremaining: 0us\n",
      "0:\tlearn: 0.0735083\ttotal: 485us\tremaining: 18.9ms\n",
      "39:\tlearn: 0.0381560\ttotal: 13.1ms\tremaining: 0us\n",
      "0:\tlearn: 0.0721226\ttotal: 796us\tremaining: 31ms\n",
      "39:\tlearn: 0.0374280\ttotal: 18.6ms\tremaining: 0us\n"
     ]
    },
    {
     "name": "stderr",
     "output_type": "stream",
     "text": [
      "331it [53:08, 11.13s/it]"
     ]
    },
    {
     "name": "stdout",
     "output_type": "stream",
     "text": [
      "0:\tlearn: 0.0527058\ttotal: 485us\tremaining: 18.9ms\n",
      "39:\tlearn: 0.0208482\ttotal: 50.7ms\tremaining: 0us\n",
      "0:\tlearn: 0.0551885\ttotal: 506us\tremaining: 19.7ms\n",
      "39:\tlearn: 0.0238035\ttotal: 12.5ms\tremaining: 0us\n",
      "0:\tlearn: 0.0543406\ttotal: 532us\tremaining: 20.8ms\n",
      "39:\tlearn: 0.0241549\ttotal: 9.24ms\tremaining: 0us\n",
      "0:\tlearn: 0.0532241\ttotal: 532us\tremaining: 20.8ms\n",
      "39:\tlearn: 0.0253422\ttotal: 42.6ms\tremaining: 0us\n",
      "0:\tlearn: 0.0538881\ttotal: 501us\tremaining: 19.6ms\n",
      "39:\tlearn: 0.0273467\ttotal: 9.5ms\tremaining: 0us\n",
      "0:\tlearn: 0.0529703\ttotal: 496us\tremaining: 19.4ms\n",
      "39:\tlearn: 0.0262080\ttotal: 53.5ms\tremaining: 0us\n",
      "0:\tlearn: 0.0529908\ttotal: 465us\tremaining: 18.2ms\n",
      "39:\tlearn: 0.0263290\ttotal: 9.92ms\tremaining: 0us\n",
      "0:\tlearn: 0.0586045\ttotal: 513us\tremaining: 20ms\n",
      "39:\tlearn: 0.0281342\ttotal: 15.9ms\tremaining: 0us\n",
      "0:\tlearn: 0.0584481\ttotal: 460us\tremaining: 18ms\n",
      "39:\tlearn: 0.0276661\ttotal: 24.2ms\tremaining: 0us\n",
      "0:\tlearn: 0.0579248\ttotal: 557us\tremaining: 21.7ms\n",
      "39:\tlearn: 0.0310528\ttotal: 14.5ms\tremaining: 0us\n",
      "0:\tlearn: 0.0592244\ttotal: 535us\tremaining: 20.9ms\n",
      "39:\tlearn: 0.0310040\ttotal: 8.9ms\tremaining: 0us\n",
      "0:\tlearn: 0.0596996\ttotal: 555us\tremaining: 21.7ms\n",
      "39:\tlearn: 0.0297774\ttotal: 8.92ms\tremaining: 0us\n",
      "0:\tlearn: 0.0598661\ttotal: 609us\tremaining: 23.8ms\n",
      "39:\tlearn: 0.0325465\ttotal: 14.5ms\tremaining: 0us\n"
     ]
    },
    {
     "name": "stderr",
     "output_type": "stream",
     "text": [
      "332it [53:21, 11.50s/it]"
     ]
    },
    {
     "name": "stdout",
     "output_type": "stream",
     "text": [
      "0:\tlearn: 0.1215385\ttotal: 443us\tremaining: 17.3ms\n",
      "39:\tlearn: 0.0587626\ttotal: 9.51ms\tremaining: 0us\n",
      "0:\tlearn: 0.1191365\ttotal: 560us\tremaining: 21.9ms\n",
      "39:\tlearn: 0.0618467\ttotal: 8.53ms\tremaining: 0us\n",
      "0:\tlearn: 0.1208340\ttotal: 465us\tremaining: 18.2ms\n",
      "39:\tlearn: 0.0744794\ttotal: 14.7ms\tremaining: 0us\n",
      "0:\tlearn: 0.1202019\ttotal: 466us\tremaining: 18.2ms\n",
      "39:\tlearn: 0.0664085\ttotal: 9.57ms\tremaining: 0us\n",
      "0:\tlearn: 0.1189169\ttotal: 499us\tremaining: 19.5ms\n",
      "39:\tlearn: 0.0695831\ttotal: 8.47ms\tremaining: 0us\n",
      "0:\tlearn: 0.1186875\ttotal: 441us\tremaining: 17.2ms\n",
      "39:\tlearn: 0.0644698\ttotal: 13.5ms\tremaining: 0us\n",
      "0:\tlearn: 0.1173880\ttotal: 545us\tremaining: 21.3ms\n",
      "39:\tlearn: 0.0754340\ttotal: 14.5ms\tremaining: 0us\n",
      "0:\tlearn: 0.1164612\ttotal: 483us\tremaining: 18.9ms\n",
      "39:\tlearn: 0.0720088\ttotal: 14.1ms\tremaining: 0us\n",
      "0:\tlearn: 0.1227542\ttotal: 725us\tremaining: 28.3ms\n",
      "39:\tlearn: 0.0800146\ttotal: 14.1ms\tremaining: 0us\n",
      "0:\tlearn: 0.1259453\ttotal: 471us\tremaining: 18.4ms\n",
      "39:\tlearn: 0.0766704\ttotal: 9.04ms\tremaining: 0us\n",
      "0:\tlearn: 0.1265889\ttotal: 588us\tremaining: 22.9ms\n",
      "39:\tlearn: 0.0807944\ttotal: 15ms\tremaining: 0us\n",
      "0:\tlearn: 0.1270467\ttotal: 433us\tremaining: 16.9ms\n",
      "39:\tlearn: 0.0805577\ttotal: 9.42ms\tremaining: 0us\n",
      "0:\tlearn: 0.1246053\ttotal: 526us\tremaining: 20.5ms\n",
      "39:\tlearn: 0.0795026\ttotal: 27.3ms\tremaining: 0us\n"
     ]
    },
    {
     "name": "stderr",
     "output_type": "stream",
     "text": [
      "333it [53:32, 11.38s/it]"
     ]
    },
    {
     "name": "stdout",
     "output_type": "stream",
     "text": [
      "0:\tlearn: 0.0510871\ttotal: 444us\tremaining: 17.3ms\n",
      "39:\tlearn: 0.0178664\ttotal: 14.8ms\tremaining: 0us\n",
      "0:\tlearn: 0.0496096\ttotal: 466us\tremaining: 18.2ms\n",
      "39:\tlearn: 0.0203963\ttotal: 8.63ms\tremaining: 0us\n",
      "0:\tlearn: 0.0510870\ttotal: 525us\tremaining: 20.5ms\n",
      "39:\tlearn: 0.0209418\ttotal: 8.6ms\tremaining: 0us\n",
      "0:\tlearn: 0.0585622\ttotal: 518us\tremaining: 20.2ms\n",
      "39:\tlearn: 0.0312969\ttotal: 10.4ms\tremaining: 0us\n",
      "0:\tlearn: 0.0601887\ttotal: 477us\tremaining: 18.6ms\n",
      "39:\tlearn: 0.0295797\ttotal: 8.82ms\tremaining: 0us\n",
      "0:\tlearn: 0.0592057\ttotal: 908us\tremaining: 35.4ms\n",
      "39:\tlearn: 0.0306899\ttotal: 98.8ms\tremaining: 0us\n",
      "0:\tlearn: 0.0623397\ttotal: 492us\tremaining: 19.2ms\n",
      "39:\tlearn: 0.0317872\ttotal: 14.6ms\tremaining: 0us\n",
      "0:\tlearn: 0.0622638\ttotal: 1.08ms\tremaining: 42.3ms\n",
      "39:\tlearn: 0.0274480\ttotal: 14.3ms\tremaining: 0us\n",
      "0:\tlearn: 0.0625240\ttotal: 559us\tremaining: 21.8ms\n",
      "39:\tlearn: 0.0267521\ttotal: 15.3ms\tremaining: 391us\n",
      "0:\tlearn: 0.0606429\ttotal: 511us\tremaining: 20ms\n",
      "39:\tlearn: 0.0284763\ttotal: 8.96ms\tremaining: 0us\n",
      "0:\tlearn: 0.0613111\ttotal: 605us\tremaining: 23.6ms\n",
      "39:\tlearn: 0.0290267\ttotal: 10ms\tremaining: 0us\n",
      "0:\tlearn: 0.0605582\ttotal: 603us\tremaining: 23.6ms\n",
      "39:\tlearn: 0.0319067\ttotal: 9.15ms\tremaining: 0us\n",
      "0:\tlearn: 0.0610487\ttotal: 580us\tremaining: 22.6ms\n",
      "39:\tlearn: 0.0314923\ttotal: 10ms\tremaining: 0us\n"
     ]
    },
    {
     "name": "stderr",
     "output_type": "stream",
     "text": [
      "334it [53:43, 11.43s/it]"
     ]
    },
    {
     "name": "stdout",
     "output_type": "stream",
     "text": [
      "0:\tlearn: 0.0563755\ttotal: 511us\tremaining: 20ms\n",
      "39:\tlearn: 0.0226211\ttotal: 8.78ms\tremaining: 0us\n",
      "0:\tlearn: 0.0570785\ttotal: 515us\tremaining: 20.1ms\n",
      "39:\tlearn: 0.0269679\ttotal: 9.25ms\tremaining: 0us\n",
      "0:\tlearn: 0.0555304\ttotal: 1.67ms\tremaining: 65ms\n",
      "39:\tlearn: 0.0271448\ttotal: 17.1ms\tremaining: 0us\n",
      "0:\tlearn: 0.0550816\ttotal: 496us\tremaining: 19.4ms\n",
      "39:\tlearn: 0.0276132\ttotal: 9.85ms\tremaining: 0us\n",
      "0:\tlearn: 0.0603412\ttotal: 487us\tremaining: 19ms\n",
      "39:\tlearn: 0.0306591\ttotal: 33.2ms\tremaining: 0us\n",
      "0:\tlearn: 0.0612558\ttotal: 487us\tremaining: 19ms\n",
      "39:\tlearn: 0.0302313\ttotal: 10.9ms\tremaining: 0us\n",
      "0:\tlearn: 0.0596116\ttotal: 494us\tremaining: 19.3ms\n",
      "39:\tlearn: 0.0324678\ttotal: 9.39ms\tremaining: 0us\n",
      "0:\tlearn: 0.0622805\ttotal: 546us\tremaining: 21.3ms\n",
      "39:\tlearn: 0.0326890\ttotal: 9.7ms\tremaining: 0us\n",
      "0:\tlearn: 0.0615619\ttotal: 503us\tremaining: 19.6ms\n",
      "39:\tlearn: 0.0343337\ttotal: 14.8ms\tremaining: 0us\n",
      "0:\tlearn: 0.0607957\ttotal: 549us\tremaining: 21.4ms\n",
      "39:\tlearn: 0.0320118\ttotal: 27ms\tremaining: 0us\n",
      "0:\tlearn: 0.0606516\ttotal: 4.4ms\tremaining: 171ms\n",
      "39:\tlearn: 0.0349539\ttotal: 113ms\tremaining: 0us\n",
      "0:\tlearn: 0.0602252\ttotal: 552us\tremaining: 21.6ms\n",
      "39:\tlearn: 0.0343027\ttotal: 9.13ms\tremaining: 0us\n",
      "0:\tlearn: 0.0599786\ttotal: 643us\tremaining: 25.1ms\n",
      "39:\tlearn: 0.0348619\ttotal: 9.4ms\tremaining: 0us\n"
     ]
    },
    {
     "name": "stderr",
     "output_type": "stream",
     "text": [
      "335it [53:54, 11.27s/it]"
     ]
    },
    {
     "name": "stdout",
     "output_type": "stream",
     "text": [
      "0:\tlearn: 0.1392639\ttotal: 458us\tremaining: 17.9ms\n",
      "39:\tlearn: 0.0645550\ttotal: 38.9ms\tremaining: 0us\n",
      "0:\tlearn: 0.1375387\ttotal: 503us\tremaining: 19.6ms\n",
      "39:\tlearn: 0.0735599\ttotal: 36.5ms\tremaining: 0us\n",
      "0:\tlearn: 0.1365000\ttotal: 485us\tremaining: 18.9ms\n",
      "39:\tlearn: 0.0693301\ttotal: 11.4ms\tremaining: 0us\n",
      "0:\tlearn: 0.1351533\ttotal: 547us\tremaining: 21.3ms\n",
      "39:\tlearn: 0.0689284\ttotal: 32.3ms\tremaining: 0us\n",
      "0:\tlearn: 0.1315273\ttotal: 546us\tremaining: 21.3ms\n",
      "39:\tlearn: 0.0659396\ttotal: 44ms\tremaining: 0us\n",
      "0:\tlearn: 0.1291825\ttotal: 444us\tremaining: 17.4ms\n",
      "39:\tlearn: 0.0642332\ttotal: 9.02ms\tremaining: 0us\n",
      "0:\tlearn: 0.1292453\ttotal: 471us\tremaining: 18.4ms\n",
      "39:\tlearn: 0.0634035\ttotal: 23.3ms\tremaining: 0us\n",
      "0:\tlearn: 0.1371152\ttotal: 584us\tremaining: 22.8ms\n",
      "39:\tlearn: 0.0771158\ttotal: 8.83ms\tremaining: 0us\n",
      "0:\tlearn: 0.1359850\ttotal: 637us\tremaining: 24.9ms\n",
      "39:\tlearn: 0.0673065\ttotal: 15.8ms\tremaining: 0us\n",
      "0:\tlearn: 0.1332197\ttotal: 569us\tremaining: 22.2ms\n",
      "39:\tlearn: 0.0770379\ttotal: 11.9ms\tremaining: 0us\n",
      "0:\tlearn: 0.1351881\ttotal: 606us\tremaining: 23.7ms\n",
      "39:\tlearn: 0.0749152\ttotal: 10.6ms\tremaining: 0us\n",
      "0:\tlearn: 0.1314583\ttotal: 544us\tremaining: 21.2ms\n",
      "39:\tlearn: 0.0691359\ttotal: 11.5ms\tremaining: 0us\n",
      "0:\tlearn: 0.1308044\ttotal: 512us\tremaining: 20ms\n",
      "39:\tlearn: 0.0693958\ttotal: 10.8ms\tremaining: 0us\n"
     ]
    },
    {
     "name": "stderr",
     "output_type": "stream",
     "text": [
      "336it [54:05, 11.09s/it]"
     ]
    },
    {
     "name": "stdout",
     "output_type": "stream",
     "text": [
      "0:\tlearn: 0.0621967\ttotal: 533us\tremaining: 20.8ms\n",
      "39:\tlearn: 0.0268875\ttotal: 15.3ms\tremaining: 0us\n",
      "0:\tlearn: 0.0621803\ttotal: 502us\tremaining: 19.6ms\n",
      "39:\tlearn: 0.0295917\ttotal: 34.2ms\tremaining: 0us\n",
      "0:\tlearn: 0.0615273\ttotal: 542us\tremaining: 21.2ms\n",
      "39:\tlearn: 0.0294648\ttotal: 10ms\tremaining: 0us\n",
      "0:\tlearn: 0.0616421\ttotal: 7.56ms\tremaining: 295ms\n",
      "39:\tlearn: 0.0330869\ttotal: 82.7ms\tremaining: 0us\n",
      "0:\tlearn: 0.0654771\ttotal: 551us\tremaining: 21.5ms\n",
      "39:\tlearn: 0.0358700\ttotal: 16.5ms\tremaining: 0us\n",
      "0:\tlearn: 0.0644874\ttotal: 532us\tremaining: 20.8ms\n",
      "39:\tlearn: 0.0338516\ttotal: 15.5ms\tremaining: 0us\n",
      "0:\tlearn: 0.0643680\ttotal: 549us\tremaining: 21.4ms\n",
      "39:\tlearn: 0.0340609\ttotal: 10.4ms\tremaining: 0us\n",
      "0:\tlearn: 0.0687795\ttotal: 494us\tremaining: 19.3ms\n",
      "39:\tlearn: 0.0355286\ttotal: 16.1ms\tremaining: 0us\n",
      "0:\tlearn: 0.0681971\ttotal: 544us\tremaining: 21.2ms\n",
      "39:\tlearn: 0.0344302\ttotal: 37.5ms\tremaining: 0us\n",
      "0:\tlearn: 0.0688943\ttotal: 554us\tremaining: 21.6ms\n",
      "39:\tlearn: 0.0343739\ttotal: 14.3ms\tremaining: 0us\n",
      "0:\tlearn: 0.0695835\ttotal: 558us\tremaining: 21.8ms\n",
      "39:\tlearn: 0.0362084\ttotal: 19.9ms\tremaining: 0us\n",
      "0:\tlearn: 0.0690982\ttotal: 1.52ms\tremaining: 59.3ms\n",
      "39:\tlearn: 0.0369935\ttotal: 62.1ms\tremaining: 0us\n",
      "0:\tlearn: 0.0690727\ttotal: 589us\tremaining: 23ms\n",
      "39:\tlearn: 0.0354249\ttotal: 14.7ms\tremaining: 0us\n"
     ]
    },
    {
     "name": "stderr",
     "output_type": "stream",
     "text": [
      "338it [54:16,  9.38s/it]"
     ]
    },
    {
     "name": "stdout",
     "output_type": "stream",
     "text": [
      "0:\tlearn: 0.0600273\ttotal: 442us\tremaining: 17.2ms\n",
      "39:\tlearn: 0.0180026\ttotal: 8.84ms\tremaining: 0us\n",
      "0:\tlearn: 0.0593418\ttotal: 456us\tremaining: 17.8ms\n",
      "39:\tlearn: 0.0213718\ttotal: 28.6ms\tremaining: 0us\n",
      "0:\tlearn: 0.0592257\ttotal: 523us\tremaining: 20.4ms\n",
      "39:\tlearn: 0.0205128\ttotal: 27.8ms\tremaining: 0us\n",
      "0:\tlearn: 0.0584151\ttotal: 540us\tremaining: 21.1ms\n",
      "39:\tlearn: 0.0211476\ttotal: 9.03ms\tremaining: 0us\n",
      "0:\tlearn: 0.0569920\ttotal: 475us\tremaining: 18.6ms\n",
      "39:\tlearn: 0.0205572\ttotal: 41ms\tremaining: 0us\n",
      "0:\tlearn: 0.0572878\ttotal: 449us\tremaining: 17.5ms\n",
      "39:\tlearn: 0.0207578\ttotal: 9.33ms\tremaining: 0us\n",
      "0:\tlearn: 0.0585438\ttotal: 492us\tremaining: 19.2ms\n",
      "39:\tlearn: 0.0224022\ttotal: 14.1ms\tremaining: 0us\n",
      "0:\tlearn: 0.0592524\ttotal: 531us\tremaining: 20.7ms\n",
      "39:\tlearn: 0.0204610\ttotal: 14.8ms\tremaining: 0us\n",
      "0:\tlearn: 0.0591822\ttotal: 475us\tremaining: 18.5ms\n",
      "39:\tlearn: 0.0207473\ttotal: 9.83ms\tremaining: 0us\n",
      "0:\tlearn: 0.0584767\ttotal: 461us\tremaining: 18ms\n",
      "39:\tlearn: 0.0209439\ttotal: 26.7ms\tremaining: 0us\n",
      "0:\tlearn: 0.0578315\ttotal: 508us\tremaining: 19.8ms\n",
      "39:\tlearn: 0.0214387\ttotal: 9.7ms\tremaining: 0us\n",
      "0:\tlearn: 0.0569886\ttotal: 537us\tremaining: 21ms\n",
      "39:\tlearn: 0.0231029\ttotal: 9.43ms\tremaining: 0us\n",
      "0:\tlearn: 0.0564792\ttotal: 538us\tremaining: 21ms\n",
      "39:\tlearn: 0.0219573\ttotal: 9.28ms\tremaining: 0us\n"
     ]
    },
    {
     "name": "stderr",
     "output_type": "stream",
     "text": [
      "339it [54:26,  9.63s/it]"
     ]
    },
    {
     "name": "stdout",
     "output_type": "stream",
     "text": [
      "0:\tlearn: 0.1191205\ttotal: 439us\tremaining: 17.1ms\n",
      "39:\tlearn: 0.0519342\ttotal: 14.7ms\tremaining: 0us\n",
      "0:\tlearn: 0.1180495\ttotal: 488us\tremaining: 19.1ms\n",
      "39:\tlearn: 0.0673281\ttotal: 23.7ms\tremaining: 0us\n",
      "0:\tlearn: 0.1193758\ttotal: 1.06ms\tremaining: 41.4ms\n",
      "39:\tlearn: 0.0627746\ttotal: 9.91ms\tremaining: 0us\n",
      "0:\tlearn: 0.1169562\ttotal: 518us\tremaining: 20.2ms\n",
      "39:\tlearn: 0.0629825\ttotal: 9.98ms\tremaining: 0us\n",
      "0:\tlearn: 0.1185027\ttotal: 509us\tremaining: 19.9ms\n",
      "39:\tlearn: 0.0630346\ttotal: 15.1ms\tremaining: 0us\n",
      "0:\tlearn: 0.1164188\ttotal: 479us\tremaining: 18.7ms\n",
      "39:\tlearn: 0.0684080\ttotal: 8.85ms\tremaining: 0us\n",
      "0:\tlearn: 0.1163595\ttotal: 616us\tremaining: 24ms\n",
      "39:\tlearn: 0.0736563\ttotal: 14.5ms\tremaining: 0us\n",
      "0:\tlearn: 0.1145376\ttotal: 493us\tremaining: 19.2ms\n",
      "39:\tlearn: 0.0694782\ttotal: 35.3ms\tremaining: 0us\n",
      "0:\tlearn: 0.1188923\ttotal: 478us\tremaining: 18.6ms\n",
      "39:\tlearn: 0.0681883\ttotal: 51ms\tremaining: 0us\n",
      "0:\tlearn: 0.1181623\ttotal: 595us\tremaining: 23.2ms\n",
      "39:\tlearn: 0.0618554\ttotal: 32.7ms\tremaining: 0us\n",
      "0:\tlearn: 0.1185863\ttotal: 568us\tremaining: 22.2ms\n",
      "39:\tlearn: 0.0731546\ttotal: 54.4ms\tremaining: 0us\n",
      "0:\tlearn: 0.1193542\ttotal: 607us\tremaining: 23.7ms\n",
      "39:\tlearn: 0.0687309\ttotal: 12.3ms\tremaining: 0us\n",
      "0:\tlearn: 0.1184863\ttotal: 454us\tremaining: 17.7ms\n",
      "39:\tlearn: 0.0685170\ttotal: 13ms\tremaining: 0us\n"
     ]
    },
    {
     "name": "stderr",
     "output_type": "stream",
     "text": [
      "340it [54:36,  9.92s/it]"
     ]
    },
    {
     "name": "stdout",
     "output_type": "stream",
     "text": [
      "0:\tlearn: 0.1483969\ttotal: 458us\tremaining: 17.9ms\n",
      "39:\tlearn: 0.0638882\ttotal: 36.1ms\tremaining: 0us\n",
      "0:\tlearn: 0.1440996\ttotal: 461us\tremaining: 18ms\n",
      "39:\tlearn: 0.0645214\ttotal: 14.5ms\tremaining: 0us\n",
      "0:\tlearn: 0.1409558\ttotal: 574us\tremaining: 22.4ms\n",
      "39:\tlearn: 0.0759490\ttotal: 46.7ms\tremaining: 0us\n",
      "0:\tlearn: 0.1398158\ttotal: 571us\tremaining: 22.3ms\n",
      "39:\tlearn: 0.0665575\ttotal: 13.9ms\tremaining: 0us\n",
      "0:\tlearn: 0.1412836\ttotal: 473us\tremaining: 18.5ms\n",
      "39:\tlearn: 0.0682958\ttotal: 9.61ms\tremaining: 0us\n",
      "0:\tlearn: 0.1410456\ttotal: 522us\tremaining: 20.4ms\n",
      "39:\tlearn: 0.0702655\ttotal: 43.2ms\tremaining: 0us\n",
      "0:\tlearn: 0.1423698\ttotal: 485us\tremaining: 18.9ms\n",
      "39:\tlearn: 0.0734995\ttotal: 8.99ms\tremaining: 0us\n",
      "0:\tlearn: 0.1401931\ttotal: 498us\tremaining: 19.4ms\n",
      "39:\tlearn: 0.0711857\ttotal: 14.7ms\tremaining: 0us\n",
      "0:\tlearn: 0.1376260\ttotal: 568us\tremaining: 22.2ms\n",
      "39:\tlearn: 0.0734078\ttotal: 14.6ms\tremaining: 0us\n",
      "0:\tlearn: 0.1375965\ttotal: 554us\tremaining: 21.6ms\n",
      "39:\tlearn: 0.0727577\ttotal: 14.3ms\tremaining: 0us\n",
      "0:\tlearn: 0.1388779\ttotal: 632us\tremaining: 24.7ms\n",
      "39:\tlearn: 0.0803589\ttotal: 8.7ms\tremaining: 0us\n",
      "0:\tlearn: 0.1399258\ttotal: 456us\tremaining: 17.8ms\n",
      "39:\tlearn: 0.0738804\ttotal: 12.3ms\tremaining: 0us\n",
      "0:\tlearn: 0.1396199\ttotal: 548us\tremaining: 21.4ms\n",
      "39:\tlearn: 0.0772874\ttotal: 9.55ms\tremaining: 0us\n"
     ]
    },
    {
     "name": "stderr",
     "output_type": "stream",
     "text": [
      "341it [54:49, 10.84s/it]"
     ]
    },
    {
     "name": "stdout",
     "output_type": "stream",
     "text": [
      "0:\tlearn: 0.0542658\ttotal: 486us\tremaining: 19ms\n",
      "39:\tlearn: 0.0223162\ttotal: 30ms\tremaining: 0us\n",
      "0:\tlearn: 0.0529422\ttotal: 458us\tremaining: 17.9ms\n",
      "39:\tlearn: 0.0243076\ttotal: 16.2ms\tremaining: 0us\n",
      "0:\tlearn: 0.0529303\ttotal: 814us\tremaining: 31.8ms\n",
      "39:\tlearn: 0.0245244\ttotal: 10.1ms\tremaining: 0us\n",
      "0:\tlearn: 0.0538343\ttotal: 466us\tremaining: 18.2ms\n",
      "39:\tlearn: 0.0249408\ttotal: 9.2ms\tremaining: 0us\n",
      "0:\tlearn: 0.0646695\ttotal: 463us\tremaining: 18.1ms\n",
      "39:\tlearn: 0.0395031\ttotal: 9.08ms\tremaining: 0us\n",
      "0:\tlearn: 0.0635136\ttotal: 498us\tremaining: 19.4ms\n",
      "39:\tlearn: 0.0336671\ttotal: 9.34ms\tremaining: 0us\n",
      "0:\tlearn: 0.0652727\ttotal: 489us\tremaining: 19.1ms\n",
      "39:\tlearn: 0.0314652\ttotal: 14.1ms\tremaining: 0us\n",
      "0:\tlearn: 0.0675502\ttotal: 521us\tremaining: 20.3ms\n",
      "39:\tlearn: 0.0340513\ttotal: 9.72ms\tremaining: 0us\n",
      "0:\tlearn: 0.0673661\ttotal: 555us\tremaining: 21.7ms\n",
      "39:\tlearn: 0.0346611\ttotal: 8.89ms\tremaining: 0us\n",
      "0:\tlearn: 0.0658309\ttotal: 544us\tremaining: 21.2ms\n",
      "39:\tlearn: 0.0317116\ttotal: 16ms\tremaining: 0us\n",
      "0:\tlearn: 0.0656772\ttotal: 536us\tremaining: 20.9ms\n",
      "39:\tlearn: 0.0326932\ttotal: 13ms\tremaining: 0us\n",
      "0:\tlearn: 0.0646447\ttotal: 558us\tremaining: 21.8ms\n",
      "39:\tlearn: 0.0340476\ttotal: 14.9ms\tremaining: 0us\n",
      "0:\tlearn: 0.0651812\ttotal: 498us\tremaining: 19.5ms\n",
      "39:\tlearn: 0.0339247\ttotal: 12ms\tremaining: 0us\n"
     ]
    },
    {
     "name": "stderr",
     "output_type": "stream",
     "text": [
      "342it [55:00, 10.90s/it]"
     ]
    },
    {
     "name": "stdout",
     "output_type": "stream",
     "text": [
      "0:\tlearn: 0.0301979\ttotal: 422us\tremaining: 16.5ms\n",
      "39:\tlearn: 0.0134267\ttotal: 9.7ms\tremaining: 0us\n",
      "0:\tlearn: 0.0312600\ttotal: 543us\tremaining: 21.2ms\n",
      "39:\tlearn: 0.0141987\ttotal: 10.3ms\tremaining: 0us\n",
      "0:\tlearn: 0.0315208\ttotal: 462us\tremaining: 18ms\n",
      "39:\tlearn: 0.0149425\ttotal: 9.17ms\tremaining: 0us\n",
      "0:\tlearn: 0.0315302\ttotal: 509us\tremaining: 19.9ms\n",
      "39:\tlearn: 0.0155599\ttotal: 10.2ms\tremaining: 0us\n",
      "0:\tlearn: 0.0308882\ttotal: 531us\tremaining: 20.7ms\n",
      "39:\tlearn: 0.0145122\ttotal: 11.6ms\tremaining: 0us\n",
      "0:\tlearn: 0.0302000\ttotal: 549us\tremaining: 21.4ms\n",
      "39:\tlearn: 0.0157272\ttotal: 55.8ms\tremaining: 0us\n",
      "0:\tlearn: 0.0312437\ttotal: 563us\tremaining: 22ms\n",
      "39:\tlearn: 0.0157083\ttotal: 48.3ms\tremaining: 0us\n",
      "0:\tlearn: 0.0335004\ttotal: 548us\tremaining: 21.4ms\n",
      "39:\tlearn: 0.0169632\ttotal: 35.7ms\tremaining: 0us\n",
      "0:\tlearn: 0.0330022\ttotal: 1.08ms\tremaining: 42.3ms\n",
      "39:\tlearn: 0.0166361\ttotal: 13.6ms\tremaining: 0us\n",
      "0:\tlearn: 0.0324932\ttotal: 652us\tremaining: 25.5ms\n",
      "39:\tlearn: 0.0164839\ttotal: 17.2ms\tremaining: 0us\n",
      "0:\tlearn: 0.0332554\ttotal: 531us\tremaining: 20.7ms\n",
      "39:\tlearn: 0.0173276\ttotal: 14.4ms\tremaining: 0us\n",
      "0:\tlearn: 0.0337967\ttotal: 613us\tremaining: 23.9ms\n",
      "39:\tlearn: 0.0163770\ttotal: 13.5ms\tremaining: 0us\n",
      "0:\tlearn: 0.0356493\ttotal: 501us\tremaining: 19.5ms\n",
      "39:\tlearn: 0.0168948\ttotal: 15.6ms\tremaining: 0us\n"
     ]
    },
    {
     "name": "stderr",
     "output_type": "stream",
     "text": [
      "343it [55:11, 10.90s/it]"
     ]
    },
    {
     "name": "stdout",
     "output_type": "stream",
     "text": [
      "0:\tlearn: 0.0993021\ttotal: 465us\tremaining: 18.2ms\n",
      "39:\tlearn: 0.0427142\ttotal: 9.49ms\tremaining: 0us\n",
      "0:\tlearn: 0.0976845\ttotal: 501us\tremaining: 19.6ms\n",
      "39:\tlearn: 0.0550703\ttotal: 9.13ms\tremaining: 0us\n",
      "0:\tlearn: 0.0953582\ttotal: 493us\tremaining: 19.3ms\n",
      "39:\tlearn: 0.0462818\ttotal: 69ms\tremaining: 0us\n",
      "0:\tlearn: 0.0945557\ttotal: 544us\tremaining: 21.2ms\n",
      "39:\tlearn: 0.0516346\ttotal: 10.4ms\tremaining: 0us\n",
      "0:\tlearn: 0.0965344\ttotal: 468us\tremaining: 18.3ms\n",
      "39:\tlearn: 0.0513774\ttotal: 12ms\tremaining: 0us\n",
      "0:\tlearn: 0.1018649\ttotal: 770us\tremaining: 30.1ms\n",
      "39:\tlearn: 0.0568415\ttotal: 72.8ms\tremaining: 0us\n",
      "0:\tlearn: 0.1014494\ttotal: 478us\tremaining: 18.6ms\n",
      "39:\tlearn: 0.0543390\ttotal: 11.1ms\tremaining: 0us\n",
      "0:\tlearn: 0.1000396\ttotal: 574us\tremaining: 22.4ms\n",
      "39:\tlearn: 0.0561489\ttotal: 9.6ms\tremaining: 0us\n",
      "0:\tlearn: 0.1111586\ttotal: 498us\tremaining: 19.4ms\n",
      "39:\tlearn: 0.0605572\ttotal: 29.9ms\tremaining: 0us\n",
      "0:\tlearn: 0.1093115\ttotal: 573us\tremaining: 22.4ms\n",
      "39:\tlearn: 0.0553892\ttotal: 17.4ms\tremaining: 0us\n",
      "0:\tlearn: 0.1093479\ttotal: 576us\tremaining: 22.5ms\n",
      "39:\tlearn: 0.0552755\ttotal: 14ms\tremaining: 0us\n",
      "0:\tlearn: 0.1096179\ttotal: 1.58ms\tremaining: 61.6ms\n",
      "39:\tlearn: 0.0563885\ttotal: 83.3ms\tremaining: 0us\n",
      "0:\tlearn: 0.1094799\ttotal: 571us\tremaining: 22.3ms\n",
      "39:\tlearn: 0.0511213\ttotal: 34.2ms\tremaining: 0us\n"
     ]
    },
    {
     "name": "stderr",
     "output_type": "stream",
     "text": [
      "344it [55:23, 11.01s/it]"
     ]
    },
    {
     "name": "stdout",
     "output_type": "stream",
     "text": [
      "0:\tlearn: 0.1144253\ttotal: 489us\tremaining: 19.1ms\n",
      "39:\tlearn: 0.0546063\ttotal: 10.4ms\tremaining: 0us\n",
      "0:\tlearn: 0.1115288\ttotal: 509us\tremaining: 19.9ms\n",
      "39:\tlearn: 0.0574239\ttotal: 14.3ms\tremaining: 0us\n",
      "0:\tlearn: 0.1083871\ttotal: 477us\tremaining: 18.6ms\n",
      "39:\tlearn: 0.0522324\ttotal: 11.7ms\tremaining: 0us\n",
      "0:\tlearn: 0.1088372\ttotal: 725us\tremaining: 28.3ms\n",
      "39:\tlearn: 0.0516252\ttotal: 62.7ms\tremaining: 0us\n",
      "0:\tlearn: 0.1081212\ttotal: 513us\tremaining: 20ms\n",
      "39:\tlearn: 0.0539393\ttotal: 11.6ms\tremaining: 0us\n",
      "0:\tlearn: 0.1053205\ttotal: 518us\tremaining: 20.2ms\n",
      "39:\tlearn: 0.0538663\ttotal: 8.75ms\tremaining: 0us\n",
      "0:\tlearn: 0.1056360\ttotal: 522us\tremaining: 20.4ms\n",
      "39:\tlearn: 0.0580187\ttotal: 9.2ms\tremaining: 0us\n",
      "0:\tlearn: 0.1063583\ttotal: 459us\tremaining: 17.9ms\n",
      "39:\tlearn: 0.0486315\ttotal: 26.4ms\tremaining: 0us\n",
      "0:\tlearn: 0.1061314\ttotal: 491us\tremaining: 19.2ms\n",
      "39:\tlearn: 0.0534754\ttotal: 17ms\tremaining: 0us\n",
      "0:\tlearn: 0.1057511\ttotal: 510us\tremaining: 19.9ms\n",
      "39:\tlearn: 0.0507437\ttotal: 14.6ms\tremaining: 0us\n",
      "0:\tlearn: 0.1031226\ttotal: 540us\tremaining: 21.1ms\n",
      "39:\tlearn: 0.0531106\ttotal: 41ms\tremaining: 0us\n",
      "0:\tlearn: 0.1020511\ttotal: 537us\tremaining: 21ms\n",
      "39:\tlearn: 0.0475578\ttotal: 9.47ms\tremaining: 0us\n",
      "0:\tlearn: 0.1038073\ttotal: 512us\tremaining: 20ms\n",
      "39:\tlearn: 0.0604761\ttotal: 10.6ms\tremaining: 0us\n"
     ]
    },
    {
     "name": "stderr",
     "output_type": "stream",
     "text": [
      "346it [55:33,  9.29s/it]"
     ]
    },
    {
     "name": "stdout",
     "output_type": "stream",
     "text": [
      "0:\tlearn: 0.0618073\ttotal: 503us\tremaining: 19.6ms\n",
      "39:\tlearn: 0.0297351\ttotal: 8.15ms\tremaining: 0us\n",
      "0:\tlearn: 0.0635803\ttotal: 470us\tremaining: 18.4ms\n",
      "39:\tlearn: 0.0311206\ttotal: 8.97ms\tremaining: 0us\n",
      "0:\tlearn: 0.0815720\ttotal: 462us\tremaining: 18ms\n",
      "39:\tlearn: 0.0395398\ttotal: 24.3ms\tremaining: 0us\n",
      "0:\tlearn: 0.0871278\ttotal: 486us\tremaining: 19ms\n",
      "39:\tlearn: 0.0369576\ttotal: 8.88ms\tremaining: 0us\n",
      "0:\tlearn: 0.0863858\ttotal: 1.48ms\tremaining: 57.8ms\n",
      "39:\tlearn: 0.0402793\ttotal: 66.1ms\tremaining: 0us\n",
      "0:\tlearn: 0.0874290\ttotal: 513us\tremaining: 20ms\n",
      "39:\tlearn: 0.0389538\ttotal: 14.3ms\tremaining: 0us\n",
      "0:\tlearn: 0.0849463\ttotal: 698us\tremaining: 27.2ms\n",
      "39:\tlearn: 0.0468475\ttotal: 12.1ms\tremaining: 0us\n",
      "0:\tlearn: 0.0846507\ttotal: 502us\tremaining: 19.6ms\n",
      "39:\tlearn: 0.0436952\ttotal: 10.6ms\tremaining: 0us\n",
      "0:\tlearn: 0.0906392\ttotal: 719us\tremaining: 28ms\n",
      "39:\tlearn: 0.0421218\ttotal: 17.9ms\tremaining: 0us\n",
      "0:\tlearn: 0.0908191\ttotal: 410us\tremaining: 16ms\n",
      "39:\tlearn: 0.0494272\ttotal: 51.6ms\tremaining: 0us\n",
      "0:\tlearn: 0.0900006\ttotal: 804us\tremaining: 31.4ms\n",
      "39:\tlearn: 0.0444191\ttotal: 10ms\tremaining: 0us\n",
      "0:\tlearn: 0.0916155\ttotal: 472us\tremaining: 18.4ms\n",
      "39:\tlearn: 0.0434818\ttotal: 16.5ms\tremaining: 0us\n",
      "0:\tlearn: 0.0928759\ttotal: 585us\tremaining: 22.8ms\n",
      "39:\tlearn: 0.0433097\ttotal: 64.5ms\tremaining: 0us\n"
     ]
    },
    {
     "name": "stderr",
     "output_type": "stream",
     "text": [
      "347it [55:46, 10.40s/it]"
     ]
    },
    {
     "name": "stdout",
     "output_type": "stream",
     "text": [
      "0:\tlearn: 0.0441617\ttotal: 451us\tremaining: 17.6ms\n",
      "39:\tlearn: 0.0225241\ttotal: 13.6ms\tremaining: 0us\n",
      "0:\tlearn: 0.0480456\ttotal: 494us\tremaining: 19.3ms\n",
      "39:\tlearn: 0.0228469\ttotal: 12.6ms\tremaining: 0us\n",
      "0:\tlearn: 0.0502335\ttotal: 442us\tremaining: 17.3ms\n",
      "39:\tlearn: 0.0211880\ttotal: 13.6ms\tremaining: 348us\n",
      "0:\tlearn: 0.0492132\ttotal: 478us\tremaining: 18.6ms\n",
      "39:\tlearn: 0.0206498\ttotal: 9.15ms\tremaining: 0us\n",
      "0:\tlearn: 0.0480351\ttotal: 543us\tremaining: 21.2ms\n",
      "39:\tlearn: 0.0196464\ttotal: 9.58ms\tremaining: 0us\n",
      "0:\tlearn: 0.0470415\ttotal: 477us\tremaining: 18.6ms\n",
      "39:\tlearn: 0.0193523\ttotal: 9.62ms\tremaining: 0us\n",
      "0:\tlearn: 0.0474615\ttotal: 482us\tremaining: 18.8ms\n",
      "39:\tlearn: 0.0203355\ttotal: 9.3ms\tremaining: 0us\n",
      "0:\tlearn: 0.0471094\ttotal: 493us\tremaining: 19.2ms\n",
      "39:\tlearn: 0.0204518\ttotal: 9.09ms\tremaining: 0us\n",
      "0:\tlearn: 0.0476671\ttotal: 548us\tremaining: 21.4ms\n",
      "39:\tlearn: 0.0205115\ttotal: 42.3ms\tremaining: 0us\n",
      "0:\tlearn: 0.0477490\ttotal: 486us\tremaining: 19ms\n",
      "39:\tlearn: 0.0198423\ttotal: 14.1ms\tremaining: 0us\n",
      "0:\tlearn: 0.0484502\ttotal: 556us\tremaining: 21.7ms\n",
      "39:\tlearn: 0.0225749\ttotal: 9.66ms\tremaining: 0us\n",
      "0:\tlearn: 0.0489945\ttotal: 549us\tremaining: 21.4ms\n",
      "39:\tlearn: 0.0209124\ttotal: 28.4ms\tremaining: 0us\n",
      "0:\tlearn: 0.0493608\ttotal: 562us\tremaining: 21.9ms\n",
      "39:\tlearn: 0.0210087\ttotal: 8.95ms\tremaining: 0us\n"
     ]
    },
    {
     "name": "stderr",
     "output_type": "stream",
     "text": [
      "348it [55:57, 10.42s/it]"
     ]
    },
    {
     "name": "stdout",
     "output_type": "stream",
     "text": [
      "0:\tlearn: 0.1231617\ttotal: 478us\tremaining: 18.7ms\n",
      "39:\tlearn: 0.0402564\ttotal: 7.77ms\tremaining: 0us\n",
      "0:\tlearn: 0.1223061\ttotal: 475us\tremaining: 18.6ms\n",
      "39:\tlearn: 0.0490426\ttotal: 13.5ms\tremaining: 0us\n",
      "0:\tlearn: 0.1201983\ttotal: 456us\tremaining: 17.8ms\n",
      "39:\tlearn: 0.0468249\ttotal: 25.8ms\tremaining: 0us\n",
      "0:\tlearn: 0.1189971\ttotal: 504us\tremaining: 19.7ms\n",
      "39:\tlearn: 0.0491850\ttotal: 10.2ms\tremaining: 0us\n",
      "0:\tlearn: 0.1154595\ttotal: 464us\tremaining: 18.1ms\n",
      "39:\tlearn: 0.0467758\ttotal: 9.76ms\tremaining: 0us\n",
      "0:\tlearn: 0.1137448\ttotal: 532us\tremaining: 20.8ms\n",
      "39:\tlearn: 0.0498513\ttotal: 14.8ms\tremaining: 0us\n",
      "0:\tlearn: 0.1128997\ttotal: 592us\tremaining: 23.1ms\n",
      "39:\tlearn: 0.0483339\ttotal: 12.1ms\tremaining: 0us\n",
      "0:\tlearn: 0.1127302\ttotal: 534us\tremaining: 20.9ms\n",
      "39:\tlearn: 0.0502590\ttotal: 10.5ms\tremaining: 0us\n",
      "0:\tlearn: 0.1167542\ttotal: 618us\tremaining: 24.1ms\n",
      "39:\tlearn: 0.0541735\ttotal: 10.5ms\tremaining: 0us\n",
      "0:\tlearn: 0.1140457\ttotal: 550us\tremaining: 21.4ms\n",
      "39:\tlearn: 0.0519188\ttotal: 16ms\tremaining: 0us\n",
      "0:\tlearn: 0.1153688\ttotal: 638us\tremaining: 24.9ms\n",
      "39:\tlearn: 0.0523464\ttotal: 16.6ms\tremaining: 0us\n",
      "0:\tlearn: 0.1122902\ttotal: 676us\tremaining: 26.4ms\n",
      "39:\tlearn: 0.0553880\ttotal: 10.5ms\tremaining: 0us\n",
      "0:\tlearn: 0.1135604\ttotal: 556us\tremaining: 21.7ms\n",
      "39:\tlearn: 0.0570813\ttotal: 9.08ms\tremaining: 0us\n"
     ]
    },
    {
     "name": "stderr",
     "output_type": "stream",
     "text": [
      "349it [56:07, 10.45s/it]"
     ]
    },
    {
     "name": "stdout",
     "output_type": "stream",
     "text": [
      "0:\tlearn: 0.0813315\ttotal: 520us\tremaining: 20.3ms\n",
      "39:\tlearn: 0.0333171\ttotal: 14.6ms\tremaining: 0us\n",
      "0:\tlearn: 0.0834825\ttotal: 520us\tremaining: 20.3ms\n",
      "39:\tlearn: 0.0365852\ttotal: 11.6ms\tremaining: 0us\n",
      "0:\tlearn: 0.0836383\ttotal: 526us\tremaining: 20.5ms\n",
      "39:\tlearn: 0.0363819\ttotal: 27ms\tremaining: 0us\n",
      "0:\tlearn: 0.0826123\ttotal: 531us\tremaining: 20.7ms\n",
      "39:\tlearn: 0.0378380\ttotal: 27.4ms\tremaining: 0us\n",
      "0:\tlearn: 0.0833093\ttotal: 501us\tremaining: 19.6ms\n",
      "39:\tlearn: 0.0366545\ttotal: 10.4ms\tremaining: 0us\n",
      "0:\tlearn: 0.0804733\ttotal: 453us\tremaining: 17.7ms\n",
      "39:\tlearn: 0.0352311\ttotal: 10.6ms\tremaining: 0us\n",
      "0:\tlearn: 0.0801385\ttotal: 588us\tremaining: 23ms\n",
      "39:\tlearn: 0.0340336\ttotal: 19.2ms\tremaining: 0us\n",
      "0:\tlearn: 0.0870938\ttotal: 476us\tremaining: 18.6ms\n",
      "39:\tlearn: 0.0425702\ttotal: 10.8ms\tremaining: 0us\n",
      "0:\tlearn: 0.0884916\ttotal: 591us\tremaining: 23.1ms\n",
      "39:\tlearn: 0.0447407\ttotal: 9.16ms\tremaining: 0us\n",
      "0:\tlearn: 0.0885647\ttotal: 402us\tremaining: 15.7ms\n",
      "39:\tlearn: 0.0426121\ttotal: 69.7ms\tremaining: 0us\n",
      "0:\tlearn: 0.0890242\ttotal: 567us\tremaining: 22.1ms\n",
      "39:\tlearn: 0.0472630\ttotal: 10.3ms\tremaining: 0us\n",
      "0:\tlearn: 0.0873295\ttotal: 573us\tremaining: 22.4ms\n",
      "39:\tlearn: 0.0416538\ttotal: 10.1ms\tremaining: 0us\n",
      "0:\tlearn: 0.0875642\ttotal: 560us\tremaining: 21.9ms\n",
      "39:\tlearn: 0.0439297\ttotal: 35.7ms\tremaining: 0us\n"
     ]
    },
    {
     "name": "stderr",
     "output_type": "stream",
     "text": [
      "350it [56:19, 10.87s/it]"
     ]
    },
    {
     "name": "stdout",
     "output_type": "stream",
     "text": [
      "0:\tlearn: 0.1196430\ttotal: 434us\tremaining: 17ms\n",
      "39:\tlearn: 0.0507392\ttotal: 19.2ms\tremaining: 0us\n",
      "0:\tlearn: 0.1179413\ttotal: 504us\tremaining: 19.7ms\n",
      "39:\tlearn: 0.0524613\ttotal: 10.5ms\tremaining: 0us\n",
      "0:\tlearn: 0.1158161\ttotal: 465us\tremaining: 18.1ms\n",
      "39:\tlearn: 0.0549392\ttotal: 18.5ms\tremaining: 0us\n",
      "0:\tlearn: 0.1141845\ttotal: 475us\tremaining: 18.6ms\n",
      "39:\tlearn: 0.0606790\ttotal: 9.41ms\tremaining: 0us\n",
      "0:\tlearn: 0.1158085\ttotal: 468us\tremaining: 18.3ms\n",
      "39:\tlearn: 0.0612227\ttotal: 16.2ms\tremaining: 0us\n",
      "0:\tlearn: 0.1161045\ttotal: 507us\tremaining: 19.8ms\n",
      "39:\tlearn: 0.0601123\ttotal: 14.1ms\tremaining: 0us\n",
      "0:\tlearn: 0.1177015\ttotal: 528us\tremaining: 20.6ms\n",
      "39:\tlearn: 0.0521464\ttotal: 51.6ms\tremaining: 0us\n",
      "0:\tlearn: 0.1181232\ttotal: 563us\tremaining: 22ms\n",
      "39:\tlearn: 0.0602093\ttotal: 16.3ms\tremaining: 0us\n",
      "0:\tlearn: 0.1179649\ttotal: 471us\tremaining: 18.4ms\n",
      "39:\tlearn: 0.0612880\ttotal: 14.9ms\tremaining: 0us\n",
      "0:\tlearn: 0.1163839\ttotal: 475us\tremaining: 18.6ms\n",
      "39:\tlearn: 0.0593887\ttotal: 9.81ms\tremaining: 0us\n",
      "0:\tlearn: 0.1185562\ttotal: 1.25ms\tremaining: 48.9ms\n",
      "39:\tlearn: 0.0642220\ttotal: 14.5ms\tremaining: 0us\n",
      "0:\tlearn: 0.1225049\ttotal: 496us\tremaining: 19.4ms\n",
      "39:\tlearn: 0.0718503\ttotal: 13.9ms\tremaining: 0us\n",
      "0:\tlearn: 0.1246975\ttotal: 458us\tremaining: 17.9ms\n",
      "39:\tlearn: 0.0735541\ttotal: 18ms\tremaining: 0us\n"
     ]
    },
    {
     "name": "stderr",
     "output_type": "stream",
     "text": [
      "351it [56:29, 10.75s/it]"
     ]
    },
    {
     "name": "stdout",
     "output_type": "stream",
     "text": [
      "0:\tlearn: 0.0485092\ttotal: 464us\tremaining: 18.1ms\n",
      "39:\tlearn: 0.0156551\ttotal: 9.11ms\tremaining: 0us\n",
      "0:\tlearn: 0.0482281\ttotal: 497us\tremaining: 19.4ms\n",
      "39:\tlearn: 0.0157933\ttotal: 62.8ms\tremaining: 0us\n",
      "0:\tlearn: 0.0471103\ttotal: 486us\tremaining: 19ms\n",
      "39:\tlearn: 0.0187649\ttotal: 15.1ms\tremaining: 0us\n",
      "0:\tlearn: 0.0466579\ttotal: 486us\tremaining: 19ms\n",
      "39:\tlearn: 0.0180478\ttotal: 8.87ms\tremaining: 0us\n",
      "0:\tlearn: 0.0466768\ttotal: 467us\tremaining: 18.2ms\n",
      "39:\tlearn: 0.0168040\ttotal: 9.41ms\tremaining: 0us\n",
      "0:\tlearn: 0.0463621\ttotal: 471us\tremaining: 18.4ms\n",
      "39:\tlearn: 0.0181056\ttotal: 10.3ms\tremaining: 0us\n",
      "0:\tlearn: 0.0479584\ttotal: 446us\tremaining: 17.4ms\n",
      "39:\tlearn: 0.0178693\ttotal: 9.11ms\tremaining: 0us\n",
      "0:\tlearn: 0.0490739\ttotal: 561us\tremaining: 21.9ms\n",
      "39:\tlearn: 0.0167346\ttotal: 9.6ms\tremaining: 0us\n",
      "0:\tlearn: 0.0488889\ttotal: 497us\tremaining: 19.4ms\n",
      "39:\tlearn: 0.0189535\ttotal: 9.56ms\tremaining: 0us\n",
      "0:\tlearn: 0.0481984\ttotal: 709us\tremaining: 27.7ms\n",
      "39:\tlearn: 0.0191458\ttotal: 112ms\tremaining: 0us\n",
      "0:\tlearn: 0.0483589\ttotal: 784us\tremaining: 30.6ms\n",
      "39:\tlearn: 0.0193692\ttotal: 32.8ms\tremaining: 0us\n",
      "0:\tlearn: 0.0470838\ttotal: 478us\tremaining: 18.7ms\n",
      "39:\tlearn: 0.0187769\ttotal: 19.7ms\tremaining: 0us\n",
      "0:\tlearn: 0.0475695\ttotal: 685us\tremaining: 26.7ms\n",
      "39:\tlearn: 0.0200808\ttotal: 53.8ms\tremaining: 0us\n"
     ]
    },
    {
     "name": "stderr",
     "output_type": "stream",
     "text": [
      "352it [56:40, 10.64s/it]"
     ]
    },
    {
     "name": "stdout",
     "output_type": "stream",
     "text": [
      "0:\tlearn: 0.0344387\ttotal: 529us\tremaining: 20.7ms\n",
      "39:\tlearn: 0.0128081\ttotal: 13.4ms\tremaining: 0us\n",
      "0:\tlearn: 0.0346989\ttotal: 499us\tremaining: 19.5ms\n",
      "39:\tlearn: 0.0136720\ttotal: 51.4ms\tremaining: 0us\n",
      "0:\tlearn: 0.0340264\ttotal: 528us\tremaining: 20.6ms\n",
      "39:\tlearn: 0.0127645\ttotal: 26.1ms\tremaining: 0us\n",
      "0:\tlearn: 0.0336616\ttotal: 442us\tremaining: 17.3ms\n",
      "39:\tlearn: 0.0137752\ttotal: 49.9ms\tremaining: 0us\n",
      "0:\tlearn: 0.0336971\ttotal: 468us\tremaining: 18.3ms\n",
      "39:\tlearn: 0.0131900\ttotal: 26.8ms\tremaining: 0us\n",
      "0:\tlearn: 0.0329417\ttotal: 499us\tremaining: 19.5ms\n",
      "39:\tlearn: 0.0137654\ttotal: 9.51ms\tremaining: 0us\n",
      "0:\tlearn: 0.0335640\ttotal: 484us\tremaining: 18.9ms\n",
      "39:\tlearn: 0.0140377\ttotal: 9.01ms\tremaining: 0us\n",
      "0:\tlearn: 0.0378135\ttotal: 516us\tremaining: 20.1ms\n",
      "39:\tlearn: 0.0152436\ttotal: 15.6ms\tremaining: 0us\n",
      "0:\tlearn: 0.0395535\ttotal: 469us\tremaining: 18.3ms\n",
      "39:\tlearn: 0.0141979\ttotal: 20.2ms\tremaining: 0us\n",
      "0:\tlearn: 0.0392799\ttotal: 578us\tremaining: 22.6ms\n",
      "39:\tlearn: 0.0146917\ttotal: 8.96ms\tremaining: 0us\n",
      "0:\tlearn: 0.0385644\ttotal: 553us\tremaining: 21.6ms\n",
      "39:\tlearn: 0.0146520\ttotal: 9.07ms\tremaining: 0us\n",
      "0:\tlearn: 0.0381728\ttotal: 554us\tremaining: 21.6ms\n",
      "39:\tlearn: 0.0146578\ttotal: 9.02ms\tremaining: 0us\n",
      "0:\tlearn: 0.0387406\ttotal: 532us\tremaining: 20.8ms\n",
      "39:\tlearn: 0.0148107\ttotal: 12.9ms\tremaining: 0us\n"
     ]
    },
    {
     "name": "stderr",
     "output_type": "stream",
     "text": [
      "353it [56:50, 10.55s/it]"
     ]
    },
    {
     "name": "stdout",
     "output_type": "stream",
     "text": [
      "0:\tlearn: 0.0690481\ttotal: 481us\tremaining: 18.8ms\n",
      "39:\tlearn: 0.0272158\ttotal: 8.2ms\tremaining: 0us\n",
      "0:\tlearn: 0.0691158\ttotal: 488us\tremaining: 19.1ms\n",
      "39:\tlearn: 0.0266707\ttotal: 9.26ms\tremaining: 0us\n",
      "0:\tlearn: 0.0678327\ttotal: 455us\tremaining: 17.8ms\n",
      "39:\tlearn: 0.0283145\ttotal: 25.9ms\tremaining: 0us\n",
      "0:\tlearn: 0.0681832\ttotal: 472us\tremaining: 18.4ms\n",
      "39:\tlearn: 0.0299071\ttotal: 14ms\tremaining: 0us\n",
      "0:\tlearn: 0.0681313\ttotal: 478us\tremaining: 18.7ms\n",
      "39:\tlearn: 0.0285447\ttotal: 9.09ms\tremaining: 0us\n",
      "0:\tlearn: 0.0781316\ttotal: 512us\tremaining: 20ms\n",
      "39:\tlearn: 0.0389011\ttotal: 51.4ms\tremaining: 0us\n",
      "0:\tlearn: 0.0795293\ttotal: 560us\tremaining: 21.9ms\n",
      "39:\tlearn: 0.0408955\ttotal: 9.18ms\tremaining: 0us\n",
      "0:\tlearn: 0.0801615\ttotal: 512us\tremaining: 20ms\n",
      "39:\tlearn: 0.0396037\ttotal: 32.3ms\tremaining: 0us\n",
      "0:\tlearn: 0.0827855\ttotal: 541us\tremaining: 21.1ms\n",
      "39:\tlearn: 0.0387729\ttotal: 14.3ms\tremaining: 0us\n",
      "0:\tlearn: 0.0803575\ttotal: 588us\tremaining: 22.9ms\n",
      "39:\tlearn: 0.0388664\ttotal: 8.85ms\tremaining: 0us\n",
      "0:\tlearn: 0.0803009\ttotal: 582us\tremaining: 22.7ms\n",
      "39:\tlearn: 0.0411697\ttotal: 9.79ms\tremaining: 0us\n",
      "0:\tlearn: 0.0812567\ttotal: 505us\tremaining: 19.7ms\n",
      "39:\tlearn: 0.0387042\ttotal: 10.5ms\tremaining: 0us\n",
      "0:\tlearn: 0.0797046\ttotal: 445us\tremaining: 17.4ms\n",
      "39:\tlearn: 0.0399167\ttotal: 21.6ms\tremaining: 0us\n"
     ]
    },
    {
     "name": "stderr",
     "output_type": "stream",
     "text": [
      "354it [57:00, 10.46s/it]"
     ]
    },
    {
     "name": "stdout",
     "output_type": "stream",
     "text": [
      "0:\tlearn: 0.0684575\ttotal: 487us\tremaining: 19ms\n",
      "39:\tlearn: 0.0342670\ttotal: 8.65ms\tremaining: 0us\n",
      "0:\tlearn: 0.0674612\ttotal: 528us\tremaining: 20.6ms\n",
      "39:\tlearn: 0.0361500\ttotal: 10.2ms\tremaining: 0us\n",
      "0:\tlearn: 0.0660194\ttotal: 512us\tremaining: 20ms\n",
      "39:\tlearn: 0.0352707\ttotal: 42ms\tremaining: 0us\n",
      "0:\tlearn: 0.0686054\ttotal: 489us\tremaining: 19.1ms\n",
      "39:\tlearn: 0.0403776\ttotal: 16ms\tremaining: 0us\n",
      "0:\tlearn: 0.0670344\ttotal: 589us\tremaining: 23ms\n",
      "39:\tlearn: 0.0385541\ttotal: 11.3ms\tremaining: 0us\n",
      "0:\tlearn: 0.0679688\ttotal: 541us\tremaining: 21.1ms\n",
      "39:\tlearn: 0.0382189\ttotal: 10.1ms\tremaining: 0us\n",
      "0:\tlearn: 0.0666860\ttotal: 660us\tremaining: 25.8ms\n",
      "39:\tlearn: 0.0369893\ttotal: 9.8ms\tremaining: 0us\n",
      "0:\tlearn: 0.0741198\ttotal: 540us\tremaining: 21.1ms\n",
      "39:\tlearn: 0.0475621\ttotal: 14.9ms\tremaining: 0us\n",
      "0:\tlearn: 0.0741531\ttotal: 475us\tremaining: 18.5ms\n",
      "39:\tlearn: 0.0457178\ttotal: 91.5ms\tremaining: 0us\n",
      "0:\tlearn: 0.0808965\ttotal: 593us\tremaining: 23.1ms\n",
      "39:\tlearn: 0.0529636\ttotal: 28.6ms\tremaining: 0us\n",
      "0:\tlearn: 0.0796379\ttotal: 444us\tremaining: 17.3ms\n",
      "39:\tlearn: 0.0504029\ttotal: 13.2ms\tremaining: 0us\n",
      "0:\tlearn: 0.0793102\ttotal: 594us\tremaining: 23.2ms\n",
      "39:\tlearn: 0.0504017\ttotal: 9.73ms\tremaining: 0us\n",
      "0:\tlearn: 0.0806335\ttotal: 599us\tremaining: 23.4ms\n",
      "39:\tlearn: 0.0502643\ttotal: 9.14ms\tremaining: 0us\n"
     ]
    },
    {
     "name": "stderr",
     "output_type": "stream",
     "text": [
      "355it [57:11, 10.44s/it]"
     ]
    },
    {
     "name": "stdout",
     "output_type": "stream",
     "text": [
      "0:\tlearn: 0.1439259\ttotal: 419us\tremaining: 16.3ms\n",
      "39:\tlearn: 0.0595898\ttotal: 8.26ms\tremaining: 0us\n",
      "0:\tlearn: 0.1423062\ttotal: 464us\tremaining: 18.1ms\n",
      "39:\tlearn: 0.0599147\ttotal: 15.3ms\tremaining: 0us\n",
      "0:\tlearn: 0.1406402\ttotal: 464us\tremaining: 18.1ms\n",
      "39:\tlearn: 0.0659416\ttotal: 28.7ms\tremaining: 0us\n",
      "0:\tlearn: 0.1396266\ttotal: 1.46ms\tremaining: 57.1ms\n",
      "39:\tlearn: 0.0744174\ttotal: 13.9ms\tremaining: 0us\n",
      "0:\tlearn: 0.1371577\ttotal: 486us\tremaining: 19ms\n",
      "39:\tlearn: 0.0591746\ttotal: 14.6ms\tremaining: 0us\n",
      "0:\tlearn: 0.1358875\ttotal: 537us\tremaining: 21ms\n",
      "39:\tlearn: 0.0681495\ttotal: 14.2ms\tremaining: 0us\n",
      "0:\tlearn: 0.1431638\ttotal: 515us\tremaining: 20.1ms\n",
      "39:\tlearn: 0.0803875\ttotal: 13.3ms\tremaining: 0us\n",
      "0:\tlearn: 0.1395246\ttotal: 477us\tremaining: 18.6ms\n",
      "39:\tlearn: 0.0862808\ttotal: 9.92ms\tremaining: 0us\n",
      "0:\tlearn: 0.1388290\ttotal: 486us\tremaining: 19ms\n",
      "39:\tlearn: 0.0859084\ttotal: 14.1ms\tremaining: 0us\n",
      "0:\tlearn: 0.1354780\ttotal: 766us\tremaining: 29.9ms\n",
      "39:\tlearn: 0.0853262\ttotal: 9.39ms\tremaining: 0us\n",
      "0:\tlearn: 0.1361885\ttotal: 529us\tremaining: 20.7ms\n",
      "39:\tlearn: 0.0821359\ttotal: 10.7ms\tremaining: 0us\n",
      "0:\tlearn: 0.1343613\ttotal: 477us\tremaining: 18.6ms\n",
      "39:\tlearn: 0.0747549\ttotal: 14.2ms\tremaining: 0us\n"
     ]
    },
    {
     "name": "stderr",
     "output_type": "stream",
     "text": [
      "356it [57:21, 10.40s/it]"
     ]
    },
    {
     "name": "stdout",
     "output_type": "stream",
     "text": [
      "0:\tlearn: 0.0501079\ttotal: 550us\tremaining: 21.5ms\n",
      "39:\tlearn: 0.0257135\ttotal: 9.77ms\tremaining: 0us\n",
      "0:\tlearn: 0.0503707\ttotal: 480us\tremaining: 18.8ms\n",
      "39:\tlearn: 0.0269896\ttotal: 37.1ms\tremaining: 0us\n",
      "0:\tlearn: 0.0491506\ttotal: 492us\tremaining: 19.2ms\n",
      "39:\tlearn: 0.0269521\ttotal: 30.6ms\tremaining: 0us\n",
      "0:\tlearn: 0.0490198\ttotal: 596us\tremaining: 23.3ms\n",
      "39:\tlearn: 0.0272309\ttotal: 31.6ms\tremaining: 0us\n",
      "0:\tlearn: 0.0484618\ttotal: 496us\tremaining: 19.4ms\n",
      "39:\tlearn: 0.0306487\ttotal: 26.8ms\tremaining: 0us\n",
      "0:\tlearn: 0.0509203\ttotal: 530us\tremaining: 20.7ms\n",
      "39:\tlearn: 0.0284551\ttotal: 9.54ms\tremaining: 0us\n",
      "0:\tlearn: 0.0516450\ttotal: 453us\tremaining: 17.7ms\n",
      "39:\tlearn: 0.0328809\ttotal: 17.8ms\tremaining: 0us\n",
      "0:\tlearn: 0.0519020\ttotal: 529us\tremaining: 20.6ms\n",
      "39:\tlearn: 0.0300335\ttotal: 9.29ms\tremaining: 0us\n",
      "0:\tlearn: 0.0518449\ttotal: 471us\tremaining: 18.4ms\n",
      "39:\tlearn: 0.0329824\ttotal: 9.2ms\tremaining: 0us\n",
      "0:\tlearn: 0.0507596\ttotal: 617us\tremaining: 24.1ms\n",
      "39:\tlearn: 0.0331461\ttotal: 30.2ms\tremaining: 0us\n",
      "0:\tlearn: 0.0530616\ttotal: 583us\tremaining: 22.8ms\n",
      "39:\tlearn: 0.0382349\ttotal: 29.8ms\tremaining: 0us\n",
      "0:\tlearn: 0.0534540\ttotal: 587us\tremaining: 22.9ms\n",
      "39:\tlearn: 0.0334397\ttotal: 14.6ms\tremaining: 0us\n",
      "0:\tlearn: 0.0582774\ttotal: 619us\tremaining: 24.1ms\n",
      "39:\tlearn: 0.0373382\ttotal: 9.58ms\tremaining: 0us\n"
     ]
    },
    {
     "name": "stderr",
     "output_type": "stream",
     "text": [
      "357it [57:31,  9.67s/it]"
     ]
    },
    {
     "name": "stdout",
     "output_type": "stream",
     "text": [
      "длина фрейма = 304 сред. mae = 0.07246813250464258\n"
     ]
    },
    {
     "name": "stderr",
     "output_type": "stream",
     "text": [
      "\n"
     ]
    }
   ],
   "source": [
    "mae_predictions_catboost = []\n",
    "catboost_predicts =[]\n",
    "\n",
    "for x,y,z in tqdm(zip(all_categories['Территория'], all_categories['Подразделение'], all_categories['Разряд'])):\n",
    "    test_df = plot_ter_sub_rank_KOTR(x,y,z)\n",
    "    new_test_df = create_shift(test_df, 12, 3)\n",
    "    try:\n",
    "        catboost_predict = spliting_training_prediction_catboost(new_test_df)\n",
    "        catboost_predicts.append(catboost_predict)\n",
    "        test = new_test_df['2020-01':]\n",
    "        target_test = test['KOTR']\n",
    "        mae_predictions_catboost.append(mean_absolute_error(target_test, catboost_predict))\n",
    "    except:\n",
    "        catboost_predicts.append(0)\n",
    "        mae_predictions_catboost.append('error')\n",
    "mae_catboost = all_categories.copy()\n",
    "mae_catboost['MAE'] = mae_predictions_catboost\n",
    "print('длина фрейма =',len(mae_catboost[mae_catboost['MAE'] != 'error']),\n",
    "      'сред. mae =', mae_catboost[mae_catboost['MAE'] != 'error']['MAE'].mean())"
   ]
  },
  {
   "cell_type": "markdown",
   "metadata": {},
   "source": [
    "Отдельно поработаем с разрядами, которые модель не смогла предсказать. Скорее всего в них мало данных для предсказаний, поэтому необходимо изменить длину lag'а."
   ]
  },
  {
   "cell_type": "code",
   "execution_count": 36,
   "metadata": {},
   "outputs": [
    {
     "name": "stderr",
     "output_type": "stream",
     "text": [
      "0it [00:00, ?it/s]"
     ]
    },
    {
     "name": "stdout",
     "output_type": "stream",
     "text": [
      "0:\tlearn: 0.0180654\ttotal: 483us\tremaining: 18.9ms\n",
      "39:\tlearn: 0.0068209\ttotal: 11.8ms\tremaining: 0us\n",
      "0:\tlearn: 0.0178622\ttotal: 716us\tremaining: 27.9ms\n",
      "39:\tlearn: 0.0066911\ttotal: 6.76ms\tremaining: 0us\n",
      "0:\tlearn: 0.0176560\ttotal: 495us\tremaining: 19.3ms\n",
      "39:\tlearn: 0.0064919\ttotal: 6.66ms\tremaining: 0us\n",
      "0:\tlearn: 0.0181206\ttotal: 451us\tremaining: 17.6ms\n",
      "39:\tlearn: 0.0069914\ttotal: 7.42ms\tremaining: 0us\n",
      "0:\tlearn: 0.0209674\ttotal: 1.26ms\tremaining: 49ms\n",
      "39:\tlearn: 0.0094426\ttotal: 14.2ms\tremaining: 0us\n",
      "0:\tlearn: 0.0222097\ttotal: 449us\tremaining: 17.5ms\n",
      "39:\tlearn: 0.0081674\ttotal: 12.7ms\tremaining: 0us\n",
      "0:\tlearn: 0.0220204\ttotal: 446us\tremaining: 17.4ms\n",
      "39:\tlearn: 0.0109002\ttotal: 7.96ms\tremaining: 0us\n",
      "0:\tlearn: 0.0260700\ttotal: 535us\tremaining: 20.9ms\n",
      "39:\tlearn: 0.0127594\ttotal: 12.3ms\tremaining: 0us\n",
      "0:\tlearn: 0.0284118\ttotal: 454us\tremaining: 17.7ms\n",
      "39:\tlearn: 0.0103044\ttotal: 13.2ms\tremaining: 0us\n",
      "0:\tlearn: 0.0279896\ttotal: 418us\tremaining: 16.3ms\n",
      "39:\tlearn: 0.0117969\ttotal: 21.4ms\tremaining: 0us\n",
      "0:\tlearn: 0.0271650\ttotal: 776us\tremaining: 30.3ms\n",
      "39:\tlearn: 0.0114184\ttotal: 7.12ms\tremaining: 0us\n",
      "0:\tlearn: 0.0268523\ttotal: 515us\tremaining: 20.1ms\n",
      "39:\tlearn: 0.0112600\ttotal: 6.88ms\tremaining: 0us\n",
      "0:\tlearn: 0.0264738\ttotal: 510us\tremaining: 19.9ms\n",
      "39:\tlearn: 0.0119830\ttotal: 6.77ms\tremaining: 0us\n"
     ]
    },
    {
     "name": "stderr",
     "output_type": "stream",
     "text": [
      "1it [00:10, 10.39s/it]"
     ]
    },
    {
     "name": "stdout",
     "output_type": "stream",
     "text": [
      "0:\tlearn: 0.0371343\ttotal: 440us\tremaining: 17.2ms\n",
      "39:\tlearn: 0.0150498\ttotal: 13.2ms\tremaining: 0us\n",
      "0:\tlearn: 0.0353694\ttotal: 466us\tremaining: 18.2ms\n",
      "39:\tlearn: 0.0146492\ttotal: 12.2ms\tremaining: 0us\n",
      "0:\tlearn: 0.0352800\ttotal: 385us\tremaining: 15ms\n",
      "39:\tlearn: 0.0166735\ttotal: 6.3ms\tremaining: 0us\n",
      "0:\tlearn: 0.0337877\ttotal: 394us\tremaining: 15.4ms\n",
      "39:\tlearn: 0.0159254\ttotal: 52.8ms\tremaining: 0us\n",
      "0:\tlearn: 0.0340622\ttotal: 657us\tremaining: 25.6ms\n",
      "39:\tlearn: 0.0152381\ttotal: 7.17ms\tremaining: 0us\n",
      "0:\tlearn: 0.0337394\ttotal: 400us\tremaining: 15.6ms\n",
      "39:\tlearn: 0.0169071\ttotal: 6.73ms\tremaining: 0us\n",
      "0:\tlearn: 0.0323357\ttotal: 402us\tremaining: 15.7ms\n",
      "39:\tlearn: 0.0166995\ttotal: 18ms\tremaining: 0us\n",
      "0:\tlearn: 0.0334270\ttotal: 1.24ms\tremaining: 48.4ms\n",
      "39:\tlearn: 0.0167287\ttotal: 8.23ms\tremaining: 0us\n",
      "0:\tlearn: 0.0368909\ttotal: 492us\tremaining: 19.2ms\n",
      "39:\tlearn: 0.0199162\ttotal: 20ms\tremaining: 0us\n",
      "0:\tlearn: 0.0361685\ttotal: 449us\tremaining: 17.5ms\n",
      "39:\tlearn: 0.0189500\ttotal: 7.06ms\tremaining: 0us\n",
      "0:\tlearn: 0.0357982\ttotal: 1.04ms\tremaining: 40.6ms\n",
      "39:\tlearn: 0.0203967\ttotal: 79.9ms\tremaining: 0us\n",
      "0:\tlearn: 0.0348638\ttotal: 390us\tremaining: 15.2ms\n",
      "39:\tlearn: 0.0211583\ttotal: 6.45ms\tremaining: 0us\n",
      "0:\tlearn: 0.0346264\ttotal: 519us\tremaining: 20.3ms\n",
      "39:\tlearn: 0.0207453\ttotal: 21.9ms\tremaining: 0us\n"
     ]
    },
    {
     "name": "stderr",
     "output_type": "stream",
     "text": [
      "2it [00:23, 11.15s/it]"
     ]
    },
    {
     "name": "stdout",
     "output_type": "stream",
     "text": [
      "0:\tlearn: 0.0266074\ttotal: 410us\tremaining: 16ms\n",
      "39:\tlearn: 0.0074657\ttotal: 7.19ms\tremaining: 0us\n",
      "0:\tlearn: 0.0251105\ttotal: 456us\tremaining: 17.8ms\n",
      "39:\tlearn: 0.0075233\ttotal: 6.84ms\tremaining: 0us\n",
      "0:\tlearn: 0.0243161\ttotal: 420us\tremaining: 16.4ms\n",
      "39:\tlearn: 0.0068343\ttotal: 6.76ms\tremaining: 0us\n",
      "0:\tlearn: 0.0233697\ttotal: 629us\tremaining: 24.6ms\n",
      "39:\tlearn: 0.0064757\ttotal: 6.85ms\tremaining: 0us\n",
      "0:\tlearn: 0.0305427\ttotal: 439us\tremaining: 17.1ms\n",
      "39:\tlearn: 0.0130824\ttotal: 6.63ms\tremaining: 0us\n",
      "0:\tlearn: 0.0308828\ttotal: 424us\tremaining: 16.5ms\n",
      "39:\tlearn: 0.0123024\ttotal: 6.56ms\tremaining: 0us\n",
      "0:\tlearn: 0.0302506\ttotal: 451us\tremaining: 17.6ms\n",
      "39:\tlearn: 0.0124153\ttotal: 7.87ms\tremaining: 0us\n",
      "0:\tlearn: 0.0353342\ttotal: 481us\tremaining: 18.8ms\n",
      "39:\tlearn: 0.0170906\ttotal: 11.8ms\tremaining: 0us\n",
      "0:\tlearn: 0.0408303\ttotal: 427us\tremaining: 16.7ms\n",
      "39:\tlearn: 0.0173044\ttotal: 6.59ms\tremaining: 169us\n",
      "0:\tlearn: 0.0404075\ttotal: 488us\tremaining: 19ms\n",
      "39:\tlearn: 0.0163187\ttotal: 7.87ms\tremaining: 0us\n",
      "0:\tlearn: 0.0387936\ttotal: 479us\tremaining: 18.7ms\n",
      "39:\tlearn: 0.0164619\ttotal: 13.7ms\tremaining: 0us\n",
      "0:\tlearn: 0.0389367\ttotal: 403us\tremaining: 15.7ms\n",
      "39:\tlearn: 0.0154705\ttotal: 27.4ms\tremaining: 0us\n",
      "0:\tlearn: 0.0399217\ttotal: 521us\tremaining: 20.4ms\n",
      "39:\tlearn: 0.0172859\ttotal: 6.64ms\tremaining: 0us\n"
     ]
    },
    {
     "name": "stderr",
     "output_type": "stream",
     "text": [
      "3it [00:33, 10.92s/it]"
     ]
    },
    {
     "name": "stdout",
     "output_type": "stream",
     "text": [
      "0:\tlearn: 0.0306523\ttotal: 438us\tremaining: 17.1ms\n",
      "39:\tlearn: 0.0085587\ttotal: 6.43ms\tremaining: 0us\n",
      "0:\tlearn: 0.0301620\ttotal: 456us\tremaining: 17.8ms\n",
      "39:\tlearn: 0.0090208\ttotal: 6.76ms\tremaining: 0us\n",
      "0:\tlearn: 0.0293191\ttotal: 463us\tremaining: 18.1ms\n",
      "39:\tlearn: 0.0090301\ttotal: 6.54ms\tremaining: 0us\n",
      "0:\tlearn: 0.0281614\ttotal: 422us\tremaining: 16.5ms\n",
      "39:\tlearn: 0.0077505\ttotal: 7.57ms\tremaining: 0us\n",
      "0:\tlearn: 0.0331559\ttotal: 399us\tremaining: 15.6ms\n",
      "39:\tlearn: 0.0127774\ttotal: 7.68ms\tremaining: 0us\n",
      "0:\tlearn: 0.0357520\ttotal: 418us\tremaining: 16.3ms\n",
      "39:\tlearn: 0.0115968\ttotal: 11.9ms\tremaining: 0us\n",
      "0:\tlearn: 0.0354796\ttotal: 420us\tremaining: 16.4ms\n",
      "39:\tlearn: 0.0150905\ttotal: 7.64ms\tremaining: 0us\n",
      "0:\tlearn: 0.0395733\ttotal: 531us\tremaining: 20.7ms\n",
      "39:\tlearn: 0.0179450\ttotal: 6.59ms\tremaining: 0us\n",
      "0:\tlearn: 0.0443277\ttotal: 432us\tremaining: 16.9ms\n",
      "39:\tlearn: 0.0192976\ttotal: 6.99ms\tremaining: 0us\n",
      "0:\tlearn: 0.0428240\ttotal: 807us\tremaining: 31.5ms\n",
      "39:\tlearn: 0.0199754\ttotal: 14.8ms\tremaining: 0us\n",
      "0:\tlearn: 0.0418901\ttotal: 439us\tremaining: 17.2ms\n",
      "39:\tlearn: 0.0185353\ttotal: 12.4ms\tremaining: 0us\n",
      "0:\tlearn: 0.0418791\ttotal: 424us\tremaining: 16.5ms\n",
      "39:\tlearn: 0.0172360\ttotal: 18.3ms\tremaining: 0us\n",
      "0:\tlearn: 0.0428908\ttotal: 512us\tremaining: 20ms\n",
      "39:\tlearn: 0.0210557\ttotal: 12.5ms\tremaining: 0us\n"
     ]
    },
    {
     "name": "stderr",
     "output_type": "stream",
     "text": [
      "4it [00:43, 10.68s/it]"
     ]
    },
    {
     "name": "stdout",
     "output_type": "stream",
     "text": [
      "0:\tlearn: 0.0897468\ttotal: 462us\tremaining: 18ms\n",
      "39:\tlearn: 0.0398782\ttotal: 6.28ms\tremaining: 0us\n",
      "0:\tlearn: 0.0940358\ttotal: 456us\tremaining: 17.8ms\n",
      "39:\tlearn: 0.0392234\ttotal: 6.8ms\tremaining: 0us\n",
      "0:\tlearn: 0.1036882\ttotal: 405us\tremaining: 15.8ms\n",
      "39:\tlearn: 0.0471396\ttotal: 6.45ms\tremaining: 0us\n",
      "0:\tlearn: 0.1147957\ttotal: 423us\tremaining: 16.5ms\n",
      "39:\tlearn: 0.0522932\ttotal: 12.2ms\tremaining: 0us\n",
      "0:\tlearn: 0.1103884\ttotal: 466us\tremaining: 18.2ms\n",
      "39:\tlearn: 0.0550336\ttotal: 24.4ms\tremaining: 0us\n",
      "0:\tlearn: 0.1079046\ttotal: 427us\tremaining: 16.7ms\n",
      "39:\tlearn: 0.0501718\ttotal: 6.95ms\tremaining: 0us\n",
      "0:\tlearn: 0.1120624\ttotal: 419us\tremaining: 16.4ms\n",
      "39:\tlearn: 0.0586790\ttotal: 12.5ms\tremaining: 0us\n",
      "0:\tlearn: 0.1097447\ttotal: 496us\tremaining: 19.4ms\n",
      "39:\tlearn: 0.0568878\ttotal: 6.76ms\tremaining: 0us\n",
      "0:\tlearn: 0.1062793\ttotal: 402us\tremaining: 15.7ms\n",
      "39:\tlearn: 0.0549200\ttotal: 6.73ms\tremaining: 0us\n",
      "0:\tlearn: 0.1109206\ttotal: 420us\tremaining: 16.4ms\n",
      "39:\tlearn: 0.0525391\ttotal: 6.53ms\tremaining: 0us\n",
      "0:\tlearn: 0.1136344\ttotal: 418us\tremaining: 16.3ms\n",
      "39:\tlearn: 0.0531754\ttotal: 12ms\tremaining: 0us\n",
      "0:\tlearn: 0.1154747\ttotal: 412us\tremaining: 16.1ms\n",
      "39:\tlearn: 0.0550289\ttotal: 27.2ms\tremaining: 0us\n"
     ]
    },
    {
     "name": "stderr",
     "output_type": "stream",
     "text": [
      "5it [00:53, 10.32s/it]"
     ]
    },
    {
     "name": "stdout",
     "output_type": "stream",
     "text": [
      "0:\tlearn: 0.0464176\ttotal: 1.37ms\tremaining: 53.4ms\n",
      "39:\tlearn: 0.0154282\ttotal: 27.3ms\tremaining: 0us\n",
      "0:\tlearn: 0.0461644\ttotal: 465us\tremaining: 18.1ms\n",
      "39:\tlearn: 0.0151969\ttotal: 6.78ms\tremaining: 173us\n",
      "0:\tlearn: 0.0449821\ttotal: 447us\tremaining: 17.5ms\n",
      "39:\tlearn: 0.0151198\ttotal: 7.1ms\tremaining: 0us\n",
      "0:\tlearn: 0.0424156\ttotal: 413us\tremaining: 16.1ms\n",
      "39:\tlearn: 0.0150766\ttotal: 6.66ms\tremaining: 0us\n",
      "0:\tlearn: 0.0421023\ttotal: 399us\tremaining: 15.6ms\n",
      "39:\tlearn: 0.0150606\ttotal: 20.5ms\tremaining: 0us\n",
      "0:\tlearn: 0.0432096\ttotal: 497us\tremaining: 19.4ms\n",
      "39:\tlearn: 0.0149425\ttotal: 6.85ms\tremaining: 0us\n",
      "0:\tlearn: 0.0430410\ttotal: 417us\tremaining: 16.3ms\n",
      "39:\tlearn: 0.0163058\ttotal: 6.99ms\tremaining: 0us\n",
      "0:\tlearn: 0.0429253\ttotal: 437us\tremaining: 17.1ms\n",
      "39:\tlearn: 0.0174549\ttotal: 7.17ms\tremaining: 0us\n",
      "0:\tlearn: 0.0425682\ttotal: 442us\tremaining: 17.3ms\n",
      "39:\tlearn: 0.0183778\ttotal: 7.63ms\tremaining: 0us\n",
      "0:\tlearn: 0.0409184\ttotal: 515us\tremaining: 20.1ms\n",
      "39:\tlearn: 0.0169851\ttotal: 6.48ms\tremaining: 0us\n",
      "0:\tlearn: 0.0405840\ttotal: 510us\tremaining: 19.9ms\n",
      "39:\tlearn: 0.0182113\ttotal: 6.78ms\tremaining: 0us\n",
      "0:\tlearn: 0.0438572\ttotal: 447us\tremaining: 17.5ms\n",
      "39:\tlearn: 0.0204074\ttotal: 7.42ms\tremaining: 0us\n",
      "0:\tlearn: 0.0495820\ttotal: 443us\tremaining: 17.3ms\n",
      "39:\tlearn: 0.0226251\ttotal: 12ms\tremaining: 0us\n"
     ]
    },
    {
     "name": "stderr",
     "output_type": "stream",
     "text": [
      "6it [01:03, 10.25s/it]"
     ]
    },
    {
     "name": "stdout",
     "output_type": "stream",
     "text": [
      "0:\tlearn: 0.0180605\ttotal: 464us\tremaining: 18.1ms\n",
      "39:\tlearn: 0.0067889\ttotal: 7.14ms\tremaining: 0us\n",
      "0:\tlearn: 0.0172665\ttotal: 437us\tremaining: 17.1ms\n",
      "39:\tlearn: 0.0066231\ttotal: 6.5ms\tremaining: 0us\n",
      "0:\tlearn: 0.0171915\ttotal: 385us\tremaining: 15ms\n",
      "39:\tlearn: 0.0067653\ttotal: 22.7ms\tremaining: 0us\n",
      "0:\tlearn: 0.0329764\ttotal: 1.08ms\tremaining: 42ms\n",
      "39:\tlearn: 0.0148301\ttotal: 116ms\tremaining: 0us\n",
      "0:\tlearn: 0.0315571\ttotal: 418us\tremaining: 16.3ms\n",
      "39:\tlearn: 0.0129825\ttotal: 31.5ms\tremaining: 0us\n",
      "0:\tlearn: 0.0317703\ttotal: 431us\tremaining: 16.8ms\n",
      "39:\tlearn: 0.0125487\ttotal: 6.76ms\tremaining: 173us\n",
      "0:\tlearn: 0.0320911\ttotal: 416us\tremaining: 16.3ms\n",
      "39:\tlearn: 0.0122001\ttotal: 12.7ms\tremaining: 0us\n",
      "0:\tlearn: 0.0380801\ttotal: 441us\tremaining: 17.2ms\n",
      "39:\tlearn: 0.0180947\ttotal: 11.9ms\tremaining: 0us\n",
      "0:\tlearn: 0.0430504\ttotal: 443us\tremaining: 17.3ms\n",
      "39:\tlearn: 0.0216941\ttotal: 14ms\tremaining: 0us\n",
      "0:\tlearn: 0.0420473\ttotal: 551us\tremaining: 21.5ms\n",
      "39:\tlearn: 0.0200089\ttotal: 6.77ms\tremaining: 0us\n",
      "0:\tlearn: 0.0413215\ttotal: 463us\tremaining: 18.1ms\n",
      "39:\tlearn: 0.0200314\ttotal: 6.76ms\tremaining: 0us\n",
      "0:\tlearn: 0.0410226\ttotal: 450us\tremaining: 17.6ms\n",
      "39:\tlearn: 0.0224447\ttotal: 6.79ms\tremaining: 0us\n",
      "0:\tlearn: 0.0400682\ttotal: 452us\tremaining: 17.6ms\n",
      "39:\tlearn: 0.0219132\ttotal: 7.16ms\tremaining: 0us\n"
     ]
    },
    {
     "name": "stderr",
     "output_type": "stream",
     "text": [
      "7it [01:13, 10.30s/it]"
     ]
    },
    {
     "name": "stdout",
     "output_type": "stream",
     "text": [
      "0:\tlearn: 0.0162069\ttotal: 417us\tremaining: 16.3ms\n",
      "39:\tlearn: 0.0051996\ttotal: 11.9ms\tremaining: 0us\n",
      "0:\tlearn: 0.0170143\ttotal: 400us\tremaining: 15.6ms\n",
      "39:\tlearn: 0.0055017\ttotal: 12ms\tremaining: 306us\n",
      "0:\tlearn: 0.0163732\ttotal: 690us\tremaining: 26.9ms\n",
      "39:\tlearn: 0.0057992\ttotal: 8.19ms\tremaining: 0us\n",
      "0:\tlearn: 0.0176921\ttotal: 660us\tremaining: 25.8ms\n",
      "39:\tlearn: 0.0062372\ttotal: 19.7ms\tremaining: 0us\n",
      "0:\tlearn: 0.0223504\ttotal: 414us\tremaining: 16.2ms\n",
      "39:\tlearn: 0.0101616\ttotal: 8.05ms\tremaining: 206us\n",
      "0:\tlearn: 0.0234258\ttotal: 407us\tremaining: 15.9ms\n",
      "39:\tlearn: 0.0099735\ttotal: 6.79ms\tremaining: 0us\n",
      "0:\tlearn: 0.0235592\ttotal: 423us\tremaining: 16.5ms\n",
      "39:\tlearn: 0.0106544\ttotal: 8.08ms\tremaining: 0us\n",
      "0:\tlearn: 0.0288273\ttotal: 475us\tremaining: 18.6ms\n",
      "39:\tlearn: 0.0137792\ttotal: 150ms\tremaining: 0us\n",
      "0:\tlearn: 0.0318268\ttotal: 478us\tremaining: 18.7ms\n",
      "39:\tlearn: 0.0132063\ttotal: 6.91ms\tremaining: 0us\n",
      "0:\tlearn: 0.0319286\ttotal: 415us\tremaining: 16.2ms\n",
      "39:\tlearn: 0.0153668\ttotal: 6.85ms\tremaining: 0us\n",
      "0:\tlearn: 0.0313399\ttotal: 394us\tremaining: 15.4ms\n",
      "39:\tlearn: 0.0176011\ttotal: 7.75ms\tremaining: 0us\n",
      "0:\tlearn: 0.0311261\ttotal: 433us\tremaining: 16.9ms\n",
      "39:\tlearn: 0.0164960\ttotal: 7.96ms\tremaining: 204us\n",
      "0:\tlearn: 0.0309209\ttotal: 470us\tremaining: 18.4ms\n",
      "39:\tlearn: 0.0169720\ttotal: 6.66ms\tremaining: 0us\n"
     ]
    },
    {
     "name": "stderr",
     "output_type": "stream",
     "text": [
      "8it [01:24, 10.55s/it]"
     ]
    },
    {
     "name": "stdout",
     "output_type": "stream",
     "text": [
      "0:\tlearn: 0.0271285\ttotal: 426us\tremaining: 16.6ms\n",
      "39:\tlearn: 0.0079877\ttotal: 11.8ms\tremaining: 0us\n",
      "0:\tlearn: 0.0263142\ttotal: 401us\tremaining: 15.7ms\n",
      "39:\tlearn: 0.0086021\ttotal: 11.9ms\tremaining: 0us\n",
      "0:\tlearn: 0.0260360\ttotal: 400us\tremaining: 15.6ms\n",
      "39:\tlearn: 0.0084894\ttotal: 7.21ms\tremaining: 0us\n",
      "0:\tlearn: 0.0272810\ttotal: 429us\tremaining: 16.8ms\n",
      "39:\tlearn: 0.0101118\ttotal: 8.69ms\tremaining: 0us\n",
      "0:\tlearn: 0.0299006\ttotal: 493us\tremaining: 19.3ms\n",
      "39:\tlearn: 0.0132356\ttotal: 6.72ms\tremaining: 0us\n",
      "0:\tlearn: 0.0291849\ttotal: 1.56ms\tremaining: 60.9ms\n",
      "39:\tlearn: 0.0116492\ttotal: 27.6ms\tremaining: 0us\n",
      "0:\tlearn: 0.0310150\ttotal: 463us\tremaining: 18.1ms\n",
      "39:\tlearn: 0.0175166\ttotal: 24.3ms\tremaining: 0us\n",
      "0:\tlearn: 0.0390578\ttotal: 548us\tremaining: 21.4ms\n",
      "39:\tlearn: 0.0228356\ttotal: 14.3ms\tremaining: 367us\n",
      "0:\tlearn: 0.0395740\ttotal: 455us\tremaining: 17.8ms\n",
      "39:\tlearn: 0.0199689\ttotal: 7.89ms\tremaining: 0us\n",
      "0:\tlearn: 0.0409546\ttotal: 519us\tremaining: 20.3ms\n",
      "39:\tlearn: 0.0241200\ttotal: 6.9ms\tremaining: 176us\n",
      "0:\tlearn: 0.0400598\ttotal: 431us\tremaining: 16.8ms\n",
      "39:\tlearn: 0.0238985\ttotal: 6.55ms\tremaining: 167us\n",
      "0:\tlearn: 0.0400713\ttotal: 576us\tremaining: 22.5ms\n",
      "39:\tlearn: 0.0247368\ttotal: 7.41ms\tremaining: 0us\n",
      "0:\tlearn: 0.0401033\ttotal: 411us\tremaining: 16ms\n",
      "39:\tlearn: 0.0240581\ttotal: 9.05ms\tremaining: 0us\n"
     ]
    },
    {
     "name": "stderr",
     "output_type": "stream",
     "text": [
      "9it [01:35, 10.58s/it]"
     ]
    },
    {
     "name": "stdout",
     "output_type": "stream",
     "text": [
      "0:\tlearn: 0.0219432\ttotal: 418us\tremaining: 16.3ms\n",
      "39:\tlearn: 0.0069732\ttotal: 6.12ms\tremaining: 0us\n",
      "0:\tlearn: 0.0211393\ttotal: 467us\tremaining: 18.2ms\n",
      "39:\tlearn: 0.0066830\ttotal: 12.2ms\tremaining: 0us\n",
      "0:\tlearn: 0.0207487\ttotal: 466us\tremaining: 18.2ms\n",
      "39:\tlearn: 0.0063713\ttotal: 7.11ms\tremaining: 182us\n",
      "0:\tlearn: 0.0229171\ttotal: 417us\tremaining: 16.3ms\n",
      "39:\tlearn: 0.0088593\ttotal: 7.3ms\tremaining: 0us\n",
      "0:\tlearn: 0.0281986\ttotal: 474us\tremaining: 18.5ms\n",
      "39:\tlearn: 0.0125699\ttotal: 7.27ms\tremaining: 0us\n",
      "0:\tlearn: 0.0303625\ttotal: 416us\tremaining: 16.2ms\n",
      "39:\tlearn: 0.0131733\ttotal: 11.9ms\tremaining: 0us\n",
      "0:\tlearn: 0.0299519\ttotal: 411us\tremaining: 16.1ms\n",
      "39:\tlearn: 0.0131955\ttotal: 12.4ms\tremaining: 0us\n",
      "0:\tlearn: 0.0353163\ttotal: 502us\tremaining: 19.6ms\n",
      "39:\tlearn: 0.0215886\ttotal: 12ms\tremaining: 0us\n",
      "0:\tlearn: 0.0372770\ttotal: 480us\tremaining: 18.7ms\n",
      "39:\tlearn: 0.0228645\ttotal: 6.34ms\tremaining: 0us\n",
      "0:\tlearn: 0.0362782\ttotal: 591us\tremaining: 23.1ms\n",
      "39:\tlearn: 0.0209547\ttotal: 6.81ms\tremaining: 0us\n",
      "0:\tlearn: 0.0351298\ttotal: 910us\tremaining: 35.5ms\n",
      "39:\tlearn: 0.0213078\ttotal: 32.7ms\tremaining: 0us\n",
      "0:\tlearn: 0.0353584\ttotal: 419us\tremaining: 16.4ms\n",
      "39:\tlearn: 0.0216944\ttotal: 6.77ms\tremaining: 0us\n",
      "0:\tlearn: 0.0347340\ttotal: 432us\tremaining: 16.9ms\n",
      "39:\tlearn: 0.0218030\ttotal: 12.5ms\tremaining: 0us\n"
     ]
    },
    {
     "name": "stderr",
     "output_type": "stream",
     "text": [
      "10it [01:45, 10.36s/it]"
     ]
    },
    {
     "name": "stdout",
     "output_type": "stream",
     "text": [
      "0:\tlearn: 0.0245476\ttotal: 410us\tremaining: 16ms\n",
      "39:\tlearn: 0.0075919\ttotal: 11.1ms\tremaining: 0us\n",
      "0:\tlearn: 0.0228410\ttotal: 439us\tremaining: 17.1ms\n",
      "39:\tlearn: 0.0084287\ttotal: 6.45ms\tremaining: 0us\n",
      "0:\tlearn: 0.0226540\ttotal: 428us\tremaining: 16.7ms\n",
      "39:\tlearn: 0.0093510\ttotal: 6.54ms\tremaining: 0us\n",
      "0:\tlearn: 0.0252195\ttotal: 434us\tremaining: 16.9ms\n",
      "39:\tlearn: 0.0118904\ttotal: 7.31ms\tremaining: 0us\n",
      "0:\tlearn: 0.0289720\ttotal: 414us\tremaining: 16.2ms\n",
      "39:\tlearn: 0.0153787\ttotal: 10.8ms\tremaining: 0us\n",
      "0:\tlearn: 0.0279951\ttotal: 492us\tremaining: 19.2ms\n",
      "39:\tlearn: 0.0160478\ttotal: 6.59ms\tremaining: 0us\n",
      "0:\tlearn: 0.0290734\ttotal: 498us\tremaining: 19.4ms\n",
      "39:\tlearn: 0.0161535\ttotal: 12.1ms\tremaining: 0us\n",
      "0:\tlearn: 0.0353640\ttotal: 477us\tremaining: 18.6ms\n",
      "39:\tlearn: 0.0209329\ttotal: 12.2ms\tremaining: 0us\n",
      "0:\tlearn: 0.0382037\ttotal: 482us\tremaining: 18.8ms\n",
      "39:\tlearn: 0.0211701\ttotal: 7.65ms\tremaining: 0us\n",
      "0:\tlearn: 0.0375194\ttotal: 435us\tremaining: 17ms\n",
      "39:\tlearn: 0.0211531\ttotal: 12.1ms\tremaining: 0us\n",
      "0:\tlearn: 0.0367800\ttotal: 422us\tremaining: 16.5ms\n",
      "39:\tlearn: 0.0219432\ttotal: 8.3ms\tremaining: 0us\n",
      "0:\tlearn: 0.0379437\ttotal: 508us\tremaining: 19.8ms\n",
      "39:\tlearn: 0.0239622\ttotal: 11.6ms\tremaining: 0us\n",
      "0:\tlearn: 0.0379240\ttotal: 447us\tremaining: 17.5ms\n",
      "39:\tlearn: 0.0241783\ttotal: 12.6ms\tremaining: 0us\n"
     ]
    },
    {
     "name": "stderr",
     "output_type": "stream",
     "text": [
      "11it [01:55, 10.31s/it]"
     ]
    },
    {
     "name": "stdout",
     "output_type": "stream",
     "text": [
      "0:\tlearn: 0.0210457\ttotal: 396us\tremaining: 15.5ms\n",
      "39:\tlearn: 0.0058878\ttotal: 8.19ms\tremaining: 0us\n",
      "0:\tlearn: 0.0230368\ttotal: 397us\tremaining: 15.5ms\n",
      "39:\tlearn: 0.0063043\ttotal: 9.89ms\tremaining: 0us\n",
      "0:\tlearn: 0.0224848\ttotal: 376us\tremaining: 14.7ms\n",
      "39:\tlearn: 0.0063035\ttotal: 13.1ms\tremaining: 0us\n",
      "0:\tlearn: 0.0221265\ttotal: 358us\tremaining: 14ms\n",
      "39:\tlearn: 0.0065696\ttotal: 6.81ms\tremaining: 0us\n",
      "0:\tlearn: 0.0211707\ttotal: 1.6ms\tremaining: 62.3ms\n",
      "39:\tlearn: 0.0069750\ttotal: 8.05ms\tremaining: 0us\n",
      "0:\tlearn: 0.0232325\ttotal: 451us\tremaining: 17.6ms\n",
      "39:\tlearn: 0.0087869\ttotal: 17.6ms\tremaining: 0us\n",
      "0:\tlearn: 0.0246706\ttotal: 402us\tremaining: 15.7ms\n",
      "39:\tlearn: 0.0102010\ttotal: 6.56ms\tremaining: 0us\n",
      "0:\tlearn: 0.0288194\ttotal: 424us\tremaining: 16.6ms\n",
      "39:\tlearn: 0.0120923\ttotal: 17.6ms\tremaining: 0us\n",
      "0:\tlearn: 0.0288372\ttotal: 470us\tremaining: 18.3ms\n",
      "39:\tlearn: 0.0120583\ttotal: 11.9ms\tremaining: 0us\n",
      "0:\tlearn: 0.0282288\ttotal: 486us\tremaining: 19ms\n",
      "39:\tlearn: 0.0133026\ttotal: 14.4ms\tremaining: 0us\n",
      "0:\tlearn: 0.0295486\ttotal: 543us\tremaining: 21.2ms\n",
      "39:\tlearn: 0.0137952\ttotal: 6.89ms\tremaining: 0us\n",
      "0:\tlearn: 0.0313382\ttotal: 861us\tremaining: 33.6ms\n",
      "39:\tlearn: 0.0145111\ttotal: 16ms\tremaining: 0us\n",
      "0:\tlearn: 0.0321284\ttotal: 451us\tremaining: 17.6ms\n",
      "39:\tlearn: 0.0199489\ttotal: 7.47ms\tremaining: 191us\n"
     ]
    },
    {
     "name": "stderr",
     "output_type": "stream",
     "text": [
      "12it [02:08, 10.98s/it]"
     ]
    },
    {
     "name": "stdout",
     "output_type": "stream",
     "text": [
      "0:\tlearn: 0.0260280\ttotal: 423us\tremaining: 16.5ms\n",
      "39:\tlearn: 0.0097256\ttotal: 6.52ms\tremaining: 0us\n",
      "0:\tlearn: 0.0252041\ttotal: 441us\tremaining: 17.2ms\n",
      "39:\tlearn: 0.0097513\ttotal: 31.8ms\tremaining: 0us\n",
      "0:\tlearn: 0.0245089\ttotal: 450us\tremaining: 17.6ms\n",
      "39:\tlearn: 0.0090822\ttotal: 6.6ms\tremaining: 0us\n",
      "0:\tlearn: 0.0264975\ttotal: 480us\tremaining: 18.7ms\n",
      "39:\tlearn: 0.0089581\ttotal: 6.35ms\tremaining: 0us\n",
      "0:\tlearn: 0.0325916\ttotal: 392us\tremaining: 15.3ms\n",
      "39:\tlearn: 0.0156336\ttotal: 6.38ms\tremaining: 0us\n",
      "0:\tlearn: 0.0324724\ttotal: 418us\tremaining: 16.3ms\n",
      "39:\tlearn: 0.0131060\ttotal: 6.36ms\tremaining: 0us\n",
      "0:\tlearn: 0.0337485\ttotal: 446us\tremaining: 17.4ms\n",
      "39:\tlearn: 0.0168990\ttotal: 14.2ms\tremaining: 0us\n",
      "0:\tlearn: 0.0366274\ttotal: 490us\tremaining: 19.1ms\n",
      "39:\tlearn: 0.0188427\ttotal: 6.54ms\tremaining: 0us\n",
      "0:\tlearn: 0.0382144\ttotal: 490us\tremaining: 19.1ms\n",
      "39:\tlearn: 0.0198340\ttotal: 12ms\tremaining: 0us\n",
      "0:\tlearn: 0.0371908\ttotal: 491us\tremaining: 19.2ms\n",
      "39:\tlearn: 0.0186874\ttotal: 12ms\tremaining: 0us\n",
      "0:\tlearn: 0.0361397\ttotal: 426us\tremaining: 16.6ms\n",
      "39:\tlearn: 0.0204545\ttotal: 7.75ms\tremaining: 0us\n",
      "0:\tlearn: 0.0372903\ttotal: 434us\tremaining: 16.9ms\n",
      "39:\tlearn: 0.0213364\ttotal: 6.48ms\tremaining: 0us\n",
      "0:\tlearn: 0.0360144\ttotal: 418us\tremaining: 16.3ms\n",
      "39:\tlearn: 0.0199664\ttotal: 10.8ms\tremaining: 0us\n"
     ]
    },
    {
     "name": "stderr",
     "output_type": "stream",
     "text": [
      "13it [02:18, 10.72s/it]"
     ]
    },
    {
     "name": "stdout",
     "output_type": "stream",
     "text": [
      "0:\tlearn: 0.0243684\ttotal: 442us\tremaining: 17.2ms\n",
      "39:\tlearn: 0.0079050\ttotal: 7.8ms\tremaining: 0us\n",
      "0:\tlearn: 0.0238889\ttotal: 419us\tremaining: 16.4ms\n",
      "39:\tlearn: 0.0075563\ttotal: 12.3ms\tremaining: 0us\n",
      "0:\tlearn: 0.0227510\ttotal: 464us\tremaining: 18.1ms\n",
      "39:\tlearn: 0.0071179\ttotal: 6.97ms\tremaining: 0us\n",
      "0:\tlearn: 0.0221889\ttotal: 446us\tremaining: 17.4ms\n",
      "39:\tlearn: 0.0078182\ttotal: 14.9ms\tremaining: 0us\n",
      "0:\tlearn: 0.0272074\ttotal: 422us\tremaining: 16.5ms\n",
      "39:\tlearn: 0.0097137\ttotal: 12.1ms\tremaining: 0us\n",
      "0:\tlearn: 0.0284662\ttotal: 434us\tremaining: 17ms\n",
      "39:\tlearn: 0.0101978\ttotal: 7.82ms\tremaining: 0us\n",
      "0:\tlearn: 0.0285312\ttotal: 398us\tremaining: 15.6ms\n",
      "39:\tlearn: 0.0133145\ttotal: 6.34ms\tremaining: 0us\n",
      "0:\tlearn: 0.0362029\ttotal: 522us\tremaining: 20.4ms\n",
      "39:\tlearn: 0.0160311\ttotal: 12.5ms\tremaining: 321us\n",
      "0:\tlearn: 0.0354952\ttotal: 451us\tremaining: 17.6ms\n",
      "39:\tlearn: 0.0154800\ttotal: 33.4ms\tremaining: 0us\n",
      "0:\tlearn: 0.0357288\ttotal: 424us\tremaining: 16.6ms\n",
      "39:\tlearn: 0.0167329\ttotal: 11.9ms\tremaining: 0us\n",
      "0:\tlearn: 0.0341249\ttotal: 428us\tremaining: 16.7ms\n",
      "39:\tlearn: 0.0176933\ttotal: 6.44ms\tremaining: 0us\n",
      "0:\tlearn: 0.0333140\ttotal: 420us\tremaining: 16.4ms\n",
      "39:\tlearn: 0.0168942\ttotal: 8ms\tremaining: 0us\n",
      "0:\tlearn: 0.0333162\ttotal: 431us\tremaining: 16.8ms\n",
      "39:\tlearn: 0.0174262\ttotal: 6.81ms\tremaining: 0us\n"
     ]
    },
    {
     "name": "stderr",
     "output_type": "stream",
     "text": [
      "14it [02:28, 10.63s/it]"
     ]
    },
    {
     "name": "stdout",
     "output_type": "stream",
     "text": [
      "0:\tlearn: 0.0258942\ttotal: 410us\tremaining: 16ms\n",
      "39:\tlearn: 0.0095202\ttotal: 6.4ms\tremaining: 0us\n",
      "0:\tlearn: 0.0247541\ttotal: 359us\tremaining: 14ms\n",
      "39:\tlearn: 0.0091618\ttotal: 6.98ms\tremaining: 0us\n",
      "0:\tlearn: 0.0242031\ttotal: 448us\tremaining: 17.5ms\n",
      "39:\tlearn: 0.0090833\ttotal: 6.75ms\tremaining: 0us\n",
      "0:\tlearn: 0.0287134\ttotal: 474us\tremaining: 18.5ms\n",
      "39:\tlearn: 0.0115025\ttotal: 7.75ms\tremaining: 0us\n",
      "0:\tlearn: 0.0274114\ttotal: 449us\tremaining: 17.5ms\n",
      "39:\tlearn: 0.0108327\ttotal: 37.7ms\tremaining: 0us\n",
      "0:\tlearn: 0.0343304\ttotal: 443us\tremaining: 17.3ms\n",
      "39:\tlearn: 0.0143210\ttotal: 11.9ms\tremaining: 0us\n",
      "0:\tlearn: 0.0336588\ttotal: 412us\tremaining: 16.1ms\n",
      "39:\tlearn: 0.0131324\ttotal: 6.63ms\tremaining: 0us\n",
      "0:\tlearn: 0.0418250\ttotal: 457us\tremaining: 17.8ms\n",
      "39:\tlearn: 0.0155646\ttotal: 13.3ms\tremaining: 0us\n",
      "0:\tlearn: 0.0462462\ttotal: 430us\tremaining: 16.8ms\n",
      "39:\tlearn: 0.0174544\ttotal: 12.1ms\tremaining: 0us\n",
      "0:\tlearn: 0.0449880\ttotal: 485us\tremaining: 18.9ms\n",
      "39:\tlearn: 0.0193859\ttotal: 9.72ms\tremaining: 249us\n",
      "0:\tlearn: 0.0433055\ttotal: 441us\tremaining: 17.2ms\n",
      "39:\tlearn: 0.0238231\ttotal: 6.45ms\tremaining: 0us\n",
      "0:\tlearn: 0.0441079\ttotal: 442us\tremaining: 17.2ms\n",
      "39:\tlearn: 0.0238037\ttotal: 37.8ms\tremaining: 0us\n",
      "0:\tlearn: 0.0436463\ttotal: 445us\tremaining: 17.4ms\n",
      "39:\tlearn: 0.0232612\ttotal: 6.93ms\tremaining: 177us\n"
     ]
    },
    {
     "name": "stderr",
     "output_type": "stream",
     "text": [
      "15it [02:38, 10.37s/it]"
     ]
    },
    {
     "name": "stdout",
     "output_type": "stream",
     "text": [
      "0:\tlearn: 0.0391233\ttotal: 435us\tremaining: 17ms\n",
      "39:\tlearn: 0.0130522\ttotal: 6.48ms\tremaining: 0us\n",
      "0:\tlearn: 0.0430656\ttotal: 440us\tremaining: 17.2ms\n",
      "39:\tlearn: 0.0136762\ttotal: 6.52ms\tremaining: 0us\n",
      "0:\tlearn: 0.0473346\ttotal: 456us\tremaining: 17.8ms\n",
      "39:\tlearn: 0.0127310\ttotal: 7.11ms\tremaining: 0us\n",
      "0:\tlearn: 0.0489525\ttotal: 999us\tremaining: 39ms\n",
      "39:\tlearn: 0.0114689\ttotal: 7.5ms\tremaining: 0us\n",
      "0:\tlearn: 0.0530400\ttotal: 421us\tremaining: 16.5ms\n",
      "39:\tlearn: 0.0136853\ttotal: 6.5ms\tremaining: 0us\n",
      "0:\tlearn: 0.0524445\ttotal: 468us\tremaining: 18.3ms\n",
      "39:\tlearn: 0.0135826\ttotal: 11.9ms\tremaining: 0us\n",
      "0:\tlearn: 0.0515397\ttotal: 411us\tremaining: 16ms\n",
      "39:\tlearn: 0.0145433\ttotal: 14.7ms\tremaining: 0us\n",
      "0:\tlearn: 0.0518790\ttotal: 431us\tremaining: 16.8ms\n",
      "39:\tlearn: 0.0151363\ttotal: 24.3ms\tremaining: 0us\n",
      "0:\tlearn: 0.0549983\ttotal: 414us\tremaining: 16.2ms\n",
      "39:\tlearn: 0.0156839\ttotal: 6.94ms\tremaining: 0us\n",
      "0:\tlearn: 0.0547829\ttotal: 442us\tremaining: 17.3ms\n",
      "39:\tlearn: 0.0185694\ttotal: 12.2ms\tremaining: 0us\n",
      "0:\tlearn: 0.0535025\ttotal: 430us\tremaining: 16.8ms\n",
      "39:\tlearn: 0.0186433\ttotal: 12.3ms\tremaining: 0us\n",
      "0:\tlearn: 0.0597606\ttotal: 493us\tremaining: 19.2ms\n",
      "39:\tlearn: 0.0251532\ttotal: 7.29ms\tremaining: 0us\n",
      "0:\tlearn: 0.0636898\ttotal: 421us\tremaining: 16.4ms\n",
      "39:\tlearn: 0.0269861\ttotal: 8.44ms\tremaining: 0us\n"
     ]
    },
    {
     "name": "stderr",
     "output_type": "stream",
     "text": [
      "16it [02:48, 10.41s/it]"
     ]
    },
    {
     "name": "stdout",
     "output_type": "stream",
     "text": [
      "0:\tlearn: 0.0325423\ttotal: 404us\tremaining: 15.8ms\n",
      "39:\tlearn: 0.0132026\ttotal: 6.35ms\tremaining: 0us\n",
      "0:\tlearn: 0.0310001\ttotal: 413us\tremaining: 16.1ms\n",
      "39:\tlearn: 0.0135919\ttotal: 6.34ms\tremaining: 0us\n",
      "0:\tlearn: 0.0326160\ttotal: 419us\tremaining: 16.4ms\n",
      "39:\tlearn: 0.0122463\ttotal: 6.99ms\tremaining: 0us\n",
      "0:\tlearn: 0.0328104\ttotal: 475us\tremaining: 18.6ms\n",
      "39:\tlearn: 0.0138892\ttotal: 18.8ms\tremaining: 0us\n",
      "0:\tlearn: 0.0409754\ttotal: 403us\tremaining: 15.7ms\n",
      "39:\tlearn: 0.0189415\ttotal: 6.44ms\tremaining: 0us\n",
      "0:\tlearn: 0.0389175\ttotal: 403us\tremaining: 15.7ms\n",
      "39:\tlearn: 0.0189197\ttotal: 6.55ms\tremaining: 0us\n",
      "0:\tlearn: 0.0434287\ttotal: 409us\tremaining: 16ms\n",
      "39:\tlearn: 0.0189597\ttotal: 6.89ms\tremaining: 0us\n",
      "0:\tlearn: 0.0435208\ttotal: 440us\tremaining: 17.2ms\n",
      "39:\tlearn: 0.0200240\ttotal: 7.09ms\tremaining: 0us\n",
      "0:\tlearn: 0.0432322\ttotal: 500us\tremaining: 19.5ms\n",
      "39:\tlearn: 0.0200637\ttotal: 11.8ms\tremaining: 0us\n",
      "0:\tlearn: 0.0427638\ttotal: 579us\tremaining: 22.6ms\n",
      "39:\tlearn: 0.0176658\ttotal: 13ms\tremaining: 0us\n",
      "0:\tlearn: 0.0422920\ttotal: 492us\tremaining: 19.2ms\n",
      "39:\tlearn: 0.0198943\ttotal: 9.63ms\tremaining: 0us\n",
      "0:\tlearn: 0.0411730\ttotal: 483us\tremaining: 18.9ms\n",
      "39:\tlearn: 0.0222943\ttotal: 12.8ms\tremaining: 328us\n",
      "0:\tlearn: 0.0421680\ttotal: 463us\tremaining: 18.1ms\n",
      "39:\tlearn: 0.0219663\ttotal: 13.6ms\tremaining: 0us\n"
     ]
    },
    {
     "name": "stderr",
     "output_type": "stream",
     "text": [
      "20it [02:59,  8.05s/it]"
     ]
    },
    {
     "name": "stdout",
     "output_type": "stream",
     "text": [
      "0:\tlearn: 0.0197828\ttotal: 402us\tremaining: 15.7ms\n",
      "39:\tlearn: 0.0072993\ttotal: 6.67ms\tremaining: 0us\n",
      "0:\tlearn: 0.0215026\ttotal: 747us\tremaining: 29.1ms\n",
      "39:\tlearn: 0.0076661\ttotal: 17.2ms\tremaining: 0us\n",
      "0:\tlearn: 0.0215799\ttotal: 441us\tremaining: 17.2ms\n",
      "39:\tlearn: 0.0071218\ttotal: 6.55ms\tremaining: 0us\n",
      "0:\tlearn: 0.0215114\ttotal: 451us\tremaining: 17.6ms\n",
      "39:\tlearn: 0.0067615\ttotal: 7.07ms\tremaining: 0us\n",
      "0:\tlearn: 0.0258104\ttotal: 458us\tremaining: 17.9ms\n",
      "39:\tlearn: 0.0097685\ttotal: 11.9ms\tremaining: 0us\n",
      "0:\tlearn: 0.0285101\ttotal: 406us\tremaining: 15.8ms\n",
      "39:\tlearn: 0.0093717\ttotal: 7.07ms\tremaining: 0us\n",
      "0:\tlearn: 0.0274777\ttotal: 433us\tremaining: 16.9ms\n",
      "39:\tlearn: 0.0104284\ttotal: 6.56ms\tremaining: 0us\n",
      "0:\tlearn: 0.0377069\ttotal: 413us\tremaining: 16.1ms\n",
      "39:\tlearn: 0.0187675\ttotal: 6.57ms\tremaining: 0us\n",
      "0:\tlearn: 0.0409013\ttotal: 465us\tremaining: 18.1ms\n",
      "39:\tlearn: 0.0177114\ttotal: 8.31ms\tremaining: 0us\n",
      "0:\tlearn: 0.0392820\ttotal: 381us\tremaining: 14.9ms\n",
      "39:\tlearn: 0.0154735\ttotal: 12.3ms\tremaining: 0us\n",
      "0:\tlearn: 0.0380447\ttotal: 468us\tremaining: 18.3ms\n",
      "39:\tlearn: 0.0162008\ttotal: 18.1ms\tremaining: 0us\n",
      "0:\tlearn: 0.0376155\ttotal: 411us\tremaining: 16ms\n",
      "39:\tlearn: 0.0158501\ttotal: 37.9ms\tremaining: 0us\n",
      "0:\tlearn: 0.0373101\ttotal: 414us\tremaining: 16.2ms\n",
      "39:\tlearn: 0.0178895\ttotal: 12.3ms\tremaining: 0us\n"
     ]
    },
    {
     "name": "stderr",
     "output_type": "stream",
     "text": [
      "21it [03:10,  8.97s/it]"
     ]
    },
    {
     "name": "stdout",
     "output_type": "stream",
     "text": [
      "0:\tlearn: 0.0490936\ttotal: 415us\tremaining: 16.2ms\n",
      "39:\tlearn: 0.0185021\ttotal: 7ms\tremaining: 0us\n",
      "0:\tlearn: 0.0514729\ttotal: 403us\tremaining: 15.7ms\n",
      "39:\tlearn: 0.0180552\ttotal: 7.81ms\tremaining: 0us\n",
      "0:\tlearn: 0.0477249\ttotal: 405us\tremaining: 15.8ms\n",
      "39:\tlearn: 0.0183294\ttotal: 6.09ms\tremaining: 0us\n",
      "0:\tlearn: 0.0447782\ttotal: 430us\tremaining: 16.8ms\n",
      "39:\tlearn: 0.0178937\ttotal: 6.72ms\tremaining: 0us\n",
      "0:\tlearn: 0.0715617\ttotal: 414us\tremaining: 16.2ms\n",
      "39:\tlearn: 0.0300413\ttotal: 6.55ms\tremaining: 0us\n",
      "0:\tlearn: 0.0677285\ttotal: 415us\tremaining: 16.2ms\n",
      "39:\tlearn: 0.0279029\ttotal: 8.54ms\tremaining: 0us\n",
      "0:\tlearn: 0.0651227\ttotal: 774us\tremaining: 30.2ms\n",
      "39:\tlearn: 0.0271263\ttotal: 15ms\tremaining: 0us\n",
      "0:\tlearn: 0.0752539\ttotal: 1.62ms\tremaining: 63.2ms\n",
      "39:\tlearn: 0.0336010\ttotal: 22.4ms\tremaining: 0us\n",
      "0:\tlearn: 0.0721132\ttotal: 408us\tremaining: 15.9ms\n",
      "39:\tlearn: 0.0377688\ttotal: 7.71ms\tremaining: 0us\n",
      "0:\tlearn: 0.0693457\ttotal: 419us\tremaining: 16.4ms\n",
      "39:\tlearn: 0.0343899\ttotal: 7.44ms\tremaining: 0us\n",
      "0:\tlearn: 0.0751535\ttotal: 400us\tremaining: 15.6ms\n",
      "39:\tlearn: 0.0392988\ttotal: 6.72ms\tremaining: 0us\n",
      "0:\tlearn: 0.0764854\ttotal: 668us\tremaining: 26.1ms\n",
      "39:\tlearn: 0.0407263\ttotal: 13.5ms\tremaining: 0us\n",
      "0:\tlearn: 0.0786508\ttotal: 502us\tremaining: 19.6ms\n",
      "39:\tlearn: 0.0412193\ttotal: 8.65ms\tremaining: 0us\n"
     ]
    },
    {
     "name": "stderr",
     "output_type": "stream",
     "text": [
      "25it [03:20,  7.06s/it]"
     ]
    },
    {
     "name": "stdout",
     "output_type": "stream",
     "text": [
      "0:\tlearn: 0.1084033\ttotal: 416us\tremaining: 16.2ms\n",
      "39:\tlearn: 0.0411744\ttotal: 7.77ms\tremaining: 0us\n",
      "0:\tlearn: 0.1090054\ttotal: 410us\tremaining: 16ms\n",
      "39:\tlearn: 0.0445613\ttotal: 6.39ms\tremaining: 163us\n",
      "0:\tlearn: 0.1070561\ttotal: 416us\tremaining: 16.2ms\n",
      "39:\tlearn: 0.0442205\ttotal: 7.14ms\tremaining: 0us\n",
      "0:\tlearn: 0.1033586\ttotal: 424us\tremaining: 16.5ms\n",
      "39:\tlearn: 0.0413950\ttotal: 7.95ms\tremaining: 0us\n",
      "0:\tlearn: 0.1085111\ttotal: 399us\tremaining: 15.6ms\n",
      "39:\tlearn: 0.0494075\ttotal: 6.38ms\tremaining: 0us\n",
      "0:\tlearn: 0.1047379\ttotal: 436us\tremaining: 17ms\n",
      "39:\tlearn: 0.0518881\ttotal: 12ms\tremaining: 0us\n",
      "0:\tlearn: 0.1104789\ttotal: 406us\tremaining: 15.8ms\n",
      "39:\tlearn: 0.0487609\ttotal: 6.3ms\tremaining: 0us\n",
      "0:\tlearn: 0.1133714\ttotal: 422us\tremaining: 16.5ms\n",
      "39:\tlearn: 0.0607760\ttotal: 6.36ms\tremaining: 0us\n",
      "0:\tlearn: 0.1115302\ttotal: 418us\tremaining: 16.3ms\n",
      "39:\tlearn: 0.0566509\ttotal: 12ms\tremaining: 0us\n",
      "0:\tlearn: 0.1271141\ttotal: 448us\tremaining: 17.5ms\n",
      "39:\tlearn: 0.0760486\ttotal: 7ms\tremaining: 0us\n",
      "0:\tlearn: 0.1434830\ttotal: 419us\tremaining: 16.3ms\n",
      "39:\tlearn: 0.0716782\ttotal: 6.69ms\tremaining: 0us\n",
      "0:\tlearn: 0.1424091\ttotal: 403us\tremaining: 15.7ms\n",
      "39:\tlearn: 0.0756012\ttotal: 11.9ms\tremaining: 0us\n",
      "0:\tlearn: 0.1383443\ttotal: 490us\tremaining: 19.1ms\n",
      "39:\tlearn: 0.0842769\ttotal: 13ms\tremaining: 0us\n"
     ]
    },
    {
     "name": "stderr",
     "output_type": "stream",
     "text": [
      "26it [03:30,  7.93s/it]"
     ]
    },
    {
     "name": "stdout",
     "output_type": "stream",
     "text": [
      "0:\tlearn: 0.1001110\ttotal: 467us\tremaining: 18.2ms\n",
      "39:\tlearn: 0.0346994\ttotal: 8.65ms\tremaining: 0us\n",
      "0:\tlearn: 0.1302874\ttotal: 452us\tremaining: 17.6ms\n",
      "39:\tlearn: 0.0519735\ttotal: 8.37ms\tremaining: 0us\n",
      "0:\tlearn: 0.1382561\ttotal: 445us\tremaining: 17.4ms\n",
      "39:\tlearn: 0.0549185\ttotal: 16.7ms\tremaining: 0us\n",
      "0:\tlearn: 0.1416732\ttotal: 439us\tremaining: 17.1ms\n",
      "39:\tlearn: 0.0566522\ttotal: 6.74ms\tremaining: 0us\n",
      "0:\tlearn: 0.1341771\ttotal: 476us\tremaining: 18.6ms\n",
      "39:\tlearn: 0.0589882\ttotal: 6.79ms\tremaining: 0us\n",
      "0:\tlearn: 0.1274925\ttotal: 391us\tremaining: 15.3ms\n",
      "39:\tlearn: 0.0547559\ttotal: 6.43ms\tremaining: 0us\n",
      "0:\tlearn: 0.1254841\ttotal: 440us\tremaining: 17.2ms\n",
      "39:\tlearn: 0.0538131\ttotal: 12.8ms\tremaining: 0us\n",
      "0:\tlearn: 0.1220894\ttotal: 428us\tremaining: 16.7ms\n",
      "39:\tlearn: 0.0547316\ttotal: 19.8ms\tremaining: 0us\n",
      "0:\tlearn: 0.1205330\ttotal: 442us\tremaining: 17.2ms\n",
      "39:\tlearn: 0.0550334\ttotal: 6.53ms\tremaining: 0us\n",
      "0:\tlearn: 0.1196471\ttotal: 439us\tremaining: 17.1ms\n",
      "39:\tlearn: 0.0608765\ttotal: 7.12ms\tremaining: 0us\n",
      "0:\tlearn: 0.1141963\ttotal: 437us\tremaining: 17.1ms\n",
      "39:\tlearn: 0.0679517\ttotal: 6.44ms\tremaining: 0us\n",
      "0:\tlearn: 0.1171730\ttotal: 576us\tremaining: 22.5ms\n",
      "39:\tlearn: 0.0651681\ttotal: 7.44ms\tremaining: 0us\n",
      "0:\tlearn: 0.1154972\ttotal: 417us\tremaining: 16.3ms\n",
      "39:\tlearn: 0.0643584\ttotal: 7.18ms\tremaining: 0us\n"
     ]
    },
    {
     "name": "stderr",
     "output_type": "stream",
     "text": [
      "27it [03:42,  9.00s/it]"
     ]
    },
    {
     "name": "stdout",
     "output_type": "stream",
     "text": [
      "0:\tlearn: 0.0328353\ttotal: 400us\tremaining: 15.6ms\n",
      "39:\tlearn: 0.0121645\ttotal: 6.5ms\tremaining: 0us\n",
      "0:\tlearn: 0.0382016\ttotal: 468us\tremaining: 18.3ms\n",
      "39:\tlearn: 0.0138283\ttotal: 7.05ms\tremaining: 0us\n",
      "0:\tlearn: 0.0361382\ttotal: 441us\tremaining: 17.2ms\n",
      "39:\tlearn: 0.0148590\ttotal: 7.23ms\tremaining: 0us\n",
      "0:\tlearn: 0.0364657\ttotal: 467us\tremaining: 18.2ms\n",
      "39:\tlearn: 0.0150405\ttotal: 11.6ms\tremaining: 0us\n",
      "0:\tlearn: 0.0962935\ttotal: 542us\tremaining: 21.2ms\n",
      "39:\tlearn: 0.0401872\ttotal: 6.65ms\tremaining: 0us\n",
      "0:\tlearn: 0.0921223\ttotal: 422us\tremaining: 16.5ms\n",
      "39:\tlearn: 0.0391174\ttotal: 12.7ms\tremaining: 0us\n",
      "0:\tlearn: 0.0886349\ttotal: 441us\tremaining: 17.2ms\n",
      "39:\tlearn: 0.0387055\ttotal: 6.9ms\tremaining: 0us\n",
      "0:\tlearn: 0.0864407\ttotal: 502us\tremaining: 19.6ms\n",
      "39:\tlearn: 0.0388709\ttotal: 7.25ms\tremaining: 0us\n",
      "0:\tlearn: 0.0833953\ttotal: 405us\tremaining: 15.8ms\n",
      "39:\tlearn: 0.0370981\ttotal: 7.11ms\tremaining: 0us\n",
      "0:\tlearn: 0.0807858\ttotal: 454us\tremaining: 17.7ms\n",
      "39:\tlearn: 0.0359772\ttotal: 12.1ms\tremaining: 0us\n",
      "0:\tlearn: 0.0796104\ttotal: 454us\tremaining: 17.7ms\n",
      "39:\tlearn: 0.0371780\ttotal: 12ms\tremaining: 307us\n",
      "0:\tlearn: 0.0775512\ttotal: 656us\tremaining: 25.6ms\n",
      "39:\tlearn: 0.0369094\ttotal: 6.83ms\tremaining: 0us\n",
      "0:\tlearn: 0.0806664\ttotal: 419us\tremaining: 16.4ms\n",
      "39:\tlearn: 0.0384687\ttotal: 6.7ms\tremaining: 0us\n"
     ]
    },
    {
     "name": "stderr",
     "output_type": "stream",
     "text": [
      "28it [03:52,  9.48s/it]"
     ]
    },
    {
     "name": "stdout",
     "output_type": "stream",
     "text": [
      "0:\tlearn: 0.0439123\ttotal: 448us\tremaining: 17.5ms\n",
      "39:\tlearn: 0.0164087\ttotal: 6.6ms\tremaining: 169us\n",
      "0:\tlearn: 0.0407164\ttotal: 476us\tremaining: 18.6ms\n",
      "39:\tlearn: 0.0150543\ttotal: 6.54ms\tremaining: 0us\n",
      "0:\tlearn: 0.0433367\ttotal: 429us\tremaining: 16.8ms\n",
      "39:\tlearn: 0.0138840\ttotal: 6.58ms\tremaining: 0us\n",
      "0:\tlearn: 0.0407922\ttotal: 474us\tremaining: 18.5ms\n",
      "39:\tlearn: 0.0137722\ttotal: 6.63ms\tremaining: 0us\n",
      "0:\tlearn: 0.0520385\ttotal: 413us\tremaining: 16.1ms\n",
      "39:\tlearn: 0.0227002\ttotal: 7.52ms\tremaining: 0us\n",
      "0:\tlearn: 0.0489985\ttotal: 419us\tremaining: 16.3ms\n",
      "39:\tlearn: 0.0226869\ttotal: 6.5ms\tremaining: 0us\n",
      "0:\tlearn: 0.0555503\ttotal: 449us\tremaining: 17.5ms\n",
      "39:\tlearn: 0.0268309\ttotal: 6.41ms\tremaining: 0us\n",
      "0:\tlearn: 0.0573332\ttotal: 464us\tremaining: 18.1ms\n",
      "39:\tlearn: 0.0327063\ttotal: 18.4ms\tremaining: 0us\n",
      "0:\tlearn: 0.0801429\ttotal: 429us\tremaining: 16.7ms\n",
      "39:\tlearn: 0.0391025\ttotal: 6.9ms\tremaining: 0us\n",
      "0:\tlearn: 0.0782070\ttotal: 467us\tremaining: 18.2ms\n",
      "39:\tlearn: 0.0371505\ttotal: 20.2ms\tremaining: 0us\n",
      "0:\tlearn: 0.0778264\ttotal: 405us\tremaining: 15.8ms\n",
      "39:\tlearn: 0.0399914\ttotal: 6.32ms\tremaining: 0us\n",
      "0:\tlearn: 0.0765932\ttotal: 413us\tremaining: 16.1ms\n",
      "39:\tlearn: 0.0399851\ttotal: 6.75ms\tremaining: 0us\n",
      "0:\tlearn: 0.0741608\ttotal: 475us\tremaining: 18.6ms\n",
      "39:\tlearn: 0.0386185\ttotal: 6.91ms\tremaining: 0us\n"
     ]
    },
    {
     "name": "stderr",
     "output_type": "stream",
     "text": [
      "30it [04:03,  8.25s/it]"
     ]
    },
    {
     "name": "stdout",
     "output_type": "stream",
     "text": [
      "0:\tlearn: 0.0820178\ttotal: 368us\tremaining: 14.4ms\n",
      "39:\tlearn: 0.0311191\ttotal: 6.37ms\tremaining: 0us\n",
      "0:\tlearn: 0.0799536\ttotal: 432us\tremaining: 16.8ms\n",
      "39:\tlearn: 0.0313607\ttotal: 6.48ms\tremaining: 0us\n",
      "0:\tlearn: 0.0748191\ttotal: 563us\tremaining: 22ms\n",
      "39:\tlearn: 0.0302538\ttotal: 11.7ms\tremaining: 0us\n",
      "0:\tlearn: 0.1056045\ttotal: 441us\tremaining: 17.2ms\n",
      "39:\tlearn: 0.0429474\ttotal: 6.31ms\tremaining: 0us\n",
      "0:\tlearn: 0.0995243\ttotal: 420us\tremaining: 16.4ms\n",
      "39:\tlearn: 0.0431472\ttotal: 22.1ms\tremaining: 0us\n",
      "0:\tlearn: 0.0982781\ttotal: 441us\tremaining: 17.2ms\n",
      "39:\tlearn: 0.0436466\ttotal: 11.9ms\tremaining: 0us\n",
      "0:\tlearn: 0.0955005\ttotal: 695us\tremaining: 27.1ms\n",
      "39:\tlearn: 0.0445220\ttotal: 8.99ms\tremaining: 0us\n",
      "0:\tlearn: 0.1059846\ttotal: 440us\tremaining: 17.2ms\n",
      "39:\tlearn: 0.0544648\ttotal: 11.9ms\tremaining: 0us\n",
      "0:\tlearn: 0.1003617\ttotal: 402us\tremaining: 15.7ms\n",
      "39:\tlearn: 0.0600888\ttotal: 12.2ms\tremaining: 0us\n",
      "0:\tlearn: 0.0967418\ttotal: 395us\tremaining: 15.4ms\n",
      "39:\tlearn: 0.0509153\ttotal: 12.5ms\tremaining: 0us\n",
      "0:\tlearn: 0.1038267\ttotal: 464us\tremaining: 18.1ms\n",
      "39:\tlearn: 0.0656179\ttotal: 7.28ms\tremaining: 0us\n",
      "0:\tlearn: 0.1013623\ttotal: 650us\tremaining: 25.4ms\n",
      "39:\tlearn: 0.0642709\ttotal: 12.2ms\tremaining: 0us\n",
      "0:\tlearn: 0.1046936\ttotal: 441us\tremaining: 17.2ms\n",
      "39:\tlearn: 0.0654378\ttotal: 6.85ms\tremaining: 0us\n"
     ]
    },
    {
     "name": "stderr",
     "output_type": "stream",
     "text": [
      "31it [04:15,  9.32s/it]"
     ]
    },
    {
     "name": "stdout",
     "output_type": "stream",
     "text": [
      "0:\tlearn: 0.0353461\ttotal: 1.15ms\tremaining: 44.8ms\n",
      "39:\tlearn: 0.0122214\ttotal: 8.54ms\tremaining: 0us\n",
      "0:\tlearn: 0.0328897\ttotal: 443us\tremaining: 17.3ms\n",
      "39:\tlearn: 0.0116301\ttotal: 6.22ms\tremaining: 0us\n",
      "0:\tlearn: 0.0309375\ttotal: 415us\tremaining: 16.2ms\n",
      "39:\tlearn: 0.0110621\ttotal: 6.62ms\tremaining: 0us\n",
      "0:\tlearn: 0.0292148\ttotal: 427us\tremaining: 16.7ms\n",
      "39:\tlearn: 0.0105295\ttotal: 6.18ms\tremaining: 0us\n",
      "0:\tlearn: 0.0277333\ttotal: 461us\tremaining: 18ms\n",
      "39:\tlearn: 0.0100579\ttotal: 6.31ms\tremaining: 0us\n",
      "0:\tlearn: 0.0551941\ttotal: 339us\tremaining: 13.2ms\n",
      "39:\tlearn: 0.0495214\ttotal: 6.25ms\tremaining: 0us\n",
      "0:\tlearn: 0.0778611\ttotal: 426us\tremaining: 16.6ms\n",
      "39:\tlearn: 0.0517271\ttotal: 7.36ms\tremaining: 0us\n",
      "0:\tlearn: 0.1021124\ttotal: 466us\tremaining: 18.2ms\n",
      "39:\tlearn: 0.0508362\ttotal: 6.46ms\tremaining: 0us\n",
      "0:\tlearn: 0.1193215\ttotal: 391us\tremaining: 15.3ms\n",
      "39:\tlearn: 0.0537181\ttotal: 7.51ms\tremaining: 0us\n",
      "0:\tlearn: 0.1191639\ttotal: 407us\tremaining: 15.9ms\n",
      "39:\tlearn: 0.0537208\ttotal: 12.4ms\tremaining: 0us\n",
      "0:\tlearn: 0.1134292\ttotal: 436us\tremaining: 17ms\n",
      "39:\tlearn: 0.0525319\ttotal: 6.76ms\tremaining: 0us\n",
      "0:\tlearn: 0.1160161\ttotal: 505us\tremaining: 19.7ms\n",
      "39:\tlearn: 0.0574701\ttotal: 6.57ms\tremaining: 0us\n",
      "0:\tlearn: 0.1130034\ttotal: 414us\tremaining: 16.1ms\n",
      "39:\tlearn: 0.0601519\ttotal: 6.45ms\tremaining: 0us\n"
     ]
    },
    {
     "name": "stderr",
     "output_type": "stream",
     "text": [
      "32it [04:25,  9.52s/it]"
     ]
    },
    {
     "name": "stdout",
     "output_type": "stream",
     "text": [
      "0:\tlearn: 0.0375767\ttotal: 412us\tremaining: 16.1ms\n",
      "39:\tlearn: 0.0144259\ttotal: 11ms\tremaining: 0us\n",
      "0:\tlearn: 0.0523134\ttotal: 392us\tremaining: 15.3ms\n",
      "39:\tlearn: 0.0211645\ttotal: 11.8ms\tremaining: 0us\n",
      "0:\tlearn: 0.0509884\ttotal: 421us\tremaining: 16.4ms\n",
      "39:\tlearn: 0.0197315\ttotal: 7.2ms\tremaining: 0us\n",
      "0:\tlearn: 0.0750523\ttotal: 473us\tremaining: 18.5ms\n",
      "39:\tlearn: 0.0306238\ttotal: 19.8ms\tremaining: 0us\n",
      "0:\tlearn: 0.0706519\ttotal: 409us\tremaining: 16ms\n",
      "39:\tlearn: 0.0293575\ttotal: 37.5ms\tremaining: 0us\n",
      "0:\tlearn: 0.0732675\ttotal: 435us\tremaining: 17ms\n",
      "39:\tlearn: 0.0329254\ttotal: 6.49ms\tremaining: 0us\n",
      "0:\tlearn: 0.0708979\ttotal: 420us\tremaining: 16.4ms\n",
      "39:\tlearn: 0.0323694\ttotal: 6.36ms\tremaining: 0us\n",
      "0:\tlearn: 0.0843203\ttotal: 439us\tremaining: 17.1ms\n",
      "39:\tlearn: 0.0368646\ttotal: 7.51ms\tremaining: 0us\n",
      "0:\tlearn: 0.0872762\ttotal: 455us\tremaining: 17.8ms\n",
      "39:\tlearn: 0.0364464\ttotal: 20.8ms\tremaining: 0us\n",
      "0:\tlearn: 0.0844286\ttotal: 487us\tremaining: 19ms\n",
      "39:\tlearn: 0.0374978\ttotal: 9.96ms\tremaining: 0us\n",
      "0:\tlearn: 0.0836443\ttotal: 485us\tremaining: 18.9ms\n",
      "39:\tlearn: 0.0409643\ttotal: 6.51ms\tremaining: 0us\n",
      "0:\tlearn: 0.0835760\ttotal: 516us\tremaining: 20.2ms\n",
      "39:\tlearn: 0.0321698\ttotal: 7.58ms\tremaining: 0us\n",
      "0:\tlearn: 0.0834069\ttotal: 553us\tremaining: 21.6ms\n",
      "39:\tlearn: 0.0331732\ttotal: 6.97ms\tremaining: 0us\n"
     ]
    },
    {
     "name": "stderr",
     "output_type": "stream",
     "text": [
      "34it [04:37,  7.31s/it]"
     ]
    },
    {
     "name": "stdout",
     "output_type": "stream",
     "text": [
      "0:\tlearn: 0.0497418\ttotal: 418us\tremaining: 16.3ms\n",
      "39:\tlearn: 0.0176194\ttotal: 6.56ms\tremaining: 0us\n",
      "0:\tlearn: 0.0544985\ttotal: 482us\tremaining: 18.8ms\n",
      "39:\tlearn: 0.0201390\ttotal: 6.61ms\tremaining: 0us\n",
      "0:\tlearn: 0.0513293\ttotal: 464us\tremaining: 18.1ms\n",
      "39:\tlearn: 0.0192092\ttotal: 6.51ms\tremaining: 0us\n",
      "0:\tlearn: 0.0509177\ttotal: 477us\tremaining: 18.6ms\n",
      "39:\tlearn: 0.0199077\ttotal: 11.9ms\tremaining: 0us\n",
      "0:\tlearn: 0.0782232\ttotal: 426us\tremaining: 16.6ms\n",
      "39:\tlearn: 0.0350722\ttotal: 26.2ms\tremaining: 0us\n",
      "0:\tlearn: 0.0752923\ttotal: 447us\tremaining: 17.4ms\n",
      "39:\tlearn: 0.0355832\ttotal: 6.45ms\tremaining: 0us\n",
      "0:\tlearn: 0.0735209\ttotal: 617us\tremaining: 24.1ms\n",
      "39:\tlearn: 0.0317690\ttotal: 12.7ms\tremaining: 0us\n",
      "0:\tlearn: 0.0757736\ttotal: 426us\tremaining: 16.6ms\n",
      "39:\tlearn: 0.0335603\ttotal: 6.53ms\tremaining: 167us\n",
      "0:\tlearn: 0.0751719\ttotal: 445us\tremaining: 17.4ms\n",
      "39:\tlearn: 0.0320960\ttotal: 7.83ms\tremaining: 0us\n",
      "0:\tlearn: 0.0730465\ttotal: 387us\tremaining: 15.1ms\n",
      "39:\tlearn: 0.0324645\ttotal: 11.8ms\tremaining: 0us\n",
      "0:\tlearn: 0.0760207\ttotal: 424us\tremaining: 16.6ms\n",
      "39:\tlearn: 0.0400935\ttotal: 15.1ms\tremaining: 0us\n",
      "0:\tlearn: 0.0794652\ttotal: 472us\tremaining: 18.4ms\n",
      "39:\tlearn: 0.0479975\ttotal: 6.7ms\tremaining: 0us\n",
      "0:\tlearn: 0.0871132\ttotal: 527us\tremaining: 20.6ms\n",
      "39:\tlearn: 0.0488654\ttotal: 12.2ms\tremaining: 0us\n"
     ]
    },
    {
     "name": "stderr",
     "output_type": "stream",
     "text": [
      "36it [04:48,  6.76s/it]"
     ]
    },
    {
     "name": "stdout",
     "output_type": "stream",
     "text": [
      "0:\tlearn: 0.0509328\ttotal: 411us\tremaining: 16ms\n",
      "39:\tlearn: 0.0163789\ttotal: 6.38ms\tremaining: 0us\n",
      "0:\tlearn: 0.0461051\ttotal: 399us\tremaining: 15.6ms\n",
      "39:\tlearn: 0.0160779\ttotal: 11.7ms\tremaining: 0us\n",
      "0:\tlearn: 0.0430948\ttotal: 408us\tremaining: 15.9ms\n",
      "39:\tlearn: 0.0153831\ttotal: 7.02ms\tremaining: 0us\n",
      "0:\tlearn: 0.0415165\ttotal: 423us\tremaining: 16.5ms\n",
      "39:\tlearn: 0.0156187\ttotal: 7.01ms\tremaining: 0us\n",
      "0:\tlearn: 0.0597183\ttotal: 387us\tremaining: 15.1ms\n",
      "39:\tlearn: 0.0275301\ttotal: 6.54ms\tremaining: 0us\n",
      "0:\tlearn: 0.0567035\ttotal: 436us\tremaining: 17ms\n",
      "39:\tlearn: 0.0269606\ttotal: 6.82ms\tremaining: 0us\n",
      "0:\tlearn: 0.0550533\ttotal: 470us\tremaining: 18.4ms\n",
      "39:\tlearn: 0.0302582\ttotal: 6.24ms\tremaining: 0us\n",
      "0:\tlearn: 0.0612571\ttotal: 407us\tremaining: 15.9ms\n",
      "39:\tlearn: 0.0328797\ttotal: 8.78ms\tremaining: 0us\n",
      "0:\tlearn: 0.0595635\ttotal: 909us\tremaining: 35.5ms\n",
      "39:\tlearn: 0.0316658\ttotal: 7.66ms\tremaining: 0us\n",
      "0:\tlearn: 0.0602327\ttotal: 434us\tremaining: 16.9ms\n",
      "39:\tlearn: 0.0317207\ttotal: 6.9ms\tremaining: 0us\n",
      "0:\tlearn: 0.0597733\ttotal: 397us\tremaining: 15.5ms\n",
      "39:\tlearn: 0.0373318\ttotal: 7.13ms\tremaining: 0us\n",
      "0:\tlearn: 0.0699730\ttotal: 429us\tremaining: 16.7ms\n",
      "39:\tlearn: 0.0372939\ttotal: 23.2ms\tremaining: 0us\n",
      "0:\tlearn: 0.0737969\ttotal: 389us\tremaining: 15.2ms\n",
      "39:\tlearn: 0.0318282\ttotal: 6.66ms\tremaining: 0us\n"
     ]
    },
    {
     "name": "stderr",
     "output_type": "stream",
     "text": [
      "37it [04:58,  7.68s/it]"
     ]
    },
    {
     "name": "stdout",
     "output_type": "stream",
     "text": [
      "0:\tlearn: 0.2655028\ttotal: 445us\tremaining: 17.4ms\n",
      "39:\tlearn: 0.0910359\ttotal: 5.92ms\tremaining: 0us\n",
      "0:\tlearn: 0.2466728\ttotal: 391us\tremaining: 15.3ms\n",
      "39:\tlearn: 0.0863133\ttotal: 6.05ms\tremaining: 0us\n",
      "0:\tlearn: 0.2317793\ttotal: 408us\tremaining: 15.9ms\n",
      "39:\tlearn: 0.0830721\ttotal: 6.07ms\tremaining: 0us\n",
      "0:\tlearn: 0.2193432\ttotal: 452us\tremaining: 17.7ms\n",
      "39:\tlearn: 0.0790789\ttotal: 6.73ms\tremaining: 0us\n",
      "0:\tlearn: 0.2089762\ttotal: 400us\tremaining: 15.6ms\n",
      "39:\tlearn: 0.0894229\ttotal: 5.86ms\tremaining: 0us\n",
      "0:\tlearn: 0.1997628\ttotal: 677us\tremaining: 26.4ms\n",
      "39:\tlearn: 0.0888284\ttotal: 6.65ms\tremaining: 0us\n",
      "0:\tlearn: 0.1908878\ttotal: 405us\tremaining: 15.8ms\n",
      "39:\tlearn: 0.0855294\ttotal: 6.16ms\tremaining: 0us\n",
      "0:\tlearn: 0.1886359\ttotal: 880us\tremaining: 34.4ms\n",
      "39:\tlearn: 0.0906383\ttotal: 6.59ms\tremaining: 0us\n",
      "0:\tlearn: 0.1837248\ttotal: 418us\tremaining: 16.3ms\n",
      "39:\tlearn: 0.1027684\ttotal: 11.8ms\tremaining: 0us\n",
      "0:\tlearn: 0.1814010\ttotal: 440us\tremaining: 17.2ms\n",
      "39:\tlearn: 0.0966057\ttotal: 6.42ms\tremaining: 0us\n",
      "0:\tlearn: 0.1785970\ttotal: 411us\tremaining: 16.1ms\n",
      "39:\tlearn: 0.0988090\ttotal: 85.6ms\tremaining: 0us\n",
      "0:\tlearn: 0.1759957\ttotal: 386us\tremaining: 15.1ms\n",
      "39:\tlearn: 0.0947412\ttotal: 6.37ms\tremaining: 0us\n",
      "0:\tlearn: 0.1734941\ttotal: 640us\tremaining: 25ms\n",
      "39:\tlearn: 0.0894523\ttotal: 7.83ms\tremaining: 0us\n"
     ]
    },
    {
     "name": "stderr",
     "output_type": "stream",
     "text": [
      "38it [05:08,  8.27s/it]"
     ]
    },
    {
     "name": "stdout",
     "output_type": "stream",
     "text": [
      "0:\tlearn: 0.0702070\ttotal: 941us\tremaining: 36.7ms\n",
      "39:\tlearn: 0.0288567\ttotal: 6.66ms\tremaining: 0us\n",
      "0:\tlearn: 0.0649827\ttotal: 429us\tremaining: 16.8ms\n",
      "39:\tlearn: 0.0270808\ttotal: 6.29ms\tremaining: 0us\n",
      "0:\tlearn: 0.0712137\ttotal: 421us\tremaining: 16.4ms\n",
      "39:\tlearn: 0.0305293\ttotal: 7.56ms\tremaining: 0us\n",
      "0:\tlearn: 0.0741853\ttotal: 458us\tremaining: 17.9ms\n",
      "39:\tlearn: 0.0311987\ttotal: 6.54ms\tremaining: 0us\n",
      "0:\tlearn: 0.0698550\ttotal: 399us\tremaining: 15.6ms\n",
      "39:\tlearn: 0.0290491\ttotal: 6.51ms\tremaining: 0us\n",
      "0:\tlearn: 0.0721211\ttotal: 320us\tremaining: 12.5ms\n",
      "39:\tlearn: 0.0343768\ttotal: 6.41ms\tremaining: 0us\n",
      "0:\tlearn: 0.0753457\ttotal: 425us\tremaining: 16.6ms\n",
      "39:\tlearn: 0.0414403\ttotal: 6.75ms\tremaining: 0us\n",
      "0:\tlearn: 0.0996803\ttotal: 430us\tremaining: 16.8ms\n",
      "39:\tlearn: 0.0493628\ttotal: 6.33ms\tremaining: 0us\n",
      "0:\tlearn: 0.1157340\ttotal: 406us\tremaining: 15.8ms\n",
      "39:\tlearn: 0.0545994\ttotal: 6.8ms\tremaining: 0us\n",
      "0:\tlearn: 0.1134599\ttotal: 481us\tremaining: 18.8ms\n",
      "39:\tlearn: 0.0544850\ttotal: 30.6ms\tremaining: 0us\n",
      "0:\tlearn: 0.1100963\ttotal: 433us\tremaining: 16.9ms\n",
      "39:\tlearn: 0.0583221\ttotal: 6.75ms\tremaining: 0us\n",
      "0:\tlearn: 0.1108476\ttotal: 430us\tremaining: 16.8ms\n",
      "39:\tlearn: 0.0544465\ttotal: 6.55ms\tremaining: 0us\n",
      "0:\tlearn: 0.1144150\ttotal: 480us\tremaining: 18.8ms\n",
      "39:\tlearn: 0.0628225\ttotal: 6.59ms\tremaining: 0us\n"
     ]
    },
    {
     "name": "stderr",
     "output_type": "stream",
     "text": [
      "39it [05:19,  9.13s/it]"
     ]
    },
    {
     "name": "stdout",
     "output_type": "stream",
     "text": [
      "0:\tlearn: 0.0461036\ttotal: 406us\tremaining: 15.8ms\n",
      "39:\tlearn: 0.0172880\ttotal: 6.39ms\tremaining: 0us\n",
      "0:\tlearn: 0.0445703\ttotal: 421us\tremaining: 16.4ms\n",
      "39:\tlearn: 0.0160946\ttotal: 12.1ms\tremaining: 0us\n",
      "0:\tlearn: 0.0527512\ttotal: 695us\tremaining: 27.1ms\n",
      "39:\tlearn: 0.0191379\ttotal: 23.6ms\tremaining: 0us\n",
      "0:\tlearn: 0.0529191\ttotal: 409us\tremaining: 16ms\n",
      "39:\tlearn: 0.0226157\ttotal: 6.98ms\tremaining: 0us\n",
      "0:\tlearn: 0.0533967\ttotal: 406us\tremaining: 15.9ms\n",
      "39:\tlearn: 0.0199317\ttotal: 18.2ms\tremaining: 0us\n",
      "0:\tlearn: 0.0523366\ttotal: 427us\tremaining: 16.7ms\n",
      "39:\tlearn: 0.0187723\ttotal: 8.62ms\tremaining: 0us\n",
      "0:\tlearn: 0.0543819\ttotal: 452us\tremaining: 17.7ms\n",
      "39:\tlearn: 0.0241182\ttotal: 6.67ms\tremaining: 0us\n",
      "0:\tlearn: 0.0530604\ttotal: 400us\tremaining: 15.6ms\n",
      "39:\tlearn: 0.0265161\ttotal: 6.34ms\tremaining: 0us\n",
      "0:\tlearn: 0.0550223\ttotal: 646us\tremaining: 25.2ms\n",
      "39:\tlearn: 0.0302695\ttotal: 46ms\tremaining: 0us\n",
      "0:\tlearn: 0.0535619\ttotal: 399us\tremaining: 15.6ms\n",
      "39:\tlearn: 0.0296083\ttotal: 6.64ms\tremaining: 0us\n",
      "0:\tlearn: 0.0580702\ttotal: 422us\tremaining: 16.5ms\n",
      "39:\tlearn: 0.0348103\ttotal: 6.53ms\tremaining: 0us\n",
      "0:\tlearn: 0.0564550\ttotal: 520us\tremaining: 20.3ms\n",
      "39:\tlearn: 0.0348487\ttotal: 6.48ms\tremaining: 0us\n",
      "0:\tlearn: 0.0565926\ttotal: 524us\tremaining: 20.5ms\n",
      "39:\tlearn: 0.0358523\ttotal: 11.8ms\tremaining: 0us\n"
     ]
    },
    {
     "name": "stderr",
     "output_type": "stream",
     "text": [
      "41it [05:30,  8.10s/it]"
     ]
    },
    {
     "name": "stdout",
     "output_type": "stream",
     "text": [
      "0:\tlearn: 0.0482791\ttotal: 483us\tremaining: 18.9ms\n",
      "39:\tlearn: 0.0176959\ttotal: 13.5ms\tremaining: 0us\n",
      "0:\tlearn: 0.0440309\ttotal: 466us\tremaining: 18.2ms\n",
      "39:\tlearn: 0.0174732\ttotal: 28.1ms\tremaining: 0us\n",
      "0:\tlearn: 0.0410585\ttotal: 772us\tremaining: 30.1ms\n",
      "39:\tlearn: 0.0165727\ttotal: 13.5ms\tremaining: 0us\n",
      "0:\tlearn: 0.0515239\ttotal: 440us\tremaining: 17.2ms\n",
      "39:\tlearn: 0.0185427\ttotal: 20.9ms\tremaining: 0us\n",
      "0:\tlearn: 0.0609253\ttotal: 431us\tremaining: 16.8ms\n",
      "39:\tlearn: 0.0212897\ttotal: 12.9ms\tremaining: 0us\n",
      "0:\tlearn: 0.0567590\ttotal: 414us\tremaining: 16.2ms\n",
      "39:\tlearn: 0.0203444\ttotal: 32.5ms\tremaining: 0us\n",
      "0:\tlearn: 0.0620997\ttotal: 440us\tremaining: 17.2ms\n",
      "39:\tlearn: 0.0248296\ttotal: 6.49ms\tremaining: 0us\n",
      "0:\tlearn: 0.0601914\ttotal: 438us\tremaining: 17.1ms\n",
      "39:\tlearn: 0.0263063\ttotal: 7.17ms\tremaining: 0us\n",
      "0:\tlearn: 0.0578100\ttotal: 449us\tremaining: 17.5ms\n",
      "39:\tlearn: 0.0256689\ttotal: 6.62ms\tremaining: 0us\n",
      "0:\tlearn: 0.0633338\ttotal: 448us\tremaining: 17.5ms\n",
      "39:\tlearn: 0.0277189\ttotal: 6.36ms\tremaining: 163us\n",
      "0:\tlearn: 0.0783717\ttotal: 476us\tremaining: 18.6ms\n",
      "39:\tlearn: 0.0417504\ttotal: 6.38ms\tremaining: 0us\n",
      "0:\tlearn: 0.0768647\ttotal: 458us\tremaining: 17.9ms\n",
      "39:\tlearn: 0.0416011\ttotal: 6.45ms\tremaining: 0us\n",
      "0:\tlearn: 0.0767488\ttotal: 403us\tremaining: 15.7ms\n",
      "39:\tlearn: 0.0412238\ttotal: 6.67ms\tremaining: 0us\n"
     ]
    },
    {
     "name": "stderr",
     "output_type": "stream",
     "text": [
      "42it [05:41,  8.92s/it]"
     ]
    },
    {
     "name": "stdout",
     "output_type": "stream",
     "text": [
      "0:\tlearn: 0.0938653\ttotal: 476us\tremaining: 18.6ms\n",
      "39:\tlearn: 0.0428940\ttotal: 8.33ms\tremaining: 0us\n",
      "0:\tlearn: 0.0944024\ttotal: 479us\tremaining: 18.7ms\n",
      "39:\tlearn: 0.0439536\ttotal: 7.79ms\tremaining: 0us\n",
      "0:\tlearn: 0.0907432\ttotal: 416us\tremaining: 16.2ms\n",
      "39:\tlearn: 0.0392739\ttotal: 7.18ms\tremaining: 0us\n",
      "0:\tlearn: 0.0889633\ttotal: 409us\tremaining: 16ms\n",
      "39:\tlearn: 0.0471343\ttotal: 11.9ms\tremaining: 0us\n",
      "0:\tlearn: 0.1147659\ttotal: 425us\tremaining: 16.6ms\n",
      "39:\tlearn: 0.0635601\ttotal: 6.25ms\tremaining: 0us\n",
      "0:\tlearn: 0.1152288\ttotal: 429us\tremaining: 16.8ms\n",
      "39:\tlearn: 0.0661473\ttotal: 6.56ms\tremaining: 0us\n",
      "0:\tlearn: 0.1493526\ttotal: 463us\tremaining: 18.1ms\n",
      "39:\tlearn: 0.0745799\ttotal: 6.58ms\tremaining: 168us\n",
      "0:\tlearn: 0.1470558\ttotal: 390us\tremaining: 15.2ms\n",
      "39:\tlearn: 0.0748405\ttotal: 6.55ms\tremaining: 0us\n",
      "0:\tlearn: 0.1427341\ttotal: 459us\tremaining: 17.9ms\n",
      "39:\tlearn: 0.0785084\ttotal: 10.7ms\tremaining: 0us\n",
      "0:\tlearn: 0.1405803\ttotal: 677us\tremaining: 26.4ms\n",
      "39:\tlearn: 0.0823548\ttotal: 6.58ms\tremaining: 0us\n",
      "0:\tlearn: 0.1381759\ttotal: 431us\tremaining: 16.8ms\n",
      "39:\tlearn: 0.0816321\ttotal: 6.69ms\tremaining: 0us\n",
      "0:\tlearn: 0.1377407\ttotal: 439us\tremaining: 17.1ms\n",
      "39:\tlearn: 0.0769464\ttotal: 12ms\tremaining: 0us\n",
      "0:\tlearn: 0.1331291\ttotal: 1.39ms\tremaining: 54.3ms\n",
      "39:\tlearn: 0.0788847\ttotal: 78.1ms\tremaining: 0us\n"
     ]
    },
    {
     "name": "stderr",
     "output_type": "stream",
     "text": [
      "43it [05:51,  9.27s/it]"
     ]
    },
    {
     "name": "stdout",
     "output_type": "stream",
     "text": [
      "0:\tlearn: 0.1644944\ttotal: 491us\tremaining: 19.2ms\n",
      "39:\tlearn: 0.0636567\ttotal: 6.31ms\tremaining: 0us\n",
      "0:\tlearn: 0.1681023\ttotal: 415us\tremaining: 16.2ms\n",
      "39:\tlearn: 0.0663044\ttotal: 6.62ms\tremaining: 0us\n",
      "0:\tlearn: 0.1628571\ttotal: 407us\tremaining: 15.9ms\n",
      "39:\tlearn: 0.0768651\ttotal: 11.5ms\tremaining: 0us\n",
      "0:\tlearn: 0.1672447\ttotal: 399us\tremaining: 15.6ms\n",
      "39:\tlearn: 0.0835624\ttotal: 6.13ms\tremaining: 0us\n",
      "0:\tlearn: 0.1641568\ttotal: 470us\tremaining: 18.4ms\n",
      "39:\tlearn: 0.0836028\ttotal: 12.1ms\tremaining: 0us\n",
      "0:\tlearn: 0.1625041\ttotal: 1.06ms\tremaining: 41.3ms\n",
      "39:\tlearn: 0.0877544\ttotal: 6.87ms\tremaining: 0us\n",
      "0:\tlearn: 0.1556575\ttotal: 467us\tremaining: 18.2ms\n",
      "39:\tlearn: 0.0836793\ttotal: 11.9ms\tremaining: 0us\n",
      "0:\tlearn: 0.1667654\ttotal: 428us\tremaining: 16.7ms\n",
      "39:\tlearn: 0.0835419\ttotal: 8.15ms\tremaining: 0us\n",
      "0:\tlearn: 0.1605535\ttotal: 428us\tremaining: 16.7ms\n",
      "39:\tlearn: 0.0924526\ttotal: 6.61ms\tremaining: 0us\n",
      "0:\tlearn: 0.1614361\ttotal: 461us\tremaining: 18ms\n",
      "39:\tlearn: 0.1039599\ttotal: 6.25ms\tremaining: 0us\n",
      "0:\tlearn: 0.1572253\ttotal: 418us\tremaining: 16.3ms\n",
      "39:\tlearn: 0.0860904\ttotal: 8.16ms\tremaining: 209us\n",
      "0:\tlearn: 0.1559963\ttotal: 443us\tremaining: 17.3ms\n",
      "39:\tlearn: 0.0883212\ttotal: 12ms\tremaining: 0us\n",
      "0:\tlearn: 0.1536707\ttotal: 444us\tremaining: 17.3ms\n",
      "39:\tlearn: 0.0857161\ttotal: 6.53ms\tremaining: 167us\n"
     ]
    },
    {
     "name": "stderr",
     "output_type": "stream",
     "text": [
      "44it [06:01,  9.44s/it]"
     ]
    },
    {
     "name": "stdout",
     "output_type": "stream",
     "text": [
      "0:\tlearn: 0.0309643\ttotal: 487us\tremaining: 19ms\n",
      "39:\tlearn: 0.0151203\ttotal: 6.62ms\tremaining: 0us\n",
      "0:\tlearn: 0.0338235\ttotal: 520us\tremaining: 20.3ms\n",
      "39:\tlearn: 0.0167876\ttotal: 7.96ms\tremaining: 0us\n",
      "0:\tlearn: 0.0333083\ttotal: 471us\tremaining: 18.4ms\n",
      "39:\tlearn: 0.0163859\ttotal: 7.65ms\tremaining: 0us\n",
      "0:\tlearn: 0.0322604\ttotal: 505us\tremaining: 19.7ms\n",
      "39:\tlearn: 0.0173142\ttotal: 7.07ms\tremaining: 0us\n",
      "0:\tlearn: 0.0323626\ttotal: 497us\tremaining: 19.4ms\n",
      "39:\tlearn: 0.0149500\ttotal: 7.26ms\tremaining: 0us\n",
      "0:\tlearn: 0.0325042\ttotal: 527us\tremaining: 20.6ms\n",
      "39:\tlearn: 0.0168009\ttotal: 7.16ms\tremaining: 0us\n",
      "0:\tlearn: 0.0321067\ttotal: 566us\tremaining: 22.1ms\n",
      "39:\tlearn: 0.0183961\ttotal: 8.26ms\tremaining: 0us\n",
      "0:\tlearn: 0.0310386\ttotal: 492us\tremaining: 19.2ms\n",
      "39:\tlearn: 0.0187858\ttotal: 7.75ms\tremaining: 0us\n"
     ]
    },
    {
     "name": "stderr",
     "output_type": "stream",
     "text": [
      "45it [06:08,  8.58s/it]"
     ]
    },
    {
     "name": "stdout",
     "output_type": "stream",
     "text": [
      "0:\tlearn: 0.0774253\ttotal: 442us\tremaining: 17.3ms\n",
      "39:\tlearn: 0.0281202\ttotal: 6.63ms\tremaining: 0us\n",
      "0:\tlearn: 0.0769953\ttotal: 1.2ms\tremaining: 46.9ms\n",
      "39:\tlearn: 0.0292889\ttotal: 47.5ms\tremaining: 0us\n",
      "0:\tlearn: 0.0722971\ttotal: 421us\tremaining: 16.5ms\n",
      "39:\tlearn: 0.0280520\ttotal: 8.66ms\tremaining: 0us\n",
      "0:\tlearn: 0.0692103\ttotal: 471us\tremaining: 18.4ms\n",
      "39:\tlearn: 0.0264107\ttotal: 6.47ms\tremaining: 0us\n",
      "0:\tlearn: 0.0653012\ttotal: 417us\tremaining: 16.3ms\n",
      "39:\tlearn: 0.0261865\ttotal: 14.7ms\tremaining: 0us\n",
      "0:\tlearn: 0.0621212\ttotal: 402us\tremaining: 15.7ms\n",
      "39:\tlearn: 0.0258486\ttotal: 18.3ms\tremaining: 0us\n",
      "0:\tlearn: 0.0789930\ttotal: 508us\tremaining: 19.8ms\n",
      "39:\tlearn: 0.0304279\ttotal: 13ms\tremaining: 0us\n",
      "0:\tlearn: 0.0768583\ttotal: 420us\tremaining: 16.4ms\n",
      "39:\tlearn: 0.0336684\ttotal: 6.65ms\tremaining: 170us\n",
      "0:\tlearn: 0.0764588\ttotal: 507us\tremaining: 19.8ms\n",
      "39:\tlearn: 0.0399159\ttotal: 21.4ms\tremaining: 0us\n",
      "0:\tlearn: 0.0775730\ttotal: 421us\tremaining: 16.4ms\n",
      "39:\tlearn: 0.0378196\ttotal: 6.38ms\tremaining: 0us\n",
      "0:\tlearn: 0.0779281\ttotal: 380us\tremaining: 14.8ms\n",
      "39:\tlearn: 0.0433767\ttotal: 6.58ms\tremaining: 0us\n",
      "0:\tlearn: 0.0815289\ttotal: 807us\tremaining: 31.5ms\n",
      "39:\tlearn: 0.0399969\ttotal: 7.23ms\tremaining: 0us\n",
      "0:\tlearn: 0.0811589\ttotal: 502us\tremaining: 19.6ms\n",
      "39:\tlearn: 0.0376463\ttotal: 7.5ms\tremaining: 0us\n"
     ]
    },
    {
     "name": "stderr",
     "output_type": "stream",
     "text": [
      "46it [06:18,  8.99s/it]"
     ]
    },
    {
     "name": "stdout",
     "output_type": "stream",
     "text": [
      "0:\tlearn: 0.1379509\ttotal: 435us\tremaining: 17ms\n",
      "39:\tlearn: 0.0507695\ttotal: 6.13ms\tremaining: 0us\n",
      "0:\tlearn: 0.1301475\ttotal: 409us\tremaining: 16ms\n",
      "39:\tlearn: 0.0512352\ttotal: 6.22ms\tremaining: 0us\n",
      "0:\tlearn: 0.1246136\ttotal: 477us\tremaining: 18.6ms\n",
      "39:\tlearn: 0.0534593\ttotal: 7.48ms\tremaining: 0us\n",
      "0:\tlearn: 0.1178492\ttotal: 1.41ms\tremaining: 54.9ms\n",
      "39:\tlearn: 0.0505801\ttotal: 62.1ms\tremaining: 0us\n",
      "0:\tlearn: 0.1141851\ttotal: 390us\tremaining: 15.2ms\n",
      "39:\tlearn: 0.0499861\ttotal: 6.63ms\tremaining: 0us\n",
      "0:\tlearn: 0.1105249\ttotal: 478us\tremaining: 18.6ms\n",
      "39:\tlearn: 0.0553429\ttotal: 11.8ms\tremaining: 0us\n",
      "0:\tlearn: 0.1542631\ttotal: 448us\tremaining: 17.5ms\n",
      "39:\tlearn: 0.0823392\ttotal: 6.35ms\tremaining: 0us\n",
      "0:\tlearn: 0.1514999\ttotal: 485us\tremaining: 18.9ms\n",
      "39:\tlearn: 0.0907071\ttotal: 6.06ms\tremaining: 0us\n",
      "0:\tlearn: 0.1749386\ttotal: 444us\tremaining: 17.3ms\n",
      "39:\tlearn: 0.0889551\ttotal: 6.73ms\tremaining: 0us\n",
      "0:\tlearn: 0.1702500\ttotal: 458us\tremaining: 17.9ms\n",
      "39:\tlearn: 0.1009942\ttotal: 12ms\tremaining: 0us\n",
      "0:\tlearn: 0.1788863\ttotal: 468us\tremaining: 18.3ms\n",
      "39:\tlearn: 0.0821475\ttotal: 12.8ms\tremaining: 0us\n",
      "0:\tlearn: 0.1800044\ttotal: 406us\tremaining: 15.8ms\n",
      "39:\tlearn: 0.0985604\ttotal: 6.22ms\tremaining: 0us\n",
      "0:\tlearn: 0.1780738\ttotal: 449us\tremaining: 17.5ms\n",
      "39:\tlearn: 0.0994214\ttotal: 13.9ms\tremaining: 0us\n"
     ]
    },
    {
     "name": "stderr",
     "output_type": "stream",
     "text": [
      "47it [06:28,  9.58s/it]"
     ]
    },
    {
     "name": "stdout",
     "output_type": "stream",
     "text": [
      "0:\tlearn: 0.0513477\ttotal: 480us\tremaining: 18.8ms\n",
      "39:\tlearn: 0.0162706\ttotal: 7.25ms\tremaining: 0us\n",
      "0:\tlearn: 0.0504781\ttotal: 448us\tremaining: 17.5ms\n",
      "39:\tlearn: 0.0165669\ttotal: 6.46ms\tremaining: 0us\n",
      "0:\tlearn: 0.0529008\ttotal: 467us\tremaining: 18.2ms\n",
      "39:\tlearn: 0.0146303\ttotal: 21.8ms\tremaining: 0us\n",
      "0:\tlearn: 0.0497545\ttotal: 460us\tremaining: 17.9ms\n",
      "39:\tlearn: 0.0140833\ttotal: 7.62ms\tremaining: 0us\n",
      "0:\tlearn: 0.0468223\ttotal: 446us\tremaining: 17.4ms\n",
      "39:\tlearn: 0.0140872\ttotal: 12.9ms\tremaining: 0us\n",
      "0:\tlearn: 0.0448512\ttotal: 547us\tremaining: 21.4ms\n",
      "39:\tlearn: 0.0139314\ttotal: 8.01ms\tremaining: 0us\n",
      "0:\tlearn: 0.0433661\ttotal: 478us\tremaining: 18.7ms\n",
      "39:\tlearn: 0.0150269\ttotal: 7.86ms\tremaining: 0us\n",
      "0:\tlearn: 0.0615770\ttotal: 492us\tremaining: 19.2ms\n",
      "39:\tlearn: 0.0248298\ttotal: 6.62ms\tremaining: 0us\n",
      "0:\tlearn: 0.0585965\ttotal: 475us\tremaining: 18.5ms\n",
      "39:\tlearn: 0.0235617\ttotal: 10.7ms\tremaining: 0us\n",
      "0:\tlearn: 0.0631269\ttotal: 452us\tremaining: 17.7ms\n",
      "39:\tlearn: 0.0267915\ttotal: 6.4ms\tremaining: 0us\n",
      "0:\tlearn: 0.0624243\ttotal: 409us\tremaining: 16ms\n",
      "39:\tlearn: 0.0259927\ttotal: 6.77ms\tremaining: 0us\n",
      "0:\tlearn: 0.0709336\ttotal: 437us\tremaining: 17ms\n",
      "39:\tlearn: 0.0345722\ttotal: 6.52ms\tremaining: 0us\n",
      "0:\tlearn: 0.0810500\ttotal: 397us\tremaining: 15.5ms\n",
      "39:\tlearn: 0.0336835\ttotal: 12.2ms\tremaining: 0us\n"
     ]
    },
    {
     "name": "stderr",
     "output_type": "stream",
     "text": [
      "48it [06:39,  9.76s/it]"
     ]
    },
    {
     "name": "stdout",
     "output_type": "stream",
     "text": [
      "0:\tlearn: 0.1005208\ttotal: 409us\tremaining: 16ms\n",
      "39:\tlearn: 0.0346862\ttotal: 6.84ms\tremaining: 0us\n",
      "0:\tlearn: 0.0927153\ttotal: 416us\tremaining: 16.3ms\n",
      "39:\tlearn: 0.0322471\ttotal: 6.45ms\tremaining: 0us\n",
      "0:\tlearn: 0.0862069\ttotal: 1.42ms\tremaining: 55.4ms\n",
      "39:\tlearn: 0.0305332\ttotal: 7.08ms\tremaining: 0us\n",
      "0:\tlearn: 0.0809388\ttotal: 431us\tremaining: 16.8ms\n",
      "39:\tlearn: 0.0288892\ttotal: 6.42ms\tremaining: 0us\n",
      "0:\tlearn: 0.0759327\ttotal: 418us\tremaining: 16.3ms\n",
      "39:\tlearn: 0.0277387\ttotal: 6.67ms\tremaining: 0us\n",
      "0:\tlearn: 0.1133494\ttotal: 497us\tremaining: 19.4ms\n",
      "39:\tlearn: 0.0403181\ttotal: 6.99ms\tremaining: 0us\n",
      "0:\tlearn: 0.1078936\ttotal: 421us\tremaining: 16.4ms\n",
      "39:\tlearn: 0.0436065\ttotal: 12.1ms\tremaining: 0us\n",
      "0:\tlearn: 0.1039534\ttotal: 504us\tremaining: 19.7ms\n",
      "39:\tlearn: 0.0496669\ttotal: 6.58ms\tremaining: 0us\n",
      "0:\tlearn: 0.1010822\ttotal: 433us\tremaining: 16.9ms\n",
      "39:\tlearn: 0.0537358\ttotal: 6.25ms\tremaining: 0us\n",
      "0:\tlearn: 0.1008233\ttotal: 414us\tremaining: 16.2ms\n",
      "39:\tlearn: 0.0514639\ttotal: 6.86ms\tremaining: 175us\n",
      "0:\tlearn: 0.1100289\ttotal: 379us\tremaining: 14.8ms\n",
      "39:\tlearn: 0.0578829\ttotal: 31.4ms\tremaining: 0us\n",
      "0:\tlearn: 0.1061429\ttotal: 434us\tremaining: 16.9ms\n",
      "39:\tlearn: 0.0551540\ttotal: 11.8ms\tremaining: 0us\n",
      "0:\tlearn: 0.1054963\ttotal: 504us\tremaining: 19.7ms\n",
      "39:\tlearn: 0.0525637\ttotal: 12.9ms\tremaining: 0us\n"
     ]
    },
    {
     "name": "stderr",
     "output_type": "stream",
     "text": [
      "49it [06:49,  9.86s/it]"
     ]
    },
    {
     "name": "stdout",
     "output_type": "stream",
     "text": [
      "0:\tlearn: 0.1601493\ttotal: 414us\tremaining: 16.2ms\n",
      "39:\tlearn: 0.0568597\ttotal: 11.5ms\tremaining: 0us\n",
      "0:\tlearn: 0.1658767\ttotal: 439us\tremaining: 17.1ms\n",
      "39:\tlearn: 0.0539228\ttotal: 7.82ms\tremaining: 0us\n",
      "0:\tlearn: 0.1569834\ttotal: 457us\tremaining: 17.8ms\n",
      "39:\tlearn: 0.0532445\ttotal: 7.13ms\tremaining: 0us\n",
      "0:\tlearn: 0.1460954\ttotal: 423us\tremaining: 16.5ms\n",
      "39:\tlearn: 0.0514251\ttotal: 7.5ms\tremaining: 0us\n",
      "0:\tlearn: 0.1585401\ttotal: 428us\tremaining: 16.7ms\n",
      "39:\tlearn: 0.0567801\ttotal: 17ms\tremaining: 0us\n",
      "0:\tlearn: 0.1496142\ttotal: 445us\tremaining: 17.4ms\n",
      "39:\tlearn: 0.0570720\ttotal: 6.31ms\tremaining: 0us\n",
      "0:\tlearn: 0.1420906\ttotal: 406us\tremaining: 15.8ms\n",
      "39:\tlearn: 0.0561338\ttotal: 11.8ms\tremaining: 0us\n",
      "0:\tlearn: 0.1370498\ttotal: 662us\tremaining: 25.8ms\n",
      "39:\tlearn: 0.0548468\ttotal: 10.2ms\tremaining: 0us\n",
      "0:\tlearn: 0.1331497\ttotal: 452us\tremaining: 17.6ms\n",
      "39:\tlearn: 0.0603622\ttotal: 7.91ms\tremaining: 0us\n",
      "0:\tlearn: 0.1339078\ttotal: 392us\tremaining: 15.3ms\n",
      "39:\tlearn: 0.0652550\ttotal: 6.42ms\tremaining: 0us\n",
      "0:\tlearn: 0.1335610\ttotal: 479us\tremaining: 18.7ms\n",
      "39:\tlearn: 0.0640004\ttotal: 6.59ms\tremaining: 0us\n",
      "0:\tlearn: 0.1378784\ttotal: 417us\tremaining: 16.3ms\n",
      "39:\tlearn: 0.0718985\ttotal: 12.7ms\tremaining: 0us\n",
      "0:\tlearn: 0.1359841\ttotal: 466us\tremaining: 18.2ms\n",
      "39:\tlearn: 0.0608287\ttotal: 6.97ms\tremaining: 0us\n"
     ]
    },
    {
     "name": "stderr",
     "output_type": "stream",
     "text": [
      "50it [06:59,  9.87s/it]"
     ]
    },
    {
     "name": "stdout",
     "output_type": "stream",
     "text": [
      "0:\tlearn: 0.0752143\ttotal: 195us\tremaining: 7.63ms\n",
      "39:\tlearn: 0.0280208\ttotal: 1.78ms\tremaining: 0us\n",
      "0:\tlearn: 0.0619867\ttotal: 471us\tremaining: 18.4ms\n",
      "39:\tlearn: 0.0230777\ttotal: 7.07ms\tremaining: 0us\n",
      "0:\tlearn: 0.0626059\ttotal: 460us\tremaining: 18ms\n",
      "39:\tlearn: 0.0228117\ttotal: 6.22ms\tremaining: 0us\n",
      "0:\tlearn: 0.0586140\ttotal: 417us\tremaining: 16.3ms\n",
      "39:\tlearn: 0.0209516\ttotal: 6.1ms\tremaining: 0us\n",
      "0:\tlearn: 0.0557515\ttotal: 443us\tremaining: 17.3ms\n",
      "39:\tlearn: 0.0200985\ttotal: 6.72ms\tremaining: 0us\n",
      "0:\tlearn: 0.1012332\ttotal: 453us\tremaining: 17.7ms\n",
      "39:\tlearn: 0.0403645\ttotal: 6.59ms\tremaining: 0us\n",
      "0:\tlearn: 0.0990721\ttotal: 520us\tremaining: 20.3ms\n",
      "39:\tlearn: 0.0437966\ttotal: 6.68ms\tremaining: 0us\n",
      "0:\tlearn: 0.0993089\ttotal: 461us\tremaining: 18ms\n",
      "39:\tlearn: 0.0513466\ttotal: 12.2ms\tremaining: 0us\n",
      "0:\tlearn: 0.1520351\ttotal: 767us\tremaining: 29.9ms\n",
      "39:\tlearn: 0.0754009\ttotal: 7.02ms\tremaining: 0us\n",
      "0:\tlearn: 0.1489692\ttotal: 428us\tremaining: 16.7ms\n",
      "39:\tlearn: 0.0744170\ttotal: 6.45ms\tremaining: 0us\n",
      "0:\tlearn: 0.1482247\ttotal: 431us\tremaining: 16.8ms\n",
      "39:\tlearn: 0.0768568\ttotal: 11.4ms\tremaining: 291us\n",
      "0:\tlearn: 0.1437679\ttotal: 445us\tremaining: 17.4ms\n",
      "39:\tlearn: 0.0771504\ttotal: 6.64ms\tremaining: 0us\n",
      "0:\tlearn: 0.1392771\ttotal: 421us\tremaining: 16.4ms\n",
      "39:\tlearn: 0.0721296\ttotal: 12.2ms\tremaining: 0us\n"
     ]
    },
    {
     "name": "stderr",
     "output_type": "stream",
     "text": [
      "51it [07:09,  9.90s/it]"
     ]
    },
    {
     "name": "stdout",
     "output_type": "stream",
     "text": [
      "0:\tlearn: 0.1740460\ttotal: 946us\tremaining: 36.9ms\n",
      "39:\tlearn: 0.0545512\ttotal: 23.8ms\tremaining: 0us\n",
      "0:\tlearn: 0.1679500\ttotal: 478us\tremaining: 18.6ms\n",
      "39:\tlearn: 0.0530157\ttotal: 11.8ms\tremaining: 0us\n",
      "0:\tlearn: 0.1650680\ttotal: 465us\tremaining: 18.2ms\n",
      "39:\tlearn: 0.0511561\ttotal: 24ms\tremaining: 0us\n",
      "0:\tlearn: 0.1603120\ttotal: 443us\tremaining: 17.3ms\n",
      "39:\tlearn: 0.0556093\ttotal: 12.4ms\tremaining: 0us\n",
      "0:\tlearn: 0.1753963\ttotal: 402us\tremaining: 15.7ms\n",
      "39:\tlearn: 0.0680568\ttotal: 6.31ms\tremaining: 0us\n",
      "0:\tlearn: 0.1647808\ttotal: 435us\tremaining: 17ms\n",
      "39:\tlearn: 0.0698244\ttotal: 6.87ms\tremaining: 176us\n",
      "0:\tlearn: 0.1626677\ttotal: 442us\tremaining: 17.3ms\n",
      "39:\tlearn: 0.0634350\ttotal: 6.54ms\tremaining: 0us\n",
      "0:\tlearn: 0.1554412\ttotal: 485us\tremaining: 18.9ms\n",
      "39:\tlearn: 0.0647737\ttotal: 6.81ms\tremaining: 0us\n",
      "0:\tlearn: 0.1598875\ttotal: 422us\tremaining: 16.5ms\n",
      "39:\tlearn: 0.0625804\ttotal: 6.8ms\tremaining: 0us\n",
      "0:\tlearn: 0.1588748\ttotal: 435us\tremaining: 17ms\n",
      "39:\tlearn: 0.0662827\ttotal: 7.04ms\tremaining: 0us\n",
      "0:\tlearn: 0.1606017\ttotal: 426us\tremaining: 16.6ms\n",
      "39:\tlearn: 0.0783328\ttotal: 17.6ms\tremaining: 0us\n",
      "0:\tlearn: 0.1569036\ttotal: 511us\tremaining: 20ms\n",
      "39:\tlearn: 0.0840089\ttotal: 12.4ms\tremaining: 0us\n",
      "0:\tlearn: 0.1572957\ttotal: 465us\tremaining: 18.2ms\n",
      "39:\tlearn: 0.0938823\ttotal: 6.63ms\tremaining: 0us\n"
     ]
    },
    {
     "name": "stderr",
     "output_type": "stream",
     "text": [
      "52it [07:19,  9.92s/it]"
     ]
    },
    {
     "name": "stdout",
     "output_type": "stream",
     "text": [
      "0:\tlearn: 0.0773800\ttotal: 418us\tremaining: 16.3ms\n",
      "39:\tlearn: 0.0335298\ttotal: 6.52ms\tremaining: 0us\n",
      "0:\tlearn: 0.0719908\ttotal: 432us\tremaining: 16.9ms\n",
      "39:\tlearn: 0.0329107\ttotal: 7.09ms\tremaining: 0us\n",
      "0:\tlearn: 0.0748095\ttotal: 412us\tremaining: 16.1ms\n",
      "39:\tlearn: 0.0324666\ttotal: 6.7ms\tremaining: 0us\n",
      "0:\tlearn: 0.0711232\ttotal: 422us\tremaining: 16.5ms\n",
      "39:\tlearn: 0.0295735\ttotal: 21.2ms\tremaining: 0us\n",
      "0:\tlearn: 0.0838751\ttotal: 397us\tremaining: 15.5ms\n",
      "39:\tlearn: 0.0398792\ttotal: 6.6ms\tremaining: 0us\n",
      "0:\tlearn: 0.1102096\ttotal: 413us\tremaining: 16.1ms\n",
      "39:\tlearn: 0.0536708\ttotal: 6.52ms\tremaining: 167us\n",
      "0:\tlearn: 0.1095625\ttotal: 438us\tremaining: 17.1ms\n",
      "39:\tlearn: 0.0477358\ttotal: 13.5ms\tremaining: 0us\n",
      "0:\tlearn: 0.1067830\ttotal: 439us\tremaining: 17.1ms\n",
      "39:\tlearn: 0.0461206\ttotal: 6.71ms\tremaining: 0us\n",
      "0:\tlearn: 0.1038166\ttotal: 610us\tremaining: 23.8ms\n",
      "39:\tlearn: 0.0463795\ttotal: 6.55ms\tremaining: 0us\n",
      "0:\tlearn: 0.1039315\ttotal: 425us\tremaining: 16.6ms\n",
      "39:\tlearn: 0.0555345\ttotal: 6.46ms\tremaining: 0us\n",
      "0:\tlearn: 0.1042294\ttotal: 419us\tremaining: 16.4ms\n",
      "39:\tlearn: 0.0613711\ttotal: 11.9ms\tremaining: 0us\n",
      "0:\tlearn: 0.1068433\ttotal: 420us\tremaining: 16.4ms\n",
      "39:\tlearn: 0.0605839\ttotal: 6.27ms\tremaining: 0us\n",
      "0:\tlearn: 0.1045288\ttotal: 520us\tremaining: 20.3ms\n",
      "39:\tlearn: 0.0611837\ttotal: 27.9ms\tremaining: 0us\n"
     ]
    },
    {
     "name": "stderr",
     "output_type": "stream",
     "text": [
      "53it [07:29,  8.48s/it]"
     ]
    },
    {
     "name": "stdout",
     "output_type": "stream",
     "text": [
      "длина фрейма = 43 сред. mae = 0.07786195310290624\n"
     ]
    },
    {
     "name": "stderr",
     "output_type": "stream",
     "text": [
      "\n"
     ]
    }
   ],
   "source": [
    "mae_predictions_catboost_dop = []\n",
    "catboost_predicts_dop =[]\n",
    "\n",
    "for x,y,z in tqdm(zip(mae_catboost[mae_catboost['MAE'] == 'error']['Территория'], mae_catboost[mae_catboost['MAE'] == 'error']['Подразделение'], mae_catboost[mae_catboost['MAE'] == 'error']['Разряд'])):\n",
    "    test_df = plot_ter_sub_rank_KOTR(x,y,z)\n",
    "    new_test_df = create_shift(test_df, 3, 3)\n",
    "    try:\n",
    "        catboost_predict = spliting_training_prediction_catboost(new_test_df)\n",
    "        catboost_predicts_dop.append(catboost_predict)\n",
    "        test = new_test_df['2020-01':]\n",
    "        target_test = test['KOTR']\n",
    "        mae_predictions_catboost_dop.append(mean_absolute_error(target_test, catboost_predict))\n",
    "    except:\n",
    "        catboost_predicts_dop.append(0)\n",
    "        mae_predictions_catboost_dop.append('error')\n",
    "mae_catboost_dop = mae_catboost[mae_catboost['MAE'] == 'error']\n",
    "mae_catboost_dop['MAE'] = mae_predictions_catboost_dop\n",
    "print('длина фрейма =',len(mae_catboost_dop[mae_catboost_dop['MAE'] != 'error']),\n",
    "      'сред. mae =', mae_catboost_dop[mae_catboost_dop['MAE'] != 'error']['MAE'].mean())"
   ]
  },
  {
   "cell_type": "code",
   "execution_count": 37,
   "metadata": {},
   "outputs": [
    {
     "data": {
      "text/html": [
       "<div>\n",
       "<style scoped>\n",
       "    .dataframe tbody tr th:only-of-type {\n",
       "        vertical-align: middle;\n",
       "    }\n",
       "\n",
       "    .dataframe tbody tr th {\n",
       "        vertical-align: top;\n",
       "    }\n",
       "\n",
       "    .dataframe thead th {\n",
       "        text-align: right;\n",
       "    }\n",
       "</style>\n",
       "<table border=\"1\" class=\"dataframe\">\n",
       "  <thead>\n",
       "    <tr style=\"text-align: right;\">\n",
       "      <th></th>\n",
       "      <th>Территория</th>\n",
       "      <th>Подразделение</th>\n",
       "      <th>Разряд</th>\n",
       "      <th>MAE</th>\n",
       "    </tr>\n",
       "  </thead>\n",
       "  <tbody>\n",
       "    <tr>\n",
       "      <th>24</th>\n",
       "      <td>1</td>\n",
       "      <td>24</td>\n",
       "      <td>7</td>\n",
       "      <td>error</td>\n",
       "    </tr>\n",
       "    <tr>\n",
       "      <th>25</th>\n",
       "      <td>1</td>\n",
       "      <td>24</td>\n",
       "      <td>9</td>\n",
       "      <td>error</td>\n",
       "    </tr>\n",
       "    <tr>\n",
       "      <th>26</th>\n",
       "      <td>1</td>\n",
       "      <td>24</td>\n",
       "      <td>12</td>\n",
       "      <td>error</td>\n",
       "    </tr>\n",
       "    <tr>\n",
       "      <th>58</th>\n",
       "      <td>1</td>\n",
       "      <td>46</td>\n",
       "      <td>9</td>\n",
       "      <td>error</td>\n",
       "    </tr>\n",
       "    <tr>\n",
       "      <th>59</th>\n",
       "      <td>1</td>\n",
       "      <td>46</td>\n",
       "      <td>12</td>\n",
       "      <td>error</td>\n",
       "    </tr>\n",
       "    <tr>\n",
       "      <th>60</th>\n",
       "      <td>1</td>\n",
       "      <td>46</td>\n",
       "      <td>14</td>\n",
       "      <td>error</td>\n",
       "    </tr>\n",
       "    <tr>\n",
       "      <th>82</th>\n",
       "      <td>2</td>\n",
       "      <td>27</td>\n",
       "      <td>7</td>\n",
       "      <td>error</td>\n",
       "    </tr>\n",
       "    <tr>\n",
       "      <th>159</th>\n",
       "      <td>5</td>\n",
       "      <td>8</td>\n",
       "      <td>14</td>\n",
       "      <td>error</td>\n",
       "    </tr>\n",
       "    <tr>\n",
       "      <th>174</th>\n",
       "      <td>5</td>\n",
       "      <td>28</td>\n",
       "      <td>7</td>\n",
       "      <td>error</td>\n",
       "    </tr>\n",
       "    <tr>\n",
       "      <th>211</th>\n",
       "      <td>6</td>\n",
       "      <td>26</td>\n",
       "      <td>12</td>\n",
       "      <td>error</td>\n",
       "    </tr>\n",
       "  </tbody>\n",
       "</table>\n",
       "</div>"
      ],
      "text/plain": [
       "     Территория  Подразделение  Разряд    MAE\n",
       "24            1             24       7  error\n",
       "25            1             24       9  error\n",
       "26            1             24      12  error\n",
       "58            1             46       9  error\n",
       "59            1             46      12  error\n",
       "60            1             46      14  error\n",
       "82            2             27       7  error\n",
       "159           5              8      14  error\n",
       "174           5             28       7  error\n",
       "211           6             26      12  error"
      ]
     },
     "execution_count": 37,
     "metadata": {},
     "output_type": "execute_result"
    }
   ],
   "source": [
    "mae_catboost_dop[mae_catboost_dop['MAE']=='error']"
   ]
  },
  {
   "cell_type": "markdown",
   "metadata": {},
   "source": [
    "Данные отделы не обладают необходимым количеством данных для анализа, либо прогноз на имеющихся данных по средним значениям на территории вряд ли принесет какой-либо положительный эффект."
   ]
  },
  {
   "cell_type": "code",
   "execution_count": 38,
   "metadata": {},
   "outputs": [],
   "source": [
    "s = mae_catboost_dop[mae_catboost_dop['MAE']!='error']\n",
    "s =s[s['MAE'] <= 0.085]\n",
    "for x,y,z,a in zip(s['Территория'], s['Подразделение'], s['Разряд'], s['MAE']):\n",
    "    mae_catboost.loc[(mae_catboost['Территория'] == x) & \\\n",
    "                     (mae_catboost['Подразделение'] == y) & \\\n",
    "                     (mae_catboost['Разряд'] == z), 'MAE'] =  a"
   ]
  },
  {
   "cell_type": "code",
   "execution_count": 39,
   "metadata": {},
   "outputs": [
    {
     "data": {
      "text/plain": [
       "0.0705203893839008"
      ]
     },
     "execution_count": 39,
     "metadata": {},
     "output_type": "execute_result"
    }
   ],
   "source": [
    "mae_catboost[mae_catboost['MAE']!='error']['MAE'].mean()"
   ]
  },
  {
   "cell_type": "markdown",
   "metadata": {},
   "source": [
    "Получилось добиться метрики MAE равной 0.0705203893839008. При этом непредсказанными остались 25 разрядов, из них по 10 нет достаточно данных, прогноз на оставшихся неудовлетворителен (высокое значение MAE) и требует иных средств предсказания."
   ]
  },
  {
   "cell_type": "markdown",
   "metadata": {},
   "source": [
    "# Общий вывод"
   ]
  },
  {
   "cell_type": "markdown",
   "metadata": {},
   "source": [
    "При ознакомлении с данными были обнаружены и удалены дубликаты, выдающиеся значения коэф. отр. времени. Данные составлены с января 2017 до декабря 2020. Пропусков или неправильно определенных типов данных не обнаружено.<br>\n",
    "Был найден артефакт: одинаковый id сотрудника в разных подразделениях в одинаковую дату.<br>\n",
    "Далее удалили столбец с фед. округами, так как есть идентичная фича - номер териитории.\n",
    "Написана функция группировки по тер., подразделению, разряду, дате с добавлением количества сотрудников в разряде в месяце, функция создания таблицы временного ряда для x разряда в y подразделении на z территории и функция создания lag'ов и скользящего среднего по данным, на которых модель будет обучаться.<br>\n",
    "После были написаны функции для обучения и предсказания различных моделей градиентного бустинга с последующим тестированием.<br>\n",
    "В итоге получилось добиться метрики MAE равной 0.0705203893839008. При этом непредсказанными остались 25 разрядов, из них по 10 нет достаточно данных, прогноз на оставшихся неудовлетворителен (высокое значение MAE), требует иных средств предсказания."
   ]
  },
  {
   "cell_type": "markdown",
   "metadata": {},
   "source": [
    "<p style = 'background-color: red'>&#4448;"
   ]
  },
  {
   "cell_type": "markdown",
   "metadata": {},
   "source": [
    "ВОЗМОЖНЫЕ УЛУЧШЕНИЯ"
   ]
  },
  {
   "cell_type": "markdown",
   "metadata": {},
   "source": [
    "При бессрочном времени обучения можно создать подбор гиперпараметров модели (в проекте они зафиксированы) для каждого разряда на обучении. Данный метод не использовался в связи с весьма длительным временем обучения. - Возможно улучшение метрики на ~0.001-0.005"
   ]
  },
  {
   "cell_type": "markdown",
   "metadata": {},
   "source": [
    "Возможно применение нейронных сетей - возможно улучшение(?)"
   ]
  },
  {
   "cell_type": "markdown",
   "metadata": {},
   "source": [
    "Введение фичи по кол-ву заболевших по фед. округам помесячно возможно добавит качества модели, но необходимо провести работу по сбору данных кол-ва заболевших по регионам помесячно(может есть источник по округам, но я не нашел, лишь по дням по регионам), объединить их в округа и после внедрять - возможно улучшение(?)"
   ]
  },
  {
   "cell_type": "markdown",
   "metadata": {},
   "source": [
    "<p style = 'background-color: red'>&#4448;"
   ]
  }
 ],
 "metadata": {
  "kernelspec": {
   "display_name": "Python 3",
   "language": "python",
   "name": "python3"
  },
  "language_info": {
   "codemirror_mode": {
    "name": "ipython",
    "version": 3
   },
   "file_extension": ".py",
   "mimetype": "text/x-python",
   "name": "python",
   "nbconvert_exporter": "python",
   "pygments_lexer": "ipython3",
   "version": "3.7.8"
  },
  "toc": {
   "base_numbering": 1,
   "nav_menu": {},
   "number_sections": true,
   "sideBar": true,
   "skip_h1_title": false,
   "title_cell": "Table of Contents",
   "title_sidebar": "Contents",
   "toc_cell": false,
   "toc_position": {},
   "toc_section_display": true,
   "toc_window_display": false
  }
 },
 "nbformat": 4,
 "nbformat_minor": 2
}
