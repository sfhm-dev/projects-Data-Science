{
 "cells": [
  {
   "cell_type": "markdown",
   "metadata": {},
   "source": [
    "# Описание проекта"
   ]
  },
  {
   "cell_type": "markdown",
   "metadata": {},
   "source": [
    "Предоставлены пробы нефти в трёх регионах. Построить модель машинного обучения, которая поможет определить регион, где добыча принесёт наибольшую прибыль. Проанализировать возможную прибыль и риски техникой *Bootstrap*.\n",
    "\n",
    "### Описание данных:\n",
    "<ul><li>id — уникальный идентификатор скважины;</li>\n",
    "    <li>f0, f1, f2 — три признака точек (синтетические важные признаки);</li>\n",
    "    <li>product — объём запасов в скважине (тыс. баррелей).</li></ul>\n",
    "    \n",
    "### Условия задачи:\n",
    "<ul><li>Модель - линейная регрессия.</li>\n",
    "<li>Исследуется 500 точек, из которых выбирают 200 лучших.</li>\n",
    "<li>Бюджет - 10 млрд рублей.</li>\n",
    "<li>Доход с одного барреля - 450 рублей дохода.</li>\n",
    "<li>Регион с риском убытков менее 2.5%..</li></ul>"
   ]
  },
  {
   "cell_type": "markdown",
   "metadata": {},
   "source": [
    "### План работы:\n",
    "<a href='#step_1'>Шаг 1. Получение общей информации и подготвка данных.</a><br>\n",
    "На первом этапе импортируем необходимые библиотеки и читаем файл, знакомимся с общей информацией, выставляем необходимые типы данных, проверяем пропуски.<br>\n",
    "<a href='#step_2'>Шаг 2. Разбиение данных и обучение модели.</a><br>\n",
    "На втором шаге разбиваем данные на выборки, обучаем модели, проверяем её.<br>\n",
    "<a href='#step_3'>Шаг 3. Подготовка к расчёту прибыли.</a><br>\n",
    "Определяем необходимые переменные. Рассчитываем необходимое минимальное значение дохода скважины.<br>\n",
    "<a href='#step_4'>Шаг 4. Расчёт прибыли.</a><br>\n",
    "Создаем функцию для расчета прибыли в регионе.<br>\n",
    "<a href='#step_5'>Шаг 5. Расчёт рисков.</a><br>\n",
    "Проводим расчет доверительного интервала, рисков."
   ]
  },
  {
   "cell_type": "markdown",
   "metadata": {},
   "source": [
    "# 1. Загрузка и подготовка данных"
   ]
  },
  {
   "cell_type": "markdown",
   "metadata": {},
   "source": [
    "<a id = 'step_1'></a>"
   ]
  },
  {
   "cell_type": "code",
   "execution_count": 1,
   "metadata": {},
   "outputs": [],
   "source": [
    "import pandas as pd \n",
    "import numpy as np\n",
    "import matplotlib.pyplot as plt\n",
    "from sklearn.linear_model import LinearRegression\n",
    "from sklearn.model_selection import train_test_split\n",
    "from sklearn.model_selection import cross_val_score\n",
    "from sklearn.metrics import mean_squared_error\n",
    "from sklearn.metrics import roc_auc_score\n",
    "from sklearn.metrics import roc_curve\n",
    "from sklearn.metrics import f1_score\n",
    "from sklearn.utils import shuffle\n",
    "from sklearn.metrics import roc_auc_score\n",
    "from sklearn.preprocessing import StandardScaler\n",
    "import warnings\n",
    "warnings.filterwarnings(\"ignore\")\n",
    "from numpy.random import RandomState\n",
    "from scipy import stats as st"
   ]
  },
  {
   "cell_type": "code",
   "execution_count": 2,
   "metadata": {},
   "outputs": [],
   "source": [
    "data_0 = pd.read_csv('/datasets/geo_data_0.csv')\n",
    "data_1 = pd.read_csv('/datasets/geo_data_1.csv')\n",
    "data_2 = pd.read_csv('/datasets/geo_data_2.csv')\n",
    "all_data = [data_0, data_1, data_2]"
   ]
  },
  {
   "cell_type": "code",
   "execution_count": 3,
   "metadata": {
    "scrolled": false
   },
   "outputs": [
    {
     "name": "stdout",
     "output_type": "stream",
     "text": [
      "                  f0             f1             f2        product\n",
      "count  100000.000000  100000.000000  100000.000000  100000.000000\n",
      "mean        0.500419       0.250143       2.502647      92.500000\n",
      "std         0.871832       0.504433       3.248248      44.288691\n",
      "min        -1.408605      -0.848218     -12.088328       0.000000\n",
      "25%        -0.072580      -0.200881       0.287748      56.497507\n",
      "50%         0.502360       0.250252       2.515969      91.849972\n",
      "75%         1.073581       0.700646       4.715088     128.564089\n",
      "max         2.362331       1.343769      16.003790     185.364347\n",
      "\n",
      "<class 'pandas.core.frame.DataFrame'>\n",
      "RangeIndex: 100000 entries, 0 to 99999\n",
      "Data columns (total 5 columns):\n",
      "id         100000 non-null object\n",
      "f0         100000 non-null float64\n",
      "f1         100000 non-null float64\n",
      "f2         100000 non-null float64\n",
      "product    100000 non-null float64\n",
      "dtypes: float64(4), object(1)\n",
      "memory usage: 3.8+ MB\n",
      "None\n",
      "\n",
      "\n",
      "                  f0             f1             f2        product\n",
      "count  100000.000000  100000.000000  100000.000000  100000.000000\n",
      "mean        1.141296      -4.796579       2.494541      68.825000\n",
      "std         8.965932       5.119872       1.703572      45.944423\n",
      "min       -31.609576     -26.358598      -0.018144       0.000000\n",
      "25%        -6.298551      -8.267985       1.000021      26.953261\n",
      "50%         1.153055      -4.813172       2.011479      57.085625\n",
      "75%         8.621015      -1.332816       3.999904     107.813044\n",
      "max        29.421755      18.734063       5.019721     137.945408\n",
      "\n",
      "<class 'pandas.core.frame.DataFrame'>\n",
      "RangeIndex: 100000 entries, 0 to 99999\n",
      "Data columns (total 5 columns):\n",
      "id         100000 non-null object\n",
      "f0         100000 non-null float64\n",
      "f1         100000 non-null float64\n",
      "f2         100000 non-null float64\n",
      "product    100000 non-null float64\n",
      "dtypes: float64(4), object(1)\n",
      "memory usage: 3.8+ MB\n",
      "None\n",
      "\n",
      "\n",
      "                  f0             f1             f2        product\n",
      "count  100000.000000  100000.000000  100000.000000  100000.000000\n",
      "mean        0.002023      -0.002081       2.495128      95.000000\n",
      "std         1.732045       1.730417       3.473445      44.749921\n",
      "min        -8.760004      -7.084020     -11.970335       0.000000\n",
      "25%        -1.162288      -1.174820       0.130359      59.450441\n",
      "50%         0.009424      -0.009482       2.484236      94.925613\n",
      "75%         1.158535       1.163678       4.858794     130.595027\n",
      "max         7.238262       7.844801      16.739402     190.029838\n",
      "\n",
      "<class 'pandas.core.frame.DataFrame'>\n",
      "RangeIndex: 100000 entries, 0 to 99999\n",
      "Data columns (total 5 columns):\n",
      "id         100000 non-null object\n",
      "f0         100000 non-null float64\n",
      "f1         100000 non-null float64\n",
      "f2         100000 non-null float64\n",
      "product    100000 non-null float64\n",
      "dtypes: float64(4), object(1)\n",
      "memory usage: 3.8+ MB\n",
      "None\n",
      "\n",
      "\n"
     ]
    }
   ],
   "source": [
    "for element in all_data:\n",
    "    print(element.describe())\n",
    "    print()\n",
    "    print(element.info())\n",
    "    print()\n",
    "    print()"
   ]
  },
  {
   "cell_type": "markdown",
   "metadata": {},
   "source": [
    "Пропусков нет. Типы данных и сами данные корректны, кроме product - переведем сразу в прибыль.<br>\n",
    "Уберем столбец с id, для задания он не нужен"
   ]
  },
  {
   "cell_type": "code",
   "execution_count": 4,
   "metadata": {},
   "outputs": [],
   "source": [
    "for element in all_data:\n",
    "    element.drop('id', axis = 'columns', inplace = True)"
   ]
  },
  {
   "cell_type": "markdown",
   "metadata": {},
   "source": [
    "Проведем масштабирование данных фич f0-f2"
   ]
  },
  {
   "cell_type": "code",
   "execution_count": 5,
   "metadata": {},
   "outputs": [],
   "source": [
    "scaler = StandardScaler()\n",
    "for element in all_data:\n",
    "    features = element.drop(['product'], axis = 'columns')\n",
    "    target = element['product']\n",
    "    \n",
    "    features_train,features_valid, target_train, target_valid = train_test_split(\n",
    "        features, target, test_size = 0.25, random_state = 41)\n",
    "    \n",
    "    scaler.fit(features_train)\n",
    "    element[['f0', 'f1', 'f2']] = scaler.transform(features)"
   ]
  },
  {
   "cell_type": "code",
   "execution_count": 6,
   "metadata": {},
   "outputs": [],
   "source": [
    "data_0, data_1, data_2 = all_data[0], all_data[1], all_data[2]"
   ]
  },
  {
   "cell_type": "code",
   "execution_count": 7,
   "metadata": {
    "scrolled": false
   },
   "outputs": [
    {
     "name": "stdout",
     "output_type": "stream",
     "text": [
      "             f0        f1        f2     product\n",
      "0      0.236728 -1.486488 -0.393028  105.280062\n",
      "1      0.958280 -1.173347  0.574765   73.037750\n",
      "2      0.600377 -0.195828 -0.331845   85.265647\n",
      "3     -0.609811 -0.221564  0.147953  168.620776\n",
      "4      1.708228 -0.189030  0.693799  154.036647\n",
      "...         ...       ...       ...         ...\n",
      "99995  0.542127  0.239077  1.101237  110.744026\n",
      "99996  1.024494 -1.257645 -0.376792  122.346843\n",
      "99997  0.608238 -0.460397 -1.183992   64.375443\n",
      "99998  0.572191 -1.547582 -0.281378   74.040764\n",
      "99999  1.451626 -1.026869  0.992728  149.633246\n",
      "\n",
      "[100000 rows x 4 columns]\n"
     ]
    }
   ],
   "source": [
    "print(data_0)"
   ]
  },
  {
   "cell_type": "markdown",
   "metadata": {},
   "source": [
    "Данные готовы для работы с ними."
   ]
  },
  {
   "cell_type": "markdown",
   "metadata": {},
   "source": [
    "# 2. Обучение и проверка модели"
   ]
  },
  {
   "cell_type": "markdown",
   "metadata": {},
   "source": [
    "<a href='#step_1'>Шаг 1. Получение общей информации и подготвка данных.</a><br>\n",
    "<a href='#step_2'>Шаг 2. Разбиение данных и обучение модели.</a><br>\n",
    "<a href='#step_3'>Шаг 3. Подготовка к расчёту прибыли.</a><br>\n",
    "<a href='#step_4'>Шаг 4. Расчёт прибыли.</a><br>\n",
    "<a href='#step_5'>Шаг 5. Расчёт рисков.</a><br>"
   ]
  },
  {
   "cell_type": "markdown",
   "metadata": {},
   "source": [
    "<a id = 'step_2'></a>"
   ]
  },
  {
   "cell_type": "code",
   "execution_count": 8,
   "metadata": {
    "scrolled": false
   },
   "outputs": [
    {
     "name": "stdout",
     "output_type": "stream",
     "text": [
      "mean_of_model = 92.72452841600004 rmse model = 37.6655516764908\n",
      "mean_of_model = 69.25033902013546 rmse model = 0.8890771171257575\n",
      "mean_of_model = 94.8043951051491 rmse model = 40.19028851519172\n"
     ]
    }
   ],
   "source": [
    "all_results = []\n",
    "all_target_valid = []\n",
    "for element in all_data:\n",
    "    features = element.drop(['product'], axis = 'columns')\n",
    "    target = element['product']\n",
    "    \n",
    "    features_train,features_valid, target_train, target_valid = train_test_split(\n",
    "        features, target, test_size = 0.25, random_state = 41)\n",
    "    \n",
    "    all_target_valid.append(target_valid)\n",
    "    \n",
    "    model = LinearRegression()\n",
    "    model.fit(features_train, target_train)\n",
    "    results = model.predict(features_valid)\n",
    "    all_results.append(pd.Series(results))\n",
    "    mean_model = sum(results) / len(results)\n",
    "    rmse = mean_squared_error(target_valid, results) ** 0.5\n",
    "    print('mean_of_model =', mean_model, 'rmse model =', rmse)\n",
    "    "
   ]
  },
  {
   "cell_type": "markdown",
   "metadata": {},
   "source": [
    "Наибольшее среднее у 1 и 3 региона, но и средняя ошибка у них очень большая. Во втором регионе средняя ошибка в ~4-5 раз меньше, чем в 1 и 3, при этом среднее меньше на 10 млн.<br>\n",
    "В лучшем исходе 3 регион является самым прибыльным, в худшем - самым убыточным.2 регион самый стабильный."
   ]
  },
  {
   "cell_type": "markdown",
   "metadata": {},
   "source": [
    "# 3. Подготовка к расчёту прибыли"
   ]
  },
  {
   "cell_type": "markdown",
   "metadata": {},
   "source": [
    "<a href='#step_1'>Шаг 1. Получение общей информации и подготвка данных.</a><br>\n",
    "<a href='#step_2'>Шаг 2. Разбиение данных и обучение модели.</a><br>\n",
    "<a href='#step_3'>Шаг 3. Подготовка к расчёту прибыли.</a><br>\n",
    "<a href='#step_4'>Шаг 4. Расчёт прибыли.</a><br>\n",
    "<a href='#step_5'>Шаг 5. Расчёт рисков.</a><br>"
   ]
  },
  {
   "cell_type": "markdown",
   "metadata": {},
   "source": [
    "<a id = 'step_3'></a>"
   ]
  },
  {
   "cell_type": "code",
   "execution_count": 9,
   "metadata": {},
   "outputs": [],
   "source": [
    "COUNTS_POINT = 500\n",
    "BEST_POINTS = 200\n",
    "BUDGET = 10000000000\n",
    "COST = 450000"
   ]
  },
  {
   "cell_type": "markdown",
   "metadata": {},
   "source": [
    "инициализация основных параметров задачи."
   ]
  },
  {
   "cell_type": "code",
   "execution_count": 10,
   "metadata": {},
   "outputs": [],
   "source": [
    "develop_budget = BUDGET / BEST_POINTS / COST"
   ]
  },
  {
   "cell_type": "code",
   "execution_count": 11,
   "metadata": {},
   "outputs": [
    {
     "data": {
      "text/plain": [
       "112.0"
      ]
     },
     "execution_count": 11,
     "metadata": {},
     "output_type": "execute_result"
    }
   ],
   "source": [
    "np.ceil(develop_budget)"
   ]
  },
  {
   "cell_type": "markdown",
   "metadata": {},
   "source": [
    "Средняя вырука с вышки для безубыточной разработки.<br>\n",
    "С виду кажется, что добиться такого среднего значения можно в 1 и 3 регионе, если выбирать лучшие скважины."
   ]
  },
  {
   "cell_type": "markdown",
   "metadata": {},
   "source": [
    "# 4. Расчёт прибыли"
   ]
  },
  {
   "cell_type": "markdown",
   "metadata": {},
   "source": [
    "<a href='#step_1'>Шаг 1. Получение общей информации и подготвка данных.</a><br>\n",
    "<a href='#step_2'>Шаг 2. Разбиение данных и обучение модели.</a><br>\n",
    "<a href='#step_3'>Шаг 3. Подготовка к расчёту прибыли.</a><br>\n",
    "<a href='#step_4'>Шаг 4. Расчёт прибыли.</a><br>\n",
    "<a href='#step_5'>Шаг 5. Расчёт рисков.</a><br>"
   ]
  },
  {
   "cell_type": "markdown",
   "metadata": {},
   "source": [
    "<a id = 'step_4'></a>"
   ]
  },
  {
   "cell_type": "code",
   "execution_count": 12,
   "metadata": {},
   "outputs": [],
   "source": [
    "state = RandomState(41)\n",
    "def profit(count_wells, count_best_wells, number_region):\n",
    "    possible_wells_indexes = all_results[number_region].sample(n = count_wells, replace = True, random_state = state).index\n",
    "    possible_wells_best = all_results[number_region][possible_wells_indexes].sort_values(ascending = False)[:count_best_wells].index\n",
    "    total_revenue = all_target_valid[number_region].reset_index().loc[possible_wells_best, 'product'].sum()\n",
    "    return total_revenue * COST - BUDGET"
   ]
  },
  {
   "cell_type": "markdown",
   "metadata": {},
   "source": [
    "функция расчета прибыли региона."
   ]
  },
  {
   "cell_type": "code",
   "execution_count": 13,
   "metadata": {},
   "outputs": [
    {
     "name": "stdout",
     "output_type": "stream",
     "text": [
      "доход первого региона = 693620736.0506096\n",
      "доход второго региона = 471279710.92001915\n",
      "доход третьего региона = 560436383.9433498\n"
     ]
    }
   ],
   "source": [
    "print('доход первого региона =', profit(500, 200, 0))\n",
    "print('доход второго региона =', profit(500, 200, 1))\n",
    "print('доход третьего региона =', profit(500, 200, 2))"
   ]
  },
  {
   "cell_type": "markdown",
   "metadata": {},
   "source": [
    "проверка функции для каждого региона."
   ]
  },
  {
   "cell_type": "markdown",
   "metadata": {},
   "source": [
    "# 5. Расчёт рисков"
   ]
  },
  {
   "cell_type": "markdown",
   "metadata": {},
   "source": [
    "<a href='#step_1'>Шаг 1. Получение общей информации и подготвка данных.</a><br>\n",
    "<a href='#step_2'>Шаг 2. Разбиение данных и обучение модели.</a><br>\n",
    "<a href='#step_3'>Шаг 3. Подготовка к расчёту прибыли.</a><br>\n",
    "<a href='#step_4'>Шаг 4. Расчёт прибыли.</a><br>\n",
    "<a href='#step_5'>Шаг 5. Расчёт рисков.</a><br>"
   ]
  },
  {
   "cell_type": "markdown",
   "metadata": {},
   "source": [
    "<a id = 'step_5'></a>"
   ]
  },
  {
   "cell_type": "code",
   "execution_count": 14,
   "metadata": {},
   "outputs": [],
   "source": [
    "revenues_0= []\n",
    "revenues_1= []\n",
    "revenues_2= []\n",
    "for i in range(1000):\n",
    "    revenues_0.append(profit(500,200, 0))\n",
    "    revenues_1.append(profit(500,200, 1))\n",
    "    revenues_2.append(profit(500,200, 2))"
   ]
  },
  {
   "cell_type": "markdown",
   "metadata": {},
   "source": [
    "применение bootstrap для вычисления распределения прибылей регионов."
   ]
  },
  {
   "cell_type": "code",
   "execution_count": 15,
   "metadata": {},
   "outputs": [
    {
     "name": "stdout",
     "output_type": "stream",
     "text": [
      "1 регион min = -99141931.24151698 max = 908834980.5497117\n",
      "2 регион min = 78088130.65162969 max = 848832698.13874\n",
      "3 регион min = -113383455.27368487 max = 929484372.5456522\n"
     ]
    }
   ],
   "source": [
    "revenues_0, revenues_1, revenues_2 = pd.Series(revenues_0), pd.Series(revenues_1), pd.Series(revenues_2)\n",
    "k = 1\n",
    "for i in [revenues_0, revenues_1, revenues_2]:\n",
    "    max_quantile = i.quantile(0.975)\n",
    "    min_quantile = i.quantile(0.025)\n",
    "    print(str(k)+' регион', 'min =',min_quantile, 'max =', max_quantile)\n",
    "    k += 1"
   ]
  },
  {
   "cell_type": "markdown",
   "metadata": {},
   "source": [
    "вычисление доверительного интервала.<br>\n",
    "с большой вероятностью прибыли регионов находятся в этих промежутках."
   ]
  },
  {
   "cell_type": "code",
   "execution_count": 16,
   "metadata": {},
   "outputs": [
    {
     "name": "stdout",
     "output_type": "stream",
     "text": [
      "0.062\n",
      "0.009\n",
      "0.06\n"
     ]
    }
   ],
   "source": [
    "print((revenues_0 < 0).mean())\n",
    "print((revenues_1 < 0).mean())\n",
    "print((revenues_2 < 0).mean())"
   ]
  },
  {
   "cell_type": "markdown",
   "metadata": {},
   "source": [
    "Вероятность, что прибыль у региона будет отрицательной.<br>\n",
    "Получилось, что все регионы имеют больше 2.5% шанса убытков, кроме второго."
   ]
  },
  {
   "cell_type": "code",
   "execution_count": 17,
   "metadata": {},
   "outputs": [
    {
     "name": "stdout",
     "output_type": "stream",
     "text": [
      "1 регион 392589148.0353256\n",
      "2 регион 460824976.3647162\n",
      "3 регион 420877970.2442401\n"
     ]
    }
   ],
   "source": [
    "k = 1\n",
    "for i in [revenues_0, revenues_1, revenues_2]:\n",
    "    print(str(k) + ' регион ' + str(i.mean()))\n",
    "    k += 1"
   ]
  },
  {
   "cell_type": "markdown",
   "metadata": {},
   "source": [
    "Лучшим оказался 2 регион."
   ]
  },
  {
   "cell_type": "markdown",
   "metadata": {},
   "source": [
    "# Общий вывод\n",
    "При ознакомлении с данными пропусков не выявлено, типы данных и сами данные корректны.<br>\n",
    "Далее убрал столбец с id - для задания он не нужен. Провел масштабирование данных.<br>\n",
    "В следующем шаге разбил данные на тестовые и валидационные выборки, обучил модель, вычислил метрику rmse:<ul>\n",
    "<li>1 регион - 37.5100 продукта.</li>\n",
    "<li>2 регион - 0.8879 продукта.</li>\n",
    "<li>3 регион - 40.1470 продукта.</li>\n",
    "</ul>\n",
    "После инициализировал основные параметров задачи. Вычислил среднюю выруку с вышки для безубыточной разработки.<br>\n",
    "Далее создал функцию для расчета прибыли региона.\n",
    "Применил bootstrap для вычисления распределения прибылей регионов. Распределение получилось следующее:<pre>\n",
    "1 регион min = -99141931 max = 908834980 руб.\n",
    "2 регион min = 78088130 max = 848832698 руб.\n",
    "3 регион min = -113383455 max = 929484372 руб.</pre>\n",
    "Посчитал вероятность убытков в регионах:<pre>\n",
    "1)6.2%\n",
    "2)0.9%\n",
    "3)6%</pre>\n",
    "Рассчитал среднюю прибыль в регионах:<pre>\n",
    "1 регион 392589148 руб.\n",
    "2 регион 460824976 руб.\n",
    "3 регион 420877970 руб.</pre>\n",
    "По завершению исследования лучшим для разработки оказался 2 регион."
   ]
  }
 ],
 "metadata": {
  "kernelspec": {
   "display_name": "Python 3",
   "language": "python",
   "name": "python3"
  },
  "language_info": {
   "codemirror_mode": {
    "name": "ipython",
    "version": 3
   },
   "file_extension": ".py",
   "mimetype": "text/x-python",
   "name": "python",
   "nbconvert_exporter": "python",
   "pygments_lexer": "ipython3",
   "version": "3.7.8"
  },
  "toc": {
   "base_numbering": 1,
   "nav_menu": {},
   "number_sections": true,
   "sideBar": true,
   "skip_h1_title": true,
   "title_cell": "Table of Contents",
   "title_sidebar": "Contents",
   "toc_cell": false,
   "toc_position": {},
   "toc_section_display": true,
   "toc_window_display": false
  }
 },
 "nbformat": 4,
 "nbformat_minor": 2
}
