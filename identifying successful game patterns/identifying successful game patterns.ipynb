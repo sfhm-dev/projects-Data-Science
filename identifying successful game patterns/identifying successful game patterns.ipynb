{
 "cells": [
  {
   "cell_type": "markdown",
   "metadata": {},
   "source": [
    "# Выявление определяющих успешность игры закономерностей.\n",
    "Из открытых источников доступны исторические данные о продажах игр, оценки пользователей и экспертов, жанры и платформы до 2016 года.  Необходимо выявить определяющие успешность игры закономерности."
   ]
  },
  {
   "cell_type": "markdown",
   "metadata": {},
   "source": [
    "## План работы:\n",
    "<a href='#step_1'>Шаг 1. Получение общей информации.</a><br>\n",
    "На первом этапе импортируем необходимые библиотеки и читаем файл, знакомимся с общей информацией.<br>\n",
    "<a href='#step_2'>Шаг 2. Предобработка данных.</a><br>\n",
    "На втором шаге обрабатываем данные: приводим столбцы к нижнему регистру, изменяем типы данных, заполняем пропуски, добавляем необходимые фичи.<br>\n",
    "<a href='#step_3'>Шаг 3. Исследовательский анализ</a><br>\n",
    "Проводим исследовательский анализ.<br>\n",
    "<a href='#step_4'>Шаг 4. Картины пользователей</a><br>\n",
    "Составляем рисунок пользователя каждого региона.<br>\n",
    "<a href='#step_5'>Шаг 5. Проверка гипотез</a><br>\n",
    "Проверяем необходимые гипотезы.<br>\n",
    "<a href='#step_5'>Вывод.</a>"
   ]
  },
  {
   "cell_type": "markdown",
   "metadata": {},
   "source": [
    "## Получение общей информации."
   ]
  },
  {
   "cell_type": "markdown",
   "metadata": {},
   "source": [
    "<a href='#step_1'>Шаг 1. Получение общей информации.</a><br>\n",
    "<a href='#step_2'>Шаг 2. Предобработка данных.</a><br>\n",
    "<a href='#step_3'>Шаг 3. Исследовательский анализ</a><br>\n",
    "<a href='#step_4'>Шаг 4. Картины пользователей</a><br>\n",
    "<a href='#step_5'>Шаг 5. Проверка гипотез</a><br>\n",
    "<a href='#step_5'>Вывод.</a>"
   ]
  },
  {
   "cell_type": "markdown",
   "metadata": {},
   "source": [
    "<a id = 'step_1'></a>"
   ]
  },
  {
   "cell_type": "code",
   "execution_count": 1,
   "metadata": {},
   "outputs": [
    {
     "name": "stderr",
     "output_type": "stream",
     "text": [
      "/opt/conda/lib/python3.7/site-packages/tqdm/std.py:668: FutureWarning: The Panel class is removed from pandas. Accessing it from the top-level namespace will also be removed in the next version\n",
      "  from pandas import Panel\n"
     ]
    }
   ],
   "source": [
    "import pandas as pd\n",
    "import numpy as np\n",
    "import matplotlib.pyplot as plt\n",
    "import seaborn as sns\n",
    "from scipy import stats as st\n",
    "from tqdm import tqdm\n",
    "tqdm.pandas()\n",
    "from collections import Counter\n",
    "import warnings\n",
    "warnings.filterwarnings(\"ignore\")"
   ]
  },
  {
   "cell_type": "code",
   "execution_count": 2,
   "metadata": {},
   "outputs": [],
   "source": [
    "df = pd.read_csv('/datasets/games.csv')"
   ]
  },
  {
   "cell_type": "code",
   "execution_count": 3,
   "metadata": {
    "scrolled": false
   },
   "outputs": [
    {
     "data": {
      "text/html": [
       "<div>\n",
       "<style scoped>\n",
       "    .dataframe tbody tr th:only-of-type {\n",
       "        vertical-align: middle;\n",
       "    }\n",
       "\n",
       "    .dataframe tbody tr th {\n",
       "        vertical-align: top;\n",
       "    }\n",
       "\n",
       "    .dataframe thead th {\n",
       "        text-align: right;\n",
       "    }\n",
       "</style>\n",
       "<table border=\"1\" class=\"dataframe\">\n",
       "  <thead>\n",
       "    <tr style=\"text-align: right;\">\n",
       "      <th></th>\n",
       "      <th>Name</th>\n",
       "      <th>Platform</th>\n",
       "      <th>Year_of_Release</th>\n",
       "      <th>Genre</th>\n",
       "      <th>NA_sales</th>\n",
       "      <th>EU_sales</th>\n",
       "      <th>JP_sales</th>\n",
       "      <th>Other_sales</th>\n",
       "      <th>Critic_Score</th>\n",
       "      <th>User_Score</th>\n",
       "      <th>Rating</th>\n",
       "    </tr>\n",
       "  </thead>\n",
       "  <tbody>\n",
       "    <tr>\n",
       "      <td>0</td>\n",
       "      <td>Wii Sports</td>\n",
       "      <td>Wii</td>\n",
       "      <td>2006.0</td>\n",
       "      <td>Sports</td>\n",
       "      <td>41.36</td>\n",
       "      <td>28.96</td>\n",
       "      <td>3.77</td>\n",
       "      <td>8.45</td>\n",
       "      <td>76.0</td>\n",
       "      <td>8</td>\n",
       "      <td>E</td>\n",
       "    </tr>\n",
       "    <tr>\n",
       "      <td>1</td>\n",
       "      <td>Super Mario Bros.</td>\n",
       "      <td>NES</td>\n",
       "      <td>1985.0</td>\n",
       "      <td>Platform</td>\n",
       "      <td>29.08</td>\n",
       "      <td>3.58</td>\n",
       "      <td>6.81</td>\n",
       "      <td>0.77</td>\n",
       "      <td>NaN</td>\n",
       "      <td>NaN</td>\n",
       "      <td>NaN</td>\n",
       "    </tr>\n",
       "    <tr>\n",
       "      <td>2</td>\n",
       "      <td>Mario Kart Wii</td>\n",
       "      <td>Wii</td>\n",
       "      <td>2008.0</td>\n",
       "      <td>Racing</td>\n",
       "      <td>15.68</td>\n",
       "      <td>12.76</td>\n",
       "      <td>3.79</td>\n",
       "      <td>3.29</td>\n",
       "      <td>82.0</td>\n",
       "      <td>8.3</td>\n",
       "      <td>E</td>\n",
       "    </tr>\n",
       "    <tr>\n",
       "      <td>3</td>\n",
       "      <td>Wii Sports Resort</td>\n",
       "      <td>Wii</td>\n",
       "      <td>2009.0</td>\n",
       "      <td>Sports</td>\n",
       "      <td>15.61</td>\n",
       "      <td>10.93</td>\n",
       "      <td>3.28</td>\n",
       "      <td>2.95</td>\n",
       "      <td>80.0</td>\n",
       "      <td>8</td>\n",
       "      <td>E</td>\n",
       "    </tr>\n",
       "    <tr>\n",
       "      <td>4</td>\n",
       "      <td>Pokemon Red/Pokemon Blue</td>\n",
       "      <td>GB</td>\n",
       "      <td>1996.0</td>\n",
       "      <td>Role-Playing</td>\n",
       "      <td>11.27</td>\n",
       "      <td>8.89</td>\n",
       "      <td>10.22</td>\n",
       "      <td>1.00</td>\n",
       "      <td>NaN</td>\n",
       "      <td>NaN</td>\n",
       "      <td>NaN</td>\n",
       "    </tr>\n",
       "    <tr>\n",
       "      <td>...</td>\n",
       "      <td>...</td>\n",
       "      <td>...</td>\n",
       "      <td>...</td>\n",
       "      <td>...</td>\n",
       "      <td>...</td>\n",
       "      <td>...</td>\n",
       "      <td>...</td>\n",
       "      <td>...</td>\n",
       "      <td>...</td>\n",
       "      <td>...</td>\n",
       "      <td>...</td>\n",
       "    </tr>\n",
       "    <tr>\n",
       "      <td>16710</td>\n",
       "      <td>Samurai Warriors: Sanada Maru</td>\n",
       "      <td>PS3</td>\n",
       "      <td>2016.0</td>\n",
       "      <td>Action</td>\n",
       "      <td>0.00</td>\n",
       "      <td>0.00</td>\n",
       "      <td>0.01</td>\n",
       "      <td>0.00</td>\n",
       "      <td>NaN</td>\n",
       "      <td>NaN</td>\n",
       "      <td>NaN</td>\n",
       "    </tr>\n",
       "    <tr>\n",
       "      <td>16711</td>\n",
       "      <td>LMA Manager 2007</td>\n",
       "      <td>X360</td>\n",
       "      <td>2006.0</td>\n",
       "      <td>Sports</td>\n",
       "      <td>0.00</td>\n",
       "      <td>0.01</td>\n",
       "      <td>0.00</td>\n",
       "      <td>0.00</td>\n",
       "      <td>NaN</td>\n",
       "      <td>NaN</td>\n",
       "      <td>NaN</td>\n",
       "    </tr>\n",
       "    <tr>\n",
       "      <td>16712</td>\n",
       "      <td>Haitaka no Psychedelica</td>\n",
       "      <td>PSV</td>\n",
       "      <td>2016.0</td>\n",
       "      <td>Adventure</td>\n",
       "      <td>0.00</td>\n",
       "      <td>0.00</td>\n",
       "      <td>0.01</td>\n",
       "      <td>0.00</td>\n",
       "      <td>NaN</td>\n",
       "      <td>NaN</td>\n",
       "      <td>NaN</td>\n",
       "    </tr>\n",
       "    <tr>\n",
       "      <td>16713</td>\n",
       "      <td>Spirits &amp; Spells</td>\n",
       "      <td>GBA</td>\n",
       "      <td>2003.0</td>\n",
       "      <td>Platform</td>\n",
       "      <td>0.01</td>\n",
       "      <td>0.00</td>\n",
       "      <td>0.00</td>\n",
       "      <td>0.00</td>\n",
       "      <td>NaN</td>\n",
       "      <td>NaN</td>\n",
       "      <td>NaN</td>\n",
       "    </tr>\n",
       "    <tr>\n",
       "      <td>16714</td>\n",
       "      <td>Winning Post 8 2016</td>\n",
       "      <td>PSV</td>\n",
       "      <td>2016.0</td>\n",
       "      <td>Simulation</td>\n",
       "      <td>0.00</td>\n",
       "      <td>0.00</td>\n",
       "      <td>0.01</td>\n",
       "      <td>0.00</td>\n",
       "      <td>NaN</td>\n",
       "      <td>NaN</td>\n",
       "      <td>NaN</td>\n",
       "    </tr>\n",
       "  </tbody>\n",
       "</table>\n",
       "<p>16715 rows × 11 columns</p>\n",
       "</div>"
      ],
      "text/plain": [
       "                                Name Platform  Year_of_Release         Genre  \\\n",
       "0                         Wii Sports      Wii           2006.0        Sports   \n",
       "1                  Super Mario Bros.      NES           1985.0      Platform   \n",
       "2                     Mario Kart Wii      Wii           2008.0        Racing   \n",
       "3                  Wii Sports Resort      Wii           2009.0        Sports   \n",
       "4           Pokemon Red/Pokemon Blue       GB           1996.0  Role-Playing   \n",
       "...                              ...      ...              ...           ...   \n",
       "16710  Samurai Warriors: Sanada Maru      PS3           2016.0        Action   \n",
       "16711               LMA Manager 2007     X360           2006.0        Sports   \n",
       "16712        Haitaka no Psychedelica      PSV           2016.0     Adventure   \n",
       "16713               Spirits & Spells      GBA           2003.0      Platform   \n",
       "16714            Winning Post 8 2016      PSV           2016.0    Simulation   \n",
       "\n",
       "       NA_sales  EU_sales  JP_sales  Other_sales  Critic_Score User_Score  \\\n",
       "0         41.36     28.96      3.77         8.45          76.0          8   \n",
       "1         29.08      3.58      6.81         0.77           NaN        NaN   \n",
       "2         15.68     12.76      3.79         3.29          82.0        8.3   \n",
       "3         15.61     10.93      3.28         2.95          80.0          8   \n",
       "4         11.27      8.89     10.22         1.00           NaN        NaN   \n",
       "...         ...       ...       ...          ...           ...        ...   \n",
       "16710      0.00      0.00      0.01         0.00           NaN        NaN   \n",
       "16711      0.00      0.01      0.00         0.00           NaN        NaN   \n",
       "16712      0.00      0.00      0.01         0.00           NaN        NaN   \n",
       "16713      0.01      0.00      0.00         0.00           NaN        NaN   \n",
       "16714      0.00      0.00      0.01         0.00           NaN        NaN   \n",
       "\n",
       "      Rating  \n",
       "0          E  \n",
       "1        NaN  \n",
       "2          E  \n",
       "3          E  \n",
       "4        NaN  \n",
       "...      ...  \n",
       "16710    NaN  \n",
       "16711    NaN  \n",
       "16712    NaN  \n",
       "16713    NaN  \n",
       "16714    NaN  \n",
       "\n",
       "[16715 rows x 11 columns]"
      ]
     },
     "execution_count": 3,
     "metadata": {},
     "output_type": "execute_result"
    }
   ],
   "source": [
    "df"
   ]
  },
  {
   "cell_type": "markdown",
   "metadata": {},
   "source": [
    "С первого взгляда на таблицу можно заметить разный регистр в названиях столбцов, пропуски в данных, количество копий в млн. неудобно для дальенйших расчетов, оценки критиков и пользователей в разных форматах."
   ]
  },
  {
   "cell_type": "markdown",
   "metadata": {},
   "source": [
    "## Предобработка данных."
   ]
  },
  {
   "cell_type": "markdown",
   "metadata": {},
   "source": [
    "<a href='#step_1'>Шаг 1. Получение общей информации.</a><br>\n",
    "<a href='#step_2'>Шаг 2. Предобработка данных.</a><br>\n",
    "<a href='#step_3'>Шаг 3. Исследовательский анализ</a><br>\n",
    "<a href='#step_4'>Шаг 4. Картины пользователей</a><br>\n",
    "<a href='#step_5'>Шаг 5. Проверка гипотез</a><br>\n",
    "<a href='#step_5'>Вывод.</a>"
   ]
  },
  {
   "cell_type": "markdown",
   "metadata": {},
   "source": [
    "<a id = 'step_2'></a>"
   ]
  },
  {
   "cell_type": "code",
   "execution_count": 4,
   "metadata": {
    "scrolled": true
   },
   "outputs": [
    {
     "name": "stdout",
     "output_type": "stream",
     "text": [
      "Index(['name', 'platform', 'year_of_release', 'genre', 'na_sales', 'eu_sales',\n",
      "       'jp_sales', 'other_sales', 'critic_score', 'user_score', 'rating'],\n",
      "      dtype='object')\n"
     ]
    },
    {
     "data": {
      "text/plain": [
       "array(['Wii', 'NES', 'GB', 'DS', 'X360', 'PS3', 'PS2', 'SNES', 'GBA',\n",
       "       'PS4', '3DS', 'N64', 'PS', 'XB', 'PC', '2600', 'PSP', 'XOne',\n",
       "       'WiiU', 'GC', 'GEN', 'DC', 'PSV', 'SAT', 'SCD', 'WS', 'NG', 'TG16',\n",
       "       '3DO', 'GG', 'PCFX'], dtype=object)"
      ]
     },
     "execution_count": 4,
     "metadata": {},
     "output_type": "execute_result"
    }
   ],
   "source": [
    "df.columns = df.columns.str.lower()\n",
    "print(df.columns)\n",
    "df['platform'].unique()"
   ]
  },
  {
   "cell_type": "markdown",
   "metadata": {},
   "source": [
    "Приведение к нижнему регистру и проверка глазами возможных наименований платформы на наличие разных регистров у одного названия."
   ]
  },
  {
   "cell_type": "code",
   "execution_count": 5,
   "metadata": {},
   "outputs": [
    {
     "data": {
      "text/plain": [
       "name                object\n",
       "platform            object\n",
       "year_of_release    float64\n",
       "genre               object\n",
       "na_sales           float64\n",
       "eu_sales           float64\n",
       "jp_sales           float64\n",
       "other_sales        float64\n",
       "critic_score       float64\n",
       "user_score          object\n",
       "rating              object\n",
       "dtype: object"
      ]
     },
     "execution_count": 5,
     "metadata": {},
     "output_type": "execute_result"
    }
   ],
   "source": [
    "df.dtypes"
   ]
  },
  {
   "cell_type": "markdown",
   "metadata": {},
   "source": [
    "year_of_release надо перевести в int, все *_sales в int с домножением на миллион, critic_score в int, user_score в int с домножением на 10 (одинаковый формат с оценками критиков)"
   ]
  },
  {
   "cell_type": "code",
   "execution_count": 6,
   "metadata": {},
   "outputs": [],
   "source": [
    "columns = ['year_of_release', 'na_sales', 'eu_sales', 'jp_sales', 'other_sales', 'critic_score']\n",
    "df[['na_sales', 'eu_sales', 'jp_sales']] = df[['na_sales', 'eu_sales', 'jp_sales']] * 1000000\n",
    "df[columns] = df[columns].apply(lambda x: (x.round().astype('Int64')))\n",
    "user_score = []\n",
    "for cell in df['user_score'].values:\n",
    "    try:\n",
    "        cell = (pd.to_numeric(cell) * 10).astype('Int64')\n",
    "        user_score.append(cell)\n",
    "    except:\n",
    "        user_score.append(cell)\n",
    "df['user_score'] = user_score"
   ]
  },
  {
   "cell_type": "code",
   "execution_count": 7,
   "metadata": {},
   "outputs": [
    {
     "data": {
      "text/plain": [
       "name               object\n",
       "platform           object\n",
       "year_of_release     Int64\n",
       "genre              object\n",
       "na_sales            Int64\n",
       "eu_sales            Int64\n",
       "jp_sales            Int64\n",
       "other_sales         Int64\n",
       "critic_score        Int64\n",
       "user_score         object\n",
       "rating             object\n",
       "dtype: object"
      ]
     },
     "execution_count": 7,
     "metadata": {},
     "output_type": "execute_result"
    }
   ],
   "source": [
    "df.dtypes"
   ]
  },
  {
   "cell_type": "markdown",
   "metadata": {},
   "source": [
    "Изменил все типы на int. 'user_score' оставил object, но все числовые значения в столбце - int."
   ]
  },
  {
   "cell_type": "code",
   "execution_count": 8,
   "metadata": {},
   "outputs": [
    {
     "data": {
      "text/plain": [
       "name               0.000120\n",
       "platform           0.000000\n",
       "year_of_release    0.016093\n",
       "genre              0.000120\n",
       "na_sales           0.000000\n",
       "eu_sales           0.000000\n",
       "jp_sales           0.000000\n",
       "other_sales        0.000000\n",
       "critic_score       0.513192\n",
       "user_score         0.400897\n",
       "rating             0.404786\n",
       "dtype: float64"
      ]
     },
     "execution_count": 8,
     "metadata": {},
     "output_type": "execute_result"
    }
   ],
   "source": [
    "df.isna().mean()"
   ]
  },
  {
   "cell_type": "code",
   "execution_count": 9,
   "metadata": {},
   "outputs": [
    {
     "data": {
      "text/html": [
       "<div>\n",
       "<style scoped>\n",
       "    .dataframe tbody tr th:only-of-type {\n",
       "        vertical-align: middle;\n",
       "    }\n",
       "\n",
       "    .dataframe tbody tr th {\n",
       "        vertical-align: top;\n",
       "    }\n",
       "\n",
       "    .dataframe thead th {\n",
       "        text-align: right;\n",
       "    }\n",
       "</style>\n",
       "<table border=\"1\" class=\"dataframe\">\n",
       "  <thead>\n",
       "    <tr style=\"text-align: right;\">\n",
       "      <th></th>\n",
       "      <th>name</th>\n",
       "      <th>platform</th>\n",
       "      <th>year_of_release</th>\n",
       "      <th>genre</th>\n",
       "      <th>na_sales</th>\n",
       "      <th>eu_sales</th>\n",
       "      <th>jp_sales</th>\n",
       "      <th>other_sales</th>\n",
       "      <th>critic_score</th>\n",
       "      <th>user_score</th>\n",
       "      <th>rating</th>\n",
       "    </tr>\n",
       "  </thead>\n",
       "  <tbody>\n",
       "    <tr>\n",
       "      <td>659</td>\n",
       "      <td>NaN</td>\n",
       "      <td>GEN</td>\n",
       "      <td>1993</td>\n",
       "      <td>NaN</td>\n",
       "      <td>1780000</td>\n",
       "      <td>530000</td>\n",
       "      <td>0</td>\n",
       "      <td>0</td>\n",
       "      <td>NaN</td>\n",
       "      <td>NaN</td>\n",
       "      <td>NaN</td>\n",
       "    </tr>\n",
       "    <tr>\n",
       "      <td>14244</td>\n",
       "      <td>NaN</td>\n",
       "      <td>GEN</td>\n",
       "      <td>1993</td>\n",
       "      <td>NaN</td>\n",
       "      <td>0</td>\n",
       "      <td>0</td>\n",
       "      <td>30000</td>\n",
       "      <td>0</td>\n",
       "      <td>NaN</td>\n",
       "      <td>NaN</td>\n",
       "      <td>NaN</td>\n",
       "    </tr>\n",
       "  </tbody>\n",
       "</table>\n",
       "</div>"
      ],
      "text/plain": [
       "      name platform  year_of_release genre  na_sales  eu_sales  jp_sales  \\\n",
       "659    NaN      GEN             1993   NaN   1780000    530000         0   \n",
       "14244  NaN      GEN             1993   NaN         0         0     30000   \n",
       "\n",
       "       other_sales  critic_score user_score rating  \n",
       "659              0           NaN        NaN    NaN  \n",
       "14244            0           NaN        NaN    NaN  "
      ]
     },
     "execution_count": 9,
     "metadata": {},
     "output_type": "execute_result"
    }
   ],
   "source": [
    "df[df['name'].isna() == True]"
   ]
  },
  {
   "cell_type": "markdown",
   "metadata": {},
   "source": [
    "пропуски в name и genre это видимо одна и та же игра, удалим её, потеря не значима.<br>"
   ]
  },
  {
   "cell_type": "code",
   "execution_count": 10,
   "metadata": {},
   "outputs": [],
   "source": [
    "df.dropna(subset = ['name','genre'], inplace = True)"
   ]
  },
  {
   "cell_type": "code",
   "execution_count": 11,
   "metadata": {},
   "outputs": [
    {
     "data": {
      "text/plain": [
       "16713"
      ]
     },
     "execution_count": 11,
     "metadata": {},
     "output_type": "execute_result"
    }
   ],
   "source": [
    "len(df)"
   ]
  },
  {
   "cell_type": "code",
   "execution_count": 12,
   "metadata": {},
   "outputs": [],
   "source": [
    "na_of_year = df[df['year_of_release'].isna() == True]"
   ]
  },
  {
   "cell_type": "code",
   "execution_count": 13,
   "metadata": {},
   "outputs": [],
   "source": [
    "def find_of_year(row):\n",
    "    words = row.loc['name'].split()\n",
    "    for word in words:\n",
    "        if (word.isdigit()) & (len(word) == 4):\n",
    "            row['year_of_release'] = int(word) - 1\n",
    "    return row\n",
    "na_of_year = na_of_year.apply(find_of_year,axis = 1)\n",
    "na_of_year['year_of_release'] = na_of_year['year_of_release'].astype('Int64')"
   ]
  },
  {
   "cell_type": "markdown",
   "metadata": {},
   "source": [
    "Заполнил пропуски в годах игр, в названии которых указан год. Из года в названии надо вычесть единицу, потому что обычно игры выпускались на год раньше, чем указан в названии. Все подобные игры это симуляторы спорта."
   ]
  },
  {
   "cell_type": "code",
   "execution_count": 14,
   "metadata": {
    "scrolled": true
   },
   "outputs": [
    {
     "data": {
      "image/png": "[encoded data removed]",
      "text/plain": [
       "<Figure size 432x288 with 1 Axes>"
      ]
     },
     "metadata": {
      "needs_background": "light"
     },
     "output_type": "display_data"
    },
    {
     "name": "stdout",
     "output_type": "stream",
     "text": [
      "mean = 2004.5839210155148\n",
      "median = 2005.0\n",
      "----------------------------------------\n"
     ]
    },
    {
     "data": {
      "image/png": "[encoded data removed]",
      "text/plain": [
       "<Figure size 432x288 with 1 Axes>"
      ]
     },
     "metadata": {
      "needs_background": "light"
     },
     "output_type": "display_data"
    },
    {
     "name": "stdout",
     "output_type": "stream",
     "text": [
      "mean = 2008.966562986003\n",
      "median = 2009.0\n",
      "----------------------------------------\n"
     ]
    },
    {
     "data": {
      "image/png": "[encoded data removed]",
      "text/plain": [
       "<Figure size 432x288 with 1 Axes>"
      ]
     },
     "metadata": {
      "needs_background": "light"
     },
     "output_type": "display_data"
    },
    {
     "name": "stdout",
     "output_type": "stream",
     "text": [
      "mean = 1982.1379310344828\n",
      "median = 1982.0\n",
      "----------------------------------------\n"
     ]
    },
    {
     "data": {
      "image/png": "[encoded data removed]",
      "text/plain": [
       "<Figure size 432x288 with 1 Axes>"
      ]
     },
     "metadata": {
      "needs_background": "light"
     },
     "output_type": "display_data"
    },
    {
     "name": "stdout",
     "output_type": "stream",
     "text": [
      "mean = 2009.8806818181818\n",
      "median = 2010.0\n",
      "----------------------------------------\n"
     ]
    },
    {
     "data": {
      "image/png": "[encoded data removed]",
      "text/plain": [
       "<Figure size 432x288 with 1 Axes>"
      ]
     },
     "metadata": {
      "needs_background": "light"
     },
     "output_type": "display_data"
    },
    {
     "name": "stdout",
     "output_type": "stream",
     "text": [
      "mean = 2003.2108508014796\n",
      "median = 2003.0\n",
      "----------------------------------------\n"
     ]
    },
    {
     "data": {
      "image/png": "[encoded data removed]",
      "text/plain": [
       "<Figure size 432x288 with 1 Axes>"
      ]
     },
     "metadata": {
      "needs_background": "light"
     },
     "output_type": "display_data"
    },
    {
     "name": "stdout",
     "output_type": "stream",
     "text": [
      "mean = 2008.914315569488\n",
      "median = 2010.0\n",
      "----------------------------------------\n"
     ]
    },
    {
     "data": {
      "image/png": "[encoded data removed]",
      "text/plain": [
       "<Figure size 432x288 with 1 Axes>"
      ]
     },
     "metadata": {
      "needs_background": "light"
     },
     "output_type": "display_data"
    },
    {
     "name": "stdout",
     "output_type": "stream",
     "text": [
      "mean = 2010.8407350689126\n",
      "median = 2011.0\n",
      "----------------------------------------\n"
     ]
    },
    {
     "data": {
      "image/png": "[encoded data removed]",
      "text/plain": [
       "<Figure size 432x288 with 1 Axes>"
      ]
     },
     "metadata": {
      "needs_background": "light"
     },
     "output_type": "display_data"
    },
    {
     "name": "stdout",
     "output_type": "stream",
     "text": [
      "mean = 1998.0058823529412\n",
      "median = 1998.0\n",
      "----------------------------------------\n"
     ]
    },
    {
     "data": {
      "image/png": "[encoded data removed]",
      "text/plain": [
       "<Figure size 432x288 with 1 Axes>"
      ]
     },
     "metadata": {
      "needs_background": "light"
     },
     "output_type": "display_data"
    },
    {
     "name": "stdout",
     "output_type": "stream",
     "text": [
      "mean = 2008.731768650461\n",
      "median = 2009.0\n",
      "----------------------------------------\n"
     ]
    },
    {
     "data": {
      "image/png": "[encoded data removed]",
      "text/plain": [
       "<Figure size 432x288 with 1 Axes>"
      ]
     },
     "metadata": {
      "needs_background": "light"
     },
     "output_type": "display_data"
    },
    {
     "name": "stdout",
     "output_type": "stream",
     "text": [
      "mean = 2003.6363636363637\n",
      "median = 2004.0\n",
      "----------------------------------------\n"
     ]
    },
    {
     "data": {
      "image/png": "[encoded data removed]",
      "text/plain": [
       "<Figure size 432x288 with 1 Axes>"
      ]
     },
     "metadata": {
      "needs_background": "light"
     },
     "output_type": "display_data"
    },
    {
     "name": "stdout",
     "output_type": "stream",
     "text": [
      "mean = 1995.958762886598\n",
      "median = 1997.0\n",
      "----------------------------------------\n"
     ]
    },
    {
     "data": {
      "image/png": "[encoded data removed]",
      "text/plain": [
       "<Figure size 432x288 with 1 Axes>"
      ]
     },
     "metadata": {
      "needs_background": "light"
     },
     "output_type": "display_data"
    },
    {
     "name": "stdout",
     "output_type": "stream",
     "text": [
      "mean = 2008.1852899575672\n",
      "median = 2008.0\n",
      "----------------------------------------\n"
     ]
    },
    {
     "data": {
      "image/png": "[encoded data removed]",
      "text/plain": [
       "<Figure size 432x288 with 1 Axes>"
      ]
     },
     "metadata": {
      "needs_background": "light"
     },
     "output_type": "display_data"
    },
    {
     "name": "stdout",
     "output_type": "stream",
     "text": [
      "mean = 2003.40036900369\n",
      "median = 2003.0\n",
      "----------------------------------------\n"
     ]
    },
    {
     "data": {
      "image/png": "[encoded data removed]",
      "text/plain": [
       "<Figure size 432x288 with 1 Axes>"
      ]
     },
     "metadata": {
      "needs_background": "light"
     },
     "output_type": "display_data"
    },
    {
     "name": "stdout",
     "output_type": "stream",
     "text": [
      "mean = 2013.126953125\n",
      "median = 2013.0\n",
      "----------------------------------------\n"
     ]
    },
    {
     "data": {
      "image/png": "[encoded data removed]",
      "text/plain": [
       "<Figure size 432x288 with 1 Axes>"
      ]
     },
     "metadata": {
      "needs_background": "light"
     },
     "output_type": "display_data"
    },
    {
     "name": "stdout",
     "output_type": "stream",
     "text": [
      "mean = 1998.5316455696202\n",
      "median = 1999.0\n",
      "----------------------------------------\n"
     ]
    },
    {
     "data": {
      "image/png": "[encoded data removed]",
      "text/plain": [
       "<Figure size 432x288 with 1 Axes>"
      ]
     },
     "metadata": {
      "needs_background": "light"
     },
     "output_type": "display_data"
    },
    {
     "name": "stdout",
     "output_type": "stream",
     "text": [
      "mean = 2014.1328671328672\n",
      "median = 2014.0\n",
      "----------------------------------------\n"
     ]
    }
   ],
   "source": [
    "for platform in na_of_year['platform'].unique():\n",
    "    df[df['platform'] == platform]['year_of_release'].hist()\n",
    "    plt.title(platform)\n",
    "    plt.xlabel('Год')\n",
    "    plt.ylabel('кол-во игр')\n",
    "    plt.show()\n",
    "    print('mean =',df[df['platform'] == platform]['year_of_release'].mean())\n",
    "    print('median =',df[df['platform'] == platform]['year_of_release'].median())\n",
    "    print('-'*40)"
   ]
  },
  {
   "cell_type": "code",
   "execution_count": 15,
   "metadata": {
    "scrolled": true
   },
   "outputs": [],
   "source": [
    "vocab = {}\n",
    "platforms = df['platform'].unique()\n",
    "for platform in platforms:\n",
    "    platform_year = {}\n",
    "    value = Counter(df[df['platform'] == platform]['year_of_release'].values).most_common(1)\n",
    "    for x in value:\n",
    "        platform_year[platform] = x[0]\n",
    "    vocab.update(platform_year)"
   ]
  },
  {
   "cell_type": "code",
   "execution_count": 16,
   "metadata": {
    "scrolled": true
   },
   "outputs": [
    {
     "data": {
      "text/plain": [
       "{'Wii': 2009,\n",
       " 'NES': 1986,\n",
       " 'GB': 2000,\n",
       " 'DS': 2008,\n",
       " 'X360': 2011,\n",
       " 'PS3': 2011,\n",
       " 'PS2': 2002,\n",
       " 'SNES': 1995,\n",
       " 'GBA': 2002,\n",
       " 'PS4': 2016,\n",
       " '3DS': 2011,\n",
       " 'N64': 1999,\n",
       " 'PS': 1998,\n",
       " 'XB': 2003,\n",
       " 'PC': 2011,\n",
       " '2600': 1981,\n",
       " 'PSP': 2006,\n",
       " 'XOne': 2016,\n",
       " 'WiiU': 2013,\n",
       " 'GC': 2002,\n",
       " 'GEN': 1994,\n",
       " 'DC': 2000,\n",
       " 'PSV': 2015,\n",
       " 'SAT': 1995,\n",
       " 'SCD': 1994,\n",
       " 'WS': 2000,\n",
       " 'NG': 1994,\n",
       " 'TG16': 1995,\n",
       " '3DO': 1995,\n",
       " 'GG': 1992,\n",
       " 'PCFX': 1996}"
      ]
     },
     "execution_count": 16,
     "metadata": {},
     "output_type": "execute_result"
    }
   ],
   "source": [
    "vocab"
   ]
  },
  {
   "cell_type": "markdown",
   "metadata": {},
   "source": [
    "Заполнять отсутствующие года выпуска буду по году, с максимальным количеством выпущенных игр на каждой платформе за год.<br>\n",
    "По графикам выше видно, что у всех платформ есть выделяющиеся года, представим, что в самые продуктивные года были выпущены игры, по которым нет данных о годе выпуска, то есть еще больше выделим пиковый год у каждой платформы, но из-за небольшого количества пропусков (1.5%) и большого количества платформ, вряд ли данные сильно исказятся."
   ]
  },
  {
   "cell_type": "markdown",
   "metadata": {},
   "source": [
    "Заполнил пропуски в годах игр, в названии которых указан год. Из года в названии надо вычесть единицу, потому что обычно игры выпускались на год раньше, чем указан в названии. Все подобные игры это симуляторы спорта."
   ]
  },
  {
   "cell_type": "code",
   "execution_count": 17,
   "metadata": {},
   "outputs": [],
   "source": [
    "def set_year(row):\n",
    "    value = vocab.get(row['platform'])\n",
    "    row['year_of_release'] = value\n",
    "    return row\n",
    "na_of_year = na_of_year.apply(set_year, axis = 1)"
   ]
  },
  {
   "cell_type": "code",
   "execution_count": 18,
   "metadata": {},
   "outputs": [
    {
     "data": {
      "text/plain": [
       "0"
      ]
     },
     "execution_count": 18,
     "metadata": {},
     "output_type": "execute_result"
    }
   ],
   "source": [
    "na_of_year['year_of_release'].isna().sum()"
   ]
  },
  {
   "cell_type": "code",
   "execution_count": 19,
   "metadata": {},
   "outputs": [
    {
     "data": {
      "text/html": [
       "<div>\n",
       "<style scoped>\n",
       "    .dataframe tbody tr th:only-of-type {\n",
       "        vertical-align: middle;\n",
       "    }\n",
       "\n",
       "    .dataframe tbody tr th {\n",
       "        vertical-align: top;\n",
       "    }\n",
       "\n",
       "    .dataframe thead th {\n",
       "        text-align: right;\n",
       "    }\n",
       "</style>\n",
       "<table border=\"1\" class=\"dataframe\">\n",
       "  <thead>\n",
       "    <tr style=\"text-align: right;\">\n",
       "      <th></th>\n",
       "      <th>name</th>\n",
       "      <th>platform</th>\n",
       "      <th>year_of_release</th>\n",
       "      <th>genre</th>\n",
       "      <th>na_sales</th>\n",
       "      <th>eu_sales</th>\n",
       "      <th>jp_sales</th>\n",
       "      <th>other_sales</th>\n",
       "      <th>critic_score</th>\n",
       "      <th>user_score</th>\n",
       "      <th>rating</th>\n",
       "    </tr>\n",
       "  </thead>\n",
       "  <tbody>\n",
       "    <tr>\n",
       "      <td>183</td>\n",
       "      <td>Madden NFL 2004</td>\n",
       "      <td>PS2</td>\n",
       "      <td>2002</td>\n",
       "      <td>Sports</td>\n",
       "      <td>4260000</td>\n",
       "      <td>260000</td>\n",
       "      <td>10000</td>\n",
       "      <td>1</td>\n",
       "      <td>94.0</td>\n",
       "      <td>85</td>\n",
       "      <td>E</td>\n",
       "    </tr>\n",
       "    <tr>\n",
       "      <td>377</td>\n",
       "      <td>FIFA Soccer 2004</td>\n",
       "      <td>PS2</td>\n",
       "      <td>2002</td>\n",
       "      <td>Sports</td>\n",
       "      <td>590000</td>\n",
       "      <td>2360000</td>\n",
       "      <td>40000</td>\n",
       "      <td>1</td>\n",
       "      <td>84.0</td>\n",
       "      <td>64</td>\n",
       "      <td>E</td>\n",
       "    </tr>\n",
       "    <tr>\n",
       "      <td>456</td>\n",
       "      <td>LEGO Batman: The Videogame</td>\n",
       "      <td>Wii</td>\n",
       "      <td>2009</td>\n",
       "      <td>Action</td>\n",
       "      <td>1800000</td>\n",
       "      <td>970000</td>\n",
       "      <td>0</td>\n",
       "      <td>0</td>\n",
       "      <td>74.0</td>\n",
       "      <td>79</td>\n",
       "      <td>E10+</td>\n",
       "    </tr>\n",
       "    <tr>\n",
       "      <td>475</td>\n",
       "      <td>wwe Smackdown vs. Raw 2006</td>\n",
       "      <td>PS2</td>\n",
       "      <td>2002</td>\n",
       "      <td>Fighting</td>\n",
       "      <td>1570000</td>\n",
       "      <td>1020000</td>\n",
       "      <td>0</td>\n",
       "      <td>0</td>\n",
       "      <td>NaN</td>\n",
       "      <td>NaN</td>\n",
       "      <td>NaN</td>\n",
       "    </tr>\n",
       "    <tr>\n",
       "      <td>609</td>\n",
       "      <td>Space Invaders</td>\n",
       "      <td>2600</td>\n",
       "      <td>1981</td>\n",
       "      <td>Shooter</td>\n",
       "      <td>2360000</td>\n",
       "      <td>140000</td>\n",
       "      <td>0</td>\n",
       "      <td>0</td>\n",
       "      <td>NaN</td>\n",
       "      <td>NaN</td>\n",
       "      <td>NaN</td>\n",
       "    </tr>\n",
       "    <tr>\n",
       "      <td>...</td>\n",
       "      <td>...</td>\n",
       "      <td>...</td>\n",
       "      <td>...</td>\n",
       "      <td>...</td>\n",
       "      <td>...</td>\n",
       "      <td>...</td>\n",
       "      <td>...</td>\n",
       "      <td>...</td>\n",
       "      <td>...</td>\n",
       "      <td>...</td>\n",
       "      <td>...</td>\n",
       "    </tr>\n",
       "    <tr>\n",
       "      <td>16373</td>\n",
       "      <td>PDC World Championship Darts 2008</td>\n",
       "      <td>PSP</td>\n",
       "      <td>2006</td>\n",
       "      <td>Sports</td>\n",
       "      <td>10000</td>\n",
       "      <td>0</td>\n",
       "      <td>0</td>\n",
       "      <td>0</td>\n",
       "      <td>43.0</td>\n",
       "      <td>tbd</td>\n",
       "      <td>E10+</td>\n",
       "    </tr>\n",
       "    <tr>\n",
       "      <td>16405</td>\n",
       "      <td>Freaky Flyers</td>\n",
       "      <td>GC</td>\n",
       "      <td>2002</td>\n",
       "      <td>Racing</td>\n",
       "      <td>10000</td>\n",
       "      <td>0</td>\n",
       "      <td>0</td>\n",
       "      <td>0</td>\n",
       "      <td>69.0</td>\n",
       "      <td>65</td>\n",
       "      <td>T</td>\n",
       "    </tr>\n",
       "    <tr>\n",
       "      <td>16448</td>\n",
       "      <td>Inversion</td>\n",
       "      <td>PC</td>\n",
       "      <td>2011</td>\n",
       "      <td>Shooter</td>\n",
       "      <td>10000</td>\n",
       "      <td>0</td>\n",
       "      <td>0</td>\n",
       "      <td>0</td>\n",
       "      <td>59.0</td>\n",
       "      <td>67</td>\n",
       "      <td>M</td>\n",
       "    </tr>\n",
       "    <tr>\n",
       "      <td>16458</td>\n",
       "      <td>Hakuouki: Shinsengumi Kitan</td>\n",
       "      <td>PS3</td>\n",
       "      <td>2011</td>\n",
       "      <td>Adventure</td>\n",
       "      <td>10000</td>\n",
       "      <td>0</td>\n",
       "      <td>0</td>\n",
       "      <td>0</td>\n",
       "      <td>NaN</td>\n",
       "      <td>NaN</td>\n",
       "      <td>NaN</td>\n",
       "    </tr>\n",
       "    <tr>\n",
       "      <td>16522</td>\n",
       "      <td>Virtua Quest</td>\n",
       "      <td>GC</td>\n",
       "      <td>2002</td>\n",
       "      <td>Role-Playing</td>\n",
       "      <td>10000</td>\n",
       "      <td>0</td>\n",
       "      <td>0</td>\n",
       "      <td>0</td>\n",
       "      <td>55.0</td>\n",
       "      <td>55</td>\n",
       "      <td>T</td>\n",
       "    </tr>\n",
       "  </tbody>\n",
       "</table>\n",
       "<p>269 rows × 11 columns</p>\n",
       "</div>"
      ],
      "text/plain": [
       "                                    name platform  year_of_release  \\\n",
       "183                      Madden NFL 2004      PS2             2002   \n",
       "377                     FIFA Soccer 2004      PS2             2002   \n",
       "456           LEGO Batman: The Videogame      Wii             2009   \n",
       "475           wwe Smackdown vs. Raw 2006      PS2             2002   \n",
       "609                       Space Invaders     2600             1981   \n",
       "...                                  ...      ...              ...   \n",
       "16373  PDC World Championship Darts 2008      PSP             2006   \n",
       "16405                      Freaky Flyers       GC             2002   \n",
       "16448                          Inversion       PC             2011   \n",
       "16458        Hakuouki: Shinsengumi Kitan      PS3             2011   \n",
       "16522                       Virtua Quest       GC             2002   \n",
       "\n",
       "              genre  na_sales  eu_sales  jp_sales  other_sales  critic_score  \\\n",
       "183          Sports   4260000    260000     10000            1          94.0   \n",
       "377          Sports    590000   2360000     40000            1          84.0   \n",
       "456          Action   1800000    970000         0            0          74.0   \n",
       "475        Fighting   1570000   1020000         0            0           NaN   \n",
       "609         Shooter   2360000    140000         0            0           NaN   \n",
       "...             ...       ...       ...       ...          ...           ...   \n",
       "16373        Sports     10000         0         0            0          43.0   \n",
       "16405        Racing     10000         0         0            0          69.0   \n",
       "16448       Shooter     10000         0         0            0          59.0   \n",
       "16458     Adventure     10000         0         0            0           NaN   \n",
       "16522  Role-Playing     10000         0         0            0          55.0   \n",
       "\n",
       "      user_score rating  \n",
       "183           85      E  \n",
       "377           64      E  \n",
       "456           79   E10+  \n",
       "475          NaN    NaN  \n",
       "609          NaN    NaN  \n",
       "...          ...    ...  \n",
       "16373        tbd   E10+  \n",
       "16405         65      T  \n",
       "16448         67      M  \n",
       "16458        NaN    NaN  \n",
       "16522         55      T  \n",
       "\n",
       "[269 rows x 11 columns]"
      ]
     },
     "execution_count": 19,
     "metadata": {},
     "output_type": "execute_result"
    }
   ],
   "source": [
    "na_of_year"
   ]
  },
  {
   "cell_type": "code",
   "execution_count": 20,
   "metadata": {},
   "outputs": [],
   "source": [
    "df[df['year_of_release'].isna() == True] = na_of_year"
   ]
  },
  {
   "cell_type": "markdown",
   "metadata": {},
   "source": [
    "Пропуски в годах скорее всего появились из-за отсутствия информации о годе выпуска игры в определенном источнике, с которого взяты игры в `na_of_year`."
   ]
  },
  {
   "cell_type": "code",
   "execution_count": 21,
   "metadata": {},
   "outputs": [
    {
     "data": {
      "text/html": [
       "<div>\n",
       "<style scoped>\n",
       "    .dataframe tbody tr th:only-of-type {\n",
       "        vertical-align: middle;\n",
       "    }\n",
       "\n",
       "    .dataframe tbody tr th {\n",
       "        vertical-align: top;\n",
       "    }\n",
       "\n",
       "    .dataframe thead th {\n",
       "        text-align: right;\n",
       "    }\n",
       "</style>\n",
       "<table border=\"1\" class=\"dataframe\">\n",
       "  <thead>\n",
       "    <tr style=\"text-align: right;\">\n",
       "      <th></th>\n",
       "      <th>name</th>\n",
       "      <th>platform</th>\n",
       "      <th>year_of_release</th>\n",
       "      <th>genre</th>\n",
       "      <th>na_sales</th>\n",
       "      <th>eu_sales</th>\n",
       "      <th>jp_sales</th>\n",
       "      <th>other_sales</th>\n",
       "      <th>critic_score</th>\n",
       "      <th>user_score</th>\n",
       "      <th>rating</th>\n",
       "    </tr>\n",
       "  </thead>\n",
       "  <tbody>\n",
       "    <tr>\n",
       "      <td>119</td>\n",
       "      <td>Zumba Fitness</td>\n",
       "      <td>Wii</td>\n",
       "      <td>2010</td>\n",
       "      <td>Sports</td>\n",
       "      <td>3450000</td>\n",
       "      <td>2590000</td>\n",
       "      <td>0</td>\n",
       "      <td>1</td>\n",
       "      <td>NaN</td>\n",
       "      <td>tbd</td>\n",
       "      <td>E</td>\n",
       "    </tr>\n",
       "    <tr>\n",
       "      <td>301</td>\n",
       "      <td>Namco Museum: 50th Anniversary</td>\n",
       "      <td>PS2</td>\n",
       "      <td>2005</td>\n",
       "      <td>Misc</td>\n",
       "      <td>2080000</td>\n",
       "      <td>1350000</td>\n",
       "      <td>0</td>\n",
       "      <td>1</td>\n",
       "      <td>61</td>\n",
       "      <td>tbd</td>\n",
       "      <td>E10+</td>\n",
       "    </tr>\n",
       "    <tr>\n",
       "      <td>520</td>\n",
       "      <td>Zumba Fitness 2</td>\n",
       "      <td>Wii</td>\n",
       "      <td>2011</td>\n",
       "      <td>Sports</td>\n",
       "      <td>1510000</td>\n",
       "      <td>1030000</td>\n",
       "      <td>0</td>\n",
       "      <td>0</td>\n",
       "      <td>NaN</td>\n",
       "      <td>tbd</td>\n",
       "      <td>T</td>\n",
       "    </tr>\n",
       "    <tr>\n",
       "      <td>645</td>\n",
       "      <td>uDraw Studio</td>\n",
       "      <td>Wii</td>\n",
       "      <td>2010</td>\n",
       "      <td>Misc</td>\n",
       "      <td>1650000</td>\n",
       "      <td>570000</td>\n",
       "      <td>0</td>\n",
       "      <td>0</td>\n",
       "      <td>71</td>\n",
       "      <td>tbd</td>\n",
       "      <td>E</td>\n",
       "    </tr>\n",
       "    <tr>\n",
       "      <td>657</td>\n",
       "      <td>Frogger's Adventures: Temple of the Frog</td>\n",
       "      <td>GBA</td>\n",
       "      <td>2002</td>\n",
       "      <td>Adventure</td>\n",
       "      <td>2150000</td>\n",
       "      <td>180000</td>\n",
       "      <td>0</td>\n",
       "      <td>0</td>\n",
       "      <td>73</td>\n",
       "      <td>tbd</td>\n",
       "      <td>E</td>\n",
       "    </tr>\n",
       "    <tr>\n",
       "      <td>...</td>\n",
       "      <td>...</td>\n",
       "      <td>...</td>\n",
       "      <td>...</td>\n",
       "      <td>...</td>\n",
       "      <td>...</td>\n",
       "      <td>...</td>\n",
       "      <td>...</td>\n",
       "      <td>...</td>\n",
       "      <td>...</td>\n",
       "      <td>...</td>\n",
       "      <td>...</td>\n",
       "    </tr>\n",
       "    <tr>\n",
       "      <td>16695</td>\n",
       "      <td>Planet Monsters</td>\n",
       "      <td>GBA</td>\n",
       "      <td>2001</td>\n",
       "      <td>Action</td>\n",
       "      <td>10000</td>\n",
       "      <td>0</td>\n",
       "      <td>0</td>\n",
       "      <td>0</td>\n",
       "      <td>67</td>\n",
       "      <td>tbd</td>\n",
       "      <td>E</td>\n",
       "    </tr>\n",
       "    <tr>\n",
       "      <td>16697</td>\n",
       "      <td>Bust-A-Move 3000</td>\n",
       "      <td>GC</td>\n",
       "      <td>2003</td>\n",
       "      <td>Puzzle</td>\n",
       "      <td>10000</td>\n",
       "      <td>0</td>\n",
       "      <td>0</td>\n",
       "      <td>0</td>\n",
       "      <td>53</td>\n",
       "      <td>tbd</td>\n",
       "      <td>E</td>\n",
       "    </tr>\n",
       "    <tr>\n",
       "      <td>16698</td>\n",
       "      <td>Mega Brain Boost</td>\n",
       "      <td>DS</td>\n",
       "      <td>2008</td>\n",
       "      <td>Puzzle</td>\n",
       "      <td>10000</td>\n",
       "      <td>0</td>\n",
       "      <td>0</td>\n",
       "      <td>0</td>\n",
       "      <td>48</td>\n",
       "      <td>tbd</td>\n",
       "      <td>E</td>\n",
       "    </tr>\n",
       "    <tr>\n",
       "      <td>16704</td>\n",
       "      <td>Plushees</td>\n",
       "      <td>DS</td>\n",
       "      <td>2008</td>\n",
       "      <td>Simulation</td>\n",
       "      <td>10000</td>\n",
       "      <td>0</td>\n",
       "      <td>0</td>\n",
       "      <td>0</td>\n",
       "      <td>NaN</td>\n",
       "      <td>tbd</td>\n",
       "      <td>E</td>\n",
       "    </tr>\n",
       "    <tr>\n",
       "      <td>16706</td>\n",
       "      <td>Men in Black II: Alien Escape</td>\n",
       "      <td>GC</td>\n",
       "      <td>2003</td>\n",
       "      <td>Shooter</td>\n",
       "      <td>10000</td>\n",
       "      <td>0</td>\n",
       "      <td>0</td>\n",
       "      <td>0</td>\n",
       "      <td>NaN</td>\n",
       "      <td>tbd</td>\n",
       "      <td>T</td>\n",
       "    </tr>\n",
       "  </tbody>\n",
       "</table>\n",
       "<p>2424 rows × 11 columns</p>\n",
       "</div>"
      ],
      "text/plain": [
       "                                           name platform  year_of_release  \\\n",
       "119                               Zumba Fitness      Wii             2010   \n",
       "301              Namco Museum: 50th Anniversary      PS2             2005   \n",
       "520                             Zumba Fitness 2      Wii             2011   \n",
       "645                                uDraw Studio      Wii             2010   \n",
       "657    Frogger's Adventures: Temple of the Frog      GBA             2002   \n",
       "...                                         ...      ...              ...   \n",
       "16695                           Planet Monsters      GBA             2001   \n",
       "16697                          Bust-A-Move 3000       GC             2003   \n",
       "16698                          Mega Brain Boost       DS             2008   \n",
       "16704                                  Plushees       DS             2008   \n",
       "16706             Men in Black II: Alien Escape       GC             2003   \n",
       "\n",
       "            genre  na_sales  eu_sales  jp_sales  other_sales  critic_score  \\\n",
       "119        Sports   3450000   2590000         0            1           NaN   \n",
       "301          Misc   2080000   1350000         0            1            61   \n",
       "520        Sports   1510000   1030000         0            0           NaN   \n",
       "645          Misc   1650000    570000         0            0            71   \n",
       "657     Adventure   2150000    180000         0            0            73   \n",
       "...           ...       ...       ...       ...          ...           ...   \n",
       "16695      Action     10000         0         0            0            67   \n",
       "16697      Puzzle     10000         0         0            0            53   \n",
       "16698      Puzzle     10000         0         0            0            48   \n",
       "16704  Simulation     10000         0         0            0           NaN   \n",
       "16706     Shooter     10000         0         0            0           NaN   \n",
       "\n",
       "      user_score rating  \n",
       "119          tbd      E  \n",
       "301          tbd   E10+  \n",
       "520          tbd      T  \n",
       "645          tbd      E  \n",
       "657          tbd      E  \n",
       "...          ...    ...  \n",
       "16695        tbd      E  \n",
       "16697        tbd      E  \n",
       "16698        tbd      E  \n",
       "16704        tbd      E  \n",
       "16706        tbd      T  \n",
       "\n",
       "[2424 rows x 11 columns]"
      ]
     },
     "execution_count": 21,
     "metadata": {},
     "output_type": "execute_result"
    }
   ],
   "source": [
    "df[(df['user_score'] == 'tbd') & (df['user_score'].isna() == False)]"
   ]
  },
  {
   "cell_type": "markdown",
   "metadata": {},
   "source": [
    "tbd может появиться в результате недостаточного количества голосов пользователей для выставления оценки. Возможно, у игр одинаковое количество голосов на краях значений (1 и 10) и система не может определить игру с средней оценкой 5, так как это не корректно. Другим вариантом может быть недостаточное количество оценок из разных регионов для выставления оценки.<br>\n",
    "Заменим значения tbd средним по жанрам за соответствующий год."
   ]
  },
  {
   "cell_type": "code",
   "execution_count": 22,
   "metadata": {},
   "outputs": [],
   "source": [
    "df1 = df[(df['user_score'] != 'tbd') & (df['user_score'].isna() == False)]\n",
    "df1.user_score = df1.user_score.astype('int')\n",
    "table_user_score = df1.pivot_table(index = ['platform','year_of_release'], values = 'user_score',aggfunc = 'median').reset_index()"
   ]
  },
  {
   "cell_type": "code",
   "execution_count": 23,
   "metadata": {
    "scrolled": false
   },
   "outputs": [
    {
     "data": {
      "text/html": [
       "<div>\n",
       "<style scoped>\n",
       "    .dataframe tbody tr th:only-of-type {\n",
       "        vertical-align: middle;\n",
       "    }\n",
       "\n",
       "    .dataframe tbody tr th {\n",
       "        vertical-align: top;\n",
       "    }\n",
       "\n",
       "    .dataframe thead th {\n",
       "        text-align: right;\n",
       "    }\n",
       "</style>\n",
       "<table border=\"1\" class=\"dataframe\">\n",
       "  <thead>\n",
       "    <tr style=\"text-align: right;\">\n",
       "      <th></th>\n",
       "      <th>platform</th>\n",
       "      <th>year_of_release</th>\n",
       "      <th>user_score</th>\n",
       "    </tr>\n",
       "  </thead>\n",
       "  <tbody>\n",
       "    <tr>\n",
       "      <td>0</td>\n",
       "      <td>3DS</td>\n",
       "      <td>2011</td>\n",
       "      <td>64</td>\n",
       "    </tr>\n",
       "    <tr>\n",
       "      <td>1</td>\n",
       "      <td>3DS</td>\n",
       "      <td>2012</td>\n",
       "      <td>75</td>\n",
       "    </tr>\n",
       "    <tr>\n",
       "      <td>2</td>\n",
       "      <td>3DS</td>\n",
       "      <td>2013</td>\n",
       "      <td>68</td>\n",
       "    </tr>\n",
       "    <tr>\n",
       "      <td>3</td>\n",
       "      <td>3DS</td>\n",
       "      <td>2014</td>\n",
       "      <td>69</td>\n",
       "    </tr>\n",
       "    <tr>\n",
       "      <td>4</td>\n",
       "      <td>3DS</td>\n",
       "      <td>2015</td>\n",
       "      <td>76</td>\n",
       "    </tr>\n",
       "    <tr>\n",
       "      <td>...</td>\n",
       "      <td>...</td>\n",
       "      <td>...</td>\n",
       "      <td>...</td>\n",
       "    </tr>\n",
       "    <tr>\n",
       "      <td>141</td>\n",
       "      <td>XB</td>\n",
       "      <td>2008</td>\n",
       "      <td>55</td>\n",
       "    </tr>\n",
       "    <tr>\n",
       "      <td>142</td>\n",
       "      <td>XOne</td>\n",
       "      <td>2013</td>\n",
       "      <td>59</td>\n",
       "    </tr>\n",
       "    <tr>\n",
       "      <td>143</td>\n",
       "      <td>XOne</td>\n",
       "      <td>2014</td>\n",
       "      <td>70</td>\n",
       "    </tr>\n",
       "    <tr>\n",
       "      <td>144</td>\n",
       "      <td>XOne</td>\n",
       "      <td>2015</td>\n",
       "      <td>66</td>\n",
       "    </tr>\n",
       "    <tr>\n",
       "      <td>145</td>\n",
       "      <td>XOne</td>\n",
       "      <td>2016</td>\n",
       "      <td>68</td>\n",
       "    </tr>\n",
       "  </tbody>\n",
       "</table>\n",
       "<p>146 rows × 3 columns</p>\n",
       "</div>"
      ],
      "text/plain": [
       "    platform  year_of_release  user_score\n",
       "0        3DS             2011          64\n",
       "1        3DS             2012          75\n",
       "2        3DS             2013          68\n",
       "3        3DS             2014          69\n",
       "4        3DS             2015          76\n",
       "..       ...              ...         ...\n",
       "141       XB             2008          55\n",
       "142     XOne             2013          59\n",
       "143     XOne             2014          70\n",
       "144     XOne             2015          66\n",
       "145     XOne             2016          68\n",
       "\n",
       "[146 rows x 3 columns]"
      ]
     },
     "execution_count": 23,
     "metadata": {},
     "output_type": "execute_result"
    }
   ],
   "source": [
    "table_user_score['user_score'] = table_user_score['user_score'].round().astype('int')\n",
    "table_user_score"
   ]
  },
  {
   "cell_type": "code",
   "execution_count": 24,
   "metadata": {},
   "outputs": [],
   "source": [
    "def user_score(row):\n",
    "    try:\n",
    "        row['user_score'] = (table_user_score[(table_user_score['platform'] == row['platform']) &\\\n",
    "                            (table_user_score['year_of_release'] == row['year_of_release'])]['user_score'].values)[0]\n",
    "    except:\n",
    "        pass\n",
    "    return row\n",
    "df[df['user_score'] == 'tbd'] = df[df['user_score'] == 'tbd'].apply(lambda x: user_score(x), axis = 1)"
   ]
  },
  {
   "cell_type": "markdown",
   "metadata": {},
   "source": [
    "Заменили все возможные tbd на среднее значение по жанрам в году."
   ]
  },
  {
   "cell_type": "code",
   "execution_count": 25,
   "metadata": {},
   "outputs": [
    {
     "data": {
      "text/html": [
       "<div>\n",
       "<style scoped>\n",
       "    .dataframe tbody tr th:only-of-type {\n",
       "        vertical-align: middle;\n",
       "    }\n",
       "\n",
       "    .dataframe tbody tr th {\n",
       "        vertical-align: top;\n",
       "    }\n",
       "\n",
       "    .dataframe thead th {\n",
       "        text-align: right;\n",
       "    }\n",
       "</style>\n",
       "<table border=\"1\" class=\"dataframe\">\n",
       "  <thead>\n",
       "    <tr style=\"text-align: right;\">\n",
       "      <th></th>\n",
       "      <th>name</th>\n",
       "      <th>platform</th>\n",
       "      <th>year_of_release</th>\n",
       "      <th>genre</th>\n",
       "      <th>na_sales</th>\n",
       "      <th>eu_sales</th>\n",
       "      <th>jp_sales</th>\n",
       "      <th>other_sales</th>\n",
       "      <th>critic_score</th>\n",
       "      <th>user_score</th>\n",
       "      <th>rating</th>\n",
       "    </tr>\n",
       "  </thead>\n",
       "  <tbody>\n",
       "    <tr>\n",
       "      <td>2179</td>\n",
       "      <td>Just Dance 2016</td>\n",
       "      <td>Wii</td>\n",
       "      <td>2015</td>\n",
       "      <td>Misc</td>\n",
       "      <td>410000</td>\n",
       "      <td>460000</td>\n",
       "      <td>0</td>\n",
       "      <td>0</td>\n",
       "      <td>NaN</td>\n",
       "      <td>tbd</td>\n",
       "      <td>E10+</td>\n",
       "    </tr>\n",
       "    <tr>\n",
       "      <td>7681</td>\n",
       "      <td>Ratatouille</td>\n",
       "      <td>GBA</td>\n",
       "      <td>2007</td>\n",
       "      <td>Action</td>\n",
       "      <td>140000</td>\n",
       "      <td>50000</td>\n",
       "      <td>0</td>\n",
       "      <td>0</td>\n",
       "      <td>65</td>\n",
       "      <td>tbd</td>\n",
       "      <td>E</td>\n",
       "    </tr>\n",
       "    <tr>\n",
       "      <td>8009</td>\n",
       "      <td>Just Dance 2017</td>\n",
       "      <td>Wii</td>\n",
       "      <td>2016</td>\n",
       "      <td>Misc</td>\n",
       "      <td>60000</td>\n",
       "      <td>110000</td>\n",
       "      <td>0</td>\n",
       "      <td>0</td>\n",
       "      <td>NaN</td>\n",
       "      <td>tbd</td>\n",
       "      <td>E10+</td>\n",
       "    </tr>\n",
       "    <tr>\n",
       "      <td>14682</td>\n",
       "      <td>Barbie and Her Sisters Puppy Rescue</td>\n",
       "      <td>Wii</td>\n",
       "      <td>2015</td>\n",
       "      <td>Action</td>\n",
       "      <td>0</td>\n",
       "      <td>30000</td>\n",
       "      <td>0</td>\n",
       "      <td>0</td>\n",
       "      <td>NaN</td>\n",
       "      <td>tbd</td>\n",
       "      <td>E</td>\n",
       "    </tr>\n",
       "    <tr>\n",
       "      <td>16312</td>\n",
       "      <td>Monster High: New Ghoul in School</td>\n",
       "      <td>Wii</td>\n",
       "      <td>2015</td>\n",
       "      <td>Action</td>\n",
       "      <td>0</td>\n",
       "      <td>10000</td>\n",
       "      <td>0</td>\n",
       "      <td>0</td>\n",
       "      <td>NaN</td>\n",
       "      <td>tbd</td>\n",
       "      <td>E</td>\n",
       "    </tr>\n",
       "  </tbody>\n",
       "</table>\n",
       "</div>"
      ],
      "text/plain": [
       "                                      name platform  year_of_release   genre  \\\n",
       "2179                       Just Dance 2016      Wii             2015    Misc   \n",
       "7681                           Ratatouille      GBA             2007  Action   \n",
       "8009                       Just Dance 2017      Wii             2016    Misc   \n",
       "14682  Barbie and Her Sisters Puppy Rescue      Wii             2015  Action   \n",
       "16312    Monster High: New Ghoul in School      Wii             2015  Action   \n",
       "\n",
       "       na_sales  eu_sales  jp_sales  other_sales  critic_score user_score  \\\n",
       "2179     410000    460000         0            0           NaN        tbd   \n",
       "7681     140000     50000         0            0            65        tbd   \n",
       "8009      60000    110000         0            0           NaN        tbd   \n",
       "14682         0     30000         0            0           NaN        tbd   \n",
       "16312         0     10000         0            0           NaN        tbd   \n",
       "\n",
       "      rating  \n",
       "2179    E10+  \n",
       "7681       E  \n",
       "8009    E10+  \n",
       "14682      E  \n",
       "16312      E  "
      ]
     },
     "execution_count": 25,
     "metadata": {},
     "output_type": "execute_result"
    }
   ],
   "source": [
    "df[(df['user_score'] == 'tbd') & (df['user_score'].isna() == False)]"
   ]
  },
  {
   "cell_type": "markdown",
   "metadata": {},
   "source": [
    "Удалим оставшиеся игры, по которым не можем предсказать оценки. Их мало, поэтому ничего не теряем."
   ]
  },
  {
   "cell_type": "code",
   "execution_count": 26,
   "metadata": {},
   "outputs": [],
   "source": [
    "df = df[df['user_score'] != 'tbd']"
   ]
  },
  {
   "cell_type": "code",
   "execution_count": 27,
   "metadata": {},
   "outputs": [
    {
     "data": {
      "text/plain": [
       "16708"
      ]
     },
     "execution_count": 27,
     "metadata": {},
     "output_type": "execute_result"
    }
   ],
   "source": [
    "len(df)"
   ]
  },
  {
   "cell_type": "markdown",
   "metadata": {},
   "source": [
    "Сократилась длина на 5, всё в порядке."
   ]
  },
  {
   "cell_type": "code",
   "execution_count": 28,
   "metadata": {},
   "outputs": [],
   "source": [
    "df['user_score'] = df['user_score'].astype('Int64')"
   ]
  },
  {
   "cell_type": "code",
   "execution_count": 29,
   "metadata": {},
   "outputs": [
    {
     "data": {
      "text/plain": [
       "name               object\n",
       "platform           object\n",
       "year_of_release     Int64\n",
       "genre              object\n",
       "na_sales            Int64\n",
       "eu_sales            Int64\n",
       "jp_sales            Int64\n",
       "other_sales         Int64\n",
       "critic_score        Int64\n",
       "user_score          Int64\n",
       "rating             object\n",
       "dtype: object"
      ]
     },
     "execution_count": 29,
     "metadata": {},
     "output_type": "execute_result"
    }
   ],
   "source": [
    "df.dtypes"
   ]
  },
  {
   "cell_type": "markdown",
   "metadata": {},
   "source": [
    "Теперь все типы соответствуют требованиям."
   ]
  },
  {
   "cell_type": "code",
   "execution_count": 30,
   "metadata": {},
   "outputs": [
    {
     "data": {
      "text/html": [
       "<div>\n",
       "<style scoped>\n",
       "    .dataframe tbody tr th:only-of-type {\n",
       "        vertical-align: middle;\n",
       "    }\n",
       "\n",
       "    .dataframe tbody tr th {\n",
       "        vertical-align: top;\n",
       "    }\n",
       "\n",
       "    .dataframe thead th {\n",
       "        text-align: right;\n",
       "    }\n",
       "</style>\n",
       "<table border=\"1\" class=\"dataframe\">\n",
       "  <thead>\n",
       "    <tr style=\"text-align: right;\">\n",
       "      <th></th>\n",
       "      <th>name</th>\n",
       "      <th>platform</th>\n",
       "      <th>year_of_release</th>\n",
       "      <th>genre</th>\n",
       "      <th>na_sales</th>\n",
       "      <th>eu_sales</th>\n",
       "      <th>jp_sales</th>\n",
       "      <th>other_sales</th>\n",
       "      <th>critic_score</th>\n",
       "      <th>user_score</th>\n",
       "      <th>rating</th>\n",
       "    </tr>\n",
       "  </thead>\n",
       "  <tbody>\n",
       "    <tr>\n",
       "      <td>1</td>\n",
       "      <td>Super Mario Bros.</td>\n",
       "      <td>NES</td>\n",
       "      <td>1985</td>\n",
       "      <td>Platform</td>\n",
       "      <td>29080000</td>\n",
       "      <td>3580000</td>\n",
       "      <td>6810000</td>\n",
       "      <td>1</td>\n",
       "      <td>NaN</td>\n",
       "      <td>NaN</td>\n",
       "      <td>NaN</td>\n",
       "    </tr>\n",
       "    <tr>\n",
       "      <td>4</td>\n",
       "      <td>Pokemon Red/Pokemon Blue</td>\n",
       "      <td>GB</td>\n",
       "      <td>1996</td>\n",
       "      <td>Role-Playing</td>\n",
       "      <td>11270000</td>\n",
       "      <td>8890000</td>\n",
       "      <td>10220000</td>\n",
       "      <td>1</td>\n",
       "      <td>NaN</td>\n",
       "      <td>NaN</td>\n",
       "      <td>NaN</td>\n",
       "    </tr>\n",
       "    <tr>\n",
       "      <td>5</td>\n",
       "      <td>Tetris</td>\n",
       "      <td>GB</td>\n",
       "      <td>1989</td>\n",
       "      <td>Puzzle</td>\n",
       "      <td>23200000</td>\n",
       "      <td>2260000</td>\n",
       "      <td>4220000</td>\n",
       "      <td>1</td>\n",
       "      <td>NaN</td>\n",
       "      <td>NaN</td>\n",
       "      <td>NaN</td>\n",
       "    </tr>\n",
       "    <tr>\n",
       "      <td>9</td>\n",
       "      <td>Duck Hunt</td>\n",
       "      <td>NES</td>\n",
       "      <td>1984</td>\n",
       "      <td>Shooter</td>\n",
       "      <td>26930000</td>\n",
       "      <td>630000</td>\n",
       "      <td>280000</td>\n",
       "      <td>0</td>\n",
       "      <td>NaN</td>\n",
       "      <td>NaN</td>\n",
       "      <td>NaN</td>\n",
       "    </tr>\n",
       "    <tr>\n",
       "      <td>10</td>\n",
       "      <td>Nintendogs</td>\n",
       "      <td>DS</td>\n",
       "      <td>2005</td>\n",
       "      <td>Simulation</td>\n",
       "      <td>9050000</td>\n",
       "      <td>10950000</td>\n",
       "      <td>1930000</td>\n",
       "      <td>3</td>\n",
       "      <td>NaN</td>\n",
       "      <td>NaN</td>\n",
       "      <td>NaN</td>\n",
       "    </tr>\n",
       "    <tr>\n",
       "      <td>...</td>\n",
       "      <td>...</td>\n",
       "      <td>...</td>\n",
       "      <td>...</td>\n",
       "      <td>...</td>\n",
       "      <td>...</td>\n",
       "      <td>...</td>\n",
       "      <td>...</td>\n",
       "      <td>...</td>\n",
       "      <td>...</td>\n",
       "      <td>...</td>\n",
       "      <td>...</td>\n",
       "    </tr>\n",
       "    <tr>\n",
       "      <td>16710</td>\n",
       "      <td>Samurai Warriors: Sanada Maru</td>\n",
       "      <td>PS3</td>\n",
       "      <td>2016</td>\n",
       "      <td>Action</td>\n",
       "      <td>0</td>\n",
       "      <td>0</td>\n",
       "      <td>10000</td>\n",
       "      <td>0</td>\n",
       "      <td>NaN</td>\n",
       "      <td>NaN</td>\n",
       "      <td>NaN</td>\n",
       "    </tr>\n",
       "    <tr>\n",
       "      <td>16711</td>\n",
       "      <td>LMA Manager 2007</td>\n",
       "      <td>X360</td>\n",
       "      <td>2006</td>\n",
       "      <td>Sports</td>\n",
       "      <td>0</td>\n",
       "      <td>10000</td>\n",
       "      <td>0</td>\n",
       "      <td>0</td>\n",
       "      <td>NaN</td>\n",
       "      <td>NaN</td>\n",
       "      <td>NaN</td>\n",
       "    </tr>\n",
       "    <tr>\n",
       "      <td>16712</td>\n",
       "      <td>Haitaka no Psychedelica</td>\n",
       "      <td>PSV</td>\n",
       "      <td>2016</td>\n",
       "      <td>Adventure</td>\n",
       "      <td>0</td>\n",
       "      <td>0</td>\n",
       "      <td>10000</td>\n",
       "      <td>0</td>\n",
       "      <td>NaN</td>\n",
       "      <td>NaN</td>\n",
       "      <td>NaN</td>\n",
       "    </tr>\n",
       "    <tr>\n",
       "      <td>16713</td>\n",
       "      <td>Spirits &amp; Spells</td>\n",
       "      <td>GBA</td>\n",
       "      <td>2003</td>\n",
       "      <td>Platform</td>\n",
       "      <td>10000</td>\n",
       "      <td>0</td>\n",
       "      <td>0</td>\n",
       "      <td>0</td>\n",
       "      <td>NaN</td>\n",
       "      <td>NaN</td>\n",
       "      <td>NaN</td>\n",
       "    </tr>\n",
       "    <tr>\n",
       "      <td>16714</td>\n",
       "      <td>Winning Post 8 2016</td>\n",
       "      <td>PSV</td>\n",
       "      <td>2016</td>\n",
       "      <td>Simulation</td>\n",
       "      <td>0</td>\n",
       "      <td>0</td>\n",
       "      <td>10000</td>\n",
       "      <td>0</td>\n",
       "      <td>NaN</td>\n",
       "      <td>NaN</td>\n",
       "      <td>NaN</td>\n",
       "    </tr>\n",
       "  </tbody>\n",
       "</table>\n",
       "<p>8610 rows × 11 columns</p>\n",
       "</div>"
      ],
      "text/plain": [
       "                                name platform  year_of_release         genre  \\\n",
       "1                  Super Mario Bros.      NES             1985      Platform   \n",
       "4           Pokemon Red/Pokemon Blue       GB             1996  Role-Playing   \n",
       "5                             Tetris       GB             1989        Puzzle   \n",
       "9                          Duck Hunt      NES             1984       Shooter   \n",
       "10                        Nintendogs       DS             2005    Simulation   \n",
       "...                              ...      ...              ...           ...   \n",
       "16710  Samurai Warriors: Sanada Maru      PS3             2016        Action   \n",
       "16711               LMA Manager 2007     X360             2006        Sports   \n",
       "16712        Haitaka no Psychedelica      PSV             2016     Adventure   \n",
       "16713               Spirits & Spells      GBA             2003      Platform   \n",
       "16714            Winning Post 8 2016      PSV             2016    Simulation   \n",
       "\n",
       "       na_sales  eu_sales  jp_sales  other_sales  critic_score  user_score  \\\n",
       "1      29080000   3580000   6810000            1           NaN         NaN   \n",
       "4      11270000   8890000  10220000            1           NaN         NaN   \n",
       "5      23200000   2260000   4220000            1           NaN         NaN   \n",
       "9      26930000    630000    280000            0           NaN         NaN   \n",
       "10      9050000  10950000   1930000            3           NaN         NaN   \n",
       "...         ...       ...       ...          ...           ...         ...   \n",
       "16710         0         0     10000            0           NaN         NaN   \n",
       "16711         0     10000         0            0           NaN         NaN   \n",
       "16712         0         0     10000            0           NaN         NaN   \n",
       "16713     10000         0         0            0           NaN         NaN   \n",
       "16714         0         0     10000            0           NaN         NaN   \n",
       "\n",
       "      rating  \n",
       "1        NaN  \n",
       "4        NaN  \n",
       "5        NaN  \n",
       "9        NaN  \n",
       "10       NaN  \n",
       "...      ...  \n",
       "16710    NaN  \n",
       "16711    NaN  \n",
       "16712    NaN  \n",
       "16713    NaN  \n",
       "16714    NaN  \n",
       "\n",
       "[8610 rows x 11 columns]"
      ]
     },
     "execution_count": 30,
     "metadata": {},
     "output_type": "execute_result"
    }
   ],
   "source": [
    "df[(df['user_score'].isna() == True) | (df['critic_score'].isna() == True)]"
   ]
  },
  {
   "cell_type": "markdown",
   "metadata": {},
   "source": [
    "пропуски в оценках есть и у старых, и у новых игр, которые как и покупали часто, так и почти не покупали. Возможно данные взяты с источника без оценок игр. У новых игр возможно еще не выставлены оценки из-за выхода игры в 2016, по которому нет данных, либо игру еще не оценивали.<br>\n",
    "Заполним средними по жанрам за соответствующий год."
   ]
  },
  {
   "cell_type": "code",
   "execution_count": 31,
   "metadata": {},
   "outputs": [],
   "source": [
    "df2 = df[df['critic_score'].isna() == False]\n",
    "table_critic_score = df2.pivot_table(index = ['platform','year_of_release'], values = 'critic_score',aggfunc = 'median').reset_index()"
   ]
  },
  {
   "cell_type": "code",
   "execution_count": 32,
   "metadata": {
    "scrolled": false
   },
   "outputs": [
    {
     "data": {
      "text/html": [
       "<div>\n",
       "<style scoped>\n",
       "    .dataframe tbody tr th:only-of-type {\n",
       "        vertical-align: middle;\n",
       "    }\n",
       "\n",
       "    .dataframe tbody tr th {\n",
       "        vertical-align: top;\n",
       "    }\n",
       "\n",
       "    .dataframe thead th {\n",
       "        text-align: right;\n",
       "    }\n",
       "</style>\n",
       "<table border=\"1\" class=\"dataframe\">\n",
       "  <thead>\n",
       "    <tr style=\"text-align: right;\">\n",
       "      <th></th>\n",
       "      <th>platform</th>\n",
       "      <th>year_of_release</th>\n",
       "      <th>critic_score</th>\n",
       "    </tr>\n",
       "  </thead>\n",
       "  <tbody>\n",
       "    <tr>\n",
       "      <td>0</td>\n",
       "      <td>3DS</td>\n",
       "      <td>2011</td>\n",
       "      <td>61</td>\n",
       "    </tr>\n",
       "    <tr>\n",
       "      <td>1</td>\n",
       "      <td>3DS</td>\n",
       "      <td>2012</td>\n",
       "      <td>73</td>\n",
       "    </tr>\n",
       "    <tr>\n",
       "      <td>2</td>\n",
       "      <td>3DS</td>\n",
       "      <td>2013</td>\n",
       "      <td>68</td>\n",
       "    </tr>\n",
       "    <tr>\n",
       "      <td>3</td>\n",
       "      <td>3DS</td>\n",
       "      <td>2014</td>\n",
       "      <td>66</td>\n",
       "    </tr>\n",
       "    <tr>\n",
       "      <td>4</td>\n",
       "      <td>3DS</td>\n",
       "      <td>2015</td>\n",
       "      <td>72</td>\n",
       "    </tr>\n",
       "    <tr>\n",
       "      <td>...</td>\n",
       "      <td>...</td>\n",
       "      <td>...</td>\n",
       "      <td>...</td>\n",
       "    </tr>\n",
       "    <tr>\n",
       "      <td>132</td>\n",
       "      <td>XB</td>\n",
       "      <td>2007</td>\n",
       "      <td>76</td>\n",
       "    </tr>\n",
       "    <tr>\n",
       "      <td>133</td>\n",
       "      <td>XOne</td>\n",
       "      <td>2013</td>\n",
       "      <td>74</td>\n",
       "    </tr>\n",
       "    <tr>\n",
       "      <td>134</td>\n",
       "      <td>XOne</td>\n",
       "      <td>2014</td>\n",
       "      <td>76</td>\n",
       "    </tr>\n",
       "    <tr>\n",
       "      <td>135</td>\n",
       "      <td>XOne</td>\n",
       "      <td>2015</td>\n",
       "      <td>76</td>\n",
       "    </tr>\n",
       "    <tr>\n",
       "      <td>136</td>\n",
       "      <td>XOne</td>\n",
       "      <td>2016</td>\n",
       "      <td>76</td>\n",
       "    </tr>\n",
       "  </tbody>\n",
       "</table>\n",
       "<p>137 rows × 3 columns</p>\n",
       "</div>"
      ],
      "text/plain": [
       "    platform  year_of_release  critic_score\n",
       "0        3DS             2011            61\n",
       "1        3DS             2012            73\n",
       "2        3DS             2013            68\n",
       "3        3DS             2014            66\n",
       "4        3DS             2015            72\n",
       "..       ...              ...           ...\n",
       "132       XB             2007            76\n",
       "133     XOne             2013            74\n",
       "134     XOne             2014            76\n",
       "135     XOne             2015            76\n",
       "136     XOne             2016            76\n",
       "\n",
       "[137 rows x 3 columns]"
      ]
     },
     "execution_count": 32,
     "metadata": {},
     "output_type": "execute_result"
    }
   ],
   "source": [
    "table_critic_score['critic_score'] = table_critic_score['critic_score'].round().astype('int')\n",
    "table_critic_score"
   ]
  },
  {
   "cell_type": "code",
   "execution_count": 33,
   "metadata": {},
   "outputs": [
    {
     "data": {
      "text/plain": [
       "name               0.000000\n",
       "platform           0.000000\n",
       "year_of_release    0.000000\n",
       "genre              0.000000\n",
       "na_sales           0.000000\n",
       "eu_sales           0.000000\n",
       "jp_sales           0.000000\n",
       "other_sales        0.000000\n",
       "critic_score       0.513048\n",
       "user_score         0.400946\n",
       "rating             0.404836\n",
       "dtype: float64"
      ]
     },
     "execution_count": 33,
     "metadata": {},
     "output_type": "execute_result"
    }
   ],
   "source": [
    "df.isna().mean()"
   ]
  },
  {
   "cell_type": "code",
   "execution_count": 34,
   "metadata": {},
   "outputs": [],
   "source": [
    "def critic_and_user_score(row):\n",
    "    try:\n",
    "        row['critic_score'] =  (table_critic_score[(table_critic_score['platform'] == row['platform']) & \\\n",
    "                            (table_critic_score['year_of_release'] == row['year_of_release'])]['critic_score'].values)[0]\n",
    "    except:\n",
    "        pass\n",
    "    return row"
   ]
  },
  {
   "cell_type": "code",
   "execution_count": 35,
   "metadata": {},
   "outputs": [
    {
     "name": "stderr",
     "output_type": "stream",
     "text": [
      "100%|██████████| 8572/8572 [00:21<00:00, 400.95it/s]\n"
     ]
    }
   ],
   "source": [
    "df[df['critic_score'].isna() == True] = df[df['critic_score'].isna() == True].progress_apply(\n",
    "    lambda x: critic_and_user_score(x), axis = 1)"
   ]
  },
  {
   "cell_type": "code",
   "execution_count": 36,
   "metadata": {},
   "outputs": [
    {
     "name": "stderr",
     "output_type": "stream",
     "text": [
      "100%|██████████| 6699/6699 [00:16<00:00, 397.02it/s]\n"
     ]
    }
   ],
   "source": [
    "df[df['user_score'].isna() == True] = df[df['user_score'].isna() == True].progress_apply(lambda x: user_score(x), axis = 1)"
   ]
  },
  {
   "cell_type": "code",
   "execution_count": 37,
   "metadata": {},
   "outputs": [
    {
     "data": {
      "text/plain": [
       "name               0.000000\n",
       "platform           0.000000\n",
       "year_of_release    0.000000\n",
       "genre              0.000000\n",
       "na_sales           0.000000\n",
       "eu_sales           0.000000\n",
       "jp_sales           0.000000\n",
       "other_sales        0.000000\n",
       "critic_score       0.088880\n",
       "user_score         0.075353\n",
       "rating             0.404836\n",
       "dtype: float64"
      ]
     },
     "execution_count": 37,
     "metadata": {},
     "output_type": "execute_result"
    }
   ],
   "source": [
    "df.isna().mean()"
   ]
  },
  {
   "cell_type": "code",
   "execution_count": 38,
   "metadata": {},
   "outputs": [
    {
     "data": {
      "text/html": [
       "<div>\n",
       "<style scoped>\n",
       "    .dataframe tbody tr th:only-of-type {\n",
       "        vertical-align: middle;\n",
       "    }\n",
       "\n",
       "    .dataframe tbody tr th {\n",
       "        vertical-align: top;\n",
       "    }\n",
       "\n",
       "    .dataframe thead th {\n",
       "        text-align: right;\n",
       "    }\n",
       "</style>\n",
       "<table border=\"1\" class=\"dataframe\">\n",
       "  <thead>\n",
       "    <tr style=\"text-align: right;\">\n",
       "      <th></th>\n",
       "      <th>name</th>\n",
       "      <th>platform</th>\n",
       "      <th>year_of_release</th>\n",
       "      <th>genre</th>\n",
       "      <th>na_sales</th>\n",
       "      <th>eu_sales</th>\n",
       "      <th>jp_sales</th>\n",
       "      <th>other_sales</th>\n",
       "      <th>critic_score</th>\n",
       "      <th>user_score</th>\n",
       "      <th>rating</th>\n",
       "    </tr>\n",
       "  </thead>\n",
       "  <tbody>\n",
       "    <tr>\n",
       "      <td>1</td>\n",
       "      <td>Super Mario Bros.</td>\n",
       "      <td>NES</td>\n",
       "      <td>1985</td>\n",
       "      <td>Platform</td>\n",
       "      <td>29080000</td>\n",
       "      <td>3580000</td>\n",
       "      <td>6810000</td>\n",
       "      <td>1</td>\n",
       "      <td>NaN</td>\n",
       "      <td>NaN</td>\n",
       "      <td>NaN</td>\n",
       "    </tr>\n",
       "    <tr>\n",
       "      <td>4</td>\n",
       "      <td>Pokemon Red/Pokemon Blue</td>\n",
       "      <td>GB</td>\n",
       "      <td>1996</td>\n",
       "      <td>Role-Playing</td>\n",
       "      <td>11270000</td>\n",
       "      <td>8890000</td>\n",
       "      <td>10220000</td>\n",
       "      <td>1</td>\n",
       "      <td>NaN</td>\n",
       "      <td>NaN</td>\n",
       "      <td>NaN</td>\n",
       "    </tr>\n",
       "    <tr>\n",
       "      <td>5</td>\n",
       "      <td>Tetris</td>\n",
       "      <td>GB</td>\n",
       "      <td>1989</td>\n",
       "      <td>Puzzle</td>\n",
       "      <td>23200000</td>\n",
       "      <td>2260000</td>\n",
       "      <td>4220000</td>\n",
       "      <td>1</td>\n",
       "      <td>NaN</td>\n",
       "      <td>NaN</td>\n",
       "      <td>NaN</td>\n",
       "    </tr>\n",
       "    <tr>\n",
       "      <td>9</td>\n",
       "      <td>Duck Hunt</td>\n",
       "      <td>NES</td>\n",
       "      <td>1984</td>\n",
       "      <td>Shooter</td>\n",
       "      <td>26930000</td>\n",
       "      <td>630000</td>\n",
       "      <td>280000</td>\n",
       "      <td>0</td>\n",
       "      <td>NaN</td>\n",
       "      <td>NaN</td>\n",
       "      <td>NaN</td>\n",
       "    </tr>\n",
       "    <tr>\n",
       "      <td>12</td>\n",
       "      <td>Pokemon Gold/Pokemon Silver</td>\n",
       "      <td>GB</td>\n",
       "      <td>1999</td>\n",
       "      <td>Role-Playing</td>\n",
       "      <td>9000000</td>\n",
       "      <td>6180000</td>\n",
       "      <td>7200000</td>\n",
       "      <td>1</td>\n",
       "      <td>NaN</td>\n",
       "      <td>NaN</td>\n",
       "      <td>NaN</td>\n",
       "    </tr>\n",
       "    <tr>\n",
       "      <td>...</td>\n",
       "      <td>...</td>\n",
       "      <td>...</td>\n",
       "      <td>...</td>\n",
       "      <td>...</td>\n",
       "      <td>...</td>\n",
       "      <td>...</td>\n",
       "      <td>...</td>\n",
       "      <td>...</td>\n",
       "      <td>...</td>\n",
       "      <td>...</td>\n",
       "      <td>...</td>\n",
       "    </tr>\n",
       "    <tr>\n",
       "      <td>16666</td>\n",
       "      <td>Psychic Detective</td>\n",
       "      <td>PS</td>\n",
       "      <td>1995</td>\n",
       "      <td>Adventure</td>\n",
       "      <td>10000</td>\n",
       "      <td>0</td>\n",
       "      <td>0</td>\n",
       "      <td>0</td>\n",
       "      <td>NaN</td>\n",
       "      <td>NaN</td>\n",
       "      <td>NaN</td>\n",
       "    </tr>\n",
       "    <tr>\n",
       "      <td>16691</td>\n",
       "      <td>Dynasty Warriors: Eiketsuden</td>\n",
       "      <td>PS3</td>\n",
       "      <td>2016</td>\n",
       "      <td>Action</td>\n",
       "      <td>0</td>\n",
       "      <td>0</td>\n",
       "      <td>10000</td>\n",
       "      <td>0</td>\n",
       "      <td>NaN</td>\n",
       "      <td>41</td>\n",
       "      <td>NaN</td>\n",
       "    </tr>\n",
       "    <tr>\n",
       "      <td>16693</td>\n",
       "      <td>PGA European Tour</td>\n",
       "      <td>N64</td>\n",
       "      <td>2000</td>\n",
       "      <td>Sports</td>\n",
       "      <td>10000</td>\n",
       "      <td>0</td>\n",
       "      <td>0</td>\n",
       "      <td>0</td>\n",
       "      <td>NaN</td>\n",
       "      <td>NaN</td>\n",
       "      <td>NaN</td>\n",
       "    </tr>\n",
       "    <tr>\n",
       "      <td>16694</td>\n",
       "      <td>Carmageddon 64</td>\n",
       "      <td>N64</td>\n",
       "      <td>1999</td>\n",
       "      <td>Action</td>\n",
       "      <td>10000</td>\n",
       "      <td>0</td>\n",
       "      <td>0</td>\n",
       "      <td>0</td>\n",
       "      <td>NaN</td>\n",
       "      <td>NaN</td>\n",
       "      <td>NaN</td>\n",
       "    </tr>\n",
       "    <tr>\n",
       "      <td>16710</td>\n",
       "      <td>Samurai Warriors: Sanada Maru</td>\n",
       "      <td>PS3</td>\n",
       "      <td>2016</td>\n",
       "      <td>Action</td>\n",
       "      <td>0</td>\n",
       "      <td>0</td>\n",
       "      <td>10000</td>\n",
       "      <td>0</td>\n",
       "      <td>NaN</td>\n",
       "      <td>41</td>\n",
       "      <td>NaN</td>\n",
       "    </tr>\n",
       "  </tbody>\n",
       "</table>\n",
       "<p>1485 rows × 11 columns</p>\n",
       "</div>"
      ],
      "text/plain": [
       "                                name platform  year_of_release         genre  \\\n",
       "1                  Super Mario Bros.      NES             1985      Platform   \n",
       "4           Pokemon Red/Pokemon Blue       GB             1996  Role-Playing   \n",
       "5                             Tetris       GB             1989        Puzzle   \n",
       "9                          Duck Hunt      NES             1984       Shooter   \n",
       "12       Pokemon Gold/Pokemon Silver       GB             1999  Role-Playing   \n",
       "...                              ...      ...              ...           ...   \n",
       "16666              Psychic Detective       PS             1995     Adventure   \n",
       "16691   Dynasty Warriors: Eiketsuden      PS3             2016        Action   \n",
       "16693              PGA European Tour      N64             2000        Sports   \n",
       "16694                 Carmageddon 64      N64             1999        Action   \n",
       "16710  Samurai Warriors: Sanada Maru      PS3             2016        Action   \n",
       "\n",
       "       na_sales  eu_sales  jp_sales  other_sales  critic_score  user_score  \\\n",
       "1      29080000   3580000   6810000            1           NaN         NaN   \n",
       "4      11270000   8890000  10220000            1           NaN         NaN   \n",
       "5      23200000   2260000   4220000            1           NaN         NaN   \n",
       "9      26930000    630000    280000            0           NaN         NaN   \n",
       "12      9000000   6180000   7200000            1           NaN         NaN   \n",
       "...         ...       ...       ...          ...           ...         ...   \n",
       "16666     10000         0         0            0           NaN         NaN   \n",
       "16691         0         0     10000            0           NaN          41   \n",
       "16693     10000         0         0            0           NaN         NaN   \n",
       "16694     10000         0         0            0           NaN         NaN   \n",
       "16710         0         0     10000            0           NaN          41   \n",
       "\n",
       "      rating  \n",
       "1        NaN  \n",
       "4        NaN  \n",
       "5        NaN  \n",
       "9        NaN  \n",
       "12       NaN  \n",
       "...      ...  \n",
       "16666    NaN  \n",
       "16691    NaN  \n",
       "16693    NaN  \n",
       "16694    NaN  \n",
       "16710    NaN  \n",
       "\n",
       "[1485 rows x 11 columns]"
      ]
     },
     "execution_count": 38,
     "metadata": {},
     "output_type": "execute_result"
    }
   ],
   "source": [
    "df[(df['critic_score'].isna() == True) | (df['user_score'].isna() == True)]"
   ]
  },
  {
   "cell_type": "markdown",
   "metadata": {},
   "source": [
    "В оставшихся пропусках нас будут интересовать только значения за актуальный период, который будет выделен далее, но мы его уже знаем, поэтому можно пропустить заполнение пропусков ранее актуального периода."
   ]
  },
  {
   "cell_type": "code",
   "execution_count": 39,
   "metadata": {
    "scrolled": false
   },
   "outputs": [
    {
     "data": {
      "text/html": [
       "<div>\n",
       "<style scoped>\n",
       "    .dataframe tbody tr th:only-of-type {\n",
       "        vertical-align: middle;\n",
       "    }\n",
       "\n",
       "    .dataframe tbody tr th {\n",
       "        vertical-align: top;\n",
       "    }\n",
       "\n",
       "    .dataframe thead th {\n",
       "        text-align: right;\n",
       "    }\n",
       "</style>\n",
       "<table border=\"1\" class=\"dataframe\">\n",
       "  <thead>\n",
       "    <tr style=\"text-align: right;\">\n",
       "      <th></th>\n",
       "      <th>name</th>\n",
       "      <th>platform</th>\n",
       "      <th>year_of_release</th>\n",
       "      <th>genre</th>\n",
       "      <th>na_sales</th>\n",
       "      <th>eu_sales</th>\n",
       "      <th>jp_sales</th>\n",
       "      <th>other_sales</th>\n",
       "      <th>critic_score</th>\n",
       "      <th>user_score</th>\n",
       "      <th>rating</th>\n",
       "    </tr>\n",
       "  </thead>\n",
       "  <tbody>\n",
       "    <tr>\n",
       "      <td>359</td>\n",
       "      <td>Just Dance 2014</td>\n",
       "      <td>Wii</td>\n",
       "      <td>2013</td>\n",
       "      <td>Misc</td>\n",
       "      <td>1880000</td>\n",
       "      <td>1390000</td>\n",
       "      <td>0</td>\n",
       "      <td>0</td>\n",
       "      <td>NaN</td>\n",
       "      <td>62</td>\n",
       "      <td>E10+</td>\n",
       "    </tr>\n",
       "    <tr>\n",
       "      <td>766</td>\n",
       "      <td>Skylanders SWAP Force</td>\n",
       "      <td>Wii</td>\n",
       "      <td>2013</td>\n",
       "      <td>Platform</td>\n",
       "      <td>1210000</td>\n",
       "      <td>750000</td>\n",
       "      <td>0</td>\n",
       "      <td>0</td>\n",
       "      <td>NaN</td>\n",
       "      <td>66</td>\n",
       "      <td>E10+</td>\n",
       "    </tr>\n",
       "    <tr>\n",
       "      <td>850</td>\n",
       "      <td>Just Dance 2015</td>\n",
       "      <td>Wii</td>\n",
       "      <td>2014</td>\n",
       "      <td>Misc</td>\n",
       "      <td>990000</td>\n",
       "      <td>850000</td>\n",
       "      <td>0</td>\n",
       "      <td>0</td>\n",
       "      <td>NaN</td>\n",
       "      <td>84</td>\n",
       "      <td>E10+</td>\n",
       "    </tr>\n",
       "    <tr>\n",
       "      <td>1049</td>\n",
       "      <td>Call of Duty: Black Ops 3</td>\n",
       "      <td>X360</td>\n",
       "      <td>2015</td>\n",
       "      <td>Shooter</td>\n",
       "      <td>1140000</td>\n",
       "      <td>400000</td>\n",
       "      <td>0</td>\n",
       "      <td>0</td>\n",
       "      <td>NaN</td>\n",
       "      <td>60</td>\n",
       "      <td>NaN</td>\n",
       "    </tr>\n",
       "    <tr>\n",
       "      <td>1158</td>\n",
       "      <td>Disney Infinity</td>\n",
       "      <td>Wii</td>\n",
       "      <td>2013</td>\n",
       "      <td>Action</td>\n",
       "      <td>1050000</td>\n",
       "      <td>410000</td>\n",
       "      <td>0</td>\n",
       "      <td>0</td>\n",
       "      <td>NaN</td>\n",
       "      <td>42</td>\n",
       "      <td>E10+</td>\n",
       "    </tr>\n",
       "    <tr>\n",
       "      <td>...</td>\n",
       "      <td>...</td>\n",
       "      <td>...</td>\n",
       "      <td>...</td>\n",
       "      <td>...</td>\n",
       "      <td>...</td>\n",
       "      <td>...</td>\n",
       "      <td>...</td>\n",
       "      <td>...</td>\n",
       "      <td>...</td>\n",
       "      <td>...</td>\n",
       "      <td>...</td>\n",
       "    </tr>\n",
       "    <tr>\n",
       "      <td>16612</td>\n",
       "      <td>Bakumatsu Rock: Ultra Soul</td>\n",
       "      <td>PSP</td>\n",
       "      <td>2014</td>\n",
       "      <td>Misc</td>\n",
       "      <td>0</td>\n",
       "      <td>0</td>\n",
       "      <td>10000</td>\n",
       "      <td>0</td>\n",
       "      <td>NaN</td>\n",
       "      <td>NaN</td>\n",
       "      <td>NaN</td>\n",
       "    </tr>\n",
       "    <tr>\n",
       "      <td>16646</td>\n",
       "      <td>Time Travelers</td>\n",
       "      <td>PSP</td>\n",
       "      <td>2012</td>\n",
       "      <td>Adventure</td>\n",
       "      <td>0</td>\n",
       "      <td>0</td>\n",
       "      <td>10000</td>\n",
       "      <td>0</td>\n",
       "      <td>NaN</td>\n",
       "      <td>60</td>\n",
       "      <td>NaN</td>\n",
       "    </tr>\n",
       "    <tr>\n",
       "      <td>16659</td>\n",
       "      <td>Hyakki Yagyou Kaidan Romance</td>\n",
       "      <td>PSP</td>\n",
       "      <td>2012</td>\n",
       "      <td>Action</td>\n",
       "      <td>0</td>\n",
       "      <td>0</td>\n",
       "      <td>10000</td>\n",
       "      <td>0</td>\n",
       "      <td>NaN</td>\n",
       "      <td>60</td>\n",
       "      <td>NaN</td>\n",
       "    </tr>\n",
       "    <tr>\n",
       "      <td>16691</td>\n",
       "      <td>Dynasty Warriors: Eiketsuden</td>\n",
       "      <td>PS3</td>\n",
       "      <td>2016</td>\n",
       "      <td>Action</td>\n",
       "      <td>0</td>\n",
       "      <td>0</td>\n",
       "      <td>10000</td>\n",
       "      <td>0</td>\n",
       "      <td>NaN</td>\n",
       "      <td>41</td>\n",
       "      <td>NaN</td>\n",
       "    </tr>\n",
       "    <tr>\n",
       "      <td>16710</td>\n",
       "      <td>Samurai Warriors: Sanada Maru</td>\n",
       "      <td>PS3</td>\n",
       "      <td>2016</td>\n",
       "      <td>Action</td>\n",
       "      <td>0</td>\n",
       "      <td>0</td>\n",
       "      <td>10000</td>\n",
       "      <td>0</td>\n",
       "      <td>NaN</td>\n",
       "      <td>41</td>\n",
       "      <td>NaN</td>\n",
       "    </tr>\n",
       "  </tbody>\n",
       "</table>\n",
       "<p>232 rows × 11 columns</p>\n",
       "</div>"
      ],
      "text/plain": [
       "                                name platform  year_of_release      genre  \\\n",
       "359                  Just Dance 2014      Wii             2013       Misc   \n",
       "766            Skylanders SWAP Force      Wii             2013   Platform   \n",
       "850                  Just Dance 2015      Wii             2014       Misc   \n",
       "1049       Call of Duty: Black Ops 3     X360             2015    Shooter   \n",
       "1158                 Disney Infinity      Wii             2013     Action   \n",
       "...                              ...      ...              ...        ...   \n",
       "16612     Bakumatsu Rock: Ultra Soul      PSP             2014       Misc   \n",
       "16646                 Time Travelers      PSP             2012  Adventure   \n",
       "16659   Hyakki Yagyou Kaidan Romance      PSP             2012     Action   \n",
       "16691   Dynasty Warriors: Eiketsuden      PS3             2016     Action   \n",
       "16710  Samurai Warriors: Sanada Maru      PS3             2016     Action   \n",
       "\n",
       "       na_sales  eu_sales  jp_sales  other_sales  critic_score  user_score  \\\n",
       "359     1880000   1390000         0            0           NaN          62   \n",
       "766     1210000    750000         0            0           NaN          66   \n",
       "850      990000    850000         0            0           NaN          84   \n",
       "1049    1140000    400000         0            0           NaN          60   \n",
       "1158    1050000    410000         0            0           NaN          42   \n",
       "...         ...       ...       ...          ...           ...         ...   \n",
       "16612         0         0     10000            0           NaN         NaN   \n",
       "16646         0         0     10000            0           NaN          60   \n",
       "16659         0         0     10000            0           NaN          60   \n",
       "16691         0         0     10000            0           NaN          41   \n",
       "16710         0         0     10000            0           NaN          41   \n",
       "\n",
       "      rating  \n",
       "359     E10+  \n",
       "766     E10+  \n",
       "850     E10+  \n",
       "1049     NaN  \n",
       "1158    E10+  \n",
       "...      ...  \n",
       "16612    NaN  \n",
       "16646    NaN  \n",
       "16659    NaN  \n",
       "16691    NaN  \n",
       "16710    NaN  \n",
       "\n",
       "[232 rows x 11 columns]"
      ]
     },
     "execution_count": 39,
     "metadata": {},
     "output_type": "execute_result"
    }
   ],
   "source": [
    "df[(df['critic_score'].isna() == True) | (df['user_score'].isna() == True)].query('year_of_release >= 2012')"
   ]
  },
  {
   "cell_type": "markdown",
   "metadata": {},
   "source": [
    "Заполним оставшиеся пропуски средним по жанру в общем за акутальный период."
   ]
  },
  {
   "cell_type": "code",
   "execution_count": 40,
   "metadata": {},
   "outputs": [],
   "source": [
    "skip_genres = df[(df['critic_score'].isna() == True) | (df['user_score'].isna() == True)].query('year_of_release >= 2012').genre.unique()"
   ]
  },
  {
   "cell_type": "code",
   "execution_count": 41,
   "metadata": {},
   "outputs": [],
   "source": [
    "critic_vocab = {}\n",
    "user_vocab = {}\n",
    "for genre in skip_genres:\n",
    "    critic_vocab[genre] = df.query('year_of_release >= 2012')[df['genre']== genre].critic_score.median()\n",
    "    user_vocab[genre] = df.query('year_of_release >= 2012')[df['genre']== genre].user_score.median()"
   ]
  },
  {
   "cell_type": "code",
   "execution_count": 42,
   "metadata": {},
   "outputs": [
    {
     "name": "stdout",
     "output_type": "stream",
     "text": [
      "{'Misc': 73.0, 'Platform': 75.0, 'Shooter': 75.0, 'Action': 73.0, 'Sports': 74.0, 'Adventure': 73.0, 'Strategy': 75.0, 'Simulation': 72.0, 'Fighting': 73.0, 'Role-Playing': 72.0, 'Racing': 74.0}\n",
      "\n",
      "{'Misc': 71.0, 'Platform': 71.0, 'Shooter': 68.0, 'Action': 71.0, 'Sports': 62.0, 'Adventure': 73.0, 'Strategy': 71.0, 'Simulation': 70.0, 'Fighting': 71.0, 'Role-Playing': 73.0, 'Racing': 66.0}\n"
     ]
    }
   ],
   "source": [
    "print(critic_vocab)\n",
    "print('')\n",
    "print(user_vocab)"
   ]
  },
  {
   "cell_type": "code",
   "execution_count": 43,
   "metadata": {},
   "outputs": [],
   "source": [
    "def set_score(row, vocab, score):\n",
    "    value = vocab.get(row['genre'])\n",
    "    row[score] = value\n",
    "    return row\n",
    "df[(df['critic_score'].isna() == True) & (df['year_of_release'] >= 2012)] = df[(df['critic_score'].isna() == True) & (df['year_of_release'] >= 2012)].apply(lambda x: set_score(x, critic_vocab,'critic_score'), axis = 1)\n",
    "df[(df['user_score'].isna() == True) & (df['year_of_release'] >= 2012)] = df[(df['user_score'].isna() == True) & (df['year_of_release'] >= 2012)].apply(lambda x: set_score(x, user_vocab, 'user_score'), axis = 1)"
   ]
  },
  {
   "cell_type": "code",
   "execution_count": 44,
   "metadata": {
    "scrolled": true
   },
   "outputs": [
    {
     "data": {
      "text/plain": [
       "name               0.000000\n",
       "platform           0.000000\n",
       "year_of_release    0.000000\n",
       "genre              0.000000\n",
       "na_sales           0.000000\n",
       "eu_sales           0.000000\n",
       "jp_sales           0.000000\n",
       "other_sales        0.000000\n",
       "critic_score       0.074994\n",
       "user_score         0.074515\n",
       "rating             0.404836\n",
       "dtype: float64"
      ]
     },
     "execution_count": 44,
     "metadata": {},
     "output_type": "execute_result"
    }
   ],
   "source": [
    "df.isna().mean()"
   ]
  },
  {
   "cell_type": "markdown",
   "metadata": {},
   "source": [
    "Оставшиеся пропуски в оценках нас не интересует в рамках проекта.<br>\n",
    "Разберемся с рейтингами.<br>\n",
    "Повторим всё то же для игр <2012 года."
   ]
  },
  {
   "cell_type": "code",
   "execution_count": 45,
   "metadata": {
    "scrolled": true
   },
   "outputs": [
    {
     "name": "stdout",
     "output_type": "stream",
     "text": [
      "{'Platform': 69.0, 'Role-Playing': 70.0, 'Puzzle': 66.0, 'Shooter': 71.0, 'Adventure': 68.0, 'Racing': 70.0, 'Action': 67.0, 'Fighting': 71.0, 'Strategy': 71.0, 'Misc': 67.0, 'Sports': 70.0, 'Simulation': 67.0}\n",
      "\n",
      "{'Platform': 78.0, 'Role-Playing': 76.0, 'Puzzle': 75.0, 'Shooter': 76.0, 'Adventure': 75.0, 'Racing': 77.0, 'Action': 75.0, 'Fighting': 78.0, 'Strategy': 77.0, 'Misc': 74.0, 'Sports': 76.0, 'Simulation': 75.0}\n"
     ]
    },
    {
     "data": {
      "text/plain": [
       "name               0.000000\n",
       "platform           0.000000\n",
       "year_of_release    0.000000\n",
       "genre              0.000000\n",
       "na_sales           0.000000\n",
       "eu_sales           0.000000\n",
       "jp_sales           0.000000\n",
       "other_sales        0.000000\n",
       "critic_score       0.000000\n",
       "user_score         0.000000\n",
       "rating             0.404836\n",
       "dtype: float64"
      ]
     },
     "execution_count": 45,
     "metadata": {},
     "output_type": "execute_result"
    }
   ],
   "source": [
    "skip_genres = df[(df['critic_score'].isna() == True) | (df['user_score'].isna() == True)].query('year_of_release < 2012').genre.unique()\n",
    "\n",
    "critic_vocab = {}\n",
    "user_vocab = {}\n",
    "for genre in skip_genres:\n",
    "    critic_vocab[genre] = df.query('year_of_release < 2012')[df['genre']== genre].critic_score.median()\n",
    "    user_vocab[genre] = df.query('year_of_release < 2012')[df['genre']== genre].user_score.median()\n",
    "\n",
    "print(critic_vocab)\n",
    "print('')\n",
    "print(user_vocab)\n",
    "\n",
    "def set_score(row, vocab, score):\n",
    "    value = vocab.get(row['genre'])\n",
    "    row[score] = value\n",
    "    return row\n",
    "df[(df['critic_score'].isna() == True) & (df['year_of_release'] < 2012)] = df[(df['critic_score'].isna() == True) & (df['year_of_release'] < 2012)].apply(lambda x: set_score(x, critic_vocab,'critic_score'), axis = 1)\n",
    "df[(df['user_score'].isna() == True) & (df['year_of_release'] < 2012)] = df[(df['user_score'].isna() == True) & (df['year_of_release'] < 2012)].apply(lambda x: set_score(x, user_vocab, 'user_score'), axis = 1)\n",
    "\n",
    "df.isna().mean()"
   ]
  },
  {
   "cell_type": "code",
   "execution_count": 46,
   "metadata": {},
   "outputs": [
    {
     "data": {
      "text/plain": [
       "[(nan, 5505), ('E', 3987), ('T', 2961), ('M', 1563), ('E10+', 1418), ('EC', 8)]"
      ]
     },
     "execution_count": 46,
     "metadata": {},
     "output_type": "execute_result"
    }
   ],
   "source": [
    "categories = Counter(df['rating']).most_common(6)\n",
    "categories"
   ]
  },
  {
   "cell_type": "code",
   "execution_count": 47,
   "metadata": {},
   "outputs": [
    {
     "data": {
      "text/plain": [
       "['E', 'M', 'T', 'E10+']"
      ]
     },
     "execution_count": 47,
     "metadata": {},
     "output_type": "execute_result"
    }
   ],
   "source": [
    "ratings = df['rating'].unique()\n",
    "rating = []\n",
    "for i,k in enumerate(ratings):\n",
    "    if (i !=1) and (i <5):\n",
    "        rating.append(k)\n",
    "rating"
   ]
  },
  {
   "cell_type": "code",
   "execution_count": 48,
   "metadata": {},
   "outputs": [
    {
     "data": {
      "text/plain": [
       "9944"
      ]
     },
     "execution_count": 48,
     "metadata": {},
     "output_type": "execute_result"
    }
   ],
   "source": [
    "len(df[df['rating'].isna() == False])"
   ]
  },
  {
   "cell_type": "code",
   "execution_count": 49,
   "metadata": {
    "scrolled": true
   },
   "outputs": [
    {
     "data": {
      "text/plain": [
       "9929"
      ]
     },
     "execution_count": 49,
     "metadata": {},
     "output_type": "execute_result"
    }
   ],
   "source": [
    "len(df[df['rating'].isin(rating)])"
   ]
  },
  {
   "cell_type": "markdown",
   "metadata": {},
   "source": [
    "Оставил 4 категории в которых больше всего значений, по ним будем заполнять пропуски."
   ]
  },
  {
   "cell_type": "code",
   "execution_count": 50,
   "metadata": {
    "scrolled": false
   },
   "outputs": [
    {
     "data": {
      "image/png": "[encoded data removed]",
      "text/plain": [
       "<Figure size 864x720 with 4 Axes>"
      ]
     },
     "metadata": {
      "needs_background": "light"
     },
     "output_type": "display_data"
    }
   ],
   "source": [
    "fig,ax = plt.subplots(2, 2)\n",
    "plt.subplots_adjust(wspace=0.2, hspace=0.5)\n",
    "\n",
    "for i, subplot in zip(rating, ax.flatten()):\n",
    "    df[df['rating'] == i].groupby('genre')['name'].agg('count').plot(kind = 'bar', figsize = (12,10), ax = subplot, title = i, ylim = (0,1200))\n"
   ]
  },
  {
   "cell_type": "code",
   "execution_count": 51,
   "metadata": {},
   "outputs": [
    {
     "data": {
      "text/plain": [
       "0.14289958407605466"
      ]
     },
     "execution_count": 51,
     "metadata": {},
     "output_type": "execute_result"
    }
   ],
   "source": [
    "len(df.query('genre == \"Action\" and rating == \"E10+\"'))/ len(df[df['genre'] == 'Action']) "
   ]
  },
  {
   "cell_type": "markdown",
   "metadata": {},
   "source": [
    "Точно можно присваивать рейтинг E спортивному жанру и гонкам, платформерам, misc, puzzle, M шутерам, Т fighting, role-play, strategy, simulation, adventure отнесем к Т (одинаковое кол-во с Е, выберем возраст повыше), проблемы с выбором категории у action, во всех категориях примерно одинаково игр с данным жанром. Выберем Е для action, чтобы была примерная середина возраста, при этом в среднем 14% игр будет на самом деле иметь рейтинг выше."
   ]
  },
  {
   "cell_type": "code",
   "execution_count": 52,
   "metadata": {},
   "outputs": [],
   "source": [
    "rating_vocab = {'E' : ['Sports', 'Racing', 'Platform', 'Misc', 'Puzzle', 'Action'], 'M' : ['Shooter'], 'T' : ['Role-Playing', 'Strategy', 'Simulation', 'Adventure','Fighting']}"
   ]
  },
  {
   "cell_type": "code",
   "execution_count": 53,
   "metadata": {},
   "outputs": [],
   "source": [
    "def set_rating(row):\n",
    "    for rating,genre in rating_vocab.items():\n",
    "        if row['genre'] in genre:\n",
    "            row['rating'] = rating\n",
    "    return row\n",
    "df[df['rating'].isna()] = df[df['rating'].isna()].apply(set_rating, axis = 1)"
   ]
  },
  {
   "cell_type": "code",
   "execution_count": 54,
   "metadata": {},
   "outputs": [
    {
     "data": {
      "text/plain": [
       "name               0.0\n",
       "platform           0.0\n",
       "year_of_release    0.0\n",
       "genre              0.0\n",
       "na_sales           0.0\n",
       "eu_sales           0.0\n",
       "jp_sales           0.0\n",
       "other_sales        0.0\n",
       "critic_score       0.0\n",
       "user_score         0.0\n",
       "rating             0.0\n",
       "dtype: float64"
      ]
     },
     "execution_count": 54,
     "metadata": {},
     "output_type": "execute_result"
    }
   ],
   "source": [
    "df.isna().mean()"
   ]
  },
  {
   "cell_type": "code",
   "execution_count": 55,
   "metadata": {},
   "outputs": [],
   "source": [
    "df['total_sales'] = df['na_sales'] + df['eu_sales'] + df['jp_sales'] + df['other_sales']"
   ]
  },
  {
   "cell_type": "markdown",
   "metadata": {},
   "source": [
    "Добавил столбец с общим количеством продаж"
   ]
  },
  {
   "cell_type": "markdown",
   "metadata": {},
   "source": [
    "<a href='#step_1'>Шаг 1. Получение общей информации.</a><br>\n",
    "<a href='#step_2'>Шаг 2. Предобработка данных.</a><br>\n",
    "<a href='#step_3'>Шаг 3. Исследовательский анализ данных.</a><br>\n",
    "<a href='#step_4'>Шаг 4. Проверка гипотез.</a><br>\n",
    "<a href='#step_5'>Вывод.</a><br>\n",
    "<a id = \"step_3\"></a>"
   ]
  },
  {
   "cell_type": "markdown",
   "metadata": {},
   "source": [
    "## Исследовательский анализ данных."
   ]
  },
  {
   "cell_type": "markdown",
   "metadata": {},
   "source": [
    "<a href='#step_1'>Шаг 1. Получение общей информации.</a><br>\n",
    "<a href='#step_2'>Шаг 2. Предобработка данных.</a><br>\n",
    "<a href='#step_3'>Шаг 3. Исследовательский анализ</a><br>\n",
    "<a href='#step_4'>Шаг 4. Картины пользователей</a><br>\n",
    "<a href='#step_5'>Шаг 5. Проверка гипотез</a><br>\n",
    "<a href='#step_5'>Вывод.</a>"
   ]
  },
  {
   "cell_type": "markdown",
   "metadata": {},
   "source": [
    "<a id = 'step_3'></a>"
   ]
  },
  {
   "cell_type": "code",
   "execution_count": 56,
   "metadata": {},
   "outputs": [
    {
     "data": {
      "text/plain": [
       "<matplotlib.axes._subplots.AxesSubplot at 0x7f2cf8441c90>"
      ]
     },
     "execution_count": 56,
     "metadata": {},
     "output_type": "execute_result"
    },
    {
     "data": {
      "image/png": "[encoded data removed]",
      "text/plain": [
       "<Figure size 432x288 with 1 Axes>"
      ]
     },
     "metadata": {
      "needs_background": "light"
     },
     "output_type": "display_data"
    }
   ],
   "source": [
    "df['year_of_release'].hist(bins = 100)"
   ]
  },
  {
   "cell_type": "markdown",
   "metadata": {},
   "source": [
    "нас будут интересовать данные c 2012 года, когда количество выпускаемых игр стало резко меньше и вышло на плато."
   ]
  },
  {
   "cell_type": "markdown",
   "metadata": {},
   "source": [
    "В среднем срок жизни платформы 9-11 лет. Взлет новой платформы в среднем составляет от 1 до 3 лет."
   ]
  },
  {
   "cell_type": "code",
   "execution_count": 57,
   "metadata": {},
   "outputs": [],
   "source": [
    "df_actual = df.query('year_of_release >= 2012')"
   ]
  },
  {
   "cell_type": "markdown",
   "metadata": {},
   "source": [
    "Выделил данные по продажам за 2012 год и далее, которые будут актуальны для дальнейшего анализа."
   ]
  },
  {
   "cell_type": "code",
   "execution_count": 58,
   "metadata": {
    "scrolled": true
   },
   "outputs": [],
   "source": [
    "platform_sales = df_actual.groupby('platform')['total_sales'].sum().sort_values(ascending = False)"
   ]
  },
  {
   "cell_type": "code",
   "execution_count": 59,
   "metadata": {},
   "outputs": [],
   "source": [
    "most_popular = platform_sales.index[:6]"
   ]
  },
  {
   "cell_type": "code",
   "execution_count": 60,
   "metadata": {},
   "outputs": [
    {
     "data": {
      "text/plain": [
       "Index(['PS4', 'PS3', 'X360', '3DS', 'XOne', 'WiiU'], dtype='object', name='platform')"
      ]
     },
     "execution_count": 60,
     "metadata": {},
     "output_type": "execute_result"
    }
   ],
   "source": [
    "most_popular"
   ]
  },
  {
   "cell_type": "markdown",
   "metadata": {},
   "source": [
    "Возьмем первые 6 популярных платформ."
   ]
  },
  {
   "cell_type": "code",
   "execution_count": 61,
   "metadata": {
    "scrolled": true
   },
   "outputs": [
    {
     "data": {
      "image/png": "[encoded data removed]",
      "text/plain": [
       "<Figure size 432x288 with 1 Axes>"
      ]
     },
     "metadata": {
      "needs_background": "light"
     },
     "output_type": "display_data"
    },
    {
     "data": {
      "image/png": "[encoded data removed]",
      "text/plain": [
       "<Figure size 432x288 with 1 Axes>"
      ]
     },
     "metadata": {
      "needs_background": "light"
     },
     "output_type": "display_data"
    },
    {
     "data": {
      "image/png": "[encoded data removed]",
      "text/plain": [
       "<Figure size 432x288 with 1 Axes>"
      ]
     },
     "metadata": {
      "needs_background": "light"
     },
     "output_type": "display_data"
    },
    {
     "data": {
      "image/png": "[encoded data removed]",
      "text/plain": [
       "<Figure size 432x288 with 1 Axes>"
      ]
     },
     "metadata": {
      "needs_background": "light"
     },
     "output_type": "display_data"
    },
    {
     "data": {
      "image/png": "[encoded data removed]",
      "text/plain": [
       "<Figure size 432x288 with 1 Axes>"
      ]
     },
     "metadata": {
      "needs_background": "light"
     },
     "output_type": "display_data"
    },
    {
     "data": {
      "image/png": "[encoded data removed]",
      "text/plain": [
       "<Figure size 432x288 with 1 Axes>"
      ]
     },
     "metadata": {
      "needs_background": "light"
     },
     "output_type": "display_data"
    }
   ],
   "source": [
    "for platform in most_popular:\n",
    "    df_actual[df_actual['platform'] == platform].groupby('year_of_release')['total_sales'].agg('sum').plot(kind = 'bar', ylim = (0,100000000))\n",
    "    plt.title(platform)\n",
    "    plt.ylabel('sales')\n",
    "    plt.show()"
   ]
  },
  {
   "cell_type": "markdown",
   "metadata": {},
   "source": [
    "Выберем XOne, 3DS, PS4 как потенциально прибыльные на фоне остальных."
   ]
  },
  {
   "cell_type": "code",
   "execution_count": 62,
   "metadata": {
    "scrolled": false
   },
   "outputs": [
    {
     "data": {
      "image/png": "[encoded data removed]",
      "text/plain": [
       "<Figure size 432x288 with 1 Axes>"
      ]
     },
     "metadata": {
      "needs_background": "light"
     },
     "output_type": "display_data"
    },
    {
     "name": "stdout",
     "output_type": "stream",
     "text": [
      "count    2.470000e+02\n",
      "mean     5.872470e+05\n",
      "std      9.424116e+05\n",
      "min      1.000000e+04\n",
      "25%      5.000000e+04\n",
      "50%      2.000000e+05\n",
      "75%      6.250000e+05\n",
      "max      6.710001e+06\n",
      "Name: total_sales, dtype: float64\n"
     ]
    },
    {
     "data": {
      "image/png": "[encoded data removed]",
      "text/plain": [
       "<Figure size 432x288 with 1 Axes>"
      ]
     },
     "metadata": {
      "needs_background": "light"
     },
     "output_type": "display_data"
    },
    {
     "name": "stdout",
     "output_type": "stream",
     "text": [
      "count    3.960000e+02\n",
      "mean     4.690404e+05\n",
      "std      1.312500e+06\n",
      "min      1.000000e+04\n",
      "25%      4.000000e+04\n",
      "50%      1.100000e+05\n",
      "75%      3.000000e+05\n",
      "max      1.382000e+07\n",
      "Name: total_sales, dtype: float64\n"
     ]
    },
    {
     "data": {
      "image/png": "[encoded data removed]",
      "text/plain": [
       "<Figure size 432x288 with 1 Axes>"
      ]
     },
     "metadata": {
      "needs_background": "light"
     },
     "output_type": "display_data"
    },
    {
     "name": "stdout",
     "output_type": "stream",
     "text": [
      "count    3.920000e+02\n",
      "mean     6.780358e+05\n",
      "std      1.355221e+06\n",
      "min      1.000000e+04\n",
      "25%      5.000000e+04\n",
      "50%      1.700000e+05\n",
      "75%      6.125000e+05\n",
      "max      1.225000e+07\n",
      "Name: total_sales, dtype: float64\n"
     ]
    }
   ],
   "source": [
    "for platform in ['XOne', '3DS', 'PS4']:\n",
    "    df_actual[df_actual['platform'] == platform]['total_sales'].plot(kind = 'box')\n",
    "    plt.title(platform)\n",
    "    plt.ylabel('sales')\n",
    "    plt.show()\n",
    "    print(df_actual[df_actual['platform'] == platform]['total_sales'].describe())"
   ]
  },
  {
   "cell_type": "markdown",
   "metadata": {},
   "source": [
    "среднее всех платформ находится в диапозоне 460-680 тыс. копий. у PS4 среднее кол-во продаж выше остальных, выделим её как самую прибыльную."
   ]
  },
  {
   "cell_type": "code",
   "execution_count": 63,
   "metadata": {},
   "outputs": [
    {
     "name": "stdout",
     "output_type": "stream",
     "text": [
      "                 year_of_release  na_sales  eu_sales  jp_sales  other_sales  \\\n",
      "year_of_release         1.000000 -0.248961 -0.208306 -0.060993    -0.139016   \n",
      "na_sales               -0.248961  1.000000  0.785362  0.472981     0.822409   \n",
      "eu_sales               -0.208306  0.785362  1.000000  0.464563     0.828438   \n",
      "jp_sales               -0.060993  0.472981  0.464563  1.000000     0.430252   \n",
      "other_sales            -0.139016  0.822409  0.828438  0.430252     1.000000   \n",
      "critic_score           -0.030858  0.315633  0.294637  0.254882     0.251841   \n",
      "user_score              0.180484 -0.044425 -0.070444  0.148913    -0.056234   \n",
      "total_sales            -0.234974  0.924729  0.960270  0.532665     0.871830   \n",
      "\n",
      "                 critic_score  user_score  total_sales  \n",
      "year_of_release     -0.030858    0.180484    -0.234974  \n",
      "na_sales             0.315633   -0.044425     0.924729  \n",
      "eu_sales             0.294637   -0.070444     0.960270  \n",
      "jp_sales             0.254882    0.148913     0.532665  \n",
      "other_sales          0.251841   -0.056234     0.871830  \n",
      "critic_score         1.000000    0.542281     0.325230  \n",
      "user_score           0.542281    1.000000    -0.053689  \n",
      "total_sales          0.325230   -0.053689     1.000000  \n"
     ]
    },
    {
     "data": {
      "text/plain": [
       "<matplotlib.axes._subplots.AxesSubplot at 0x7f2cf83b6d50>"
      ]
     },
     "execution_count": 63,
     "metadata": {},
     "output_type": "execute_result"
    },
    {
     "data": {
      "image/png": "[encoded data removed]",
      "text/plain": [
       "<Figure size 432x288 with 1 Axes>"
      ]
     },
     "metadata": {
      "needs_background": "light"
     },
     "output_type": "display_data"
    }
   ],
   "source": [
    "print(df_actual[df['platform'] == 'PS4'].corr())\n",
    "df_actual[df['platform'] == 'PS4'].plot(kind = 'scatter', y = 'total_sales', x = 'critic_score')"
   ]
  },
  {
   "cell_type": "markdown",
   "metadata": {},
   "source": [
    "Корреляция между оценкой критиков и кол-вом продаж небольшая положительная, нельзя утверждать, что есть явная связь, но, возможно, она есть в какой-то степени, корреляция с оценками пользователей маленькая отриацтельная, вероятно, что никакой связи нет. Выглядит логично, часто влияние оказывает мнение экспертов и бывает, что влияет мнение покупателей."
   ]
  },
  {
   "cell_type": "code",
   "execution_count": 64,
   "metadata": {
    "scrolled": false
   },
   "outputs": [
    {
     "name": "stdout",
     "output_type": "stream",
     "text": [
      "XOne\n",
      "                 year_of_release  na_sales  eu_sales  jp_sales  other_sales  \\\n",
      "year_of_release         1.000000 -0.242667 -0.194925 -0.127050     0.003257   \n",
      "na_sales               -0.242667  1.000000  0.765367  0.425725     0.426813   \n",
      "eu_sales               -0.194925  0.765367  1.000000  0.421071     0.332483   \n",
      "jp_sales               -0.127050  0.425725  0.421071  1.000000     0.106916   \n",
      "other_sales             0.003257  0.426813  0.332483  0.106916     1.000000   \n",
      "critic_score            0.063963  0.298422  0.309587  0.179831     0.011092   \n",
      "user_score              0.073488 -0.072578 -0.062731  0.057128     0.001018   \n",
      "total_sales            -0.238635  0.968160  0.902079  0.453563     0.415068   \n",
      "\n",
      "                 critic_score  user_score  total_sales  \n",
      "year_of_release      0.063963    0.073488    -0.238635  \n",
      "na_sales             0.298422   -0.072578     0.968160  \n",
      "eu_sales             0.309587   -0.062731     0.902079  \n",
      "jp_sales             0.179831    0.057128     0.453563  \n",
      "other_sales          0.011092    0.001018     0.415068  \n",
      "critic_score         1.000000    0.427570     0.320678  \n",
      "user_score           0.427570    1.000000    -0.072570  \n",
      "total_sales          0.320678   -0.072570     1.000000  \n"
     ]
    },
    {
     "data": {
      "image/png": "[encoded data removed]",
      "text/plain": [
       "<Figure size 432x288 with 1 Axes>"
      ]
     },
     "metadata": {
      "needs_background": "light"
     },
     "output_type": "display_data"
    },
    {
     "name": "stdout",
     "output_type": "stream",
     "text": [
      "----------------------------------------\n",
      "3DS\n",
      "                 year_of_release  na_sales  eu_sales  jp_sales  other_sales  \\\n",
      "year_of_release         1.000000 -0.082787 -0.086559 -0.033883    -0.048998   \n",
      "na_sales               -0.082787  1.000000  0.931508  0.666101     0.764311   \n",
      "eu_sales               -0.086559  0.931508  1.000000  0.684292     0.786419   \n",
      "jp_sales               -0.033883  0.666101  0.684292  1.000000     0.483539   \n",
      "other_sales            -0.048998  0.764311  0.786419  0.483539     1.000000   \n",
      "critic_score           -0.004240  0.122687  0.102384  0.122003     0.009103   \n",
      "user_score              0.091572  0.045076  0.018895  0.089062    -0.019164   \n",
      "total_sales            -0.071052  0.933635  0.936056  0.877384     0.724795   \n",
      "\n",
      "                 critic_score  user_score  total_sales  \n",
      "year_of_release     -0.004240    0.091572    -0.071052  \n",
      "na_sales             0.122687    0.045076     0.933635  \n",
      "eu_sales             0.102384    0.018895     0.936056  \n",
      "jp_sales             0.122003    0.089062     0.877384  \n",
      "other_sales          0.009103   -0.019164     0.724795  \n",
      "critic_score         1.000000    0.650138     0.128145  \n",
      "user_score           0.650138    1.000000     0.060341  \n",
      "total_sales          0.128145    0.060341     1.000000  \n"
     ]
    },
    {
     "data": {
      "image/png": "[encoded data removed]",
      "text/plain": [
       "<Figure size 432x288 with 1 Axes>"
      ]
     },
     "metadata": {
      "needs_background": "light"
     },
     "output_type": "display_data"
    },
    {
     "name": "stdout",
     "output_type": "stream",
     "text": [
      "----------------------------------------\n"
     ]
    }
   ],
   "source": [
    "for platform in ['XOne', '3DS']:\n",
    "    print(platform)\n",
    "    print(df_actual[df['platform'] == platform].corr())\n",
    "    df_actual[df['platform'] == platform].plot(kind = 'scatter', y = 'total_sales', x = 'critic_score')\n",
    "    plt.show()\n",
    "    print('-'*40)"
   ]
  },
  {
   "cell_type": "markdown",
   "metadata": {},
   "source": [
    "Те же значения корреляции наблюдаются на платформе XOne, у 3DS коэффициенты корреляции меньше, возможно никакой связи между оценкой критиков и кол-вом продаж на этой платформе нет, стоит отметить, что на этой платформе корреляция с оценкой пользователя положительная, но все равно очень маленькая."
   ]
  },
  {
   "cell_type": "code",
   "execution_count": 65,
   "metadata": {},
   "outputs": [
    {
     "data": {
      "text/plain": [
       "<matplotlib.axes._subplots.AxesSubplot at 0x7f2cf719f450>"
      ]
     },
     "execution_count": 65,
     "metadata": {},
     "output_type": "execute_result"
    },
    {
     "data": {
      "image/png": "[encoded data removed]",
      "text/plain": [
       "<Figure size 432x288 with 1 Axes>"
      ]
     },
     "metadata": {
      "needs_background": "light"
     },
     "output_type": "display_data"
    }
   ],
   "source": [
    "df_actual.groupby('genre')['total_sales'].agg('sum').plot(kind = 'bar')"
   ]
  },
  {
   "cell_type": "code",
   "execution_count": 66,
   "metadata": {},
   "outputs": [
    {
     "data": {
      "text/plain": [
       "4670000"
      ]
     },
     "execution_count": 66,
     "metadata": {},
     "output_type": "execute_result"
    }
   ],
   "source": [
    "df_actual[df_actual['genre'] == 'Puzzle']['total_sales'].sum()"
   ]
  },
  {
   "cell_type": "markdown",
   "metadata": {},
   "source": [
    "Самые частый и прибыльныq жанр - action, почти 400 миллионов продаж. Он сильно выделяются на общем фоне, как и самый редкий - puzzle, 4.7 миллиона."
   ]
  },
  {
   "cell_type": "markdown",
   "metadata": {},
   "source": [
    "## Картины пользователей"
   ]
  },
  {
   "cell_type": "markdown",
   "metadata": {},
   "source": [
    "<a href='#step_1'>Шаг 1. Получение общей информации.</a><br>\n",
    "<a href='#step_2'>Шаг 2. Предобработка данных.</a><br>\n",
    "<a href='#step_3'>Шаг 3. Исследовательский анализ</a><br>\n",
    "<a href='#step_4'>Шаг 4. Картины пользователей</a><br>\n",
    "<a href='#step_5'>Шаг 5. Проверка гипотез</a><br>\n",
    "<a href='#step_5'>Вывод.</a>"
   ]
  },
  {
   "cell_type": "markdown",
   "metadata": {},
   "source": [
    "<a id = 'step_4'></a>"
   ]
  },
  {
   "cell_type": "code",
   "execution_count": 67,
   "metadata": {},
   "outputs": [
    {
     "name": "stdout",
     "output_type": "stream",
     "text": [
      "top 5 platform in na\n"
     ]
    },
    {
     "data": {
      "text/plain": [
       "platform\n",
       "X360    140050000\n",
       "PS4     108740000\n",
       "PS3     103380000\n",
       "XOne     93120000\n",
       "3DS      55310000\n",
       "Name: na_sales, dtype: Int64"
      ]
     },
     "metadata": {},
     "output_type": "display_data"
    },
    {
     "name": "stdout",
     "output_type": "stream",
     "text": [
      "----------------------------------------\n",
      "top 5 platform in eu\n"
     ]
    },
    {
     "data": {
      "text/plain": [
       "platform\n",
       "PS4     141090000\n",
       "PS3     106860000\n",
       "X360     74520000\n",
       "XOne     51590000\n",
       "3DS      42640000\n",
       "Name: eu_sales, dtype: Int64"
      ]
     },
     "metadata": {},
     "output_type": "display_data"
    },
    {
     "name": "stdout",
     "output_type": "stream",
     "text": [
      "----------------------------------------\n",
      "top 5 platform in jp\n"
     ]
    },
    {
     "data": {
      "text/plain": [
       "platform\n",
       "3DS     87790000\n",
       "PS3     35290000\n",
       "PSV     21110000\n",
       "PS4     15960000\n",
       "WiiU    13010000\n",
       "Name: jp_sales, dtype: Int64"
      ]
     },
     "metadata": {},
     "output_type": "display_data"
    },
    {
     "name": "stdout",
     "output_type": "stream",
     "text": [
      "----------------------------------------\n"
     ]
    }
   ],
   "source": [
    "regions = ['na_sales', 'eu_sales', 'jp_sales']\n",
    "for region in regions:\n",
    "    print('top 5 platform in '+region.split('_')[0])\n",
    "    display(df_actual.groupby('platform')[region].agg('sum').sort_values(ascending = False).head(5))\n",
    "    print('-'*40)"
   ]
  },
  {
   "cell_type": "markdown",
   "metadata": {},
   "source": [
    "топ 5 платформ по регионам. В каждом регионе преобладает над другими разные платформы. Во всех регионах PS3 держится в топ 2-3 рейтинга. В Японии XOne и X360 не распространенны, а в Америке и Европе нет Wii."
   ]
  },
  {
   "cell_type": "code",
   "execution_count": 68,
   "metadata": {},
   "outputs": [
    {
     "name": "stdout",
     "output_type": "stream",
     "text": [
      "top 5 genres in na\n"
     ]
    },
    {
     "data": {
      "text/plain": [
       "genre\n",
       "Action          177840000\n",
       "Shooter         144770000\n",
       "Sports           81530000\n",
       "Role-Playing     64110000\n",
       "Misc             37720000\n",
       "Name: na_sales, dtype: Int64"
      ]
     },
     "metadata": {},
     "output_type": "display_data"
    },
    {
     "name": "stdout",
     "output_type": "stream",
     "text": [
      "----------------------------------------\n",
      "top 5 genres in eu\n"
     ]
    },
    {
     "data": {
      "text/plain": [
       "genre\n",
       "Action          159300000\n",
       "Shooter         113470000\n",
       "Sports           69090000\n",
       "Role-Playing     48580000\n",
       "Racing           27290000\n",
       "Name: eu_sales, dtype: Int64"
      ]
     },
     "metadata": {},
     "output_type": "display_data"
    },
    {
     "name": "stdout",
     "output_type": "stream",
     "text": [
      "----------------------------------------\n",
      "top 5 genres in jp\n"
     ]
    },
    {
     "data": {
      "text/plain": [
       "genre\n",
       "Role-Playing    65510000\n",
       "Action          52800000\n",
       "Misc            12860000\n",
       "Simulation      10410000\n",
       "Fighting         9440000\n",
       "Name: jp_sales, dtype: Int64"
      ]
     },
     "metadata": {},
     "output_type": "display_data"
    },
    {
     "name": "stdout",
     "output_type": "stream",
     "text": [
      "----------------------------------------\n"
     ]
    }
   ],
   "source": [
    "regions = ['na_sales', 'eu_sales', 'jp_sales']\n",
    "for region in regions:\n",
    "    print('top 5 genres in '+region.split('_')[0])\n",
    "    display(df_actual.groupby('genre')[region].agg('sum').sort_values(ascending = False).head(5))\n",
    "    print('-'*40)"
   ]
  },
  {
   "cell_type": "markdown",
   "metadata": {},
   "source": [
    "Топ 5 жанров по регионам. Во всех регионах в топе держится жанр Экшн. В NA и EU почти одинаковый рейтинг жанров, кроме 5 места. В Японии он отличается и порядком и жанрами."
   ]
  },
  {
   "cell_type": "markdown",
   "metadata": {},
   "source": [
    "Видно, что в основном предпочтения жителей NA и EU совпадают и сильно разнятся с JP регионом."
   ]
  },
  {
   "cell_type": "code",
   "execution_count": 69,
   "metadata": {},
   "outputs": [
    {
     "data": {
      "image/png": "[encoded data removed]",
      "text/plain": [
       "<Figure size 720x720 with 4 Axes>"
      ]
     },
     "metadata": {
      "needs_background": "light"
     },
     "output_type": "display_data"
    }
   ],
   "source": [
    "fig,ax = plt.subplots(2, 2)\n",
    "plt.subplots_adjust(wspace=0.2, hspace=0.5)\n",
    "\n",
    "for region,subplot in zip(regions, ax.flatten()):\n",
    "\n",
    "    df_actual.groupby('rating')[region].agg('sum').plot(kind = 'bar', ylim = (0,250000000),figsize =(10,10), ax = subplot, title = region.split('_')[0])\n"
   ]
  },
  {
   "cell_type": "markdown",
   "metadata": {},
   "source": [
    "Влияние рейтинга на количество покупок наблюдается. В NA и EU тенденция одинаковая (больше покупают игры с рейтингом M, меньше - E10+), но разное количество покупок. В Японии другая тенденция (чаще покупают игры с рейтингом T, реже - E10+). Можно сделать предположение, что во всех регионах реже остальных покупают игры с рейтингом E10+, но, возможно, ситуация бы изменилась, если бы в Японии было большее количество покупок."
   ]
  },
  {
   "cell_type": "markdown",
   "metadata": {},
   "source": [
    "## Проверка гипотез."
   ]
  },
  {
   "cell_type": "markdown",
   "metadata": {},
   "source": [
    "<a href='#step_1'>Шаг 1. Получение общей информации.</a><br>\n",
    "<a href='#step_2'>Шаг 2. Предобработка данных.</a><br>\n",
    "<a href='#step_3'>Шаг 3. Исследовательский анализ</a><br>\n",
    "<a href='#step_4'>Шаг 4. Картины пользователей</a><br>\n",
    "<a href='#step_5'>Шаг 5. Проверка гипотез</a><br>\n",
    "<a href='#step_5'>Вывод.</a>"
   ]
  },
  {
   "cell_type": "markdown",
   "metadata": {},
   "source": [
    "<a id = 'step_5'></a>"
   ]
  },
  {
   "cell_type": "markdown",
   "metadata": {},
   "source": [
    "Нулевая гипотеза: средние пользовательские рейтинги платформ Xbox One и PC одинаковые, альтернативная - разные."
   ]
  },
  {
   "cell_type": "code",
   "execution_count": 70,
   "metadata": {},
   "outputs": [],
   "source": [
    "df_pc = df.query('platform == \"PC\"')\n",
    "df_xone = df.query('platform == \"XOne\"')"
   ]
  },
  {
   "cell_type": "code",
   "execution_count": 71,
   "metadata": {},
   "outputs": [
    {
     "data": {
      "text/plain": [
       "count    974.000000\n",
       "mean      71.172485\n",
       "std       13.933369\n",
       "min       14.000000\n",
       "25%       66.000000\n",
       "50%       75.000000\n",
       "75%       81.000000\n",
       "max       93.000000\n",
       "Name: user_score, dtype: float64"
      ]
     },
     "metadata": {},
     "output_type": "display_data"
    },
    {
     "data": {
      "text/plain": [
       "count    247.000000\n",
       "mean      65.809717\n",
       "std       11.940581\n",
       "min       16.000000\n",
       "25%       61.000000\n",
       "50%       68.000000\n",
       "75%       72.000000\n",
       "max       92.000000\n",
       "Name: user_score, dtype: float64"
      ]
     },
     "execution_count": 71,
     "metadata": {},
     "output_type": "execute_result"
    }
   ],
   "source": [
    "display(df_pc['user_score'].describe())\n",
    "df_xone['user_score'].describe()"
   ]
  },
  {
   "cell_type": "code",
   "execution_count": 72,
   "metadata": {
    "scrolled": true
   },
   "outputs": [
    {
     "data": {
      "image/png": "[encoded data removed]",
      "text/plain": [
       "<Figure size 648x504 with 1 Axes>"
      ]
     },
     "metadata": {
      "needs_background": "light"
     },
     "output_type": "display_data"
    },
    {
     "data": {
      "image/png": "[encoded data removed]",
      "text/plain": [
       "<Figure size 648x504 with 1 Axes>"
      ]
     },
     "metadata": {
      "needs_background": "light"
     },
     "output_type": "display_data"
    }
   ],
   "source": [
    "for df in [df_pc, df_xone]:\n",
    "    df['user_score'].plot(kind = 'hist',figsize =(9,7), ylim = (0,250))\n",
    "    plt.xlabel('user_score')\n",
    "    plt.show() "
   ]
  },
  {
   "cell_type": "markdown",
   "metadata": {},
   "source": [
    "На основе распределений возьмем equal_var = False. (Возможно, лучше будет взять тест Манна-Уитни)"
   ]
  },
  {
   "cell_type": "code",
   "execution_count": 73,
   "metadata": {
    "scrolled": true
   },
   "outputs": [
    {
     "name": "stdout",
     "output_type": "stream",
     "text": [
      "var df_pc = 194.1, var df_xone = 142.6\n"
     ]
    }
   ],
   "source": [
    "print('var df_pc = {:.1f}, var df_xone = {:.1f}'.format(df_pc['user_score'].var(), df_xone['user_score'].var()))"
   ]
  },
  {
   "cell_type": "markdown",
   "metadata": {},
   "source": [
    "Alpha возьму 0.05 для несильно строго теста."
   ]
  },
  {
   "cell_type": "code",
   "execution_count": 74,
   "metadata": {},
   "outputs": [
    {
     "name": "stdout",
     "output_type": "stream",
     "text": [
      "pvalue =  2.561043099244552e-09\n",
      "Отвергаем нулевую гипотезу\n"
     ]
    }
   ],
   "source": [
    "alpha = 0.05\n",
    "results = st.ttest_ind(df_pc['user_score'], df_xone['user_score'], equal_var = False)\n",
    "print('pvalue = ', results.pvalue)\n",
    "if results.pvalue < alpha:\n",
    "    print('Отвергаем нулевую гипотезу')\n",
    "else:\n",
    "    print('Не отвергаем нулевую гипотезу')"
   ]
  },
  {
   "cell_type": "markdown",
   "metadata": {},
   "source": [
    "Отвергаем нулевую гипотезу - средние пользовательские рейтинги платформ Xbox One и PC разные. "
   ]
  },
  {
   "cell_type": "code",
   "execution_count": 75,
   "metadata": {},
   "outputs": [],
   "source": [
    "df_action = df.query('genre ==\"Action\"')\n",
    "df_sports = df.query('genre ==\"Sports\"')"
   ]
  },
  {
   "cell_type": "code",
   "execution_count": 76,
   "metadata": {
    "scrolled": true
   },
   "outputs": [
    {
     "data": {
      "text/plain": [
       "count    85.000000\n",
       "mean     67.388235\n",
       "std       9.389830\n",
       "min      31.000000\n",
       "25%      66.000000\n",
       "50%      68.000000\n",
       "75%      71.000000\n",
       "max      88.000000\n",
       "Name: user_score, dtype: float64"
      ]
     },
     "metadata": {},
     "output_type": "display_data"
    },
    {
     "data": {
      "text/plain": [
       "count    38.000000\n",
       "mean     56.815789\n",
       "std      12.668017\n",
       "min      21.000000\n",
       "25%      54.250000\n",
       "50%      59.500000\n",
       "75%      63.750000\n",
       "max      83.000000\n",
       "Name: user_score, dtype: float64"
      ]
     },
     "execution_count": 76,
     "metadata": {},
     "output_type": "execute_result"
    }
   ],
   "source": [
    "display(df_action['user_score'].describe())\n",
    "df_sports['user_score'].describe()"
   ]
  },
  {
   "cell_type": "markdown",
   "metadata": {},
   "source": [
    "Нулевая гипотеза - Средние пользовательские рейтинги жанров Action и Sports одинаковые, альтернативная - разные.<br>\n",
    "Дисперсии одинаковые, потому что примерно равны станд. отклонения."
   ]
  },
  {
   "cell_type": "code",
   "execution_count": 77,
   "metadata": {
    "scrolled": true
   },
   "outputs": [
    {
     "data": {
      "image/png": "[encoded data removed]",
      "text/plain": [
       "<Figure size 648x504 with 1 Axes>"
      ]
     },
     "metadata": {
      "needs_background": "light"
     },
     "output_type": "display_data"
    },
    {
     "data": {
      "image/png": "[encoded data removed]",
      "text/plain": [
       "<Figure size 648x504 with 1 Axes>"
      ]
     },
     "metadata": {
      "needs_background": "light"
     },
     "output_type": "display_data"
    }
   ],
   "source": [
    "for df in [df_action, df_sports]:\n",
    "    df['user_score'].plot(kind = 'hist',figsize =(9,7), ylim = (0,50))\n",
    "    plt.xlabel('user_score')\n",
    "    plt.show() "
   ]
  },
  {
   "cell_type": "code",
   "execution_count": 78,
   "metadata": {
    "scrolled": true
   },
   "outputs": [
    {
     "name": "stdout",
     "output_type": "stream",
     "text": [
      "var df_action = 88.2, var df_sports = 160.5\n"
     ]
    }
   ],
   "source": [
    "print('var df_action = {:.1f}, var df_sports = {:.1f}'.format(df_action['user_score'].var(), df_sports['user_score'].var()))"
   ]
  },
  {
   "cell_type": "code",
   "execution_count": 79,
   "metadata": {},
   "outputs": [
    {
     "name": "stdout",
     "output_type": "stream",
     "text": [
      "pvalue =  2.384745082394302e-05\n",
      "Отвергаем нулевую гипотезу\n"
     ]
    }
   ],
   "source": [
    "results = st.ttest_ind(df_action['user_score'], df_sports['user_score'], equal_var = False)\n",
    "print('pvalue = ', results.pvalue)\n",
    "if results.pvalue < alpha:\n",
    "    print('Отвергаем нулевую гипотезу')\n",
    "else:\n",
    "    print('Не отвергаем нулевую гипотезу')"
   ]
  },
  {
   "cell_type": "markdown",
   "metadata": {},
   "source": [
    "Отвергаем нулевую гипотезу - средние пользовательские рейтинги жанров Action и Sports разные."
   ]
  },
  {
   "cell_type": "markdown",
   "metadata": {},
   "source": [
    "## Общий вывод."
   ]
  },
  {
   "cell_type": "markdown",
   "metadata": {},
   "source": [
    "<a href='#step_1'>Шаг 1. Получение общей информации.</a><br>\n",
    "<a href='#step_2'>Шаг 2. Предобработка данных.</a><br>\n",
    "<a href='#step_3'>Шаг 3. Исследовательский анализ</a><br>\n",
    "<a href='#step_4'>Шаг 4. Картины пользователей</a><br>\n",
    "<a href='#step_5'>Шаг 5. Проверка гипотез</a><br>\n",
    "<a href='#step_6'>Вывод.</a>"
   ]
  },
  {
   "cell_type": "markdown",
   "metadata": {},
   "source": [
    "<a id = 'step_6'></a>"
   ]
  },
  {
   "cell_type": "markdown",
   "metadata": {},
   "source": [
    "<p>С первого взгляда на таблицу можно заметить разный регистр в названиях столбцов, пропуски в данных, количество копий в млн. неудобно для дальенйших расчетов, оценки критиков и пользователей в разных форматах.</p>\n",
    "\n",
    "<p>Были приведены к нижнему регистру названия столбцов и проверены глазами возможные наименования платформы на наличие разных регистров у одного названия.</p>\n",
    "\n",
    "<p>Тип year_of_release переведен в int, все *_sales в int с домножением на миллион, critic_score в int, user_score в int с домножением на 10 для одинакового формата с оценками критиков</p>\n",
    "\n",
    "<p>Заполнил пропуски в годах игр, в названии которых указан год. Из года в названии надо вычесть единицу, потому что обычно игры выпускались на год раньше, чем указан в названии. Все подобные игры это симуляторы спорта.</p>\n",
    "\n",
    "<p>Пропуски в годах скорее всего появились из-за отсутствия информации о годе выпуска игры в определенном источнике</p>\n",
    "\n",
    "<p>tbd может появиться в результате недостаточного количества голосов пользователей для выставления оценки. Возможно, у игр одинаковое количество голосов на краях значений (1 и 10) и система не может определить игру с средней оценкой 5, так как это не корректно. Другим вариантом может быть недостаточное количество оценок из разных регионов для выставления общей оценки.<br>\n",
    "Заменил значения tbd средним по жанрам за соответствующий год.</p>\n",
    "\n",
    "<p>Удалил оставшиеся игры, по которым нельщя предсказать оценки. Их мало, поэтому ничего не теряется.</p>\n",
    "\n",
    "<p>Пропуски в оценках есть и у старых, и у новых игр, которые как и покупали часто, так и почти не покупали. Возможно данные взяты с источника без оценок игр. У новых игр возможно еще не выставлены оценки из-за выхода игры в 2016, по которому нет данных, либо игру еще не оценивали.<br>\n",
    "\n",
    "Заполнил средними по жанрам за соответствующий год. Заполним оставшиеся пропуски средним по жанру в общем за акутальный период. Нас будут интересовать данные c 2012 года, когда количество выпускаемых игр стало резко меньше и вышло на плато. Повторил всё то же для игр меньше 2012 года выпуска.</p>\n",
    "<p>Выделил 4 категории в которых больше всего значений, по ним будем заполнять пропуски.<br>\n",
    "Точно можно присваивать рейтинг E спортивному жанру и гонкам, платформерам, misc, puzzle, M шутерам, Т fighting, role-play, strategy, simulation, adventure отнесем к Т (одинаковое кол-во с Е, выберем возраст повыше), проблемы с выбором категории у action, во всех категориях примерно одинаково игр с данным жанром. Выберем Е для action, чтобы была примерная середина возраста, при этом в среднем 14% игр будет на самом деле иметь рейтинг выше.</p>\n",
    "\n",
    "<p>В среднем срок жизни платформы 9-11 лет. Взлет новой платформы в среднем составляет от 1 до 3 лет.</p>\n",
    "\n",
    "<p>Выбрал XOne, 3DS, PS4 как потенциально прибыльные на фоне остальных. Среднее всех платформ находится в диапозоне 460-680 тыс. копий. у PS4 среднее кол-во продаж выше остальных, выделим её как самую прибыльную.</p>\n",
    "\n",
    "<p>Корреляция между оценкой критиков и кол-вом продаж небольшая положительная, нельзя утверждать, что есть явная связь, но, возможно, она есть в какой-то степени, корреляция с оценками пользователей маленькая отриацтельная, вероятно, что никакой связи нет. Выглядит логично, часто влияние оказывает мнение экспертов и бывает, что влияет мнение покупателей.<br>\n",
    "Те же значения корреляции наблюдаются на платформе XOne, у 3DS коэффициенты корреляции меньше, возможно никакой связи между оценкой критиков и кол-вом продаж на этой платформе нет, стоит отметить, что на этой платформе корреляция с оценкой пользователя положительная, но все равно очень маленькая.</p>\n",
    "\n",
    "<p>Самые частый и прибыльныq жанр - action, почти 400 миллионов продаж. Он сильно выделяются на общем фоне, как и самый редкий - puzzle, 4.7 миллиона.</p>\n",
    "\n",
    "<p>Выделил топ 5 платформ по регионам. В каждом регионе преобладают над другими разные платформы. Во всех регионах PS3 держится в топ 2-3 рейтинга. В Японии XOne и X360 не распространенны, а в Америке и Европе нет Wii.<br>\n",
    "Выделил топ 5 жанров по регионам. Во всех регионах в топе держится жанр Экшн. В NA и EU почти одинаковый рейтинг жанров, кроме 5 места. В Японии он отличается и порядком и жанрами.<br>\n",
    "\n",
    "Заметно, что в основном предпочтения жителей NA и EU совпадают и сильно разнятся с JP регионом.</p>\n",
    "\n",
    "<p>Влияние рейтинга на количество покупок наблюдается. В NA и EU тенденция одинаковая (больше покупают игры с рейтингом M, меньше - E10+), но разное количество покупок. В Японии другая тенденция (чаще покупают игры с рейтингом T, реже - E10+). Можно сделать предположение, что во всех регионах реже остальных покупают игры с рейтингом E10+, но, возможно, ситуация бы изменилась, если бы в Японии было большее количество покупок.</p>\n",
    "\n",
    "Проверены гипотезы, дисперсии взяты одинаковые, потому что примерно равны станд. отклонения, и сделаны выводы:<ul>\n",
    "   <li> средние пользовательские рейтинги платформ Xbox One и PC разные.</li>\n",
    "    <li>средние пользовательские рейтинги жанров Action и Sports разные.</li></ul>"
   ]
  }
 ],
 "metadata": {
  "kernelspec": {
   "display_name": "Python 3",
   "language": "python",
   "name": "python3"
  },
  "language_info": {
   "codemirror_mode": {
    "name": "ipython",
    "version": 3
   },
   "file_extension": ".py",
   "mimetype": "text/x-python",
   "name": "python",
   "nbconvert_exporter": "python",
   "pygments_lexer": "ipython3",
   "version": "3.7.8"
  },
  "toc": {
   "base_numbering": 1,
   "nav_menu": {},
   "number_sections": true,
   "sideBar": true,
   "skip_h1_title": true,
   "title_cell": "Table of Contents",
   "title_sidebar": "Contents",
   "toc_cell": false,
   "toc_position": {},
   "toc_section_display": true,
   "toc_window_display": false
  }
 },
 "nbformat": 4,
 "nbformat_minor": 2
}
