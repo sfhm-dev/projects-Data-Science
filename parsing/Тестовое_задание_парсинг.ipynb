{
  "nbformat": 4,
  "nbformat_minor": 0,
  "metadata": {
    "colab": {
      "provenance": [],
      "collapsed_sections": []
    },
    "kernelspec": {
      "name": "python3",
      "display_name": "Python 3"
    },
    "language_info": {
      "name": "python"
    }
  },
  "cells": [
    {
      "cell_type": "code",
      "execution_count": null,
      "metadata": {
        "id": "CueFN5zzEdt_"
      },
      "outputs": [],
      "source": [
        "!pip install natasha"
      ]
    },
    {
      "cell_type": "code",
      "source": [
        "import pandas as pd\n",
        "from natasha import NamesExtractor\n",
        "import pymorphy2\n",
        "from natasha import MorphVocab"
      ],
      "metadata": {
        "id": "IuUWc6mWn37N"
      },
      "execution_count": 2,
      "outputs": []
    },
    {
      "cell_type": "code",
      "source": [
        "data = pd.read_csv('test_data.csv')\n",
        "data.head()"
      ],
      "metadata": {
        "id": "mj1K6lFN808D"
      },
      "execution_count": null,
      "outputs": []
    },
    {
      "cell_type": "code",
      "source": [
        "data.info()"
      ],
      "metadata": {
        "id": "k2WFvyZc9PJd"
      },
      "execution_count": null,
      "outputs": []
    },
    {
      "cell_type": "code",
      "source": [
        "# создание поля для флагов реплик\n",
        "data['flags'] = ''\n",
        "data"
      ],
      "metadata": {
        "id": "gu22FZot_Ado"
      },
      "execution_count": null,
      "outputs": []
    },
    {
      "cell_type": "code",
      "source": [
        "voc = MorphVocab()\n",
        "ext = NamesExtractor(voc)"
      ],
      "metadata": {
        "id": "MBpARLHi-dJU"
      },
      "execution_count": 6,
      "outputs": []
    },
    {
      "cell_type": "code",
      "source": [
        "for i in range(data['dlg_id'].max()+1):\n",
        "  greeting = False # флаг приветствия менеджера в диалоге\n",
        "  self_pres = False # флаг представления менеджера в реплике\n",
        "  name_pres = False # флаг имени менеджера в реплике\n",
        "  company_name = False # флаг названия компании в реплике\n",
        "  goodbye = False # флаг прощания менеджера в диалоге\n",
        "  print('Диалог №'+str(i))\n",
        "  slice_data = data[(data['dlg_id']==i)&(data['role']=='manager')]\n",
        "\n",
        "  # проверка приветствия, представления, названия компании и имени в первых 5 фразах\n",
        "  # взято с запасом, т.к. могут быть 3 однотипных фразы 'ало'\n",
        "  # при попытке связаться с клиентом \n",
        "  slice_greeting = slice_data[:5]\n",
        "  for piece in slice_greeting['text']:\n",
        "    if not greeting:\n",
        "      if any([x in piece.lower() for x in ('здравствуйте','добрый','добрый день',\n",
        "                                           'доброе утро', 'утро доброе', 'доброе',\n",
        "                                           'день добрый', 'приветствую', 'доброй',\n",
        "                                           'добрый вечер', 'вечер добрый',\n",
        "                                           'доброй ночи', 'ночи', 'ночи доброй',\n",
        "                                           'доброго времени суток')]):\n",
        "        print('Реплика с приветствием: ', piece)\n",
        "        data.loc[(data['text']==piece)&(data['dlg_id']==i)&(data['role']=='manager'), 'flags'] += 'greeting=True,'\n",
        "        greeting = True\n",
        "    \n",
        "    if not self_pres:\n",
        "      if any([x in piece.lower() for x in ('меня зовут','я представляю компанию',\n",
        "                                           'я представляю интерес компании',\n",
        "                                           'я менеджер компании',\n",
        "                                           'я представитель компании')]):\n",
        "        print('Реплика с представлением: ', piece)\n",
        "        data.loc[(data['text']==piece)&(data['dlg_id']==i)&(data['role']=='manager'), 'flags'] += 'self_pres=True,'\n",
        "        self_pres = True\n",
        "\n",
        "    if not name_pres:\n",
        "      text_greeting = piece.strip()\n",
        "      matches = ext(text_greeting)\n",
        "      name = 'unknown'\n",
        "      for index, match in enumerate(matches):\n",
        "        if match.fact.first != None:\n",
        "          name = str(match.fact.first)\n",
        "      if any([x in piece.lower() for x in ('меня зовут','мое имя','зовут меня',\n",
        "                                           'меня '+name+' зовут', 'имя '+name+' мое',\n",
        "                                           'звонит '+name, 'беспокоит '+name,\n",
        "                                           name+' беспокоит', 'это '+name)]):\n",
        "        print('Реплика с именем: '+piece+' | Имя менеджера: '+name)\n",
        "        data.loc[(data['text']==piece)&(data['dlg_id']==i)&(data['role']=='manager'), 'flags'] += 'name_pres=True,'\n",
        "        name_pres = True\n",
        "\n",
        "\n",
        "    # извлечь название компании без нейросети - (?)\n",
        "    if not company_name:\n",
        "      if 'компания' in piece.lower():\n",
        "        print('Реплика с названием компании: ', piece)\n",
        "        data.loc[(data['text']==piece)&(data['dlg_id']==i)&(data['role']=='manager'), 'flags'] += 'company_name=True,'\n",
        "        company_name = True\n",
        "\n",
        "  # проверка прощания в последних 5-ти фразах\n",
        "  slice_goodbye = slice_data[-5:]\n",
        "  for piece in slice_goodbye['text']:\n",
        "    if not goodbye:\n",
        "      if any([x in piece.lower() for x in ('до свидания','прощайте','доброго дня',\n",
        "                                            'доброго вечера', 'до связи', 'всего хорошего',\n",
        "                                            'хорошего дня', 'хорошего вечера', 'всего доброго')]):\n",
        "        print('Реплика с прощанием: ', piece)\n",
        "        data.loc[(data['text']==piece)&(data['dlg_id']==i)&(data['role']=='manager'), 'flags'] = 'goodbye=True,'\n",
        "        goodbye = True\n",
        "\n",
        "  print()"
      ],
      "metadata": {
        "id": "khWSNMum9JGe"
      },
      "execution_count": null,
      "outputs": []
    },
    {
      "cell_type": "code",
      "source": [
        "data['flags'] = data['flags'].apply(lambda x: x.strip(','))"
      ],
      "metadata": {
        "id": "9WLJUKfLExZ1"
      },
      "execution_count": 8,
      "outputs": []
    },
    {
      "cell_type": "code",
      "source": [
        "# все фразы из файла с ненулевыми флагами\n",
        "data[data['flags'].apply(lambda x: x if x!='' else 0)!=0]"
      ],
      "metadata": {
        "id": "Lb-xatMU_glV"
      },
      "execution_count": null,
      "outputs": []
    }
  ]
}